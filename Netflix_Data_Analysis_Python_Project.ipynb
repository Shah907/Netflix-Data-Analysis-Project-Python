{
 "cells": [
  {
   "cell_type": "markdown",
   "metadata": {
    "id": "Us-hyfLP3ks7"
   },
   "source": [
    "**Import Libaries and data**"
   ]
  },
  {
   "cell_type": "code",
   "execution_count": 1,
   "metadata": {
    "id": "8MdUx42UtEQZ"
   },
   "outputs": [],
   "source": [
    "import os\n",
    "import numpy as np # linear algebra operations\n",
    "import pandas as pd # used for data preparation\n",
    "import plotly.express as px #used for data visualization\n",
    "from textblob import TextBlob #used for sentiment analysis\n",
    "\n",
    "df = pd.read_csv('netflix.csv')\n"
   ]
  },
  {
   "cell_type": "markdown",
   "metadata": {
    "id": "hqLlSfZd3x3Q"
   },
   "source": [
    "## Checking number of rows and columns in data"
   ]
  },
  {
   "cell_type": "code",
   "execution_count": 2,
   "metadata": {
    "colab": {
     "base_uri": "https://localhost:8080/"
    },
    "id": "HLYVGQPluZmJ",
    "outputId": "7a1d845c-1c28-4fce-b630-9b6ad15964ff"
   },
   "outputs": [
    {
     "data": {
      "text/plain": [
       "(8807, 12)"
      ]
     },
     "execution_count": 2,
     "metadata": {},
     "output_type": "execute_result"
    }
   ],
   "source": [
    "df.shape"
   ]
  },
  {
   "cell_type": "markdown",
   "metadata": {
    "id": "qv2C5SNT38Er"
   },
   "source": [
    "# Checking content available in Dataset"
   ]
  },
  {
   "cell_type": "code",
   "execution_count": 3,
   "metadata": {
    "colab": {
     "base_uri": "https://localhost:8080/",
     "height": 625
    },
    "id": "NBVQOndEugLY",
    "outputId": "1ff129d9-d17f-4a03-d122-0fec04992806"
   },
   "outputs": [
    {
     "data": {
      "text/html": [
       "<div>\n",
       "<style scoped>\n",
       "    .dataframe tbody tr th:only-of-type {\n",
       "        vertical-align: middle;\n",
       "    }\n",
       "\n",
       "    .dataframe tbody tr th {\n",
       "        vertical-align: top;\n",
       "    }\n",
       "\n",
       "    .dataframe thead th {\n",
       "        text-align: right;\n",
       "    }\n",
       "</style>\n",
       "<table border=\"1\" class=\"dataframe\">\n",
       "  <thead>\n",
       "    <tr style=\"text-align: right;\">\n",
       "      <th></th>\n",
       "      <th>show_id</th>\n",
       "      <th>type</th>\n",
       "      <th>title</th>\n",
       "      <th>director</th>\n",
       "      <th>cast</th>\n",
       "      <th>country</th>\n",
       "      <th>date_added</th>\n",
       "      <th>release_year</th>\n",
       "      <th>rating</th>\n",
       "      <th>duration</th>\n",
       "      <th>listed_in</th>\n",
       "      <th>description</th>\n",
       "    </tr>\n",
       "  </thead>\n",
       "  <tbody>\n",
       "    <tr>\n",
       "      <th>0</th>\n",
       "      <td>s1</td>\n",
       "      <td>Movie</td>\n",
       "      <td>Dick Johnson Is Dead</td>\n",
       "      <td>Kirsten Johnson</td>\n",
       "      <td>NaN</td>\n",
       "      <td>United States</td>\n",
       "      <td>September 25, 2021</td>\n",
       "      <td>2020</td>\n",
       "      <td>PG-13</td>\n",
       "      <td>90 min</td>\n",
       "      <td>Documentaries</td>\n",
       "      <td>As her father nears the end of his life, filmm...</td>\n",
       "    </tr>\n",
       "    <tr>\n",
       "      <th>1</th>\n",
       "      <td>s2</td>\n",
       "      <td>TV Show</td>\n",
       "      <td>Blood &amp; Water</td>\n",
       "      <td>NaN</td>\n",
       "      <td>Ama Qamata, Khosi Ngema, Gail Mabalane, Thaban...</td>\n",
       "      <td>South Africa</td>\n",
       "      <td>September 24, 2021</td>\n",
       "      <td>2021</td>\n",
       "      <td>TV-MA</td>\n",
       "      <td>2 Seasons</td>\n",
       "      <td>International TV Shows, TV Dramas, TV Mysteries</td>\n",
       "      <td>After crossing paths at a party, a Cape Town t...</td>\n",
       "    </tr>\n",
       "    <tr>\n",
       "      <th>2</th>\n",
       "      <td>s3</td>\n",
       "      <td>TV Show</td>\n",
       "      <td>Ganglands</td>\n",
       "      <td>Julien Leclercq</td>\n",
       "      <td>Sami Bouajila, Tracy Gotoas, Samuel Jouy, Nabi...</td>\n",
       "      <td>NaN</td>\n",
       "      <td>September 24, 2021</td>\n",
       "      <td>2021</td>\n",
       "      <td>TV-MA</td>\n",
       "      <td>1 Season</td>\n",
       "      <td>Crime TV Shows, International TV Shows, TV Act...</td>\n",
       "      <td>To protect his family from a powerful drug lor...</td>\n",
       "    </tr>\n",
       "    <tr>\n",
       "      <th>3</th>\n",
       "      <td>s4</td>\n",
       "      <td>TV Show</td>\n",
       "      <td>Jailbirds New Orleans</td>\n",
       "      <td>NaN</td>\n",
       "      <td>NaN</td>\n",
       "      <td>NaN</td>\n",
       "      <td>September 24, 2021</td>\n",
       "      <td>2021</td>\n",
       "      <td>TV-MA</td>\n",
       "      <td>1 Season</td>\n",
       "      <td>Docuseries, Reality TV</td>\n",
       "      <td>Feuds, flirtations and toilet talk go down amo...</td>\n",
       "    </tr>\n",
       "    <tr>\n",
       "      <th>4</th>\n",
       "      <td>s5</td>\n",
       "      <td>TV Show</td>\n",
       "      <td>Kota Factory</td>\n",
       "      <td>NaN</td>\n",
       "      <td>Mayur More, Jitendra Kumar, Ranjan Raj, Alam K...</td>\n",
       "      <td>India</td>\n",
       "      <td>September 24, 2021</td>\n",
       "      <td>2021</td>\n",
       "      <td>TV-MA</td>\n",
       "      <td>2 Seasons</td>\n",
       "      <td>International TV Shows, Romantic TV Shows, TV ...</td>\n",
       "      <td>In a city of coaching centers known to train I...</td>\n",
       "    </tr>\n",
       "  </tbody>\n",
       "</table>\n",
       "</div>"
      ],
      "text/plain": [
       "  show_id     type                  title         director  \\\n",
       "0      s1    Movie   Dick Johnson Is Dead  Kirsten Johnson   \n",
       "1      s2  TV Show          Blood & Water              NaN   \n",
       "2      s3  TV Show              Ganglands  Julien Leclercq   \n",
       "3      s4  TV Show  Jailbirds New Orleans              NaN   \n",
       "4      s5  TV Show           Kota Factory              NaN   \n",
       "\n",
       "                                                cast        country  \\\n",
       "0                                                NaN  United States   \n",
       "1  Ama Qamata, Khosi Ngema, Gail Mabalane, Thaban...   South Africa   \n",
       "2  Sami Bouajila, Tracy Gotoas, Samuel Jouy, Nabi...            NaN   \n",
       "3                                                NaN            NaN   \n",
       "4  Mayur More, Jitendra Kumar, Ranjan Raj, Alam K...          India   \n",
       "\n",
       "           date_added  release_year rating   duration  \\\n",
       "0  September 25, 2021          2020  PG-13     90 min   \n",
       "1  September 24, 2021          2021  TV-MA  2 Seasons   \n",
       "2  September 24, 2021          2021  TV-MA   1 Season   \n",
       "3  September 24, 2021          2021  TV-MA   1 Season   \n",
       "4  September 24, 2021          2021  TV-MA  2 Seasons   \n",
       "\n",
       "                                           listed_in  \\\n",
       "0                                      Documentaries   \n",
       "1    International TV Shows, TV Dramas, TV Mysteries   \n",
       "2  Crime TV Shows, International TV Shows, TV Act...   \n",
       "3                             Docuseries, Reality TV   \n",
       "4  International TV Shows, Romantic TV Shows, TV ...   \n",
       "\n",
       "                                         description  \n",
       "0  As her father nears the end of his life, filmm...  \n",
       "1  After crossing paths at a party, a Cape Town t...  \n",
       "2  To protect his family from a powerful drug lor...  \n",
       "3  Feuds, flirtations and toilet talk go down amo...  \n",
       "4  In a city of coaching centers known to train I...  "
      ]
     },
     "execution_count": 3,
     "metadata": {},
     "output_type": "execute_result"
    }
   ],
   "source": [
    "df.head()"
   ]
  },
  {
   "cell_type": "markdown",
   "metadata": {
    "id": "qdkuPqZm4FrD"
   },
   "source": [
    "# How to check columns name of dataset"
   ]
  },
  {
   "cell_type": "code",
   "execution_count": 4,
   "metadata": {
    "colab": {
     "base_uri": "https://localhost:8080/"
    },
    "id": "Ec5H7YyMumZA",
    "outputId": "5c06b035-9ba1-4f15-d871-e25cd5570a24"
   },
   "outputs": [
    {
     "data": {
      "text/plain": [
       "Index(['show_id', 'type', 'title', 'director', 'cast', 'country', 'date_added',\n",
       "       'release_year', 'rating', 'duration', 'listed_in', 'description'],\n",
       "      dtype='object')"
      ]
     },
     "execution_count": 4,
     "metadata": {},
     "output_type": "execute_result"
    }
   ],
   "source": [
    "df.columns"
   ]
  },
  {
   "cell_type": "markdown",
   "metadata": {
    "id": "QtAsCJLt4QzK"
   },
   "source": [
    "# Taking the count of ratings available"
   ]
  },
  {
   "cell_type": "code",
   "execution_count": 5,
   "metadata": {
    "colab": {
     "base_uri": "https://localhost:8080/"
    },
    "id": "N4DQsj-yu3XZ",
    "outputId": "293a06dc-80f6-4817-ac0e-47dd1c85df4f"
   },
   "outputs": [
    {
     "name": "stdout",
     "output_type": "stream",
     "text": [
      "      rating  counts\n",
      "0     66 min       1\n",
      "1     74 min       1\n",
      "2     84 min       1\n",
      "3          G      41\n",
      "4      NC-17       3\n",
      "5         NR      80\n",
      "6         PG     287\n",
      "7      PG-13     490\n",
      "8          R     799\n",
      "9      TV-14    2160\n",
      "10      TV-G     220\n",
      "11     TV-MA    3207\n",
      "12     TV-PG     863\n",
      "13      TV-Y     307\n",
      "14     TV-Y7     334\n",
      "15  TV-Y7-FV       6\n",
      "16        UR       3\n"
     ]
    }
   ],
   "source": [
    "x = df.groupby(['rating']).size().reset_index(name='counts')\n",
    "print(x)"
   ]
  },
  {
   "cell_type": "markdown",
   "metadata": {
    "id": "E3HSgrlW4Z7S"
   },
   "source": [
    "# Creating the Piechart based on Content rating"
   ]
  },
  {
   "cell_type": "code",
   "execution_count": 6,
   "metadata": {
    "colab": {
     "base_uri": "https://localhost:8080/",
     "height": 542
    },
    "id": "TyuLf2mSwUSs",
    "outputId": "dbfd0d43-2c65-430c-85e6-15a97428361e"
   },
   "outputs": [
    {
     "data": {
      "application/vnd.plotly.v1+json": {
       "config": {
        "plotlyServerURL": "https://plot.ly"
       },
       "data": [
        {
         "domain": {
          "x": [
           0,
           1
          ],
          "y": [
           0,
           1
          ]
         },
         "hovertemplate": "rating=%{label}<br>counts=%{value}<extra></extra>",
         "labels": [
          "66 min",
          "74 min",
          "84 min",
          "G",
          "NC-17",
          "NR",
          "PG",
          "PG-13",
          "R",
          "TV-14",
          "TV-G",
          "TV-MA",
          "TV-PG",
          "TV-Y",
          "TV-Y7",
          "TV-Y7-FV",
          "UR"
         ],
         "legendgroup": "",
         "name": "",
         "showlegend": true,
         "type": "pie",
         "values": [
          1,
          1,
          1,
          41,
          3,
          80,
          287,
          490,
          799,
          2160,
          220,
          3207,
          863,
          307,
          334,
          6,
          3
         ]
        }
       ],
       "layout": {
        "legend": {
         "tracegroupgap": 0
        },
        "template": {
         "data": {
          "bar": [
           {
            "error_x": {
             "color": "#2a3f5f"
            },
            "error_y": {
             "color": "#2a3f5f"
            },
            "marker": {
             "line": {
              "color": "#E5ECF6",
              "width": 0.5
             },
             "pattern": {
              "fillmode": "overlay",
              "size": 10,
              "solidity": 0.2
             }
            },
            "type": "bar"
           }
          ],
          "barpolar": [
           {
            "marker": {
             "line": {
              "color": "#E5ECF6",
              "width": 0.5
             },
             "pattern": {
              "fillmode": "overlay",
              "size": 10,
              "solidity": 0.2
             }
            },
            "type": "barpolar"
           }
          ],
          "carpet": [
           {
            "aaxis": {
             "endlinecolor": "#2a3f5f",
             "gridcolor": "white",
             "linecolor": "white",
             "minorgridcolor": "white",
             "startlinecolor": "#2a3f5f"
            },
            "baxis": {
             "endlinecolor": "#2a3f5f",
             "gridcolor": "white",
             "linecolor": "white",
             "minorgridcolor": "white",
             "startlinecolor": "#2a3f5f"
            },
            "type": "carpet"
           }
          ],
          "choropleth": [
           {
            "colorbar": {
             "outlinewidth": 0,
             "ticks": ""
            },
            "type": "choropleth"
           }
          ],
          "contour": [
           {
            "colorbar": {
             "outlinewidth": 0,
             "ticks": ""
            },
            "colorscale": [
             [
              0,
              "#0d0887"
             ],
             [
              0.1111111111111111,
              "#46039f"
             ],
             [
              0.2222222222222222,
              "#7201a8"
             ],
             [
              0.3333333333333333,
              "#9c179e"
             ],
             [
              0.4444444444444444,
              "#bd3786"
             ],
             [
              0.5555555555555556,
              "#d8576b"
             ],
             [
              0.6666666666666666,
              "#ed7953"
             ],
             [
              0.7777777777777778,
              "#fb9f3a"
             ],
             [
              0.8888888888888888,
              "#fdca26"
             ],
             [
              1,
              "#f0f921"
             ]
            ],
            "type": "contour"
           }
          ],
          "contourcarpet": [
           {
            "colorbar": {
             "outlinewidth": 0,
             "ticks": ""
            },
            "type": "contourcarpet"
           }
          ],
          "heatmap": [
           {
            "colorbar": {
             "outlinewidth": 0,
             "ticks": ""
            },
            "colorscale": [
             [
              0,
              "#0d0887"
             ],
             [
              0.1111111111111111,
              "#46039f"
             ],
             [
              0.2222222222222222,
              "#7201a8"
             ],
             [
              0.3333333333333333,
              "#9c179e"
             ],
             [
              0.4444444444444444,
              "#bd3786"
             ],
             [
              0.5555555555555556,
              "#d8576b"
             ],
             [
              0.6666666666666666,
              "#ed7953"
             ],
             [
              0.7777777777777778,
              "#fb9f3a"
             ],
             [
              0.8888888888888888,
              "#fdca26"
             ],
             [
              1,
              "#f0f921"
             ]
            ],
            "type": "heatmap"
           }
          ],
          "heatmapgl": [
           {
            "colorbar": {
             "outlinewidth": 0,
             "ticks": ""
            },
            "colorscale": [
             [
              0,
              "#0d0887"
             ],
             [
              0.1111111111111111,
              "#46039f"
             ],
             [
              0.2222222222222222,
              "#7201a8"
             ],
             [
              0.3333333333333333,
              "#9c179e"
             ],
             [
              0.4444444444444444,
              "#bd3786"
             ],
             [
              0.5555555555555556,
              "#d8576b"
             ],
             [
              0.6666666666666666,
              "#ed7953"
             ],
             [
              0.7777777777777778,
              "#fb9f3a"
             ],
             [
              0.8888888888888888,
              "#fdca26"
             ],
             [
              1,
              "#f0f921"
             ]
            ],
            "type": "heatmapgl"
           }
          ],
          "histogram": [
           {
            "marker": {
             "pattern": {
              "fillmode": "overlay",
              "size": 10,
              "solidity": 0.2
             }
            },
            "type": "histogram"
           }
          ],
          "histogram2d": [
           {
            "colorbar": {
             "outlinewidth": 0,
             "ticks": ""
            },
            "colorscale": [
             [
              0,
              "#0d0887"
             ],
             [
              0.1111111111111111,
              "#46039f"
             ],
             [
              0.2222222222222222,
              "#7201a8"
             ],
             [
              0.3333333333333333,
              "#9c179e"
             ],
             [
              0.4444444444444444,
              "#bd3786"
             ],
             [
              0.5555555555555556,
              "#d8576b"
             ],
             [
              0.6666666666666666,
              "#ed7953"
             ],
             [
              0.7777777777777778,
              "#fb9f3a"
             ],
             [
              0.8888888888888888,
              "#fdca26"
             ],
             [
              1,
              "#f0f921"
             ]
            ],
            "type": "histogram2d"
           }
          ],
          "histogram2dcontour": [
           {
            "colorbar": {
             "outlinewidth": 0,
             "ticks": ""
            },
            "colorscale": [
             [
              0,
              "#0d0887"
             ],
             [
              0.1111111111111111,
              "#46039f"
             ],
             [
              0.2222222222222222,
              "#7201a8"
             ],
             [
              0.3333333333333333,
              "#9c179e"
             ],
             [
              0.4444444444444444,
              "#bd3786"
             ],
             [
              0.5555555555555556,
              "#d8576b"
             ],
             [
              0.6666666666666666,
              "#ed7953"
             ],
             [
              0.7777777777777778,
              "#fb9f3a"
             ],
             [
              0.8888888888888888,
              "#fdca26"
             ],
             [
              1,
              "#f0f921"
             ]
            ],
            "type": "histogram2dcontour"
           }
          ],
          "mesh3d": [
           {
            "colorbar": {
             "outlinewidth": 0,
             "ticks": ""
            },
            "type": "mesh3d"
           }
          ],
          "parcoords": [
           {
            "line": {
             "colorbar": {
              "outlinewidth": 0,
              "ticks": ""
             }
            },
            "type": "parcoords"
           }
          ],
          "pie": [
           {
            "automargin": true,
            "type": "pie"
           }
          ],
          "scatter": [
           {
            "fillpattern": {
             "fillmode": "overlay",
             "size": 10,
             "solidity": 0.2
            },
            "type": "scatter"
           }
          ],
          "scatter3d": [
           {
            "line": {
             "colorbar": {
              "outlinewidth": 0,
              "ticks": ""
             }
            },
            "marker": {
             "colorbar": {
              "outlinewidth": 0,
              "ticks": ""
             }
            },
            "type": "scatter3d"
           }
          ],
          "scattercarpet": [
           {
            "marker": {
             "colorbar": {
              "outlinewidth": 0,
              "ticks": ""
             }
            },
            "type": "scattercarpet"
           }
          ],
          "scattergeo": [
           {
            "marker": {
             "colorbar": {
              "outlinewidth": 0,
              "ticks": ""
             }
            },
            "type": "scattergeo"
           }
          ],
          "scattergl": [
           {
            "marker": {
             "colorbar": {
              "outlinewidth": 0,
              "ticks": ""
             }
            },
            "type": "scattergl"
           }
          ],
          "scattermapbox": [
           {
            "marker": {
             "colorbar": {
              "outlinewidth": 0,
              "ticks": ""
             }
            },
            "type": "scattermapbox"
           }
          ],
          "scatterpolar": [
           {
            "marker": {
             "colorbar": {
              "outlinewidth": 0,
              "ticks": ""
             }
            },
            "type": "scatterpolar"
           }
          ],
          "scatterpolargl": [
           {
            "marker": {
             "colorbar": {
              "outlinewidth": 0,
              "ticks": ""
             }
            },
            "type": "scatterpolargl"
           }
          ],
          "scatterternary": [
           {
            "marker": {
             "colorbar": {
              "outlinewidth": 0,
              "ticks": ""
             }
            },
            "type": "scatterternary"
           }
          ],
          "surface": [
           {
            "colorbar": {
             "outlinewidth": 0,
             "ticks": ""
            },
            "colorscale": [
             [
              0,
              "#0d0887"
             ],
             [
              0.1111111111111111,
              "#46039f"
             ],
             [
              0.2222222222222222,
              "#7201a8"
             ],
             [
              0.3333333333333333,
              "#9c179e"
             ],
             [
              0.4444444444444444,
              "#bd3786"
             ],
             [
              0.5555555555555556,
              "#d8576b"
             ],
             [
              0.6666666666666666,
              "#ed7953"
             ],
             [
              0.7777777777777778,
              "#fb9f3a"
             ],
             [
              0.8888888888888888,
              "#fdca26"
             ],
             [
              1,
              "#f0f921"
             ]
            ],
            "type": "surface"
           }
          ],
          "table": [
           {
            "cells": {
             "fill": {
              "color": "#EBF0F8"
             },
             "line": {
              "color": "white"
             }
            },
            "header": {
             "fill": {
              "color": "#C8D4E3"
             },
             "line": {
              "color": "white"
             }
            },
            "type": "table"
           }
          ]
         },
         "layout": {
          "annotationdefaults": {
           "arrowcolor": "#2a3f5f",
           "arrowhead": 0,
           "arrowwidth": 1
          },
          "autotypenumbers": "strict",
          "coloraxis": {
           "colorbar": {
            "outlinewidth": 0,
            "ticks": ""
           }
          },
          "colorscale": {
           "diverging": [
            [
             0,
             "#8e0152"
            ],
            [
             0.1,
             "#c51b7d"
            ],
            [
             0.2,
             "#de77ae"
            ],
            [
             0.3,
             "#f1b6da"
            ],
            [
             0.4,
             "#fde0ef"
            ],
            [
             0.5,
             "#f7f7f7"
            ],
            [
             0.6,
             "#e6f5d0"
            ],
            [
             0.7,
             "#b8e186"
            ],
            [
             0.8,
             "#7fbc41"
            ],
            [
             0.9,
             "#4d9221"
            ],
            [
             1,
             "#276419"
            ]
           ],
           "sequential": [
            [
             0,
             "#0d0887"
            ],
            [
             0.1111111111111111,
             "#46039f"
            ],
            [
             0.2222222222222222,
             "#7201a8"
            ],
            [
             0.3333333333333333,
             "#9c179e"
            ],
            [
             0.4444444444444444,
             "#bd3786"
            ],
            [
             0.5555555555555556,
             "#d8576b"
            ],
            [
             0.6666666666666666,
             "#ed7953"
            ],
            [
             0.7777777777777778,
             "#fb9f3a"
            ],
            [
             0.8888888888888888,
             "#fdca26"
            ],
            [
             1,
             "#f0f921"
            ]
           ],
           "sequentialminus": [
            [
             0,
             "#0d0887"
            ],
            [
             0.1111111111111111,
             "#46039f"
            ],
            [
             0.2222222222222222,
             "#7201a8"
            ],
            [
             0.3333333333333333,
             "#9c179e"
            ],
            [
             0.4444444444444444,
             "#bd3786"
            ],
            [
             0.5555555555555556,
             "#d8576b"
            ],
            [
             0.6666666666666666,
             "#ed7953"
            ],
            [
             0.7777777777777778,
             "#fb9f3a"
            ],
            [
             0.8888888888888888,
             "#fdca26"
            ],
            [
             1,
             "#f0f921"
            ]
           ]
          },
          "colorway": [
           "#636efa",
           "#EF553B",
           "#00cc96",
           "#ab63fa",
           "#FFA15A",
           "#19d3f3",
           "#FF6692",
           "#B6E880",
           "#FF97FF",
           "#FECB52"
          ],
          "font": {
           "color": "#2a3f5f"
          },
          "geo": {
           "bgcolor": "white",
           "lakecolor": "white",
           "landcolor": "#E5ECF6",
           "showlakes": true,
           "showland": true,
           "subunitcolor": "white"
          },
          "hoverlabel": {
           "align": "left"
          },
          "hovermode": "closest",
          "mapbox": {
           "style": "light"
          },
          "paper_bgcolor": "white",
          "plot_bgcolor": "#E5ECF6",
          "polar": {
           "angularaxis": {
            "gridcolor": "white",
            "linecolor": "white",
            "ticks": ""
           },
           "bgcolor": "#E5ECF6",
           "radialaxis": {
            "gridcolor": "white",
            "linecolor": "white",
            "ticks": ""
           }
          },
          "scene": {
           "xaxis": {
            "backgroundcolor": "#E5ECF6",
            "gridcolor": "white",
            "gridwidth": 2,
            "linecolor": "white",
            "showbackground": true,
            "ticks": "",
            "zerolinecolor": "white"
           },
           "yaxis": {
            "backgroundcolor": "#E5ECF6",
            "gridcolor": "white",
            "gridwidth": 2,
            "linecolor": "white",
            "showbackground": true,
            "ticks": "",
            "zerolinecolor": "white"
           },
           "zaxis": {
            "backgroundcolor": "#E5ECF6",
            "gridcolor": "white",
            "gridwidth": 2,
            "linecolor": "white",
            "showbackground": true,
            "ticks": "",
            "zerolinecolor": "white"
           }
          },
          "shapedefaults": {
           "line": {
            "color": "#2a3f5f"
           }
          },
          "ternary": {
           "aaxis": {
            "gridcolor": "white",
            "linecolor": "white",
            "ticks": ""
           },
           "baxis": {
            "gridcolor": "white",
            "linecolor": "white",
            "ticks": ""
           },
           "bgcolor": "#E5ECF6",
           "caxis": {
            "gridcolor": "white",
            "linecolor": "white",
            "ticks": ""
           }
          },
          "title": {
           "x": 0.05
          },
          "xaxis": {
           "automargin": true,
           "gridcolor": "white",
           "linecolor": "white",
           "ticks": "",
           "title": {
            "standoff": 15
           },
           "zerolinecolor": "white",
           "zerolinewidth": 2
          },
          "yaxis": {
           "automargin": true,
           "gridcolor": "white",
           "linecolor": "white",
           "ticks": "",
           "title": {
            "standoff": 15
           },
           "zerolinecolor": "white",
           "zerolinewidth": 2
          }
         }
        },
        "title": {
         "text": "Distribution of content ratings on Netflix"
        }
       }
      }
     },
     "metadata": {},
     "output_type": "display_data"
    }
   ],
   "source": [
    "pieChart = px.pie(x, values='counts', names='rating', title='Distribution of content ratings on Netflix')\n",
    "pieChart.show()"
   ]
  },
  {
   "cell_type": "markdown",
   "metadata": {
    "id": "SmsrqzTe4lX-"
   },
   "source": [
    "# Analyzing the top 5 Directors on Netflix"
   ]
  },
  {
   "cell_type": "code",
   "execution_count": 7,
   "metadata": {
    "colab": {
     "base_uri": "https://localhost:8080/",
     "height": 406
    },
    "id": "CrrxEgLCxRm6",
    "outputId": "97646737-3b53-4d92-d005-fea19cc73199"
   },
   "outputs": [
    {
     "data": {
      "text/html": [
       "<div>\n",
       "<style scoped>\n",
       "    .dataframe tbody tr th:only-of-type {\n",
       "        vertical-align: middle;\n",
       "    }\n",
       "\n",
       "    .dataframe tbody tr th {\n",
       "        vertical-align: top;\n",
       "    }\n",
       "\n",
       "    .dataframe thead th {\n",
       "        text-align: right;\n",
       "    }\n",
       "</style>\n",
       "<table border=\"1\" class=\"dataframe\">\n",
       "  <thead>\n",
       "    <tr style=\"text-align: right;\">\n",
       "      <th></th>\n",
       "      <th>show_id</th>\n",
       "      <th>type</th>\n",
       "      <th>title</th>\n",
       "      <th>director</th>\n",
       "      <th>cast</th>\n",
       "      <th>country</th>\n",
       "      <th>date_added</th>\n",
       "      <th>release_year</th>\n",
       "      <th>rating</th>\n",
       "      <th>duration</th>\n",
       "      <th>listed_in</th>\n",
       "      <th>description</th>\n",
       "    </tr>\n",
       "  </thead>\n",
       "  <tbody>\n",
       "    <tr>\n",
       "      <th>0</th>\n",
       "      <td>s1</td>\n",
       "      <td>Movie</td>\n",
       "      <td>Dick Johnson Is Dead</td>\n",
       "      <td>Kirsten Johnson</td>\n",
       "      <td>NaN</td>\n",
       "      <td>United States</td>\n",
       "      <td>September 25, 2021</td>\n",
       "      <td>2020</td>\n",
       "      <td>PG-13</td>\n",
       "      <td>90 min</td>\n",
       "      <td>Documentaries</td>\n",
       "      <td>As her father nears the end of his life, filmm...</td>\n",
       "    </tr>\n",
       "    <tr>\n",
       "      <th>1</th>\n",
       "      <td>s2</td>\n",
       "      <td>TV Show</td>\n",
       "      <td>Blood &amp; Water</td>\n",
       "      <td>Director not specified</td>\n",
       "      <td>Ama Qamata, Khosi Ngema, Gail Mabalane, Thaban...</td>\n",
       "      <td>South Africa</td>\n",
       "      <td>September 24, 2021</td>\n",
       "      <td>2021</td>\n",
       "      <td>TV-MA</td>\n",
       "      <td>2 Seasons</td>\n",
       "      <td>International TV Shows, TV Dramas, TV Mysteries</td>\n",
       "      <td>After crossing paths at a party, a Cape Town t...</td>\n",
       "    </tr>\n",
       "    <tr>\n",
       "      <th>2</th>\n",
       "      <td>s3</td>\n",
       "      <td>TV Show</td>\n",
       "      <td>Ganglands</td>\n",
       "      <td>Julien Leclercq</td>\n",
       "      <td>Sami Bouajila, Tracy Gotoas, Samuel Jouy, Nabi...</td>\n",
       "      <td>NaN</td>\n",
       "      <td>September 24, 2021</td>\n",
       "      <td>2021</td>\n",
       "      <td>TV-MA</td>\n",
       "      <td>1 Season</td>\n",
       "      <td>Crime TV Shows, International TV Shows, TV Act...</td>\n",
       "      <td>To protect his family from a powerful drug lor...</td>\n",
       "    </tr>\n",
       "    <tr>\n",
       "      <th>3</th>\n",
       "      <td>s4</td>\n",
       "      <td>TV Show</td>\n",
       "      <td>Jailbirds New Orleans</td>\n",
       "      <td>Director not specified</td>\n",
       "      <td>NaN</td>\n",
       "      <td>NaN</td>\n",
       "      <td>September 24, 2021</td>\n",
       "      <td>2021</td>\n",
       "      <td>TV-MA</td>\n",
       "      <td>1 Season</td>\n",
       "      <td>Docuseries, Reality TV</td>\n",
       "      <td>Feuds, flirtations and toilet talk go down amo...</td>\n",
       "    </tr>\n",
       "    <tr>\n",
       "      <th>4</th>\n",
       "      <td>s5</td>\n",
       "      <td>TV Show</td>\n",
       "      <td>Kota Factory</td>\n",
       "      <td>Director not specified</td>\n",
       "      <td>Mayur More, Jitendra Kumar, Ranjan Raj, Alam K...</td>\n",
       "      <td>India</td>\n",
       "      <td>September 24, 2021</td>\n",
       "      <td>2021</td>\n",
       "      <td>TV-MA</td>\n",
       "      <td>2 Seasons</td>\n",
       "      <td>International TV Shows, Romantic TV Shows, TV ...</td>\n",
       "      <td>In a city of coaching centers known to train I...</td>\n",
       "    </tr>\n",
       "  </tbody>\n",
       "</table>\n",
       "</div>"
      ],
      "text/plain": [
       "  show_id     type                  title                director  \\\n",
       "0      s1    Movie   Dick Johnson Is Dead         Kirsten Johnson   \n",
       "1      s2  TV Show          Blood & Water  Director not specified   \n",
       "2      s3  TV Show              Ganglands         Julien Leclercq   \n",
       "3      s4  TV Show  Jailbirds New Orleans  Director not specified   \n",
       "4      s5  TV Show           Kota Factory  Director not specified   \n",
       "\n",
       "                                                cast        country  \\\n",
       "0                                                NaN  United States   \n",
       "1  Ama Qamata, Khosi Ngema, Gail Mabalane, Thaban...   South Africa   \n",
       "2  Sami Bouajila, Tracy Gotoas, Samuel Jouy, Nabi...            NaN   \n",
       "3                                                NaN            NaN   \n",
       "4  Mayur More, Jitendra Kumar, Ranjan Raj, Alam K...          India   \n",
       "\n",
       "           date_added  release_year rating   duration  \\\n",
       "0  September 25, 2021          2020  PG-13     90 min   \n",
       "1  September 24, 2021          2021  TV-MA  2 Seasons   \n",
       "2  September 24, 2021          2021  TV-MA   1 Season   \n",
       "3  September 24, 2021          2021  TV-MA   1 Season   \n",
       "4  September 24, 2021          2021  TV-MA  2 Seasons   \n",
       "\n",
       "                                           listed_in  \\\n",
       "0                                      Documentaries   \n",
       "1    International TV Shows, TV Dramas, TV Mysteries   \n",
       "2  Crime TV Shows, International TV Shows, TV Act...   \n",
       "3                             Docuseries, Reality TV   \n",
       "4  International TV Shows, Romantic TV Shows, TV ...   \n",
       "\n",
       "                                         description  \n",
       "0  As her father nears the end of his life, filmm...  \n",
       "1  After crossing paths at a party, a Cape Town t...  \n",
       "2  To protect his family from a powerful drug lor...  \n",
       "3  Feuds, flirtations and toilet talk go down amo...  \n",
       "4  In a city of coaching centers known to train I...  "
      ]
     },
     "execution_count": 7,
     "metadata": {},
     "output_type": "execute_result"
    }
   ],
   "source": [
    "df['director']=df['director'].fillna('Director not specified')\n",
    "df.head()"
   ]
  },
  {
   "cell_type": "code",
   "execution_count": 8,
   "metadata": {
    "colab": {
     "base_uri": "https://localhost:8080/"
    },
    "id": "_PQNU_B4xnIv",
    "outputId": "7243c90a-0ab9-4d80-b4b1-33ed04f1b68f"
   },
   "outputs": [
    {
     "name": "stdout",
     "output_type": "stream",
     "text": [
      "Empty DataFrame\n",
      "Columns: []\n",
      "Index: []\n"
     ]
    }
   ],
   "source": [
    "directors_list = pd.DataFrame()\n",
    "print(directors_list)"
   ]
  },
  {
   "cell_type": "code",
   "execution_count": 9,
   "metadata": {
    "colab": {
     "base_uri": "https://localhost:8080/"
    },
    "id": "vZZVxCepybGx",
    "outputId": "1ae24249-e29b-4563-8ef1-5ae67fdf4470"
   },
   "outputs": [
    {
     "name": "stdout",
     "output_type": "stream",
     "text": [
      "0     0           Kirsten Johnson\n",
      "1     0    Director not specified\n",
      "2     0           Julien Leclercq\n",
      "3     0    Director not specified\n",
      "4     0    Director not specified\n",
      "                    ...          \n",
      "8802  0             David Fincher\n",
      "8803  0    Director not specified\n",
      "8804  0           Ruben Fleischer\n",
      "8805  0              Peter Hewitt\n",
      "8806  0               Mozez Singh\n",
      "Length: 9612, dtype: object\n"
     ]
    }
   ],
   "source": [
    "directors_list = df['director'].str.split(',', expand=True).stack()\n",
    "print(directors_list)"
   ]
  },
  {
   "cell_type": "code",
   "execution_count": 10,
   "metadata": {
    "colab": {
     "base_uri": "https://localhost:8080/"
    },
    "id": "U2gdLYx4zaT8",
    "outputId": "4854afe4-03f7-4a4f-a2fc-13003638afaf"
   },
   "outputs": [
    {
     "name": "stdout",
     "output_type": "stream",
     "text": [
      "                             0\n",
      "0    0         Kirsten Johnson\n",
      "1    0  Director not specified\n",
      "2    0         Julien Leclercq\n",
      "3    0  Director not specified\n",
      "4    0  Director not specified\n",
      "...                        ...\n",
      "8802 0           David Fincher\n",
      "8803 0  Director not specified\n",
      "8804 0         Ruben Fleischer\n",
      "8805 0            Peter Hewitt\n",
      "8806 0             Mozez Singh\n",
      "\n",
      "[9612 rows x 1 columns]\n"
     ]
    }
   ],
   "source": [
    "directors_list = directors_list.to_frame()\n",
    "print(directors_list)"
   ]
  },
  {
   "cell_type": "code",
   "execution_count": 11,
   "metadata": {
    "colab": {
     "base_uri": "https://localhost:8080/"
    },
    "id": "eYzk3Z9fzu9x",
    "outputId": "3fe15689-ee86-4fc2-f1a0-0963d7e351ab"
   },
   "outputs": [
    {
     "name": "stdout",
     "output_type": "stream",
     "text": [
      "                      Director\n",
      "0    0         Kirsten Johnson\n",
      "1    0  Director not specified\n",
      "2    0         Julien Leclercq\n",
      "3    0  Director not specified\n",
      "4    0  Director not specified\n",
      "...                        ...\n",
      "8802 0           David Fincher\n",
      "8803 0  Director not specified\n",
      "8804 0         Ruben Fleischer\n",
      "8805 0            Peter Hewitt\n",
      "8806 0             Mozez Singh\n",
      "\n",
      "[9612 rows x 1 columns]\n"
     ]
    }
   ],
   "source": [
    "directors_list.columns = ['Director']\n",
    "print(directors_list)"
   ]
  },
  {
   "cell_type": "code",
   "execution_count": 12,
   "metadata": {
    "colab": {
     "base_uri": "https://localhost:8080/"
    },
    "id": "V6K9hE3nz3vp",
    "outputId": "d064b999-fd1c-4f12-c0d4-4245782da029"
   },
   "outputs": [
    {
     "name": "stdout",
     "output_type": "stream",
     "text": [
      "                       Director  Total Count\n",
      "0                Aaron Moorhead            2\n",
      "1                   Aaron Woolf            1\n",
      "2      Abbas Alibhai Burmawalla            1\n",
      "3              Abdullah Al Noor            1\n",
      "4           Abhinav Shiv Tiwari            1\n",
      "...                         ...          ...\n",
      "5116                Çagan Irmak            1\n",
      "5117           Ísold Uggadóttir            1\n",
      "5118        Óskar Thór Axelsson            1\n",
      "5119           Ömer Faruk Sorak            2\n",
      "5120               Şenol Sönmez            2\n",
      "\n",
      "[5121 rows x 2 columns]\n"
     ]
    }
   ],
   "source": [
    "directors = directors_list.groupby(['Director']).size().reset_index(name='Total Count')\n",
    "print(directors)"
   ]
  },
  {
   "cell_type": "code",
   "execution_count": 13,
   "metadata": {
    "id": "LTlaVkJU0gQT"
   },
   "outputs": [],
   "source": [
    "directors = directors[directors.Director != 'Director not specified']"
   ]
  },
  {
   "cell_type": "code",
   "execution_count": 14,
   "metadata": {
    "colab": {
     "base_uri": "https://localhost:8080/"
    },
    "id": "TW8pUOcb03GT",
    "outputId": "456cfac4-3467-4820-9faf-2c2dbe14c7c9"
   },
   "outputs": [
    {
     "name": "stdout",
     "output_type": "stream",
     "text": [
      "                       Director  Total Count\n",
      "0                Aaron Moorhead            2\n",
      "1                   Aaron Woolf            1\n",
      "2      Abbas Alibhai Burmawalla            1\n",
      "3              Abdullah Al Noor            1\n",
      "4           Abhinav Shiv Tiwari            1\n",
      "...                         ...          ...\n",
      "5116                Çagan Irmak            1\n",
      "5117           Ísold Uggadóttir            1\n",
      "5118        Óskar Thór Axelsson            1\n",
      "5119           Ömer Faruk Sorak            2\n",
      "5120               Şenol Sönmez            2\n",
      "\n",
      "[5120 rows x 2 columns]\n"
     ]
    }
   ],
   "source": [
    "print(directors)"
   ]
  },
  {
   "cell_type": "code",
   "execution_count": 15,
   "metadata": {
    "colab": {
     "base_uri": "https://localhost:8080/"
    },
    "id": "bP8eDXqy05b5",
    "outputId": "e809f948-3eec-4888-96e2-26bb5d7406af"
   },
   "outputs": [
    {
     "name": "stdout",
     "output_type": "stream",
     "text": [
      "             Director  Total Count\n",
      "4021    Rajiv Chilaka           22\n",
      "4068      Raúl Campos           18\n",
      "261         Jan Suter           18\n",
      "4652      Suhas Kadav           16\n",
      "3236     Marcus Raboy           16\n",
      "...               ...          ...\n",
      "2341         J. Davis            1\n",
      "2342  J. Lee Thompson            1\n",
      "2343  J. Michael Long            1\n",
      "609    Smriti Keshari            1\n",
      "2561    Joaquín Mazón            1\n",
      "\n",
      "[5120 rows x 2 columns]\n"
     ]
    }
   ],
   "source": [
    "directors = directors.sort_values(by=['Total Count'], ascending = False)\n",
    "print(directors)"
   ]
  },
  {
   "cell_type": "code",
   "execution_count": 16,
   "metadata": {
    "colab": {
     "base_uri": "https://localhost:8080/"
    },
    "id": "xObVE6Al1OdA",
    "outputId": "cf88d55c-2671-4b14-932a-a9f1cac6a07f"
   },
   "outputs": [
    {
     "name": "stdout",
     "output_type": "stream",
     "text": [
      "           Director  Total Count\n",
      "4021  Rajiv Chilaka           22\n",
      "4068    Raúl Campos           18\n",
      "261       Jan Suter           18\n",
      "4652    Suhas Kadav           16\n",
      "3236   Marcus Raboy           16\n"
     ]
    }
   ],
   "source": [
    "top5Directors = directors.head()\n",
    "print(top5Directors)"
   ]
  },
  {
   "cell_type": "code",
   "execution_count": 17,
   "metadata": {
    "colab": {
     "base_uri": "https://localhost:8080/",
     "height": 542
    },
    "id": "eRzycIMS10nA",
    "outputId": "79614517-e481-4072-a5b6-7134c7ff93a3"
   },
   "outputs": [
    {
     "data": {
      "application/vnd.plotly.v1+json": {
       "config": {
        "plotlyServerURL": "https://plot.ly"
       },
       "data": [
        {
         "alignmentgroup": "True",
         "hovertemplate": "Total Count=%{x}<br>Director=%{y}<extra></extra>",
         "legendgroup": "",
         "marker": {
          "color": "#636efa",
          "pattern": {
           "shape": ""
          }
         },
         "name": "",
         "offsetgroup": "",
         "orientation": "h",
         "showlegend": false,
         "textposition": "auto",
         "type": "bar",
         "x": [
          16,
          16,
          18,
          18,
          22
         ],
         "xaxis": "x",
         "y": [
          "Suhas Kadav",
          "Marcus Raboy",
          "Raúl Campos",
          " Jan Suter",
          "Rajiv Chilaka"
         ],
         "yaxis": "y"
        }
       ],
       "layout": {
        "barmode": "relative",
        "legend": {
         "tracegroupgap": 0
        },
        "template": {
         "data": {
          "bar": [
           {
            "error_x": {
             "color": "#2a3f5f"
            },
            "error_y": {
             "color": "#2a3f5f"
            },
            "marker": {
             "line": {
              "color": "#E5ECF6",
              "width": 0.5
             },
             "pattern": {
              "fillmode": "overlay",
              "size": 10,
              "solidity": 0.2
             }
            },
            "type": "bar"
           }
          ],
          "barpolar": [
           {
            "marker": {
             "line": {
              "color": "#E5ECF6",
              "width": 0.5
             },
             "pattern": {
              "fillmode": "overlay",
              "size": 10,
              "solidity": 0.2
             }
            },
            "type": "barpolar"
           }
          ],
          "carpet": [
           {
            "aaxis": {
             "endlinecolor": "#2a3f5f",
             "gridcolor": "white",
             "linecolor": "white",
             "minorgridcolor": "white",
             "startlinecolor": "#2a3f5f"
            },
            "baxis": {
             "endlinecolor": "#2a3f5f",
             "gridcolor": "white",
             "linecolor": "white",
             "minorgridcolor": "white",
             "startlinecolor": "#2a3f5f"
            },
            "type": "carpet"
           }
          ],
          "choropleth": [
           {
            "colorbar": {
             "outlinewidth": 0,
             "ticks": ""
            },
            "type": "choropleth"
           }
          ],
          "contour": [
           {
            "colorbar": {
             "outlinewidth": 0,
             "ticks": ""
            },
            "colorscale": [
             [
              0,
              "#0d0887"
             ],
             [
              0.1111111111111111,
              "#46039f"
             ],
             [
              0.2222222222222222,
              "#7201a8"
             ],
             [
              0.3333333333333333,
              "#9c179e"
             ],
             [
              0.4444444444444444,
              "#bd3786"
             ],
             [
              0.5555555555555556,
              "#d8576b"
             ],
             [
              0.6666666666666666,
              "#ed7953"
             ],
             [
              0.7777777777777778,
              "#fb9f3a"
             ],
             [
              0.8888888888888888,
              "#fdca26"
             ],
             [
              1,
              "#f0f921"
             ]
            ],
            "type": "contour"
           }
          ],
          "contourcarpet": [
           {
            "colorbar": {
             "outlinewidth": 0,
             "ticks": ""
            },
            "type": "contourcarpet"
           }
          ],
          "heatmap": [
           {
            "colorbar": {
             "outlinewidth": 0,
             "ticks": ""
            },
            "colorscale": [
             [
              0,
              "#0d0887"
             ],
             [
              0.1111111111111111,
              "#46039f"
             ],
             [
              0.2222222222222222,
              "#7201a8"
             ],
             [
              0.3333333333333333,
              "#9c179e"
             ],
             [
              0.4444444444444444,
              "#bd3786"
             ],
             [
              0.5555555555555556,
              "#d8576b"
             ],
             [
              0.6666666666666666,
              "#ed7953"
             ],
             [
              0.7777777777777778,
              "#fb9f3a"
             ],
             [
              0.8888888888888888,
              "#fdca26"
             ],
             [
              1,
              "#f0f921"
             ]
            ],
            "type": "heatmap"
           }
          ],
          "heatmapgl": [
           {
            "colorbar": {
             "outlinewidth": 0,
             "ticks": ""
            },
            "colorscale": [
             [
              0,
              "#0d0887"
             ],
             [
              0.1111111111111111,
              "#46039f"
             ],
             [
              0.2222222222222222,
              "#7201a8"
             ],
             [
              0.3333333333333333,
              "#9c179e"
             ],
             [
              0.4444444444444444,
              "#bd3786"
             ],
             [
              0.5555555555555556,
              "#d8576b"
             ],
             [
              0.6666666666666666,
              "#ed7953"
             ],
             [
              0.7777777777777778,
              "#fb9f3a"
             ],
             [
              0.8888888888888888,
              "#fdca26"
             ],
             [
              1,
              "#f0f921"
             ]
            ],
            "type": "heatmapgl"
           }
          ],
          "histogram": [
           {
            "marker": {
             "pattern": {
              "fillmode": "overlay",
              "size": 10,
              "solidity": 0.2
             }
            },
            "type": "histogram"
           }
          ],
          "histogram2d": [
           {
            "colorbar": {
             "outlinewidth": 0,
             "ticks": ""
            },
            "colorscale": [
             [
              0,
              "#0d0887"
             ],
             [
              0.1111111111111111,
              "#46039f"
             ],
             [
              0.2222222222222222,
              "#7201a8"
             ],
             [
              0.3333333333333333,
              "#9c179e"
             ],
             [
              0.4444444444444444,
              "#bd3786"
             ],
             [
              0.5555555555555556,
              "#d8576b"
             ],
             [
              0.6666666666666666,
              "#ed7953"
             ],
             [
              0.7777777777777778,
              "#fb9f3a"
             ],
             [
              0.8888888888888888,
              "#fdca26"
             ],
             [
              1,
              "#f0f921"
             ]
            ],
            "type": "histogram2d"
           }
          ],
          "histogram2dcontour": [
           {
            "colorbar": {
             "outlinewidth": 0,
             "ticks": ""
            },
            "colorscale": [
             [
              0,
              "#0d0887"
             ],
             [
              0.1111111111111111,
              "#46039f"
             ],
             [
              0.2222222222222222,
              "#7201a8"
             ],
             [
              0.3333333333333333,
              "#9c179e"
             ],
             [
              0.4444444444444444,
              "#bd3786"
             ],
             [
              0.5555555555555556,
              "#d8576b"
             ],
             [
              0.6666666666666666,
              "#ed7953"
             ],
             [
              0.7777777777777778,
              "#fb9f3a"
             ],
             [
              0.8888888888888888,
              "#fdca26"
             ],
             [
              1,
              "#f0f921"
             ]
            ],
            "type": "histogram2dcontour"
           }
          ],
          "mesh3d": [
           {
            "colorbar": {
             "outlinewidth": 0,
             "ticks": ""
            },
            "type": "mesh3d"
           }
          ],
          "parcoords": [
           {
            "line": {
             "colorbar": {
              "outlinewidth": 0,
              "ticks": ""
             }
            },
            "type": "parcoords"
           }
          ],
          "pie": [
           {
            "automargin": true,
            "type": "pie"
           }
          ],
          "scatter": [
           {
            "fillpattern": {
             "fillmode": "overlay",
             "size": 10,
             "solidity": 0.2
            },
            "type": "scatter"
           }
          ],
          "scatter3d": [
           {
            "line": {
             "colorbar": {
              "outlinewidth": 0,
              "ticks": ""
             }
            },
            "marker": {
             "colorbar": {
              "outlinewidth": 0,
              "ticks": ""
             }
            },
            "type": "scatter3d"
           }
          ],
          "scattercarpet": [
           {
            "marker": {
             "colorbar": {
              "outlinewidth": 0,
              "ticks": ""
             }
            },
            "type": "scattercarpet"
           }
          ],
          "scattergeo": [
           {
            "marker": {
             "colorbar": {
              "outlinewidth": 0,
              "ticks": ""
             }
            },
            "type": "scattergeo"
           }
          ],
          "scattergl": [
           {
            "marker": {
             "colorbar": {
              "outlinewidth": 0,
              "ticks": ""
             }
            },
            "type": "scattergl"
           }
          ],
          "scattermapbox": [
           {
            "marker": {
             "colorbar": {
              "outlinewidth": 0,
              "ticks": ""
             }
            },
            "type": "scattermapbox"
           }
          ],
          "scatterpolar": [
           {
            "marker": {
             "colorbar": {
              "outlinewidth": 0,
              "ticks": ""
             }
            },
            "type": "scatterpolar"
           }
          ],
          "scatterpolargl": [
           {
            "marker": {
             "colorbar": {
              "outlinewidth": 0,
              "ticks": ""
             }
            },
            "type": "scatterpolargl"
           }
          ],
          "scatterternary": [
           {
            "marker": {
             "colorbar": {
              "outlinewidth": 0,
              "ticks": ""
             }
            },
            "type": "scatterternary"
           }
          ],
          "surface": [
           {
            "colorbar": {
             "outlinewidth": 0,
             "ticks": ""
            },
            "colorscale": [
             [
              0,
              "#0d0887"
             ],
             [
              0.1111111111111111,
              "#46039f"
             ],
             [
              0.2222222222222222,
              "#7201a8"
             ],
             [
              0.3333333333333333,
              "#9c179e"
             ],
             [
              0.4444444444444444,
              "#bd3786"
             ],
             [
              0.5555555555555556,
              "#d8576b"
             ],
             [
              0.6666666666666666,
              "#ed7953"
             ],
             [
              0.7777777777777778,
              "#fb9f3a"
             ],
             [
              0.8888888888888888,
              "#fdca26"
             ],
             [
              1,
              "#f0f921"
             ]
            ],
            "type": "surface"
           }
          ],
          "table": [
           {
            "cells": {
             "fill": {
              "color": "#EBF0F8"
             },
             "line": {
              "color": "white"
             }
            },
            "header": {
             "fill": {
              "color": "#C8D4E3"
             },
             "line": {
              "color": "white"
             }
            },
            "type": "table"
           }
          ]
         },
         "layout": {
          "annotationdefaults": {
           "arrowcolor": "#2a3f5f",
           "arrowhead": 0,
           "arrowwidth": 1
          },
          "autotypenumbers": "strict",
          "coloraxis": {
           "colorbar": {
            "outlinewidth": 0,
            "ticks": ""
           }
          },
          "colorscale": {
           "diverging": [
            [
             0,
             "#8e0152"
            ],
            [
             0.1,
             "#c51b7d"
            ],
            [
             0.2,
             "#de77ae"
            ],
            [
             0.3,
             "#f1b6da"
            ],
            [
             0.4,
             "#fde0ef"
            ],
            [
             0.5,
             "#f7f7f7"
            ],
            [
             0.6,
             "#e6f5d0"
            ],
            [
             0.7,
             "#b8e186"
            ],
            [
             0.8,
             "#7fbc41"
            ],
            [
             0.9,
             "#4d9221"
            ],
            [
             1,
             "#276419"
            ]
           ],
           "sequential": [
            [
             0,
             "#0d0887"
            ],
            [
             0.1111111111111111,
             "#46039f"
            ],
            [
             0.2222222222222222,
             "#7201a8"
            ],
            [
             0.3333333333333333,
             "#9c179e"
            ],
            [
             0.4444444444444444,
             "#bd3786"
            ],
            [
             0.5555555555555556,
             "#d8576b"
            ],
            [
             0.6666666666666666,
             "#ed7953"
            ],
            [
             0.7777777777777778,
             "#fb9f3a"
            ],
            [
             0.8888888888888888,
             "#fdca26"
            ],
            [
             1,
             "#f0f921"
            ]
           ],
           "sequentialminus": [
            [
             0,
             "#0d0887"
            ],
            [
             0.1111111111111111,
             "#46039f"
            ],
            [
             0.2222222222222222,
             "#7201a8"
            ],
            [
             0.3333333333333333,
             "#9c179e"
            ],
            [
             0.4444444444444444,
             "#bd3786"
            ],
            [
             0.5555555555555556,
             "#d8576b"
            ],
            [
             0.6666666666666666,
             "#ed7953"
            ],
            [
             0.7777777777777778,
             "#fb9f3a"
            ],
            [
             0.8888888888888888,
             "#fdca26"
            ],
            [
             1,
             "#f0f921"
            ]
           ]
          },
          "colorway": [
           "#636efa",
           "#EF553B",
           "#00cc96",
           "#ab63fa",
           "#FFA15A",
           "#19d3f3",
           "#FF6692",
           "#B6E880",
           "#FF97FF",
           "#FECB52"
          ],
          "font": {
           "color": "#2a3f5f"
          },
          "geo": {
           "bgcolor": "white",
           "lakecolor": "white",
           "landcolor": "#E5ECF6",
           "showlakes": true,
           "showland": true,
           "subunitcolor": "white"
          },
          "hoverlabel": {
           "align": "left"
          },
          "hovermode": "closest",
          "mapbox": {
           "style": "light"
          },
          "paper_bgcolor": "white",
          "plot_bgcolor": "#E5ECF6",
          "polar": {
           "angularaxis": {
            "gridcolor": "white",
            "linecolor": "white",
            "ticks": ""
           },
           "bgcolor": "#E5ECF6",
           "radialaxis": {
            "gridcolor": "white",
            "linecolor": "white",
            "ticks": ""
           }
          },
          "scene": {
           "xaxis": {
            "backgroundcolor": "#E5ECF6",
            "gridcolor": "white",
            "gridwidth": 2,
            "linecolor": "white",
            "showbackground": true,
            "ticks": "",
            "zerolinecolor": "white"
           },
           "yaxis": {
            "backgroundcolor": "#E5ECF6",
            "gridcolor": "white",
            "gridwidth": 2,
            "linecolor": "white",
            "showbackground": true,
            "ticks": "",
            "zerolinecolor": "white"
           },
           "zaxis": {
            "backgroundcolor": "#E5ECF6",
            "gridcolor": "white",
            "gridwidth": 2,
            "linecolor": "white",
            "showbackground": true,
            "ticks": "",
            "zerolinecolor": "white"
           }
          },
          "shapedefaults": {
           "line": {
            "color": "#2a3f5f"
           }
          },
          "ternary": {
           "aaxis": {
            "gridcolor": "white",
            "linecolor": "white",
            "ticks": ""
           },
           "baxis": {
            "gridcolor": "white",
            "linecolor": "white",
            "ticks": ""
           },
           "bgcolor": "#E5ECF6",
           "caxis": {
            "gridcolor": "white",
            "linecolor": "white",
            "ticks": ""
           }
          },
          "title": {
           "x": 0.05
          },
          "xaxis": {
           "automargin": true,
           "gridcolor": "white",
           "linecolor": "white",
           "ticks": "",
           "title": {
            "standoff": 15
           },
           "zerolinecolor": "white",
           "zerolinewidth": 2
          },
          "yaxis": {
           "automargin": true,
           "gridcolor": "white",
           "linecolor": "white",
           "ticks": "",
           "title": {
            "standoff": 15
           },
           "zerolinecolor": "white",
           "zerolinewidth": 2
          }
         }
        },
        "title": {
         "text": "Top 5 Directors on Netflix"
        },
        "xaxis": {
         "anchor": "y",
         "domain": [
          0,
          1
         ],
         "title": {
          "text": "Total Count"
         }
        },
        "yaxis": {
         "anchor": "x",
         "domain": [
          0,
          1
         ],
         "title": {
          "text": "Director"
         }
        }
       }
      }
     },
     "metadata": {},
     "output_type": "display_data"
    }
   ],
   "source": [
    "top5Directors = top5Directors.sort_values(by=['Total Count'])\n",
    "barChart = px.bar(top5Directors, x='Total Count', y = 'Director', title = 'Top 5 Directors on Netflix')\n",
    "barChart.show()"
   ]
  },
  {
   "cell_type": "markdown",
   "metadata": {
    "id": "GFg_mjdS74p7"
   },
   "source": [
    "# Analyzing the top 5 Actors on Netflix"
   ]
  },
  {
   "cell_type": "code",
   "execution_count": 18,
   "metadata": {
    "colab": {
     "base_uri": "https://localhost:8080/",
     "height": 542
    },
    "id": "TBEaMvJA2qyB",
    "outputId": "52e7eab7-4915-488c-d8ab-112db9c82c0c"
   },
   "outputs": [
    {
     "data": {
      "application/vnd.plotly.v1+json": {
       "config": {
        "plotlyServerURL": "https://plot.ly"
       },
       "data": [
        {
         "alignmentgroup": "True",
         "hovertemplate": "Total Count=%{x}<br>Actor=%{y}<extra></extra>",
         "legendgroup": "",
         "marker": {
          "color": "#636efa",
          "pattern": {
           "shape": ""
          }
         },
         "name": "",
         "offsetgroup": "",
         "orientation": "h",
         "showlegend": false,
         "textposition": "auto",
         "type": "bar",
         "x": [
          27,
          28,
          30,
          31,
          39
         ],
         "xaxis": "x",
         "y": [
          " Om Puri",
          " Julie Tejwani",
          " Takahiro Sakurai",
          " Rupa Bhimani",
          " Anupam Kher"
         ],
         "yaxis": "y"
        }
       ],
       "layout": {
        "barmode": "relative",
        "legend": {
         "tracegroupgap": 0
        },
        "template": {
         "data": {
          "bar": [
           {
            "error_x": {
             "color": "#2a3f5f"
            },
            "error_y": {
             "color": "#2a3f5f"
            },
            "marker": {
             "line": {
              "color": "#E5ECF6",
              "width": 0.5
             },
             "pattern": {
              "fillmode": "overlay",
              "size": 10,
              "solidity": 0.2
             }
            },
            "type": "bar"
           }
          ],
          "barpolar": [
           {
            "marker": {
             "line": {
              "color": "#E5ECF6",
              "width": 0.5
             },
             "pattern": {
              "fillmode": "overlay",
              "size": 10,
              "solidity": 0.2
             }
            },
            "type": "barpolar"
           }
          ],
          "carpet": [
           {
            "aaxis": {
             "endlinecolor": "#2a3f5f",
             "gridcolor": "white",
             "linecolor": "white",
             "minorgridcolor": "white",
             "startlinecolor": "#2a3f5f"
            },
            "baxis": {
             "endlinecolor": "#2a3f5f",
             "gridcolor": "white",
             "linecolor": "white",
             "minorgridcolor": "white",
             "startlinecolor": "#2a3f5f"
            },
            "type": "carpet"
           }
          ],
          "choropleth": [
           {
            "colorbar": {
             "outlinewidth": 0,
             "ticks": ""
            },
            "type": "choropleth"
           }
          ],
          "contour": [
           {
            "colorbar": {
             "outlinewidth": 0,
             "ticks": ""
            },
            "colorscale": [
             [
              0,
              "#0d0887"
             ],
             [
              0.1111111111111111,
              "#46039f"
             ],
             [
              0.2222222222222222,
              "#7201a8"
             ],
             [
              0.3333333333333333,
              "#9c179e"
             ],
             [
              0.4444444444444444,
              "#bd3786"
             ],
             [
              0.5555555555555556,
              "#d8576b"
             ],
             [
              0.6666666666666666,
              "#ed7953"
             ],
             [
              0.7777777777777778,
              "#fb9f3a"
             ],
             [
              0.8888888888888888,
              "#fdca26"
             ],
             [
              1,
              "#f0f921"
             ]
            ],
            "type": "contour"
           }
          ],
          "contourcarpet": [
           {
            "colorbar": {
             "outlinewidth": 0,
             "ticks": ""
            },
            "type": "contourcarpet"
           }
          ],
          "heatmap": [
           {
            "colorbar": {
             "outlinewidth": 0,
             "ticks": ""
            },
            "colorscale": [
             [
              0,
              "#0d0887"
             ],
             [
              0.1111111111111111,
              "#46039f"
             ],
             [
              0.2222222222222222,
              "#7201a8"
             ],
             [
              0.3333333333333333,
              "#9c179e"
             ],
             [
              0.4444444444444444,
              "#bd3786"
             ],
             [
              0.5555555555555556,
              "#d8576b"
             ],
             [
              0.6666666666666666,
              "#ed7953"
             ],
             [
              0.7777777777777778,
              "#fb9f3a"
             ],
             [
              0.8888888888888888,
              "#fdca26"
             ],
             [
              1,
              "#f0f921"
             ]
            ],
            "type": "heatmap"
           }
          ],
          "heatmapgl": [
           {
            "colorbar": {
             "outlinewidth": 0,
             "ticks": ""
            },
            "colorscale": [
             [
              0,
              "#0d0887"
             ],
             [
              0.1111111111111111,
              "#46039f"
             ],
             [
              0.2222222222222222,
              "#7201a8"
             ],
             [
              0.3333333333333333,
              "#9c179e"
             ],
             [
              0.4444444444444444,
              "#bd3786"
             ],
             [
              0.5555555555555556,
              "#d8576b"
             ],
             [
              0.6666666666666666,
              "#ed7953"
             ],
             [
              0.7777777777777778,
              "#fb9f3a"
             ],
             [
              0.8888888888888888,
              "#fdca26"
             ],
             [
              1,
              "#f0f921"
             ]
            ],
            "type": "heatmapgl"
           }
          ],
          "histogram": [
           {
            "marker": {
             "pattern": {
              "fillmode": "overlay",
              "size": 10,
              "solidity": 0.2
             }
            },
            "type": "histogram"
           }
          ],
          "histogram2d": [
           {
            "colorbar": {
             "outlinewidth": 0,
             "ticks": ""
            },
            "colorscale": [
             [
              0,
              "#0d0887"
             ],
             [
              0.1111111111111111,
              "#46039f"
             ],
             [
              0.2222222222222222,
              "#7201a8"
             ],
             [
              0.3333333333333333,
              "#9c179e"
             ],
             [
              0.4444444444444444,
              "#bd3786"
             ],
             [
              0.5555555555555556,
              "#d8576b"
             ],
             [
              0.6666666666666666,
              "#ed7953"
             ],
             [
              0.7777777777777778,
              "#fb9f3a"
             ],
             [
              0.8888888888888888,
              "#fdca26"
             ],
             [
              1,
              "#f0f921"
             ]
            ],
            "type": "histogram2d"
           }
          ],
          "histogram2dcontour": [
           {
            "colorbar": {
             "outlinewidth": 0,
             "ticks": ""
            },
            "colorscale": [
             [
              0,
              "#0d0887"
             ],
             [
              0.1111111111111111,
              "#46039f"
             ],
             [
              0.2222222222222222,
              "#7201a8"
             ],
             [
              0.3333333333333333,
              "#9c179e"
             ],
             [
              0.4444444444444444,
              "#bd3786"
             ],
             [
              0.5555555555555556,
              "#d8576b"
             ],
             [
              0.6666666666666666,
              "#ed7953"
             ],
             [
              0.7777777777777778,
              "#fb9f3a"
             ],
             [
              0.8888888888888888,
              "#fdca26"
             ],
             [
              1,
              "#f0f921"
             ]
            ],
            "type": "histogram2dcontour"
           }
          ],
          "mesh3d": [
           {
            "colorbar": {
             "outlinewidth": 0,
             "ticks": ""
            },
            "type": "mesh3d"
           }
          ],
          "parcoords": [
           {
            "line": {
             "colorbar": {
              "outlinewidth": 0,
              "ticks": ""
             }
            },
            "type": "parcoords"
           }
          ],
          "pie": [
           {
            "automargin": true,
            "type": "pie"
           }
          ],
          "scatter": [
           {
            "fillpattern": {
             "fillmode": "overlay",
             "size": 10,
             "solidity": 0.2
            },
            "type": "scatter"
           }
          ],
          "scatter3d": [
           {
            "line": {
             "colorbar": {
              "outlinewidth": 0,
              "ticks": ""
             }
            },
            "marker": {
             "colorbar": {
              "outlinewidth": 0,
              "ticks": ""
             }
            },
            "type": "scatter3d"
           }
          ],
          "scattercarpet": [
           {
            "marker": {
             "colorbar": {
              "outlinewidth": 0,
              "ticks": ""
             }
            },
            "type": "scattercarpet"
           }
          ],
          "scattergeo": [
           {
            "marker": {
             "colorbar": {
              "outlinewidth": 0,
              "ticks": ""
             }
            },
            "type": "scattergeo"
           }
          ],
          "scattergl": [
           {
            "marker": {
             "colorbar": {
              "outlinewidth": 0,
              "ticks": ""
             }
            },
            "type": "scattergl"
           }
          ],
          "scattermapbox": [
           {
            "marker": {
             "colorbar": {
              "outlinewidth": 0,
              "ticks": ""
             }
            },
            "type": "scattermapbox"
           }
          ],
          "scatterpolar": [
           {
            "marker": {
             "colorbar": {
              "outlinewidth": 0,
              "ticks": ""
             }
            },
            "type": "scatterpolar"
           }
          ],
          "scatterpolargl": [
           {
            "marker": {
             "colorbar": {
              "outlinewidth": 0,
              "ticks": ""
             }
            },
            "type": "scatterpolargl"
           }
          ],
          "scatterternary": [
           {
            "marker": {
             "colorbar": {
              "outlinewidth": 0,
              "ticks": ""
             }
            },
            "type": "scatterternary"
           }
          ],
          "surface": [
           {
            "colorbar": {
             "outlinewidth": 0,
             "ticks": ""
            },
            "colorscale": [
             [
              0,
              "#0d0887"
             ],
             [
              0.1111111111111111,
              "#46039f"
             ],
             [
              0.2222222222222222,
              "#7201a8"
             ],
             [
              0.3333333333333333,
              "#9c179e"
             ],
             [
              0.4444444444444444,
              "#bd3786"
             ],
             [
              0.5555555555555556,
              "#d8576b"
             ],
             [
              0.6666666666666666,
              "#ed7953"
             ],
             [
              0.7777777777777778,
              "#fb9f3a"
             ],
             [
              0.8888888888888888,
              "#fdca26"
             ],
             [
              1,
              "#f0f921"
             ]
            ],
            "type": "surface"
           }
          ],
          "table": [
           {
            "cells": {
             "fill": {
              "color": "#EBF0F8"
             },
             "line": {
              "color": "white"
             }
            },
            "header": {
             "fill": {
              "color": "#C8D4E3"
             },
             "line": {
              "color": "white"
             }
            },
            "type": "table"
           }
          ]
         },
         "layout": {
          "annotationdefaults": {
           "arrowcolor": "#2a3f5f",
           "arrowhead": 0,
           "arrowwidth": 1
          },
          "autotypenumbers": "strict",
          "coloraxis": {
           "colorbar": {
            "outlinewidth": 0,
            "ticks": ""
           }
          },
          "colorscale": {
           "diverging": [
            [
             0,
             "#8e0152"
            ],
            [
             0.1,
             "#c51b7d"
            ],
            [
             0.2,
             "#de77ae"
            ],
            [
             0.3,
             "#f1b6da"
            ],
            [
             0.4,
             "#fde0ef"
            ],
            [
             0.5,
             "#f7f7f7"
            ],
            [
             0.6,
             "#e6f5d0"
            ],
            [
             0.7,
             "#b8e186"
            ],
            [
             0.8,
             "#7fbc41"
            ],
            [
             0.9,
             "#4d9221"
            ],
            [
             1,
             "#276419"
            ]
           ],
           "sequential": [
            [
             0,
             "#0d0887"
            ],
            [
             0.1111111111111111,
             "#46039f"
            ],
            [
             0.2222222222222222,
             "#7201a8"
            ],
            [
             0.3333333333333333,
             "#9c179e"
            ],
            [
             0.4444444444444444,
             "#bd3786"
            ],
            [
             0.5555555555555556,
             "#d8576b"
            ],
            [
             0.6666666666666666,
             "#ed7953"
            ],
            [
             0.7777777777777778,
             "#fb9f3a"
            ],
            [
             0.8888888888888888,
             "#fdca26"
            ],
            [
             1,
             "#f0f921"
            ]
           ],
           "sequentialminus": [
            [
             0,
             "#0d0887"
            ],
            [
             0.1111111111111111,
             "#46039f"
            ],
            [
             0.2222222222222222,
             "#7201a8"
            ],
            [
             0.3333333333333333,
             "#9c179e"
            ],
            [
             0.4444444444444444,
             "#bd3786"
            ],
            [
             0.5555555555555556,
             "#d8576b"
            ],
            [
             0.6666666666666666,
             "#ed7953"
            ],
            [
             0.7777777777777778,
             "#fb9f3a"
            ],
            [
             0.8888888888888888,
             "#fdca26"
            ],
            [
             1,
             "#f0f921"
            ]
           ]
          },
          "colorway": [
           "#636efa",
           "#EF553B",
           "#00cc96",
           "#ab63fa",
           "#FFA15A",
           "#19d3f3",
           "#FF6692",
           "#B6E880",
           "#FF97FF",
           "#FECB52"
          ],
          "font": {
           "color": "#2a3f5f"
          },
          "geo": {
           "bgcolor": "white",
           "lakecolor": "white",
           "landcolor": "#E5ECF6",
           "showlakes": true,
           "showland": true,
           "subunitcolor": "white"
          },
          "hoverlabel": {
           "align": "left"
          },
          "hovermode": "closest",
          "mapbox": {
           "style": "light"
          },
          "paper_bgcolor": "white",
          "plot_bgcolor": "#E5ECF6",
          "polar": {
           "angularaxis": {
            "gridcolor": "white",
            "linecolor": "white",
            "ticks": ""
           },
           "bgcolor": "#E5ECF6",
           "radialaxis": {
            "gridcolor": "white",
            "linecolor": "white",
            "ticks": ""
           }
          },
          "scene": {
           "xaxis": {
            "backgroundcolor": "#E5ECF6",
            "gridcolor": "white",
            "gridwidth": 2,
            "linecolor": "white",
            "showbackground": true,
            "ticks": "",
            "zerolinecolor": "white"
           },
           "yaxis": {
            "backgroundcolor": "#E5ECF6",
            "gridcolor": "white",
            "gridwidth": 2,
            "linecolor": "white",
            "showbackground": true,
            "ticks": "",
            "zerolinecolor": "white"
           },
           "zaxis": {
            "backgroundcolor": "#E5ECF6",
            "gridcolor": "white",
            "gridwidth": 2,
            "linecolor": "white",
            "showbackground": true,
            "ticks": "",
            "zerolinecolor": "white"
           }
          },
          "shapedefaults": {
           "line": {
            "color": "#2a3f5f"
           }
          },
          "ternary": {
           "aaxis": {
            "gridcolor": "white",
            "linecolor": "white",
            "ticks": ""
           },
           "baxis": {
            "gridcolor": "white",
            "linecolor": "white",
            "ticks": ""
           },
           "bgcolor": "#E5ECF6",
           "caxis": {
            "gridcolor": "white",
            "linecolor": "white",
            "ticks": ""
           }
          },
          "title": {
           "x": 0.05
          },
          "xaxis": {
           "automargin": true,
           "gridcolor": "white",
           "linecolor": "white",
           "ticks": "",
           "title": {
            "standoff": 15
           },
           "zerolinecolor": "white",
           "zerolinewidth": 2
          },
          "yaxis": {
           "automargin": true,
           "gridcolor": "white",
           "linecolor": "white",
           "ticks": "",
           "title": {
            "standoff": 15
           },
           "zerolinecolor": "white",
           "zerolinewidth": 2
          }
         }
        },
        "title": {
         "text": "Top 5 Actors on Netflix"
        },
        "xaxis": {
         "anchor": "y",
         "domain": [
          0,
          1
         ],
         "title": {
          "text": "Total Count"
         }
        },
        "yaxis": {
         "anchor": "x",
         "domain": [
          0,
          1
         ],
         "title": {
          "text": "Actor"
         }
        }
       }
      }
     },
     "metadata": {},
     "output_type": "display_data"
    }
   ],
   "source": [
    "df['cast']=df['cast'].fillna('No cast specified')\n",
    "cast_df = pd.DataFrame()\n",
    "cast_df = df['cast'].str.split(',',expand=True).stack()\n",
    "cast_df = cast_df.to_frame()\n",
    "cast_df.columns = ['Actor']\n",
    "actors = cast_df.groupby(['Actor']).size().reset_index(name = 'Total Count')\n",
    "actors = actors[actors.Actor != 'No cast specified']\n",
    "actors = actors.sort_values(by=['Total Count'], ascending=False)\n",
    "top5Actors = actors.head()\n",
    "top5Actors = top5Actors.sort_values(by=['Total Count'])\n",
    "barChart2 = px.bar(top5Actors, x='Total Count', y='Actor', title='Top 5 Actors on Netflix')\n",
    "barChart2.show()"
   ]
  },
  {
   "cell_type": "markdown",
   "metadata": {
    "id": "gqMq_1TN-1XN"
   },
   "source": [
    "# Analyzing the content produced on netflix based on years"
   ]
  },
  {
   "cell_type": "code",
   "execution_count": 19,
   "metadata": {
    "id": "mMziLB0H7OU6"
   },
   "outputs": [],
   "source": [
    "df1 = df[['type', 'release_year']]\n",
    "df1 = df1.rename(columns = {\"release_year\":\"Release Year\", \"type\": \"Type\"})\n",
    "df2 = df1.groupby(['Release Year', 'Type']).size().reset_index(name='Total Count')"
   ]
  },
  {
   "cell_type": "code",
   "execution_count": 20,
   "metadata": {
    "colab": {
     "base_uri": "https://localhost:8080/"
    },
    "id": "YyQCyJ-Q_5oY",
    "outputId": "807fb61c-27f0-4470-ca41-f2c7dfaa6e58"
   },
   "outputs": [
    {
     "name": "stdout",
     "output_type": "stream",
     "text": [
      "     Release Year     Type  Total Count\n",
      "0            1925  TV Show            1\n",
      "1            1942    Movie            2\n",
      "2            1943    Movie            3\n",
      "3            1944    Movie            3\n",
      "4            1945    Movie            3\n",
      "..            ...      ...          ...\n",
      "114          2019  TV Show          397\n",
      "115          2020    Movie          517\n",
      "116          2020  TV Show          436\n",
      "117          2021    Movie          277\n",
      "118          2021  TV Show          315\n",
      "\n",
      "[119 rows x 3 columns]\n"
     ]
    }
   ],
   "source": [
    "print(df2)"
   ]
  },
  {
   "cell_type": "code",
   "execution_count": 21,
   "metadata": {
    "colab": {
     "base_uri": "https://localhost:8080/",
     "height": 542
    },
    "id": "J37u4lVnAJO-",
    "outputId": "23bcf42f-be8a-4108-a588-a19d67ca3ddb"
   },
   "outputs": [
    {
     "data": {
      "application/vnd.plotly.v1+json": {
       "config": {
        "plotlyServerURL": "https://plot.ly"
       },
       "data": [
        {
         "hovertemplate": "Type=Movie<br>Release Year=%{x}<br>Total Count=%{y}<extra></extra>",
         "legendgroup": "Movie",
         "line": {
          "color": "#636efa",
          "dash": "solid"
         },
         "marker": {
          "symbol": "circle"
         },
         "mode": "lines",
         "name": "Movie",
         "orientation": "v",
         "showlegend": true,
         "type": "scatter",
         "x": [
          2000,
          2001,
          2002,
          2003,
          2004,
          2005,
          2006,
          2007,
          2008,
          2009,
          2010,
          2011,
          2012,
          2013,
          2014,
          2015,
          2016,
          2017,
          2018,
          2019,
          2020,
          2021
         ],
         "xaxis": "x",
         "y": [
          33,
          40,
          44,
          51,
          55,
          67,
          82,
          74,
          113,
          118,
          154,
          145,
          173,
          225,
          264,
          398,
          658,
          767,
          767,
          633,
          517,
          277
         ],
         "yaxis": "y"
        },
        {
         "hovertemplate": "Type=TV Show<br>Release Year=%{x}<br>Total Count=%{y}<extra></extra>",
         "legendgroup": "TV Show",
         "line": {
          "color": "#EF553B",
          "dash": "solid"
         },
         "marker": {
          "symbol": "circle"
         },
         "mode": "lines",
         "name": "TV Show",
         "orientation": "v",
         "showlegend": true,
         "type": "scatter",
         "x": [
          2000,
          2001,
          2002,
          2003,
          2004,
          2005,
          2006,
          2007,
          2008,
          2009,
          2010,
          2011,
          2012,
          2013,
          2014,
          2015,
          2016,
          2017,
          2018,
          2019,
          2020,
          2021
         ],
         "xaxis": "x",
         "y": [
          4,
          5,
          7,
          10,
          9,
          13,
          14,
          14,
          23,
          34,
          40,
          40,
          64,
          63,
          88,
          162,
          244,
          265,
          380,
          397,
          436,
          315
         ],
         "yaxis": "y"
        }
       ],
       "layout": {
        "legend": {
         "title": {
          "text": "Type"
         },
         "tracegroupgap": 0
        },
        "template": {
         "data": {
          "bar": [
           {
            "error_x": {
             "color": "#2a3f5f"
            },
            "error_y": {
             "color": "#2a3f5f"
            },
            "marker": {
             "line": {
              "color": "#E5ECF6",
              "width": 0.5
             },
             "pattern": {
              "fillmode": "overlay",
              "size": 10,
              "solidity": 0.2
             }
            },
            "type": "bar"
           }
          ],
          "barpolar": [
           {
            "marker": {
             "line": {
              "color": "#E5ECF6",
              "width": 0.5
             },
             "pattern": {
              "fillmode": "overlay",
              "size": 10,
              "solidity": 0.2
             }
            },
            "type": "barpolar"
           }
          ],
          "carpet": [
           {
            "aaxis": {
             "endlinecolor": "#2a3f5f",
             "gridcolor": "white",
             "linecolor": "white",
             "minorgridcolor": "white",
             "startlinecolor": "#2a3f5f"
            },
            "baxis": {
             "endlinecolor": "#2a3f5f",
             "gridcolor": "white",
             "linecolor": "white",
             "minorgridcolor": "white",
             "startlinecolor": "#2a3f5f"
            },
            "type": "carpet"
           }
          ],
          "choropleth": [
           {
            "colorbar": {
             "outlinewidth": 0,
             "ticks": ""
            },
            "type": "choropleth"
           }
          ],
          "contour": [
           {
            "colorbar": {
             "outlinewidth": 0,
             "ticks": ""
            },
            "colorscale": [
             [
              0,
              "#0d0887"
             ],
             [
              0.1111111111111111,
              "#46039f"
             ],
             [
              0.2222222222222222,
              "#7201a8"
             ],
             [
              0.3333333333333333,
              "#9c179e"
             ],
             [
              0.4444444444444444,
              "#bd3786"
             ],
             [
              0.5555555555555556,
              "#d8576b"
             ],
             [
              0.6666666666666666,
              "#ed7953"
             ],
             [
              0.7777777777777778,
              "#fb9f3a"
             ],
             [
              0.8888888888888888,
              "#fdca26"
             ],
             [
              1,
              "#f0f921"
             ]
            ],
            "type": "contour"
           }
          ],
          "contourcarpet": [
           {
            "colorbar": {
             "outlinewidth": 0,
             "ticks": ""
            },
            "type": "contourcarpet"
           }
          ],
          "heatmap": [
           {
            "colorbar": {
             "outlinewidth": 0,
             "ticks": ""
            },
            "colorscale": [
             [
              0,
              "#0d0887"
             ],
             [
              0.1111111111111111,
              "#46039f"
             ],
             [
              0.2222222222222222,
              "#7201a8"
             ],
             [
              0.3333333333333333,
              "#9c179e"
             ],
             [
              0.4444444444444444,
              "#bd3786"
             ],
             [
              0.5555555555555556,
              "#d8576b"
             ],
             [
              0.6666666666666666,
              "#ed7953"
             ],
             [
              0.7777777777777778,
              "#fb9f3a"
             ],
             [
              0.8888888888888888,
              "#fdca26"
             ],
             [
              1,
              "#f0f921"
             ]
            ],
            "type": "heatmap"
           }
          ],
          "heatmapgl": [
           {
            "colorbar": {
             "outlinewidth": 0,
             "ticks": ""
            },
            "colorscale": [
             [
              0,
              "#0d0887"
             ],
             [
              0.1111111111111111,
              "#46039f"
             ],
             [
              0.2222222222222222,
              "#7201a8"
             ],
             [
              0.3333333333333333,
              "#9c179e"
             ],
             [
              0.4444444444444444,
              "#bd3786"
             ],
             [
              0.5555555555555556,
              "#d8576b"
             ],
             [
              0.6666666666666666,
              "#ed7953"
             ],
             [
              0.7777777777777778,
              "#fb9f3a"
             ],
             [
              0.8888888888888888,
              "#fdca26"
             ],
             [
              1,
              "#f0f921"
             ]
            ],
            "type": "heatmapgl"
           }
          ],
          "histogram": [
           {
            "marker": {
             "pattern": {
              "fillmode": "overlay",
              "size": 10,
              "solidity": 0.2
             }
            },
            "type": "histogram"
           }
          ],
          "histogram2d": [
           {
            "colorbar": {
             "outlinewidth": 0,
             "ticks": ""
            },
            "colorscale": [
             [
              0,
              "#0d0887"
             ],
             [
              0.1111111111111111,
              "#46039f"
             ],
             [
              0.2222222222222222,
              "#7201a8"
             ],
             [
              0.3333333333333333,
              "#9c179e"
             ],
             [
              0.4444444444444444,
              "#bd3786"
             ],
             [
              0.5555555555555556,
              "#d8576b"
             ],
             [
              0.6666666666666666,
              "#ed7953"
             ],
             [
              0.7777777777777778,
              "#fb9f3a"
             ],
             [
              0.8888888888888888,
              "#fdca26"
             ],
             [
              1,
              "#f0f921"
             ]
            ],
            "type": "histogram2d"
           }
          ],
          "histogram2dcontour": [
           {
            "colorbar": {
             "outlinewidth": 0,
             "ticks": ""
            },
            "colorscale": [
             [
              0,
              "#0d0887"
             ],
             [
              0.1111111111111111,
              "#46039f"
             ],
             [
              0.2222222222222222,
              "#7201a8"
             ],
             [
              0.3333333333333333,
              "#9c179e"
             ],
             [
              0.4444444444444444,
              "#bd3786"
             ],
             [
              0.5555555555555556,
              "#d8576b"
             ],
             [
              0.6666666666666666,
              "#ed7953"
             ],
             [
              0.7777777777777778,
              "#fb9f3a"
             ],
             [
              0.8888888888888888,
              "#fdca26"
             ],
             [
              1,
              "#f0f921"
             ]
            ],
            "type": "histogram2dcontour"
           }
          ],
          "mesh3d": [
           {
            "colorbar": {
             "outlinewidth": 0,
             "ticks": ""
            },
            "type": "mesh3d"
           }
          ],
          "parcoords": [
           {
            "line": {
             "colorbar": {
              "outlinewidth": 0,
              "ticks": ""
             }
            },
            "type": "parcoords"
           }
          ],
          "pie": [
           {
            "automargin": true,
            "type": "pie"
           }
          ],
          "scatter": [
           {
            "fillpattern": {
             "fillmode": "overlay",
             "size": 10,
             "solidity": 0.2
            },
            "type": "scatter"
           }
          ],
          "scatter3d": [
           {
            "line": {
             "colorbar": {
              "outlinewidth": 0,
              "ticks": ""
             }
            },
            "marker": {
             "colorbar": {
              "outlinewidth": 0,
              "ticks": ""
             }
            },
            "type": "scatter3d"
           }
          ],
          "scattercarpet": [
           {
            "marker": {
             "colorbar": {
              "outlinewidth": 0,
              "ticks": ""
             }
            },
            "type": "scattercarpet"
           }
          ],
          "scattergeo": [
           {
            "marker": {
             "colorbar": {
              "outlinewidth": 0,
              "ticks": ""
             }
            },
            "type": "scattergeo"
           }
          ],
          "scattergl": [
           {
            "marker": {
             "colorbar": {
              "outlinewidth": 0,
              "ticks": ""
             }
            },
            "type": "scattergl"
           }
          ],
          "scattermapbox": [
           {
            "marker": {
             "colorbar": {
              "outlinewidth": 0,
              "ticks": ""
             }
            },
            "type": "scattermapbox"
           }
          ],
          "scatterpolar": [
           {
            "marker": {
             "colorbar": {
              "outlinewidth": 0,
              "ticks": ""
             }
            },
            "type": "scatterpolar"
           }
          ],
          "scatterpolargl": [
           {
            "marker": {
             "colorbar": {
              "outlinewidth": 0,
              "ticks": ""
             }
            },
            "type": "scatterpolargl"
           }
          ],
          "scatterternary": [
           {
            "marker": {
             "colorbar": {
              "outlinewidth": 0,
              "ticks": ""
             }
            },
            "type": "scatterternary"
           }
          ],
          "surface": [
           {
            "colorbar": {
             "outlinewidth": 0,
             "ticks": ""
            },
            "colorscale": [
             [
              0,
              "#0d0887"
             ],
             [
              0.1111111111111111,
              "#46039f"
             ],
             [
              0.2222222222222222,
              "#7201a8"
             ],
             [
              0.3333333333333333,
              "#9c179e"
             ],
             [
              0.4444444444444444,
              "#bd3786"
             ],
             [
              0.5555555555555556,
              "#d8576b"
             ],
             [
              0.6666666666666666,
              "#ed7953"
             ],
             [
              0.7777777777777778,
              "#fb9f3a"
             ],
             [
              0.8888888888888888,
              "#fdca26"
             ],
             [
              1,
              "#f0f921"
             ]
            ],
            "type": "surface"
           }
          ],
          "table": [
           {
            "cells": {
             "fill": {
              "color": "#EBF0F8"
             },
             "line": {
              "color": "white"
             }
            },
            "header": {
             "fill": {
              "color": "#C8D4E3"
             },
             "line": {
              "color": "white"
             }
            },
            "type": "table"
           }
          ]
         },
         "layout": {
          "annotationdefaults": {
           "arrowcolor": "#2a3f5f",
           "arrowhead": 0,
           "arrowwidth": 1
          },
          "autotypenumbers": "strict",
          "coloraxis": {
           "colorbar": {
            "outlinewidth": 0,
            "ticks": ""
           }
          },
          "colorscale": {
           "diverging": [
            [
             0,
             "#8e0152"
            ],
            [
             0.1,
             "#c51b7d"
            ],
            [
             0.2,
             "#de77ae"
            ],
            [
             0.3,
             "#f1b6da"
            ],
            [
             0.4,
             "#fde0ef"
            ],
            [
             0.5,
             "#f7f7f7"
            ],
            [
             0.6,
             "#e6f5d0"
            ],
            [
             0.7,
             "#b8e186"
            ],
            [
             0.8,
             "#7fbc41"
            ],
            [
             0.9,
             "#4d9221"
            ],
            [
             1,
             "#276419"
            ]
           ],
           "sequential": [
            [
             0,
             "#0d0887"
            ],
            [
             0.1111111111111111,
             "#46039f"
            ],
            [
             0.2222222222222222,
             "#7201a8"
            ],
            [
             0.3333333333333333,
             "#9c179e"
            ],
            [
             0.4444444444444444,
             "#bd3786"
            ],
            [
             0.5555555555555556,
             "#d8576b"
            ],
            [
             0.6666666666666666,
             "#ed7953"
            ],
            [
             0.7777777777777778,
             "#fb9f3a"
            ],
            [
             0.8888888888888888,
             "#fdca26"
            ],
            [
             1,
             "#f0f921"
            ]
           ],
           "sequentialminus": [
            [
             0,
             "#0d0887"
            ],
            [
             0.1111111111111111,
             "#46039f"
            ],
            [
             0.2222222222222222,
             "#7201a8"
            ],
            [
             0.3333333333333333,
             "#9c179e"
            ],
            [
             0.4444444444444444,
             "#bd3786"
            ],
            [
             0.5555555555555556,
             "#d8576b"
            ],
            [
             0.6666666666666666,
             "#ed7953"
            ],
            [
             0.7777777777777778,
             "#fb9f3a"
            ],
            [
             0.8888888888888888,
             "#fdca26"
            ],
            [
             1,
             "#f0f921"
            ]
           ]
          },
          "colorway": [
           "#636efa",
           "#EF553B",
           "#00cc96",
           "#ab63fa",
           "#FFA15A",
           "#19d3f3",
           "#FF6692",
           "#B6E880",
           "#FF97FF",
           "#FECB52"
          ],
          "font": {
           "color": "#2a3f5f"
          },
          "geo": {
           "bgcolor": "white",
           "lakecolor": "white",
           "landcolor": "#E5ECF6",
           "showlakes": true,
           "showland": true,
           "subunitcolor": "white"
          },
          "hoverlabel": {
           "align": "left"
          },
          "hovermode": "closest",
          "mapbox": {
           "style": "light"
          },
          "paper_bgcolor": "white",
          "plot_bgcolor": "#E5ECF6",
          "polar": {
           "angularaxis": {
            "gridcolor": "white",
            "linecolor": "white",
            "ticks": ""
           },
           "bgcolor": "#E5ECF6",
           "radialaxis": {
            "gridcolor": "white",
            "linecolor": "white",
            "ticks": ""
           }
          },
          "scene": {
           "xaxis": {
            "backgroundcolor": "#E5ECF6",
            "gridcolor": "white",
            "gridwidth": 2,
            "linecolor": "white",
            "showbackground": true,
            "ticks": "",
            "zerolinecolor": "white"
           },
           "yaxis": {
            "backgroundcolor": "#E5ECF6",
            "gridcolor": "white",
            "gridwidth": 2,
            "linecolor": "white",
            "showbackground": true,
            "ticks": "",
            "zerolinecolor": "white"
           },
           "zaxis": {
            "backgroundcolor": "#E5ECF6",
            "gridcolor": "white",
            "gridwidth": 2,
            "linecolor": "white",
            "showbackground": true,
            "ticks": "",
            "zerolinecolor": "white"
           }
          },
          "shapedefaults": {
           "line": {
            "color": "#2a3f5f"
           }
          },
          "ternary": {
           "aaxis": {
            "gridcolor": "white",
            "linecolor": "white",
            "ticks": ""
           },
           "baxis": {
            "gridcolor": "white",
            "linecolor": "white",
            "ticks": ""
           },
           "bgcolor": "#E5ECF6",
           "caxis": {
            "gridcolor": "white",
            "linecolor": "white",
            "ticks": ""
           }
          },
          "title": {
           "x": 0.05
          },
          "xaxis": {
           "automargin": true,
           "gridcolor": "white",
           "linecolor": "white",
           "ticks": "",
           "title": {
            "standoff": 15
           },
           "zerolinecolor": "white",
           "zerolinewidth": 2
          },
          "yaxis": {
           "automargin": true,
           "gridcolor": "white",
           "linecolor": "white",
           "ticks": "",
           "title": {
            "standoff": 15
           },
           "zerolinecolor": "white",
           "zerolinewidth": 2
          }
         }
        },
        "title": {
         "text": "Trend of Content Produced on Netfilx Every Year"
        },
        "xaxis": {
         "anchor": "y",
         "domain": [
          0,
          1
         ],
         "title": {
          "text": "Release Year"
         }
        },
        "yaxis": {
         "anchor": "x",
         "domain": [
          0,
          1
         ],
         "title": {
          "text": "Total Count"
         }
        }
       }
      }
     },
     "metadata": {},
     "output_type": "display_data"
    }
   ],
   "source": [
    "df2 = df2[df2['Release Year']>=2000]\n",
    "graph = px.line(df2, x = \"Release Year\", y=\"Total Count\", color = \"Type\", title = \"Trend of Content Produced on Netfilx Every Year\")\n",
    "graph.show()"
   ]
  },
  {
   "cell_type": "markdown",
   "metadata": {
    "id": "F-lYeo3DCEAD"
   },
   "source": [
    "# Sentiment Analysis of Netflix Content"
   ]
  },
  {
   "cell_type": "code",
   "execution_count": 22,
   "metadata": {
    "colab": {
     "base_uri": "https://localhost:8080/",
     "height": 542
    },
    "id": "3Q42RoegAyXZ",
    "outputId": "063f05fb-dbf5-4acc-95ba-b878f64fce76"
   },
   "outputs": [
    {
     "data": {
      "application/vnd.plotly.v1+json": {
       "config": {
        "plotlyServerURL": "https://plot.ly"
       },
       "data": [
        {
         "alignmentgroup": "True",
         "hovertemplate": "Sentiment=Negative<br>Release Year=%{x}<br>Total Count=%{y}<extra></extra>",
         "legendgroup": "Negative",
         "marker": {
          "color": "#636efa",
          "pattern": {
           "shape": ""
          }
         },
         "name": "Negative",
         "offsetgroup": "Negative",
         "orientation": "v",
         "showlegend": true,
         "textposition": "auto",
         "type": "bar",
         "x": [
          2006,
          2007,
          2008,
          2009,
          2010,
          2011,
          2012,
          2013,
          2014,
          2015,
          2016,
          2017,
          2018,
          2019,
          2020,
          2021
         ],
         "xaxis": "x",
         "y": [
          29,
          26,
          32,
          40,
          53,
          46,
          73,
          93,
          117,
          167,
          283,
          323,
          355,
          308,
          273,
          164
         ],
         "yaxis": "y"
        },
        {
         "alignmentgroup": "True",
         "hovertemplate": "Sentiment=Neutral<br>Release Year=%{x}<br>Total Count=%{y}<extra></extra>",
         "legendgroup": "Neutral",
         "marker": {
          "color": "#EF553B",
          "pattern": {
           "shape": ""
          }
         },
         "name": "Neutral",
         "offsetgroup": "Neutral",
         "orientation": "v",
         "showlegend": true,
         "textposition": "auto",
         "type": "bar",
         "x": [
          2006,
          2007,
          2008,
          2009,
          2010,
          2011,
          2012,
          2013,
          2014,
          2015,
          2016,
          2017,
          2018,
          2019,
          2020,
          2021
         ],
         "xaxis": "x",
         "y": [
          18,
          21,
          34,
          33,
          40,
          33,
          39,
          44,
          67,
          96,
          152,
          210,
          212,
          170,
          161,
          85
         ],
         "yaxis": "y"
        },
        {
         "alignmentgroup": "True",
         "hovertemplate": "Sentiment=Positive<br>Release Year=%{x}<br>Total Count=%{y}<extra></extra>",
         "legendgroup": "Positive",
         "marker": {
          "color": "#00cc96",
          "pattern": {
           "shape": ""
          }
         },
         "name": "Positive",
         "offsetgroup": "Positive",
         "orientation": "v",
         "showlegend": true,
         "textposition": "auto",
         "type": "bar",
         "x": [
          2006,
          2007,
          2008,
          2009,
          2010,
          2011,
          2012,
          2013,
          2014,
          2015,
          2016,
          2017,
          2018,
          2019,
          2020,
          2021
         ],
         "xaxis": "x",
         "y": [
          49,
          41,
          70,
          79,
          101,
          106,
          125,
          151,
          168,
          297,
          467,
          499,
          580,
          552,
          519,
          343
         ],
         "yaxis": "y"
        }
       ],
       "layout": {
        "barmode": "relative",
        "legend": {
         "title": {
          "text": "Sentiment"
         },
         "tracegroupgap": 0
        },
        "template": {
         "data": {
          "bar": [
           {
            "error_x": {
             "color": "#2a3f5f"
            },
            "error_y": {
             "color": "#2a3f5f"
            },
            "marker": {
             "line": {
              "color": "#E5ECF6",
              "width": 0.5
             },
             "pattern": {
              "fillmode": "overlay",
              "size": 10,
              "solidity": 0.2
             }
            },
            "type": "bar"
           }
          ],
          "barpolar": [
           {
            "marker": {
             "line": {
              "color": "#E5ECF6",
              "width": 0.5
             },
             "pattern": {
              "fillmode": "overlay",
              "size": 10,
              "solidity": 0.2
             }
            },
            "type": "barpolar"
           }
          ],
          "carpet": [
           {
            "aaxis": {
             "endlinecolor": "#2a3f5f",
             "gridcolor": "white",
             "linecolor": "white",
             "minorgridcolor": "white",
             "startlinecolor": "#2a3f5f"
            },
            "baxis": {
             "endlinecolor": "#2a3f5f",
             "gridcolor": "white",
             "linecolor": "white",
             "minorgridcolor": "white",
             "startlinecolor": "#2a3f5f"
            },
            "type": "carpet"
           }
          ],
          "choropleth": [
           {
            "colorbar": {
             "outlinewidth": 0,
             "ticks": ""
            },
            "type": "choropleth"
           }
          ],
          "contour": [
           {
            "colorbar": {
             "outlinewidth": 0,
             "ticks": ""
            },
            "colorscale": [
             [
              0,
              "#0d0887"
             ],
             [
              0.1111111111111111,
              "#46039f"
             ],
             [
              0.2222222222222222,
              "#7201a8"
             ],
             [
              0.3333333333333333,
              "#9c179e"
             ],
             [
              0.4444444444444444,
              "#bd3786"
             ],
             [
              0.5555555555555556,
              "#d8576b"
             ],
             [
              0.6666666666666666,
              "#ed7953"
             ],
             [
              0.7777777777777778,
              "#fb9f3a"
             ],
             [
              0.8888888888888888,
              "#fdca26"
             ],
             [
              1,
              "#f0f921"
             ]
            ],
            "type": "contour"
           }
          ],
          "contourcarpet": [
           {
            "colorbar": {
             "outlinewidth": 0,
             "ticks": ""
            },
            "type": "contourcarpet"
           }
          ],
          "heatmap": [
           {
            "colorbar": {
             "outlinewidth": 0,
             "ticks": ""
            },
            "colorscale": [
             [
              0,
              "#0d0887"
             ],
             [
              0.1111111111111111,
              "#46039f"
             ],
             [
              0.2222222222222222,
              "#7201a8"
             ],
             [
              0.3333333333333333,
              "#9c179e"
             ],
             [
              0.4444444444444444,
              "#bd3786"
             ],
             [
              0.5555555555555556,
              "#d8576b"
             ],
             [
              0.6666666666666666,
              "#ed7953"
             ],
             [
              0.7777777777777778,
              "#fb9f3a"
             ],
             [
              0.8888888888888888,
              "#fdca26"
             ],
             [
              1,
              "#f0f921"
             ]
            ],
            "type": "heatmap"
           }
          ],
          "heatmapgl": [
           {
            "colorbar": {
             "outlinewidth": 0,
             "ticks": ""
            },
            "colorscale": [
             [
              0,
              "#0d0887"
             ],
             [
              0.1111111111111111,
              "#46039f"
             ],
             [
              0.2222222222222222,
              "#7201a8"
             ],
             [
              0.3333333333333333,
              "#9c179e"
             ],
             [
              0.4444444444444444,
              "#bd3786"
             ],
             [
              0.5555555555555556,
              "#d8576b"
             ],
             [
              0.6666666666666666,
              "#ed7953"
             ],
             [
              0.7777777777777778,
              "#fb9f3a"
             ],
             [
              0.8888888888888888,
              "#fdca26"
             ],
             [
              1,
              "#f0f921"
             ]
            ],
            "type": "heatmapgl"
           }
          ],
          "histogram": [
           {
            "marker": {
             "pattern": {
              "fillmode": "overlay",
              "size": 10,
              "solidity": 0.2
             }
            },
            "type": "histogram"
           }
          ],
          "histogram2d": [
           {
            "colorbar": {
             "outlinewidth": 0,
             "ticks": ""
            },
            "colorscale": [
             [
              0,
              "#0d0887"
             ],
             [
              0.1111111111111111,
              "#46039f"
             ],
             [
              0.2222222222222222,
              "#7201a8"
             ],
             [
              0.3333333333333333,
              "#9c179e"
             ],
             [
              0.4444444444444444,
              "#bd3786"
             ],
             [
              0.5555555555555556,
              "#d8576b"
             ],
             [
              0.6666666666666666,
              "#ed7953"
             ],
             [
              0.7777777777777778,
              "#fb9f3a"
             ],
             [
              0.8888888888888888,
              "#fdca26"
             ],
             [
              1,
              "#f0f921"
             ]
            ],
            "type": "histogram2d"
           }
          ],
          "histogram2dcontour": [
           {
            "colorbar": {
             "outlinewidth": 0,
             "ticks": ""
            },
            "colorscale": [
             [
              0,
              "#0d0887"
             ],
             [
              0.1111111111111111,
              "#46039f"
             ],
             [
              0.2222222222222222,
              "#7201a8"
             ],
             [
              0.3333333333333333,
              "#9c179e"
             ],
             [
              0.4444444444444444,
              "#bd3786"
             ],
             [
              0.5555555555555556,
              "#d8576b"
             ],
             [
              0.6666666666666666,
              "#ed7953"
             ],
             [
              0.7777777777777778,
              "#fb9f3a"
             ],
             [
              0.8888888888888888,
              "#fdca26"
             ],
             [
              1,
              "#f0f921"
             ]
            ],
            "type": "histogram2dcontour"
           }
          ],
          "mesh3d": [
           {
            "colorbar": {
             "outlinewidth": 0,
             "ticks": ""
            },
            "type": "mesh3d"
           }
          ],
          "parcoords": [
           {
            "line": {
             "colorbar": {
              "outlinewidth": 0,
              "ticks": ""
             }
            },
            "type": "parcoords"
           }
          ],
          "pie": [
           {
            "automargin": true,
            "type": "pie"
           }
          ],
          "scatter": [
           {
            "fillpattern": {
             "fillmode": "overlay",
             "size": 10,
             "solidity": 0.2
            },
            "type": "scatter"
           }
          ],
          "scatter3d": [
           {
            "line": {
             "colorbar": {
              "outlinewidth": 0,
              "ticks": ""
             }
            },
            "marker": {
             "colorbar": {
              "outlinewidth": 0,
              "ticks": ""
             }
            },
            "type": "scatter3d"
           }
          ],
          "scattercarpet": [
           {
            "marker": {
             "colorbar": {
              "outlinewidth": 0,
              "ticks": ""
             }
            },
            "type": "scattercarpet"
           }
          ],
          "scattergeo": [
           {
            "marker": {
             "colorbar": {
              "outlinewidth": 0,
              "ticks": ""
             }
            },
            "type": "scattergeo"
           }
          ],
          "scattergl": [
           {
            "marker": {
             "colorbar": {
              "outlinewidth": 0,
              "ticks": ""
             }
            },
            "type": "scattergl"
           }
          ],
          "scattermapbox": [
           {
            "marker": {
             "colorbar": {
              "outlinewidth": 0,
              "ticks": ""
             }
            },
            "type": "scattermapbox"
           }
          ],
          "scatterpolar": [
           {
            "marker": {
             "colorbar": {
              "outlinewidth": 0,
              "ticks": ""
             }
            },
            "type": "scatterpolar"
           }
          ],
          "scatterpolargl": [
           {
            "marker": {
             "colorbar": {
              "outlinewidth": 0,
              "ticks": ""
             }
            },
            "type": "scatterpolargl"
           }
          ],
          "scatterternary": [
           {
            "marker": {
             "colorbar": {
              "outlinewidth": 0,
              "ticks": ""
             }
            },
            "type": "scatterternary"
           }
          ],
          "surface": [
           {
            "colorbar": {
             "outlinewidth": 0,
             "ticks": ""
            },
            "colorscale": [
             [
              0,
              "#0d0887"
             ],
             [
              0.1111111111111111,
              "#46039f"
             ],
             [
              0.2222222222222222,
              "#7201a8"
             ],
             [
              0.3333333333333333,
              "#9c179e"
             ],
             [
              0.4444444444444444,
              "#bd3786"
             ],
             [
              0.5555555555555556,
              "#d8576b"
             ],
             [
              0.6666666666666666,
              "#ed7953"
             ],
             [
              0.7777777777777778,
              "#fb9f3a"
             ],
             [
              0.8888888888888888,
              "#fdca26"
             ],
             [
              1,
              "#f0f921"
             ]
            ],
            "type": "surface"
           }
          ],
          "table": [
           {
            "cells": {
             "fill": {
              "color": "#EBF0F8"
             },
             "line": {
              "color": "white"
             }
            },
            "header": {
             "fill": {
              "color": "#C8D4E3"
             },
             "line": {
              "color": "white"
             }
            },
            "type": "table"
           }
          ]
         },
         "layout": {
          "annotationdefaults": {
           "arrowcolor": "#2a3f5f",
           "arrowhead": 0,
           "arrowwidth": 1
          },
          "autotypenumbers": "strict",
          "coloraxis": {
           "colorbar": {
            "outlinewidth": 0,
            "ticks": ""
           }
          },
          "colorscale": {
           "diverging": [
            [
             0,
             "#8e0152"
            ],
            [
             0.1,
             "#c51b7d"
            ],
            [
             0.2,
             "#de77ae"
            ],
            [
             0.3,
             "#f1b6da"
            ],
            [
             0.4,
             "#fde0ef"
            ],
            [
             0.5,
             "#f7f7f7"
            ],
            [
             0.6,
             "#e6f5d0"
            ],
            [
             0.7,
             "#b8e186"
            ],
            [
             0.8,
             "#7fbc41"
            ],
            [
             0.9,
             "#4d9221"
            ],
            [
             1,
             "#276419"
            ]
           ],
           "sequential": [
            [
             0,
             "#0d0887"
            ],
            [
             0.1111111111111111,
             "#46039f"
            ],
            [
             0.2222222222222222,
             "#7201a8"
            ],
            [
             0.3333333333333333,
             "#9c179e"
            ],
            [
             0.4444444444444444,
             "#bd3786"
            ],
            [
             0.5555555555555556,
             "#d8576b"
            ],
            [
             0.6666666666666666,
             "#ed7953"
            ],
            [
             0.7777777777777778,
             "#fb9f3a"
            ],
            [
             0.8888888888888888,
             "#fdca26"
            ],
            [
             1,
             "#f0f921"
            ]
           ],
           "sequentialminus": [
            [
             0,
             "#0d0887"
            ],
            [
             0.1111111111111111,
             "#46039f"
            ],
            [
             0.2222222222222222,
             "#7201a8"
            ],
            [
             0.3333333333333333,
             "#9c179e"
            ],
            [
             0.4444444444444444,
             "#bd3786"
            ],
            [
             0.5555555555555556,
             "#d8576b"
            ],
            [
             0.6666666666666666,
             "#ed7953"
            ],
            [
             0.7777777777777778,
             "#fb9f3a"
            ],
            [
             0.8888888888888888,
             "#fdca26"
            ],
            [
             1,
             "#f0f921"
            ]
           ]
          },
          "colorway": [
           "#636efa",
           "#EF553B",
           "#00cc96",
           "#ab63fa",
           "#FFA15A",
           "#19d3f3",
           "#FF6692",
           "#B6E880",
           "#FF97FF",
           "#FECB52"
          ],
          "font": {
           "color": "#2a3f5f"
          },
          "geo": {
           "bgcolor": "white",
           "lakecolor": "white",
           "landcolor": "#E5ECF6",
           "showlakes": true,
           "showland": true,
           "subunitcolor": "white"
          },
          "hoverlabel": {
           "align": "left"
          },
          "hovermode": "closest",
          "mapbox": {
           "style": "light"
          },
          "paper_bgcolor": "white",
          "plot_bgcolor": "#E5ECF6",
          "polar": {
           "angularaxis": {
            "gridcolor": "white",
            "linecolor": "white",
            "ticks": ""
           },
           "bgcolor": "#E5ECF6",
           "radialaxis": {
            "gridcolor": "white",
            "linecolor": "white",
            "ticks": ""
           }
          },
          "scene": {
           "xaxis": {
            "backgroundcolor": "#E5ECF6",
            "gridcolor": "white",
            "gridwidth": 2,
            "linecolor": "white",
            "showbackground": true,
            "ticks": "",
            "zerolinecolor": "white"
           },
           "yaxis": {
            "backgroundcolor": "#E5ECF6",
            "gridcolor": "white",
            "gridwidth": 2,
            "linecolor": "white",
            "showbackground": true,
            "ticks": "",
            "zerolinecolor": "white"
           },
           "zaxis": {
            "backgroundcolor": "#E5ECF6",
            "gridcolor": "white",
            "gridwidth": 2,
            "linecolor": "white",
            "showbackground": true,
            "ticks": "",
            "zerolinecolor": "white"
           }
          },
          "shapedefaults": {
           "line": {
            "color": "#2a3f5f"
           }
          },
          "ternary": {
           "aaxis": {
            "gridcolor": "white",
            "linecolor": "white",
            "ticks": ""
           },
           "baxis": {
            "gridcolor": "white",
            "linecolor": "white",
            "ticks": ""
           },
           "bgcolor": "#E5ECF6",
           "caxis": {
            "gridcolor": "white",
            "linecolor": "white",
            "ticks": ""
           }
          },
          "title": {
           "x": 0.05
          },
          "xaxis": {
           "automargin": true,
           "gridcolor": "white",
           "linecolor": "white",
           "ticks": "",
           "title": {
            "standoff": 15
           },
           "zerolinecolor": "white",
           "zerolinewidth": 2
          },
          "yaxis": {
           "automargin": true,
           "gridcolor": "white",
           "linecolor": "white",
           "ticks": "",
           "title": {
            "standoff": 15
           },
           "zerolinecolor": "white",
           "zerolinewidth": 2
          }
         }
        },
        "title": {
         "text": "Sentiment Analysis of Content on Netflix"
        },
        "xaxis": {
         "anchor": "y",
         "domain": [
          0,
          1
         ],
         "title": {
          "text": "Release Year"
         }
        },
        "yaxis": {
         "anchor": "x",
         "domain": [
          0,
          1
         ],
         "title": {
          "text": "Total Count"
         }
        }
       }
      }
     },
     "metadata": {},
     "output_type": "display_data"
    }
   ],
   "source": [
    "df3 = df[['release_year', 'description']]\n",
    "df3 = df3.rename(columns = {'release_year':'Release Year', 'description':'Description'})\n",
    "for index, row in df3.iterrows():\n",
    "  d=row['Description']\n",
    "  testimonial = TextBlob(d)\n",
    "  p = testimonial.sentiment.polarity\n",
    "  if p==0:\n",
    "    sent = 'Neutral'\n",
    "  elif p>0:\n",
    "    sent = 'Positive'\n",
    "  else:\n",
    "    sent = 'Negative'\n",
    "  df3.loc[[index, 2], 'Sentiment']=sent\n",
    "\n",
    "df3 = df3.groupby(['Release Year', 'Sentiment']).size().reset_index(name = 'Total Count')\n",
    "\n",
    "df3 = df3[df3['Release Year']>2005]\n",
    "barGraph = px.bar(df3, x=\"Release Year\", y=\"Total Count\", color = \"Sentiment\", title = \"Sentiment Analysis of Content on Netflix\")\n",
    "barGraph.show()"
   ]
  },
  {
   "cell_type": "markdown",
   "metadata": {},
   "source": [
    "# Genre Distribution over the Years (Line Chart)"
   ]
  },
  {
   "cell_type": "code",
   "execution_count": 23,
   "metadata": {
    "id": "una_4DPnFWCY"
   },
   "outputs": [
    {
     "data": {
      "application/vnd.plotly.v1+json": {
       "config": {
        "plotlyServerURL": "https://plot.ly"
       },
       "data": [
        {
         "hovertemplate": "listed_in=TV Shows<br>release_year=%{x}<br>count=%{y}<extra></extra>",
         "legendgroup": "TV Shows",
         "line": {
          "color": "#636efa",
          "dash": "solid"
         },
         "marker": {
          "symbol": "circle"
         },
         "mode": "lines",
         "name": "TV Shows",
         "showlegend": true,
         "type": "scattergl",
         "x": [
          1925,
          1945,
          1946,
          1991,
          1994,
          2006,
          2014,
          2015,
          2017,
          2019,
          2020,
          2021
         ],
         "xaxis": "x",
         "y": [
          1,
          1,
          1,
          1,
          1,
          1,
          1,
          1,
          2,
          2,
          2,
          2
         ],
         "yaxis": "y"
        },
        {
         "hovertemplate": "listed_in=Classic Movies, Documentaries<br>release_year=%{x}<br>count=%{y}<extra></extra>",
         "legendgroup": "Classic Movies, Documentaries",
         "line": {
          "color": "#EF553B",
          "dash": "solid"
         },
         "marker": {
          "symbol": "circle"
         },
         "mode": "lines",
         "name": "Classic Movies, Documentaries",
         "showlegend": true,
         "type": "scattergl",
         "x": [
          1942,
          1943,
          1944,
          1945,
          1946,
          1947
         ],
         "xaxis": "x",
         "y": [
          2,
          1,
          3,
          3,
          1,
          1
         ],
         "yaxis": "y"
        },
        {
         "hovertemplate": "listed_in=Documentaries<br>release_year=%{x}<br>count=%{y}<extra></extra>",
         "legendgroup": "Documentaries",
         "line": {
          "color": "#00cc96",
          "dash": "solid"
         },
         "marker": {
          "symbol": "circle"
         },
         "mode": "lines",
         "name": "Documentaries",
         "showlegend": true,
         "type": "scattergl",
         "x": [
          1943,
          1972,
          1994,
          1998,
          2002,
          2005,
          2006,
          2007,
          2008,
          2009,
          2010,
          2011,
          2012,
          2013,
          2014,
          2015,
          2016,
          2017,
          2018,
          2019,
          2020,
          2021
         ],
         "xaxis": "x",
         "y": [
          2,
          1,
          2,
          1,
          1,
          1,
          1,
          1,
          3,
          1,
          3,
          5,
          3,
          10,
          12,
          26,
          67,
          89,
          54,
          33,
          23,
          20
         ],
         "yaxis": "y"
        },
        {
         "hovertemplate": "listed_in=Children & Family Movies, Classic Movies, Comedies<br>release_year=%{x}<br>count=%{y}<extra></extra>",
         "legendgroup": "Children & Family Movies, Classic Movies, Comedies",
         "line": {
          "color": "#ab63fa",
          "dash": "solid"
         },
         "marker": {
          "symbol": "circle"
         },
         "mode": "lines",
         "name": "Children & Family Movies, Classic Movies, Comedies",
         "showlegend": true,
         "type": "scattergl",
         "x": [
          1954,
          1968,
          1971
         ],
         "xaxis": "x",
         "y": [
          1,
          1,
          1
         ],
         "yaxis": "y"
        },
        {
         "hovertemplate": "listed_in=Classic Movies, Dramas, International Movies<br>release_year=%{x}<br>count=%{y}<extra></extra>",
         "legendgroup": "Classic Movies, Dramas, International Movies",
         "line": {
          "color": "#FFA15A",
          "dash": "solid"
         },
         "marker": {
          "symbol": "circle"
         },
         "mode": "lines",
         "name": "Classic Movies, Dramas, International Movies",
         "showlegend": true,
         "type": "scattergl",
         "x": [
          1954,
          1956,
          1958,
          1964,
          1967,
          1970,
          1971,
          1973,
          1975,
          1979,
          1985,
          1989,
          1992,
          1993,
          1994
         ],
         "xaxis": "x",
         "y": [
          1,
          1,
          1,
          1,
          1,
          1,
          1,
          1,
          2,
          1,
          1,
          1,
          1,
          1,
          1
         ],
         "yaxis": "y"
        },
        {
         "hovertemplate": "listed_in=Classic Movies, Comedies, Independent Movies<br>release_year=%{x}<br>count=%{y}<extra></extra>",
         "legendgroup": "Classic Movies, Comedies, Independent Movies",
         "line": {
          "color": "#19d3f3",
          "dash": "solid"
         },
         "marker": {
          "symbol": "circle"
         },
         "mode": "lines",
         "name": "Classic Movies, Comedies, Independent Movies",
         "showlegend": true,
         "type": "scattergl",
         "x": [
          1955
         ],
         "xaxis": "x",
         "y": [
          2
         ],
         "yaxis": "y"
        },
        {
         "hovertemplate": "listed_in=Classic Movies, Dramas<br>release_year=%{x}<br>count=%{y}<extra></extra>",
         "legendgroup": "Classic Movies, Dramas",
         "line": {
          "color": "#FF6692",
          "dash": "solid"
         },
         "marker": {
          "symbol": "circle"
         },
         "mode": "lines",
         "name": "Classic Movies, Dramas",
         "showlegend": true,
         "type": "scattergl",
         "x": [
          1955,
          1958,
          1965,
          1967,
          1969,
          1981,
          1984,
          1988,
          1990,
          1992,
          1993
         ],
         "xaxis": "x",
         "y": [
          1,
          1,
          1,
          1,
          1,
          1,
          1,
          1,
          1,
          1,
          1
         ],
         "yaxis": "y"
        },
        {
         "hovertemplate": "listed_in=Action & Adventure, Classic Movies, Sci-Fi & Fantasy<br>release_year=%{x}<br>count=%{y}<extra></extra>",
         "legendgroup": "Action & Adventure, Classic Movies, Sci-Fi & Fantasy",
         "line": {
          "color": "#B6E880",
          "dash": "solid"
         },
         "marker": {
          "symbol": "circle"
         },
         "mode": "lines",
         "name": "Action & Adventure, Classic Movies, Sci-Fi & Fantasy",
         "showlegend": true,
         "type": "scattergl",
         "x": [
          1956
         ],
         "xaxis": "x",
         "y": [
          1
         ],
         "yaxis": "y"
        },
        {
         "hovertemplate": "listed_in=Classic Movies, Comedies, Music & Musicals<br>release_year=%{x}<br>count=%{y}<extra></extra>",
         "legendgroup": "Classic Movies, Comedies, Music & Musicals",
         "line": {
          "color": "#FF97FF",
          "dash": "solid"
         },
         "marker": {
          "symbol": "circle"
         },
         "mode": "lines",
         "name": "Classic Movies, Comedies, Music & Musicals",
         "showlegend": true,
         "type": "scattergl",
         "x": [
          1958,
          1978
         ],
         "xaxis": "x",
         "y": [
          1,
          1
         ],
         "yaxis": "y"
        },
        {
         "hovertemplate": "listed_in=Dramas, International Movies<br>release_year=%{x}<br>count=%{y}<extra></extra>",
         "legendgroup": "Dramas, International Movies",
         "line": {
          "color": "#FECB52",
          "dash": "solid"
         },
         "marker": {
          "symbol": "circle"
         },
         "mode": "lines",
         "name": "Dramas, International Movies",
         "showlegend": true,
         "type": "scattergl",
         "x": [
          1959,
          1976,
          1982,
          1983,
          1988,
          1989,
          1990,
          1994,
          1995,
          1997,
          1998,
          1999,
          2001,
          2002,
          2003,
          2004,
          2005,
          2006,
          2007,
          2008,
          2009,
          2010,
          2011,
          2012,
          2013,
          2014,
          2015,
          2016,
          2017,
          2018,
          2019,
          2020,
          2021
         ],
         "xaxis": "x",
         "y": [
          1,
          1,
          1,
          1,
          1,
          1,
          1,
          2,
          1,
          1,
          2,
          2,
          1,
          4,
          1,
          6,
          6,
          3,
          3,
          9,
          8,
          17,
          9,
          9,
          10,
          15,
          30,
          47,
          45,
          37,
          35,
          42,
          10
         ],
         "yaxis": "y"
        },
        {
         "hovertemplate": "listed_in=Action & Adventure, Classic Movies, Comedies<br>release_year=%{x}<br>count=%{y}<extra></extra>",
         "legendgroup": "Action & Adventure, Classic Movies, Comedies",
         "line": {
          "color": "#636efa",
          "dash": "solid"
         },
         "marker": {
          "symbol": "circle"
         },
         "mode": "lines",
         "name": "Action & Adventure, Classic Movies, Comedies",
         "showlegend": true,
         "type": "scattergl",
         "x": [
          1960,
          1975,
          1977,
          1988
         ],
         "xaxis": "x",
         "y": [
          1,
          1,
          1,
          1
         ],
         "yaxis": "y"
        },
        {
         "hovertemplate": "listed_in=Action & Adventure, Dramas, International Movies<br>release_year=%{x}<br>count=%{y}<extra></extra>",
         "legendgroup": "Action & Adventure, Dramas, International Movies",
         "line": {
          "color": "#EF553B",
          "dash": "solid"
         },
         "marker": {
          "symbol": "circle"
         },
         "mode": "lines",
         "name": "Action & Adventure, Dramas, International Movies",
         "showlegend": true,
         "type": "scattergl",
         "x": [
          1960,
          1975,
          1978,
          1980,
          1981,
          1983,
          1984,
          1989,
          1990,
          1992,
          1993,
          1995,
          1997,
          2000,
          2001,
          2002,
          2003,
          2004,
          2005,
          2007,
          2008,
          2009,
          2010,
          2011,
          2012,
          2013,
          2014,
          2015,
          2016,
          2017,
          2018,
          2019,
          2020,
          2021
         ],
         "xaxis": "x",
         "y": [
          1,
          1,
          1,
          1,
          1,
          1,
          1,
          1,
          2,
          2,
          2,
          1,
          1,
          1,
          1,
          1,
          2,
          1,
          1,
          1,
          3,
          3,
          1,
          5,
          3,
          6,
          3,
          18,
          16,
          20,
          12,
          7,
          4,
          7
         ],
         "yaxis": "y"
        },
        {
         "hovertemplate": "listed_in=Classic Movies, Dramas, Romantic Movies<br>release_year=%{x}<br>count=%{y}<extra></extra>",
         "legendgroup": "Classic Movies, Dramas, Romantic Movies",
         "line": {
          "color": "#00cc96",
          "dash": "solid"
         },
         "marker": {
          "symbol": "circle"
         },
         "mode": "lines",
         "name": "Classic Movies, Dramas, Romantic Movies",
         "showlegend": true,
         "type": "scattergl",
         "x": [
          1960,
          1962,
          1965
         ],
         "xaxis": "x",
         "y": [
          1,
          1,
          1
         ],
         "yaxis": "y"
        },
        {
         "hovertemplate": "listed_in=Comedies, Dramas, International Movies<br>release_year=%{x}<br>count=%{y}<extra></extra>",
         "legendgroup": "Comedies, Dramas, International Movies",
         "line": {
          "color": "#ab63fa",
          "dash": "solid"
         },
         "marker": {
          "symbol": "circle"
         },
         "mode": "lines",
         "name": "Comedies, Dramas, International Movies",
         "showlegend": true,
         "type": "scattergl",
         "x": [
          1960,
          1962,
          1973,
          1979,
          1981,
          1984,
          1990,
          1994,
          1996,
          1998,
          1999,
          2000,
          2001,
          2002,
          2003,
          2004,
          2005,
          2006,
          2007,
          2008,
          2009,
          2010,
          2011,
          2012,
          2013,
          2014,
          2015,
          2016,
          2017,
          2018,
          2019,
          2020,
          2021
         ],
         "xaxis": "x",
         "y": [
          1,
          1,
          1,
          1,
          1,
          2,
          1,
          1,
          1,
          3,
          2,
          2,
          4,
          1,
          3,
          4,
          3,
          10,
          4,
          7,
          3,
          11,
          7,
          8,
          12,
          16,
          17,
          24,
          28,
          34,
          26,
          20,
          15
         ],
         "yaxis": "y"
        },
        {
         "hovertemplate": "listed_in=Action & Adventure, Classic Movies<br>release_year=%{x}<br>count=%{y}<extra></extra>",
         "legendgroup": "Action & Adventure, Classic Movies",
         "line": {
          "color": "#FFA15A",
          "dash": "solid"
         },
         "marker": {
          "symbol": "circle"
         },
         "mode": "lines",
         "name": "Action & Adventure, Classic Movies",
         "showlegend": true,
         "type": "scattergl",
         "x": [
          1961,
          1973,
          1976,
          1993
         ],
         "xaxis": "x",
         "y": [
          1,
          2,
          1,
          1
         ],
         "yaxis": "y"
        },
        {
         "hovertemplate": "listed_in=Action & Adventure, Classic Movies, Dramas<br>release_year=%{x}<br>count=%{y}<extra></extra>",
         "legendgroup": "Action & Adventure, Classic Movies, Dramas",
         "line": {
          "color": "#19d3f3",
          "dash": "solid"
         },
         "marker": {
          "symbol": "circle"
         },
         "mode": "lines",
         "name": "Action & Adventure, Classic Movies, Dramas",
         "showlegend": true,
         "type": "scattergl",
         "x": [
          1962,
          1963,
          1967,
          1972,
          1975,
          1976,
          1977,
          1986,
          1990
         ],
         "xaxis": "x",
         "y": [
          1,
          1,
          1,
          1,
          1,
          1,
          1,
          1,
          1
         ],
         "yaxis": "y"
        },
        {
         "hovertemplate": "listed_in=Classic & Cult TV, TV Sci-Fi & Fantasy<br>release_year=%{x}<br>count=%{y}<extra></extra>",
         "legendgroup": "Classic & Cult TV, TV Sci-Fi & Fantasy",
         "line": {
          "color": "#FF6692",
          "dash": "solid"
         },
         "marker": {
          "symbol": "circle"
         },
         "mode": "lines",
         "name": "Classic & Cult TV, TV Sci-Fi & Fantasy",
         "showlegend": true,
         "type": "scattergl",
         "x": [
          1963
         ],
         "xaxis": "x",
         "y": [
          1
         ],
         "yaxis": "y"
        },
        {
         "hovertemplate": "listed_in=Classic Movies, Music & Musicals<br>release_year=%{x}<br>count=%{y}<extra></extra>",
         "legendgroup": "Classic Movies, Music & Musicals",
         "line": {
          "color": "#B6E880",
          "dash": "solid"
         },
         "marker": {
          "symbol": "circle"
         },
         "mode": "lines",
         "name": "Classic Movies, Music & Musicals",
         "showlegend": true,
         "type": "scattergl",
         "x": [
          1964
         ],
         "xaxis": "x",
         "y": [
          1
         ],
         "yaxis": "y"
        },
        {
         "hovertemplate": "listed_in=Dramas, International Movies, Music & Musicals<br>release_year=%{x}<br>count=%{y}<extra></extra>",
         "legendgroup": "Dramas, International Movies, Music & Musicals",
         "line": {
          "color": "#FF97FF",
          "dash": "solid"
         },
         "marker": {
          "symbol": "circle"
         },
         "mode": "lines",
         "name": "Dramas, International Movies, Music & Musicals",
         "showlegend": true,
         "type": "scattergl",
         "x": [
          1966,
          1983,
          1986,
          1989,
          1991,
          1993,
          1995,
          1999,
          2000,
          2001,
          2002,
          2005,
          2007,
          2008,
          2009,
          2010,
          2011,
          2012,
          2013,
          2015,
          2016,
          2017,
          2018,
          2020,
          2021
         ],
         "xaxis": "x",
         "y": [
          1,
          1,
          1,
          1,
          1,
          2,
          1,
          3,
          2,
          1,
          2,
          1,
          4,
          2,
          1,
          4,
          1,
          2,
          4,
          3,
          3,
          4,
          7,
          2,
          3
         ],
         "yaxis": "y"
        },
        {
         "hovertemplate": "listed_in=Classic & Cult TV, TV Comedies<br>release_year=%{x}<br>count=%{y}<extra></extra>",
         "legendgroup": "Classic & Cult TV, TV Comedies",
         "line": {
          "color": "#FECB52",
          "dash": "solid"
         },
         "marker": {
          "symbol": "circle"
         },
         "mode": "lines",
         "name": "Classic & Cult TV, TV Comedies",
         "showlegend": true,
         "type": "scattergl",
         "x": [
          1967,
          1992,
          2003,
          2017
         ],
         "xaxis": "x",
         "y": [
          1,
          1,
          2,
          1
         ],
         "yaxis": "y"
        },
        {
         "hovertemplate": "listed_in=Classic Movies, Dramas, Independent Movies<br>release_year=%{x}<br>count=%{y}<extra></extra>",
         "legendgroup": "Classic Movies, Dramas, Independent Movies",
         "line": {
          "color": "#636efa",
          "dash": "solid"
         },
         "marker": {
          "symbol": "circle"
         },
         "mode": "lines",
         "name": "Classic Movies, Dramas, Independent Movies",
         "showlegend": true,
         "type": "scattergl",
         "x": [
          1967,
          1973,
          1982,
          1991,
          1992,
          1993,
          2018
         ],
         "xaxis": "x",
         "y": [
          1,
          1,
          1,
          2,
          1,
          2,
          1
         ],
         "yaxis": "y"
        },
        {
         "hovertemplate": "listed_in=Action & Adventure, Classic Movies, International Movies<br>release_year=%{x}<br>count=%{y}<extra></extra>",
         "legendgroup": "Action & Adventure, Classic Movies, International Movies",
         "line": {
          "color": "#EF553B",
          "dash": "solid"
         },
         "marker": {
          "symbol": "circle"
         },
         "mode": "lines",
         "name": "Action & Adventure, Classic Movies, International Movies",
         "showlegend": true,
         "type": "scattergl",
         "x": [
          1968
         ],
         "xaxis": "x",
         "y": [
          1
         ],
         "yaxis": "y"
        },
        {
         "hovertemplate": "listed_in=Classic Movies, Horror Movies, Thrillers<br>release_year=%{x}<br>count=%{y}<extra></extra>",
         "legendgroup": "Classic Movies, Horror Movies, Thrillers",
         "line": {
          "color": "#00cc96",
          "dash": "solid"
         },
         "marker": {
          "symbol": "circle"
         },
         "mode": "lines",
         "name": "Classic Movies, Horror Movies, Thrillers",
         "showlegend": true,
         "type": "scattergl",
         "x": [
          1968
         ],
         "xaxis": "x",
         "y": [
          1
         ],
         "yaxis": "y"
        },
        {
         "hovertemplate": "listed_in=Dramas, International Movies, Romantic Movies<br>release_year=%{x}<br>count=%{y}<extra></extra>",
         "legendgroup": "Dramas, International Movies, Romantic Movies",
         "line": {
          "color": "#ab63fa",
          "dash": "solid"
         },
         "marker": {
          "symbol": "circle"
         },
         "mode": "lines",
         "name": "Dramas, International Movies, Romantic Movies",
         "showlegend": true,
         "type": "scattergl",
         "x": [
          1969,
          1973,
          1974,
          1983,
          1984,
          1995,
          1996,
          1997,
          1998,
          1999,
          2000,
          2001,
          2002,
          2003,
          2005,
          2006,
          2007,
          2008,
          2009,
          2010,
          2011,
          2012,
          2013,
          2014,
          2015,
          2016,
          2017,
          2018,
          2019,
          2020,
          2021
         ],
         "xaxis": "x",
         "y": [
          1,
          1,
          1,
          1,
          1,
          1,
          2,
          1,
          1,
          2,
          1,
          1,
          1,
          3,
          4,
          4,
          1,
          1,
          3,
          3,
          5,
          5,
          6,
          8,
          13,
          18,
          19,
          15,
          26,
          22,
          9
         ],
         "yaxis": "y"
        },
        {
         "hovertemplate": "listed_in=Comedies, Cult Movies, International Movies<br>release_year=%{x}<br>count=%{y}<extra></extra>",
         "legendgroup": "Comedies, Cult Movies, International Movies",
         "line": {
          "color": "#FFA15A",
          "dash": "solid"
         },
         "marker": {
          "symbol": "circle"
         },
         "mode": "lines",
         "name": "Comedies, Cult Movies, International Movies",
         "showlegend": true,
         "type": "scattergl",
         "x": [
          1970,
          1985
         ],
         "xaxis": "x",
         "y": [
          1,
          2
         ],
         "yaxis": "y"
        },
        {
         "hovertemplate": "listed_in=Action & Adventure, Cult Movies, International Movies<br>release_year=%{x}<br>count=%{y}<extra></extra>",
         "legendgroup": "Action & Adventure, Cult Movies, International Movies",
         "line": {
          "color": "#19d3f3",
          "dash": "solid"
         },
         "marker": {
          "symbol": "circle"
         },
         "mode": "lines",
         "name": "Action & Adventure, Cult Movies, International Movies",
         "showlegend": true,
         "type": "scattergl",
         "x": [
          1971,
          1978,
          1982,
          2008,
          2013
         ],
         "xaxis": "x",
         "y": [
          1,
          1,
          1,
          1,
          1
         ],
         "yaxis": "y"
        },
        {
         "hovertemplate": "listed_in=Classic Movies, Cult Movies, Dramas<br>release_year=%{x}<br>count=%{y}<extra></extra>",
         "legendgroup": "Classic Movies, Cult Movies, Dramas",
         "line": {
          "color": "#FF6692",
          "dash": "solid"
         },
         "marker": {
          "symbol": "circle"
         },
         "mode": "lines",
         "name": "Classic Movies, Cult Movies, Dramas",
         "showlegend": true,
         "type": "scattergl",
         "x": [
          1971,
          1994
         ],
         "xaxis": "x",
         "y": [
          1,
          1
         ],
         "yaxis": "y"
        },
        {
         "hovertemplate": "listed_in=Classic Movies, Dramas, Music & Musicals<br>release_year=%{x}<br>count=%{y}<extra></extra>",
         "legendgroup": "Classic Movies, Dramas, Music & Musicals",
         "line": {
          "color": "#B6E880",
          "dash": "solid"
         },
         "marker": {
          "symbol": "circle"
         },
         "mode": "lines",
         "name": "Classic Movies, Dramas, Music & Musicals",
         "showlegend": true,
         "type": "scattergl",
         "x": [
          1971,
          1987
         ],
         "xaxis": "x",
         "y": [
          1,
          1
         ],
         "yaxis": "y"
        },
        {
         "hovertemplate": "listed_in=Classic Movies, Comedies, Dramas<br>release_year=%{x}<br>count=%{y}<extra></extra>",
         "legendgroup": "Classic Movies, Comedies, Dramas",
         "line": {
          "color": "#FF97FF",
          "dash": "solid"
         },
         "marker": {
          "symbol": "circle"
         },
         "mode": "lines",
         "name": "Classic Movies, Comedies, Dramas",
         "showlegend": true,
         "type": "scattergl",
         "x": [
          1972,
          1974,
          1980,
          1989
         ],
         "xaxis": "x",
         "y": [
          1,
          1,
          1,
          1
         ],
         "yaxis": "y"
        },
        {
         "hovertemplate": "listed_in=International Movies, Romantic Movies<br>release_year=%{x}<br>count=%{y}<extra></extra>",
         "legendgroup": "International Movies, Romantic Movies",
         "line": {
          "color": "#FECB52",
          "dash": "solid"
         },
         "marker": {
          "symbol": "circle"
         },
         "mode": "lines",
         "name": "International Movies, Romantic Movies",
         "showlegend": true,
         "type": "scattergl",
         "x": [
          1972,
          2004,
          2008,
          2010,
          2013,
          2014,
          2015,
          2016,
          2017,
          2018,
          2019,
          2020,
          2021
         ],
         "xaxis": "x",
         "y": [
          1,
          1,
          1,
          1,
          1,
          1,
          1,
          3,
          2,
          2,
          2,
          1,
          1
         ],
         "yaxis": "y"
        },
        {
         "hovertemplate": "listed_in=International TV Shows, TV Comedies<br>release_year=%{x}<br>count=%{y}<extra></extra>",
         "legendgroup": "International TV Shows, TV Comedies",
         "line": {
          "color": "#636efa",
          "dash": "solid"
         },
         "marker": {
          "symbol": "circle"
         },
         "mode": "lines",
         "name": "International TV Shows, TV Comedies",
         "showlegend": true,
         "type": "scattergl",
         "x": [
          1972,
          2002,
          2003,
          2004,
          2010,
          2011,
          2013,
          2015,
          2016,
          2017,
          2018,
          2019,
          2020,
          2021
         ],
         "xaxis": "x",
         "y": [
          1,
          1,
          1,
          1,
          1,
          1,
          3,
          1,
          3,
          5,
          6,
          2,
          1,
          8
         ],
         "yaxis": "y"
        },
        {
         "hovertemplate": "listed_in=Action & Adventure, International Movies<br>release_year=%{x}<br>count=%{y}<extra></extra>",
         "legendgroup": "Action & Adventure, International Movies",
         "line": {
          "color": "#EF553B",
          "dash": "solid"
         },
         "marker": {
          "symbol": "circle"
         },
         "mode": "lines",
         "name": "Action & Adventure, International Movies",
         "showlegend": true,
         "type": "scattergl",
         "x": [
          1973,
          1978,
          1980,
          1982,
          1983,
          1984,
          1985,
          1986,
          1988,
          1993,
          1997,
          2005,
          2006,
          2007,
          2009,
          2010,
          2011,
          2012,
          2013,
          2014,
          2015,
          2016,
          2017,
          2018,
          2019,
          2020,
          2021
         ],
         "xaxis": "x",
         "y": [
          2,
          1,
          1,
          1,
          1,
          1,
          1,
          2,
          1,
          1,
          2,
          1,
          2,
          2,
          1,
          6,
          1,
          4,
          2,
          1,
          4,
          15,
          17,
          7,
          7,
          7,
          10
         ],
         "yaxis": "y"
        },
        {
         "hovertemplate": "listed_in=Children & Family Movies, Classic Movies<br>release_year=%{x}<br>count=%{y}<extra></extra>",
         "legendgroup": "Children & Family Movies, Classic Movies",
         "line": {
          "color": "#00cc96",
          "dash": "solid"
         },
         "marker": {
          "symbol": "circle"
         },
         "mode": "lines",
         "name": "Children & Family Movies, Classic Movies",
         "showlegend": true,
         "type": "scattergl",
         "x": [
          1973
         ],
         "xaxis": "x",
         "y": [
          1
         ],
         "yaxis": "y"
        },
        {
         "hovertemplate": "listed_in=Documentaries, Music & Musicals<br>release_year=%{x}<br>count=%{y}<extra></extra>",
         "legendgroup": "Documentaries, Music & Musicals",
         "line": {
          "color": "#ab63fa",
          "dash": "solid"
         },
         "marker": {
          "symbol": "circle"
         },
         "mode": "lines",
         "name": "Documentaries, Music & Musicals",
         "showlegend": true,
         "type": "scattergl",
         "x": [
          1973,
          1988,
          1990,
          1997,
          1998,
          2002,
          2005,
          2007,
          2008,
          2009,
          2010,
          2011,
          2012,
          2013,
          2014,
          2015,
          2016,
          2017,
          2018,
          2019,
          2020,
          2021
         ],
         "xaxis": "x",
         "y": [
          1,
          1,
          1,
          1,
          1,
          1,
          2,
          1,
          1,
          1,
          1,
          1,
          2,
          2,
          1,
          5,
          6,
          7,
          16,
          21,
          6,
          3
         ],
         "yaxis": "y"
        },
        {
         "hovertemplate": "listed_in=British TV Shows, Classic & Cult TV, International TV Shows<br>release_year=%{x}<br>count=%{y}<extra></extra>",
         "legendgroup": "British TV Shows, Classic & Cult TV, International TV Shows",
         "line": {
          "color": "#FFA15A",
          "dash": "solid"
         },
         "marker": {
          "symbol": "circle"
         },
         "mode": "lines",
         "name": "British TV Shows, Classic & Cult TV, International TV Shows",
         "showlegend": true,
         "type": "scattergl",
         "x": [
          1974,
          2013,
          2018
         ],
         "xaxis": "x",
         "y": [
          1,
          1,
          1
         ],
         "yaxis": "y"
        },
        {
         "hovertemplate": "listed_in=Classic Movies, Comedies, Sports Movies<br>release_year=%{x}<br>count=%{y}<extra></extra>",
         "legendgroup": "Classic Movies, Comedies, Sports Movies",
         "line": {
          "color": "#19d3f3",
          "dash": "solid"
         },
         "marker": {
          "symbol": "circle"
         },
         "mode": "lines",
         "name": "Classic Movies, Comedies, Sports Movies",
         "showlegend": true,
         "type": "scattergl",
         "x": [
          1974
         ],
         "xaxis": "x",
         "y": [
          1
         ],
         "yaxis": "y"
        },
        {
         "hovertemplate": "listed_in=Comedies, Dramas, Independent Movies<br>release_year=%{x}<br>count=%{y}<extra></extra>",
         "legendgroup": "Comedies, Dramas, Independent Movies",
         "line": {
          "color": "#FF6692",
          "dash": "solid"
         },
         "marker": {
          "symbol": "circle"
         },
         "mode": "lines",
         "name": "Comedies, Dramas, Independent Movies",
         "showlegend": true,
         "type": "scattergl",
         "x": [
          1974,
          1982,
          1985,
          1988,
          1990,
          1997,
          1998,
          2003,
          2005,
          2008,
          2009,
          2010,
          2011,
          2012,
          2013,
          2014,
          2015,
          2016,
          2017,
          2018,
          2019,
          2020,
          2021
         ],
         "xaxis": "x",
         "y": [
          1,
          1,
          1,
          1,
          1,
          2,
          1,
          1,
          2,
          1,
          2,
          1,
          6,
          6,
          1,
          6,
          9,
          19,
          13,
          12,
          16,
          12,
          1
         ],
         "yaxis": "y"
        },
        {
         "hovertemplate": "listed_in=Comedies, International Movies, Music & Musicals<br>release_year=%{x}<br>count=%{y}<extra></extra>",
         "legendgroup": "Comedies, International Movies, Music & Musicals",
         "line": {
          "color": "#B6E880",
          "dash": "solid"
         },
         "marker": {
          "symbol": "circle"
         },
         "mode": "lines",
         "name": "Comedies, International Movies, Music & Musicals",
         "showlegend": true,
         "type": "scattergl",
         "x": [
          1974,
          1997,
          2002,
          2003,
          2005,
          2007,
          2008,
          2009,
          2010,
          2011,
          2012,
          2013,
          2014,
          2015,
          2016,
          2017,
          2018,
          2019,
          2020,
          2021
         ],
         "xaxis": "x",
         "y": [
          1,
          1,
          1,
          3,
          2,
          2,
          2,
          4,
          4,
          1,
          6,
          8,
          3,
          4,
          2,
          2,
          1,
          5,
          1,
          2
         ],
         "yaxis": "y"
        },
        {
         "hovertemplate": "listed_in=Cult Movies, Horror Movies, Independent Movies<br>release_year=%{x}<br>count=%{y}<extra></extra>",
         "legendgroup": "Cult Movies, Horror Movies, Independent Movies",
         "line": {
          "color": "#FF97FF",
          "dash": "solid"
         },
         "marker": {
          "symbol": "circle"
         },
         "mode": "lines",
         "name": "Cult Movies, Horror Movies, Independent Movies",
         "showlegend": true,
         "type": "scattergl",
         "x": [
          1974,
          2018
         ],
         "xaxis": "x",
         "y": [
          1,
          1
         ],
         "yaxis": "y"
        },
        {
         "hovertemplate": "listed_in=Action & Adventure, International Movies, Music & Musicals<br>release_year=%{x}<br>count=%{y}<extra></extra>",
         "legendgroup": "Action & Adventure, International Movies, Music & Musicals",
         "line": {
          "color": "#FECB52",
          "dash": "solid"
         },
         "marker": {
          "symbol": "circle"
         },
         "mode": "lines",
         "name": "Action & Adventure, International Movies, Music & Musicals",
         "showlegend": true,
         "type": "scattergl",
         "x": [
          1975,
          1995,
          2004,
          2008,
          2011,
          2012,
          2013,
          2019
         ],
         "xaxis": "x",
         "y": [
          1,
          1,
          1,
          2,
          1,
          3,
          1,
          1
         ],
         "yaxis": "y"
        },
        {
         "hovertemplate": "listed_in=Classic Movies, Comedies, International Movies<br>release_year=%{x}<br>count=%{y}<extra></extra>",
         "legendgroup": "Classic Movies, Comedies, International Movies",
         "line": {
          "color": "#636efa",
          "dash": "solid"
         },
         "marker": {
          "symbol": "circle"
         },
         "mode": "lines",
         "name": "Classic Movies, Comedies, International Movies",
         "showlegend": true,
         "type": "scattergl",
         "x": [
          1975,
          1979,
          1994
         ],
         "xaxis": "x",
         "y": [
          1,
          1,
          1
         ],
         "yaxis": "y"
        },
        {
         "hovertemplate": "listed_in=Action & Adventure, Classic Movies, Cult Movies<br>release_year=%{x}<br>count=%{y}<extra></extra>",
         "legendgroup": "Action & Adventure, Classic Movies, Cult Movies",
         "line": {
          "color": "#EF553B",
          "dash": "solid"
         },
         "marker": {
          "symbol": "circle"
         },
         "mode": "lines",
         "name": "Action & Adventure, Classic Movies, Cult Movies",
         "showlegend": true,
         "type": "scattergl",
         "x": [
          1976,
          1979,
          1982,
          1984
         ],
         "xaxis": "x",
         "y": [
          1,
          2,
          1,
          1
         ],
         "yaxis": "y"
        },
        {
         "hovertemplate": "listed_in=Action & Adventure, Comedies, Dramas<br>release_year=%{x}<br>count=%{y}<extra></extra>",
         "legendgroup": "Action & Adventure, Comedies, Dramas",
         "line": {
          "color": "#00cc96",
          "dash": "solid"
         },
         "marker": {
          "symbol": "circle"
         },
         "mode": "lines",
         "name": "Action & Adventure, Comedies, Dramas",
         "showlegend": true,
         "type": "scattergl",
         "x": [
          1976,
          1987,
          1999,
          2000,
          2001,
          2002,
          2004,
          2011,
          2012,
          2013,
          2014,
          2016,
          2017,
          2018,
          2019,
          2020,
          2021
         ],
         "xaxis": "x",
         "y": [
          1,
          1,
          1,
          1,
          1,
          1,
          1,
          2,
          1,
          2,
          1,
          2,
          3,
          2,
          3,
          3,
          1
         ],
         "yaxis": "y"
        },
        {
         "hovertemplate": "listed_in=Classic Movies, Cult Movies, Horror Movies<br>release_year=%{x}<br>count=%{y}<extra></extra>",
         "legendgroup": "Classic Movies, Cult Movies, Horror Movies",
         "line": {
          "color": "#ab63fa",
          "dash": "solid"
         },
         "marker": {
          "symbol": "circle"
         },
         "mode": "lines",
         "name": "Classic Movies, Cult Movies, Horror Movies",
         "showlegend": true,
         "type": "scattergl",
         "x": [
          1976,
          1981
         ],
         "xaxis": "x",
         "y": [
          1,
          1
         ],
         "yaxis": "y"
        },
        {
         "hovertemplate": "listed_in=Comedies, International Movies<br>release_year=%{x}<br>count=%{y}<extra></extra>",
         "legendgroup": "Comedies, International Movies",
         "line": {
          "color": "#FFA15A",
          "dash": "solid"
         },
         "marker": {
          "symbol": "circle"
         },
         "mode": "lines",
         "name": "Comedies, International Movies",
         "showlegend": true,
         "type": "scattergl",
         "x": [
          1976,
          1981,
          1985,
          1996,
          1997,
          1999,
          2004,
          2005,
          2006,
          2007,
          2008,
          2009,
          2010,
          2011,
          2012,
          2013,
          2014,
          2015,
          2016,
          2017,
          2018,
          2019,
          2020,
          2021
         ],
         "xaxis": "x",
         "y": [
          1,
          1,
          1,
          2,
          1,
          1,
          1,
          1,
          5,
          2,
          6,
          4,
          4,
          1,
          6,
          14,
          7,
          13,
          21,
          22,
          24,
          21,
          11,
          6
         ],
         "yaxis": "y"
        },
        {
         "hovertemplate": "listed_in=Comedies, International Movies, Romantic Movies<br>release_year=%{x}<br>count=%{y}<extra></extra>",
         "legendgroup": "Comedies, International Movies, Romantic Movies",
         "line": {
          "color": "#19d3f3",
          "dash": "solid"
         },
         "marker": {
          "symbol": "circle"
         },
         "mode": "lines",
         "name": "Comedies, International Movies, Romantic Movies",
         "showlegend": true,
         "type": "scattergl",
         "x": [
          1976,
          1981,
          1982,
          1984,
          1988,
          1997,
          1998,
          2000,
          2003,
          2004,
          2005,
          2006,
          2007,
          2008,
          2009,
          2010,
          2011,
          2012,
          2013,
          2014,
          2015,
          2016,
          2017,
          2018,
          2019,
          2020,
          2021
         ],
         "xaxis": "x",
         "y": [
          1,
          1,
          1,
          1,
          1,
          1,
          1,
          1,
          1,
          1,
          3,
          3,
          1,
          1,
          6,
          3,
          6,
          7,
          3,
          13,
          14,
          8,
          20,
          15,
          15,
          17,
          7
         ],
         "yaxis": "y"
        },
        {
         "hovertemplate": "listed_in=Dramas, Music & Musicals<br>release_year=%{x}<br>count=%{y}<extra></extra>",
         "legendgroup": "Dramas, Music & Musicals",
         "line": {
          "color": "#FF6692",
          "dash": "solid"
         },
         "marker": {
          "symbol": "circle"
         },
         "mode": "lines",
         "name": "Dramas, Music & Musicals",
         "showlegend": true,
         "type": "scattergl",
         "x": [
          1976,
          2014,
          2016,
          2018,
          2019,
          2020
         ],
         "xaxis": "x",
         "y": [
          1,
          2,
          1,
          1,
          1,
          1
         ],
         "yaxis": "y"
        },
        {
         "hovertemplate": "listed_in=British TV Shows, Classic & Cult TV, TV Comedies<br>release_year=%{x}<br>count=%{y}<extra></extra>",
         "legendgroup": "British TV Shows, Classic & Cult TV, TV Comedies",
         "line": {
          "color": "#B6E880",
          "dash": "solid"
         },
         "marker": {
          "symbol": "circle"
         },
         "mode": "lines",
         "name": "British TV Shows, Classic & Cult TV, TV Comedies",
         "showlegend": true,
         "type": "scattergl",
         "x": [
          1977,
          2015
         ],
         "xaxis": "x",
         "y": [
          1,
          1
         ],
         "yaxis": "y"
        },
        {
         "hovertemplate": "listed_in=Children & Family Movies<br>release_year=%{x}<br>count=%{y}<extra></extra>",
         "legendgroup": "Children & Family Movies",
         "line": {
          "color": "#FF97FF",
          "dash": "solid"
         },
         "marker": {
          "symbol": "circle"
         },
         "mode": "lines",
         "name": "Children & Family Movies",
         "showlegend": true,
         "type": "scattergl",
         "x": [
          1977,
          1978,
          1982,
          1986,
          1989,
          1991,
          1998,
          1999,
          2000,
          2001,
          2003,
          2004,
          2005,
          2007,
          2008,
          2009,
          2010,
          2011,
          2012,
          2013,
          2014,
          2015,
          2016,
          2017,
          2018,
          2019,
          2020,
          2021
         ],
         "xaxis": "x",
         "y": [
          1,
          1,
          1,
          1,
          1,
          1,
          1,
          2,
          1,
          1,
          1,
          3,
          2,
          1,
          2,
          6,
          7,
          9,
          9,
          19,
          8,
          11,
          12,
          17,
          21,
          30,
          34,
          12
         ],
         "yaxis": "y"
        },
        {
         "hovertemplate": "listed_in=Cult Movies, Horror Movies<br>release_year=%{x}<br>count=%{y}<extra></extra>",
         "legendgroup": "Cult Movies, Horror Movies",
         "line": {
          "color": "#FECB52",
          "dash": "solid"
         },
         "marker": {
          "symbol": "circle"
         },
         "mode": "lines",
         "name": "Cult Movies, Horror Movies",
         "showlegend": true,
         "type": "scattergl",
         "x": [
          1977,
          1987,
          1988,
          1992,
          2011
         ],
         "xaxis": "x",
         "y": [
          1,
          1,
          1,
          1,
          1
         ],
         "yaxis": "y"
        },
        {
         "hovertemplate": "listed_in=Documentaries, International Movies<br>release_year=%{x}<br>count=%{y}<extra></extra>",
         "legendgroup": "Documentaries, International Movies",
         "line": {
          "color": "#636efa",
          "dash": "solid"
         },
         "marker": {
          "symbol": "circle"
         },
         "mode": "lines",
         "name": "Documentaries, International Movies",
         "showlegend": true,
         "type": "scattergl",
         "x": [
          1977,
          1979,
          1980,
          2004,
          2005,
          2006,
          2007,
          2009,
          2010,
          2012,
          2013,
          2014,
          2015,
          2016,
          2017,
          2018,
          2019,
          2020,
          2021
         ],
         "xaxis": "x",
         "y": [
          1,
          1,
          1,
          1,
          1,
          1,
          2,
          1,
          3,
          4,
          12,
          12,
          19,
          30,
          29,
          18,
          27,
          14,
          9
         ],
         "yaxis": "y"
        },
        {
         "hovertemplate": "listed_in=Dramas, Independent Movies, International Movies<br>release_year=%{x}<br>count=%{y}<extra></extra>",
         "legendgroup": "Dramas, Independent Movies, International Movies",
         "line": {
          "color": "#EF553B",
          "dash": "solid"
         },
         "marker": {
          "symbol": "circle"
         },
         "mode": "lines",
         "name": "Dramas, Independent Movies, International Movies",
         "showlegend": true,
         "type": "scattergl",
         "x": [
          1977,
          1978,
          1982,
          1983,
          1993,
          2000,
          2001,
          2002,
          2004,
          2005,
          2006,
          2007,
          2008,
          2009,
          2010,
          2011,
          2012,
          2013,
          2014,
          2015,
          2016,
          2017,
          2018,
          2019,
          2020,
          2021
         ],
         "xaxis": "x",
         "y": [
          1,
          1,
          3,
          2,
          1,
          1,
          1,
          3,
          1,
          1,
          2,
          3,
          3,
          4,
          5,
          3,
          7,
          13,
          9,
          21,
          28,
          38,
          52,
          25,
          13,
          11
         ],
         "yaxis": "y"
        },
        {
         "hovertemplate": "listed_in=Dramas, Horror Movies, Thrillers<br>release_year=%{x}<br>count=%{y}<extra></extra>",
         "legendgroup": "Dramas, Horror Movies, Thrillers",
         "line": {
          "color": "#00cc96",
          "dash": "solid"
         },
         "marker": {
          "symbol": "circle"
         },
         "mode": "lines",
         "name": "Dramas, Horror Movies, Thrillers",
         "showlegend": true,
         "type": "scattergl",
         "x": [
          1978
         ],
         "xaxis": "x",
         "y": [
          1
         ],
         "yaxis": "y"
        },
        {
         "hovertemplate": "listed_in=Action & Adventure, Anime Features, Classic Movies<br>release_year=%{x}<br>count=%{y}<extra></extra>",
         "legendgroup": "Action & Adventure, Anime Features, Classic Movies",
         "line": {
          "color": "#ab63fa",
          "dash": "solid"
         },
         "marker": {
          "symbol": "circle"
         },
         "mode": "lines",
         "name": "Action & Adventure, Anime Features, Classic Movies",
         "showlegend": true,
         "type": "scattergl",
         "x": [
          1979,
          1981
         ],
         "xaxis": "x",
         "y": [
          1,
          1
         ],
         "yaxis": "y"
        },
        {
         "hovertemplate": "listed_in=Classic & Cult TV, Kids' TV, Spanish-Language TV Shows<br>release_year=%{x}<br>count=%{y}<extra></extra>",
         "legendgroup": "Classic & Cult TV, Kids' TV, Spanish-Language TV Shows",
         "line": {
          "color": "#FFA15A",
          "dash": "solid"
         },
         "marker": {
          "symbol": "circle"
         },
         "mode": "lines",
         "name": "Classic & Cult TV, Kids' TV, Spanish-Language TV Shows",
         "showlegend": true,
         "type": "scattergl",
         "x": [
          1979
         ],
         "xaxis": "x",
         "y": [
          1
         ],
         "yaxis": "y"
        },
        {
         "hovertemplate": "listed_in=Classic Movies, Comedies, Cult Movies<br>release_year=%{x}<br>count=%{y}<extra></extra>",
         "legendgroup": "Classic Movies, Comedies, Cult Movies",
         "line": {
          "color": "#19d3f3",
          "dash": "solid"
         },
         "marker": {
          "symbol": "circle"
         },
         "mode": "lines",
         "name": "Classic Movies, Comedies, Cult Movies",
         "showlegend": true,
         "type": "scattergl",
         "x": [
          1979,
          1981,
          1986
         ],
         "xaxis": "x",
         "y": [
          1,
          1,
          1
         ],
         "yaxis": "y"
        },
        {
         "hovertemplate": "listed_in=Dramas, Sports Movies<br>release_year=%{x}<br>count=%{y}<extra></extra>",
         "legendgroup": "Dramas, Sports Movies",
         "line": {
          "color": "#FF6692",
          "dash": "solid"
         },
         "marker": {
          "symbol": "circle"
         },
         "mode": "lines",
         "name": "Dramas, Sports Movies",
         "showlegend": true,
         "type": "scattergl",
         "x": [
          1979,
          1982,
          1985,
          1988,
          1990,
          1991,
          2003,
          2004,
          2005,
          2009,
          2010,
          2015,
          2016,
          2018,
          2019
         ],
         "xaxis": "x",
         "y": [
          1,
          1,
          1,
          1,
          1,
          1,
          1,
          1,
          1,
          1,
          1,
          1,
          2,
          1,
          4
         ],
         "yaxis": "y"
        },
        {
         "hovertemplate": "listed_in=Stand-Up Comedy<br>release_year=%{x}<br>count=%{y}<extra></extra>",
         "legendgroup": "Stand-Up Comedy",
         "line": {
          "color": "#B6E880",
          "dash": "solid"
         },
         "marker": {
          "symbol": "circle"
         },
         "mode": "lines",
         "name": "Stand-Up Comedy",
         "showlegend": true,
         "type": "scattergl",
         "x": [
          1979,
          1983,
          1987,
          1989,
          1990,
          1991,
          1992,
          1993,
          1998,
          2000,
          2001,
          2002,
          2005,
          2006,
          2007,
          2008,
          2009,
          2010,
          2011,
          2012,
          2013,
          2014,
          2015,
          2016,
          2017,
          2018,
          2019,
          2020,
          2021
         ],
         "xaxis": "x",
         "y": [
          1,
          1,
          2,
          1,
          1,
          4,
          2,
          1,
          1,
          1,
          1,
          1,
          1,
          4,
          1,
          3,
          2,
          3,
          5,
          12,
          9,
          11,
          16,
          34,
          57,
          58,
          48,
          41,
          12
         ],
         "yaxis": "y"
        },
        {
         "hovertemplate": "listed_in=Action & Adventure<br>release_year=%{x}<br>count=%{y}<extra></extra>",
         "legendgroup": "Action & Adventure",
         "line": {
          "color": "#FF97FF",
          "dash": "solid"
         },
         "marker": {
          "symbol": "circle"
         },
         "mode": "lines",
         "name": "Action & Adventure",
         "showlegend": true,
         "type": "scattergl",
         "x": [
          1980,
          1990,
          1992,
          1993,
          1994,
          1995,
          1996,
          1997,
          1999,
          2000,
          2001,
          2002,
          2003,
          2004,
          2005,
          2006,
          2007,
          2008,
          2009,
          2010,
          2011,
          2012,
          2013,
          2014,
          2015,
          2016,
          2017,
          2018,
          2019,
          2020,
          2021
         ],
         "xaxis": "x",
         "y": [
          1,
          1,
          3,
          1,
          2,
          1,
          2,
          4,
          2,
          1,
          3,
          2,
          3,
          1,
          1,
          2,
          1,
          3,
          3,
          4,
          2,
          7,
          5,
          5,
          7,
          12,
          13,
          12,
          8,
          11,
          5
         ],
         "yaxis": "y"
        },
        {
         "hovertemplate": "listed_in=Action & Adventure, Children & Family Movies, Comedies<br>release_year=%{x}<br>count=%{y}<extra></extra>",
         "legendgroup": "Action & Adventure, Children & Family Movies, Comedies",
         "line": {
          "color": "#FECB52",
          "dash": "solid"
         },
         "marker": {
          "symbol": "circle"
         },
         "mode": "lines",
         "name": "Action & Adventure, Children & Family Movies, Comedies",
         "showlegend": true,
         "type": "scattergl",
         "x": [
          1980,
          2001,
          2010,
          2016,
          2020
         ],
         "xaxis": "x",
         "y": [
          1,
          1,
          1,
          1,
          1
         ],
         "yaxis": "y"
        },
        {
         "hovertemplate": "listed_in=Action & Adventure, Comedies, International Movies<br>release_year=%{x}<br>count=%{y}<extra></extra>",
         "legendgroup": "Action & Adventure, Comedies, International Movies",
         "line": {
          "color": "#636efa",
          "dash": "solid"
         },
         "marker": {
          "symbol": "circle"
         },
         "mode": "lines",
         "name": "Action & Adventure, Comedies, International Movies",
         "showlegend": true,
         "type": "scattergl",
         "x": [
          1980,
          1982,
          1985,
          1989,
          1990,
          1992,
          1994,
          1995,
          1999,
          2001,
          2004,
          2005,
          2006,
          2007,
          2008,
          2010,
          2011,
          2012,
          2013,
          2014,
          2015,
          2016,
          2017,
          2018,
          2019,
          2020,
          2021
         ],
         "xaxis": "x",
         "y": [
          1,
          1,
          1,
          1,
          1,
          1,
          1,
          2,
          1,
          1,
          3,
          1,
          1,
          1,
          1,
          1,
          2,
          2,
          5,
          2,
          6,
          7,
          8,
          10,
          3,
          4,
          2
         ],
         "yaxis": "y"
        },
        {
         "hovertemplate": "listed_in=Action & Adventure, International Movies, Sci-Fi & Fantasy<br>release_year=%{x}<br>count=%{y}<extra></extra>",
         "legendgroup": "Action & Adventure, International Movies, Sci-Fi & Fantasy",
         "line": {
          "color": "#EF553B",
          "dash": "solid"
         },
         "marker": {
          "symbol": "circle"
         },
         "mode": "lines",
         "name": "Action & Adventure, International Movies, Sci-Fi & Fantasy",
         "showlegend": true,
         "type": "scattergl",
         "x": [
          1980,
          2009,
          2012,
          2014,
          2015,
          2016,
          2017,
          2018
         ],
         "xaxis": "x",
         "y": [
          1,
          2,
          1,
          1,
          1,
          4,
          2,
          4
         ],
         "yaxis": "y"
        },
        {
         "hovertemplate": "listed_in=Classic Movies, Dramas, Sports Movies<br>release_year=%{x}<br>count=%{y}<extra></extra>",
         "legendgroup": "Classic Movies, Dramas, Sports Movies",
         "line": {
          "color": "#00cc96",
          "dash": "solid"
         },
         "marker": {
          "symbol": "circle"
         },
         "mode": "lines",
         "name": "Classic Movies, Dramas, Sports Movies",
         "showlegend": true,
         "type": "scattergl",
         "x": [
          1980,
          1984
         ],
         "xaxis": "x",
         "y": [
          1,
          1
         ],
         "yaxis": "y"
        },
        {
         "hovertemplate": "listed_in=Dramas<br>release_year=%{x}<br>count=%{y}<extra></extra>",
         "legendgroup": "Dramas",
         "line": {
          "color": "#ab63fa",
          "dash": "solid"
         },
         "marker": {
          "symbol": "circle"
         },
         "mode": "lines",
         "name": "Dramas",
         "showlegend": true,
         "type": "scattergl",
         "x": [
          1980,
          1986,
          1987,
          1988,
          1989,
          1990,
          1991,
          1992,
          1993,
          1995,
          1997,
          1998,
          1999,
          2000,
          2001,
          2002,
          2003,
          2005,
          2006,
          2007,
          2008,
          2009,
          2010,
          2011,
          2012,
          2013,
          2014,
          2015,
          2016,
          2017,
          2018,
          2019,
          2020,
          2021
         ],
         "xaxis": "x",
         "y": [
          1,
          2,
          1,
          2,
          2,
          2,
          1,
          1,
          1,
          1,
          1,
          2,
          1,
          1,
          2,
          2,
          2,
          2,
          1,
          1,
          3,
          2,
          2,
          2,
          5,
          2,
          4,
          8,
          16,
          19,
          11,
          17,
          12,
          6
         ],
         "yaxis": "y"
        },
        {
         "hovertemplate": "listed_in=Dramas, Romantic Movies<br>release_year=%{x}<br>count=%{y}<extra></extra>",
         "legendgroup": "Dramas, Romantic Movies",
         "line": {
          "color": "#FFA15A",
          "dash": "solid"
         },
         "marker": {
          "symbol": "circle"
         },
         "mode": "lines",
         "name": "Dramas, Romantic Movies",
         "showlegend": true,
         "type": "scattergl",
         "x": [
          1980,
          1993,
          1995,
          1997,
          2001,
          2002,
          2003,
          2005,
          2007,
          2008,
          2009,
          2010,
          2011,
          2012,
          2013,
          2014,
          2015,
          2016,
          2017,
          2018,
          2019,
          2020,
          2021
         ],
         "xaxis": "x",
         "y": [
          1,
          1,
          1,
          1,
          1,
          1,
          1,
          1,
          2,
          3,
          2,
          5,
          4,
          1,
          1,
          2,
          1,
          2,
          6,
          7,
          4,
          3,
          1
         ],
         "yaxis": "y"
        },
        {
         "hovertemplate": "listed_in=Action & Adventure, Anime Features, International Movies<br>release_year=%{x}<br>count=%{y}<extra></extra>",
         "legendgroup": "Action & Adventure, Anime Features, International Movies",
         "line": {
          "color": "#19d3f3",
          "dash": "solid"
         },
         "marker": {
          "symbol": "circle"
         },
         "mode": "lines",
         "name": "Action & Adventure, Anime Features, International Movies",
         "showlegend": true,
         "type": "scattergl",
         "x": [
          1981,
          1982,
          1988,
          1997,
          1998,
          2001,
          2002,
          2003,
          2004,
          2005,
          2006,
          2007,
          2008,
          2009,
          2010,
          2011,
          2012,
          2013,
          2014,
          2015,
          2016,
          2017,
          2018,
          2020,
          2021
         ],
         "xaxis": "x",
         "y": [
          1,
          1,
          1,
          1,
          1,
          1,
          2,
          2,
          3,
          1,
          1,
          1,
          1,
          1,
          1,
          2,
          2,
          3,
          1,
          1,
          1,
          2,
          3,
          2,
          2
         ],
         "yaxis": "y"
        },
        {
         "hovertemplate": "listed_in=Action & Adventure, Children & Family Movies, Classic Movies<br>release_year=%{x}<br>count=%{y}<extra></extra>",
         "legendgroup": "Action & Adventure, Children & Family Movies, Classic Movies",
         "line": {
          "color": "#FF6692",
          "dash": "solid"
         },
         "marker": {
          "symbol": "circle"
         },
         "mode": "lines",
         "name": "Action & Adventure, Children & Family Movies, Classic Movies",
         "showlegend": true,
         "type": "scattergl",
         "x": [
          1981,
          1984,
          1989
         ],
         "xaxis": "x",
         "y": [
          1,
          2,
          1
         ],
         "yaxis": "y"
        },
        {
         "hovertemplate": "listed_in=Anime Series, Kids' TV<br>release_year=%{x}<br>count=%{y}<extra></extra>",
         "legendgroup": "Anime Series, Kids' TV",
         "line": {
          "color": "#B6E880",
          "dash": "solid"
         },
         "marker": {
          "symbol": "circle"
         },
         "mode": "lines",
         "name": "Anime Series, Kids' TV",
         "showlegend": true,
         "type": "scattergl",
         "x": [
          1981,
          2000,
          2003,
          2005,
          2008,
          2009,
          2012,
          2015,
          2016,
          2017,
          2018,
          2019,
          2020,
          2021
         ],
         "xaxis": "x",
         "y": [
          1,
          1,
          1,
          1,
          1,
          1,
          1,
          2,
          3,
          2,
          3,
          2,
          2,
          2
         ],
         "yaxis": "y"
        },
        {
         "hovertemplate": "listed_in=Comedies, Romantic Movies<br>release_year=%{x}<br>count=%{y}<extra></extra>",
         "legendgroup": "Comedies, Romantic Movies",
         "line": {
          "color": "#FF97FF",
          "dash": "solid"
         },
         "marker": {
          "symbol": "circle"
         },
         "mode": "lines",
         "name": "Comedies, Romantic Movies",
         "showlegend": true,
         "type": "scattergl",
         "x": [
          1981,
          1996,
          1997,
          1998,
          1999,
          2000,
          2001,
          2002,
          2003,
          2004,
          2005,
          2006,
          2007,
          2008,
          2009,
          2010,
          2011,
          2012,
          2014,
          2015,
          2016,
          2017,
          2018,
          2019,
          2020,
          2021
         ],
         "xaxis": "x",
         "y": [
          1,
          2,
          2,
          1,
          1,
          1,
          3,
          2,
          3,
          3,
          5,
          2,
          3,
          3,
          2,
          4,
          5,
          2,
          1,
          1,
          1,
          3,
          10,
          6,
          7,
          6
         ],
         "yaxis": "y"
        },
        {
         "hovertemplate": "listed_in=Cult Movies, Dramas, Music & Musicals<br>release_year=%{x}<br>count=%{y}<extra></extra>",
         "legendgroup": "Cult Movies, Dramas, Music & Musicals",
         "line": {
          "color": "#FECB52",
          "dash": "solid"
         },
         "marker": {
          "symbol": "circle"
         },
         "mode": "lines",
         "name": "Cult Movies, Dramas, Music & Musicals",
         "showlegend": true,
         "type": "scattergl",
         "x": [
          1981
         ],
         "xaxis": "x",
         "y": [
          1
         ],
         "yaxis": "y"
        },
        {
         "hovertemplate": "listed_in=Comedies<br>release_year=%{x}<br>count=%{y}<extra></extra>",
         "legendgroup": "Comedies",
         "line": {
          "color": "#636efa",
          "dash": "solid"
         },
         "marker": {
          "symbol": "circle"
         },
         "mode": "lines",
         "name": "Comedies",
         "showlegend": true,
         "type": "scattergl",
         "x": [
          1982,
          1989,
          1991,
          1992,
          1995,
          1996,
          1997,
          1998,
          1999,
          2000,
          2001,
          2003,
          2005,
          2006,
          2007,
          2008,
          2009,
          2010,
          2011,
          2012,
          2013,
          2014,
          2015,
          2016,
          2017,
          2018,
          2019,
          2020,
          2021
         ],
         "xaxis": "x",
         "y": [
          1,
          1,
          1,
          1,
          1,
          1,
          2,
          1,
          2,
          1,
          1,
          2,
          1,
          1,
          1,
          4,
          4,
          3,
          2,
          4,
          2,
          3,
          5,
          12,
          13,
          12,
          14,
          10,
          4
         ],
         "yaxis": "y"
        },
        {
         "hovertemplate": "listed_in=Comedies, Cult Movies, Dramas<br>release_year=%{x}<br>count=%{y}<extra></extra>",
         "legendgroup": "Comedies, Cult Movies, Dramas",
         "line": {
          "color": "#EF553B",
          "dash": "solid"
         },
         "marker": {
          "symbol": "circle"
         },
         "mode": "lines",
         "name": "Comedies, Cult Movies, Dramas",
         "showlegend": true,
         "type": "scattergl",
         "x": [
          1982,
          1996,
          1997,
          1998,
          2000,
          2012
         ],
         "xaxis": "x",
         "y": [
          1,
          1,
          1,
          1,
          1,
          1
         ],
         "yaxis": "y"
        },
        {
         "hovertemplate": "listed_in=Cult Movies, Dramas, International Movies<br>release_year=%{x}<br>count=%{y}<extra></extra>",
         "legendgroup": "Cult Movies, Dramas, International Movies",
         "line": {
          "color": "#00cc96",
          "dash": "solid"
         },
         "marker": {
          "symbol": "circle"
         },
         "mode": "lines",
         "name": "Cult Movies, Dramas, International Movies",
         "showlegend": true,
         "type": "scattergl",
         "x": [
          1982
         ],
         "xaxis": "x",
         "y": [
          1
         ],
         "yaxis": "y"
        },
        {
         "hovertemplate": "listed_in=Action & Adventure, Horror Movies, Thrillers<br>release_year=%{x}<br>count=%{y}<extra></extra>",
         "legendgroup": "Action & Adventure, Horror Movies, Thrillers",
         "line": {
          "color": "#ab63fa",
          "dash": "solid"
         },
         "marker": {
          "symbol": "circle"
         },
         "mode": "lines",
         "name": "Action & Adventure, Horror Movies, Thrillers",
         "showlegend": true,
         "type": "scattergl",
         "x": [
          1983,
          1987
         ],
         "xaxis": "x",
         "y": [
          1,
          1
         ],
         "yaxis": "y"
        },
        {
         "hovertemplate": "listed_in=Action & Adventure, International Movies, Romantic Movies<br>release_year=%{x}<br>count=%{y}<extra></extra>",
         "legendgroup": "Action & Adventure, International Movies, Romantic Movies",
         "line": {
          "color": "#FFA15A",
          "dash": "solid"
         },
         "marker": {
          "symbol": "circle"
         },
         "mode": "lines",
         "name": "Action & Adventure, International Movies, Romantic Movies",
         "showlegend": true,
         "type": "scattergl",
         "x": [
          1983,
          2000,
          2007,
          2014,
          2020
         ],
         "xaxis": "x",
         "y": [
          1,
          1,
          1,
          1,
          2
         ],
         "yaxis": "y"
        },
        {
         "hovertemplate": "listed_in=Comedies, Cult Movies<br>release_year=%{x}<br>count=%{y}<extra></extra>",
         "legendgroup": "Comedies, Cult Movies",
         "line": {
          "color": "#19d3f3",
          "dash": "solid"
         },
         "marker": {
          "symbol": "circle"
         },
         "mode": "lines",
         "name": "Comedies, Cult Movies",
         "showlegend": true,
         "type": "scattergl",
         "x": [
          1983,
          1988,
          1990,
          1996,
          1998,
          2001,
          2004,
          2006,
          2007,
          2008,
          2009
         ],
         "xaxis": "x",
         "y": [
          1,
          1,
          1,
          1,
          1,
          1,
          1,
          1,
          1,
          2,
          1
         ],
         "yaxis": "y"
        },
        {
         "hovertemplate": "listed_in=Action & Adventure, Cult Movies<br>release_year=%{x}<br>count=%{y}<extra></extra>",
         "legendgroup": "Action & Adventure, Cult Movies",
         "line": {
          "color": "#FF6692",
          "dash": "solid"
         },
         "marker": {
          "symbol": "circle"
         },
         "mode": "lines",
         "name": "Action & Adventure, Cult Movies",
         "showlegend": true,
         "type": "scattergl",
         "x": [
          1984
         ],
         "xaxis": "x",
         "y": [
          1
         ],
         "yaxis": "y"
        },
        {
         "hovertemplate": "listed_in=Anime Series<br>release_year=%{x}<br>count=%{y}<extra></extra>",
         "legendgroup": "Anime Series",
         "line": {
          "color": "#B6E880",
          "dash": "solid"
         },
         "marker": {
          "symbol": "circle"
         },
         "mode": "lines",
         "name": "Anime Series",
         "showlegend": true,
         "type": "scattergl",
         "x": [
          1985,
          1986,
          2002,
          2013,
          2020,
          2021
         ],
         "xaxis": "x",
         "y": [
          1,
          1,
          1,
          1,
          3,
          3
         ],
         "yaxis": "y"
        },
        {
         "hovertemplate": "listed_in=Horror Movies, International Movies, Thrillers<br>release_year=%{x}<br>count=%{y}<extra></extra>",
         "legendgroup": "Horror Movies, International Movies, Thrillers",
         "line": {
          "color": "#FF97FF",
          "dash": "solid"
         },
         "marker": {
          "symbol": "circle"
         },
         "mode": "lines",
         "name": "Horror Movies, International Movies, Thrillers",
         "showlegend": true,
         "type": "scattergl",
         "x": [
          1985,
          2003,
          2005,
          2008,
          2009,
          2010,
          2014,
          2016,
          2017,
          2018,
          2019,
          2020,
          2021
         ],
         "xaxis": "x",
         "y": [
          1,
          2,
          1,
          1,
          1,
          3,
          3,
          3,
          4,
          4,
          6,
          8,
          8
         ],
         "yaxis": "y"
        },
        {
         "hovertemplate": "listed_in=Action & Adventure, Children & Family Movies, Cult Movies<br>release_year=%{x}<br>count=%{y}<extra></extra>",
         "legendgroup": "Action & Adventure, Children & Family Movies, Cult Movies",
         "line": {
          "color": "#FECB52",
          "dash": "solid"
         },
         "marker": {
          "symbol": "circle"
         },
         "mode": "lines",
         "name": "Action & Adventure, Children & Family Movies, Cult Movies",
         "showlegend": true,
         "type": "scattergl",
         "x": [
          1986
         ],
         "xaxis": "x",
         "y": [
          1
         ],
         "yaxis": "y"
        },
        {
         "hovertemplate": "listed_in=Action & Adventure, Children & Family Movies, Dramas<br>release_year=%{x}<br>count=%{y}<extra></extra>",
         "legendgroup": "Action & Adventure, Children & Family Movies, Dramas",
         "line": {
          "color": "#636efa",
          "dash": "solid"
         },
         "marker": {
          "symbol": "circle"
         },
         "mode": "lines",
         "name": "Action & Adventure, Children & Family Movies, Dramas",
         "showlegend": true,
         "type": "scattergl",
         "x": [
          1986,
          2018,
          2020
         ],
         "xaxis": "x",
         "y": [
          1,
          1,
          1
         ],
         "yaxis": "y"
        },
        {
         "hovertemplate": "listed_in=Action & Adventure, Comedies<br>release_year=%{x}<br>count=%{y}<extra></extra>",
         "legendgroup": "Action & Adventure, Comedies",
         "line": {
          "color": "#EF553B",
          "dash": "solid"
         },
         "marker": {
          "symbol": "circle"
         },
         "mode": "lines",
         "name": "Action & Adventure, Comedies",
         "showlegend": true,
         "type": "scattergl",
         "x": [
          1986,
          1990,
          1991,
          1995,
          1997,
          1998,
          1999,
          2000,
          2001,
          2002,
          2003,
          2004,
          2005,
          2007,
          2008,
          2009,
          2010,
          2011,
          2014,
          2015,
          2016,
          2018,
          2020,
          2021
         ],
         "xaxis": "x",
         "y": [
          1,
          1,
          1,
          1,
          2,
          1,
          2,
          2,
          2,
          2,
          2,
          2,
          2,
          3,
          3,
          2,
          2,
          2,
          1,
          3,
          4,
          3,
          3,
          4
         ],
         "yaxis": "y"
        },
        {
         "hovertemplate": "listed_in=TV Dramas<br>release_year=%{x}<br>count=%{y}<extra></extra>",
         "legendgroup": "TV Dramas",
         "line": {
          "color": "#00cc96",
          "dash": "solid"
         },
         "marker": {
          "symbol": "circle"
         },
         "mode": "lines",
         "name": "TV Dramas",
         "showlegend": true,
         "type": "scattergl",
         "x": [
          1986,
          1988,
          1993,
          2005,
          2010,
          2013,
          2014,
          2015,
          2017,
          2018,
          2019,
          2020,
          2021
         ],
         "xaxis": "x",
         "y": [
          1,
          1,
          1,
          1,
          1,
          1,
          1,
          1,
          9,
          1,
          10,
          6,
          1
         ],
         "yaxis": "y"
        },
        {
         "hovertemplate": "listed_in=Action & Adventure, Dramas<br>release_year=%{x}<br>count=%{y}<extra></extra>",
         "legendgroup": "Action & Adventure, Dramas",
         "line": {
          "color": "#ab63fa",
          "dash": "solid"
         },
         "marker": {
          "symbol": "circle"
         },
         "mode": "lines",
         "name": "Action & Adventure, Dramas",
         "showlegend": true,
         "type": "scattergl",
         "x": [
          1987,
          1994,
          2001,
          2002,
          2003,
          2005,
          2006,
          2008,
          2012,
          2013,
          2014,
          2015,
          2016,
          2017,
          2018,
          2019,
          2020,
          2021
         ],
         "xaxis": "x",
         "y": [
          1,
          1,
          1,
          2,
          1,
          1,
          3,
          2,
          1,
          2,
          2,
          1,
          3,
          2,
          3,
          4,
          3,
          1
         ],
         "yaxis": "y"
        },
        {
         "hovertemplate": "listed_in=Comedies, Cult Movies, Horror Movies<br>release_year=%{x}<br>count=%{y}<extra></extra>",
         "legendgroup": "Comedies, Cult Movies, Horror Movies",
         "line": {
          "color": "#FFA15A",
          "dash": "solid"
         },
         "marker": {
          "symbol": "circle"
         },
         "mode": "lines",
         "name": "Comedies, Cult Movies, Horror Movies",
         "showlegend": true,
         "type": "scattergl",
         "x": [
          1988,
          1990,
          2007
         ],
         "xaxis": "x",
         "y": [
          1,
          1,
          1
         ],
         "yaxis": "y"
        },
        {
         "hovertemplate": "listed_in=Comedies, Dramas<br>release_year=%{x}<br>count=%{y}<extra></extra>",
         "legendgroup": "Comedies, Dramas",
         "line": {
          "color": "#19d3f3",
          "dash": "solid"
         },
         "marker": {
          "symbol": "circle"
         },
         "mode": "lines",
         "name": "Comedies, Dramas",
         "showlegend": true,
         "type": "scattergl",
         "x": [
          1988,
          1996,
          2000,
          2007,
          2009,
          2011,
          2012,
          2013,
          2014,
          2016,
          2017,
          2018,
          2019,
          2021
         ],
         "xaxis": "x",
         "y": [
          1,
          1,
          1,
          1,
          2,
          1,
          1,
          1,
          2,
          5,
          4,
          3,
          3,
          3
         ],
         "yaxis": "y"
        },
        {
         "hovertemplate": "listed_in=Docuseries, Reality TV<br>release_year=%{x}<br>count=%{y}<extra></extra>",
         "legendgroup": "Docuseries, Reality TV",
         "line": {
          "color": "#FF6692",
          "dash": "solid"
         },
         "marker": {
          "symbol": "circle"
         },
         "mode": "lines",
         "name": "Docuseries, Reality TV",
         "showlegend": true,
         "type": "scattergl",
         "x": [
          1988,
          2015,
          2017,
          2018,
          2019,
          2020,
          2021
         ],
         "xaxis": "x",
         "y": [
          1,
          1,
          1,
          1,
          5,
          4,
          3
         ],
         "yaxis": "y"
        },
        {
         "hovertemplate": "listed_in=Movies<br>release_year=%{x}<br>count=%{y}<extra></extra>",
         "legendgroup": "Movies",
         "line": {
          "color": "#B6E880",
          "dash": "solid"
         },
         "marker": {
          "symbol": "circle"
         },
         "mode": "lines",
         "name": "Movies",
         "showlegend": true,
         "type": "scattergl",
         "x": [
          1988,
          2004,
          2005,
          2008,
          2010,
          2011,
          2012,
          2014,
          2015,
          2016,
          2017,
          2018,
          2019,
          2020,
          2021
         ],
         "xaxis": "x",
         "y": [
          1,
          1,
          1,
          1,
          2,
          6,
          3,
          8,
          8,
          6,
          5,
          9,
          1,
          1,
          4
         ],
         "yaxis": "y"
        },
        {
         "hovertemplate": "listed_in=Action & Adventure, Sports Movies<br>release_year=%{x}<br>count=%{y}<extra></extra>",
         "legendgroup": "Action & Adventure, Sports Movies",
         "line": {
          "color": "#FF97FF",
          "dash": "solid"
         },
         "marker": {
          "symbol": "circle"
         },
         "mode": "lines",
         "name": "Action & Adventure, Sports Movies",
         "showlegend": true,
         "type": "scattergl",
         "x": [
          1989,
          2002
         ],
         "xaxis": "x",
         "y": [
          1,
          1
         ],
         "yaxis": "y"
        },
        {
         "hovertemplate": "listed_in=Children & Family Movies, Comedies<br>release_year=%{x}<br>count=%{y}<extra></extra>",
         "legendgroup": "Children & Family Movies, Comedies",
         "line": {
          "color": "#FECB52",
          "dash": "solid"
         },
         "marker": {
          "symbol": "circle"
         },
         "mode": "lines",
         "name": "Children & Family Movies, Comedies",
         "showlegend": true,
         "type": "scattergl",
         "x": [
          1989,
          1991,
          1992,
          1993,
          1994,
          1995,
          1997,
          1998,
          1999,
          2000,
          2001,
          2002,
          2003,
          2004,
          2005,
          2006,
          2007,
          2008,
          2009,
          2010,
          2011,
          2012,
          2013,
          2014,
          2015,
          2016,
          2017,
          2018,
          2019,
          2020,
          2021
         ],
         "xaxis": "x",
         "y": [
          1,
          1,
          1,
          2,
          1,
          1,
          1,
          1,
          1,
          3,
          2,
          3,
          5,
          3,
          3,
          5,
          5,
          8,
          4,
          6,
          10,
          7,
          8,
          12,
          4,
          17,
          13,
          16,
          21,
          23,
          13
         ],
         "yaxis": "y"
        },
        {
         "hovertemplate": "listed_in=Children & Family Movies, Dramas<br>release_year=%{x}<br>count=%{y}<extra></extra>",
         "legendgroup": "Children & Family Movies, Dramas",
         "line": {
          "color": "#636efa",
          "dash": "solid"
         },
         "marker": {
          "symbol": "circle"
         },
         "mode": "lines",
         "name": "Children & Family Movies, Dramas",
         "showlegend": true,
         "type": "scattergl",
         "x": [
          1989,
          1993,
          1995,
          2004,
          2009,
          2011,
          2012,
          2014,
          2016,
          2017,
          2018,
          2019,
          2020,
          2021
         ],
         "xaxis": "x",
         "y": [
          1,
          1,
          2,
          1,
          1,
          2,
          1,
          2,
          1,
          1,
          5,
          5,
          4,
          2
         ],
         "yaxis": "y"
        },
        {
         "hovertemplate": "listed_in=Kids' TV<br>release_year=%{x}<br>count=%{y}<extra></extra>",
         "legendgroup": "Kids' TV",
         "line": {
          "color": "#EF553B",
          "dash": "solid"
         },
         "marker": {
          "symbol": "circle"
         },
         "mode": "lines",
         "name": "Kids' TV",
         "showlegend": true,
         "type": "scattergl",
         "x": [
          1989,
          1993,
          1995,
          1996,
          1997,
          1998,
          1999,
          2000,
          2001,
          2002,
          2003,
          2004,
          2005,
          2006,
          2007,
          2008,
          2009,
          2010,
          2011,
          2012,
          2013,
          2014,
          2015,
          2016,
          2017,
          2018,
          2019,
          2020,
          2021
         ],
         "xaxis": "x",
         "y": [
          1,
          1,
          1,
          2,
          2,
          1,
          1,
          1,
          1,
          1,
          1,
          2,
          1,
          1,
          3,
          2,
          1,
          6,
          6,
          7,
          4,
          10,
          7,
          28,
          24,
          31,
          28,
          22,
          24
         ],
         "yaxis": "y"
        },
        {
         "hovertemplate": "listed_in=Action & Adventure, Sci-Fi & Fantasy<br>release_year=%{x}<br>count=%{y}<extra></extra>",
         "legendgroup": "Action & Adventure, Sci-Fi & Fantasy",
         "line": {
          "color": "#00cc96",
          "dash": "solid"
         },
         "marker": {
          "symbol": "circle"
         },
         "mode": "lines",
         "name": "Action & Adventure, Sci-Fi & Fantasy",
         "showlegend": true,
         "type": "scattergl",
         "x": [
          1990,
          1994,
          1995,
          1996,
          1999,
          2000,
          2002,
          2003,
          2005,
          2006,
          2007,
          2008,
          2009,
          2010,
          2011,
          2012,
          2013,
          2014,
          2015,
          2016,
          2017,
          2018,
          2019,
          2020
         ],
         "xaxis": "x",
         "y": [
          1,
          1,
          1,
          1,
          1,
          1,
          2,
          4,
          2,
          1,
          4,
          1,
          5,
          4,
          4,
          1,
          1,
          1,
          4,
          3,
          9,
          7,
          2,
          1
         ],
         "yaxis": "y"
        },
        {
         "hovertemplate": "listed_in=Classic & Cult TV, Crime TV Shows, TV Dramas<br>release_year=%{x}<br>count=%{y}<extra></extra>",
         "legendgroup": "Classic & Cult TV, Crime TV Shows, TV Dramas",
         "line": {
          "color": "#ab63fa",
          "dash": "solid"
         },
         "marker": {
          "symbol": "circle"
         },
         "mode": "lines",
         "name": "Classic & Cult TV, Crime TV Shows, TV Dramas",
         "showlegend": true,
         "type": "scattergl",
         "x": [
          1990
         ],
         "xaxis": "x",
         "y": [
          1
         ],
         "yaxis": "y"
        },
        {
         "hovertemplate": "listed_in=Classic & Cult TV, Kids' TV, TV Comedies<br>release_year=%{x}<br>count=%{y}<extra></extra>",
         "legendgroup": "Classic & Cult TV, Kids' TV, TV Comedies",
         "line": {
          "color": "#FFA15A",
          "dash": "solid"
         },
         "marker": {
          "symbol": "circle"
         },
         "mode": "lines",
         "name": "Classic & Cult TV, Kids' TV, TV Comedies",
         "showlegend": true,
         "type": "scattergl",
         "x": [
          1990
         ],
         "xaxis": "x",
         "y": [
          1
         ],
         "yaxis": "y"
        },
        {
         "hovertemplate": "listed_in=Classic Movies, Cult Movies, Documentaries<br>release_year=%{x}<br>count=%{y}<extra></extra>",
         "legendgroup": "Classic Movies, Cult Movies, Documentaries",
         "line": {
          "color": "#19d3f3",
          "dash": "solid"
         },
         "marker": {
          "symbol": "circle"
         },
         "mode": "lines",
         "name": "Classic Movies, Cult Movies, Documentaries",
         "showlegend": true,
         "type": "scattergl",
         "x": [
          1990
         ],
         "xaxis": "x",
         "y": [
          1
         ],
         "yaxis": "y"
        },
        {
         "hovertemplate": "listed_in=Docuseries<br>release_year=%{x}<br>count=%{y}<extra></extra>",
         "legendgroup": "Docuseries",
         "line": {
          "color": "#FF6692",
          "dash": "solid"
         },
         "marker": {
          "symbol": "circle"
         },
         "mode": "lines",
         "name": "Docuseries",
         "showlegend": true,
         "type": "scattergl",
         "x": [
          1990,
          1996,
          2007,
          2009,
          2010,
          2013,
          2014,
          2015,
          2016,
          2017,
          2018,
          2019,
          2020,
          2021
         ],
         "xaxis": "x",
         "y": [
          1,
          1,
          1,
          1,
          1,
          1,
          3,
          3,
          6,
          9,
          19,
          11,
          13,
          15
         ],
         "yaxis": "y"
        },
        {
         "hovertemplate": "listed_in=Comedies, Cult Movies, Music & Musicals<br>release_year=%{x}<br>count=%{y}<extra></extra>",
         "legendgroup": "Comedies, Cult Movies, Music & Musicals",
         "line": {
          "color": "#B6E880",
          "dash": "solid"
         },
         "marker": {
          "symbol": "circle"
         },
         "mode": "lines",
         "name": "Comedies, Cult Movies, Music & Musicals",
         "showlegend": true,
         "type": "scattergl",
         "x": [
          1991,
          2006
         ],
         "xaxis": "x",
         "y": [
          1,
          1
         ],
         "yaxis": "y"
        },
        {
         "hovertemplate": "listed_in=Comedies, Independent Movies, International Movies<br>release_year=%{x}<br>count=%{y}<extra></extra>",
         "legendgroup": "Comedies, Independent Movies, International Movies",
         "line": {
          "color": "#FF97FF",
          "dash": "solid"
         },
         "marker": {
          "symbol": "circle"
         },
         "mode": "lines",
         "name": "Comedies, Independent Movies, International Movies",
         "showlegend": true,
         "type": "scattergl",
         "x": [
          1991,
          2015,
          2016,
          2017,
          2018,
          2019,
          2020,
          2021
         ],
         "xaxis": "x",
         "y": [
          1,
          1,
          5,
          4,
          8,
          1,
          1,
          1
         ],
         "yaxis": "y"
        },
        {
         "hovertemplate": "listed_in=Dramas, Thrillers<br>release_year=%{x}<br>count=%{y}<extra></extra>",
         "legendgroup": "Dramas, Thrillers",
         "line": {
          "color": "#FECB52",
          "dash": "solid"
         },
         "marker": {
          "symbol": "circle"
         },
         "mode": "lines",
         "name": "Dramas, Thrillers",
         "showlegend": true,
         "type": "scattergl",
         "x": [
          1991,
          1993,
          1996,
          1997,
          1999,
          2001,
          2003,
          2006,
          2007,
          2008,
          2009,
          2010,
          2011,
          2012,
          2013,
          2014,
          2015,
          2016,
          2017,
          2018,
          2019,
          2020,
          2021
         ],
         "xaxis": "x",
         "y": [
          1,
          1,
          1,
          3,
          1,
          2,
          1,
          2,
          2,
          2,
          2,
          2,
          2,
          1,
          2,
          4,
          5,
          15,
          10,
          11,
          6,
          4,
          2
         ],
         "yaxis": "y"
        },
        {
         "hovertemplate": "listed_in=British TV Shows, Kids' TV, TV Comedies<br>release_year=%{x}<br>count=%{y}<extra></extra>",
         "legendgroup": "British TV Shows, Kids' TV, TV Comedies",
         "line": {
          "color": "#636efa",
          "dash": "solid"
         },
         "marker": {
          "symbol": "circle"
         },
         "mode": "lines",
         "name": "British TV Shows, Kids' TV, TV Comedies",
         "showlegend": true,
         "type": "scattergl",
         "x": [
          1992,
          2012,
          2016,
          2017,
          2019,
          2020
         ],
         "xaxis": "x",
         "y": [
          1,
          1,
          2,
          1,
          1,
          1
         ],
         "yaxis": "y"
        },
        {
         "hovertemplate": "listed_in=Classic Movies, Comedies, Romantic Movies<br>release_year=%{x}<br>count=%{y}<extra></extra>",
         "legendgroup": "Classic Movies, Comedies, Romantic Movies",
         "line": {
          "color": "#EF553B",
          "dash": "solid"
         },
         "marker": {
          "symbol": "circle"
         },
         "mode": "lines",
         "name": "Classic Movies, Comedies, Romantic Movies",
         "showlegend": true,
         "type": "scattergl",
         "x": [
          1992
         ],
         "xaxis": "x",
         "y": [
          1
         ],
         "yaxis": "y"
        },
        {
         "hovertemplate": "listed_in=Classic Movies, Independent Movies, Thrillers<br>release_year=%{x}<br>count=%{y}<extra></extra>",
         "legendgroup": "Classic Movies, Independent Movies, Thrillers",
         "line": {
          "color": "#00cc96",
          "dash": "solid"
         },
         "marker": {
          "symbol": "circle"
         },
         "mode": "lines",
         "name": "Classic Movies, Independent Movies, Thrillers",
         "showlegend": true,
         "type": "scattergl",
         "x": [
          1992
         ],
         "xaxis": "x",
         "y": [
          1
         ],
         "yaxis": "y"
        },
        {
         "hovertemplate": "listed_in=Classic Movies, Thrillers<br>release_year=%{x}<br>count=%{y}<extra></extra>",
         "legendgroup": "Classic Movies, Thrillers",
         "line": {
          "color": "#ab63fa",
          "dash": "solid"
         },
         "marker": {
          "symbol": "circle"
         },
         "mode": "lines",
         "name": "Classic Movies, Thrillers",
         "showlegend": true,
         "type": "scattergl",
         "x": [
          1992
         ],
         "xaxis": "x",
         "y": [
          1
         ],
         "yaxis": "y"
        },
        {
         "hovertemplate": "listed_in=Comedies, International Movies, Sci-Fi & Fantasy<br>release_year=%{x}<br>count=%{y}<extra></extra>",
         "legendgroup": "Comedies, International Movies, Sci-Fi & Fantasy",
         "line": {
          "color": "#FFA15A",
          "dash": "solid"
         },
         "marker": {
          "symbol": "circle"
         },
         "mode": "lines",
         "name": "Comedies, International Movies, Sci-Fi & Fantasy",
         "showlegend": true,
         "type": "scattergl",
         "x": [
          1992,
          1993,
          2001,
          2009,
          2011,
          2016
         ],
         "xaxis": "x",
         "y": [
          1,
          1,
          1,
          1,
          1,
          1
         ],
         "yaxis": "y"
        },
        {
         "hovertemplate": "listed_in=Horror Movies<br>release_year=%{x}<br>count=%{y}<extra></extra>",
         "legendgroup": "Horror Movies",
         "line": {
          "color": "#19d3f3",
          "dash": "solid"
         },
         "marker": {
          "symbol": "circle"
         },
         "mode": "lines",
         "name": "Horror Movies",
         "showlegend": true,
         "type": "scattergl",
         "x": [
          1992,
          1997,
          2000,
          2005,
          2006,
          2008,
          2009,
          2010,
          2011,
          2012,
          2013,
          2014,
          2015,
          2016,
          2017,
          2018,
          2019,
          2020,
          2021
         ],
         "xaxis": "x",
         "y": [
          1,
          1,
          1,
          1,
          2,
          1,
          3,
          1,
          1,
          1,
          2,
          2,
          1,
          5,
          11,
          7,
          7,
          3,
          4
         ],
         "yaxis": "y"
        },
        {
         "hovertemplate": "listed_in=TV Comedies<br>release_year=%{x}<br>count=%{y}<extra></extra>",
         "legendgroup": "TV Comedies",
         "line": {
          "color": "#FF6692",
          "dash": "solid"
         },
         "marker": {
          "symbol": "circle"
         },
         "mode": "lines",
         "name": "TV Comedies",
         "showlegend": true,
         "type": "scattergl",
         "x": [
          1992,
          2003,
          2005,
          2007,
          2012,
          2013,
          2015,
          2016,
          2017,
          2018,
          2019,
          2020,
          2021
         ],
         "xaxis": "x",
         "y": [
          1,
          1,
          3,
          2,
          3,
          1,
          4,
          4,
          6,
          8,
          11,
          17,
          8
         ],
         "yaxis": "y"
        },
        {
         "hovertemplate": "listed_in=Action & Adventure, Comedies, Independent Movies<br>release_year=%{x}<br>count=%{y}<extra></extra>",
         "legendgroup": "Action & Adventure, Comedies, Independent Movies",
         "line": {
          "color": "#B6E880",
          "dash": "solid"
         },
         "marker": {
          "symbol": "circle"
         },
         "mode": "lines",
         "name": "Action & Adventure, Comedies, Independent Movies",
         "showlegend": true,
         "type": "scattergl",
         "x": [
          1993,
          1998,
          2012,
          2013,
          2015,
          2016
         ],
         "xaxis": "x",
         "y": [
          1,
          1,
          1,
          1,
          2,
          1
         ],
         "yaxis": "y"
        },
        {
         "hovertemplate": "listed_in=Children & Family Movies, Classic Movies, Dramas<br>release_year=%{x}<br>count=%{y}<extra></extra>",
         "legendgroup": "Children & Family Movies, Classic Movies, Dramas",
         "line": {
          "color": "#FF97FF",
          "dash": "solid"
         },
         "marker": {
          "symbol": "circle"
         },
         "mode": "lines",
         "name": "Children & Family Movies, Classic Movies, Dramas",
         "showlegend": true,
         "type": "scattergl",
         "x": [
          1993
         ],
         "xaxis": "x",
         "y": [
          1
         ],
         "yaxis": "y"
        },
        {
         "hovertemplate": "listed_in=Classic Movies, Dramas, LGBTQ Movies<br>release_year=%{x}<br>count=%{y}<extra></extra>",
         "legendgroup": "Classic Movies, Dramas, LGBTQ Movies",
         "line": {
          "color": "#FECB52",
          "dash": "solid"
         },
         "marker": {
          "symbol": "circle"
         },
         "mode": "lines",
         "name": "Classic Movies, Dramas, LGBTQ Movies",
         "showlegend": true,
         "type": "scattergl",
         "x": [
          1993
         ],
         "xaxis": "x",
         "y": [
          1
         ],
         "yaxis": "y"
        },
        {
         "hovertemplate": "listed_in=Reality TV<br>release_year=%{x}<br>count=%{y}<extra></extra>",
         "legendgroup": "Reality TV",
         "line": {
          "color": "#636efa",
          "dash": "solid"
         },
         "marker": {
          "symbol": "circle"
         },
         "mode": "lines",
         "name": "Reality TV",
         "showlegend": true,
         "type": "scattergl",
         "x": [
          1993,
          2006,
          2010,
          2011,
          2012,
          2013,
          2014,
          2015,
          2016,
          2017,
          2018,
          2019,
          2020,
          2021
         ],
         "xaxis": "x",
         "y": [
          1,
          1,
          1,
          1,
          3,
          2,
          7,
          3,
          8,
          3,
          10,
          18,
          19,
          18
         ],
         "yaxis": "y"
        },
        {
         "hovertemplate": "listed_in=TV Action & Adventure, TV Sci-Fi & Fantasy<br>release_year=%{x}<br>count=%{y}<extra></extra>",
         "legendgroup": "TV Action & Adventure, TV Sci-Fi & Fantasy",
         "line": {
          "color": "#EF553B",
          "dash": "solid"
         },
         "marker": {
          "symbol": "circle"
         },
         "mode": "lines",
         "name": "TV Action & Adventure, TV Sci-Fi & Fantasy",
         "showlegend": true,
         "type": "scattergl",
         "x": [
          1993,
          1999,
          2000,
          2019,
          2020,
          2021
         ],
         "xaxis": "x",
         "y": [
          1,
          1,
          1,
          2,
          2,
          2
         ],
         "yaxis": "y"
        },
        {
         "hovertemplate": "listed_in=Thrillers<br>release_year=%{x}<br>count=%{y}<extra></extra>",
         "legendgroup": "Thrillers",
         "line": {
          "color": "#00cc96",
          "dash": "solid"
         },
         "marker": {
          "symbol": "circle"
         },
         "mode": "lines",
         "name": "Thrillers",
         "showlegend": true,
         "type": "scattergl",
         "x": [
          1993,
          1995,
          1996,
          1997,
          1998,
          1999,
          2001,
          2002,
          2003,
          2005,
          2006,
          2007,
          2009,
          2010,
          2011,
          2013,
          2014,
          2015,
          2016,
          2017,
          2018,
          2019,
          2020,
          2021
         ],
         "xaxis": "x",
         "y": [
          1,
          1,
          1,
          2,
          1,
          2,
          2,
          1,
          1,
          1,
          1,
          1,
          1,
          1,
          1,
          1,
          1,
          3,
          7,
          8,
          8,
          10,
          5,
          4
         ],
         "yaxis": "y"
        },
        {
         "hovertemplate": "listed_in=Action & Adventure, Comedies, Cult Movies<br>release_year=%{x}<br>count=%{y}<extra></extra>",
         "legendgroup": "Action & Adventure, Comedies, Cult Movies",
         "line": {
          "color": "#ab63fa",
          "dash": "solid"
         },
         "marker": {
          "symbol": "circle"
         },
         "mode": "lines",
         "name": "Action & Adventure, Comedies, Cult Movies",
         "showlegend": true,
         "type": "scattergl",
         "x": [
          1994,
          2004,
          2010
         ],
         "xaxis": "x",
         "y": [
          1,
          2,
          1
         ],
         "yaxis": "y"
        },
        {
         "hovertemplate": "listed_in=Action & Adventure, Cult Movies, Sci-Fi & Fantasy<br>release_year=%{x}<br>count=%{y}<extra></extra>",
         "legendgroup": "Action & Adventure, Cult Movies, Sci-Fi & Fantasy",
         "line": {
          "color": "#FFA15A",
          "dash": "solid"
         },
         "marker": {
          "symbol": "circle"
         },
         "mode": "lines",
         "name": "Action & Adventure, Cult Movies, Sci-Fi & Fantasy",
         "showlegend": true,
         "type": "scattergl",
         "x": [
          1994,
          2000,
          2004
         ],
         "xaxis": "x",
         "y": [
          1,
          1,
          1
         ],
         "yaxis": "y"
        },
        {
         "hovertemplate": "listed_in=Action & Adventure, Dramas, Sports Movies<br>release_year=%{x}<br>count=%{y}<extra></extra>",
         "legendgroup": "Action & Adventure, Dramas, Sports Movies",
         "line": {
          "color": "#19d3f3",
          "dash": "solid"
         },
         "marker": {
          "symbol": "circle"
         },
         "mode": "lines",
         "name": "Action & Adventure, Dramas, Sports Movies",
         "showlegend": true,
         "type": "scattergl",
         "x": [
          1994,
          2008,
          2011
         ],
         "xaxis": "x",
         "y": [
          1,
          1,
          1
         ],
         "yaxis": "y"
        },
        {
         "hovertemplate": "listed_in=Children & Family Movies, Comedies, Dramas<br>release_year=%{x}<br>count=%{y}<extra></extra>",
         "legendgroup": "Children & Family Movies, Comedies, Dramas",
         "line": {
          "color": "#FF6692",
          "dash": "solid"
         },
         "marker": {
          "symbol": "circle"
         },
         "mode": "lines",
         "name": "Children & Family Movies, Comedies, Dramas",
         "showlegend": true,
         "type": "scattergl",
         "x": [
          1994,
          2006,
          2010,
          2011,
          2012,
          2017,
          2018,
          2019,
          2020
         ],
         "xaxis": "x",
         "y": [
          1,
          1,
          1,
          1,
          1,
          3,
          2,
          1,
          5
         ],
         "yaxis": "y"
        },
        {
         "hovertemplate": "listed_in=Comedies, Music & Musicals<br>release_year=%{x}<br>count=%{y}<extra></extra>",
         "legendgroup": "Comedies, Music & Musicals",
         "line": {
          "color": "#B6E880",
          "dash": "solid"
         },
         "marker": {
          "symbol": "circle"
         },
         "mode": "lines",
         "name": "Comedies, Music & Musicals",
         "showlegend": true,
         "type": "scattergl",
         "x": [
          1994,
          2003,
          2010,
          2012,
          2015,
          2018
         ],
         "xaxis": "x",
         "y": [
          1,
          1,
          1,
          1,
          2,
          1
         ],
         "yaxis": "y"
        },
        {
         "hovertemplate": "listed_in=Dramas, International Movies, Thrillers<br>release_year=%{x}<br>count=%{y}<extra></extra>",
         "legendgroup": "Dramas, International Movies, Thrillers",
         "line": {
          "color": "#FF97FF",
          "dash": "solid"
         },
         "marker": {
          "symbol": "circle"
         },
         "mode": "lines",
         "name": "Dramas, International Movies, Thrillers",
         "showlegend": true,
         "type": "scattergl",
         "x": [
          1994,
          2002,
          2003,
          2004,
          2006,
          2007,
          2008,
          2010,
          2011,
          2012,
          2013,
          2014,
          2015,
          2016,
          2017,
          2018,
          2019,
          2020,
          2021
         ],
         "xaxis": "x",
         "y": [
          1,
          1,
          2,
          1,
          3,
          2,
          1,
          3,
          1,
          2,
          4,
          9,
          10,
          19,
          14,
          23,
          14,
          14,
          10
         ],
         "yaxis": "y"
        },
        {
         "hovertemplate": "listed_in=Kids' TV, TV Comedies<br>release_year=%{x}<br>count=%{y}<extra></extra>",
         "legendgroup": "Kids' TV, TV Comedies",
         "line": {
          "color": "#FECB52",
          "dash": "solid"
         },
         "marker": {
          "symbol": "circle"
         },
         "mode": "lines",
         "name": "Kids' TV, TV Comedies",
         "showlegend": true,
         "type": "scattergl",
         "x": [
          1994,
          1997,
          2005,
          2008,
          2009,
          2011,
          2012,
          2013,
          2014,
          2015,
          2016,
          2017,
          2018,
          2019,
          2020,
          2021
         ],
         "xaxis": "x",
         "y": [
          1,
          2,
          2,
          1,
          1,
          3,
          4,
          2,
          3,
          8,
          4,
          16,
          13,
          8,
          21,
          10
         ],
         "yaxis": "y"
        },
        {
         "hovertemplate": "listed_in=Action & Adventure, Thrillers<br>release_year=%{x}<br>count=%{y}<extra></extra>",
         "legendgroup": "Action & Adventure, Thrillers",
         "line": {
          "color": "#636efa",
          "dash": "solid"
         },
         "marker": {
          "symbol": "circle"
         },
         "mode": "lines",
         "name": "Action & Adventure, Thrillers",
         "showlegend": true,
         "type": "scattergl",
         "x": [
          1995,
          2011,
          2014,
          2015
         ],
         "xaxis": "x",
         "y": [
          1,
          1,
          1,
          1
         ],
         "yaxis": "y"
        },
        {
         "hovertemplate": "listed_in=Anime Series, International TV Shows<br>release_year=%{x}<br>count=%{y}<extra></extra>",
         "legendgroup": "Anime Series, International TV Shows",
         "line": {
          "color": "#EF553B",
          "dash": "solid"
         },
         "marker": {
          "symbol": "circle"
         },
         "mode": "lines",
         "name": "Anime Series, International TV Shows",
         "showlegend": true,
         "type": "scattergl",
         "x": [
          1995,
          1998,
          1999,
          2001,
          2003,
          2006,
          2007,
          2008,
          2009,
          2010,
          2011,
          2012,
          2013,
          2014,
          2015,
          2016,
          2017,
          2018,
          2019,
          2020,
          2021
         ],
         "xaxis": "x",
         "y": [
          1,
          1,
          1,
          1,
          1,
          2,
          1,
          2,
          2,
          3,
          4,
          2,
          4,
          4,
          5,
          5,
          7,
          13,
          9,
          10,
          10
         ],
         "yaxis": "y"
        },
        {
         "hovertemplate": "listed_in=Comedies, Cult Movies, LGBTQ Movies<br>release_year=%{x}<br>count=%{y}<extra></extra>",
         "legendgroup": "Comedies, Cult Movies, LGBTQ Movies",
         "line": {
          "color": "#00cc96",
          "dash": "solid"
         },
         "marker": {
          "symbol": "circle"
         },
         "mode": "lines",
         "name": "Comedies, Cult Movies, LGBTQ Movies",
         "showlegend": true,
         "type": "scattergl",
         "x": [
          1995
         ],
         "xaxis": "x",
         "y": [
          1
         ],
         "yaxis": "y"
        },
        {
         "hovertemplate": "listed_in=Comedies, Dramas, Romantic Movies<br>release_year=%{x}<br>count=%{y}<extra></extra>",
         "legendgroup": "Comedies, Dramas, Romantic Movies",
         "line": {
          "color": "#ab63fa",
          "dash": "solid"
         },
         "marker": {
          "symbol": "circle"
         },
         "mode": "lines",
         "name": "Comedies, Dramas, Romantic Movies",
         "showlegend": true,
         "type": "scattergl",
         "x": [
          1995,
          1996,
          2001,
          2006,
          2007,
          2008,
          2009,
          2010,
          2014,
          2015,
          2016,
          2017,
          2018,
          2019
         ],
         "xaxis": "x",
         "y": [
          1,
          1,
          1,
          1,
          1,
          1,
          1,
          4,
          1,
          1,
          1,
          2,
          2,
          1
         ],
         "yaxis": "y"
        },
        {
         "hovertemplate": "listed_in=Comedies, Horror Movies, Sci-Fi & Fantasy<br>release_year=%{x}<br>count=%{y}<extra></extra>",
         "legendgroup": "Comedies, Horror Movies, Sci-Fi & Fantasy",
         "line": {
          "color": "#FFA15A",
          "dash": "solid"
         },
         "marker": {
          "symbol": "circle"
         },
         "mode": "lines",
         "name": "Comedies, Horror Movies, Sci-Fi & Fantasy",
         "showlegend": true,
         "type": "scattergl",
         "x": [
          1995,
          2001,
          2004,
          2015
         ],
         "xaxis": "x",
         "y": [
          1,
          1,
          1,
          1
         ],
         "yaxis": "y"
        },
        {
         "hovertemplate": "listed_in=Comedies, Independent Movies, Romantic Movies<br>release_year=%{x}<br>count=%{y}<extra></extra>",
         "legendgroup": "Comedies, Independent Movies, Romantic Movies",
         "line": {
          "color": "#19d3f3",
          "dash": "solid"
         },
         "marker": {
          "symbol": "circle"
         },
         "mode": "lines",
         "name": "Comedies, Independent Movies, Romantic Movies",
         "showlegend": true,
         "type": "scattergl",
         "x": [
          1995,
          2008,
          2012,
          2014,
          2017,
          2018,
          2020
         ],
         "xaxis": "x",
         "y": [
          1,
          1,
          1,
          1,
          2,
          1,
          1
         ],
         "yaxis": "y"
        },
        {
         "hovertemplate": "listed_in=Dramas, Independent Movies, Romantic Movies<br>release_year=%{x}<br>count=%{y}<extra></extra>",
         "legendgroup": "Dramas, Independent Movies, Romantic Movies",
         "line": {
          "color": "#FF6692",
          "dash": "solid"
         },
         "marker": {
          "symbol": "circle"
         },
         "mode": "lines",
         "name": "Dramas, Independent Movies, Romantic Movies",
         "showlegend": true,
         "type": "scattergl",
         "x": [
          1995,
          2002,
          2010,
          2011,
          2012,
          2013,
          2014,
          2015,
          2016,
          2017,
          2018,
          2019,
          2020
         ],
         "xaxis": "x",
         "y": [
          1,
          1,
          3,
          1,
          1,
          2,
          1,
          2,
          4,
          3,
          2,
          2,
          1
         ],
         "yaxis": "y"
        },
        {
         "hovertemplate": "listed_in=Comedies, Cult Movies, Sci-Fi & Fantasy<br>release_year=%{x}<br>count=%{y}<extra></extra>",
         "legendgroup": "Comedies, Cult Movies, Sci-Fi & Fantasy",
         "line": {
          "color": "#B6E880",
          "dash": "solid"
         },
         "marker": {
          "symbol": "circle"
         },
         "mode": "lines",
         "name": "Comedies, Cult Movies, Sci-Fi & Fantasy",
         "showlegend": true,
         "type": "scattergl",
         "x": [
          1996
         ],
         "xaxis": "x",
         "y": [
          1
         ],
         "yaxis": "y"
        },
        {
         "hovertemplate": "listed_in=Comedies, Cult Movies, Sports Movies<br>release_year=%{x}<br>count=%{y}<extra></extra>",
         "legendgroup": "Comedies, Cult Movies, Sports Movies",
         "line": {
          "color": "#FF97FF",
          "dash": "solid"
         },
         "marker": {
          "symbol": "circle"
         },
         "mode": "lines",
         "name": "Comedies, Cult Movies, Sports Movies",
         "showlegend": true,
         "type": "scattergl",
         "x": [
          1996
         ],
         "xaxis": "x",
         "y": [
          1
         ],
         "yaxis": "y"
        },
        {
         "hovertemplate": "listed_in=Dramas, Independent Movies<br>release_year=%{x}<br>count=%{y}<extra></extra>",
         "legendgroup": "Dramas, Independent Movies",
         "line": {
          "color": "#FECB52",
          "dash": "solid"
         },
         "marker": {
          "symbol": "circle"
         },
         "mode": "lines",
         "name": "Dramas, Independent Movies",
         "showlegend": true,
         "type": "scattergl",
         "x": [
          1996,
          1999,
          2004,
          2006,
          2007,
          2008,
          2010,
          2012,
          2013,
          2014,
          2015,
          2016,
          2017,
          2018,
          2019,
          2020,
          2021
         ],
         "xaxis": "x",
         "y": [
          1,
          1,
          1,
          2,
          2,
          3,
          2,
          4,
          6,
          5,
          16,
          15,
          12,
          11,
          8,
          9,
          2
         ],
         "yaxis": "y"
        },
        {
         "hovertemplate": "listed_in=Horror Movies, Thrillers<br>release_year=%{x}<br>count=%{y}<extra></extra>",
         "legendgroup": "Horror Movies, Thrillers",
         "line": {
          "color": "#636efa",
          "dash": "solid"
         },
         "marker": {
          "symbol": "circle"
         },
         "mode": "lines",
         "name": "Horror Movies, Thrillers",
         "showlegend": true,
         "type": "scattergl",
         "x": [
          1996,
          2000,
          2002,
          2003,
          2006,
          2007,
          2008,
          2009,
          2010,
          2012,
          2013,
          2014,
          2015,
          2016,
          2017,
          2018,
          2019,
          2020,
          2021
         ],
         "xaxis": "x",
         "y": [
          1,
          1,
          1,
          2,
          1,
          1,
          2,
          2,
          2,
          3,
          1,
          4,
          3,
          9,
          7,
          9,
          2,
          2,
          1
         ],
         "yaxis": "y"
        },
        {
         "hovertemplate": "listed_in=Action & Adventure, Comedies, Sci-Fi & Fantasy<br>release_year=%{x}<br>count=%{y}<extra></extra>",
         "legendgroup": "Action & Adventure, Comedies, Sci-Fi & Fantasy",
         "line": {
          "color": "#EF553B",
          "dash": "solid"
         },
         "marker": {
          "symbol": "circle"
         },
         "mode": "lines",
         "name": "Action & Adventure, Comedies, Sci-Fi & Fantasy",
         "showlegend": true,
         "type": "scattergl",
         "x": [
          1997,
          1998,
          1999,
          2002,
          2014,
          2017,
          2018
         ],
         "xaxis": "x",
         "y": [
          1,
          1,
          2,
          1,
          1,
          1,
          1
         ],
         "yaxis": "y"
        },
        {
         "hovertemplate": "listed_in=Horror Movies, Sci-Fi & Fantasy<br>release_year=%{x}<br>count=%{y}<extra></extra>",
         "legendgroup": "Horror Movies, Sci-Fi & Fantasy",
         "line": {
          "color": "#00cc96",
          "dash": "solid"
         },
         "marker": {
          "symbol": "circle"
         },
         "mode": "lines",
         "name": "Horror Movies, Sci-Fi & Fantasy",
         "showlegend": true,
         "type": "scattergl",
         "x": [
          1997,
          2013,
          2018
         ],
         "xaxis": "x",
         "y": [
          1,
          1,
          2
         ],
         "yaxis": "y"
        },
        {
         "hovertemplate": "listed_in=Action & Adventure, Romantic Movies<br>release_year=%{x}<br>count=%{y}<extra></extra>",
         "legendgroup": "Action & Adventure, Romantic Movies",
         "line": {
          "color": "#ab63fa",
          "dash": "solid"
         },
         "marker": {
          "symbol": "circle"
         },
         "mode": "lines",
         "name": "Action & Adventure, Romantic Movies",
         "showlegend": true,
         "type": "scattergl",
         "x": [
          1998,
          2010,
          2016
         ],
         "xaxis": "x",
         "y": [
          1,
          1,
          1
         ],
         "yaxis": "y"
        },
        {
         "hovertemplate": "listed_in=Comedies, Documentaries<br>release_year=%{x}<br>count=%{y}<extra></extra>",
         "legendgroup": "Comedies, Documentaries",
         "line": {
          "color": "#FFA15A",
          "dash": "solid"
         },
         "marker": {
          "symbol": "circle"
         },
         "mode": "lines",
         "name": "Comedies, Documentaries",
         "showlegend": true,
         "type": "scattergl",
         "x": [
          1998,
          2000
         ],
         "xaxis": "x",
         "y": [
          1,
          1
         ],
         "yaxis": "y"
        },
        {
         "hovertemplate": "listed_in=Comedies, Sports Movies<br>release_year=%{x}<br>count=%{y}<extra></extra>",
         "legendgroup": "Comedies, Sports Movies",
         "line": {
          "color": "#19d3f3",
          "dash": "solid"
         },
         "marker": {
          "symbol": "circle"
         },
         "mode": "lines",
         "name": "Comedies, Sports Movies",
         "showlegend": true,
         "type": "scattergl",
         "x": [
          1998,
          2006,
          2007,
          2008,
          2011,
          2019,
          2020
         ],
         "xaxis": "x",
         "y": [
          2,
          1,
          1,
          1,
          1,
          1,
          1
         ],
         "yaxis": "y"
        },
        {
         "hovertemplate": "listed_in=Dramas, Independent Movies, LGBTQ Movies<br>release_year=%{x}<br>count=%{y}<extra></extra>",
         "legendgroup": "Dramas, Independent Movies, LGBTQ Movies",
         "line": {
          "color": "#FF6692",
          "dash": "solid"
         },
         "marker": {
          "symbol": "circle"
         },
         "mode": "lines",
         "name": "Dramas, Independent Movies, LGBTQ Movies",
         "showlegend": true,
         "type": "scattergl",
         "x": [
          1998,
          2006,
          2008,
          2009,
          2012,
          2013,
          2016,
          2017,
          2018,
          2019,
          2020
         ],
         "xaxis": "x",
         "y": [
          1,
          1,
          1,
          1,
          2,
          2,
          3,
          1,
          2,
          2,
          1
         ],
         "yaxis": "y"
        },
        {
         "hovertemplate": "listed_in=Dramas, Independent Movies, Thrillers<br>release_year=%{x}<br>count=%{y}<extra></extra>",
         "legendgroup": "Dramas, Independent Movies, Thrillers",
         "line": {
          "color": "#B6E880",
          "dash": "solid"
         },
         "marker": {
          "symbol": "circle"
         },
         "mode": "lines",
         "name": "Dramas, Independent Movies, Thrillers",
         "showlegend": true,
         "type": "scattergl",
         "x": [
          1998,
          2004,
          2006,
          2012,
          2013,
          2014,
          2015,
          2016,
          2017,
          2018,
          2019,
          2020
         ],
         "xaxis": "x",
         "y": [
          1,
          1,
          1,
          1,
          1,
          3,
          2,
          3,
          10,
          3,
          4,
          1
         ],
         "yaxis": "y"
        },
        {
         "hovertemplate": "listed_in=Dramas, Music & Musicals, Romantic Movies<br>release_year=%{x}<br>count=%{y}<extra></extra>",
         "legendgroup": "Dramas, Music & Musicals, Romantic Movies",
         "line": {
          "color": "#FF97FF",
          "dash": "solid"
         },
         "marker": {
          "symbol": "circle"
         },
         "mode": "lines",
         "name": "Dramas, Music & Musicals, Romantic Movies",
         "showlegend": true,
         "type": "scattergl",
         "x": [
          1998,
          2004,
          2007,
          2016,
          2019
         ],
         "xaxis": "x",
         "y": [
          1,
          1,
          1,
          1,
          1
         ],
         "yaxis": "y"
        },
        {
         "hovertemplate": "listed_in=Dramas, Romantic Movies, Sci-Fi & Fantasy<br>release_year=%{x}<br>count=%{y}<extra></extra>",
         "legendgroup": "Dramas, Romantic Movies, Sci-Fi & Fantasy",
         "line": {
          "color": "#FECB52",
          "dash": "solid"
         },
         "marker": {
          "symbol": "circle"
         },
         "mode": "lines",
         "name": "Dramas, Romantic Movies, Sci-Fi & Fantasy",
         "showlegend": true,
         "type": "scattergl",
         "x": [
          1998,
          2006,
          2009,
          2013,
          2015
         ],
         "xaxis": "x",
         "y": [
          1,
          1,
          1,
          1,
          1
         ],
         "yaxis": "y"
        },
        {
         "hovertemplate": "listed_in=Kids' TV, TV Thrillers<br>release_year=%{x}<br>count=%{y}<extra></extra>",
         "legendgroup": "Kids' TV, TV Thrillers",
         "line": {
          "color": "#636efa",
          "dash": "solid"
         },
         "marker": {
          "symbol": "circle"
         },
         "mode": "lines",
         "name": "Kids' TV, TV Thrillers",
         "showlegend": true,
         "type": "scattergl",
         "x": [
          1998,
          2018,
          2019,
          2020,
          2021
         ],
         "xaxis": "x",
         "y": [
          1,
          1,
          1,
          1,
          1
         ],
         "yaxis": "y"
        },
        {
         "hovertemplate": "listed_in=TV Comedies, Teen TV Shows<br>release_year=%{x}<br>count=%{y}<extra></extra>",
         "legendgroup": "TV Comedies, Teen TV Shows",
         "line": {
          "color": "#EF553B",
          "dash": "solid"
         },
         "marker": {
          "symbol": "circle"
         },
         "mode": "lines",
         "name": "TV Comedies, Teen TV Shows",
         "showlegend": true,
         "type": "scattergl",
         "x": [
          1998,
          2000,
          2006,
          2017,
          2018,
          2020
         ],
         "xaxis": "x",
         "y": [
          1,
          1,
          1,
          1,
          1,
          1
         ],
         "yaxis": "y"
        },
        {
         "hovertemplate": "listed_in=Action & Adventure, Horror Movies, Sci-Fi & Fantasy<br>release_year=%{x}<br>count=%{y}<extra></extra>",
         "legendgroup": "Action & Adventure, Horror Movies, Sci-Fi & Fantasy",
         "line": {
          "color": "#00cc96",
          "dash": "solid"
         },
         "marker": {
          "symbol": "circle"
         },
         "mode": "lines",
         "name": "Action & Adventure, Horror Movies, Sci-Fi & Fantasy",
         "showlegend": true,
         "type": "scattergl",
         "x": [
          1999,
          2003,
          2005,
          2008,
          2009,
          2010,
          2012,
          2019
         ],
         "xaxis": "x",
         "y": [
          1,
          1,
          1,
          1,
          2,
          2,
          1,
          2
         ],
         "yaxis": "y"
        },
        {
         "hovertemplate": "listed_in=British TV Shows, TV Comedies<br>release_year=%{x}<br>count=%{y}<extra></extra>",
         "legendgroup": "British TV Shows, TV Comedies",
         "line": {
          "color": "#ab63fa",
          "dash": "solid"
         },
         "marker": {
          "symbol": "circle"
         },
         "mode": "lines",
         "name": "British TV Shows, TV Comedies",
         "showlegend": true,
         "type": "scattergl",
         "x": [
          1999,
          2005,
          2006,
          2010,
          2012,
          2014,
          2016,
          2017,
          2018
         ],
         "xaxis": "x",
         "y": [
          1,
          1,
          1,
          1,
          2,
          1,
          1,
          2,
          1
         ],
         "yaxis": "y"
        },
        {
         "hovertemplate": "listed_in=Crime TV Shows, Docuseries<br>release_year=%{x}<br>count=%{y}<extra></extra>",
         "legendgroup": "Crime TV Shows, Docuseries",
         "line": {
          "color": "#FFA15A",
          "dash": "solid"
         },
         "marker": {
          "symbol": "circle"
         },
         "mode": "lines",
         "name": "Crime TV Shows, Docuseries",
         "showlegend": true,
         "type": "scattergl",
         "x": [
          1999,
          2008,
          2010,
          2011,
          2013,
          2015,
          2016,
          2017,
          2018,
          2019,
          2020,
          2021
         ],
         "xaxis": "x",
         "y": [
          1,
          1,
          1,
          1,
          1,
          2,
          2,
          4,
          6,
          11,
          14,
          6
         ],
         "yaxis": "y"
        },
        {
         "hovertemplate": "listed_in=Horror Movies, International Movies, Romantic Movies<br>release_year=%{x}<br>count=%{y}<extra></extra>",
         "legendgroup": "Horror Movies, International Movies, Romantic Movies",
         "line": {
          "color": "#19d3f3",
          "dash": "solid"
         },
         "marker": {
          "symbol": "circle"
         },
         "mode": "lines",
         "name": "Horror Movies, International Movies, Romantic Movies",
         "showlegend": true,
         "type": "scattergl",
         "x": [
          1999,
          2019
         ],
         "xaxis": "x",
         "y": [
          1,
          1
         ],
         "yaxis": "y"
        },
        {
         "hovertemplate": "listed_in=International TV Shows, TV Dramas, Teen TV Shows<br>release_year=%{x}<br>count=%{y}<extra></extra>",
         "legendgroup": "International TV Shows, TV Dramas, Teen TV Shows",
         "line": {
          "color": "#FF6692",
          "dash": "solid"
         },
         "marker": {
          "symbol": "circle"
         },
         "mode": "lines",
         "name": "International TV Shows, TV Dramas, Teen TV Shows",
         "showlegend": true,
         "type": "scattergl",
         "x": [
          1999,
          2015,
          2017,
          2018,
          2019,
          2020,
          2021
         ],
         "xaxis": "x",
         "y": [
          1,
          1,
          3,
          1,
          3,
          3,
          1
         ],
         "yaxis": "y"
        },
        {
         "hovertemplate": "listed_in=TV Comedies, TV Sci-Fi & Fantasy<br>release_year=%{x}<br>count=%{y}<extra></extra>",
         "legendgroup": "TV Comedies, TV Sci-Fi & Fantasy",
         "line": {
          "color": "#B6E880",
          "dash": "solid"
         },
         "marker": {
          "symbol": "circle"
         },
         "mode": "lines",
         "name": "TV Comedies, TV Sci-Fi & Fantasy",
         "showlegend": true,
         "type": "scattergl",
         "x": [
          1999,
          2018
         ],
         "xaxis": "x",
         "y": [
          1,
          1
         ],
         "yaxis": "y"
        },
        {
         "hovertemplate": "listed_in=Action & Adventure, Dramas, Sci-Fi & Fantasy<br>release_year=%{x}<br>count=%{y}<extra></extra>",
         "legendgroup": "Action & Adventure, Dramas, Sci-Fi & Fantasy",
         "line": {
          "color": "#FF97FF",
          "dash": "solid"
         },
         "marker": {
          "symbol": "circle"
         },
         "mode": "lines",
         "name": "Action & Adventure, Dramas, Sci-Fi & Fantasy",
         "showlegend": true,
         "type": "scattergl",
         "x": [
          2000,
          2002,
          2005,
          2017,
          2018
         ],
         "xaxis": "x",
         "y": [
          1,
          1,
          1,
          1,
          1
         ],
         "yaxis": "y"
        },
        {
         "hovertemplate": "listed_in=Children & Family Movies, Comedies, Romantic Movies<br>release_year=%{x}<br>count=%{y}<extra></extra>",
         "legendgroup": "Children & Family Movies, Comedies, Romantic Movies",
         "line": {
          "color": "#FECB52",
          "dash": "solid"
         },
         "marker": {
          "symbol": "circle"
         },
         "mode": "lines",
         "name": "Children & Family Movies, Comedies, Romantic Movies",
         "showlegend": true,
         "type": "scattergl",
         "x": [
          2000,
          2006,
          2011,
          2018,
          2019,
          2020
         ],
         "xaxis": "x",
         "y": [
          1,
          1,
          1,
          1,
          3,
          1
         ],
         "yaxis": "y"
        },
        {
         "hovertemplate": "listed_in=Children & Family Movies, Dramas, Faith & Spirituality<br>release_year=%{x}<br>count=%{y}<extra></extra>",
         "legendgroup": "Children & Family Movies, Dramas, Faith & Spirituality",
         "line": {
          "color": "#636efa",
          "dash": "solid"
         },
         "marker": {
          "symbol": "circle"
         },
         "mode": "lines",
         "name": "Children & Family Movies, Dramas, Faith & Spirituality",
         "showlegend": true,
         "type": "scattergl",
         "x": [
          2000,
          2017,
          2018,
          2019,
          2020,
          2021
         ],
         "xaxis": "x",
         "y": [
          1,
          1,
          1,
          1,
          1,
          1
         ],
         "yaxis": "y"
        },
        {
         "hovertemplate": "listed_in=Comedies, Horror Movies<br>release_year=%{x}<br>count=%{y}<extra></extra>",
         "legendgroup": "Comedies, Horror Movies",
         "line": {
          "color": "#EF553B",
          "dash": "solid"
         },
         "marker": {
          "symbol": "circle"
         },
         "mode": "lines",
         "name": "Comedies, Horror Movies",
         "showlegend": true,
         "type": "scattergl",
         "x": [
          2000,
          2009,
          2013,
          2014,
          2015,
          2016,
          2017,
          2020
         ],
         "xaxis": "x",
         "y": [
          1,
          1,
          2,
          1,
          1,
          1,
          2,
          3
         ],
         "yaxis": "y"
        },
        {
         "hovertemplate": "listed_in=Cult Movies, Horror Movies, Thrillers<br>release_year=%{x}<br>count=%{y}<extra></extra>",
         "legendgroup": "Cult Movies, Horror Movies, Thrillers",
         "line": {
          "color": "#00cc96",
          "dash": "solid"
         },
         "marker": {
          "symbol": "circle"
         },
         "mode": "lines",
         "name": "Cult Movies, Horror Movies, Thrillers",
         "showlegend": true,
         "type": "scattergl",
         "x": [
          2000
         ],
         "xaxis": "x",
         "y": [
          1
         ],
         "yaxis": "y"
        },
        {
         "hovertemplate": "listed_in=British TV Shows, Docuseries<br>release_year=%{x}<br>count=%{y}<extra></extra>",
         "legendgroup": "British TV Shows, Docuseries",
         "line": {
          "color": "#ab63fa",
          "dash": "solid"
         },
         "marker": {
          "symbol": "circle"
         },
         "mode": "lines",
         "name": "British TV Shows, Docuseries",
         "showlegend": true,
         "type": "scattergl",
         "x": [
          2001,
          2009,
          2011,
          2012,
          2013,
          2015,
          2016,
          2017,
          2018
         ],
         "xaxis": "x",
         "y": [
          1,
          1,
          1,
          1,
          1,
          2,
          1,
          2,
          2
         ],
         "yaxis": "y"
        },
        {
         "hovertemplate": "listed_in=British TV Shows, Docuseries, International TV Shows<br>release_year=%{x}<br>count=%{y}<extra></extra>",
         "legendgroup": "British TV Shows, Docuseries, International TV Shows",
         "line": {
          "color": "#FFA15A",
          "dash": "solid"
         },
         "marker": {
          "symbol": "circle"
         },
         "mode": "lines",
         "name": "British TV Shows, Docuseries, International TV Shows",
         "showlegend": true,
         "type": "scattergl",
         "x": [
          2001,
          2006,
          2009,
          2011,
          2013,
          2014,
          2015,
          2016,
          2017,
          2019,
          2020,
          2021
         ],
         "xaxis": "x",
         "y": [
          1,
          2,
          1,
          3,
          4,
          2,
          1,
          3,
          5,
          2,
          4,
          2
         ],
         "yaxis": "y"
        },
        {
         "hovertemplate": "listed_in=Children & Family Movies, Comedies, Sci-Fi & Fantasy<br>release_year=%{x}<br>count=%{y}<extra></extra>",
         "legendgroup": "Children & Family Movies, Comedies, Sci-Fi & Fantasy",
         "line": {
          "color": "#19d3f3",
          "dash": "solid"
         },
         "marker": {
          "symbol": "circle"
         },
         "mode": "lines",
         "name": "Children & Family Movies, Comedies, Sci-Fi & Fantasy",
         "showlegend": true,
         "type": "scattergl",
         "x": [
          2001,
          2009,
          2013,
          2014,
          2015,
          2016,
          2018,
          2019
         ],
         "xaxis": "x",
         "y": [
          1,
          3,
          1,
          1,
          1,
          1,
          2,
          1
         ],
         "yaxis": "y"
        },
        {
         "hovertemplate": "listed_in=Comedies, Sci-Fi & Fantasy<br>release_year=%{x}<br>count=%{y}<extra></extra>",
         "legendgroup": "Comedies, Sci-Fi & Fantasy",
         "line": {
          "color": "#FF6692",
          "dash": "solid"
         },
         "marker": {
          "symbol": "circle"
         },
         "mode": "lines",
         "name": "Comedies, Sci-Fi & Fantasy",
         "showlegend": true,
         "type": "scattergl",
         "x": [
          2001,
          2006,
          2016
         ],
         "xaxis": "x",
         "y": [
          1,
          1,
          1
         ],
         "yaxis": "y"
        },
        {
         "hovertemplate": "listed_in=Reality TV, TV Action & Adventure, TV Mysteries<br>release_year=%{x}<br>count=%{y}<extra></extra>",
         "legendgroup": "Reality TV, TV Action & Adventure, TV Mysteries",
         "line": {
          "color": "#B6E880",
          "dash": "solid"
         },
         "marker": {
          "symbol": "circle"
         },
         "mode": "lines",
         "name": "Reality TV, TV Action & Adventure, TV Mysteries",
         "showlegend": true,
         "type": "scattergl",
         "x": [
          2001
         ],
         "xaxis": "x",
         "y": [
          1
         ],
         "yaxis": "y"
        },
        {
         "hovertemplate": "listed_in=Documentaries, International Movies, Music & Musicals<br>release_year=%{x}<br>count=%{y}<extra></extra>",
         "legendgroup": "Documentaries, International Movies, Music & Musicals",
         "line": {
          "color": "#FF97FF",
          "dash": "solid"
         },
         "marker": {
          "symbol": "circle"
         },
         "mode": "lines",
         "name": "Documentaries, International Movies, Music & Musicals",
         "showlegend": true,
         "type": "scattergl",
         "x": [
          2002,
          2012,
          2013,
          2015,
          2016,
          2017,
          2018,
          2019,
          2020,
          2021
         ],
         "xaxis": "x",
         "y": [
          1,
          1,
          1,
          4,
          5,
          5,
          3,
          4,
          12,
          5
         ],
         "yaxis": "y"
        },
        {
         "hovertemplate": "listed_in=International Movies, Thrillers<br>release_year=%{x}<br>count=%{y}<extra></extra>",
         "legendgroup": "International Movies, Thrillers",
         "line": {
          "color": "#FECB52",
          "dash": "solid"
         },
         "marker": {
          "symbol": "circle"
         },
         "mode": "lines",
         "name": "International Movies, Thrillers",
         "showlegend": true,
         "type": "scattergl",
         "x": [
          2002,
          2008,
          2009,
          2011,
          2012,
          2013,
          2014,
          2015,
          2016,
          2017,
          2018,
          2019,
          2020,
          2021
         ],
         "xaxis": "x",
         "y": [
          1,
          1,
          2,
          2,
          1,
          1,
          7,
          3,
          9,
          5,
          6,
          16,
          8,
          5
         ],
         "yaxis": "y"
        },
        {
         "hovertemplate": "listed_in=International TV Shows, Romantic TV Shows, TV Dramas<br>release_year=%{x}<br>count=%{y}<extra></extra>",
         "legendgroup": "International TV Shows, Romantic TV Shows, TV Dramas",
         "line": {
          "color": "#636efa",
          "dash": "solid"
         },
         "marker": {
          "symbol": "circle"
         },
         "mode": "lines",
         "name": "International TV Shows, Romantic TV Shows, TV Dramas",
         "showlegend": true,
         "type": "scattergl",
         "x": [
          2002,
          2009,
          2010,
          2011,
          2012,
          2013,
          2014,
          2015,
          2016,
          2017,
          2018,
          2019,
          2020,
          2021
         ],
         "xaxis": "x",
         "y": [
          2,
          2,
          2,
          2,
          3,
          5,
          4,
          16,
          14,
          6,
          15,
          11,
          3,
          5
         ],
         "yaxis": "y"
        },
        {
         "hovertemplate": "listed_in=International TV Shows, Spanish-Language TV Shows, TV Dramas<br>release_year=%{x}<br>count=%{y}<extra></extra>",
         "legendgroup": "International TV Shows, Spanish-Language TV Shows, TV Dramas",
         "line": {
          "color": "#EF553B",
          "dash": "solid"
         },
         "marker": {
          "symbol": "circle"
         },
         "mode": "lines",
         "name": "International TV Shows, Spanish-Language TV Shows, TV Dramas",
         "showlegend": true,
         "type": "scattergl",
         "x": [
          2002,
          2006,
          2008,
          2013,
          2015,
          2016,
          2017,
          2018,
          2019,
          2020,
          2021
         ],
         "xaxis": "x",
         "y": [
          1,
          1,
          1,
          1,
          2,
          4,
          1,
          4,
          1,
          5,
          5
         ],
         "yaxis": "y"
        },
        {
         "hovertemplate": "listed_in=Romantic TV Shows, TV Dramas, Teen TV Shows<br>release_year=%{x}<br>count=%{y}<extra></extra>",
         "legendgroup": "Romantic TV Shows, TV Dramas, Teen TV Shows",
         "line": {
          "color": "#00cc96",
          "dash": "solid"
         },
         "marker": {
          "symbol": "circle"
         },
         "mode": "lines",
         "name": "Romantic TV Shows, TV Dramas, Teen TV Shows",
         "showlegend": true,
         "type": "scattergl",
         "x": [
          2002,
          2019
         ],
         "xaxis": "x",
         "y": [
          1,
          1
         ],
         "yaxis": "y"
        },
        {
         "hovertemplate": "listed_in=International TV Shows, Romantic TV Shows<br>release_year=%{x}<br>count=%{y}<extra></extra>",
         "legendgroup": "International TV Shows, Romantic TV Shows",
         "line": {
          "color": "#ab63fa",
          "dash": "solid"
         },
         "marker": {
          "symbol": "circle"
         },
         "mode": "lines",
         "name": "International TV Shows, Romantic TV Shows",
         "showlegend": true,
         "type": "scattergl",
         "x": [
          2003,
          2004,
          2017
         ],
         "xaxis": "x",
         "y": [
          1,
          1,
          1
         ],
         "yaxis": "y"
        },
        {
         "hovertemplate": "listed_in=International TV Shows, Romantic TV Shows, Spanish-Language TV Shows<br>release_year=%{x}<br>count=%{y}<extra></extra>",
         "legendgroup": "International TV Shows, Romantic TV Shows, Spanish-Language TV Shows",
         "line": {
          "color": "#FFA15A",
          "dash": "solid"
         },
         "marker": {
          "symbol": "circle"
         },
         "mode": "lines",
         "name": "International TV Shows, Romantic TV Shows, Spanish-Language TV Shows",
         "showlegend": true,
         "type": "scattergl",
         "x": [
          2003,
          2004,
          2007,
          2010,
          2013,
          2015,
          2016,
          2017,
          2018,
          2019,
          2020,
          2021
         ],
         "xaxis": "x",
         "y": [
          1,
          2,
          1,
          1,
          2,
          1,
          1,
          1,
          1,
          6,
          2,
          4
         ],
         "yaxis": "y"
        },
        {
         "hovertemplate": "listed_in=International TV Shows, Romantic TV Shows, TV Action & Adventure<br>release_year=%{x}<br>count=%{y}<extra></extra>",
         "legendgroup": "International TV Shows, Romantic TV Shows, TV Action & Adventure",
         "line": {
          "color": "#19d3f3",
          "dash": "solid"
         },
         "marker": {
          "symbol": "circle"
         },
         "mode": "lines",
         "name": "International TV Shows, Romantic TV Shows, TV Action & Adventure",
         "showlegend": true,
         "type": "scattergl",
         "x": [
          2003,
          2018,
          2020
         ],
         "xaxis": "x",
         "y": [
          1,
          1,
          1
         ],
         "yaxis": "y"
        },
        {
         "hovertemplate": "listed_in=Action & Adventure, Children & Family Movies<br>release_year=%{x}<br>count=%{y}<extra></extra>",
         "legendgroup": "Action & Adventure, Children & Family Movies",
         "line": {
          "color": "#FF6692",
          "dash": "solid"
         },
         "marker": {
          "symbol": "circle"
         },
         "mode": "lines",
         "name": "Action & Adventure, Children & Family Movies",
         "showlegend": true,
         "type": "scattergl",
         "x": [
          2004,
          2016
         ],
         "xaxis": "x",
         "y": [
          1,
          1
         ],
         "yaxis": "y"
        },
        {
         "hovertemplate": "listed_in=Action & Adventure, Horror Movies, International Movies<br>release_year=%{x}<br>count=%{y}<extra></extra>",
         "legendgroup": "Action & Adventure, Horror Movies, International Movies",
         "line": {
          "color": "#B6E880",
          "dash": "solid"
         },
         "marker": {
          "symbol": "circle"
         },
         "mode": "lines",
         "name": "Action & Adventure, Horror Movies, International Movies",
         "showlegend": true,
         "type": "scattergl",
         "x": [
          2004,
          2015,
          2016,
          2018,
          2021
         ],
         "xaxis": "x",
         "y": [
          1,
          1,
          1,
          1,
          1
         ],
         "yaxis": "y"
        },
        {
         "hovertemplate": "listed_in=British TV Shows, Romantic TV Shows, TV Dramas<br>release_year=%{x}<br>count=%{y}<extra></extra>",
         "legendgroup": "British TV Shows, Romantic TV Shows, TV Dramas",
         "line": {
          "color": "#FF97FF",
          "dash": "solid"
         },
         "marker": {
          "symbol": "circle"
         },
         "mode": "lines",
         "name": "British TV Shows, Romantic TV Shows, TV Dramas",
         "showlegend": true,
         "type": "scattergl",
         "x": [
          2004,
          2020
         ],
         "xaxis": "x",
         "y": [
          1,
          1
         ],
         "yaxis": "y"
        },
        {
         "hovertemplate": "listed_in=Children & Family Movies, Dramas, Sports Movies<br>release_year=%{x}<br>count=%{y}<extra></extra>",
         "legendgroup": "Children & Family Movies, Dramas, Sports Movies",
         "line": {
          "color": "#FECB52",
          "dash": "solid"
         },
         "marker": {
          "symbol": "circle"
         },
         "mode": "lines",
         "name": "Children & Family Movies, Dramas, Sports Movies",
         "showlegend": true,
         "type": "scattergl",
         "x": [
          2004,
          2009,
          2011,
          2015,
          2016,
          2017,
          2020
         ],
         "xaxis": "x",
         "y": [
          1,
          1,
          2,
          1,
          2,
          1,
          1
         ],
         "yaxis": "y"
        },
        {
         "hovertemplate": "listed_in=Classic & Cult TV, TV Action & Adventure, TV Sci-Fi & Fantasy<br>release_year=%{x}<br>count=%{y}<extra></extra>",
         "legendgroup": "Classic & Cult TV, TV Action & Adventure, TV Sci-Fi & Fantasy",
         "line": {
          "color": "#636efa",
          "dash": "solid"
         },
         "marker": {
          "symbol": "circle"
         },
         "mode": "lines",
         "name": "Classic & Cult TV, TV Action & Adventure, TV Sci-Fi & Fantasy",
         "showlegend": true,
         "type": "scattergl",
         "x": [
          2004,
          2006
         ],
         "xaxis": "x",
         "y": [
          1,
          1
         ],
         "yaxis": "y"
        },
        {
         "hovertemplate": "listed_in=Crime TV Shows, International TV Shows, Romantic TV Shows<br>release_year=%{x}<br>count=%{y}<extra></extra>",
         "legendgroup": "Crime TV Shows, International TV Shows, Romantic TV Shows",
         "line": {
          "color": "#EF553B",
          "dash": "solid"
         },
         "marker": {
          "symbol": "circle"
         },
         "mode": "lines",
         "name": "Crime TV Shows, International TV Shows, Romantic TV Shows",
         "showlegend": true,
         "type": "scattergl",
         "x": [
          2004,
          2013,
          2014,
          2016,
          2017,
          2019
         ],
         "xaxis": "x",
         "y": [
          1,
          1,
          1,
          1,
          1,
          2
         ],
         "yaxis": "y"
        },
        {
         "hovertemplate": "listed_in=Horror Movies, International Movies<br>release_year=%{x}<br>count=%{y}<extra></extra>",
         "legendgroup": "Horror Movies, International Movies",
         "line": {
          "color": "#00cc96",
          "dash": "solid"
         },
         "marker": {
          "symbol": "circle"
         },
         "mode": "lines",
         "name": "Horror Movies, International Movies",
         "showlegend": true,
         "type": "scattergl",
         "x": [
          2004,
          2006,
          2007,
          2009,
          2010,
          2011,
          2013,
          2014,
          2015,
          2016,
          2017,
          2018,
          2019,
          2020,
          2021
         ],
         "xaxis": "x",
         "y": [
          1,
          2,
          1,
          2,
          1,
          4,
          4,
          3,
          2,
          5,
          7,
          9,
          6,
          9,
          1
         ],
         "yaxis": "y"
        },
        {
         "hovertemplate": "listed_in=Independent Movies, International Movies, Thrillers<br>release_year=%{x}<br>count=%{y}<extra></extra>",
         "legendgroup": "Independent Movies, International Movies, Thrillers",
         "line": {
          "color": "#ab63fa",
          "dash": "solid"
         },
         "marker": {
          "symbol": "circle"
         },
         "mode": "lines",
         "name": "Independent Movies, International Movies, Thrillers",
         "showlegend": true,
         "type": "scattergl",
         "x": [
          2004,
          2006,
          2017,
          2018,
          2020
         ],
         "xaxis": "x",
         "y": [
          1,
          1,
          1,
          1,
          1
         ],
         "yaxis": "y"
        },
        {
         "hovertemplate": "listed_in=International Movies, Music & Musicals, Romantic Movies<br>release_year=%{x}<br>count=%{y}<extra></extra>",
         "legendgroup": "International Movies, Music & Musicals, Romantic Movies",
         "line": {
          "color": "#FFA15A",
          "dash": "solid"
         },
         "marker": {
          "symbol": "circle"
         },
         "mode": "lines",
         "name": "International Movies, Music & Musicals, Romantic Movies",
         "showlegend": true,
         "type": "scattergl",
         "x": [
          2004,
          2006,
          2008,
          2009,
          2014,
          2015
         ],
         "xaxis": "x",
         "y": [
          1,
          1,
          1,
          1,
          1,
          1
         ],
         "yaxis": "y"
        },
        {
         "hovertemplate": "listed_in=International Movies, Romantic Movies, Thrillers<br>release_year=%{x}<br>count=%{y}<extra></extra>",
         "legendgroup": "International Movies, Romantic Movies, Thrillers",
         "line": {
          "color": "#19d3f3",
          "dash": "solid"
         },
         "marker": {
          "symbol": "circle"
         },
         "mode": "lines",
         "name": "International Movies, Romantic Movies, Thrillers",
         "showlegend": true,
         "type": "scattergl",
         "x": [
          2004,
          2021
         ],
         "xaxis": "x",
         "y": [
          1,
          1
         ],
         "yaxis": "y"
        },
        {
         "hovertemplate": "listed_in=British TV Shows, Crime TV Shows, Docuseries<br>release_year=%{x}<br>count=%{y}<extra></extra>",
         "legendgroup": "British TV Shows, Crime TV Shows, Docuseries",
         "line": {
          "color": "#FF6692",
          "dash": "solid"
         },
         "marker": {
          "symbol": "circle"
         },
         "mode": "lines",
         "name": "British TV Shows, Crime TV Shows, Docuseries",
         "showlegend": true,
         "type": "scattergl",
         "x": [
          2005,
          2014,
          2015,
          2016,
          2017,
          2018,
          2020,
          2021
         ],
         "xaxis": "x",
         "y": [
          1,
          1,
          4,
          2,
          3,
          3,
          3,
          4
         ],
         "yaxis": "y"
        },
        {
         "hovertemplate": "listed_in=Children & Family Movies, Dramas, Independent Movies<br>release_year=%{x}<br>count=%{y}<extra></extra>",
         "legendgroup": "Children & Family Movies, Dramas, Independent Movies",
         "line": {
          "color": "#B6E880",
          "dash": "solid"
         },
         "marker": {
          "symbol": "circle"
         },
         "mode": "lines",
         "name": "Children & Family Movies, Dramas, Independent Movies",
         "showlegend": true,
         "type": "scattergl",
         "x": [
          2005,
          2019,
          2020
         ],
         "xaxis": "x",
         "y": [
          1,
          1,
          1
         ],
         "yaxis": "y"
        },
        {
         "hovertemplate": "listed_in=Children & Family Movies, Sci-Fi & Fantasy<br>release_year=%{x}<br>count=%{y}<extra></extra>",
         "legendgroup": "Children & Family Movies, Sci-Fi & Fantasy",
         "line": {
          "color": "#FF97FF",
          "dash": "solid"
         },
         "marker": {
          "symbol": "circle"
         },
         "mode": "lines",
         "name": "Children & Family Movies, Sci-Fi & Fantasy",
         "showlegend": true,
         "type": "scattergl",
         "x": [
          2005,
          2012,
          2014,
          2015,
          2016,
          2018
         ],
         "xaxis": "x",
         "y": [
          1,
          1,
          3,
          1,
          1,
          1
         ],
         "yaxis": "y"
        },
        {
         "hovertemplate": "listed_in=Comedies, Faith & Spirituality, International Movies<br>release_year=%{x}<br>count=%{y}<extra></extra>",
         "legendgroup": "Comedies, Faith & Spirituality, International Movies",
         "line": {
          "color": "#FECB52",
          "dash": "solid"
         },
         "marker": {
          "symbol": "circle"
         },
         "mode": "lines",
         "name": "Comedies, Faith & Spirituality, International Movies",
         "showlegend": true,
         "type": "scattergl",
         "x": [
          2005,
          2008,
          2010
         ],
         "xaxis": "x",
         "y": [
          1,
          1,
          1
         ],
         "yaxis": "y"
        },
        {
         "hovertemplate": "listed_in=Comedies, Independent Movies<br>release_year=%{x}<br>count=%{y}<extra></extra>",
         "legendgroup": "Comedies, Independent Movies",
         "line": {
          "color": "#636efa",
          "dash": "solid"
         },
         "marker": {
          "symbol": "circle"
         },
         "mode": "lines",
         "name": "Comedies, Independent Movies",
         "showlegend": true,
         "type": "scattergl",
         "x": [
          2005,
          2009,
          2012,
          2013,
          2014,
          2015,
          2016,
          2017,
          2018
         ],
         "xaxis": "x",
         "y": [
          1,
          1,
          1,
          1,
          2,
          2,
          5,
          8,
          4
         ],
         "yaxis": "y"
        },
        {
         "hovertemplate": "listed_in=Documentaries, Sports Movies<br>release_year=%{x}<br>count=%{y}<extra></extra>",
         "legendgroup": "Documentaries, Sports Movies",
         "line": {
          "color": "#EF553B",
          "dash": "solid"
         },
         "marker": {
          "symbol": "circle"
         },
         "mode": "lines",
         "name": "Documentaries, Sports Movies",
         "showlegend": true,
         "type": "scattergl",
         "x": [
          2005,
          2008,
          2011,
          2012,
          2014,
          2015,
          2016,
          2017,
          2018,
          2019,
          2020,
          2021
         ],
         "xaxis": "x",
         "y": [
          1,
          1,
          1,
          1,
          4,
          3,
          13,
          13,
          11,
          7,
          3,
          7
         ],
         "yaxis": "y"
        },
        {
         "hovertemplate": "listed_in=Dramas, Independent Movies, Music & Musicals<br>release_year=%{x}<br>count=%{y}<extra></extra>",
         "legendgroup": "Dramas, Independent Movies, Music & Musicals",
         "line": {
          "color": "#00cc96",
          "dash": "solid"
         },
         "marker": {
          "symbol": "circle"
         },
         "mode": "lines",
         "name": "Dramas, Independent Movies, Music & Musicals",
         "showlegend": true,
         "type": "scattergl",
         "x": [
          2005,
          2010,
          2015,
          2018,
          2019
         ],
         "xaxis": "x",
         "y": [
          1,
          1,
          1,
          3,
          2
         ],
         "yaxis": "y"
        },
        {
         "hovertemplate": "listed_in=Independent Movies, Thrillers<br>release_year=%{x}<br>count=%{y}<extra></extra>",
         "legendgroup": "Independent Movies, Thrillers",
         "line": {
          "color": "#ab63fa",
          "dash": "solid"
         },
         "marker": {
          "symbol": "circle"
         },
         "mode": "lines",
         "name": "Independent Movies, Thrillers",
         "showlegend": true,
         "type": "scattergl",
         "x": [
          2005,
          2009,
          2013,
          2016,
          2017,
          2018,
          2019
         ],
         "xaxis": "x",
         "y": [
          1,
          1,
          2,
          1,
          1,
          2,
          3
         ],
         "yaxis": "y"
        },
        {
         "hovertemplate": "listed_in=International Movies, Music & Musicals, Thrillers<br>release_year=%{x}<br>count=%{y}<extra></extra>",
         "legendgroup": "International Movies, Music & Musicals, Thrillers",
         "line": {
          "color": "#FFA15A",
          "dash": "solid"
         },
         "marker": {
          "symbol": "circle"
         },
         "mode": "lines",
         "name": "International Movies, Music & Musicals, Thrillers",
         "showlegend": true,
         "type": "scattergl",
         "x": [
          2005,
          2012,
          2018
         ],
         "xaxis": "x",
         "y": [
          1,
          1,
          1
         ],
         "yaxis": "y"
        },
        {
         "hovertemplate": "listed_in=International TV Shows, Romantic TV Shows, TV Comedies<br>release_year=%{x}<br>count=%{y}<extra></extra>",
         "legendgroup": "International TV Shows, Romantic TV Shows, TV Comedies",
         "line": {
          "color": "#19d3f3",
          "dash": "solid"
         },
         "marker": {
          "symbol": "circle"
         },
         "mode": "lines",
         "name": "International TV Shows, Romantic TV Shows, TV Comedies",
         "showlegend": true,
         "type": "scattergl",
         "x": [
          2005,
          2008,
          2009,
          2010,
          2011,
          2012,
          2013,
          2014,
          2015,
          2016,
          2017,
          2018,
          2019,
          2020,
          2021
         ],
         "xaxis": "x",
         "y": [
          1,
          1,
          3,
          3,
          5,
          6,
          5,
          3,
          9,
          13,
          5,
          3,
          8,
          19,
          10
         ],
         "yaxis": "y"
        },
        {
         "hovertemplate": "listed_in=International TV Shows, TV Action & Adventure, TV Comedies<br>release_year=%{x}<br>count=%{y}<extra></extra>",
         "legendgroup": "International TV Shows, TV Action & Adventure, TV Comedies",
         "line": {
          "color": "#FF6692",
          "dash": "solid"
         },
         "marker": {
          "symbol": "circle"
         },
         "mode": "lines",
         "name": "International TV Shows, TV Action & Adventure, TV Comedies",
         "showlegend": true,
         "type": "scattergl",
         "x": [
          2005,
          2014,
          2017,
          2018,
          2020,
          2021
         ],
         "xaxis": "x",
         "y": [
          1,
          1,
          1,
          1,
          1,
          1
         ],
         "yaxis": "y"
        },
        {
         "hovertemplate": "listed_in=International TV Shows, TV Dramas<br>release_year=%{x}<br>count=%{y}<extra></extra>",
         "legendgroup": "International TV Shows, TV Dramas",
         "line": {
          "color": "#B6E880",
          "dash": "solid"
         },
         "marker": {
          "symbol": "circle"
         },
         "mode": "lines",
         "name": "International TV Shows, TV Dramas",
         "showlegend": true,
         "type": "scattergl",
         "x": [
          2005,
          2007,
          2008,
          2009,
          2010,
          2011,
          2012,
          2013,
          2014,
          2015,
          2016,
          2017,
          2018,
          2019,
          2020,
          2021
         ],
         "xaxis": "x",
         "y": [
          1,
          1,
          1,
          5,
          5,
          3,
          6,
          3,
          6,
          8,
          14,
          15,
          18,
          14,
          10,
          11
         ],
         "yaxis": "y"
        },
        {
         "hovertemplate": "listed_in=Action & Adventure, Comedies, Sports Movies<br>release_year=%{x}<br>count=%{y}<extra></extra>",
         "legendgroup": "Action & Adventure, Comedies, Sports Movies",
         "line": {
          "color": "#FF97FF",
          "dash": "solid"
         },
         "marker": {
          "symbol": "circle"
         },
         "mode": "lines",
         "name": "Action & Adventure, Comedies, Sports Movies",
         "showlegend": true,
         "type": "scattergl",
         "x": [
          2006
         ],
         "xaxis": "x",
         "y": [
          1
         ],
         "yaxis": "y"
        },
        {
         "hovertemplate": "listed_in=Anime Series, Crime TV Shows, International TV Shows<br>release_year=%{x}<br>count=%{y}<extra></extra>",
         "legendgroup": "Anime Series, Crime TV Shows, International TV Shows",
         "line": {
          "color": "#FECB52",
          "dash": "solid"
         },
         "marker": {
          "symbol": "circle"
         },
         "mode": "lines",
         "name": "Anime Series, Crime TV Shows, International TV Shows",
         "showlegend": true,
         "type": "scattergl",
         "x": [
          2006,
          2012,
          2014,
          2015,
          2016,
          2018,
          2019,
          2020,
          2021
         ],
         "xaxis": "x",
         "y": [
          1,
          1,
          1,
          1,
          1,
          1,
          1,
          3,
          1
         ],
         "yaxis": "y"
        },
        {
         "hovertemplate": "listed_in=Anime Series, Romantic TV Shows, Teen TV Shows<br>release_year=%{x}<br>count=%{y}<extra></extra>",
         "legendgroup": "Anime Series, Romantic TV Shows, Teen TV Shows",
         "line": {
          "color": "#636efa",
          "dash": "solid"
         },
         "marker": {
          "symbol": "circle"
         },
         "mode": "lines",
         "name": "Anime Series, Romantic TV Shows, Teen TV Shows",
         "showlegend": true,
         "type": "scattergl",
         "x": [
          2006,
          2014
         ],
         "xaxis": "x",
         "y": [
          1,
          2
         ],
         "yaxis": "y"
        },
        {
         "hovertemplate": "listed_in=Documentaries, Faith & Spirituality<br>release_year=%{x}<br>count=%{y}<extra></extra>",
         "legendgroup": "Documentaries, Faith & Spirituality",
         "line": {
          "color": "#EF553B",
          "dash": "solid"
         },
         "marker": {
          "symbol": "circle"
         },
         "mode": "lines",
         "name": "Documentaries, Faith & Spirituality",
         "showlegend": true,
         "type": "scattergl",
         "x": [
          2006,
          2017,
          2018,
          2019
         ],
         "xaxis": "x",
         "y": [
          1,
          2,
          4,
          1
         ],
         "yaxis": "y"
        },
        {
         "hovertemplate": "listed_in=Dramas, International Movies, Sci-Fi & Fantasy<br>release_year=%{x}<br>count=%{y}<extra></extra>",
         "legendgroup": "Dramas, International Movies, Sci-Fi & Fantasy",
         "line": {
          "color": "#00cc96",
          "dash": "solid"
         },
         "marker": {
          "symbol": "circle"
         },
         "mode": "lines",
         "name": "Dramas, International Movies, Sci-Fi & Fantasy",
         "showlegend": true,
         "type": "scattergl",
         "x": [
          2006,
          2007,
          2009,
          2013,
          2015,
          2017,
          2018
         ],
         "xaxis": "x",
         "y": [
          1,
          1,
          1,
          1,
          2,
          1,
          6
         ],
         "yaxis": "y"
        },
        {
         "hovertemplate": "listed_in=International Movies, Sci-Fi & Fantasy<br>release_year=%{x}<br>count=%{y}<extra></extra>",
         "legendgroup": "International Movies, Sci-Fi & Fantasy",
         "line": {
          "color": "#ab63fa",
          "dash": "solid"
         },
         "marker": {
          "symbol": "circle"
         },
         "mode": "lines",
         "name": "International Movies, Sci-Fi & Fantasy",
         "showlegend": true,
         "type": "scattergl",
         "x": [
          2006,
          2013,
          2016,
          2019
         ],
         "xaxis": "x",
         "y": [
          1,
          1,
          1,
          1
         ],
         "yaxis": "y"
        },
        {
         "hovertemplate": "listed_in=Romantic TV Shows, TV Comedies, TV Dramas<br>release_year=%{x}<br>count=%{y}<extra></extra>",
         "legendgroup": "Romantic TV Shows, TV Comedies, TV Dramas",
         "line": {
          "color": "#FFA15A",
          "dash": "solid"
         },
         "marker": {
          "symbol": "circle"
         },
         "mode": "lines",
         "name": "Romantic TV Shows, TV Comedies, TV Dramas",
         "showlegend": true,
         "type": "scattergl",
         "x": [
          2006,
          2016,
          2018,
          2019,
          2020,
          2021
         ],
         "xaxis": "x",
         "y": [
          1,
          2,
          1,
          1,
          4,
          2
         ],
         "yaxis": "y"
        },
        {
         "hovertemplate": "listed_in=Sci-Fi & Fantasy, Thrillers<br>release_year=%{x}<br>count=%{y}<extra></extra>",
         "legendgroup": "Sci-Fi & Fantasy, Thrillers",
         "line": {
          "color": "#19d3f3",
          "dash": "solid"
         },
         "marker": {
          "symbol": "circle"
         },
         "mode": "lines",
         "name": "Sci-Fi & Fantasy, Thrillers",
         "showlegend": true,
         "type": "scattergl",
         "x": [
          2006,
          2009,
          2014,
          2015,
          2018,
          2019
         ],
         "xaxis": "x",
         "y": [
          1,
          2,
          2,
          1,
          5,
          1
         ],
         "yaxis": "y"
        },
        {
         "hovertemplate": "listed_in=Action & Adventure, Dramas, Independent Movies<br>release_year=%{x}<br>count=%{y}<extra></extra>",
         "legendgroup": "Action & Adventure, Dramas, Independent Movies",
         "line": {
          "color": "#FF6692",
          "dash": "solid"
         },
         "marker": {
          "symbol": "circle"
         },
         "mode": "lines",
         "name": "Action & Adventure, Dramas, Independent Movies",
         "showlegend": true,
         "type": "scattergl",
         "x": [
          2007,
          2008,
          2011,
          2014,
          2017,
          2018,
          2019,
          2020
         ],
         "xaxis": "x",
         "y": [
          1,
          1,
          2,
          3,
          2,
          1,
          1,
          1
         ],
         "yaxis": "y"
        },
        {
         "hovertemplate": "listed_in=Children & Family Movies, Comedies, Faith & Spirituality<br>release_year=%{x}<br>count=%{y}<extra></extra>",
         "legendgroup": "Children & Family Movies, Comedies, Faith & Spirituality",
         "line": {
          "color": "#B6E880",
          "dash": "solid"
         },
         "marker": {
          "symbol": "circle"
         },
         "mode": "lines",
         "name": "Children & Family Movies, Comedies, Faith & Spirituality",
         "showlegend": true,
         "type": "scattergl",
         "x": [
          2007
         ],
         "xaxis": "x",
         "y": [
          1
         ],
         "yaxis": "y"
        },
        {
         "hovertemplate": "listed_in=Children & Family Movies, Comedies, Music & Musicals<br>release_year=%{x}<br>count=%{y}<extra></extra>",
         "legendgroup": "Children & Family Movies, Comedies, Music & Musicals",
         "line": {
          "color": "#FF97FF",
          "dash": "solid"
         },
         "marker": {
          "symbol": "circle"
         },
         "mode": "lines",
         "name": "Children & Family Movies, Comedies, Music & Musicals",
         "showlegend": true,
         "type": "scattergl",
         "x": [
          2007,
          2012,
          2013,
          2017,
          2018,
          2019,
          2020,
          2021
         ],
         "xaxis": "x",
         "y": [
          1,
          1,
          1,
          2,
          2,
          5,
          1,
          2
         ],
         "yaxis": "y"
        },
        {
         "hovertemplate": "listed_in=Children & Family Movies, Comedies, Sports Movies<br>release_year=%{x}<br>count=%{y}<extra></extra>",
         "legendgroup": "Children & Family Movies, Comedies, Sports Movies",
         "line": {
          "color": "#FECB52",
          "dash": "solid"
         },
         "marker": {
          "symbol": "circle"
         },
         "mode": "lines",
         "name": "Children & Family Movies, Comedies, Sports Movies",
         "showlegend": true,
         "type": "scattergl",
         "x": [
          2007,
          2015,
          2020
         ],
         "xaxis": "x",
         "y": [
          1,
          1,
          1
         ],
         "yaxis": "y"
        },
        {
         "hovertemplate": "listed_in=Classic & Cult TV, Kids' TV, TV Action & Adventure<br>release_year=%{x}<br>count=%{y}<extra></extra>",
         "legendgroup": "Classic & Cult TV, Kids' TV, TV Action & Adventure",
         "line": {
          "color": "#636efa",
          "dash": "solid"
         },
         "marker": {
          "symbol": "circle"
         },
         "mode": "lines",
         "name": "Classic & Cult TV, Kids' TV, TV Action & Adventure",
         "showlegend": true,
         "type": "scattergl",
         "x": [
          2007
         ],
         "xaxis": "x",
         "y": [
          1
         ],
         "yaxis": "y"
        },
        {
         "hovertemplate": "listed_in=Crime TV Shows, TV Dramas<br>release_year=%{x}<br>count=%{y}<extra></extra>",
         "legendgroup": "Crime TV Shows, TV Dramas",
         "line": {
          "color": "#EF553B",
          "dash": "solid"
         },
         "marker": {
          "symbol": "circle"
         },
         "mode": "lines",
         "name": "Crime TV Shows, TV Dramas",
         "showlegend": true,
         "type": "scattergl",
         "x": [
          2007,
          2016,
          2017,
          2018,
          2019,
          2020
         ],
         "xaxis": "x",
         "y": [
          1,
          2,
          3,
          5,
          3,
          2
         ],
         "yaxis": "y"
        },
        {
         "hovertemplate": "listed_in=Cult Movies, Dramas, Thrillers<br>release_year=%{x}<br>count=%{y}<extra></extra>",
         "legendgroup": "Cult Movies, Dramas, Thrillers",
         "line": {
          "color": "#00cc96",
          "dash": "solid"
         },
         "marker": {
          "symbol": "circle"
         },
         "mode": "lines",
         "name": "Cult Movies, Dramas, Thrillers",
         "showlegend": true,
         "type": "scattergl",
         "x": [
          2007
         ],
         "xaxis": "x",
         "y": [
          1
         ],
         "yaxis": "y"
        },
        {
         "hovertemplate": "listed_in=Docuseries, International TV Shows, Science & Nature TV<br>release_year=%{x}<br>count=%{y}<extra></extra>",
         "legendgroup": "Docuseries, International TV Shows, Science & Nature TV",
         "line": {
          "color": "#ab63fa",
          "dash": "solid"
         },
         "marker": {
          "symbol": "circle"
         },
         "mode": "lines",
         "name": "Docuseries, International TV Shows, Science & Nature TV",
         "showlegend": true,
         "type": "scattergl",
         "x": [
          2007,
          2014,
          2015,
          2016,
          2017,
          2018,
          2020,
          2021
         ],
         "xaxis": "x",
         "y": [
          1,
          1,
          1,
          3,
          3,
          2,
          1,
          1
         ],
         "yaxis": "y"
        },
        {
         "hovertemplate": "listed_in=Dramas, Horror Movies, Music & Musicals<br>release_year=%{x}<br>count=%{y}<extra></extra>",
         "legendgroup": "Dramas, Horror Movies, Music & Musicals",
         "line": {
          "color": "#FFA15A",
          "dash": "solid"
         },
         "marker": {
          "symbol": "circle"
         },
         "mode": "lines",
         "name": "Dramas, Horror Movies, Music & Musicals",
         "showlegend": true,
         "type": "scattergl",
         "x": [
          2007
         ],
         "xaxis": "x",
         "y": [
          1
         ],
         "yaxis": "y"
        },
        {
         "hovertemplate": "listed_in=Stand-Up Comedy & Talk Shows<br>release_year=%{x}<br>count=%{y}<extra></extra>",
         "legendgroup": "Stand-Up Comedy & Talk Shows",
         "line": {
          "color": "#19d3f3",
          "dash": "solid"
         },
         "marker": {
          "symbol": "circle"
         },
         "mode": "lines",
         "name": "Stand-Up Comedy & Talk Shows",
         "showlegend": true,
         "type": "scattergl",
         "x": [
          2007,
          2015,
          2017,
          2018,
          2020
         ],
         "xaxis": "x",
         "y": [
          1,
          1,
          2,
          1,
          1
         ],
         "yaxis": "y"
        },
        {
         "hovertemplate": "listed_in=TV Dramas, TV Mysteries, TV Sci-Fi & Fantasy<br>release_year=%{x}<br>count=%{y}<extra></extra>",
         "legendgroup": "TV Dramas, TV Mysteries, TV Sci-Fi & Fantasy",
         "line": {
          "color": "#FF6692",
          "dash": "solid"
         },
         "marker": {
          "symbol": "circle"
         },
         "mode": "lines",
         "name": "TV Dramas, TV Mysteries, TV Sci-Fi & Fantasy",
         "showlegend": true,
         "type": "scattergl",
         "x": [
          2007,
          2015,
          2016,
          2019,
          2021
         ],
         "xaxis": "x",
         "y": [
          1,
          1,
          1,
          1,
          1
         ],
         "yaxis": "y"
        },
        {
         "hovertemplate": "listed_in=Action & Adventure, Anime Features, Sci-Fi & Fantasy<br>release_year=%{x}<br>count=%{y}<extra></extra>",
         "legendgroup": "Action & Adventure, Anime Features, Sci-Fi & Fantasy",
         "line": {
          "color": "#B6E880",
          "dash": "solid"
         },
         "marker": {
          "symbol": "circle"
         },
         "mode": "lines",
         "name": "Action & Adventure, Anime Features, Sci-Fi & Fantasy",
         "showlegend": true,
         "type": "scattergl",
         "x": [
          2008,
          2009,
          2010,
          2014
         ],
         "xaxis": "x",
         "y": [
          1,
          1,
          1,
          1
         ],
         "yaxis": "y"
        },
        {
         "hovertemplate": "listed_in=Action & Adventure, Children & Family Movies, Sci-Fi & Fantasy<br>release_year=%{x}<br>count=%{y}<extra></extra>",
         "legendgroup": "Action & Adventure, Children & Family Movies, Sci-Fi & Fantasy",
         "line": {
          "color": "#FF97FF",
          "dash": "solid"
         },
         "marker": {
          "symbol": "circle"
         },
         "mode": "lines",
         "name": "Action & Adventure, Children & Family Movies, Sci-Fi & Fantasy",
         "showlegend": true,
         "type": "scattergl",
         "x": [
          2008,
          2010,
          2017,
          2018
         ],
         "xaxis": "x",
         "y": [
          2,
          1,
          1,
          2
         ],
         "yaxis": "y"
        },
        {
         "hovertemplate": "listed_in=Action & Adventure, Dramas, Romantic Movies<br>release_year=%{x}<br>count=%{y}<extra></extra>",
         "legendgroup": "Action & Adventure, Dramas, Romantic Movies",
         "line": {
          "color": "#FECB52",
          "dash": "solid"
         },
         "marker": {
          "symbol": "circle"
         },
         "mode": "lines",
         "name": "Action & Adventure, Dramas, Romantic Movies",
         "showlegend": true,
         "type": "scattergl",
         "x": [
          2008,
          2018
         ],
         "xaxis": "x",
         "y": [
          1,
          1
         ],
         "yaxis": "y"
        },
        {
         "hovertemplate": "listed_in=Anime Series, Crime TV Shows<br>release_year=%{x}<br>count=%{y}<extra></extra>",
         "legendgroup": "Anime Series, Crime TV Shows",
         "line": {
          "color": "#636efa",
          "dash": "solid"
         },
         "marker": {
          "symbol": "circle"
         },
         "mode": "lines",
         "name": "Anime Series, Crime TV Shows",
         "showlegend": true,
         "type": "scattergl",
         "x": [
          2008,
          2011,
          2019
         ],
         "xaxis": "x",
         "y": [
          1,
          1,
          1
         ],
         "yaxis": "y"
        },
        {
         "hovertemplate": "listed_in=Anime Series, International TV Shows, Romantic TV Shows<br>release_year=%{x}<br>count=%{y}<extra></extra>",
         "legendgroup": "Anime Series, International TV Shows, Romantic TV Shows",
         "line": {
          "color": "#EF553B",
          "dash": "solid"
         },
         "marker": {
          "symbol": "circle"
         },
         "mode": "lines",
         "name": "Anime Series, International TV Shows, Romantic TV Shows",
         "showlegend": true,
         "type": "scattergl",
         "x": [
          2008,
          2014,
          2018,
          2019,
          2020
         ],
         "xaxis": "x",
         "y": [
          2,
          1,
          3,
          2,
          1
         ],
         "yaxis": "y"
        },
        {
         "hovertemplate": "listed_in=Anime Series, Teen TV Shows<br>release_year=%{x}<br>count=%{y}<extra></extra>",
         "legendgroup": "Anime Series, Teen TV Shows",
         "line": {
          "color": "#00cc96",
          "dash": "solid"
         },
         "marker": {
          "symbol": "circle"
         },
         "mode": "lines",
         "name": "Anime Series, Teen TV Shows",
         "showlegend": true,
         "type": "scattergl",
         "x": [
          2008,
          2010,
          2018
         ],
         "xaxis": "x",
         "y": [
          1,
          1,
          1
         ],
         "yaxis": "y"
        },
        {
         "hovertemplate": "listed_in=British TV Shows, Docuseries, Science & Nature TV<br>release_year=%{x}<br>count=%{y}<extra></extra>",
         "legendgroup": "British TV Shows, Docuseries, Science & Nature TV",
         "line": {
          "color": "#ab63fa",
          "dash": "solid"
         },
         "marker": {
          "symbol": "circle"
         },
         "mode": "lines",
         "name": "British TV Shows, Docuseries, Science & Nature TV",
         "showlegend": true,
         "type": "scattergl",
         "x": [
          2008,
          2009,
          2011,
          2012,
          2013,
          2014,
          2015,
          2016,
          2017,
          2018
         ],
         "xaxis": "x",
         "y": [
          1,
          3,
          1,
          1,
          1,
          2,
          5,
          7,
          1,
          3
         ],
         "yaxis": "y"
        },
        {
         "hovertemplate": "listed_in=British TV Shows, TV Horror, TV Thrillers<br>release_year=%{x}<br>count=%{y}<extra></extra>",
         "legendgroup": "British TV Shows, TV Horror, TV Thrillers",
         "line": {
          "color": "#FFA15A",
          "dash": "solid"
         },
         "marker": {
          "symbol": "circle"
         },
         "mode": "lines",
         "name": "British TV Shows, TV Horror, TV Thrillers",
         "showlegend": true,
         "type": "scattergl",
         "x": [
          2008
         ],
         "xaxis": "x",
         "y": [
          1
         ],
         "yaxis": "y"
        },
        {
         "hovertemplate": "listed_in=Children & Family Movies, Dramas, International Movies<br>release_year=%{x}<br>count=%{y}<extra></extra>",
         "legendgroup": "Children & Family Movies, Dramas, International Movies",
         "line": {
          "color": "#19d3f3",
          "dash": "solid"
         },
         "marker": {
          "symbol": "circle"
         },
         "mode": "lines",
         "name": "Children & Family Movies, Dramas, International Movies",
         "showlegend": true,
         "type": "scattergl",
         "x": [
          2008,
          2017,
          2018,
          2019,
          2021
         ],
         "xaxis": "x",
         "y": [
          1,
          2,
          3,
          2,
          3
         ],
         "yaxis": "y"
        },
        {
         "hovertemplate": "listed_in=Classic & Cult TV, TV Action & Adventure, TV Dramas<br>release_year=%{x}<br>count=%{y}<extra></extra>",
         "legendgroup": "Classic & Cult TV, TV Action & Adventure, TV Dramas",
         "line": {
          "color": "#FF6692",
          "dash": "solid"
         },
         "marker": {
          "symbol": "circle"
         },
         "mode": "lines",
         "name": "Classic & Cult TV, TV Action & Adventure, TV Dramas",
         "showlegend": true,
         "type": "scattergl",
         "x": [
          2008,
          2019
         ],
         "xaxis": "x",
         "y": [
          1,
          1
         ],
         "yaxis": "y"
        },
        {
         "hovertemplate": "listed_in=Comedies, Dramas, Sports Movies<br>release_year=%{x}<br>count=%{y}<extra></extra>",
         "legendgroup": "Comedies, Dramas, Sports Movies",
         "line": {
          "color": "#B6E880",
          "dash": "solid"
         },
         "marker": {
          "symbol": "circle"
         },
         "mode": "lines",
         "name": "Comedies, Dramas, Sports Movies",
         "showlegend": true,
         "type": "scattergl",
         "x": [
          2008
         ],
         "xaxis": "x",
         "y": [
          1
         ],
         "yaxis": "y"
        },
        {
         "hovertemplate": "listed_in=Crime TV Shows, International TV Shows, Spanish-Language TV Shows<br>release_year=%{x}<br>count=%{y}<extra></extra>",
         "legendgroup": "Crime TV Shows, International TV Shows, Spanish-Language TV Shows",
         "line": {
          "color": "#FF97FF",
          "dash": "solid"
         },
         "marker": {
          "symbol": "circle"
         },
         "mode": "lines",
         "name": "Crime TV Shows, International TV Shows, Spanish-Language TV Shows",
         "showlegend": true,
         "type": "scattergl",
         "x": [
          2008,
          2010,
          2012,
          2015,
          2016,
          2017,
          2018,
          2019,
          2020,
          2021
         ],
         "xaxis": "x",
         "y": [
          1,
          1,
          1,
          3,
          5,
          4,
          11,
          16,
          12,
          8
         ],
         "yaxis": "y"
        },
        {
         "hovertemplate": "listed_in=Crime TV Shows, International TV Shows, TV Action & Adventure<br>release_year=%{x}<br>count=%{y}<extra></extra>",
         "legendgroup": "Crime TV Shows, International TV Shows, TV Action & Adventure",
         "line": {
          "color": "#FECB52",
          "dash": "solid"
         },
         "marker": {
          "symbol": "circle"
         },
         "mode": "lines",
         "name": "Crime TV Shows, International TV Shows, TV Action & Adventure",
         "showlegend": true,
         "type": "scattergl",
         "x": [
          2008,
          2013,
          2015,
          2016,
          2017,
          2018,
          2019,
          2020,
          2021
         ],
         "xaxis": "x",
         "y": [
          1,
          1,
          3,
          1,
          1,
          3,
          2,
          2,
          4
         ],
         "yaxis": "y"
        },
        {
         "hovertemplate": "listed_in=Dramas, Faith & Spirituality<br>release_year=%{x}<br>count=%{y}<extra></extra>",
         "legendgroup": "Dramas, Faith & Spirituality",
         "line": {
          "color": "#636efa",
          "dash": "solid"
         },
         "marker": {
          "symbol": "circle"
         },
         "mode": "lines",
         "name": "Dramas, Faith & Spirituality",
         "showlegend": true,
         "type": "scattergl",
         "x": [
          2008,
          2013,
          2014,
          2015,
          2016,
          2017,
          2018,
          2019,
          2020
         ],
         "xaxis": "x",
         "y": [
          1,
          1,
          3,
          2,
          1,
          3,
          4,
          2,
          1
         ],
         "yaxis": "y"
        },
        {
         "hovertemplate": "listed_in=Dramas, Faith & Spirituality, International Movies<br>release_year=%{x}<br>count=%{y}<extra></extra>",
         "legendgroup": "Dramas, Faith & Spirituality, International Movies",
         "line": {
          "color": "#EF553B",
          "dash": "solid"
         },
         "marker": {
          "symbol": "circle"
         },
         "mode": "lines",
         "name": "Dramas, Faith & Spirituality, International Movies",
         "showlegend": true,
         "type": "scattergl",
         "x": [
          2008,
          2012,
          2014,
          2015,
          2017,
          2018,
          2019,
          2020
         ],
         "xaxis": "x",
         "y": [
          1,
          1,
          1,
          1,
          2,
          2,
          3,
          1
         ],
         "yaxis": "y"
        },
        {
         "hovertemplate": "listed_in=International TV Shows, Stand-Up Comedy & Talk Shows<br>release_year=%{x}<br>count=%{y}<extra></extra>",
         "legendgroup": "International TV Shows, Stand-Up Comedy & Talk Shows",
         "line": {
          "color": "#00cc96",
          "dash": "solid"
         },
         "marker": {
          "symbol": "circle"
         },
         "mode": "lines",
         "name": "International TV Shows, Stand-Up Comedy & Talk Shows",
         "showlegend": true,
         "type": "scattergl",
         "x": [
          2008,
          2017,
          2020,
          2021
         ],
         "xaxis": "x",
         "y": [
          1,
          2,
          1,
          1
         ],
         "yaxis": "y"
        },
        {
         "hovertemplate": "listed_in=International TV Shows, TV Action & Adventure, TV Dramas<br>release_year=%{x}<br>count=%{y}<extra></extra>",
         "legendgroup": "International TV Shows, TV Action & Adventure, TV Dramas",
         "line": {
          "color": "#ab63fa",
          "dash": "solid"
         },
         "marker": {
          "symbol": "circle"
         },
         "mode": "lines",
         "name": "International TV Shows, TV Action & Adventure, TV Dramas",
         "showlegend": true,
         "type": "scattergl",
         "x": [
          2008,
          2017,
          2018,
          2019,
          2020,
          2021
         ],
         "xaxis": "x",
         "y": [
          1,
          1,
          4,
          6,
          5,
          4
         ],
         "yaxis": "y"
        },
        {
         "hovertemplate": "listed_in=Kids' TV, TV Action & Adventure, TV Comedies<br>release_year=%{x}<br>count=%{y}<extra></extra>",
         "legendgroup": "Kids' TV, TV Action & Adventure, TV Comedies",
         "line": {
          "color": "#FFA15A",
          "dash": "solid"
         },
         "marker": {
          "symbol": "circle"
         },
         "mode": "lines",
         "name": "Kids' TV, TV Action & Adventure, TV Comedies",
         "showlegend": true,
         "type": "scattergl",
         "x": [
          2008,
          2017,
          2019,
          2020
         ],
         "xaxis": "x",
         "y": [
          2,
          1,
          3,
          1
         ],
         "yaxis": "y"
        },
        {
         "hovertemplate": "listed_in=Music & Musicals, Stand-Up Comedy<br>release_year=%{x}<br>count=%{y}<extra></extra>",
         "legendgroup": "Music & Musicals, Stand-Up Comedy",
         "line": {
          "color": "#19d3f3",
          "dash": "solid"
         },
         "marker": {
          "symbol": "circle"
         },
         "mode": "lines",
         "name": "Music & Musicals, Stand-Up Comedy",
         "showlegend": true,
         "type": "scattergl",
         "x": [
          2008,
          2011,
          2016,
          2017,
          2018
         ],
         "xaxis": "x",
         "y": [
          1,
          1,
          3,
          1,
          1
         ],
         "yaxis": "y"
        },
        {
         "hovertemplate": "listed_in=Action & Adventure, Independent Movies, Sci-Fi & Fantasy<br>release_year=%{x}<br>count=%{y}<extra></extra>",
         "legendgroup": "Action & Adventure, Independent Movies, Sci-Fi & Fantasy",
         "line": {
          "color": "#FF6692",
          "dash": "solid"
         },
         "marker": {
          "symbol": "circle"
         },
         "mode": "lines",
         "name": "Action & Adventure, Independent Movies, Sci-Fi & Fantasy",
         "showlegend": true,
         "type": "scattergl",
         "x": [
          2009,
          2016,
          2018,
          2019
         ],
         "xaxis": "x",
         "y": [
          1,
          2,
          1,
          1
         ],
         "yaxis": "y"
        },
        {
         "hovertemplate": "listed_in=Comedies, Independent Movies, LGBTQ Movies<br>release_year=%{x}<br>count=%{y}<extra></extra>",
         "legendgroup": "Comedies, Independent Movies, LGBTQ Movies",
         "line": {
          "color": "#B6E880",
          "dash": "solid"
         },
         "marker": {
          "symbol": "circle"
         },
         "mode": "lines",
         "name": "Comedies, Independent Movies, LGBTQ Movies",
         "showlegend": true,
         "type": "scattergl",
         "x": [
          2009,
          2016,
          2018,
          2020
         ],
         "xaxis": "x",
         "y": [
          1,
          1,
          2,
          1
         ],
         "yaxis": "y"
        },
        {
         "hovertemplate": "listed_in=Crime TV Shows, International TV Shows, TV Dramas<br>release_year=%{x}<br>count=%{y}<extra></extra>",
         "legendgroup": "Crime TV Shows, International TV Shows, TV Dramas",
         "line": {
          "color": "#FF97FF",
          "dash": "solid"
         },
         "marker": {
          "symbol": "circle"
         },
         "mode": "lines",
         "name": "Crime TV Shows, International TV Shows, TV Dramas",
         "showlegend": true,
         "type": "scattergl",
         "x": [
          2009,
          2010,
          2011,
          2012,
          2013,
          2014,
          2015,
          2016,
          2017,
          2018,
          2019,
          2020,
          2021
         ],
         "xaxis": "x",
         "y": [
          1,
          2,
          1,
          1,
          3,
          3,
          6,
          8,
          15,
          18,
          25,
          21,
          6
         ],
         "yaxis": "y"
        },
        {
         "hovertemplate": "listed_in=Docuseries, International TV Shows<br>release_year=%{x}<br>count=%{y}<extra></extra>",
         "legendgroup": "Docuseries, International TV Shows",
         "line": {
          "color": "#FECB52",
          "dash": "solid"
         },
         "marker": {
          "symbol": "circle"
         },
         "mode": "lines",
         "name": "Docuseries, International TV Shows",
         "showlegend": true,
         "type": "scattergl",
         "x": [
          2009,
          2012,
          2014,
          2015,
          2016,
          2017,
          2018,
          2019,
          2020,
          2021
         ],
         "xaxis": "x",
         "y": [
          1,
          1,
          4,
          1,
          1,
          4,
          5,
          2,
          8,
          6
         ],
         "yaxis": "y"
        },
        {
         "hovertemplate": "listed_in=Docuseries, Science & Nature TV<br>release_year=%{x}<br>count=%{y}<extra></extra>",
         "legendgroup": "Docuseries, Science & Nature TV",
         "line": {
          "color": "#636efa",
          "dash": "solid"
         },
         "marker": {
          "symbol": "circle"
         },
         "mode": "lines",
         "name": "Docuseries, Science & Nature TV",
         "showlegend": true,
         "type": "scattergl",
         "x": [
          2009,
          2015,
          2016,
          2017,
          2018,
          2019,
          2020,
          2021
         ],
         "xaxis": "x",
         "y": [
          2,
          1,
          5,
          3,
          5,
          6,
          9,
          7
         ],
         "yaxis": "y"
        },
        {
         "hovertemplate": "listed_in=Dramas, Independent Movies, Sci-Fi & Fantasy<br>release_year=%{x}<br>count=%{y}<extra></extra>",
         "legendgroup": "Dramas, Independent Movies, Sci-Fi & Fantasy",
         "line": {
          "color": "#EF553B",
          "dash": "solid"
         },
         "marker": {
          "symbol": "circle"
         },
         "mode": "lines",
         "name": "Dramas, Independent Movies, Sci-Fi & Fantasy",
         "showlegend": true,
         "type": "scattergl",
         "x": [
          2009,
          2015,
          2016,
          2017,
          2018
         ],
         "xaxis": "x",
         "y": [
          1,
          2,
          1,
          1,
          2
         ],
         "yaxis": "y"
        },
        {
         "hovertemplate": "listed_in=Dramas, International Movies, Sports Movies<br>release_year=%{x}<br>count=%{y}<extra></extra>",
         "legendgroup": "Dramas, International Movies, Sports Movies",
         "line": {
          "color": "#00cc96",
          "dash": "solid"
         },
         "marker": {
          "symbol": "circle"
         },
         "mode": "lines",
         "name": "Dramas, International Movies, Sports Movies",
         "showlegend": true,
         "type": "scattergl",
         "x": [
          2009,
          2011,
          2013,
          2014,
          2015,
          2016,
          2017,
          2018,
          2019,
          2020,
          2021
         ],
         "xaxis": "x",
         "y": [
          1,
          1,
          1,
          2,
          3,
          6,
          1,
          4,
          2,
          3,
          1
         ],
         "yaxis": "y"
        },
        {
         "hovertemplate": "listed_in=Horror Movies, Sci-Fi & Fantasy, Thrillers<br>release_year=%{x}<br>count=%{y}<extra></extra>",
         "legendgroup": "Horror Movies, Sci-Fi & Fantasy, Thrillers",
         "line": {
          "color": "#ab63fa",
          "dash": "solid"
         },
         "marker": {
          "symbol": "circle"
         },
         "mode": "lines",
         "name": "Horror Movies, Sci-Fi & Fantasy, Thrillers",
         "showlegend": true,
         "type": "scattergl",
         "x": [
          2009,
          2011,
          2015,
          2017,
          2019
         ],
         "xaxis": "x",
         "y": [
          1,
          1,
          1,
          1,
          2
         ],
         "yaxis": "y"
        },
        {
         "hovertemplate": "listed_in=International TV Shows, Korean TV Shows, Romantic TV Shows<br>release_year=%{x}<br>count=%{y}<extra></extra>",
         "legendgroup": "International TV Shows, Korean TV Shows, Romantic TV Shows",
         "line": {
          "color": "#FFA15A",
          "dash": "solid"
         },
         "marker": {
          "symbol": "circle"
         },
         "mode": "lines",
         "name": "International TV Shows, Korean TV Shows, Romantic TV Shows",
         "showlegend": true,
         "type": "scattergl",
         "x": [
          2009,
          2012,
          2013,
          2014,
          2015,
          2016,
          2017,
          2018,
          2019,
          2020,
          2021
         ],
         "xaxis": "x",
         "y": [
          2,
          8,
          4,
          4,
          8,
          10,
          13,
          3,
          7,
          5,
          1
         ],
         "yaxis": "y"
        },
        {
         "hovertemplate": "listed_in=International TV Shows, Korean TV Shows, TV Action & Adventure<br>release_year=%{x}<br>count=%{y}<extra></extra>",
         "legendgroup": "International TV Shows, Korean TV Shows, TV Action & Adventure",
         "line": {
          "color": "#19d3f3",
          "dash": "solid"
         },
         "marker": {
          "symbol": "circle"
         },
         "mode": "lines",
         "name": "International TV Shows, Korean TV Shows, TV Action & Adventure",
         "showlegend": true,
         "type": "scattergl",
         "x": [
          2009,
          2016,
          2019,
          2020
         ],
         "xaxis": "x",
         "y": [
          1,
          1,
          3,
          1
         ],
         "yaxis": "y"
        },
        {
         "hovertemplate": "listed_in=International TV Shows, Reality TV<br>release_year=%{x}<br>count=%{y}<extra></extra>",
         "legendgroup": "International TV Shows, Reality TV",
         "line": {
          "color": "#FF6692",
          "dash": "solid"
         },
         "marker": {
          "symbol": "circle"
         },
         "mode": "lines",
         "name": "International TV Shows, Reality TV",
         "showlegend": true,
         "type": "scattergl",
         "x": [
          2009,
          2014,
          2015,
          2016,
          2017,
          2018,
          2019,
          2020,
          2021
         ],
         "xaxis": "x",
         "y": [
          1,
          1,
          4,
          3,
          2,
          3,
          9,
          11,
          4
         ],
         "yaxis": "y"
        },
        {
         "hovertemplate": "listed_in=International TV Shows, TV Comedies, TV Dramas<br>release_year=%{x}<br>count=%{y}<extra></extra>",
         "legendgroup": "International TV Shows, TV Comedies, TV Dramas",
         "line": {
          "color": "#B6E880",
          "dash": "solid"
         },
         "marker": {
          "symbol": "circle"
         },
         "mode": "lines",
         "name": "International TV Shows, TV Comedies, TV Dramas",
         "showlegend": true,
         "type": "scattergl",
         "x": [
          2009,
          2012,
          2013,
          2015,
          2016,
          2017,
          2018,
          2019,
          2020,
          2021
         ],
         "xaxis": "x",
         "y": [
          1,
          1,
          1,
          4,
          2,
          2,
          8,
          7,
          9,
          5
         ],
         "yaxis": "y"
        },
        {
         "hovertemplate": "listed_in=International TV Shows, TV Comedies, TV Sci-Fi & Fantasy<br>release_year=%{x}<br>count=%{y}<extra></extra>",
         "legendgroup": "International TV Shows, TV Comedies, TV Sci-Fi & Fantasy",
         "line": {
          "color": "#FF97FF",
          "dash": "solid"
         },
         "marker": {
          "symbol": "circle"
         },
         "mode": "lines",
         "name": "International TV Shows, TV Comedies, TV Sci-Fi & Fantasy",
         "showlegend": true,
         "type": "scattergl",
         "x": [
          2009,
          2018,
          2019
         ],
         "xaxis": "x",
         "y": [
          1,
          1,
          1
         ],
         "yaxis": "y"
        },
        {
         "hovertemplate": "listed_in=Kids' TV, TV Dramas<br>release_year=%{x}<br>count=%{y}<extra></extra>",
         "legendgroup": "Kids' TV, TV Dramas",
         "line": {
          "color": "#FECB52",
          "dash": "solid"
         },
         "marker": {
          "symbol": "circle"
         },
         "mode": "lines",
         "name": "Kids' TV, TV Dramas",
         "showlegend": true,
         "type": "scattergl",
         "x": [
          2009,
          2018,
          2020
         ],
         "xaxis": "x",
         "y": [
          1,
          1,
          1
         ],
         "yaxis": "y"
        },
        {
         "hovertemplate": "listed_in=Reality TV, Romantic TV Shows<br>release_year=%{x}<br>count=%{y}<extra></extra>",
         "legendgroup": "Reality TV, Romantic TV Shows",
         "line": {
          "color": "#636efa",
          "dash": "solid"
         },
         "marker": {
          "symbol": "circle"
         },
         "mode": "lines",
         "name": "Reality TV, Romantic TV Shows",
         "showlegend": true,
         "type": "scattergl",
         "x": [
          2009,
          2010,
          2018,
          2019,
          2020,
          2021
         ],
         "xaxis": "x",
         "y": [
          1,
          1,
          1,
          1,
          3,
          4
         ],
         "yaxis": "y"
        },
        {
         "hovertemplate": "listed_in=Romantic TV Shows, TV Dramas<br>release_year=%{x}<br>count=%{y}<extra></extra>",
         "legendgroup": "Romantic TV Shows, TV Dramas",
         "line": {
          "color": "#EF553B",
          "dash": "solid"
         },
         "marker": {
          "symbol": "circle"
         },
         "mode": "lines",
         "name": "Romantic TV Shows, TV Dramas",
         "showlegend": true,
         "type": "scattergl",
         "x": [
          2009,
          2016,
          2019,
          2020,
          2021
         ],
         "xaxis": "x",
         "y": [
          1,
          1,
          1,
          3,
          3
         ],
         "yaxis": "y"
        },
        {
         "hovertemplate": "listed_in=Action & Adventure, Comedies, Romantic Movies<br>release_year=%{x}<br>count=%{y}<extra></extra>",
         "legendgroup": "Action & Adventure, Comedies, Romantic Movies",
         "line": {
          "color": "#00cc96",
          "dash": "solid"
         },
         "marker": {
          "symbol": "circle"
         },
         "mode": "lines",
         "name": "Action & Adventure, Comedies, Romantic Movies",
         "showlegend": true,
         "type": "scattergl",
         "x": [
          2010,
          2015,
          2020
         ],
         "xaxis": "x",
         "y": [
          2,
          1,
          1
         ],
         "yaxis": "y"
        },
        {
         "hovertemplate": "listed_in=Action & Adventure, Sci-Fi & Fantasy, Thrillers<br>release_year=%{x}<br>count=%{y}<extra></extra>",
         "legendgroup": "Action & Adventure, Sci-Fi & Fantasy, Thrillers",
         "line": {
          "color": "#ab63fa",
          "dash": "solid"
         },
         "marker": {
          "symbol": "circle"
         },
         "mode": "lines",
         "name": "Action & Adventure, Sci-Fi & Fantasy, Thrillers",
         "showlegend": true,
         "type": "scattergl",
         "x": [
          2010
         ],
         "xaxis": "x",
         "y": [
          1
         ],
         "yaxis": "y"
        },
        {
         "hovertemplate": "listed_in=Anime Series, Romantic TV Shows<br>release_year=%{x}<br>count=%{y}<extra></extra>",
         "legendgroup": "Anime Series, Romantic TV Shows",
         "line": {
          "color": "#FFA15A",
          "dash": "solid"
         },
         "marker": {
          "symbol": "circle"
         },
         "mode": "lines",
         "name": "Anime Series, Romantic TV Shows",
         "showlegend": true,
         "type": "scattergl",
         "x": [
          2010,
          2014
         ],
         "xaxis": "x",
         "y": [
          1,
          1
         ],
         "yaxis": "y"
        },
        {
         "hovertemplate": "listed_in=British TV Shows, Kids' TV<br>release_year=%{x}<br>count=%{y}<extra></extra>",
         "legendgroup": "British TV Shows, Kids' TV",
         "line": {
          "color": "#19d3f3",
          "dash": "solid"
         },
         "marker": {
          "symbol": "circle"
         },
         "mode": "lines",
         "name": "British TV Shows, Kids' TV",
         "showlegend": true,
         "type": "scattergl",
         "x": [
          2010,
          2015,
          2016,
          2017,
          2018,
          2019,
          2020,
          2021
         ],
         "xaxis": "x",
         "y": [
          2,
          3,
          1,
          3,
          5,
          2,
          3,
          1
         ],
         "yaxis": "y"
        },
        {
         "hovertemplate": "listed_in=Children & Family Movies, Comedies, International Movies<br>release_year=%{x}<br>count=%{y}<extra></extra>",
         "legendgroup": "Children & Family Movies, Comedies, International Movies",
         "line": {
          "color": "#FF6692",
          "dash": "solid"
         },
         "marker": {
          "symbol": "circle"
         },
         "mode": "lines",
         "name": "Children & Family Movies, Comedies, International Movies",
         "showlegend": true,
         "type": "scattergl",
         "x": [
          2010,
          2017,
          2019
         ],
         "xaxis": "x",
         "y": [
          1,
          1,
          3
         ],
         "yaxis": "y"
        },
        {
         "hovertemplate": "listed_in=Children & Family Movies, Sports Movies<br>release_year=%{x}<br>count=%{y}<extra></extra>",
         "legendgroup": "Children & Family Movies, Sports Movies",
         "line": {
          "color": "#B6E880",
          "dash": "solid"
         },
         "marker": {
          "symbol": "circle"
         },
         "mode": "lines",
         "name": "Children & Family Movies, Sports Movies",
         "showlegend": true,
         "type": "scattergl",
         "x": [
          2010,
          2013,
          2014,
          2019,
          2021
         ],
         "xaxis": "x",
         "y": [
          1,
          1,
          1,
          1,
          1
         ],
         "yaxis": "y"
        },
        {
         "hovertemplate": "listed_in=Classic & Cult TV, Crime TV Shows, International TV Shows<br>release_year=%{x}<br>count=%{y}<extra></extra>",
         "legendgroup": "Classic & Cult TV, Crime TV Shows, International TV Shows",
         "line": {
          "color": "#FF97FF",
          "dash": "solid"
         },
         "marker": {
          "symbol": "circle"
         },
         "mode": "lines",
         "name": "Classic & Cult TV, Crime TV Shows, International TV Shows",
         "showlegend": true,
         "type": "scattergl",
         "x": [
          2010,
          2018,
          2019,
          2020
         ],
         "xaxis": "x",
         "y": [
          1,
          1,
          1,
          1
         ],
         "yaxis": "y"
        },
        {
         "hovertemplate": "listed_in=Comedies, Horror Movies, Independent Movies<br>release_year=%{x}<br>count=%{y}<extra></extra>",
         "legendgroup": "Comedies, Horror Movies, Independent Movies",
         "line": {
          "color": "#FECB52",
          "dash": "solid"
         },
         "marker": {
          "symbol": "circle"
         },
         "mode": "lines",
         "name": "Comedies, Horror Movies, Independent Movies",
         "showlegend": true,
         "type": "scattergl",
         "x": [
          2010,
          2014,
          2016,
          2017,
          2018
         ],
         "xaxis": "x",
         "y": [
          1,
          1,
          1,
          1,
          1
         ],
         "yaxis": "y"
        },
        {
         "hovertemplate": "listed_in=Crime TV Shows, International TV Shows, Korean TV Shows<br>release_year=%{x}<br>count=%{y}<extra></extra>",
         "legendgroup": "Crime TV Shows, International TV Shows, Korean TV Shows",
         "line": {
          "color": "#636efa",
          "dash": "solid"
         },
         "marker": {
          "symbol": "circle"
         },
         "mode": "lines",
         "name": "Crime TV Shows, International TV Shows, Korean TV Shows",
         "showlegend": true,
         "type": "scattergl",
         "x": [
          2010,
          2014,
          2015,
          2016,
          2017,
          2018,
          2019,
          2020,
          2021
         ],
         "xaxis": "x",
         "y": [
          1,
          1,
          1,
          2,
          2,
          5,
          3,
          4,
          1
         ],
         "yaxis": "y"
        },
        {
         "hovertemplate": "listed_in=Documentaries, International Movies, Sports Movies<br>release_year=%{x}<br>count=%{y}<extra></extra>",
         "legendgroup": "Documentaries, International Movies, Sports Movies",
         "line": {
          "color": "#EF553B",
          "dash": "solid"
         },
         "marker": {
          "symbol": "circle"
         },
         "mode": "lines",
         "name": "Documentaries, International Movies, Sports Movies",
         "showlegend": true,
         "type": "scattergl",
         "x": [
          2010,
          2013,
          2014,
          2015,
          2016,
          2017,
          2018,
          2019,
          2020,
          2021
         ],
         "xaxis": "x",
         "y": [
          1,
          2,
          1,
          5,
          6,
          4,
          7,
          6,
          8,
          4
         ],
         "yaxis": "y"
        },
        {
         "hovertemplate": "listed_in=Docuseries, International TV Shows, Spanish-Language TV Shows<br>release_year=%{x}<br>count=%{y}<extra></extra>",
         "legendgroup": "Docuseries, International TV Shows, Spanish-Language TV Shows",
         "line": {
          "color": "#00cc96",
          "dash": "solid"
         },
         "marker": {
          "symbol": "circle"
         },
         "mode": "lines",
         "name": "Docuseries, International TV Shows, Spanish-Language TV Shows",
         "showlegend": true,
         "type": "scattergl",
         "x": [
          2010,
          2018,
          2020,
          2021
         ],
         "xaxis": "x",
         "y": [
          1,
          3,
          1,
          3
         ],
         "yaxis": "y"
        },
        {
         "hovertemplate": "listed_in=Horror Movies, Independent Movies, Thrillers<br>release_year=%{x}<br>count=%{y}<extra></extra>",
         "legendgroup": "Horror Movies, Independent Movies, Thrillers",
         "line": {
          "color": "#ab63fa",
          "dash": "solid"
         },
         "marker": {
          "symbol": "circle"
         },
         "mode": "lines",
         "name": "Horror Movies, Independent Movies, Thrillers",
         "showlegend": true,
         "type": "scattergl",
         "x": [
          2010,
          2013,
          2014,
          2015,
          2016,
          2017,
          2018,
          2019
         ],
         "xaxis": "x",
         "y": [
          1,
          1,
          2,
          3,
          2,
          2,
          3,
          2
         ],
         "yaxis": "y"
        },
        {
         "hovertemplate": "listed_in=International Movies, LGBTQ Movies, Romantic Movies<br>release_year=%{x}<br>count=%{y}<extra></extra>",
         "legendgroup": "International Movies, LGBTQ Movies, Romantic Movies",
         "line": {
          "color": "#FFA15A",
          "dash": "solid"
         },
         "marker": {
          "symbol": "circle"
         },
         "mode": "lines",
         "name": "International Movies, LGBTQ Movies, Romantic Movies",
         "showlegend": true,
         "type": "scattergl",
         "x": [
          2010,
          2012,
          2015
         ],
         "xaxis": "x",
         "y": [
          1,
          1,
          1
         ],
         "yaxis": "y"
        },
        {
         "hovertemplate": "listed_in=International TV Shows, Korean TV Shows, TV Dramas<br>release_year=%{x}<br>count=%{y}<extra></extra>",
         "legendgroup": "International TV Shows, Korean TV Shows, TV Dramas",
         "line": {
          "color": "#19d3f3",
          "dash": "solid"
         },
         "marker": {
          "symbol": "circle"
         },
         "mode": "lines",
         "name": "International TV Shows, Korean TV Shows, TV Dramas",
         "showlegend": true,
         "type": "scattergl",
         "x": [
          2010,
          2011,
          2012,
          2014,
          2016,
          2017,
          2018,
          2019,
          2020
         ],
         "xaxis": "x",
         "y": [
          1,
          1,
          2,
          1,
          5,
          3,
          1,
          3,
          1
         ],
         "yaxis": "y"
        },
        {
         "hovertemplate": "listed_in=Romantic TV Shows, Spanish-Language TV Shows, TV Dramas<br>release_year=%{x}<br>count=%{y}<extra></extra>",
         "legendgroup": "Romantic TV Shows, Spanish-Language TV Shows, TV Dramas",
         "line": {
          "color": "#FF6692",
          "dash": "solid"
         },
         "marker": {
          "symbol": "circle"
         },
         "mode": "lines",
         "name": "Romantic TV Shows, Spanish-Language TV Shows, TV Dramas",
         "showlegend": true,
         "type": "scattergl",
         "x": [
          2010
         ],
         "xaxis": "x",
         "y": [
          1
         ],
         "yaxis": "y"
        },
        {
         "hovertemplate": "listed_in=TV Dramas, Teen TV Shows<br>release_year=%{x}<br>count=%{y}<extra></extra>",
         "legendgroup": "TV Dramas, Teen TV Shows",
         "line": {
          "color": "#B6E880",
          "dash": "solid"
         },
         "marker": {
          "symbol": "circle"
         },
         "mode": "lines",
         "name": "TV Dramas, Teen TV Shows",
         "showlegend": true,
         "type": "scattergl",
         "x": [
          2010,
          2012,
          2019,
          2020,
          2021
         ],
         "xaxis": "x",
         "y": [
          1,
          1,
          1,
          2,
          1
         ],
         "yaxis": "y"
        },
        {
         "hovertemplate": "listed_in=Action & Adventure, Sci-Fi & Fantasy, Sports Movies<br>release_year=%{x}<br>count=%{y}<extra></extra>",
         "legendgroup": "Action & Adventure, Sci-Fi & Fantasy, Sports Movies",
         "line": {
          "color": "#FF97FF",
          "dash": "solid"
         },
         "marker": {
          "symbol": "circle"
         },
         "mode": "lines",
         "name": "Action & Adventure, Sci-Fi & Fantasy, Sports Movies",
         "showlegend": true,
         "type": "scattergl",
         "x": [
          2011
         ],
         "xaxis": "x",
         "y": [
          1
         ],
         "yaxis": "y"
        },
        {
         "hovertemplate": "listed_in=Anime Features, Music & Musicals<br>release_year=%{x}<br>count=%{y}<extra></extra>",
         "legendgroup": "Anime Features, Music & Musicals",
         "line": {
          "color": "#FECB52",
          "dash": "solid"
         },
         "marker": {
          "symbol": "circle"
         },
         "mode": "lines",
         "name": "Anime Features, Music & Musicals",
         "showlegend": true,
         "type": "scattergl",
         "x": [
          2011
         ],
         "xaxis": "x",
         "y": [
          1
         ],
         "yaxis": "y"
        },
        {
         "hovertemplate": "listed_in=Anime Series, International TV Shows, Teen TV Shows<br>release_year=%{x}<br>count=%{y}<extra></extra>",
         "legendgroup": "Anime Series, International TV Shows, Teen TV Shows",
         "line": {
          "color": "#636efa",
          "dash": "solid"
         },
         "marker": {
          "symbol": "circle"
         },
         "mode": "lines",
         "name": "Anime Series, International TV Shows, Teen TV Shows",
         "showlegend": true,
         "type": "scattergl",
         "x": [
          2011,
          2014,
          2015,
          2016,
          2017,
          2018,
          2019,
          2020
         ],
         "xaxis": "x",
         "y": [
          1,
          1,
          2,
          1,
          1,
          1,
          1,
          1
         ],
         "yaxis": "y"
        },
        {
         "hovertemplate": "listed_in=British TV Shows, International TV Shows, TV Dramas<br>release_year=%{x}<br>count=%{y}<extra></extra>",
         "legendgroup": "British TV Shows, International TV Shows, TV Dramas",
         "line": {
          "color": "#EF553B",
          "dash": "solid"
         },
         "marker": {
          "symbol": "circle"
         },
         "mode": "lines",
         "name": "British TV Shows, International TV Shows, TV Dramas",
         "showlegend": true,
         "type": "scattergl",
         "x": [
          2011,
          2015,
          2018,
          2019,
          2020,
          2021
         ],
         "xaxis": "x",
         "y": [
          1,
          1,
          2,
          3,
          4,
          3
         ],
         "yaxis": "y"
        },
        {
         "hovertemplate": "listed_in=Children & Family Movies, Dramas, Romantic Movies<br>release_year=%{x}<br>count=%{y}<extra></extra>",
         "legendgroup": "Children & Family Movies, Dramas, Romantic Movies",
         "line": {
          "color": "#00cc96",
          "dash": "solid"
         },
         "marker": {
          "symbol": "circle"
         },
         "mode": "lines",
         "name": "Children & Family Movies, Dramas, Romantic Movies",
         "showlegend": true,
         "type": "scattergl",
         "x": [
          2011,
          2015,
          2017,
          2018,
          2019,
          2020
         ],
         "xaxis": "x",
         "y": [
          1,
          1,
          1,
          3,
          2,
          1
         ],
         "yaxis": "y"
        },
        {
         "hovertemplate": "listed_in=Comedies, Horror Movies, International Movies<br>release_year=%{x}<br>count=%{y}<extra></extra>",
         "legendgroup": "Comedies, Horror Movies, International Movies",
         "line": {
          "color": "#ab63fa",
          "dash": "solid"
         },
         "marker": {
          "symbol": "circle"
         },
         "mode": "lines",
         "name": "Comedies, Horror Movies, International Movies",
         "showlegend": true,
         "type": "scattergl",
         "x": [
          2011,
          2012,
          2013,
          2014,
          2015,
          2017,
          2018,
          2019,
          2021
         ],
         "xaxis": "x",
         "y": [
          1,
          1,
          2,
          1,
          2,
          3,
          3,
          1,
          1
         ],
         "yaxis": "y"
        },
        {
         "hovertemplate": "listed_in=Comedies, International Movies, Thrillers<br>release_year=%{x}<br>count=%{y}<extra></extra>",
         "legendgroup": "Comedies, International Movies, Thrillers",
         "line": {
          "color": "#FFA15A",
          "dash": "solid"
         },
         "marker": {
          "symbol": "circle"
         },
         "mode": "lines",
         "name": "Comedies, International Movies, Thrillers",
         "showlegend": true,
         "type": "scattergl",
         "x": [
          2011,
          2013,
          2014,
          2018,
          2020
         ],
         "xaxis": "x",
         "y": [
          1,
          1,
          1,
          1,
          1
         ],
         "yaxis": "y"
        },
        {
         "hovertemplate": "listed_in=Crime TV Shows, Docuseries, Science & Nature TV<br>release_year=%{x}<br>count=%{y}<extra></extra>",
         "legendgroup": "Crime TV Shows, Docuseries, Science & Nature TV",
         "line": {
          "color": "#19d3f3",
          "dash": "solid"
         },
         "marker": {
          "symbol": "circle"
         },
         "mode": "lines",
         "name": "Crime TV Shows, Docuseries, Science & Nature TV",
         "showlegend": true,
         "type": "scattergl",
         "x": [
          2011,
          2019
         ],
         "xaxis": "x",
         "y": [
          1,
          1
         ],
         "yaxis": "y"
        },
        {
         "hovertemplate": "listed_in=Dramas, Faith & Spirituality, Sports Movies<br>release_year=%{x}<br>count=%{y}<extra></extra>",
         "legendgroup": "Dramas, Faith & Spirituality, Sports Movies",
         "line": {
          "color": "#FF6692",
          "dash": "solid"
         },
         "marker": {
          "symbol": "circle"
         },
         "mode": "lines",
         "name": "Dramas, Faith & Spirituality, Sports Movies",
         "showlegend": true,
         "type": "scattergl",
         "x": [
          2011
         ],
         "xaxis": "x",
         "y": [
          1
         ],
         "yaxis": "y"
        },
        {
         "hovertemplate": "listed_in=International TV Shows, TV Dramas, TV Sci-Fi & Fantasy<br>release_year=%{x}<br>count=%{y}<extra></extra>",
         "legendgroup": "International TV Shows, TV Dramas, TV Sci-Fi & Fantasy",
         "line": {
          "color": "#B6E880",
          "dash": "solid"
         },
         "marker": {
          "symbol": "circle"
         },
         "mode": "lines",
         "name": "International TV Shows, TV Dramas, TV Sci-Fi & Fantasy",
         "showlegend": true,
         "type": "scattergl",
         "x": [
          2011,
          2014,
          2016,
          2020,
          2021
         ],
         "xaxis": "x",
         "y": [
          1,
          1,
          2,
          3,
          1
         ],
         "yaxis": "y"
        },
        {
         "hovertemplate": "listed_in=Kids' TV, TV Action & Adventure, TV Sci-Fi & Fantasy<br>release_year=%{x}<br>count=%{y}<extra></extra>",
         "legendgroup": "Kids' TV, TV Action & Adventure, TV Sci-Fi & Fantasy",
         "line": {
          "color": "#FF97FF",
          "dash": "solid"
         },
         "marker": {
          "symbol": "circle"
         },
         "mode": "lines",
         "name": "Kids' TV, TV Action & Adventure, TV Sci-Fi & Fantasy",
         "showlegend": true,
         "type": "scattergl",
         "x": [
          2011,
          2014,
          2018,
          2019,
          2020,
          2021
         ],
         "xaxis": "x",
         "y": [
          1,
          2,
          1,
          2,
          3,
          1
         ],
         "yaxis": "y"
        },
        {
         "hovertemplate": "listed_in=Reality TV, TV Comedies, TV Horror<br>release_year=%{x}<br>count=%{y}<extra></extra>",
         "legendgroup": "Reality TV, TV Comedies, TV Horror",
         "line": {
          "color": "#FECB52",
          "dash": "solid"
         },
         "marker": {
          "symbol": "circle"
         },
         "mode": "lines",
         "name": "Reality TV, TV Comedies, TV Horror",
         "showlegend": true,
         "type": "scattergl",
         "x": [
          2011,
          2021
         ],
         "xaxis": "x",
         "y": [
          1,
          1
         ],
         "yaxis": "y"
        },
        {
         "hovertemplate": "listed_in=Action & Adventure, Cult Movies, Dramas<br>release_year=%{x}<br>count=%{y}<extra></extra>",
         "legendgroup": "Action & Adventure, Cult Movies, Dramas",
         "line": {
          "color": "#636efa",
          "dash": "solid"
         },
         "marker": {
          "symbol": "circle"
         },
         "mode": "lines",
         "name": "Action & Adventure, Cult Movies, Dramas",
         "showlegend": true,
         "type": "scattergl",
         "x": [
          2012
         ],
         "xaxis": "x",
         "y": [
          1
         ],
         "yaxis": "y"
        },
        {
         "hovertemplate": "listed_in=Action & Adventure, Horror Movies<br>release_year=%{x}<br>count=%{y}<extra></extra>",
         "legendgroup": "Action & Adventure, Horror Movies",
         "line": {
          "color": "#EF553B",
          "dash": "solid"
         },
         "marker": {
          "symbol": "circle"
         },
         "mode": "lines",
         "name": "Action & Adventure, Horror Movies",
         "showlegend": true,
         "type": "scattergl",
         "x": [
          2012,
          2015,
          2017,
          2018,
          2020,
          2021
         ],
         "xaxis": "x",
         "y": [
          1,
          1,
          1,
          1,
          1,
          1
         ],
         "yaxis": "y"
        },
        {
         "hovertemplate": "listed_in=British TV Shows, Crime TV Shows, International TV Shows<br>release_year=%{x}<br>count=%{y}<extra></extra>",
         "legendgroup": "British TV Shows, Crime TV Shows, International TV Shows",
         "line": {
          "color": "#00cc96",
          "dash": "solid"
         },
         "marker": {
          "symbol": "circle"
         },
         "mode": "lines",
         "name": "British TV Shows, Crime TV Shows, International TV Shows",
         "showlegend": true,
         "type": "scattergl",
         "x": [
          2012,
          2013,
          2015,
          2016,
          2017,
          2018,
          2019,
          2020,
          2021
         ],
         "xaxis": "x",
         "y": [
          1,
          1,
          1,
          4,
          3,
          3,
          6,
          4,
          2
         ],
         "yaxis": "y"
        },
        {
         "hovertemplate": "listed_in=British TV Shows, Crime TV Shows, TV Dramas<br>release_year=%{x}<br>count=%{y}<extra></extra>",
         "legendgroup": "British TV Shows, Crime TV Shows, TV Dramas",
         "line": {
          "color": "#ab63fa",
          "dash": "solid"
         },
         "marker": {
          "symbol": "circle"
         },
         "mode": "lines",
         "name": "British TV Shows, Crime TV Shows, TV Dramas",
         "showlegend": true,
         "type": "scattergl",
         "x": [
          2012,
          2016,
          2017
         ],
         "xaxis": "x",
         "y": [
          1,
          1,
          2
         ],
         "yaxis": "y"
        },
        {
         "hovertemplate": "listed_in=British TV Shows, International TV Shows, TV Action & Adventure<br>release_year=%{x}<br>count=%{y}<extra></extra>",
         "legendgroup": "British TV Shows, International TV Shows, TV Action & Adventure",
         "line": {
          "color": "#FFA15A",
          "dash": "solid"
         },
         "marker": {
          "symbol": "circle"
         },
         "mode": "lines",
         "name": "British TV Shows, International TV Shows, TV Action & Adventure",
         "showlegend": true,
         "type": "scattergl",
         "x": [
          2012,
          2018,
          2019,
          2020
         ],
         "xaxis": "x",
         "y": [
          1,
          1,
          1,
          2
         ],
         "yaxis": "y"
        },
        {
         "hovertemplate": "listed_in=British TV Shows, Reality TV<br>release_year=%{x}<br>count=%{y}<extra></extra>",
         "legendgroup": "British TV Shows, Reality TV",
         "line": {
          "color": "#19d3f3",
          "dash": "solid"
         },
         "marker": {
          "symbol": "circle"
         },
         "mode": "lines",
         "name": "British TV Shows, Reality TV",
         "showlegend": true,
         "type": "scattergl",
         "x": [
          2012,
          2015,
          2016,
          2017,
          2018,
          2019,
          2020,
          2021
         ],
         "xaxis": "x",
         "y": [
          1,
          1,
          1,
          1,
          2,
          1,
          1,
          1
         ],
         "yaxis": "y"
        },
        {
         "hovertemplate": "listed_in=Children & Family Movies, Independent Movies<br>release_year=%{x}<br>count=%{y}<extra></extra>",
         "legendgroup": "Children & Family Movies, Independent Movies",
         "line": {
          "color": "#FF6692",
          "dash": "solid"
         },
         "marker": {
          "symbol": "circle"
         },
         "mode": "lines",
         "name": "Children & Family Movies, Independent Movies",
         "showlegend": true,
         "type": "scattergl",
         "x": [
          2012,
          2016
         ],
         "xaxis": "x",
         "y": [
          1,
          1
         ],
         "yaxis": "y"
        },
        {
         "hovertemplate": "listed_in=Comedies, International Movies, Sports Movies<br>release_year=%{x}<br>count=%{y}<extra></extra>",
         "legendgroup": "Comedies, International Movies, Sports Movies",
         "line": {
          "color": "#B6E880",
          "dash": "solid"
         },
         "marker": {
          "symbol": "circle"
         },
         "mode": "lines",
         "name": "Comedies, International Movies, Sports Movies",
         "showlegend": true,
         "type": "scattergl",
         "x": [
          2012,
          2015,
          2016,
          2017
         ],
         "xaxis": "x",
         "y": [
          2,
          1,
          2,
          1
         ],
         "yaxis": "y"
        },
        {
         "hovertemplate": "listed_in=Comedies, Romantic Movies, Sports Movies<br>release_year=%{x}<br>count=%{y}<extra></extra>",
         "legendgroup": "Comedies, Romantic Movies, Sports Movies",
         "line": {
          "color": "#FF97FF",
          "dash": "solid"
         },
         "marker": {
          "symbol": "circle"
         },
         "mode": "lines",
         "name": "Comedies, Romantic Movies, Sports Movies",
         "showlegend": true,
         "type": "scattergl",
         "x": [
          2012
         ],
         "xaxis": "x",
         "y": [
          1
         ],
         "yaxis": "y"
        },
        {
         "hovertemplate": "listed_in=Crime TV Shows, Docuseries, International TV Shows<br>release_year=%{x}<br>count=%{y}<extra></extra>",
         "legendgroup": "Crime TV Shows, Docuseries, International TV Shows",
         "line": {
          "color": "#FECB52",
          "dash": "solid"
         },
         "marker": {
          "symbol": "circle"
         },
         "mode": "lines",
         "name": "Crime TV Shows, Docuseries, International TV Shows",
         "showlegend": true,
         "type": "scattergl",
         "x": [
          2012,
          2014,
          2016,
          2017,
          2018,
          2019,
          2020,
          2021
         ],
         "xaxis": "x",
         "y": [
          1,
          1,
          2,
          3,
          3,
          6,
          7,
          5
         ],
         "yaxis": "y"
        },
        {
         "hovertemplate": "listed_in=Dramas, International Movies, LGBTQ Movies<br>release_year=%{x}<br>count=%{y}<extra></extra>",
         "legendgroup": "Dramas, International Movies, LGBTQ Movies",
         "line": {
          "color": "#636efa",
          "dash": "solid"
         },
         "marker": {
          "symbol": "circle"
         },
         "mode": "lines",
         "name": "Dramas, International Movies, LGBTQ Movies",
         "showlegend": true,
         "type": "scattergl",
         "x": [
          2012,
          2015,
          2018,
          2019,
          2020,
          2021
         ],
         "xaxis": "x",
         "y": [
          1,
          3,
          2,
          3,
          1,
          2
         ],
         "yaxis": "y"
        },
        {
         "hovertemplate": "listed_in=International TV Shows, Spanish-Language TV Shows, TV Comedies<br>release_year=%{x}<br>count=%{y}<extra></extra>",
         "legendgroup": "International TV Shows, Spanish-Language TV Shows, TV Comedies",
         "line": {
          "color": "#EF553B",
          "dash": "solid"
         },
         "marker": {
          "symbol": "circle"
         },
         "mode": "lines",
         "name": "International TV Shows, Spanish-Language TV Shows, TV Comedies",
         "showlegend": true,
         "type": "scattergl",
         "x": [
          2012,
          2015,
          2016,
          2017,
          2018,
          2019,
          2020,
          2021
         ],
         "xaxis": "x",
         "y": [
          1,
          1,
          2,
          1,
          3,
          2,
          2,
          5
         ],
         "yaxis": "y"
        },
        {
         "hovertemplate": "listed_in=TV Comedies, TV Dramas<br>release_year=%{x}<br>count=%{y}<extra></extra>",
         "legendgroup": "TV Comedies, TV Dramas",
         "line": {
          "color": "#00cc96",
          "dash": "solid"
         },
         "marker": {
          "symbol": "circle"
         },
         "mode": "lines",
         "name": "TV Comedies, TV Dramas",
         "showlegend": true,
         "type": "scattergl",
         "x": [
          2012,
          2014,
          2015,
          2016,
          2017,
          2018,
          2019,
          2020,
          2021
         ],
         "xaxis": "x",
         "y": [
          2,
          1,
          2,
          1,
          2,
          2,
          8,
          5,
          7
         ],
         "yaxis": "y"
        },
        {
         "hovertemplate": "listed_in=Anime Features, International Movies, Romantic Movies<br>release_year=%{x}<br>count=%{y}<extra></extra>",
         "legendgroup": "Anime Features, International Movies, Romantic Movies",
         "line": {
          "color": "#ab63fa",
          "dash": "solid"
         },
         "marker": {
          "symbol": "circle"
         },
         "mode": "lines",
         "name": "Anime Features, International Movies, Romantic Movies",
         "showlegend": true,
         "type": "scattergl",
         "x": [
          2013,
          2018
         ],
         "xaxis": "x",
         "y": [
          1,
          1
         ],
         "yaxis": "y"
        },
        {
         "hovertemplate": "listed_in=British TV Shows, International TV Shows, Reality TV<br>release_year=%{x}<br>count=%{y}<extra></extra>",
         "legendgroup": "British TV Shows, International TV Shows, Reality TV",
         "line": {
          "color": "#FFA15A",
          "dash": "solid"
         },
         "marker": {
          "symbol": "circle"
         },
         "mode": "lines",
         "name": "British TV Shows, International TV Shows, Reality TV",
         "showlegend": true,
         "type": "scattergl",
         "x": [
          2013,
          2015,
          2016,
          2017,
          2018,
          2019,
          2020,
          2021
         ],
         "xaxis": "x",
         "y": [
          1,
          1,
          3,
          6,
          7,
          2,
          4,
          3
         ],
         "yaxis": "y"
        },
        {
         "hovertemplate": "listed_in=British TV Shows, TV Comedies, TV Dramas<br>release_year=%{x}<br>count=%{y}<extra></extra>",
         "legendgroup": "British TV Shows, TV Comedies, TV Dramas",
         "line": {
          "color": "#19d3f3",
          "dash": "solid"
         },
         "marker": {
          "symbol": "circle"
         },
         "mode": "lines",
         "name": "British TV Shows, TV Comedies, TV Dramas",
         "showlegend": true,
         "type": "scattergl",
         "x": [
          2013
         ],
         "xaxis": "x",
         "y": [
          1
         ],
         "yaxis": "y"
        },
        {
         "hovertemplate": "listed_in=Children & Family Movies, Documentaries, International Movies<br>release_year=%{x}<br>count=%{y}<extra></extra>",
         "legendgroup": "Children & Family Movies, Documentaries, International Movies",
         "line": {
          "color": "#FF6692",
          "dash": "solid"
         },
         "marker": {
          "symbol": "circle"
         },
         "mode": "lines",
         "name": "Children & Family Movies, Documentaries, International Movies",
         "showlegend": true,
         "type": "scattergl",
         "x": [
          2013,
          2016,
          2018,
          2020,
          2021
         ],
         "xaxis": "x",
         "y": [
          1,
          2,
          1,
          1,
          1
         ],
         "yaxis": "y"
        },
        {
         "hovertemplate": "listed_in=Children & Family Movies, Documentaries, Sports Movies<br>release_year=%{x}<br>count=%{y}<extra></extra>",
         "legendgroup": "Children & Family Movies, Documentaries, Sports Movies",
         "line": {
          "color": "#B6E880",
          "dash": "solid"
         },
         "marker": {
          "symbol": "circle"
         },
         "mode": "lines",
         "name": "Children & Family Movies, Documentaries, Sports Movies",
         "showlegend": true,
         "type": "scattergl",
         "x": [
          2013,
          2019
         ],
         "xaxis": "x",
         "y": [
          1,
          1
         ],
         "yaxis": "y"
        },
        {
         "hovertemplate": "listed_in=Children & Family Movies, Music & Musicals<br>release_year=%{x}<br>count=%{y}<extra></extra>",
         "legendgroup": "Children & Family Movies, Music & Musicals",
         "line": {
          "color": "#FF97FF",
          "dash": "solid"
         },
         "marker": {
          "symbol": "circle"
         },
         "mode": "lines",
         "name": "Children & Family Movies, Music & Musicals",
         "showlegend": true,
         "type": "scattergl",
         "x": [
          2013,
          2014,
          2015,
          2016,
          2017,
          2018,
          2019,
          2020,
          2021
         ],
         "xaxis": "x",
         "y": [
          2,
          2,
          2,
          2,
          3,
          2,
          1,
          4,
          2
         ],
         "yaxis": "y"
        },
        {
         "hovertemplate": "listed_in=Crime TV Shows, TV Dramas, TV Mysteries<br>release_year=%{x}<br>count=%{y}<extra></extra>",
         "legendgroup": "Crime TV Shows, TV Dramas, TV Mysteries",
         "line": {
          "color": "#FECB52",
          "dash": "solid"
         },
         "marker": {
          "symbol": "circle"
         },
         "mode": "lines",
         "name": "Crime TV Shows, TV Dramas, TV Mysteries",
         "showlegend": true,
         "type": "scattergl",
         "x": [
          2013,
          2016,
          2017,
          2018,
          2019,
          2020,
          2021
         ],
         "xaxis": "x",
         "y": [
          1,
          2,
          3,
          2,
          3,
          5,
          1
         ],
         "yaxis": "y"
        },
        {
         "hovertemplate": "listed_in=Crime TV Shows, TV Dramas, TV Thrillers<br>release_year=%{x}<br>count=%{y}<extra></extra>",
         "legendgroup": "Crime TV Shows, TV Dramas, TV Thrillers",
         "line": {
          "color": "#636efa",
          "dash": "solid"
         },
         "marker": {
          "symbol": "circle"
         },
         "mode": "lines",
         "name": "Crime TV Shows, TV Dramas, TV Thrillers",
         "showlegend": true,
         "type": "scattergl",
         "x": [
          2013,
          2015,
          2018,
          2019,
          2020
         ],
         "xaxis": "x",
         "y": [
          1,
          1,
          1,
          3,
          1
         ],
         "yaxis": "y"
        },
        {
         "hovertemplate": "listed_in=Cult Movies, Independent Movies, Thrillers<br>release_year=%{x}<br>count=%{y}<extra></extra>",
         "legendgroup": "Cult Movies, Independent Movies, Thrillers",
         "line": {
          "color": "#EF553B",
          "dash": "solid"
         },
         "marker": {
          "symbol": "circle"
         },
         "mode": "lines",
         "name": "Cult Movies, Independent Movies, Thrillers",
         "showlegend": true,
         "type": "scattergl",
         "x": [
          2013
         ],
         "xaxis": "x",
         "y": [
          1
         ],
         "yaxis": "y"
        },
        {
         "hovertemplate": "listed_in=Documentaries, LGBTQ Movies<br>release_year=%{x}<br>count=%{y}<extra></extra>",
         "legendgroup": "Documentaries, LGBTQ Movies",
         "line": {
          "color": "#00cc96",
          "dash": "solid"
         },
         "marker": {
          "symbol": "circle"
         },
         "mode": "lines",
         "name": "Documentaries, LGBTQ Movies",
         "showlegend": true,
         "type": "scattergl",
         "x": [
          2013,
          2015,
          2016,
          2017,
          2018,
          2019,
          2020,
          2021
         ],
         "xaxis": "x",
         "y": [
          1,
          1,
          2,
          6,
          2,
          2,
          7,
          1
         ],
         "yaxis": "y"
        },
        {
         "hovertemplate": "listed_in=Docuseries, Stand-Up Comedy & Talk Shows<br>release_year=%{x}<br>count=%{y}<extra></extra>",
         "legendgroup": "Docuseries, Stand-Up Comedy & Talk Shows",
         "line": {
          "color": "#ab63fa",
          "dash": "solid"
         },
         "marker": {
          "symbol": "circle"
         },
         "mode": "lines",
         "name": "Docuseries, Stand-Up Comedy & Talk Shows",
         "showlegend": true,
         "type": "scattergl",
         "x": [
          2013,
          2018,
          2019
         ],
         "xaxis": "x",
         "y": [
          1,
          1,
          1
         ],
         "yaxis": "y"
        },
        {
         "hovertemplate": "listed_in=Dramas, Faith & Spirituality, Romantic Movies<br>release_year=%{x}<br>count=%{y}<extra></extra>",
         "legendgroup": "Dramas, Faith & Spirituality, Romantic Movies",
         "line": {
          "color": "#FFA15A",
          "dash": "solid"
         },
         "marker": {
          "symbol": "circle"
         },
         "mode": "lines",
         "name": "Dramas, Faith & Spirituality, Romantic Movies",
         "showlegend": true,
         "type": "scattergl",
         "x": [
          2013,
          2020
         ],
         "xaxis": "x",
         "y": [
          1,
          1
         ],
         "yaxis": "y"
        },
        {
         "hovertemplate": "listed_in=Dramas, Horror Movies, Sci-Fi & Fantasy<br>release_year=%{x}<br>count=%{y}<extra></extra>",
         "legendgroup": "Dramas, Horror Movies, Sci-Fi & Fantasy",
         "line": {
          "color": "#19d3f3",
          "dash": "solid"
         },
         "marker": {
          "symbol": "circle"
         },
         "mode": "lines",
         "name": "Dramas, Horror Movies, Sci-Fi & Fantasy",
         "showlegend": true,
         "type": "scattergl",
         "x": [
          2013
         ],
         "xaxis": "x",
         "y": [
          1
         ],
         "yaxis": "y"
        },
        {
         "hovertemplate": "listed_in=Horror Movies, Independent Movies<br>release_year=%{x}<br>count=%{y}<extra></extra>",
         "legendgroup": "Horror Movies, Independent Movies",
         "line": {
          "color": "#FF6692",
          "dash": "solid"
         },
         "marker": {
          "symbol": "circle"
         },
         "mode": "lines",
         "name": "Horror Movies, Independent Movies",
         "showlegend": true,
         "type": "scattergl",
         "x": [
          2013,
          2015,
          2016,
          2017,
          2018,
          2019,
          2020
         ],
         "xaxis": "x",
         "y": [
          1,
          2,
          3,
          3,
          5,
          2,
          2
         ],
         "yaxis": "y"
        },
        {
         "hovertemplate": "listed_in=Kids' TV, Korean TV Shows<br>release_year=%{x}<br>count=%{y}<extra></extra>",
         "legendgroup": "Kids' TV, Korean TV Shows",
         "line": {
          "color": "#B6E880",
          "dash": "solid"
         },
         "marker": {
          "symbol": "circle"
         },
         "mode": "lines",
         "name": "Kids' TV, Korean TV Shows",
         "showlegend": true,
         "type": "scattergl",
         "x": [
          2013,
          2015,
          2016,
          2017,
          2018,
          2019,
          2020
         ],
         "xaxis": "x",
         "y": [
          1,
          2,
          5,
          3,
          4,
          1,
          3
         ],
         "yaxis": "y"
        },
        {
         "hovertemplate": "listed_in=Kids' TV, TV Comedies, TV Sci-Fi & Fantasy<br>release_year=%{x}<br>count=%{y}<extra></extra>",
         "legendgroup": "Kids' TV, TV Comedies, TV Sci-Fi & Fantasy",
         "line": {
          "color": "#FF97FF",
          "dash": "solid"
         },
         "marker": {
          "symbol": "circle"
         },
         "mode": "lines",
         "name": "Kids' TV, TV Comedies, TV Sci-Fi & Fantasy",
         "showlegend": true,
         "type": "scattergl",
         "x": [
          2013,
          2021
         ],
         "xaxis": "x",
         "y": [
          1,
          1
         ],
         "yaxis": "y"
        },
        {
         "hovertemplate": "listed_in=Music & Musicals<br>release_year=%{x}<br>count=%{y}<extra></extra>",
         "legendgroup": "Music & Musicals",
         "line": {
          "color": "#FECB52",
          "dash": "solid"
         },
         "marker": {
          "symbol": "circle"
         },
         "mode": "lines",
         "name": "Music & Musicals",
         "showlegend": true,
         "type": "scattergl",
         "x": [
          2013,
          2016,
          2017,
          2018,
          2020
         ],
         "xaxis": "x",
         "y": [
          1,
          1,
          2,
          3,
          3
         ],
         "yaxis": "y"
        },
        {
         "hovertemplate": "listed_in=Reality TV, Science & Nature TV<br>release_year=%{x}<br>count=%{y}<extra></extra>",
         "legendgroup": "Reality TV, Science & Nature TV",
         "line": {
          "color": "#636efa",
          "dash": "solid"
         },
         "marker": {
          "symbol": "circle"
         },
         "mode": "lines",
         "name": "Reality TV, Science & Nature TV",
         "showlegend": true,
         "type": "scattergl",
         "x": [
          2013,
          2020
         ],
         "xaxis": "x",
         "y": [
          1,
          1
         ],
         "yaxis": "y"
        },
        {
         "hovertemplate": "listed_in=TV Action & Adventure, TV Dramas<br>release_year=%{x}<br>count=%{y}<extra></extra>",
         "legendgroup": "TV Action & Adventure, TV Dramas",
         "line": {
          "color": "#EF553B",
          "dash": "solid"
         },
         "marker": {
          "symbol": "circle"
         },
         "mode": "lines",
         "name": "TV Action & Adventure, TV Dramas",
         "showlegend": true,
         "type": "scattergl",
         "x": [
          2013,
          2016,
          2017,
          2020
         ],
         "xaxis": "x",
         "y": [
          1,
          1,
          1,
          1
         ],
         "yaxis": "y"
        },
        {
         "hovertemplate": "listed_in=Action & Adventure, Comedies, Music & Musicals<br>release_year=%{x}<br>count=%{y}<extra></extra>",
         "legendgroup": "Action & Adventure, Comedies, Music & Musicals",
         "line": {
          "color": "#00cc96",
          "dash": "solid"
         },
         "marker": {
          "symbol": "circle"
         },
         "mode": "lines",
         "name": "Action & Adventure, Comedies, Music & Musicals",
         "showlegend": true,
         "type": "scattergl",
         "x": [
          2014
         ],
         "xaxis": "x",
         "y": [
          1
         ],
         "yaxis": "y"
        },
        {
         "hovertemplate": "listed_in=Action & Adventure, Documentaries, International Movies<br>release_year=%{x}<br>count=%{y}<extra></extra>",
         "legendgroup": "Action & Adventure, Documentaries, International Movies",
         "line": {
          "color": "#ab63fa",
          "dash": "solid"
         },
         "marker": {
          "symbol": "circle"
         },
         "mode": "lines",
         "name": "Action & Adventure, Documentaries, International Movies",
         "showlegend": true,
         "type": "scattergl",
         "x": [
          2014,
          2015,
          2016,
          2017,
          2018
         ],
         "xaxis": "x",
         "y": [
          1,
          1,
          1,
          2,
          1
         ],
         "yaxis": "y"
        },
        {
         "hovertemplate": "listed_in=Action & Adventure, Faith & Spirituality, Sci-Fi & Fantasy<br>release_year=%{x}<br>count=%{y}<extra></extra>",
         "legendgroup": "Action & Adventure, Faith & Spirituality, Sci-Fi & Fantasy",
         "line": {
          "color": "#FFA15A",
          "dash": "solid"
         },
         "marker": {
          "symbol": "circle"
         },
         "mode": "lines",
         "name": "Action & Adventure, Faith & Spirituality, Sci-Fi & Fantasy",
         "showlegend": true,
         "type": "scattergl",
         "x": [
          2014
         ],
         "xaxis": "x",
         "y": [
          1
         ],
         "yaxis": "y"
        },
        {
         "hovertemplate": "listed_in=Anime Series, International TV Shows, TV Horror<br>release_year=%{x}<br>count=%{y}<extra></extra>",
         "legendgroup": "Anime Series, International TV Shows, TV Horror",
         "line": {
          "color": "#19d3f3",
          "dash": "solid"
         },
         "marker": {
          "symbol": "circle"
         },
         "mode": "lines",
         "name": "Anime Series, International TV Shows, TV Horror",
         "showlegend": true,
         "type": "scattergl",
         "x": [
          2014,
          2018,
          2019
         ],
         "xaxis": "x",
         "y": [
          1,
          1,
          1
         ],
         "yaxis": "y"
        },
        {
         "hovertemplate": "listed_in=British TV Shows, Docuseries, TV Comedies<br>release_year=%{x}<br>count=%{y}<extra></extra>",
         "legendgroup": "British TV Shows, Docuseries, TV Comedies",
         "line": {
          "color": "#FF6692",
          "dash": "solid"
         },
         "marker": {
          "symbol": "circle"
         },
         "mode": "lines",
         "name": "British TV Shows, Docuseries, TV Comedies",
         "showlegend": true,
         "type": "scattergl",
         "x": [
          2014
         ],
         "xaxis": "x",
         "y": [
          1
         ],
         "yaxis": "y"
        },
        {
         "hovertemplate": "listed_in=Comedies, Faith & Spirituality, Romantic Movies<br>release_year=%{x}<br>count=%{y}<extra></extra>",
         "legendgroup": "Comedies, Faith & Spirituality, Romantic Movies",
         "line": {
          "color": "#B6E880",
          "dash": "solid"
         },
         "marker": {
          "symbol": "circle"
         },
         "mode": "lines",
         "name": "Comedies, Faith & Spirituality, Romantic Movies",
         "showlegend": true,
         "type": "scattergl",
         "x": [
          2014,
          2019
         ],
         "xaxis": "x",
         "y": [
          1,
          1
         ],
         "yaxis": "y"
        },
        {
         "hovertemplate": "listed_in=Crime TV Shows, Romantic TV Shows, Spanish-Language TV Shows<br>release_year=%{x}<br>count=%{y}<extra></extra>",
         "legendgroup": "Crime TV Shows, Romantic TV Shows, Spanish-Language TV Shows",
         "line": {
          "color": "#FF97FF",
          "dash": "solid"
         },
         "marker": {
          "symbol": "circle"
         },
         "mode": "lines",
         "name": "Crime TV Shows, Romantic TV Shows, Spanish-Language TV Shows",
         "showlegend": true,
         "type": "scattergl",
         "x": [
          2014
         ],
         "xaxis": "x",
         "y": [
          1
         ],
         "yaxis": "y"
        },
        {
         "hovertemplate": "listed_in=Crime TV Shows, TV Comedies, TV Dramas<br>release_year=%{x}<br>count=%{y}<extra></extra>",
         "legendgroup": "Crime TV Shows, TV Comedies, TV Dramas",
         "line": {
          "color": "#FECB52",
          "dash": "solid"
         },
         "marker": {
          "symbol": "circle"
         },
         "mode": "lines",
         "name": "Crime TV Shows, TV Comedies, TV Dramas",
         "showlegend": true,
         "type": "scattergl",
         "x": [
          2014,
          2015,
          2017,
          2018,
          2020,
          2021
         ],
         "xaxis": "x",
         "y": [
          2,
          1,
          1,
          2,
          2,
          1
         ],
         "yaxis": "y"
        },
        {
         "hovertemplate": "listed_in=Horror Movies, Independent Movies, International Movies<br>release_year=%{x}<br>count=%{y}<extra></extra>",
         "legendgroup": "Horror Movies, Independent Movies, International Movies",
         "line": {
          "color": "#636efa",
          "dash": "solid"
         },
         "marker": {
          "symbol": "circle"
         },
         "mode": "lines",
         "name": "Horror Movies, Independent Movies, International Movies",
         "showlegend": true,
         "type": "scattergl",
         "x": [
          2014,
          2015,
          2017,
          2018,
          2019,
          2020,
          2021
         ],
         "xaxis": "x",
         "y": [
          2,
          1,
          2,
          2,
          1,
          1,
          1
         ],
         "yaxis": "y"
        },
        {
         "hovertemplate": "listed_in=International Movies, Sci-Fi & Fantasy, Thrillers<br>release_year=%{x}<br>count=%{y}<extra></extra>",
         "legendgroup": "International Movies, Sci-Fi & Fantasy, Thrillers",
         "line": {
          "color": "#EF553B",
          "dash": "solid"
         },
         "marker": {
          "symbol": "circle"
         },
         "mode": "lines",
         "name": "International Movies, Sci-Fi & Fantasy, Thrillers",
         "showlegend": true,
         "type": "scattergl",
         "x": [
          2014,
          2016,
          2017,
          2019
         ],
         "xaxis": "x",
         "y": [
          2,
          2,
          3,
          2
         ],
         "yaxis": "y"
        },
        {
         "hovertemplate": "listed_in=International TV Shows, Stand-Up Comedy & Talk Shows, TV Comedies<br>release_year=%{x}<br>count=%{y}<extra></extra>",
         "legendgroup": "International TV Shows, Stand-Up Comedy & Talk Shows, TV Comedies",
         "line": {
          "color": "#00cc96",
          "dash": "solid"
         },
         "marker": {
          "symbol": "circle"
         },
         "mode": "lines",
         "name": "International TV Shows, Stand-Up Comedy & Talk Shows, TV Comedies",
         "showlegend": true,
         "type": "scattergl",
         "x": [
          2014,
          2015,
          2017,
          2018,
          2019,
          2020
         ],
         "xaxis": "x",
         "y": [
          1,
          1,
          1,
          1,
          2,
          1
         ],
         "yaxis": "y"
        },
        {
         "hovertemplate": "listed_in=International TV Shows, TV Action & Adventure, TV Sci-Fi & Fantasy<br>release_year=%{x}<br>count=%{y}<extra></extra>",
         "legendgroup": "International TV Shows, TV Action & Adventure, TV Sci-Fi & Fantasy",
         "line": {
          "color": "#ab63fa",
          "dash": "solid"
         },
         "marker": {
          "symbol": "circle"
         },
         "mode": "lines",
         "name": "International TV Shows, TV Action & Adventure, TV Sci-Fi & Fantasy",
         "showlegend": true,
         "type": "scattergl",
         "x": [
          2014,
          2015,
          2016,
          2019
         ],
         "xaxis": "x",
         "y": [
          1,
          1,
          1,
          1
         ],
         "yaxis": "y"
        },
        {
         "hovertemplate": "listed_in=International TV Shows, TV Dramas, TV Horror<br>release_year=%{x}<br>count=%{y}<extra></extra>",
         "legendgroup": "International TV Shows, TV Dramas, TV Horror",
         "line": {
          "color": "#FFA15A",
          "dash": "solid"
         },
         "marker": {
          "symbol": "circle"
         },
         "mode": "lines",
         "name": "International TV Shows, TV Dramas, TV Horror",
         "showlegend": true,
         "type": "scattergl",
         "x": [
          2014,
          2015,
          2016,
          2017,
          2018,
          2019,
          2020
         ],
         "xaxis": "x",
         "y": [
          1,
          1,
          2,
          1,
          2,
          2,
          6
         ],
         "yaxis": "y"
        },
        {
         "hovertemplate": "listed_in=International TV Shows, TV Dramas, TV Thrillers<br>release_year=%{x}<br>count=%{y}<extra></extra>",
         "legendgroup": "International TV Shows, TV Dramas, TV Thrillers",
         "line": {
          "color": "#19d3f3",
          "dash": "solid"
         },
         "marker": {
          "symbol": "circle"
         },
         "mode": "lines",
         "name": "International TV Shows, TV Dramas, TV Thrillers",
         "showlegend": true,
         "type": "scattergl",
         "x": [
          2014,
          2015,
          2016,
          2018,
          2019,
          2020,
          2021
         ],
         "xaxis": "x",
         "y": [
          1,
          1,
          1,
          1,
          4,
          1,
          3
         ],
         "yaxis": "y"
        },
        {
         "hovertemplate": "listed_in=International TV Shows, TV Horror, TV Mysteries<br>release_year=%{x}<br>count=%{y}<extra></extra>",
         "legendgroup": "International TV Shows, TV Horror, TV Mysteries",
         "line": {
          "color": "#FF6692",
          "dash": "solid"
         },
         "marker": {
          "symbol": "circle"
         },
         "mode": "lines",
         "name": "International TV Shows, TV Horror, TV Mysteries",
         "showlegend": true,
         "type": "scattergl",
         "x": [
          2014,
          2018,
          2019,
          2020
         ],
         "xaxis": "x",
         "y": [
          1,
          2,
          1,
          5
         ],
         "yaxis": "y"
        },
        {
         "hovertemplate": "listed_in=Reality TV, TV Comedies<br>release_year=%{x}<br>count=%{y}<extra></extra>",
         "legendgroup": "Reality TV, TV Comedies",
         "line": {
          "color": "#B6E880",
          "dash": "solid"
         },
         "marker": {
          "symbol": "circle"
         },
         "mode": "lines",
         "name": "Reality TV, TV Comedies",
         "showlegend": true,
         "type": "scattergl",
         "x": [
          2014,
          2020
         ],
         "xaxis": "x",
         "y": [
          1,
          2
         ],
         "yaxis": "y"
        },
        {
         "hovertemplate": "listed_in=Romantic TV Shows, TV Dramas, TV Sci-Fi & Fantasy<br>release_year=%{x}<br>count=%{y}<extra></extra>",
         "legendgroup": "Romantic TV Shows, TV Dramas, TV Sci-Fi & Fantasy",
         "line": {
          "color": "#FF97FF",
          "dash": "solid"
         },
         "marker": {
          "symbol": "circle"
         },
         "mode": "lines",
         "name": "Romantic TV Shows, TV Dramas, TV Sci-Fi & Fantasy",
         "showlegend": true,
         "type": "scattergl",
         "x": [
          2014,
          2020
         ],
         "xaxis": "x",
         "y": [
          1,
          1
         ],
         "yaxis": "y"
        },
        {
         "hovertemplate": "listed_in=Action & Adventure, Independent Movies<br>release_year=%{x}<br>count=%{y}<extra></extra>",
         "legendgroup": "Action & Adventure, Independent Movies",
         "line": {
          "color": "#FECB52",
          "dash": "solid"
         },
         "marker": {
          "symbol": "circle"
         },
         "mode": "lines",
         "name": "Action & Adventure, Independent Movies",
         "showlegend": true,
         "type": "scattergl",
         "x": [
          2015,
          2016,
          2017,
          2018,
          2019
         ],
         "xaxis": "x",
         "y": [
          1,
          1,
          2,
          2,
          1
         ],
         "yaxis": "y"
        },
        {
         "hovertemplate": "listed_in=Anime Features<br>release_year=%{x}<br>count=%{y}<extra></extra>",
         "legendgroup": "Anime Features",
         "line": {
          "color": "#636efa",
          "dash": "solid"
         },
         "marker": {
          "symbol": "circle"
         },
         "mode": "lines",
         "name": "Anime Features",
         "showlegend": true,
         "type": "scattergl",
         "x": [
          2015
         ],
         "xaxis": "x",
         "y": [
          1
         ],
         "yaxis": "y"
        },
        {
         "hovertemplate": "listed_in=Anime Series, Crime TV Shows, TV Thrillers<br>release_year=%{x}<br>count=%{y}<extra></extra>",
         "legendgroup": "Anime Series, Crime TV Shows, TV Thrillers",
         "line": {
          "color": "#EF553B",
          "dash": "solid"
         },
         "marker": {
          "symbol": "circle"
         },
         "mode": "lines",
         "name": "Anime Series, Crime TV Shows, TV Thrillers",
         "showlegend": true,
         "type": "scattergl",
         "x": [
          2015
         ],
         "xaxis": "x",
         "y": [
          1
         ],
         "yaxis": "y"
        },
        {
         "hovertemplate": "listed_in=British TV Shows, International TV Shows, TV Comedies<br>release_year=%{x}<br>count=%{y}<extra></extra>",
         "legendgroup": "British TV Shows, International TV Shows, TV Comedies",
         "line": {
          "color": "#00cc96",
          "dash": "solid"
         },
         "marker": {
          "symbol": "circle"
         },
         "mode": "lines",
         "name": "British TV Shows, International TV Shows, TV Comedies",
         "showlegend": true,
         "type": "scattergl",
         "x": [
          2015,
          2016,
          2017,
          2018,
          2019,
          2020
         ],
         "xaxis": "x",
         "y": [
          1,
          2,
          2,
          2,
          5,
          5
         ],
         "yaxis": "y"
        },
        {
         "hovertemplate": "listed_in=British TV Shows, TV Dramas, TV Sci-Fi & Fantasy<br>release_year=%{x}<br>count=%{y}<extra></extra>",
         "legendgroup": "British TV Shows, TV Dramas, TV Sci-Fi & Fantasy",
         "line": {
          "color": "#ab63fa",
          "dash": "solid"
         },
         "marker": {
          "symbol": "circle"
         },
         "mode": "lines",
         "name": "British TV Shows, TV Dramas, TV Sci-Fi & Fantasy",
         "showlegend": true,
         "type": "scattergl",
         "x": [
          2015
         ],
         "xaxis": "x",
         "y": [
          1
         ],
         "yaxis": "y"
        },
        {
         "hovertemplate": "listed_in=Children & Family Movies, Dramas, Music & Musicals<br>release_year=%{x}<br>count=%{y}<extra></extra>",
         "legendgroup": "Children & Family Movies, Dramas, Music & Musicals",
         "line": {
          "color": "#FFA15A",
          "dash": "solid"
         },
         "marker": {
          "symbol": "circle"
         },
         "mode": "lines",
         "name": "Children & Family Movies, Dramas, Music & Musicals",
         "showlegend": true,
         "type": "scattergl",
         "x": [
          2015,
          2017
         ],
         "xaxis": "x",
         "y": [
          1,
          1
         ],
         "yaxis": "y"
        },
        {
         "hovertemplate": "listed_in=Classic & Cult TV, TV Horror, TV Mysteries<br>release_year=%{x}<br>count=%{y}<extra></extra>",
         "legendgroup": "Classic & Cult TV, TV Horror, TV Mysteries",
         "line": {
          "color": "#19d3f3",
          "dash": "solid"
         },
         "marker": {
          "symbol": "circle"
         },
         "mode": "lines",
         "name": "Classic & Cult TV, TV Horror, TV Mysteries",
         "showlegend": true,
         "type": "scattergl",
         "x": [
          2015
         ],
         "xaxis": "x",
         "y": [
          1
         ],
         "yaxis": "y"
        },
        {
         "hovertemplate": "listed_in=Comedies, Dramas, LGBTQ Movies<br>release_year=%{x}<br>count=%{y}<extra></extra>",
         "legendgroup": "Comedies, Dramas, LGBTQ Movies",
         "line": {
          "color": "#FF6692",
          "dash": "solid"
         },
         "marker": {
          "symbol": "circle"
         },
         "mode": "lines",
         "name": "Comedies, Dramas, LGBTQ Movies",
         "showlegend": true,
         "type": "scattergl",
         "x": [
          2015,
          2017,
          2019,
          2020
         ],
         "xaxis": "x",
         "y": [
          1,
          1,
          1,
          1
         ],
         "yaxis": "y"
        },
        {
         "hovertemplate": "listed_in=Comedies, LGBTQ Movies<br>release_year=%{x}<br>count=%{y}<extra></extra>",
         "legendgroup": "Comedies, LGBTQ Movies",
         "line": {
          "color": "#B6E880",
          "dash": "solid"
         },
         "marker": {
          "symbol": "circle"
         },
         "mode": "lines",
         "name": "Comedies, LGBTQ Movies",
         "showlegend": true,
         "type": "scattergl",
         "x": [
          2015,
          2018
         ],
         "xaxis": "x",
         "y": [
          1,
          1
         ],
         "yaxis": "y"
        },
        {
         "hovertemplate": "listed_in=Crime TV Shows, International TV Shows, TV Comedies<br>release_year=%{x}<br>count=%{y}<extra></extra>",
         "legendgroup": "Crime TV Shows, International TV Shows, TV Comedies",
         "line": {
          "color": "#FF97FF",
          "dash": "solid"
         },
         "marker": {
          "symbol": "circle"
         },
         "mode": "lines",
         "name": "Crime TV Shows, International TV Shows, TV Comedies",
         "showlegend": true,
         "type": "scattergl",
         "x": [
          2015,
          2017,
          2018,
          2019,
          2020,
          2021
         ],
         "xaxis": "x",
         "y": [
          1,
          3,
          2,
          1,
          1,
          2
         ],
         "yaxis": "y"
        },
        {
         "hovertemplate": "listed_in=Documentaries, Faith & Spirituality, International Movies<br>release_year=%{x}<br>count=%{y}<extra></extra>",
         "legendgroup": "Documentaries, Faith & Spirituality, International Movies",
         "line": {
          "color": "#FECB52",
          "dash": "solid"
         },
         "marker": {
          "symbol": "circle"
         },
         "mode": "lines",
         "name": "Documentaries, Faith & Spirituality, International Movies",
         "showlegend": true,
         "type": "scattergl",
         "x": [
          2015,
          2018
         ],
         "xaxis": "x",
         "y": [
          1,
          2
         ],
         "yaxis": "y"
        },
        {
         "hovertemplate": "listed_in=Documentaries, International Movies, LGBTQ Movies<br>release_year=%{x}<br>count=%{y}<extra></extra>",
         "legendgroup": "Documentaries, International Movies, LGBTQ Movies",
         "line": {
          "color": "#636efa",
          "dash": "solid"
         },
         "marker": {
          "symbol": "circle"
         },
         "mode": "lines",
         "name": "Documentaries, International Movies, LGBTQ Movies",
         "showlegend": true,
         "type": "scattergl",
         "x": [
          2015,
          2016,
          2017,
          2020
         ],
         "xaxis": "x",
         "y": [
          1,
          1,
          4,
          1
         ],
         "yaxis": "y"
        },
        {
         "hovertemplate": "listed_in=Documentaries, Stand-Up Comedy<br>release_year=%{x}<br>count=%{y}<extra></extra>",
         "legendgroup": "Documentaries, Stand-Up Comedy",
         "line": {
          "color": "#EF553B",
          "dash": "solid"
         },
         "marker": {
          "symbol": "circle"
         },
         "mode": "lines",
         "name": "Documentaries, Stand-Up Comedy",
         "showlegend": true,
         "type": "scattergl",
         "x": [
          2015,
          2019
         ],
         "xaxis": "x",
         "y": [
          1,
          1
         ],
         "yaxis": "y"
        },
        {
         "hovertemplate": "listed_in=Dramas, LGBTQ Movies<br>release_year=%{x}<br>count=%{y}<extra></extra>",
         "legendgroup": "Dramas, LGBTQ Movies",
         "line": {
          "color": "#00cc96",
          "dash": "solid"
         },
         "marker": {
          "symbol": "circle"
         },
         "mode": "lines",
         "name": "Dramas, LGBTQ Movies",
         "showlegend": true,
         "type": "scattergl",
         "x": [
          2015,
          2016,
          2017,
          2020
         ],
         "xaxis": "x",
         "y": [
          2,
          1,
          2,
          2
         ],
         "yaxis": "y"
        },
        {
         "hovertemplate": "listed_in=Dramas, LGBTQ Movies, Romantic Movies<br>release_year=%{x}<br>count=%{y}<extra></extra>",
         "legendgroup": "Dramas, LGBTQ Movies, Romantic Movies",
         "line": {
          "color": "#ab63fa",
          "dash": "solid"
         },
         "marker": {
          "symbol": "circle"
         },
         "mode": "lines",
         "name": "Dramas, LGBTQ Movies, Romantic Movies",
         "showlegend": true,
         "type": "scattergl",
         "x": [
          2015,
          2020
         ],
         "xaxis": "x",
         "y": [
          1,
          1
         ],
         "yaxis": "y"
        },
        {
         "hovertemplate": "listed_in=Horror Movies, Romantic Movies, Sci-Fi & Fantasy<br>release_year=%{x}<br>count=%{y}<extra></extra>",
         "legendgroup": "Horror Movies, Romantic Movies, Sci-Fi & Fantasy",
         "line": {
          "color": "#FFA15A",
          "dash": "solid"
         },
         "marker": {
          "symbol": "circle"
         },
         "mode": "lines",
         "name": "Horror Movies, Romantic Movies, Sci-Fi & Fantasy",
         "showlegend": true,
         "type": "scattergl",
         "x": [
          2015
         ],
         "xaxis": "x",
         "y": [
          1
         ],
         "yaxis": "y"
        },
        {
         "hovertemplate": "listed_in=International Movies, Music & Musicals<br>release_year=%{x}<br>count=%{y}<extra></extra>",
         "legendgroup": "International Movies, Music & Musicals",
         "line": {
          "color": "#19d3f3",
          "dash": "solid"
         },
         "marker": {
          "symbol": "circle"
         },
         "mode": "lines",
         "name": "International Movies, Music & Musicals",
         "showlegend": true,
         "type": "scattergl",
         "x": [
          2015,
          2017,
          2018,
          2019,
          2020
         ],
         "xaxis": "x",
         "y": [
          1,
          1,
          2,
          2,
          5
         ],
         "yaxis": "y"
        },
        {
         "hovertemplate": "listed_in=International TV Shows, Korean TV Shows, Reality TV<br>release_year=%{x}<br>count=%{y}<extra></extra>",
         "legendgroup": "International TV Shows, Korean TV Shows, Reality TV",
         "line": {
          "color": "#FF6692",
          "dash": "solid"
         },
         "marker": {
          "symbol": "circle"
         },
         "mode": "lines",
         "name": "International TV Shows, Korean TV Shows, Reality TV",
         "showlegend": true,
         "type": "scattergl",
         "x": [
          2015,
          2017,
          2018,
          2020
         ],
         "xaxis": "x",
         "y": [
          2,
          1,
          1,
          2
         ],
         "yaxis": "y"
        },
        {
         "hovertemplate": "listed_in=International TV Shows, Korean TV Shows, Stand-Up Comedy & Talk Shows<br>release_year=%{x}<br>count=%{y}<extra></extra>",
         "legendgroup": "International TV Shows, Korean TV Shows, Stand-Up Comedy & Talk Shows",
         "line": {
          "color": "#B6E880",
          "dash": "solid"
         },
         "marker": {
          "symbol": "circle"
         },
         "mode": "lines",
         "name": "International TV Shows, Korean TV Shows, Stand-Up Comedy & Talk Shows",
         "showlegend": true,
         "type": "scattergl",
         "x": [
          2015,
          2017,
          2021
         ],
         "xaxis": "x",
         "y": [
          1,
          1,
          1
         ],
         "yaxis": "y"
        },
        {
         "hovertemplate": "listed_in=International TV Shows, TV Horror, TV Thrillers<br>release_year=%{x}<br>count=%{y}<extra></extra>",
         "legendgroup": "International TV Shows, TV Horror, TV Thrillers",
         "line": {
          "color": "#FF97FF",
          "dash": "solid"
         },
         "marker": {
          "symbol": "circle"
         },
         "mode": "lines",
         "name": "International TV Shows, TV Horror, TV Thrillers",
         "showlegend": true,
         "type": "scattergl",
         "x": [
          2015,
          2018
         ],
         "xaxis": "x",
         "y": [
          2,
          1
         ],
         "yaxis": "y"
        },
        {
         "hovertemplate": "listed_in=Kids' TV, Korean TV Shows, TV Comedies<br>release_year=%{x}<br>count=%{y}<extra></extra>",
         "legendgroup": "Kids' TV, Korean TV Shows, TV Comedies",
         "line": {
          "color": "#FECB52",
          "dash": "solid"
         },
         "marker": {
          "symbol": "circle"
         },
         "mode": "lines",
         "name": "Kids' TV, Korean TV Shows, TV Comedies",
         "showlegend": true,
         "type": "scattergl",
         "x": [
          2015,
          2016,
          2018,
          2019
         ],
         "xaxis": "x",
         "y": [
          1,
          1,
          1,
          1
         ],
         "yaxis": "y"
        },
        {
         "hovertemplate": "listed_in=Kids' TV, Spanish-Language TV Shows<br>release_year=%{x}<br>count=%{y}<extra></extra>",
         "legendgroup": "Kids' TV, Spanish-Language TV Shows",
         "line": {
          "color": "#636efa",
          "dash": "solid"
         },
         "marker": {
          "symbol": "circle"
         },
         "mode": "lines",
         "name": "Kids' TV, Spanish-Language TV Shows",
         "showlegend": true,
         "type": "scattergl",
         "x": [
          2015,
          2017,
          2019
         ],
         "xaxis": "x",
         "y": [
          1,
          2,
          1
         ],
         "yaxis": "y"
        },
        {
         "hovertemplate": "listed_in=TV Action & Adventure, TV Comedies, TV Sci-Fi & Fantasy<br>release_year=%{x}<br>count=%{y}<extra></extra>",
         "legendgroup": "TV Action & Adventure, TV Comedies, TV Sci-Fi & Fantasy",
         "line": {
          "color": "#EF553B",
          "dash": "solid"
         },
         "marker": {
          "symbol": "circle"
         },
         "mode": "lines",
         "name": "TV Action & Adventure, TV Comedies, TV Sci-Fi & Fantasy",
         "showlegend": true,
         "type": "scattergl",
         "x": [
          2015,
          2021
         ],
         "xaxis": "x",
         "y": [
          1,
          1
         ],
         "yaxis": "y"
        },
        {
         "hovertemplate": "listed_in=TV Comedies, TV Dramas, Teen TV Shows<br>release_year=%{x}<br>count=%{y}<extra></extra>",
         "legendgroup": "TV Comedies, TV Dramas, Teen TV Shows",
         "line": {
          "color": "#00cc96",
          "dash": "solid"
         },
         "marker": {
          "symbol": "circle"
         },
         "mode": "lines",
         "name": "TV Comedies, TV Dramas, Teen TV Shows",
         "showlegend": true,
         "type": "scattergl",
         "x": [
          2015,
          2016,
          2018,
          2019,
          2020,
          2021
         ],
         "xaxis": "x",
         "y": [
          1,
          1,
          1,
          1,
          1,
          2
         ],
         "yaxis": "y"
        },
        {
         "hovertemplate": "listed_in=TV Dramas, TV Horror, TV Mysteries<br>release_year=%{x}<br>count=%{y}<extra></extra>",
         "legendgroup": "TV Dramas, TV Horror, TV Mysteries",
         "line": {
          "color": "#ab63fa",
          "dash": "solid"
         },
         "marker": {
          "symbol": "circle"
         },
         "mode": "lines",
         "name": "TV Dramas, TV Horror, TV Mysteries",
         "showlegend": true,
         "type": "scattergl",
         "x": [
          2015,
          2016,
          2017,
          2018,
          2020,
          2021
         ],
         "xaxis": "x",
         "y": [
          1,
          1,
          1,
          2,
          2,
          2
         ],
         "yaxis": "y"
        },
        {
         "hovertemplate": "listed_in=TV Dramas, TV Thrillers<br>release_year=%{x}<br>count=%{y}<extra></extra>",
         "legendgroup": "TV Dramas, TV Thrillers",
         "line": {
          "color": "#FFA15A",
          "dash": "solid"
         },
         "marker": {
          "symbol": "circle"
         },
         "mode": "lines",
         "name": "TV Dramas, TV Thrillers",
         "showlegend": true,
         "type": "scattergl",
         "x": [
          2015,
          2016,
          2018,
          2019,
          2020
         ],
         "xaxis": "x",
         "y": [
          1,
          1,
          1,
          1,
          1
         ],
         "yaxis": "y"
        },
        {
         "hovertemplate": "listed_in=TV Horror, TV Mysteries, TV Sci-Fi & Fantasy<br>release_year=%{x}<br>count=%{y}<extra></extra>",
         "legendgroup": "TV Horror, TV Mysteries, TV Sci-Fi & Fantasy",
         "line": {
          "color": "#19d3f3",
          "dash": "solid"
         },
         "marker": {
          "symbol": "circle"
         },
         "mode": "lines",
         "name": "TV Horror, TV Mysteries, TV Sci-Fi & Fantasy",
         "showlegend": true,
         "type": "scattergl",
         "x": [
          2015,
          2018,
          2019,
          2020
         ],
         "xaxis": "x",
         "y": [
          1,
          1,
          1,
          1
         ],
         "yaxis": "y"
        },
        {
         "hovertemplate": "listed_in=TV Horror, TV Mysteries, TV Thrillers<br>release_year=%{x}<br>count=%{y}<extra></extra>",
         "legendgroup": "TV Horror, TV Mysteries, TV Thrillers",
         "line": {
          "color": "#FF6692",
          "dash": "solid"
         },
         "marker": {
          "symbol": "circle"
         },
         "mode": "lines",
         "name": "TV Horror, TV Mysteries, TV Thrillers",
         "showlegend": true,
         "type": "scattergl",
         "x": [
          2015,
          2019
         ],
         "xaxis": "x",
         "y": [
          2,
          2
         ],
         "yaxis": "y"
        },
        {
         "hovertemplate": "listed_in=Action & Adventure, Anime Features, Horror Movies<br>release_year=%{x}<br>count=%{y}<extra></extra>",
         "legendgroup": "Action & Adventure, Anime Features, Horror Movies",
         "line": {
          "color": "#B6E880",
          "dash": "solid"
         },
         "marker": {
          "symbol": "circle"
         },
         "mode": "lines",
         "name": "Action & Adventure, Anime Features, Horror Movies",
         "showlegend": true,
         "type": "scattergl",
         "x": [
          2016
         ],
         "xaxis": "x",
         "y": [
          1
         ],
         "yaxis": "y"
        },
        {
         "hovertemplate": "listed_in=Action & Adventure, Independent Movies, International Movies<br>release_year=%{x}<br>count=%{y}<extra></extra>",
         "legendgroup": "Action & Adventure, Independent Movies, International Movies",
         "line": {
          "color": "#FF97FF",
          "dash": "solid"
         },
         "marker": {
          "symbol": "circle"
         },
         "mode": "lines",
         "name": "Action & Adventure, Independent Movies, International Movies",
         "showlegend": true,
         "type": "scattergl",
         "x": [
          2016,
          2018,
          2019
         ],
         "xaxis": "x",
         "y": [
          1,
          1,
          1
         ],
         "yaxis": "y"
        },
        {
         "hovertemplate": "listed_in=Action & Adventure, International Movies, Thrillers<br>release_year=%{x}<br>count=%{y}<extra></extra>",
         "legendgroup": "Action & Adventure, International Movies, Thrillers",
         "line": {
          "color": "#FECB52",
          "dash": "solid"
         },
         "marker": {
          "symbol": "circle"
         },
         "mode": "lines",
         "name": "Action & Adventure, International Movies, Thrillers",
         "showlegend": true,
         "type": "scattergl",
         "x": [
          2016,
          2021
         ],
         "xaxis": "x",
         "y": [
          1,
          1
         ],
         "yaxis": "y"
        },
        {
         "hovertemplate": "listed_in=Action & Adventure, Romantic Movies, Sci-Fi & Fantasy<br>release_year=%{x}<br>count=%{y}<extra></extra>",
         "legendgroup": "Action & Adventure, Romantic Movies, Sci-Fi & Fantasy",
         "line": {
          "color": "#636efa",
          "dash": "solid"
         },
         "marker": {
          "symbol": "circle"
         },
         "mode": "lines",
         "name": "Action & Adventure, Romantic Movies, Sci-Fi & Fantasy",
         "showlegend": true,
         "type": "scattergl",
         "x": [
          2016
         ],
         "xaxis": "x",
         "y": [
          1
         ],
         "yaxis": "y"
        },
        {
         "hovertemplate": "listed_in=Anime Features, Children & Family Movies<br>release_year=%{x}<br>count=%{y}<extra></extra>",
         "legendgroup": "Anime Features, Children & Family Movies",
         "line": {
          "color": "#EF553B",
          "dash": "solid"
         },
         "marker": {
          "symbol": "circle"
         },
         "mode": "lines",
         "name": "Anime Features, Children & Family Movies",
         "showlegend": true,
         "type": "scattergl",
         "x": [
          2016,
          2017,
          2018,
          2019
         ],
         "xaxis": "x",
         "y": [
          1,
          2,
          3,
          1
         ],
         "yaxis": "y"
        },
        {
         "hovertemplate": "listed_in=Anime Features, Children & Family Movies, International Movies<br>release_year=%{x}<br>count=%{y}<extra></extra>",
         "legendgroup": "Anime Features, Children & Family Movies, International Movies",
         "line": {
          "color": "#00cc96",
          "dash": "solid"
         },
         "marker": {
          "symbol": "circle"
         },
         "mode": "lines",
         "name": "Anime Features, Children & Family Movies, International Movies",
         "showlegend": true,
         "type": "scattergl",
         "x": [
          2016,
          2020,
          2021
         ],
         "xaxis": "x",
         "y": [
          1,
          1,
          1
         ],
         "yaxis": "y"
        },
        {
         "hovertemplate": "listed_in=Anime Features, International Movies<br>release_year=%{x}<br>count=%{y}<extra></extra>",
         "legendgroup": "Anime Features, International Movies",
         "line": {
          "color": "#ab63fa",
          "dash": "solid"
         },
         "marker": {
          "symbol": "circle"
         },
         "mode": "lines",
         "name": "Anime Features, International Movies",
         "showlegend": true,
         "type": "scattergl",
         "x": [
          2016,
          2019
         ],
         "xaxis": "x",
         "y": [
          1,
          1
         ],
         "yaxis": "y"
        },
        {
         "hovertemplate": "listed_in=Anime Series, International TV Shows, TV Thrillers<br>release_year=%{x}<br>count=%{y}<extra></extra>",
         "legendgroup": "Anime Series, International TV Shows, TV Thrillers",
         "line": {
          "color": "#FFA15A",
          "dash": "solid"
         },
         "marker": {
          "symbol": "circle"
         },
         "mode": "lines",
         "name": "Anime Series, International TV Shows, TV Thrillers",
         "showlegend": true,
         "type": "scattergl",
         "x": [
          2016,
          2018,
          2019,
          2020,
          2021
         ],
         "xaxis": "x",
         "y": [
          1,
          1,
          1,
          1,
          1
         ],
         "yaxis": "y"
        },
        {
         "hovertemplate": "listed_in=British TV Shows, Docuseries, Reality TV<br>release_year=%{x}<br>count=%{y}<extra></extra>",
         "legendgroup": "British TV Shows, Docuseries, Reality TV",
         "line": {
          "color": "#19d3f3",
          "dash": "solid"
         },
         "marker": {
          "symbol": "circle"
         },
         "mode": "lines",
         "name": "British TV Shows, Docuseries, Reality TV",
         "showlegend": true,
         "type": "scattergl",
         "x": [
          2016
         ],
         "xaxis": "x",
         "y": [
          1
         ],
         "yaxis": "y"
        },
        {
         "hovertemplate": "listed_in=British TV Shows, International TV Shows, Romantic TV Shows<br>release_year=%{x}<br>count=%{y}<extra></extra>",
         "legendgroup": "British TV Shows, International TV Shows, Romantic TV Shows",
         "line": {
          "color": "#FF6692",
          "dash": "solid"
         },
         "marker": {
          "symbol": "circle"
         },
         "mode": "lines",
         "name": "British TV Shows, International TV Shows, Romantic TV Shows",
         "showlegend": true,
         "type": "scattergl",
         "x": [
          2016,
          2017,
          2018
         ],
         "xaxis": "x",
         "y": [
          1,
          2,
          4
         ],
         "yaxis": "y"
        },
        {
         "hovertemplate": "listed_in=Children & Family Movies, Comedies, Cult Movies<br>release_year=%{x}<br>count=%{y}<extra></extra>",
         "legendgroup": "Children & Family Movies, Comedies, Cult Movies",
         "line": {
          "color": "#B6E880",
          "dash": "solid"
         },
         "marker": {
          "symbol": "circle"
         },
         "mode": "lines",
         "name": "Children & Family Movies, Comedies, Cult Movies",
         "showlegend": true,
         "type": "scattergl",
         "x": [
          2016
         ],
         "xaxis": "x",
         "y": [
          1
         ],
         "yaxis": "y"
        },
        {
         "hovertemplate": "listed_in=Children & Family Movies, Documentaries<br>release_year=%{x}<br>count=%{y}<extra></extra>",
         "legendgroup": "Children & Family Movies, Documentaries",
         "line": {
          "color": "#FF97FF",
          "dash": "solid"
         },
         "marker": {
          "symbol": "circle"
         },
         "mode": "lines",
         "name": "Children & Family Movies, Documentaries",
         "showlegend": true,
         "type": "scattergl",
         "x": [
          2016,
          2017,
          2018,
          2020
         ],
         "xaxis": "x",
         "y": [
          1,
          5,
          1,
          2
         ],
         "yaxis": "y"
        },
        {
         "hovertemplate": "listed_in=Classic & Cult TV, TV Action & Adventure, TV Horror<br>release_year=%{x}<br>count=%{y}<extra></extra>",
         "legendgroup": "Classic & Cult TV, TV Action & Adventure, TV Horror",
         "line": {
          "color": "#FECB52",
          "dash": "solid"
         },
         "marker": {
          "symbol": "circle"
         },
         "mode": "lines",
         "name": "Classic & Cult TV, TV Action & Adventure, TV Horror",
         "showlegend": true,
         "type": "scattergl",
         "x": [
          2016,
          2019
         ],
         "xaxis": "x",
         "y": [
          1,
          1
         ],
         "yaxis": "y"
        },
        {
         "hovertemplate": "listed_in=Comedies, Documentaries, International Movies<br>release_year=%{x}<br>count=%{y}<extra></extra>",
         "legendgroup": "Comedies, Documentaries, International Movies",
         "line": {
          "color": "#636efa",
          "dash": "solid"
         },
         "marker": {
          "symbol": "circle"
         },
         "mode": "lines",
         "name": "Comedies, Documentaries, International Movies",
         "showlegend": true,
         "type": "scattergl",
         "x": [
          2016
         ],
         "xaxis": "x",
         "y": [
          1
         ],
         "yaxis": "y"
        },
        {
         "hovertemplate": "listed_in=Comedies, Dramas, Faith & Spirituality<br>release_year=%{x}<br>count=%{y}<extra></extra>",
         "legendgroup": "Comedies, Dramas, Faith & Spirituality",
         "line": {
          "color": "#EF553B",
          "dash": "solid"
         },
         "marker": {
          "symbol": "circle"
         },
         "mode": "lines",
         "name": "Comedies, Dramas, Faith & Spirituality",
         "showlegend": true,
         "type": "scattergl",
         "x": [
          2016,
          2017
         ],
         "xaxis": "x",
         "y": [
          1,
          1
         ],
         "yaxis": "y"
        },
        {
         "hovertemplate": "listed_in=Comedies, Dramas, Music & Musicals<br>release_year=%{x}<br>count=%{y}<extra></extra>",
         "legendgroup": "Comedies, Dramas, Music & Musicals",
         "line": {
          "color": "#00cc96",
          "dash": "solid"
         },
         "marker": {
          "symbol": "circle"
         },
         "mode": "lines",
         "name": "Comedies, Dramas, Music & Musicals",
         "showlegend": true,
         "type": "scattergl",
         "x": [
          2016,
          2019,
          2021
         ],
         "xaxis": "x",
         "y": [
          1,
          2,
          1
         ],
         "yaxis": "y"
        },
        {
         "hovertemplate": "listed_in=Comedies, Independent Movies, Music & Musicals<br>release_year=%{x}<br>count=%{y}<extra></extra>",
         "legendgroup": "Comedies, Independent Movies, Music & Musicals",
         "line": {
          "color": "#ab63fa",
          "dash": "solid"
         },
         "marker": {
          "symbol": "circle"
         },
         "mode": "lines",
         "name": "Comedies, Independent Movies, Music & Musicals",
         "showlegend": true,
         "type": "scattergl",
         "x": [
          2016
         ],
         "xaxis": "x",
         "y": [
          1
         ],
         "yaxis": "y"
        },
        {
         "hovertemplate": "listed_in=Comedies, Independent Movies, Thrillers<br>release_year=%{x}<br>count=%{y}<extra></extra>",
         "legendgroup": "Comedies, Independent Movies, Thrillers",
         "line": {
          "color": "#FFA15A",
          "dash": "solid"
         },
         "marker": {
          "symbol": "circle"
         },
         "mode": "lines",
         "name": "Comedies, Independent Movies, Thrillers",
         "showlegend": true,
         "type": "scattergl",
         "x": [
          2016,
          2017
         ],
         "xaxis": "x",
         "y": [
          1,
          1
         ],
         "yaxis": "y"
        },
        {
         "hovertemplate": "listed_in=Comedies, International Movies, LGBTQ Movies<br>release_year=%{x}<br>count=%{y}<extra></extra>",
         "legendgroup": "Comedies, International Movies, LGBTQ Movies",
         "line": {
          "color": "#19d3f3",
          "dash": "solid"
         },
         "marker": {
          "symbol": "circle"
         },
         "mode": "lines",
         "name": "Comedies, International Movies, LGBTQ Movies",
         "showlegend": true,
         "type": "scattergl",
         "x": [
          2016,
          2018,
          2019,
          2020
         ],
         "xaxis": "x",
         "y": [
          1,
          3,
          3,
          1
         ],
         "yaxis": "y"
        },
        {
         "hovertemplate": "listed_in=Crime TV Shows, Kids' TV, TV Comedies<br>release_year=%{x}<br>count=%{y}<extra></extra>",
         "legendgroup": "Crime TV Shows, Kids' TV, TV Comedies",
         "line": {
          "color": "#FF6692",
          "dash": "solid"
         },
         "marker": {
          "symbol": "circle"
         },
         "mode": "lines",
         "name": "Crime TV Shows, Kids' TV, TV Comedies",
         "showlegend": true,
         "type": "scattergl",
         "x": [
          2016,
          2017
         ],
         "xaxis": "x",
         "y": [
          1,
          1
         ],
         "yaxis": "y"
        },
        {
         "hovertemplate": "listed_in=Crime TV Shows, Romantic TV Shows, TV Dramas<br>release_year=%{x}<br>count=%{y}<extra></extra>",
         "legendgroup": "Crime TV Shows, Romantic TV Shows, TV Dramas",
         "line": {
          "color": "#B6E880",
          "dash": "solid"
         },
         "marker": {
          "symbol": "circle"
         },
         "mode": "lines",
         "name": "Crime TV Shows, Romantic TV Shows, TV Dramas",
         "showlegend": true,
         "type": "scattergl",
         "x": [
          2016,
          2019
         ],
         "xaxis": "x",
         "y": [
          1,
          1
         ],
         "yaxis": "y"
        },
        {
         "hovertemplate": "listed_in=Crime TV Shows, Spanish-Language TV Shows, TV Action & Adventure<br>release_year=%{x}<br>count=%{y}<extra></extra>",
         "legendgroup": "Crime TV Shows, Spanish-Language TV Shows, TV Action & Adventure",
         "line": {
          "color": "#FF97FF",
          "dash": "solid"
         },
         "marker": {
          "symbol": "circle"
         },
         "mode": "lines",
         "name": "Crime TV Shows, Spanish-Language TV Shows, TV Action & Adventure",
         "showlegend": true,
         "type": "scattergl",
         "x": [
          2016,
          2018
         ],
         "xaxis": "x",
         "y": [
          1,
          1
         ],
         "yaxis": "y"
        },
        {
         "hovertemplate": "listed_in=Crime TV Shows, TV Action & Adventure<br>release_year=%{x}<br>count=%{y}<extra></extra>",
         "legendgroup": "Crime TV Shows, TV Action & Adventure",
         "line": {
          "color": "#FECB52",
          "dash": "solid"
         },
         "marker": {
          "symbol": "circle"
         },
         "mode": "lines",
         "name": "Crime TV Shows, TV Action & Adventure",
         "showlegend": true,
         "type": "scattergl",
         "x": [
          2016,
          2018,
          2019
         ],
         "xaxis": "x",
         "y": [
          1,
          1,
          1
         ],
         "yaxis": "y"
        },
        {
         "hovertemplate": "listed_in=Crime TV Shows, TV Action & Adventure, TV Dramas<br>release_year=%{x}<br>count=%{y}<extra></extra>",
         "legendgroup": "Crime TV Shows, TV Action & Adventure, TV Dramas",
         "line": {
          "color": "#636efa",
          "dash": "solid"
         },
         "marker": {
          "symbol": "circle"
         },
         "mode": "lines",
         "name": "Crime TV Shows, TV Action & Adventure, TV Dramas",
         "showlegend": true,
         "type": "scattergl",
         "x": [
          2016,
          2017,
          2018,
          2019,
          2020
         ],
         "xaxis": "x",
         "y": [
          1,
          2,
          4,
          2,
          2
         ],
         "yaxis": "y"
        },
        {
         "hovertemplate": "listed_in=Crime TV Shows, TV Comedies<br>release_year=%{x}<br>count=%{y}<extra></extra>",
         "legendgroup": "Crime TV Shows, TV Comedies",
         "line": {
          "color": "#EF553B",
          "dash": "solid"
         },
         "marker": {
          "symbol": "circle"
         },
         "mode": "lines",
         "name": "Crime TV Shows, TV Comedies",
         "showlegend": true,
         "type": "scattergl",
         "x": [
          2016
         ],
         "xaxis": "x",
         "y": [
          1
         ],
         "yaxis": "y"
        },
        {
         "hovertemplate": "listed_in=Documentaries, Dramas, International Movies<br>release_year=%{x}<br>count=%{y}<extra></extra>",
         "legendgroup": "Documentaries, Dramas, International Movies",
         "line": {
          "color": "#00cc96",
          "dash": "solid"
         },
         "marker": {
          "symbol": "circle"
         },
         "mode": "lines",
         "name": "Documentaries, Dramas, International Movies",
         "showlegend": true,
         "type": "scattergl",
         "x": [
          2016,
          2017
         ],
         "xaxis": "x",
         "y": [
          1,
          1
         ],
         "yaxis": "y"
        },
        {
         "hovertemplate": "listed_in=Documentaries, Faith & Spirituality, Music & Musicals<br>release_year=%{x}<br>count=%{y}<extra></extra>",
         "legendgroup": "Documentaries, Faith & Spirituality, Music & Musicals",
         "line": {
          "color": "#ab63fa",
          "dash": "solid"
         },
         "marker": {
          "symbol": "circle"
         },
         "mode": "lines",
         "name": "Documentaries, Faith & Spirituality, Music & Musicals",
         "showlegend": true,
         "type": "scattergl",
         "x": [
          2016
         ],
         "xaxis": "x",
         "y": [
          1
         ],
         "yaxis": "y"
        },
        {
         "hovertemplate": "listed_in=Docuseries, International TV Shows, Reality TV<br>release_year=%{x}<br>count=%{y}<extra></extra>",
         "legendgroup": "Docuseries, International TV Shows, Reality TV",
         "line": {
          "color": "#FFA15A",
          "dash": "solid"
         },
         "marker": {
          "symbol": "circle"
         },
         "mode": "lines",
         "name": "Docuseries, International TV Shows, Reality TV",
         "showlegend": true,
         "type": "scattergl",
         "x": [
          2016,
          2018,
          2020,
          2021
         ],
         "xaxis": "x",
         "y": [
          2,
          1,
          1,
          1
         ],
         "yaxis": "y"
        },
        {
         "hovertemplate": "listed_in=Docuseries, Reality TV, Science & Nature TV<br>release_year=%{x}<br>count=%{y}<extra></extra>",
         "legendgroup": "Docuseries, Reality TV, Science & Nature TV",
         "line": {
          "color": "#19d3f3",
          "dash": "solid"
         },
         "marker": {
          "symbol": "circle"
         },
         "mode": "lines",
         "name": "Docuseries, Reality TV, Science & Nature TV",
         "showlegend": true,
         "type": "scattergl",
         "x": [
          2016,
          2018,
          2020,
          2021
         ],
         "xaxis": "x",
         "y": [
          1,
          1,
          2,
          1
         ],
         "yaxis": "y"
        },
        {
         "hovertemplate": "listed_in=Dramas, Independent Movies, Sports Movies<br>release_year=%{x}<br>count=%{y}<extra></extra>",
         "legendgroup": "Dramas, Independent Movies, Sports Movies",
         "line": {
          "color": "#FF6692",
          "dash": "solid"
         },
         "marker": {
          "symbol": "circle"
         },
         "mode": "lines",
         "name": "Dramas, Independent Movies, Sports Movies",
         "showlegend": true,
         "type": "scattergl",
         "x": [
          2016,
          2017,
          2018,
          2019
         ],
         "xaxis": "x",
         "y": [
          1,
          3,
          3,
          1
         ],
         "yaxis": "y"
        },
        {
         "hovertemplate": "listed_in=Dramas, Sci-Fi & Fantasy<br>release_year=%{x}<br>count=%{y}<extra></extra>",
         "legendgroup": "Dramas, Sci-Fi & Fantasy",
         "line": {
          "color": "#B6E880",
          "dash": "solid"
         },
         "marker": {
          "symbol": "circle"
         },
         "mode": "lines",
         "name": "Dramas, Sci-Fi & Fantasy",
         "showlegend": true,
         "type": "scattergl",
         "x": [
          2016,
          2017,
          2018,
          2019
         ],
         "xaxis": "x",
         "y": [
          2,
          1,
          1,
          2
         ],
         "yaxis": "y"
        },
        {
         "hovertemplate": "listed_in=Horror Movies, Independent Movies, Sci-Fi & Fantasy<br>release_year=%{x}<br>count=%{y}<extra></extra>",
         "legendgroup": "Horror Movies, Independent Movies, Sci-Fi & Fantasy",
         "line": {
          "color": "#FF97FF",
          "dash": "solid"
         },
         "marker": {
          "symbol": "circle"
         },
         "mode": "lines",
         "name": "Horror Movies, Independent Movies, Sci-Fi & Fantasy",
         "showlegend": true,
         "type": "scattergl",
         "x": [
          2016,
          2018,
          2019
         ],
         "xaxis": "x",
         "y": [
          1,
          1,
          1
         ],
         "yaxis": "y"
        },
        {
         "hovertemplate": "listed_in=International Movies<br>release_year=%{x}<br>count=%{y}<extra></extra>",
         "legendgroup": "International Movies",
         "line": {
          "color": "#FECB52",
          "dash": "solid"
         },
         "marker": {
          "symbol": "circle"
         },
         "mode": "lines",
         "name": "International Movies",
         "showlegend": true,
         "type": "scattergl",
         "x": [
          2016,
          2018,
          2019
         ],
         "xaxis": "x",
         "y": [
          1,
          1,
          1
         ],
         "yaxis": "y"
        },
        {
         "hovertemplate": "listed_in=International Movies, Romantic Movies, Sci-Fi & Fantasy<br>release_year=%{x}<br>count=%{y}<extra></extra>",
         "legendgroup": "International Movies, Romantic Movies, Sci-Fi & Fantasy",
         "line": {
          "color": "#636efa",
          "dash": "solid"
         },
         "marker": {
          "symbol": "circle"
         },
         "mode": "lines",
         "name": "International Movies, Romantic Movies, Sci-Fi & Fantasy",
         "showlegend": true,
         "type": "scattergl",
         "x": [
          2016
         ],
         "xaxis": "x",
         "y": [
          1
         ],
         "yaxis": "y"
        },
        {
         "hovertemplate": "listed_in=International TV Shows, Korean TV Shows, TV Comedies<br>release_year=%{x}<br>count=%{y}<extra></extra>",
         "legendgroup": "International TV Shows, Korean TV Shows, TV Comedies",
         "line": {
          "color": "#EF553B",
          "dash": "solid"
         },
         "marker": {
          "symbol": "circle"
         },
         "mode": "lines",
         "name": "International TV Shows, Korean TV Shows, TV Comedies",
         "showlegend": true,
         "type": "scattergl",
         "x": [
          2016,
          2017,
          2018,
          2020,
          2021
         ],
         "xaxis": "x",
         "y": [
          2,
          2,
          3,
          1,
          1
         ],
         "yaxis": "y"
        },
        {
         "hovertemplate": "listed_in=International TV Shows, Reality TV, Spanish-Language TV Shows<br>release_year=%{x}<br>count=%{y}<extra></extra>",
         "legendgroup": "International TV Shows, Reality TV, Spanish-Language TV Shows",
         "line": {
          "color": "#00cc96",
          "dash": "solid"
         },
         "marker": {
          "symbol": "circle"
         },
         "mode": "lines",
         "name": "International TV Shows, Reality TV, Spanish-Language TV Shows",
         "showlegend": true,
         "type": "scattergl",
         "x": [
          2016,
          2018,
          2019,
          2020,
          2021
         ],
         "xaxis": "x",
         "y": [
          2,
          1,
          3,
          1,
          3
         ],
         "yaxis": "y"
        },
        {
         "hovertemplate": "listed_in=International TV Shows, Reality TV, TV Comedies<br>release_year=%{x}<br>count=%{y}<extra></extra>",
         "legendgroup": "International TV Shows, Reality TV, TV Comedies",
         "line": {
          "color": "#ab63fa",
          "dash": "solid"
         },
         "marker": {
          "symbol": "circle"
         },
         "mode": "lines",
         "name": "International TV Shows, Reality TV, TV Comedies",
         "showlegend": true,
         "type": "scattergl",
         "x": [
          2016,
          2020
         ],
         "xaxis": "x",
         "y": [
          1,
          1
         ],
         "yaxis": "y"
        },
        {
         "hovertemplate": "listed_in=International TV Shows, Romantic TV Shows, Teen TV Shows<br>release_year=%{x}<br>count=%{y}<extra></extra>",
         "legendgroup": "International TV Shows, Romantic TV Shows, Teen TV Shows",
         "line": {
          "color": "#FFA15A",
          "dash": "solid"
         },
         "marker": {
          "symbol": "circle"
         },
         "mode": "lines",
         "name": "International TV Shows, Romantic TV Shows, Teen TV Shows",
         "showlegend": true,
         "type": "scattergl",
         "x": [
          2016,
          2019
         ],
         "xaxis": "x",
         "y": [
          1,
          3
         ],
         "yaxis": "y"
        },
        {
         "hovertemplate": "listed_in=International TV Shows, TV Dramas, TV Mysteries<br>release_year=%{x}<br>count=%{y}<extra></extra>",
         "legendgroup": "International TV Shows, TV Dramas, TV Mysteries",
         "line": {
          "color": "#19d3f3",
          "dash": "solid"
         },
         "marker": {
          "symbol": "circle"
         },
         "mode": "lines",
         "name": "International TV Shows, TV Dramas, TV Mysteries",
         "showlegend": true,
         "type": "scattergl",
         "x": [
          2016,
          2017,
          2018,
          2019,
          2020,
          2021
         ],
         "xaxis": "x",
         "y": [
          3,
          2,
          4,
          4,
          5,
          8
         ],
         "yaxis": "y"
        },
        {
         "hovertemplate": "listed_in=Kids' TV, TV Comedies, TV Dramas<br>release_year=%{x}<br>count=%{y}<extra></extra>",
         "legendgroup": "Kids' TV, TV Comedies, TV Dramas",
         "line": {
          "color": "#FF6692",
          "dash": "solid"
         },
         "marker": {
          "symbol": "circle"
         },
         "mode": "lines",
         "name": "Kids' TV, TV Comedies, TV Dramas",
         "showlegend": true,
         "type": "scattergl",
         "x": [
          2016,
          2019,
          2020
         ],
         "xaxis": "x",
         "y": [
          1,
          2,
          1
         ],
         "yaxis": "y"
        },
        {
         "hovertemplate": "listed_in=Reality TV, Teen TV Shows<br>release_year=%{x}<br>count=%{y}<extra></extra>",
         "legendgroup": "Reality TV, Teen TV Shows",
         "line": {
          "color": "#B6E880",
          "dash": "solid"
         },
         "marker": {
          "symbol": "circle"
         },
         "mode": "lines",
         "name": "Reality TV, Teen TV Shows",
         "showlegend": true,
         "type": "scattergl",
         "x": [
          2016,
          2021
         ],
         "xaxis": "x",
         "y": [
          2,
          1
         ],
         "yaxis": "y"
        },
        {
         "hovertemplate": "listed_in=Romantic TV Shows, Spanish-Language TV Shows, TV Comedies<br>release_year=%{x}<br>count=%{y}<extra></extra>",
         "legendgroup": "Romantic TV Shows, Spanish-Language TV Shows, TV Comedies",
         "line": {
          "color": "#FF97FF",
          "dash": "solid"
         },
         "marker": {
          "symbol": "circle"
         },
         "mode": "lines",
         "name": "Romantic TV Shows, Spanish-Language TV Shows, TV Comedies",
         "showlegend": true,
         "type": "scattergl",
         "x": [
          2016
         ],
         "xaxis": "x",
         "y": [
          1
         ],
         "yaxis": "y"
        },
        {
         "hovertemplate": "listed_in=Spanish-Language TV Shows, TV Dramas<br>release_year=%{x}<br>count=%{y}<extra></extra>",
         "legendgroup": "Spanish-Language TV Shows, TV Dramas",
         "line": {
          "color": "#FECB52",
          "dash": "solid"
         },
         "marker": {
          "symbol": "circle"
         },
         "mode": "lines",
         "name": "Spanish-Language TV Shows, TV Dramas",
         "showlegend": true,
         "type": "scattergl",
         "x": [
          2016,
          2017
         ],
         "xaxis": "x",
         "y": [
          1,
          1
         ],
         "yaxis": "y"
        },
        {
         "hovertemplate": "listed_in=Stand-Up Comedy & Talk Shows, TV Comedies<br>release_year=%{x}<br>count=%{y}<extra></extra>",
         "legendgroup": "Stand-Up Comedy & Talk Shows, TV Comedies",
         "line": {
          "color": "#636efa",
          "dash": "solid"
         },
         "marker": {
          "symbol": "circle"
         },
         "mode": "lines",
         "name": "Stand-Up Comedy & Talk Shows, TV Comedies",
         "showlegend": true,
         "type": "scattergl",
         "x": [
          2016,
          2017,
          2018,
          2019,
          2020,
          2021
         ],
         "xaxis": "x",
         "y": [
          1,
          3,
          12,
          4,
          4,
          3
         ],
         "yaxis": "y"
        },
        {
         "hovertemplate": "listed_in=TV Action & Adventure, TV Comedies<br>release_year=%{x}<br>count=%{y}<extra></extra>",
         "legendgroup": "TV Action & Adventure, TV Comedies",
         "line": {
          "color": "#EF553B",
          "dash": "solid"
         },
         "marker": {
          "symbol": "circle"
         },
         "mode": "lines",
         "name": "TV Action & Adventure, TV Comedies",
         "showlegend": true,
         "type": "scattergl",
         "x": [
          2016
         ],
         "xaxis": "x",
         "y": [
          1
         ],
         "yaxis": "y"
        },
        {
         "hovertemplate": "listed_in=Action & Adventure, Documentaries, Sports Movies<br>release_year=%{x}<br>count=%{y}<extra></extra>",
         "legendgroup": "Action & Adventure, Documentaries, Sports Movies",
         "line": {
          "color": "#00cc96",
          "dash": "solid"
         },
         "marker": {
          "symbol": "circle"
         },
         "mode": "lines",
         "name": "Action & Adventure, Documentaries, Sports Movies",
         "showlegend": true,
         "type": "scattergl",
         "x": [
          2017
         ],
         "xaxis": "x",
         "y": [
          1
         ],
         "yaxis": "y"
        },
        {
         "hovertemplate": "listed_in=Action & Adventure, Horror Movies, Independent Movies<br>release_year=%{x}<br>count=%{y}<extra></extra>",
         "legendgroup": "Action & Adventure, Horror Movies, Independent Movies",
         "line": {
          "color": "#ab63fa",
          "dash": "solid"
         },
         "marker": {
          "symbol": "circle"
         },
         "mode": "lines",
         "name": "Action & Adventure, Horror Movies, Independent Movies",
         "showlegend": true,
         "type": "scattergl",
         "x": [
          2017
         ],
         "xaxis": "x",
         "y": [
          1
         ],
         "yaxis": "y"
        },
        {
         "hovertemplate": "listed_in=Action & Adventure, International Movies, Sports Movies<br>release_year=%{x}<br>count=%{y}<extra></extra>",
         "legendgroup": "Action & Adventure, International Movies, Sports Movies",
         "line": {
          "color": "#FFA15A",
          "dash": "solid"
         },
         "marker": {
          "symbol": "circle"
         },
         "mode": "lines",
         "name": "Action & Adventure, International Movies, Sports Movies",
         "showlegend": true,
         "type": "scattergl",
         "x": [
          2017,
          2019
         ],
         "xaxis": "x",
         "y": [
          1,
          1
         ],
         "yaxis": "y"
        },
        {
         "hovertemplate": "listed_in=Anime Features, Music & Musicals, Sci-Fi & Fantasy<br>release_year=%{x}<br>count=%{y}<extra></extra>",
         "legendgroup": "Anime Features, Music & Musicals, Sci-Fi & Fantasy",
         "line": {
          "color": "#19d3f3",
          "dash": "solid"
         },
         "marker": {
          "symbol": "circle"
         },
         "mode": "lines",
         "name": "Anime Features, Music & Musicals, Sci-Fi & Fantasy",
         "showlegend": true,
         "type": "scattergl",
         "x": [
          2017,
          2019
         ],
         "xaxis": "x",
         "y": [
          1,
          1
         ],
         "yaxis": "y"
        },
        {
         "hovertemplate": "listed_in=Anime Features, Romantic Movies<br>release_year=%{x}<br>count=%{y}<extra></extra>",
         "legendgroup": "Anime Features, Romantic Movies",
         "line": {
          "color": "#FF6692",
          "dash": "solid"
         },
         "marker": {
          "symbol": "circle"
         },
         "mode": "lines",
         "name": "Anime Features, Romantic Movies",
         "showlegend": true,
         "type": "scattergl",
         "x": [
          2017
         ],
         "xaxis": "x",
         "y": [
          1
         ],
         "yaxis": "y"
        },
        {
         "hovertemplate": "listed_in=British TV Shows, Reality TV, Romantic TV Shows<br>release_year=%{x}<br>count=%{y}<extra></extra>",
         "legendgroup": "British TV Shows, Reality TV, Romantic TV Shows",
         "line": {
          "color": "#B6E880",
          "dash": "solid"
         },
         "marker": {
          "symbol": "circle"
         },
         "mode": "lines",
         "name": "British TV Shows, Reality TV, Romantic TV Shows",
         "showlegend": true,
         "type": "scattergl",
         "x": [
          2017,
          2019
         ],
         "xaxis": "x",
         "y": [
          1,
          1
         ],
         "yaxis": "y"
        },
        {
         "hovertemplate": "listed_in=Children & Family Movies, Faith & Spirituality<br>release_year=%{x}<br>count=%{y}<extra></extra>",
         "legendgroup": "Children & Family Movies, Faith & Spirituality",
         "line": {
          "color": "#FF97FF",
          "dash": "solid"
         },
         "marker": {
          "symbol": "circle"
         },
         "mode": "lines",
         "name": "Children & Family Movies, Faith & Spirituality",
         "showlegend": true,
         "type": "scattergl",
         "x": [
          2017
         ],
         "xaxis": "x",
         "y": [
          1
         ],
         "yaxis": "y"
        },
        {
         "hovertemplate": "listed_in=Comedies, Cult Movies, Independent Movies<br>release_year=%{x}<br>count=%{y}<extra></extra>",
         "legendgroup": "Comedies, Cult Movies, Independent Movies",
         "line": {
          "color": "#FECB52",
          "dash": "solid"
         },
         "marker": {
          "symbol": "circle"
         },
         "mode": "lines",
         "name": "Comedies, Cult Movies, Independent Movies",
         "showlegend": true,
         "type": "scattergl",
         "x": [
          2017
         ],
         "xaxis": "x",
         "y": [
          1
         ],
         "yaxis": "y"
        },
        {
         "hovertemplate": "listed_in=Comedies, Music & Musicals, Romantic Movies<br>release_year=%{x}<br>count=%{y}<extra></extra>",
         "legendgroup": "Comedies, Music & Musicals, Romantic Movies",
         "line": {
          "color": "#636efa",
          "dash": "solid"
         },
         "marker": {
          "symbol": "circle"
         },
         "mode": "lines",
         "name": "Comedies, Music & Musicals, Romantic Movies",
         "showlegend": true,
         "type": "scattergl",
         "x": [
          2017,
          2020
         ],
         "xaxis": "x",
         "y": [
          1,
          1
         ],
         "yaxis": "y"
        },
        {
         "hovertemplate": "listed_in=Crime TV Shows, Docuseries, TV Mysteries<br>release_year=%{x}<br>count=%{y}<extra></extra>",
         "legendgroup": "Crime TV Shows, Docuseries, TV Mysteries",
         "line": {
          "color": "#EF553B",
          "dash": "solid"
         },
         "marker": {
          "symbol": "circle"
         },
         "mode": "lines",
         "name": "Crime TV Shows, Docuseries, TV Mysteries",
         "showlegend": true,
         "type": "scattergl",
         "x": [
          2017,
          2018,
          2021
         ],
         "xaxis": "x",
         "y": [
          1,
          2,
          1
         ],
         "yaxis": "y"
        },
        {
         "hovertemplate": "listed_in=Crime TV Shows, International TV Shows, TV Sci-Fi & Fantasy<br>release_year=%{x}<br>count=%{y}<extra></extra>",
         "legendgroup": "Crime TV Shows, International TV Shows, TV Sci-Fi & Fantasy",
         "line": {
          "color": "#00cc96",
          "dash": "solid"
         },
         "marker": {
          "symbol": "circle"
         },
         "mode": "lines",
         "name": "Crime TV Shows, International TV Shows, TV Sci-Fi & Fantasy",
         "showlegend": true,
         "type": "scattergl",
         "x": [
          2017
         ],
         "xaxis": "x",
         "y": [
          1
         ],
         "yaxis": "y"
        },
        {
         "hovertemplate": "listed_in=Crime TV Shows, TV Dramas, TV Horror<br>release_year=%{x}<br>count=%{y}<extra></extra>",
         "legendgroup": "Crime TV Shows, TV Dramas, TV Horror",
         "line": {
          "color": "#ab63fa",
          "dash": "solid"
         },
         "marker": {
          "symbol": "circle"
         },
         "mode": "lines",
         "name": "Crime TV Shows, TV Dramas, TV Horror",
         "showlegend": true,
         "type": "scattergl",
         "x": [
          2017
         ],
         "xaxis": "x",
         "y": [
          1
         ],
         "yaxis": "y"
        },
        {
         "hovertemplate": "listed_in=Documentaries, Horror Movies<br>release_year=%{x}<br>count=%{y}<extra></extra>",
         "legendgroup": "Documentaries, Horror Movies",
         "line": {
          "color": "#FFA15A",
          "dash": "solid"
         },
         "marker": {
          "symbol": "circle"
         },
         "mode": "lines",
         "name": "Documentaries, Horror Movies",
         "showlegend": true,
         "type": "scattergl",
         "x": [
          2017
         ],
         "xaxis": "x",
         "y": [
          2
         ],
         "yaxis": "y"
        },
        {
         "hovertemplate": "listed_in=Documentaries, LGBTQ Movies, Music & Musicals<br>release_year=%{x}<br>count=%{y}<extra></extra>",
         "legendgroup": "Documentaries, LGBTQ Movies, Music & Musicals",
         "line": {
          "color": "#19d3f3",
          "dash": "solid"
         },
         "marker": {
          "symbol": "circle"
         },
         "mode": "lines",
         "name": "Documentaries, LGBTQ Movies, Music & Musicals",
         "showlegend": true,
         "type": "scattergl",
         "x": [
          2017
         ],
         "xaxis": "x",
         "y": [
          2
         ],
         "yaxis": "y"
        },
        {
         "hovertemplate": "listed_in=Dramas, Romantic Movies, Sports Movies<br>release_year=%{x}<br>count=%{y}<extra></extra>",
         "legendgroup": "Dramas, Romantic Movies, Sports Movies",
         "line": {
          "color": "#FF6692",
          "dash": "solid"
         },
         "marker": {
          "symbol": "circle"
         },
         "mode": "lines",
         "name": "Dramas, Romantic Movies, Sports Movies",
         "showlegend": true,
         "type": "scattergl",
         "x": [
          2017,
          2018
         ],
         "xaxis": "x",
         "y": [
          2,
          1
         ],
         "yaxis": "y"
        },
        {
         "hovertemplate": "listed_in=Independent Movies, Sci-Fi & Fantasy, Thrillers<br>release_year=%{x}<br>count=%{y}<extra></extra>",
         "legendgroup": "Independent Movies, Sci-Fi & Fantasy, Thrillers",
         "line": {
          "color": "#B6E880",
          "dash": "solid"
         },
         "marker": {
          "symbol": "circle"
         },
         "mode": "lines",
         "name": "Independent Movies, Sci-Fi & Fantasy, Thrillers",
         "showlegend": true,
         "type": "scattergl",
         "x": [
          2017,
          2018,
          2019
         ],
         "xaxis": "x",
         "y": [
          1,
          1,
          1
         ],
         "yaxis": "y"
        },
        {
         "hovertemplate": "listed_in=International Movies, Sports Movies<br>release_year=%{x}<br>count=%{y}<extra></extra>",
         "legendgroup": "International Movies, Sports Movies",
         "line": {
          "color": "#FF97FF",
          "dash": "solid"
         },
         "marker": {
          "symbol": "circle"
         },
         "mode": "lines",
         "name": "International Movies, Sports Movies",
         "showlegend": true,
         "type": "scattergl",
         "x": [
          2017
         ],
         "xaxis": "x",
         "y": [
          1
         ],
         "yaxis": "y"
        },
        {
         "hovertemplate": "listed_in=International TV Shows<br>release_year=%{x}<br>count=%{y}<extra></extra>",
         "legendgroup": "International TV Shows",
         "line": {
          "color": "#FECB52",
          "dash": "solid"
         },
         "marker": {
          "symbol": "circle"
         },
         "mode": "lines",
         "name": "International TV Shows",
         "showlegend": true,
         "type": "scattergl",
         "x": [
          2017,
          2019
         ],
         "xaxis": "x",
         "y": [
          1,
          1
         ],
         "yaxis": "y"
        },
        {
         "hovertemplate": "listed_in=International TV Shows, Spanish-Language TV Shows, TV Action & Adventure<br>release_year=%{x}<br>count=%{y}<extra></extra>",
         "legendgroup": "International TV Shows, Spanish-Language TV Shows, TV Action & Adventure",
         "line": {
          "color": "#636efa",
          "dash": "solid"
         },
         "marker": {
          "symbol": "circle"
         },
         "mode": "lines",
         "name": "International TV Shows, Spanish-Language TV Shows, TV Action & Adventure",
         "showlegend": true,
         "type": "scattergl",
         "x": [
          2017,
          2018,
          2020,
          2021
         ],
         "xaxis": "x",
         "y": [
          1,
          1,
          1,
          2
         ],
         "yaxis": "y"
        },
        {
         "hovertemplate": "listed_in=International TV Shows, Spanish-Language TV Shows, TV Horror<br>release_year=%{x}<br>count=%{y}<extra></extra>",
         "legendgroup": "International TV Shows, Spanish-Language TV Shows, TV Horror",
         "line": {
          "color": "#EF553B",
          "dash": "solid"
         },
         "marker": {
          "symbol": "circle"
         },
         "mode": "lines",
         "name": "International TV Shows, Spanish-Language TV Shows, TV Horror",
         "showlegend": true,
         "type": "scattergl",
         "x": [
          2017
         ],
         "xaxis": "x",
         "y": [
          1
         ],
         "yaxis": "y"
        },
        {
         "hovertemplate": "listed_in=Music & Musicals, Romantic Movies<br>release_year=%{x}<br>count=%{y}<extra></extra>",
         "legendgroup": "Music & Musicals, Romantic Movies",
         "line": {
          "color": "#00cc96",
          "dash": "solid"
         },
         "marker": {
          "symbol": "circle"
         },
         "mode": "lines",
         "name": "Music & Musicals, Romantic Movies",
         "showlegend": true,
         "type": "scattergl",
         "x": [
          2017
         ],
         "xaxis": "x",
         "y": [
          1
         ],
         "yaxis": "y"
        },
        {
         "hovertemplate": "listed_in=Romantic Movies<br>release_year=%{x}<br>count=%{y}<extra></extra>",
         "legendgroup": "Romantic Movies",
         "line": {
          "color": "#ab63fa",
          "dash": "solid"
         },
         "marker": {
          "symbol": "circle"
         },
         "mode": "lines",
         "name": "Romantic Movies",
         "showlegend": true,
         "type": "scattergl",
         "x": [
          2017,
          2018
         ],
         "xaxis": "x",
         "y": [
          1,
          2
         ],
         "yaxis": "y"
        },
        {
         "hovertemplate": "listed_in=Sports Movies<br>release_year=%{x}<br>count=%{y}<extra></extra>",
         "legendgroup": "Sports Movies",
         "line": {
          "color": "#FFA15A",
          "dash": "solid"
         },
         "marker": {
          "symbol": "circle"
         },
         "mode": "lines",
         "name": "Sports Movies",
         "showlegend": true,
         "type": "scattergl",
         "x": [
          2017
         ],
         "xaxis": "x",
         "y": [
          1
         ],
         "yaxis": "y"
        },
        {
         "hovertemplate": "listed_in=Stand-Up Comedy & Talk Shows, TV Mysteries, TV Sci-Fi & Fantasy<br>release_year=%{x}<br>count=%{y}<extra></extra>",
         "legendgroup": "Stand-Up Comedy & Talk Shows, TV Mysteries, TV Sci-Fi & Fantasy",
         "line": {
          "color": "#19d3f3",
          "dash": "solid"
         },
         "marker": {
          "symbol": "circle"
         },
         "mode": "lines",
         "name": "Stand-Up Comedy & Talk Shows, TV Mysteries, TV Sci-Fi & Fantasy",
         "showlegend": true,
         "type": "scattergl",
         "x": [
          2017
         ],
         "xaxis": "x",
         "y": [
          1
         ],
         "yaxis": "y"
        },
        {
         "hovertemplate": "listed_in=TV Dramas, TV Mysteries, TV Thrillers<br>release_year=%{x}<br>count=%{y}<extra></extra>",
         "legendgroup": "TV Dramas, TV Mysteries, TV Thrillers",
         "line": {
          "color": "#FF6692",
          "dash": "solid"
         },
         "marker": {
          "symbol": "circle"
         },
         "mode": "lines",
         "name": "TV Dramas, TV Mysteries, TV Thrillers",
         "showlegend": true,
         "type": "scattergl",
         "x": [
          2017,
          2020
         ],
         "xaxis": "x",
         "y": [
          1,
          1
         ],
         "yaxis": "y"
        },
        {
         "hovertemplate": "listed_in=TV Dramas, TV Sci-Fi & Fantasy, TV Thrillers<br>release_year=%{x}<br>count=%{y}<extra></extra>",
         "legendgroup": "TV Dramas, TV Sci-Fi & Fantasy, TV Thrillers",
         "line": {
          "color": "#B6E880",
          "dash": "solid"
         },
         "marker": {
          "symbol": "circle"
         },
         "mode": "lines",
         "name": "TV Dramas, TV Sci-Fi & Fantasy, TV Thrillers",
         "showlegend": true,
         "type": "scattergl",
         "x": [
          2017
         ],
         "xaxis": "x",
         "y": [
          1
         ],
         "yaxis": "y"
        },
        {
         "hovertemplate": "listed_in=TV Sci-Fi & Fantasy, TV Thrillers<br>release_year=%{x}<br>count=%{y}<extra></extra>",
         "legendgroup": "TV Sci-Fi & Fantasy, TV Thrillers",
         "line": {
          "color": "#FF97FF",
          "dash": "solid"
         },
         "marker": {
          "symbol": "circle"
         },
         "mode": "lines",
         "name": "TV Sci-Fi & Fantasy, TV Thrillers",
         "showlegend": true,
         "type": "scattergl",
         "x": [
          2017
         ],
         "xaxis": "x",
         "y": [
          1
         ],
         "yaxis": "y"
        },
        {
         "hovertemplate": "listed_in=Action & Adventure, Anime Features, Children & Family Movies<br>release_year=%{x}<br>count=%{y}<extra></extra>",
         "legendgroup": "Action & Adventure, Anime Features, Children & Family Movies",
         "line": {
          "color": "#FECB52",
          "dash": "solid"
         },
         "marker": {
          "symbol": "circle"
         },
         "mode": "lines",
         "name": "Action & Adventure, Anime Features, Children & Family Movies",
         "showlegend": true,
         "type": "scattergl",
         "x": [
          2018,
          2019,
          2021
         ],
         "xaxis": "x",
         "y": [
          1,
          2,
          1
         ],
         "yaxis": "y"
        },
        {
         "hovertemplate": "listed_in=Action & Adventure, Children & Family Movies, Independent Movies<br>release_year=%{x}<br>count=%{y}<extra></extra>",
         "legendgroup": "Action & Adventure, Children & Family Movies, Independent Movies",
         "line": {
          "color": "#636efa",
          "dash": "solid"
         },
         "marker": {
          "symbol": "circle"
         },
         "mode": "lines",
         "name": "Action & Adventure, Children & Family Movies, Independent Movies",
         "showlegend": true,
         "type": "scattergl",
         "x": [
          2018
         ],
         "xaxis": "x",
         "y": [
          1
         ],
         "yaxis": "y"
        },
        {
         "hovertemplate": "listed_in=Action & Adventure, Comedies, Horror Movies<br>release_year=%{x}<br>count=%{y}<extra></extra>",
         "legendgroup": "Action & Adventure, Comedies, Horror Movies",
         "line": {
          "color": "#EF553B",
          "dash": "solid"
         },
         "marker": {
          "symbol": "circle"
         },
         "mode": "lines",
         "name": "Action & Adventure, Comedies, Horror Movies",
         "showlegend": true,
         "type": "scattergl",
         "x": [
          2018
         ],
         "xaxis": "x",
         "y": [
          1
         ],
         "yaxis": "y"
        },
        {
         "hovertemplate": "listed_in=Action & Adventure, Dramas, Faith & Spirituality<br>release_year=%{x}<br>count=%{y}<extra></extra>",
         "legendgroup": "Action & Adventure, Dramas, Faith & Spirituality",
         "line": {
          "color": "#00cc96",
          "dash": "solid"
         },
         "marker": {
          "symbol": "circle"
         },
         "mode": "lines",
         "name": "Action & Adventure, Dramas, Faith & Spirituality",
         "showlegend": true,
         "type": "scattergl",
         "x": [
          2018,
          2020
         ],
         "xaxis": "x",
         "y": [
          1,
          1
         ],
         "yaxis": "y"
        },
        {
         "hovertemplate": "listed_in=British TV Shows, International TV Shows, Stand-Up Comedy & Talk Shows<br>release_year=%{x}<br>count=%{y}<extra></extra>",
         "legendgroup": "British TV Shows, International TV Shows, Stand-Up Comedy & Talk Shows",
         "line": {
          "color": "#ab63fa",
          "dash": "solid"
         },
         "marker": {
          "symbol": "circle"
         },
         "mode": "lines",
         "name": "British TV Shows, International TV Shows, Stand-Up Comedy & Talk Shows",
         "showlegend": true,
         "type": "scattergl",
         "x": [
          2018
         ],
         "xaxis": "x",
         "y": [
          1
         ],
         "yaxis": "y"
        },
        {
         "hovertemplate": "listed_in=Crime TV Shows, International TV Shows, Reality TV<br>release_year=%{x}<br>count=%{y}<extra></extra>",
         "legendgroup": "Crime TV Shows, International TV Shows, Reality TV",
         "line": {
          "color": "#FFA15A",
          "dash": "solid"
         },
         "marker": {
          "symbol": "circle"
         },
         "mode": "lines",
         "name": "Crime TV Shows, International TV Shows, Reality TV",
         "showlegend": true,
         "type": "scattergl",
         "x": [
          2018
         ],
         "xaxis": "x",
         "y": [
          1
         ],
         "yaxis": "y"
        },
        {
         "hovertemplate": "listed_in=Crime TV Shows, Kids' TV<br>release_year=%{x}<br>count=%{y}<extra></extra>",
         "legendgroup": "Crime TV Shows, Kids' TV",
         "line": {
          "color": "#19d3f3",
          "dash": "solid"
         },
         "marker": {
          "symbol": "circle"
         },
         "mode": "lines",
         "name": "Crime TV Shows, Kids' TV",
         "showlegend": true,
         "type": "scattergl",
         "x": [
          2018
         ],
         "xaxis": "x",
         "y": [
          1
         ],
         "yaxis": "y"
        },
        {
         "hovertemplate": "listed_in=Crime TV Shows, Spanish-Language TV Shows, TV Dramas<br>release_year=%{x}<br>count=%{y}<extra></extra>",
         "legendgroup": "Crime TV Shows, Spanish-Language TV Shows, TV Dramas",
         "line": {
          "color": "#FF6692",
          "dash": "solid"
         },
         "marker": {
          "symbol": "circle"
         },
         "mode": "lines",
         "name": "Crime TV Shows, Spanish-Language TV Shows, TV Dramas",
         "showlegend": true,
         "type": "scattergl",
         "x": [
          2018,
          2020
         ],
         "xaxis": "x",
         "y": [
          1,
          1
         ],
         "yaxis": "y"
        },
        {
         "hovertemplate": "listed_in=Crime TV Shows, TV Action & Adventure, TV Thrillers<br>release_year=%{x}<br>count=%{y}<extra></extra>",
         "legendgroup": "Crime TV Shows, TV Action & Adventure, TV Thrillers",
         "line": {
          "color": "#B6E880",
          "dash": "solid"
         },
         "marker": {
          "symbol": "circle"
         },
         "mode": "lines",
         "name": "Crime TV Shows, TV Action & Adventure, TV Thrillers",
         "showlegend": true,
         "type": "scattergl",
         "x": [
          2018,
          2019
         ],
         "xaxis": "x",
         "y": [
          1,
          1
         ],
         "yaxis": "y"
        },
        {
         "hovertemplate": "listed_in=Crime TV Shows, TV Comedies, Teen TV Shows<br>release_year=%{x}<br>count=%{y}<extra></extra>",
         "legendgroup": "Crime TV Shows, TV Comedies, Teen TV Shows",
         "line": {
          "color": "#FF97FF",
          "dash": "solid"
         },
         "marker": {
          "symbol": "circle"
         },
         "mode": "lines",
         "name": "Crime TV Shows, TV Comedies, Teen TV Shows",
         "showlegend": true,
         "type": "scattergl",
         "x": [
          2018
         ],
         "xaxis": "x",
         "y": [
          1
         ],
         "yaxis": "y"
        },
        {
         "hovertemplate": "listed_in=Docuseries, Kids' TV, Science & Nature TV<br>release_year=%{x}<br>count=%{y}<extra></extra>",
         "legendgroup": "Docuseries, Kids' TV, Science & Nature TV",
         "line": {
          "color": "#FECB52",
          "dash": "solid"
         },
         "marker": {
          "symbol": "circle"
         },
         "mode": "lines",
         "name": "Docuseries, Kids' TV, Science & Nature TV",
         "showlegend": true,
         "type": "scattergl",
         "x": [
          2018
         ],
         "xaxis": "x",
         "y": [
          1
         ],
         "yaxis": "y"
        },
        {
         "hovertemplate": "listed_in=Docuseries, Science & Nature TV, TV Dramas<br>release_year=%{x}<br>count=%{y}<extra></extra>",
         "legendgroup": "Docuseries, Science & Nature TV, TV Dramas",
         "line": {
          "color": "#636efa",
          "dash": "solid"
         },
         "marker": {
          "symbol": "circle"
         },
         "mode": "lines",
         "name": "Docuseries, Science & Nature TV, TV Dramas",
         "showlegend": true,
         "type": "scattergl",
         "x": [
          2018
         ],
         "xaxis": "x",
         "y": [
          1
         ],
         "yaxis": "y"
        },
        {
         "hovertemplate": "listed_in=Docuseries, TV Comedies<br>release_year=%{x}<br>count=%{y}<extra></extra>",
         "legendgroup": "Docuseries, TV Comedies",
         "line": {
          "color": "#EF553B",
          "dash": "solid"
         },
         "marker": {
          "symbol": "circle"
         },
         "mode": "lines",
         "name": "Docuseries, TV Comedies",
         "showlegend": true,
         "type": "scattergl",
         "x": [
          2018,
          2019,
          2021
         ],
         "xaxis": "x",
         "y": [
          1,
          1,
          1
         ],
         "yaxis": "y"
        },
        {
         "hovertemplate": "listed_in=Docuseries, TV Dramas<br>release_year=%{x}<br>count=%{y}<extra></extra>",
         "legendgroup": "Docuseries, TV Dramas",
         "line": {
          "color": "#00cc96",
          "dash": "solid"
         },
         "marker": {
          "symbol": "circle"
         },
         "mode": "lines",
         "name": "Docuseries, TV Dramas",
         "showlegend": true,
         "type": "scattergl",
         "x": [
          2018,
          2019
         ],
         "xaxis": "x",
         "y": [
          1,
          1
         ],
         "yaxis": "y"
        },
        {
         "hovertemplate": "listed_in=Dramas, Faith & Spirituality, Independent Movies<br>release_year=%{x}<br>count=%{y}<extra></extra>",
         "legendgroup": "Dramas, Faith & Spirituality, Independent Movies",
         "line": {
          "color": "#ab63fa",
          "dash": "solid"
         },
         "marker": {
          "symbol": "circle"
         },
         "mode": "lines",
         "name": "Dramas, Faith & Spirituality, Independent Movies",
         "showlegend": true,
         "type": "scattergl",
         "x": [
          2018
         ],
         "xaxis": "x",
         "y": [
          1
         ],
         "yaxis": "y"
        },
        {
         "hovertemplate": "listed_in=Dramas, Romantic Movies, Thrillers<br>release_year=%{x}<br>count=%{y}<extra></extra>",
         "legendgroup": "Dramas, Romantic Movies, Thrillers",
         "line": {
          "color": "#FFA15A",
          "dash": "solid"
         },
         "marker": {
          "symbol": "circle"
         },
         "mode": "lines",
         "name": "Dramas, Romantic Movies, Thrillers",
         "showlegend": true,
         "type": "scattergl",
         "x": [
          2018,
          2020
         ],
         "xaxis": "x",
         "y": [
          1,
          1
         ],
         "yaxis": "y"
        },
        {
         "hovertemplate": "listed_in=Dramas, Sci-Fi & Fantasy, Thrillers<br>release_year=%{x}<br>count=%{y}<extra></extra>",
         "legendgroup": "Dramas, Sci-Fi & Fantasy, Thrillers",
         "line": {
          "color": "#19d3f3",
          "dash": "solid"
         },
         "marker": {
          "symbol": "circle"
         },
         "mode": "lines",
         "name": "Dramas, Sci-Fi & Fantasy, Thrillers",
         "showlegend": true,
         "type": "scattergl",
         "x": [
          2018,
          2019
         ],
         "xaxis": "x",
         "y": [
          3,
          2
         ],
         "yaxis": "y"
        },
        {
         "hovertemplate": "listed_in=Horror Movies, International Movies, Sci-Fi & Fantasy<br>release_year=%{x}<br>count=%{y}<extra></extra>",
         "legendgroup": "Horror Movies, International Movies, Sci-Fi & Fantasy",
         "line": {
          "color": "#FF6692",
          "dash": "solid"
         },
         "marker": {
          "symbol": "circle"
         },
         "mode": "lines",
         "name": "Horror Movies, International Movies, Sci-Fi & Fantasy",
         "showlegend": true,
         "type": "scattergl",
         "x": [
          2018
         ],
         "xaxis": "x",
         "y": [
          1
         ],
         "yaxis": "y"
        },
        {
         "hovertemplate": "listed_in=Independent Movies<br>release_year=%{x}<br>count=%{y}<extra></extra>",
         "legendgroup": "Independent Movies",
         "line": {
          "color": "#B6E880",
          "dash": "solid"
         },
         "marker": {
          "symbol": "circle"
         },
         "mode": "lines",
         "name": "Independent Movies",
         "showlegend": true,
         "type": "scattergl",
         "x": [
          2018
         ],
         "xaxis": "x",
         "y": [
          1
         ],
         "yaxis": "y"
        },
        {
         "hovertemplate": "listed_in=International TV Shows, Reality TV, Romantic TV Shows<br>release_year=%{x}<br>count=%{y}<extra></extra>",
         "legendgroup": "International TV Shows, Reality TV, Romantic TV Shows",
         "line": {
          "color": "#FF97FF",
          "dash": "solid"
         },
         "marker": {
          "symbol": "circle"
         },
         "mode": "lines",
         "name": "International TV Shows, Reality TV, Romantic TV Shows",
         "showlegend": true,
         "type": "scattergl",
         "x": [
          2018,
          2019,
          2020,
          2021
         ],
         "xaxis": "x",
         "y": [
          3,
          1,
          2,
          3
         ],
         "yaxis": "y"
        },
        {
         "hovertemplate": "listed_in=International TV Shows, Reality TV, TV Action & Adventure<br>release_year=%{x}<br>count=%{y}<extra></extra>",
         "legendgroup": "International TV Shows, Reality TV, TV Action & Adventure",
         "line": {
          "color": "#FECB52",
          "dash": "solid"
         },
         "marker": {
          "symbol": "circle"
         },
         "mode": "lines",
         "name": "International TV Shows, Reality TV, TV Action & Adventure",
         "showlegend": true,
         "type": "scattergl",
         "x": [
          2018
         ],
         "xaxis": "x",
         "y": [
          1
         ],
         "yaxis": "y"
        },
        {
         "hovertemplate": "listed_in=Kids' TV, Reality TV, TV Dramas<br>release_year=%{x}<br>count=%{y}<extra></extra>",
         "legendgroup": "Kids' TV, Reality TV, TV Dramas",
         "line": {
          "color": "#636efa",
          "dash": "solid"
         },
         "marker": {
          "symbol": "circle"
         },
         "mode": "lines",
         "name": "Kids' TV, Reality TV, TV Dramas",
         "showlegend": true,
         "type": "scattergl",
         "x": [
          2018
         ],
         "xaxis": "x",
         "y": [
          1
         ],
         "yaxis": "y"
        },
        {
         "hovertemplate": "listed_in=Kids' TV, TV Action & Adventure<br>release_year=%{x}<br>count=%{y}<extra></extra>",
         "legendgroup": "Kids' TV, TV Action & Adventure",
         "line": {
          "color": "#EF553B",
          "dash": "solid"
         },
         "marker": {
          "symbol": "circle"
         },
         "mode": "lines",
         "name": "Kids' TV, TV Action & Adventure",
         "showlegend": true,
         "type": "scattergl",
         "x": [
          2018,
          2019
         ],
         "xaxis": "x",
         "y": [
          1,
          1
         ],
         "yaxis": "y"
        },
        {
         "hovertemplate": "listed_in=LGBTQ Movies, Thrillers<br>release_year=%{x}<br>count=%{y}<extra></extra>",
         "legendgroup": "LGBTQ Movies, Thrillers",
         "line": {
          "color": "#00cc96",
          "dash": "solid"
         },
         "marker": {
          "symbol": "circle"
         },
         "mode": "lines",
         "name": "LGBTQ Movies, Thrillers",
         "showlegend": true,
         "type": "scattergl",
         "x": [
          2018
         ],
         "xaxis": "x",
         "y": [
          1
         ],
         "yaxis": "y"
        },
        {
         "hovertemplate": "listed_in=Reality TV, Science & Nature TV, TV Action & Adventure<br>release_year=%{x}<br>count=%{y}<extra></extra>",
         "legendgroup": "Reality TV, Science & Nature TV, TV Action & Adventure",
         "line": {
          "color": "#ab63fa",
          "dash": "solid"
         },
         "marker": {
          "symbol": "circle"
         },
         "mode": "lines",
         "name": "Reality TV, Science & Nature TV, TV Action & Adventure",
         "showlegend": true,
         "type": "scattergl",
         "x": [
          2018
         ],
         "xaxis": "x",
         "y": [
          1
         ],
         "yaxis": "y"
        },
        {
         "hovertemplate": "listed_in=Reality TV, Spanish-Language TV Shows<br>release_year=%{x}<br>count=%{y}<extra></extra>",
         "legendgroup": "Reality TV, Spanish-Language TV Shows",
         "line": {
          "color": "#FFA15A",
          "dash": "solid"
         },
         "marker": {
          "symbol": "circle"
         },
         "mode": "lines",
         "name": "Reality TV, Spanish-Language TV Shows",
         "showlegend": true,
         "type": "scattergl",
         "x": [
          2018
         ],
         "xaxis": "x",
         "y": [
          1
         ],
         "yaxis": "y"
        },
        {
         "hovertemplate": "listed_in=Romantic TV Shows, TV Action & Adventure, TV Dramas<br>release_year=%{x}<br>count=%{y}<extra></extra>",
         "legendgroup": "Romantic TV Shows, TV Action & Adventure, TV Dramas",
         "line": {
          "color": "#19d3f3",
          "dash": "solid"
         },
         "marker": {
          "symbol": "circle"
         },
         "mode": "lines",
         "name": "Romantic TV Shows, TV Action & Adventure, TV Dramas",
         "showlegend": true,
         "type": "scattergl",
         "x": [
          2018
         ],
         "xaxis": "x",
         "y": [
          1
         ],
         "yaxis": "y"
        },
        {
         "hovertemplate": "listed_in=Romantic TV Shows, TV Comedies<br>release_year=%{x}<br>count=%{y}<extra></extra>",
         "legendgroup": "Romantic TV Shows, TV Comedies",
         "line": {
          "color": "#FF6692",
          "dash": "solid"
         },
         "marker": {
          "symbol": "circle"
         },
         "mode": "lines",
         "name": "Romantic TV Shows, TV Comedies",
         "showlegend": true,
         "type": "scattergl",
         "x": [
          2018,
          2019
         ],
         "xaxis": "x",
         "y": [
          2,
          2
         ],
         "yaxis": "y"
        },
        {
         "hovertemplate": "listed_in=Romantic TV Shows, Teen TV Shows<br>release_year=%{x}<br>count=%{y}<extra></extra>",
         "legendgroup": "Romantic TV Shows, Teen TV Shows",
         "line": {
          "color": "#B6E880",
          "dash": "solid"
         },
         "marker": {
          "symbol": "circle"
         },
         "mode": "lines",
         "name": "Romantic TV Shows, Teen TV Shows",
         "showlegend": true,
         "type": "scattergl",
         "x": [
          2018
         ],
         "xaxis": "x",
         "y": [
          1
         ],
         "yaxis": "y"
        },
        {
         "hovertemplate": "listed_in=Sci-Fi & Fantasy<br>release_year=%{x}<br>count=%{y}<extra></extra>",
         "legendgroup": "Sci-Fi & Fantasy",
         "line": {
          "color": "#FF97FF",
          "dash": "solid"
         },
         "marker": {
          "symbol": "circle"
         },
         "mode": "lines",
         "name": "Sci-Fi & Fantasy",
         "showlegend": true,
         "type": "scattergl",
         "x": [
          2018
         ],
         "xaxis": "x",
         "y": [
          1
         ],
         "yaxis": "y"
        },
        {
         "hovertemplate": "listed_in=TV Action & Adventure<br>release_year=%{x}<br>count=%{y}<extra></extra>",
         "legendgroup": "TV Action & Adventure",
         "line": {
          "color": "#FECB52",
          "dash": "solid"
         },
         "marker": {
          "symbol": "circle"
         },
         "mode": "lines",
         "name": "TV Action & Adventure",
         "showlegend": true,
         "type": "scattergl",
         "x": [
          2018
         ],
         "xaxis": "x",
         "y": [
          1
         ],
         "yaxis": "y"
        },
        {
         "hovertemplate": "listed_in=TV Action & Adventure, TV Comedies, TV Horror<br>release_year=%{x}<br>count=%{y}<extra></extra>",
         "legendgroup": "TV Action & Adventure, TV Comedies, TV Horror",
         "line": {
          "color": "#636efa",
          "dash": "solid"
         },
         "marker": {
          "symbol": "circle"
         },
         "mode": "lines",
         "name": "TV Action & Adventure, TV Comedies, TV Horror",
         "showlegend": true,
         "type": "scattergl",
         "x": [
          2018,
          2019
         ],
         "xaxis": "x",
         "y": [
          2,
          1
         ],
         "yaxis": "y"
        },
        {
         "hovertemplate": "listed_in=TV Action & Adventure, TV Dramas, TV Sci-Fi & Fantasy<br>release_year=%{x}<br>count=%{y}<extra></extra>",
         "legendgroup": "TV Action & Adventure, TV Dramas, TV Sci-Fi & Fantasy",
         "line": {
          "color": "#EF553B",
          "dash": "solid"
         },
         "marker": {
          "symbol": "circle"
         },
         "mode": "lines",
         "name": "TV Action & Adventure, TV Dramas, TV Sci-Fi & Fantasy",
         "showlegend": true,
         "type": "scattergl",
         "x": [
          2018,
          2019,
          2020,
          2021
         ],
         "xaxis": "x",
         "y": [
          2,
          3,
          2,
          3
         ],
         "yaxis": "y"
        },
        {
         "hovertemplate": "listed_in=TV Comedies, TV Dramas, TV Mysteries<br>release_year=%{x}<br>count=%{y}<extra></extra>",
         "legendgroup": "TV Comedies, TV Dramas, TV Mysteries",
         "line": {
          "color": "#00cc96",
          "dash": "solid"
         },
         "marker": {
          "symbol": "circle"
         },
         "mode": "lines",
         "name": "TV Comedies, TV Dramas, TV Mysteries",
         "showlegend": true,
         "type": "scattergl",
         "x": [
          2018
         ],
         "xaxis": "x",
         "y": [
          1
         ],
         "yaxis": "y"
        },
        {
         "hovertemplate": "listed_in=TV Comedies, TV Mysteries<br>release_year=%{x}<br>count=%{y}<extra></extra>",
         "legendgroup": "TV Comedies, TV Mysteries",
         "line": {
          "color": "#ab63fa",
          "dash": "solid"
         },
         "marker": {
          "symbol": "circle"
         },
         "mode": "lines",
         "name": "TV Comedies, TV Mysteries",
         "showlegend": true,
         "type": "scattergl",
         "x": [
          2018
         ],
         "xaxis": "x",
         "y": [
          1
         ],
         "yaxis": "y"
        },
        {
         "hovertemplate": "listed_in=TV Comedies, TV Sci-Fi & Fantasy, Teen TV Shows<br>release_year=%{x}<br>count=%{y}<extra></extra>",
         "legendgroup": "TV Comedies, TV Sci-Fi & Fantasy, Teen TV Shows",
         "line": {
          "color": "#FFA15A",
          "dash": "solid"
         },
         "marker": {
          "symbol": "circle"
         },
         "mode": "lines",
         "name": "TV Comedies, TV Sci-Fi & Fantasy, Teen TV Shows",
         "showlegend": true,
         "type": "scattergl",
         "x": [
          2018
         ],
         "xaxis": "x",
         "y": [
          1
         ],
         "yaxis": "y"
        },
        {
         "hovertemplate": "listed_in=Anime Features, International Movies, Sci-Fi & Fantasy<br>release_year=%{x}<br>count=%{y}<extra></extra>",
         "legendgroup": "Anime Features, International Movies, Sci-Fi & Fantasy",
         "line": {
          "color": "#19d3f3",
          "dash": "solid"
         },
         "marker": {
          "symbol": "circle"
         },
         "mode": "lines",
         "name": "Anime Features, International Movies, Sci-Fi & Fantasy",
         "showlegend": true,
         "type": "scattergl",
         "x": [
          2019
         ],
         "xaxis": "x",
         "y": [
          1
         ],
         "yaxis": "y"
        },
        {
         "hovertemplate": "listed_in=British TV Shows, Kids' TV, TV Dramas<br>release_year=%{x}<br>count=%{y}<extra></extra>",
         "legendgroup": "British TV Shows, Kids' TV, TV Dramas",
         "line": {
          "color": "#FF6692",
          "dash": "solid"
         },
         "marker": {
          "symbol": "circle"
         },
         "mode": "lines",
         "name": "British TV Shows, Kids' TV, TV Dramas",
         "showlegend": true,
         "type": "scattergl",
         "x": [
          2019,
          2021
         ],
         "xaxis": "x",
         "y": [
          1,
          1
         ],
         "yaxis": "y"
        },
        {
         "hovertemplate": "listed_in=British TV Shows, Kids' TV, TV Thrillers<br>release_year=%{x}<br>count=%{y}<extra></extra>",
         "legendgroup": "British TV Shows, Kids' TV, TV Thrillers",
         "line": {
          "color": "#B6E880",
          "dash": "solid"
         },
         "marker": {
          "symbol": "circle"
         },
         "mode": "lines",
         "name": "British TV Shows, Kids' TV, TV Thrillers",
         "showlegend": true,
         "type": "scattergl",
         "x": [
          2019
         ],
         "xaxis": "x",
         "y": [
          1
         ],
         "yaxis": "y"
        },
        {
         "hovertemplate": "listed_in=Children & Family Movies, Comedies, LGBTQ Movies<br>release_year=%{x}<br>count=%{y}<extra></extra>",
         "legendgroup": "Children & Family Movies, Comedies, LGBTQ Movies",
         "line": {
          "color": "#FF97FF",
          "dash": "solid"
         },
         "marker": {
          "symbol": "circle"
         },
         "mode": "lines",
         "name": "Children & Family Movies, Comedies, LGBTQ Movies",
         "showlegend": true,
         "type": "scattergl",
         "x": [
          2019
         ],
         "xaxis": "x",
         "y": [
          1
         ],
         "yaxis": "y"
        },
        {
         "hovertemplate": "listed_in=Comedies, Music & Musicals, Sports Movies<br>release_year=%{x}<br>count=%{y}<extra></extra>",
         "legendgroup": "Comedies, Music & Musicals, Sports Movies",
         "line": {
          "color": "#FECB52",
          "dash": "solid"
         },
         "marker": {
          "symbol": "circle"
         },
         "mode": "lines",
         "name": "Comedies, Music & Musicals, Sports Movies",
         "showlegend": true,
         "type": "scattergl",
         "x": [
          2019
         ],
         "xaxis": "x",
         "y": [
          1
         ],
         "yaxis": "y"
        },
        {
         "hovertemplate": "listed_in=Crime TV Shows, TV Action & Adventure, TV Comedies<br>release_year=%{x}<br>count=%{y}<extra></extra>",
         "legendgroup": "Crime TV Shows, TV Action & Adventure, TV Comedies",
         "line": {
          "color": "#636efa",
          "dash": "solid"
         },
         "marker": {
          "symbol": "circle"
         },
         "mode": "lines",
         "name": "Crime TV Shows, TV Action & Adventure, TV Comedies",
         "showlegend": true,
         "type": "scattergl",
         "x": [
          2019,
          2020,
          2021
         ],
         "xaxis": "x",
         "y": [
          1,
          1,
          2
         ],
         "yaxis": "y"
        },
        {
         "hovertemplate": "listed_in=Crime TV Shows, TV Horror, TV Mysteries<br>release_year=%{x}<br>count=%{y}<extra></extra>",
         "legendgroup": "Crime TV Shows, TV Horror, TV Mysteries",
         "line": {
          "color": "#EF553B",
          "dash": "solid"
         },
         "marker": {
          "symbol": "circle"
         },
         "mode": "lines",
         "name": "Crime TV Shows, TV Horror, TV Mysteries",
         "showlegend": true,
         "type": "scattergl",
         "x": [
          2019
         ],
         "xaxis": "x",
         "y": [
          1
         ],
         "yaxis": "y"
        },
        {
         "hovertemplate": "listed_in=Documentaries, Dramas<br>release_year=%{x}<br>count=%{y}<extra></extra>",
         "legendgroup": "Documentaries, Dramas",
         "line": {
          "color": "#00cc96",
          "dash": "solid"
         },
         "marker": {
          "symbol": "circle"
         },
         "mode": "lines",
         "name": "Documentaries, Dramas",
         "showlegend": true,
         "type": "scattergl",
         "x": [
          2019
         ],
         "xaxis": "x",
         "y": [
          1
         ],
         "yaxis": "y"
        },
        {
         "hovertemplate": "listed_in=Horror Movies, LGBTQ Movies, Music & Musicals<br>release_year=%{x}<br>count=%{y}<extra></extra>",
         "legendgroup": "Horror Movies, LGBTQ Movies, Music & Musicals",
         "line": {
          "color": "#ab63fa",
          "dash": "solid"
         },
         "marker": {
          "symbol": "circle"
         },
         "mode": "lines",
         "name": "Horror Movies, LGBTQ Movies, Music & Musicals",
         "showlegend": true,
         "type": "scattergl",
         "x": [
          2019
         ],
         "xaxis": "x",
         "y": [
          1
         ],
         "yaxis": "y"
        },
        {
         "hovertemplate": "listed_in=International TV Shows, Korean TV Shows, TV Horror<br>release_year=%{x}<br>count=%{y}<extra></extra>",
         "legendgroup": "International TV Shows, Korean TV Shows, TV Horror",
         "line": {
          "color": "#FFA15A",
          "dash": "solid"
         },
         "marker": {
          "symbol": "circle"
         },
         "mode": "lines",
         "name": "International TV Shows, Korean TV Shows, TV Horror",
         "showlegend": true,
         "type": "scattergl",
         "x": [
          2019
         ],
         "xaxis": "x",
         "y": [
          1
         ],
         "yaxis": "y"
        },
        {
         "hovertemplate": "listed_in=International TV Shows, Spanish-Language TV Shows, Stand-Up Comedy & Talk Shows<br>release_year=%{x}<br>count=%{y}<extra></extra>",
         "legendgroup": "International TV Shows, Spanish-Language TV Shows, Stand-Up Comedy & Talk Shows",
         "line": {
          "color": "#19d3f3",
          "dash": "solid"
         },
         "marker": {
          "symbol": "circle"
         },
         "mode": "lines",
         "name": "International TV Shows, Spanish-Language TV Shows, Stand-Up Comedy & Talk Shows",
         "showlegend": true,
         "type": "scattergl",
         "x": [
          2019,
          2021
         ],
         "xaxis": "x",
         "y": [
          1,
          1
         ],
         "yaxis": "y"
        },
        {
         "hovertemplate": "listed_in=International TV Shows, TV Action & Adventure, TV Mysteries<br>release_year=%{x}<br>count=%{y}<extra></extra>",
         "legendgroup": "International TV Shows, TV Action & Adventure, TV Mysteries",
         "line": {
          "color": "#FF6692",
          "dash": "solid"
         },
         "marker": {
          "symbol": "circle"
         },
         "mode": "lines",
         "name": "International TV Shows, TV Action & Adventure, TV Mysteries",
         "showlegend": true,
         "type": "scattergl",
         "x": [
          2019,
          2020
         ],
         "xaxis": "x",
         "y": [
          1,
          1
         ],
         "yaxis": "y"
        },
        {
         "hovertemplate": "listed_in=International TV Shows, TV Mysteries, TV Thrillers<br>release_year=%{x}<br>count=%{y}<extra></extra>",
         "legendgroup": "International TV Shows, TV Mysteries, TV Thrillers",
         "line": {
          "color": "#B6E880",
          "dash": "solid"
         },
         "marker": {
          "symbol": "circle"
         },
         "mode": "lines",
         "name": "International TV Shows, TV Mysteries, TV Thrillers",
         "showlegend": true,
         "type": "scattergl",
         "x": [
          2019,
          2020
         ],
         "xaxis": "x",
         "y": [
          1,
          1
         ],
         "yaxis": "y"
        },
        {
         "hovertemplate": "listed_in=Kids' TV, Reality TV, Science & Nature TV<br>release_year=%{x}<br>count=%{y}<extra></extra>",
         "legendgroup": "Kids' TV, Reality TV, Science & Nature TV",
         "line": {
          "color": "#FF97FF",
          "dash": "solid"
         },
         "marker": {
          "symbol": "circle"
         },
         "mode": "lines",
         "name": "Kids' TV, Reality TV, Science & Nature TV",
         "showlegend": true,
         "type": "scattergl",
         "x": [
          2019
         ],
         "xaxis": "x",
         "y": [
          1
         ],
         "yaxis": "y"
        },
        {
         "hovertemplate": "listed_in=Kids' TV, Spanish-Language TV Shows, Teen TV Shows<br>release_year=%{x}<br>count=%{y}<extra></extra>",
         "legendgroup": "Kids' TV, Spanish-Language TV Shows, Teen TV Shows",
         "line": {
          "color": "#FECB52",
          "dash": "solid"
         },
         "marker": {
          "symbol": "circle"
         },
         "mode": "lines",
         "name": "Kids' TV, Spanish-Language TV Shows, Teen TV Shows",
         "showlegend": true,
         "type": "scattergl",
         "x": [
          2019
         ],
         "xaxis": "x",
         "y": [
          1
         ],
         "yaxis": "y"
        },
        {
         "hovertemplate": "listed_in=Kids' TV, TV Action & Adventure, TV Dramas<br>release_year=%{x}<br>count=%{y}<extra></extra>",
         "legendgroup": "Kids' TV, TV Action & Adventure, TV Dramas",
         "line": {
          "color": "#636efa",
          "dash": "solid"
         },
         "marker": {
          "symbol": "circle"
         },
         "mode": "lines",
         "name": "Kids' TV, TV Action & Adventure, TV Dramas",
         "showlegend": true,
         "type": "scattergl",
         "x": [
          2019
         ],
         "xaxis": "x",
         "y": [
          1
         ],
         "yaxis": "y"
        },
        {
         "hovertemplate": "listed_in=Kids' TV, TV Sci-Fi & Fantasy<br>release_year=%{x}<br>count=%{y}<extra></extra>",
         "legendgroup": "Kids' TV, TV Sci-Fi & Fantasy",
         "line": {
          "color": "#EF553B",
          "dash": "solid"
         },
         "marker": {
          "symbol": "circle"
         },
         "mode": "lines",
         "name": "Kids' TV, TV Sci-Fi & Fantasy",
         "showlegend": true,
         "type": "scattergl",
         "x": [
          2019,
          2021
         ],
         "xaxis": "x",
         "y": [
          1,
          1
         ],
         "yaxis": "y"
        },
        {
         "hovertemplate": "listed_in=TV Action & Adventure, TV Dramas, TV Horror<br>release_year=%{x}<br>count=%{y}<extra></extra>",
         "legendgroup": "TV Action & Adventure, TV Dramas, TV Horror",
         "line": {
          "color": "#00cc96",
          "dash": "solid"
         },
         "marker": {
          "symbol": "circle"
         },
         "mode": "lines",
         "name": "TV Action & Adventure, TV Dramas, TV Horror",
         "showlegend": true,
         "type": "scattergl",
         "x": [
          2019,
          2020,
          2021
         ],
         "xaxis": "x",
         "y": [
          1,
          1,
          1
         ],
         "yaxis": "y"
        },
        {
         "hovertemplate": "listed_in=TV Comedies, TV Dramas, TV Horror<br>release_year=%{x}<br>count=%{y}<extra></extra>",
         "legendgroup": "TV Comedies, TV Dramas, TV Horror",
         "line": {
          "color": "#ab63fa",
          "dash": "solid"
         },
         "marker": {
          "symbol": "circle"
         },
         "mode": "lines",
         "name": "TV Comedies, TV Dramas, TV Horror",
         "showlegend": true,
         "type": "scattergl",
         "x": [
          2019
         ],
         "xaxis": "x",
         "y": [
          1
         ],
         "yaxis": "y"
        },
        {
         "hovertemplate": "listed_in=TV Comedies, TV Horror, TV Thrillers<br>release_year=%{x}<br>count=%{y}<extra></extra>",
         "legendgroup": "TV Comedies, TV Horror, TV Thrillers",
         "line": {
          "color": "#FFA15A",
          "dash": "solid"
         },
         "marker": {
          "symbol": "circle"
         },
         "mode": "lines",
         "name": "TV Comedies, TV Horror, TV Thrillers",
         "showlegend": true,
         "type": "scattergl",
         "x": [
          2019
         ],
         "xaxis": "x",
         "y": [
          1
         ],
         "yaxis": "y"
        },
        {
         "hovertemplate": "listed_in=TV Dramas, TV Sci-Fi & Fantasy<br>release_year=%{x}<br>count=%{y}<extra></extra>",
         "legendgroup": "TV Dramas, TV Sci-Fi & Fantasy",
         "line": {
          "color": "#19d3f3",
          "dash": "solid"
         },
         "marker": {
          "symbol": "circle"
         },
         "mode": "lines",
         "name": "TV Dramas, TV Sci-Fi & Fantasy",
         "showlegend": true,
         "type": "scattergl",
         "x": [
          2019,
          2020,
          2021
         ],
         "xaxis": "x",
         "y": [
          1,
          1,
          1
         ],
         "yaxis": "y"
        },
        {
         "hovertemplate": "listed_in=TV Dramas, TV Sci-Fi & Fantasy, Teen TV Shows<br>release_year=%{x}<br>count=%{y}<extra></extra>",
         "legendgroup": "TV Dramas, TV Sci-Fi & Fantasy, Teen TV Shows",
         "line": {
          "color": "#FF6692",
          "dash": "solid"
         },
         "marker": {
          "symbol": "circle"
         },
         "mode": "lines",
         "name": "TV Dramas, TV Sci-Fi & Fantasy, Teen TV Shows",
         "showlegend": true,
         "type": "scattergl",
         "x": [
          2019
         ],
         "xaxis": "x",
         "y": [
          1
         ],
         "yaxis": "y"
        },
        {
         "hovertemplate": "listed_in=TV Horror, TV Mysteries, Teen TV Shows<br>release_year=%{x}<br>count=%{y}<extra></extra>",
         "legendgroup": "TV Horror, TV Mysteries, Teen TV Shows",
         "line": {
          "color": "#B6E880",
          "dash": "solid"
         },
         "marker": {
          "symbol": "circle"
         },
         "mode": "lines",
         "name": "TV Horror, TV Mysteries, Teen TV Shows",
         "showlegend": true,
         "type": "scattergl",
         "x": [
          2019
         ],
         "xaxis": "x",
         "y": [
          1
         ],
         "yaxis": "y"
        },
        {
         "hovertemplate": "listed_in=TV Horror, Teen TV Shows<br>release_year=%{x}<br>count=%{y}<extra></extra>",
         "legendgroup": "TV Horror, Teen TV Shows",
         "line": {
          "color": "#FF97FF",
          "dash": "solid"
         },
         "marker": {
          "symbol": "circle"
         },
         "mode": "lines",
         "name": "TV Horror, Teen TV Shows",
         "showlegend": true,
         "type": "scattergl",
         "x": [
          2019,
          2021
         ],
         "xaxis": "x",
         "y": [
          1,
          1
         ],
         "yaxis": "y"
        },
        {
         "hovertemplate": "listed_in=British TV Shows, Classic & Cult TV, Kids' TV<br>release_year=%{x}<br>count=%{y}<extra></extra>",
         "legendgroup": "British TV Shows, Classic & Cult TV, Kids' TV",
         "line": {
          "color": "#FECB52",
          "dash": "solid"
         },
         "marker": {
          "symbol": "circle"
         },
         "mode": "lines",
         "name": "British TV Shows, Classic & Cult TV, Kids' TV",
         "showlegend": true,
         "type": "scattergl",
         "x": [
          2020
         ],
         "xaxis": "x",
         "y": [
          1
         ],
         "yaxis": "y"
        },
        {
         "hovertemplate": "listed_in=Classic & Cult TV, TV Dramas, TV Sci-Fi & Fantasy<br>release_year=%{x}<br>count=%{y}<extra></extra>",
         "legendgroup": "Classic & Cult TV, TV Dramas, TV Sci-Fi & Fantasy",
         "line": {
          "color": "#636efa",
          "dash": "solid"
         },
         "marker": {
          "symbol": "circle"
         },
         "mode": "lines",
         "name": "Classic & Cult TV, TV Dramas, TV Sci-Fi & Fantasy",
         "showlegend": true,
         "type": "scattergl",
         "x": [
          2020
         ],
         "xaxis": "x",
         "y": [
          1
         ],
         "yaxis": "y"
        },
        {
         "hovertemplate": "listed_in=Comedies, LGBTQ Movies, Music & Musicals<br>release_year=%{x}<br>count=%{y}<extra></extra>",
         "legendgroup": "Comedies, LGBTQ Movies, Music & Musicals",
         "line": {
          "color": "#EF553B",
          "dash": "solid"
         },
         "marker": {
          "symbol": "circle"
         },
         "mode": "lines",
         "name": "Comedies, LGBTQ Movies, Music & Musicals",
         "showlegend": true,
         "type": "scattergl",
         "x": [
          2020
         ],
         "xaxis": "x",
         "y": [
          1
         ],
         "yaxis": "y"
        },
        {
         "hovertemplate": "listed_in=Crime TV Shows, International TV Shows, TV Mysteries<br>release_year=%{x}<br>count=%{y}<extra></extra>",
         "legendgroup": "Crime TV Shows, International TV Shows, TV Mysteries",
         "line": {
          "color": "#00cc96",
          "dash": "solid"
         },
         "marker": {
          "symbol": "circle"
         },
         "mode": "lines",
         "name": "Crime TV Shows, International TV Shows, TV Mysteries",
         "showlegend": true,
         "type": "scattergl",
         "x": [
          2020
         ],
         "xaxis": "x",
         "y": [
          1
         ],
         "yaxis": "y"
        },
        {
         "hovertemplate": "listed_in=Docuseries, Reality TV, Teen TV Shows<br>release_year=%{x}<br>count=%{y}<extra></extra>",
         "legendgroup": "Docuseries, Reality TV, Teen TV Shows",
         "line": {
          "color": "#ab63fa",
          "dash": "solid"
         },
         "marker": {
          "symbol": "circle"
         },
         "mode": "lines",
         "name": "Docuseries, Reality TV, Teen TV Shows",
         "showlegend": true,
         "type": "scattergl",
         "x": [
          2020
         ],
         "xaxis": "x",
         "y": [
          1
         ],
         "yaxis": "y"
        },
        {
         "hovertemplate": "listed_in=Docuseries, Science & Nature TV, TV Action & Adventure<br>release_year=%{x}<br>count=%{y}<extra></extra>",
         "legendgroup": "Docuseries, Science & Nature TV, TV Action & Adventure",
         "line": {
          "color": "#FFA15A",
          "dash": "solid"
         },
         "marker": {
          "symbol": "circle"
         },
         "mode": "lines",
         "name": "Docuseries, Science & Nature TV, TV Action & Adventure",
         "showlegend": true,
         "type": "scattergl",
         "x": [
          2020,
          2021
         ],
         "xaxis": "x",
         "y": [
          1,
          1
         ],
         "yaxis": "y"
        },
        {
         "hovertemplate": "listed_in=Docuseries, Science & Nature TV, TV Comedies<br>release_year=%{x}<br>count=%{y}<extra></extra>",
         "legendgroup": "Docuseries, Science & Nature TV, TV Comedies",
         "line": {
          "color": "#19d3f3",
          "dash": "solid"
         },
         "marker": {
          "symbol": "circle"
         },
         "mode": "lines",
         "name": "Docuseries, Science & Nature TV, TV Comedies",
         "showlegend": true,
         "type": "scattergl",
         "x": [
          2020
         ],
         "xaxis": "x",
         "y": [
          1
         ],
         "yaxis": "y"
        },
        {
         "hovertemplate": "listed_in=Docuseries, Spanish-Language TV Shows<br>release_year=%{x}<br>count=%{y}<extra></extra>",
         "legendgroup": "Docuseries, Spanish-Language TV Shows",
         "line": {
          "color": "#FF6692",
          "dash": "solid"
         },
         "marker": {
          "symbol": "circle"
         },
         "mode": "lines",
         "name": "Docuseries, Spanish-Language TV Shows",
         "showlegend": true,
         "type": "scattergl",
         "x": [
          2020
         ],
         "xaxis": "x",
         "y": [
          3
         ],
         "yaxis": "y"
        },
        {
         "hovertemplate": "listed_in=Docuseries, TV Sci-Fi & Fantasy<br>release_year=%{x}<br>count=%{y}<extra></extra>",
         "legendgroup": "Docuseries, TV Sci-Fi & Fantasy",
         "line": {
          "color": "#B6E880",
          "dash": "solid"
         },
         "marker": {
          "symbol": "circle"
         },
         "mode": "lines",
         "name": "Docuseries, TV Sci-Fi & Fantasy",
         "showlegend": true,
         "type": "scattergl",
         "x": [
          2020
         ],
         "xaxis": "x",
         "y": [
          1
         ],
         "yaxis": "y"
        },
        {
         "hovertemplate": "listed_in=International TV Shows, Kids' TV, TV Mysteries<br>release_year=%{x}<br>count=%{y}<extra></extra>",
         "legendgroup": "International TV Shows, Kids' TV, TV Mysteries",
         "line": {
          "color": "#FF97FF",
          "dash": "solid"
         },
         "marker": {
          "symbol": "circle"
         },
         "mode": "lines",
         "name": "International TV Shows, Kids' TV, TV Mysteries",
         "showlegend": true,
         "type": "scattergl",
         "x": [
          2020
         ],
         "xaxis": "x",
         "y": [
          1
         ],
         "yaxis": "y"
        },
        {
         "hovertemplate": "listed_in=International TV Shows, Romantic TV Shows, TV Mysteries<br>release_year=%{x}<br>count=%{y}<extra></extra>",
         "legendgroup": "International TV Shows, Romantic TV Shows, TV Mysteries",
         "line": {
          "color": "#FECB52",
          "dash": "solid"
         },
         "marker": {
          "symbol": "circle"
         },
         "mode": "lines",
         "name": "International TV Shows, Romantic TV Shows, TV Mysteries",
         "showlegend": true,
         "type": "scattergl",
         "x": [
          2020
         ],
         "xaxis": "x",
         "y": [
          1
         ],
         "yaxis": "y"
        },
        {
         "hovertemplate": "listed_in=International TV Shows, TV Action & Adventure, TV Horror<br>release_year=%{x}<br>count=%{y}<extra></extra>",
         "legendgroup": "International TV Shows, TV Action & Adventure, TV Horror",
         "line": {
          "color": "#636efa",
          "dash": "solid"
         },
         "marker": {
          "symbol": "circle"
         },
         "mode": "lines",
         "name": "International TV Shows, TV Action & Adventure, TV Horror",
         "showlegend": true,
         "type": "scattergl",
         "x": [
          2020
         ],
         "xaxis": "x",
         "y": [
          1
         ],
         "yaxis": "y"
        },
        {
         "hovertemplate": "listed_in=International TV Shows, TV Horror, TV Sci-Fi & Fantasy<br>release_year=%{x}<br>count=%{y}<extra></extra>",
         "legendgroup": "International TV Shows, TV Horror, TV Sci-Fi & Fantasy",
         "line": {
          "color": "#EF553B",
          "dash": "solid"
         },
         "marker": {
          "symbol": "circle"
         },
         "mode": "lines",
         "name": "International TV Shows, TV Horror, TV Sci-Fi & Fantasy",
         "showlegend": true,
         "type": "scattergl",
         "x": [
          2020
         ],
         "xaxis": "x",
         "y": [
          1
         ],
         "yaxis": "y"
        },
        {
         "hovertemplate": "listed_in=Kids' TV, TV Comedies, Teen TV Shows<br>release_year=%{x}<br>count=%{y}<extra></extra>",
         "legendgroup": "Kids' TV, TV Comedies, Teen TV Shows",
         "line": {
          "color": "#00cc96",
          "dash": "solid"
         },
         "marker": {
          "symbol": "circle"
         },
         "mode": "lines",
         "name": "Kids' TV, TV Comedies, Teen TV Shows",
         "showlegend": true,
         "type": "scattergl",
         "x": [
          2020
         ],
         "xaxis": "x",
         "y": [
          1
         ],
         "yaxis": "y"
        },
        {
         "hovertemplate": "listed_in=Kids' TV, TV Dramas, Teen TV Shows<br>release_year=%{x}<br>count=%{y}<extra></extra>",
         "legendgroup": "Kids' TV, TV Dramas, Teen TV Shows",
         "line": {
          "color": "#ab63fa",
          "dash": "solid"
         },
         "marker": {
          "symbol": "circle"
         },
         "mode": "lines",
         "name": "Kids' TV, TV Dramas, Teen TV Shows",
         "showlegend": true,
         "type": "scattergl",
         "x": [
          2020,
          2021
         ],
         "xaxis": "x",
         "y": [
          1,
          1
         ],
         "yaxis": "y"
        },
        {
         "hovertemplate": "listed_in=TV Action & Adventure, TV Dramas, TV Mysteries<br>release_year=%{x}<br>count=%{y}<extra></extra>",
         "legendgroup": "TV Action & Adventure, TV Dramas, TV Mysteries",
         "line": {
          "color": "#FFA15A",
          "dash": "solid"
         },
         "marker": {
          "symbol": "circle"
         },
         "mode": "lines",
         "name": "TV Action & Adventure, TV Dramas, TV Mysteries",
         "showlegend": true,
         "type": "scattergl",
         "x": [
          2020,
          2021
         ],
         "xaxis": "x",
         "y": [
          1,
          1
         ],
         "yaxis": "y"
        },
        {
         "hovertemplate": "listed_in=TV Action & Adventure, TV Mysteries, TV Sci-Fi & Fantasy<br>release_year=%{x}<br>count=%{y}<extra></extra>",
         "legendgroup": "TV Action & Adventure, TV Mysteries, TV Sci-Fi & Fantasy",
         "line": {
          "color": "#19d3f3",
          "dash": "solid"
         },
         "marker": {
          "symbol": "circle"
         },
         "mode": "lines",
         "name": "TV Action & Adventure, TV Mysteries, TV Sci-Fi & Fantasy",
         "showlegend": true,
         "type": "scattergl",
         "x": [
          2020
         ],
         "xaxis": "x",
         "y": [
          2
         ],
         "yaxis": "y"
        },
        {
         "hovertemplate": "listed_in=TV Comedies, TV Dramas, TV Sci-Fi & Fantasy<br>release_year=%{x}<br>count=%{y}<extra></extra>",
         "legendgroup": "TV Comedies, TV Dramas, TV Sci-Fi & Fantasy",
         "line": {
          "color": "#FF6692",
          "dash": "solid"
         },
         "marker": {
          "symbol": "circle"
         },
         "mode": "lines",
         "name": "TV Comedies, TV Dramas, TV Sci-Fi & Fantasy",
         "showlegend": true,
         "type": "scattergl",
         "x": [
          2020
         ],
         "xaxis": "x",
         "y": [
          1
         ],
         "yaxis": "y"
        },
        {
         "hovertemplate": "listed_in=Action & Adventure, Anime Features<br>release_year=%{x}<br>count=%{y}<extra></extra>",
         "legendgroup": "Action & Adventure, Anime Features",
         "line": {
          "color": "#B6E880",
          "dash": "solid"
         },
         "marker": {
          "symbol": "circle"
         },
         "mode": "lines",
         "name": "Action & Adventure, Anime Features",
         "showlegend": true,
         "type": "scattergl",
         "x": [
          2021
         ],
         "xaxis": "x",
         "y": [
          1
         ],
         "yaxis": "y"
        },
        {
         "hovertemplate": "listed_in=Anime Features, Documentaries<br>release_year=%{x}<br>count=%{y}<extra></extra>",
         "legendgroup": "Anime Features, Documentaries",
         "line": {
          "color": "#FF97FF",
          "dash": "solid"
         },
         "marker": {
          "symbol": "circle"
         },
         "mode": "lines",
         "name": "Anime Features, Documentaries",
         "showlegend": true,
         "type": "scattergl",
         "x": [
          2021
         ],
         "xaxis": "x",
         "y": [
          1
         ],
         "yaxis": "y"
        },
        {
         "hovertemplate": "listed_in=Anime Series, Crime TV Shows, TV Horror<br>release_year=%{x}<br>count=%{y}<extra></extra>",
         "legendgroup": "Anime Series, Crime TV Shows, TV Horror",
         "line": {
          "color": "#FECB52",
          "dash": "solid"
         },
         "marker": {
          "symbol": "circle"
         },
         "mode": "lines",
         "name": "Anime Series, Crime TV Shows, TV Horror",
         "showlegend": true,
         "type": "scattergl",
         "x": [
          2021
         ],
         "xaxis": "x",
         "y": [
          1
         ],
         "yaxis": "y"
        },
        {
         "hovertemplate": "listed_in=Anime Series, International TV Shows, Spanish-Language TV Shows<br>release_year=%{x}<br>count=%{y}<extra></extra>",
         "legendgroup": "Anime Series, International TV Shows, Spanish-Language TV Shows",
         "line": {
          "color": "#636efa",
          "dash": "solid"
         },
         "marker": {
          "symbol": "circle"
         },
         "mode": "lines",
         "name": "Anime Series, International TV Shows, Spanish-Language TV Shows",
         "showlegend": true,
         "type": "scattergl",
         "x": [
          2021
         ],
         "xaxis": "x",
         "y": [
          1
         ],
         "yaxis": "y"
        },
        {
         "hovertemplate": "listed_in=Anime Series, Kids' TV, TV Action & Adventure<br>release_year=%{x}<br>count=%{y}<extra></extra>",
         "legendgroup": "Anime Series, Kids' TV, TV Action & Adventure",
         "line": {
          "color": "#EF553B",
          "dash": "solid"
         },
         "marker": {
          "symbol": "circle"
         },
         "mode": "lines",
         "name": "Anime Series, Kids' TV, TV Action & Adventure",
         "showlegend": true,
         "type": "scattergl",
         "x": [
          2021
         ],
         "xaxis": "x",
         "y": [
          1
         ],
         "yaxis": "y"
        },
        {
         "hovertemplate": "listed_in=Anime Series, Stand-Up Comedy & Talk Shows<br>release_year=%{x}<br>count=%{y}<extra></extra>",
         "legendgroup": "Anime Series, Stand-Up Comedy & Talk Shows",
         "line": {
          "color": "#00cc96",
          "dash": "solid"
         },
         "marker": {
          "symbol": "circle"
         },
         "mode": "lines",
         "name": "Anime Series, Stand-Up Comedy & Talk Shows",
         "showlegend": true,
         "type": "scattergl",
         "x": [
          2021
         ],
         "xaxis": "x",
         "y": [
          1
         ],
         "yaxis": "y"
        },
        {
         "hovertemplate": "listed_in=Anime Series, TV Horror, TV Thrillers<br>release_year=%{x}<br>count=%{y}<extra></extra>",
         "legendgroup": "Anime Series, TV Horror, TV Thrillers",
         "line": {
          "color": "#ab63fa",
          "dash": "solid"
         },
         "marker": {
          "symbol": "circle"
         },
         "mode": "lines",
         "name": "Anime Series, TV Horror, TV Thrillers",
         "showlegend": true,
         "type": "scattergl",
         "x": [
          2021
         ],
         "xaxis": "x",
         "y": [
          2
         ],
         "yaxis": "y"
        },
        {
         "hovertemplate": "listed_in=Children & Family Movies, Faith & Spirituality, Music & Musicals<br>release_year=%{x}<br>count=%{y}<extra></extra>",
         "legendgroup": "Children & Family Movies, Faith & Spirituality, Music & Musicals",
         "line": {
          "color": "#FFA15A",
          "dash": "solid"
         },
         "marker": {
          "symbol": "circle"
         },
         "mode": "lines",
         "name": "Children & Family Movies, Faith & Spirituality, Music & Musicals",
         "showlegend": true,
         "type": "scattergl",
         "x": [
          2021
         ],
         "xaxis": "x",
         "y": [
          1
         ],
         "yaxis": "y"
        },
        {
         "hovertemplate": "listed_in=Comedies, LGBTQ Movies, Thrillers<br>release_year=%{x}<br>count=%{y}<extra></extra>",
         "legendgroup": "Comedies, LGBTQ Movies, Thrillers",
         "line": {
          "color": "#19d3f3",
          "dash": "solid"
         },
         "marker": {
          "symbol": "circle"
         },
         "mode": "lines",
         "name": "Comedies, LGBTQ Movies, Thrillers",
         "showlegend": true,
         "type": "scattergl",
         "x": [
          2021
         ],
         "xaxis": "x",
         "y": [
          1
         ],
         "yaxis": "y"
        },
        {
         "hovertemplate": "listed_in=Crime TV Shows, International TV Shows, TV Thrillers<br>release_year=%{x}<br>count=%{y}<extra></extra>",
         "legendgroup": "Crime TV Shows, International TV Shows, TV Thrillers",
         "line": {
          "color": "#FF6692",
          "dash": "solid"
         },
         "marker": {
          "symbol": "circle"
         },
         "mode": "lines",
         "name": "Crime TV Shows, International TV Shows, TV Thrillers",
         "showlegend": true,
         "type": "scattergl",
         "x": [
          2021
         ],
         "xaxis": "x",
         "y": [
          1
         ],
         "yaxis": "y"
        },
        {
         "hovertemplate": "listed_in=Crime TV Shows, TV Action & Adventure, TV Sci-Fi & Fantasy<br>release_year=%{x}<br>count=%{y}<extra></extra>",
         "legendgroup": "Crime TV Shows, TV Action & Adventure, TV Sci-Fi & Fantasy",
         "line": {
          "color": "#B6E880",
          "dash": "solid"
         },
         "marker": {
          "symbol": "circle"
         },
         "mode": "lines",
         "name": "Crime TV Shows, TV Action & Adventure, TV Sci-Fi & Fantasy",
         "showlegend": true,
         "type": "scattergl",
         "x": [
          2021
         ],
         "xaxis": "x",
         "y": [
          1
         ],
         "yaxis": "y"
        },
        {
         "hovertemplate": "listed_in=Documentaries, LGBTQ Movies, Sports Movies<br>release_year=%{x}<br>count=%{y}<extra></extra>",
         "legendgroup": "Documentaries, LGBTQ Movies, Sports Movies",
         "line": {
          "color": "#FF97FF",
          "dash": "solid"
         },
         "marker": {
          "symbol": "circle"
         },
         "mode": "lines",
         "name": "Documentaries, LGBTQ Movies, Sports Movies",
         "showlegend": true,
         "type": "scattergl",
         "x": [
          2021
         ],
         "xaxis": "x",
         "y": [
          2
         ],
         "yaxis": "y"
        },
        {
         "hovertemplate": "listed_in=Horror Movies, LGBTQ Movies<br>release_year=%{x}<br>count=%{y}<extra></extra>",
         "legendgroup": "Horror Movies, LGBTQ Movies",
         "line": {
          "color": "#FECB52",
          "dash": "solid"
         },
         "marker": {
          "symbol": "circle"
         },
         "mode": "lines",
         "name": "Horror Movies, LGBTQ Movies",
         "showlegend": true,
         "type": "scattergl",
         "x": [
          2021
         ],
         "xaxis": "x",
         "y": [
          2
         ],
         "yaxis": "y"
        },
        {
         "hovertemplate": "listed_in=Reality TV, TV Horror, TV Thrillers<br>release_year=%{x}<br>count=%{y}<extra></extra>",
         "legendgroup": "Reality TV, TV Horror, TV Thrillers",
         "line": {
          "color": "#636efa",
          "dash": "solid"
         },
         "marker": {
          "symbol": "circle"
         },
         "mode": "lines",
         "name": "Reality TV, TV Horror, TV Thrillers",
         "showlegend": true,
         "type": "scattergl",
         "x": [
          2021
         ],
         "xaxis": "x",
         "y": [
          1
         ],
         "yaxis": "y"
        },
        {
         "hovertemplate": "listed_in=TV Action & Adventure, TV Comedies, TV Dramas<br>release_year=%{x}<br>count=%{y}<extra></extra>",
         "legendgroup": "TV Action & Adventure, TV Comedies, TV Dramas",
         "line": {
          "color": "#EF553B",
          "dash": "solid"
         },
         "marker": {
          "symbol": "circle"
         },
         "mode": "lines",
         "name": "TV Action & Adventure, TV Comedies, TV Dramas",
         "showlegend": true,
         "type": "scattergl",
         "x": [
          2021
         ],
         "xaxis": "x",
         "y": [
          1
         ],
         "yaxis": "y"
        },
        {
         "hovertemplate": "listed_in=TV Action & Adventure, TV Dramas, Teen TV Shows<br>release_year=%{x}<br>count=%{y}<extra></extra>",
         "legendgroup": "TV Action & Adventure, TV Dramas, Teen TV Shows",
         "line": {
          "color": "#00cc96",
          "dash": "solid"
         },
         "marker": {
          "symbol": "circle"
         },
         "mode": "lines",
         "name": "TV Action & Adventure, TV Dramas, Teen TV Shows",
         "showlegend": true,
         "type": "scattergl",
         "x": [
          2021
         ],
         "xaxis": "x",
         "y": [
          1
         ],
         "yaxis": "y"
        },
        {
         "hovertemplate": "listed_in=TV Action & Adventure, TV Horror, TV Sci-Fi & Fantasy<br>release_year=%{x}<br>count=%{y}<extra></extra>",
         "legendgroup": "TV Action & Adventure, TV Horror, TV Sci-Fi & Fantasy",
         "line": {
          "color": "#ab63fa",
          "dash": "solid"
         },
         "marker": {
          "symbol": "circle"
         },
         "mode": "lines",
         "name": "TV Action & Adventure, TV Horror, TV Sci-Fi & Fantasy",
         "showlegend": true,
         "type": "scattergl",
         "x": [
          2021
         ],
         "xaxis": "x",
         "y": [
          1
         ],
         "yaxis": "y"
        }
       ],
       "layout": {
        "legend": {
         "title": {
          "text": "listed_in"
         },
         "tracegroupgap": 0
        },
        "template": {
         "data": {
          "bar": [
           {
            "error_x": {
             "color": "#2a3f5f"
            },
            "error_y": {
             "color": "#2a3f5f"
            },
            "marker": {
             "line": {
              "color": "#E5ECF6",
              "width": 0.5
             },
             "pattern": {
              "fillmode": "overlay",
              "size": 10,
              "solidity": 0.2
             }
            },
            "type": "bar"
           }
          ],
          "barpolar": [
           {
            "marker": {
             "line": {
              "color": "#E5ECF6",
              "width": 0.5
             },
             "pattern": {
              "fillmode": "overlay",
              "size": 10,
              "solidity": 0.2
             }
            },
            "type": "barpolar"
           }
          ],
          "carpet": [
           {
            "aaxis": {
             "endlinecolor": "#2a3f5f",
             "gridcolor": "white",
             "linecolor": "white",
             "minorgridcolor": "white",
             "startlinecolor": "#2a3f5f"
            },
            "baxis": {
             "endlinecolor": "#2a3f5f",
             "gridcolor": "white",
             "linecolor": "white",
             "minorgridcolor": "white",
             "startlinecolor": "#2a3f5f"
            },
            "type": "carpet"
           }
          ],
          "choropleth": [
           {
            "colorbar": {
             "outlinewidth": 0,
             "ticks": ""
            },
            "type": "choropleth"
           }
          ],
          "contour": [
           {
            "colorbar": {
             "outlinewidth": 0,
             "ticks": ""
            },
            "colorscale": [
             [
              0,
              "#0d0887"
             ],
             [
              0.1111111111111111,
              "#46039f"
             ],
             [
              0.2222222222222222,
              "#7201a8"
             ],
             [
              0.3333333333333333,
              "#9c179e"
             ],
             [
              0.4444444444444444,
              "#bd3786"
             ],
             [
              0.5555555555555556,
              "#d8576b"
             ],
             [
              0.6666666666666666,
              "#ed7953"
             ],
             [
              0.7777777777777778,
              "#fb9f3a"
             ],
             [
              0.8888888888888888,
              "#fdca26"
             ],
             [
              1,
              "#f0f921"
             ]
            ],
            "type": "contour"
           }
          ],
          "contourcarpet": [
           {
            "colorbar": {
             "outlinewidth": 0,
             "ticks": ""
            },
            "type": "contourcarpet"
           }
          ],
          "heatmap": [
           {
            "colorbar": {
             "outlinewidth": 0,
             "ticks": ""
            },
            "colorscale": [
             [
              0,
              "#0d0887"
             ],
             [
              0.1111111111111111,
              "#46039f"
             ],
             [
              0.2222222222222222,
              "#7201a8"
             ],
             [
              0.3333333333333333,
              "#9c179e"
             ],
             [
              0.4444444444444444,
              "#bd3786"
             ],
             [
              0.5555555555555556,
              "#d8576b"
             ],
             [
              0.6666666666666666,
              "#ed7953"
             ],
             [
              0.7777777777777778,
              "#fb9f3a"
             ],
             [
              0.8888888888888888,
              "#fdca26"
             ],
             [
              1,
              "#f0f921"
             ]
            ],
            "type": "heatmap"
           }
          ],
          "heatmapgl": [
           {
            "colorbar": {
             "outlinewidth": 0,
             "ticks": ""
            },
            "colorscale": [
             [
              0,
              "#0d0887"
             ],
             [
              0.1111111111111111,
              "#46039f"
             ],
             [
              0.2222222222222222,
              "#7201a8"
             ],
             [
              0.3333333333333333,
              "#9c179e"
             ],
             [
              0.4444444444444444,
              "#bd3786"
             ],
             [
              0.5555555555555556,
              "#d8576b"
             ],
             [
              0.6666666666666666,
              "#ed7953"
             ],
             [
              0.7777777777777778,
              "#fb9f3a"
             ],
             [
              0.8888888888888888,
              "#fdca26"
             ],
             [
              1,
              "#f0f921"
             ]
            ],
            "type": "heatmapgl"
           }
          ],
          "histogram": [
           {
            "marker": {
             "pattern": {
              "fillmode": "overlay",
              "size": 10,
              "solidity": 0.2
             }
            },
            "type": "histogram"
           }
          ],
          "histogram2d": [
           {
            "colorbar": {
             "outlinewidth": 0,
             "ticks": ""
            },
            "colorscale": [
             [
              0,
              "#0d0887"
             ],
             [
              0.1111111111111111,
              "#46039f"
             ],
             [
              0.2222222222222222,
              "#7201a8"
             ],
             [
              0.3333333333333333,
              "#9c179e"
             ],
             [
              0.4444444444444444,
              "#bd3786"
             ],
             [
              0.5555555555555556,
              "#d8576b"
             ],
             [
              0.6666666666666666,
              "#ed7953"
             ],
             [
              0.7777777777777778,
              "#fb9f3a"
             ],
             [
              0.8888888888888888,
              "#fdca26"
             ],
             [
              1,
              "#f0f921"
             ]
            ],
            "type": "histogram2d"
           }
          ],
          "histogram2dcontour": [
           {
            "colorbar": {
             "outlinewidth": 0,
             "ticks": ""
            },
            "colorscale": [
             [
              0,
              "#0d0887"
             ],
             [
              0.1111111111111111,
              "#46039f"
             ],
             [
              0.2222222222222222,
              "#7201a8"
             ],
             [
              0.3333333333333333,
              "#9c179e"
             ],
             [
              0.4444444444444444,
              "#bd3786"
             ],
             [
              0.5555555555555556,
              "#d8576b"
             ],
             [
              0.6666666666666666,
              "#ed7953"
             ],
             [
              0.7777777777777778,
              "#fb9f3a"
             ],
             [
              0.8888888888888888,
              "#fdca26"
             ],
             [
              1,
              "#f0f921"
             ]
            ],
            "type": "histogram2dcontour"
           }
          ],
          "mesh3d": [
           {
            "colorbar": {
             "outlinewidth": 0,
             "ticks": ""
            },
            "type": "mesh3d"
           }
          ],
          "parcoords": [
           {
            "line": {
             "colorbar": {
              "outlinewidth": 0,
              "ticks": ""
             }
            },
            "type": "parcoords"
           }
          ],
          "pie": [
           {
            "automargin": true,
            "type": "pie"
           }
          ],
          "scatter": [
           {
            "fillpattern": {
             "fillmode": "overlay",
             "size": 10,
             "solidity": 0.2
            },
            "type": "scatter"
           }
          ],
          "scatter3d": [
           {
            "line": {
             "colorbar": {
              "outlinewidth": 0,
              "ticks": ""
             }
            },
            "marker": {
             "colorbar": {
              "outlinewidth": 0,
              "ticks": ""
             }
            },
            "type": "scatter3d"
           }
          ],
          "scattercarpet": [
           {
            "marker": {
             "colorbar": {
              "outlinewidth": 0,
              "ticks": ""
             }
            },
            "type": "scattercarpet"
           }
          ],
          "scattergeo": [
           {
            "marker": {
             "colorbar": {
              "outlinewidth": 0,
              "ticks": ""
             }
            },
            "type": "scattergeo"
           }
          ],
          "scattergl": [
           {
            "marker": {
             "colorbar": {
              "outlinewidth": 0,
              "ticks": ""
             }
            },
            "type": "scattergl"
           }
          ],
          "scattermapbox": [
           {
            "marker": {
             "colorbar": {
              "outlinewidth": 0,
              "ticks": ""
             }
            },
            "type": "scattermapbox"
           }
          ],
          "scatterpolar": [
           {
            "marker": {
             "colorbar": {
              "outlinewidth": 0,
              "ticks": ""
             }
            },
            "type": "scatterpolar"
           }
          ],
          "scatterpolargl": [
           {
            "marker": {
             "colorbar": {
              "outlinewidth": 0,
              "ticks": ""
             }
            },
            "type": "scatterpolargl"
           }
          ],
          "scatterternary": [
           {
            "marker": {
             "colorbar": {
              "outlinewidth": 0,
              "ticks": ""
             }
            },
            "type": "scatterternary"
           }
          ],
          "surface": [
           {
            "colorbar": {
             "outlinewidth": 0,
             "ticks": ""
            },
            "colorscale": [
             [
              0,
              "#0d0887"
             ],
             [
              0.1111111111111111,
              "#46039f"
             ],
             [
              0.2222222222222222,
              "#7201a8"
             ],
             [
              0.3333333333333333,
              "#9c179e"
             ],
             [
              0.4444444444444444,
              "#bd3786"
             ],
             [
              0.5555555555555556,
              "#d8576b"
             ],
             [
              0.6666666666666666,
              "#ed7953"
             ],
             [
              0.7777777777777778,
              "#fb9f3a"
             ],
             [
              0.8888888888888888,
              "#fdca26"
             ],
             [
              1,
              "#f0f921"
             ]
            ],
            "type": "surface"
           }
          ],
          "table": [
           {
            "cells": {
             "fill": {
              "color": "#EBF0F8"
             },
             "line": {
              "color": "white"
             }
            },
            "header": {
             "fill": {
              "color": "#C8D4E3"
             },
             "line": {
              "color": "white"
             }
            },
            "type": "table"
           }
          ]
         },
         "layout": {
          "annotationdefaults": {
           "arrowcolor": "#2a3f5f",
           "arrowhead": 0,
           "arrowwidth": 1
          },
          "autotypenumbers": "strict",
          "coloraxis": {
           "colorbar": {
            "outlinewidth": 0,
            "ticks": ""
           }
          },
          "colorscale": {
           "diverging": [
            [
             0,
             "#8e0152"
            ],
            [
             0.1,
             "#c51b7d"
            ],
            [
             0.2,
             "#de77ae"
            ],
            [
             0.3,
             "#f1b6da"
            ],
            [
             0.4,
             "#fde0ef"
            ],
            [
             0.5,
             "#f7f7f7"
            ],
            [
             0.6,
             "#e6f5d0"
            ],
            [
             0.7,
             "#b8e186"
            ],
            [
             0.8,
             "#7fbc41"
            ],
            [
             0.9,
             "#4d9221"
            ],
            [
             1,
             "#276419"
            ]
           ],
           "sequential": [
            [
             0,
             "#0d0887"
            ],
            [
             0.1111111111111111,
             "#46039f"
            ],
            [
             0.2222222222222222,
             "#7201a8"
            ],
            [
             0.3333333333333333,
             "#9c179e"
            ],
            [
             0.4444444444444444,
             "#bd3786"
            ],
            [
             0.5555555555555556,
             "#d8576b"
            ],
            [
             0.6666666666666666,
             "#ed7953"
            ],
            [
             0.7777777777777778,
             "#fb9f3a"
            ],
            [
             0.8888888888888888,
             "#fdca26"
            ],
            [
             1,
             "#f0f921"
            ]
           ],
           "sequentialminus": [
            [
             0,
             "#0d0887"
            ],
            [
             0.1111111111111111,
             "#46039f"
            ],
            [
             0.2222222222222222,
             "#7201a8"
            ],
            [
             0.3333333333333333,
             "#9c179e"
            ],
            [
             0.4444444444444444,
             "#bd3786"
            ],
            [
             0.5555555555555556,
             "#d8576b"
            ],
            [
             0.6666666666666666,
             "#ed7953"
            ],
            [
             0.7777777777777778,
             "#fb9f3a"
            ],
            [
             0.8888888888888888,
             "#fdca26"
            ],
            [
             1,
             "#f0f921"
            ]
           ]
          },
          "colorway": [
           "#636efa",
           "#EF553B",
           "#00cc96",
           "#ab63fa",
           "#FFA15A",
           "#19d3f3",
           "#FF6692",
           "#B6E880",
           "#FF97FF",
           "#FECB52"
          ],
          "font": {
           "color": "#2a3f5f"
          },
          "geo": {
           "bgcolor": "white",
           "lakecolor": "white",
           "landcolor": "#E5ECF6",
           "showlakes": true,
           "showland": true,
           "subunitcolor": "white"
          },
          "hoverlabel": {
           "align": "left"
          },
          "hovermode": "closest",
          "mapbox": {
           "style": "light"
          },
          "paper_bgcolor": "white",
          "plot_bgcolor": "#E5ECF6",
          "polar": {
           "angularaxis": {
            "gridcolor": "white",
            "linecolor": "white",
            "ticks": ""
           },
           "bgcolor": "#E5ECF6",
           "radialaxis": {
            "gridcolor": "white",
            "linecolor": "white",
            "ticks": ""
           }
          },
          "scene": {
           "xaxis": {
            "backgroundcolor": "#E5ECF6",
            "gridcolor": "white",
            "gridwidth": 2,
            "linecolor": "white",
            "showbackground": true,
            "ticks": "",
            "zerolinecolor": "white"
           },
           "yaxis": {
            "backgroundcolor": "#E5ECF6",
            "gridcolor": "white",
            "gridwidth": 2,
            "linecolor": "white",
            "showbackground": true,
            "ticks": "",
            "zerolinecolor": "white"
           },
           "zaxis": {
            "backgroundcolor": "#E5ECF6",
            "gridcolor": "white",
            "gridwidth": 2,
            "linecolor": "white",
            "showbackground": true,
            "ticks": "",
            "zerolinecolor": "white"
           }
          },
          "shapedefaults": {
           "line": {
            "color": "#2a3f5f"
           }
          },
          "ternary": {
           "aaxis": {
            "gridcolor": "white",
            "linecolor": "white",
            "ticks": ""
           },
           "baxis": {
            "gridcolor": "white",
            "linecolor": "white",
            "ticks": ""
           },
           "bgcolor": "#E5ECF6",
           "caxis": {
            "gridcolor": "white",
            "linecolor": "white",
            "ticks": ""
           }
          },
          "title": {
           "x": 0.05
          },
          "xaxis": {
           "automargin": true,
           "gridcolor": "white",
           "linecolor": "white",
           "ticks": "",
           "title": {
            "standoff": 15
           },
           "zerolinecolor": "white",
           "zerolinewidth": 2
          },
          "yaxis": {
           "automargin": true,
           "gridcolor": "white",
           "linecolor": "white",
           "ticks": "",
           "title": {
            "standoff": 15
           },
           "zerolinecolor": "white",
           "zerolinewidth": 2
          }
         }
        },
        "title": {
         "text": "Genre Distribution Over the Years"
        },
        "xaxis": {
         "anchor": "y",
         "domain": [
          0,
          1
         ],
         "title": {
          "text": "release_year"
         }
        },
        "yaxis": {
         "anchor": "x",
         "domain": [
          0,
          1
         ],
         "title": {
          "text": "count"
         }
        }
       }
      }
     },
     "metadata": {},
     "output_type": "display_data"
    }
   ],
   "source": [
    "genre_year = df.groupby(['release_year', 'listed_in']).size().reset_index(name='count')\n",
    "fig = px.line(genre_year, x='release_year', y='count', color='listed_in', title='Genre Distribution Over the Years')\n",
    "fig.show()\n"
   ]
  },
  {
   "cell_type": "markdown",
   "metadata": {},
   "source": [
    "# Top 5 Countries Contributing Content (Bar Chart):"
   ]
  },
  {
   "cell_type": "code",
   "execution_count": 24,
   "metadata": {},
   "outputs": [
    {
     "data": {
      "application/vnd.plotly.v1+json": {
       "config": {
        "plotlyServerURL": "https://plot.ly"
       },
       "data": [
        {
         "alignmentgroup": "True",
         "hovertemplate": "index=%{x}<br>y=%{y}<extra></extra>",
         "legendgroup": "",
         "marker": {
          "color": "#636efa",
          "pattern": {
           "shape": ""
          }
         },
         "name": "",
         "offsetgroup": "",
         "orientation": "v",
         "showlegend": false,
         "textposition": "auto",
         "type": "bar",
         "x": [
          "United States",
          "India",
          "United Kingdom",
          "Japan",
          "South Korea"
         ],
         "xaxis": "x",
         "y": [
          2818,
          972,
          419,
          245,
          199
         ],
         "yaxis": "y"
        }
       ],
       "layout": {
        "barmode": "relative",
        "legend": {
         "tracegroupgap": 0
        },
        "template": {
         "data": {
          "bar": [
           {
            "error_x": {
             "color": "#2a3f5f"
            },
            "error_y": {
             "color": "#2a3f5f"
            },
            "marker": {
             "line": {
              "color": "#E5ECF6",
              "width": 0.5
             },
             "pattern": {
              "fillmode": "overlay",
              "size": 10,
              "solidity": 0.2
             }
            },
            "type": "bar"
           }
          ],
          "barpolar": [
           {
            "marker": {
             "line": {
              "color": "#E5ECF6",
              "width": 0.5
             },
             "pattern": {
              "fillmode": "overlay",
              "size": 10,
              "solidity": 0.2
             }
            },
            "type": "barpolar"
           }
          ],
          "carpet": [
           {
            "aaxis": {
             "endlinecolor": "#2a3f5f",
             "gridcolor": "white",
             "linecolor": "white",
             "minorgridcolor": "white",
             "startlinecolor": "#2a3f5f"
            },
            "baxis": {
             "endlinecolor": "#2a3f5f",
             "gridcolor": "white",
             "linecolor": "white",
             "minorgridcolor": "white",
             "startlinecolor": "#2a3f5f"
            },
            "type": "carpet"
           }
          ],
          "choropleth": [
           {
            "colorbar": {
             "outlinewidth": 0,
             "ticks": ""
            },
            "type": "choropleth"
           }
          ],
          "contour": [
           {
            "colorbar": {
             "outlinewidth": 0,
             "ticks": ""
            },
            "colorscale": [
             [
              0,
              "#0d0887"
             ],
             [
              0.1111111111111111,
              "#46039f"
             ],
             [
              0.2222222222222222,
              "#7201a8"
             ],
             [
              0.3333333333333333,
              "#9c179e"
             ],
             [
              0.4444444444444444,
              "#bd3786"
             ],
             [
              0.5555555555555556,
              "#d8576b"
             ],
             [
              0.6666666666666666,
              "#ed7953"
             ],
             [
              0.7777777777777778,
              "#fb9f3a"
             ],
             [
              0.8888888888888888,
              "#fdca26"
             ],
             [
              1,
              "#f0f921"
             ]
            ],
            "type": "contour"
           }
          ],
          "contourcarpet": [
           {
            "colorbar": {
             "outlinewidth": 0,
             "ticks": ""
            },
            "type": "contourcarpet"
           }
          ],
          "heatmap": [
           {
            "colorbar": {
             "outlinewidth": 0,
             "ticks": ""
            },
            "colorscale": [
             [
              0,
              "#0d0887"
             ],
             [
              0.1111111111111111,
              "#46039f"
             ],
             [
              0.2222222222222222,
              "#7201a8"
             ],
             [
              0.3333333333333333,
              "#9c179e"
             ],
             [
              0.4444444444444444,
              "#bd3786"
             ],
             [
              0.5555555555555556,
              "#d8576b"
             ],
             [
              0.6666666666666666,
              "#ed7953"
             ],
             [
              0.7777777777777778,
              "#fb9f3a"
             ],
             [
              0.8888888888888888,
              "#fdca26"
             ],
             [
              1,
              "#f0f921"
             ]
            ],
            "type": "heatmap"
           }
          ],
          "heatmapgl": [
           {
            "colorbar": {
             "outlinewidth": 0,
             "ticks": ""
            },
            "colorscale": [
             [
              0,
              "#0d0887"
             ],
             [
              0.1111111111111111,
              "#46039f"
             ],
             [
              0.2222222222222222,
              "#7201a8"
             ],
             [
              0.3333333333333333,
              "#9c179e"
             ],
             [
              0.4444444444444444,
              "#bd3786"
             ],
             [
              0.5555555555555556,
              "#d8576b"
             ],
             [
              0.6666666666666666,
              "#ed7953"
             ],
             [
              0.7777777777777778,
              "#fb9f3a"
             ],
             [
              0.8888888888888888,
              "#fdca26"
             ],
             [
              1,
              "#f0f921"
             ]
            ],
            "type": "heatmapgl"
           }
          ],
          "histogram": [
           {
            "marker": {
             "pattern": {
              "fillmode": "overlay",
              "size": 10,
              "solidity": 0.2
             }
            },
            "type": "histogram"
           }
          ],
          "histogram2d": [
           {
            "colorbar": {
             "outlinewidth": 0,
             "ticks": ""
            },
            "colorscale": [
             [
              0,
              "#0d0887"
             ],
             [
              0.1111111111111111,
              "#46039f"
             ],
             [
              0.2222222222222222,
              "#7201a8"
             ],
             [
              0.3333333333333333,
              "#9c179e"
             ],
             [
              0.4444444444444444,
              "#bd3786"
             ],
             [
              0.5555555555555556,
              "#d8576b"
             ],
             [
              0.6666666666666666,
              "#ed7953"
             ],
             [
              0.7777777777777778,
              "#fb9f3a"
             ],
             [
              0.8888888888888888,
              "#fdca26"
             ],
             [
              1,
              "#f0f921"
             ]
            ],
            "type": "histogram2d"
           }
          ],
          "histogram2dcontour": [
           {
            "colorbar": {
             "outlinewidth": 0,
             "ticks": ""
            },
            "colorscale": [
             [
              0,
              "#0d0887"
             ],
             [
              0.1111111111111111,
              "#46039f"
             ],
             [
              0.2222222222222222,
              "#7201a8"
             ],
             [
              0.3333333333333333,
              "#9c179e"
             ],
             [
              0.4444444444444444,
              "#bd3786"
             ],
             [
              0.5555555555555556,
              "#d8576b"
             ],
             [
              0.6666666666666666,
              "#ed7953"
             ],
             [
              0.7777777777777778,
              "#fb9f3a"
             ],
             [
              0.8888888888888888,
              "#fdca26"
             ],
             [
              1,
              "#f0f921"
             ]
            ],
            "type": "histogram2dcontour"
           }
          ],
          "mesh3d": [
           {
            "colorbar": {
             "outlinewidth": 0,
             "ticks": ""
            },
            "type": "mesh3d"
           }
          ],
          "parcoords": [
           {
            "line": {
             "colorbar": {
              "outlinewidth": 0,
              "ticks": ""
             }
            },
            "type": "parcoords"
           }
          ],
          "pie": [
           {
            "automargin": true,
            "type": "pie"
           }
          ],
          "scatter": [
           {
            "fillpattern": {
             "fillmode": "overlay",
             "size": 10,
             "solidity": 0.2
            },
            "type": "scatter"
           }
          ],
          "scatter3d": [
           {
            "line": {
             "colorbar": {
              "outlinewidth": 0,
              "ticks": ""
             }
            },
            "marker": {
             "colorbar": {
              "outlinewidth": 0,
              "ticks": ""
             }
            },
            "type": "scatter3d"
           }
          ],
          "scattercarpet": [
           {
            "marker": {
             "colorbar": {
              "outlinewidth": 0,
              "ticks": ""
             }
            },
            "type": "scattercarpet"
           }
          ],
          "scattergeo": [
           {
            "marker": {
             "colorbar": {
              "outlinewidth": 0,
              "ticks": ""
             }
            },
            "type": "scattergeo"
           }
          ],
          "scattergl": [
           {
            "marker": {
             "colorbar": {
              "outlinewidth": 0,
              "ticks": ""
             }
            },
            "type": "scattergl"
           }
          ],
          "scattermapbox": [
           {
            "marker": {
             "colorbar": {
              "outlinewidth": 0,
              "ticks": ""
             }
            },
            "type": "scattermapbox"
           }
          ],
          "scatterpolar": [
           {
            "marker": {
             "colorbar": {
              "outlinewidth": 0,
              "ticks": ""
             }
            },
            "type": "scatterpolar"
           }
          ],
          "scatterpolargl": [
           {
            "marker": {
             "colorbar": {
              "outlinewidth": 0,
              "ticks": ""
             }
            },
            "type": "scatterpolargl"
           }
          ],
          "scatterternary": [
           {
            "marker": {
             "colorbar": {
              "outlinewidth": 0,
              "ticks": ""
             }
            },
            "type": "scatterternary"
           }
          ],
          "surface": [
           {
            "colorbar": {
             "outlinewidth": 0,
             "ticks": ""
            },
            "colorscale": [
             [
              0,
              "#0d0887"
             ],
             [
              0.1111111111111111,
              "#46039f"
             ],
             [
              0.2222222222222222,
              "#7201a8"
             ],
             [
              0.3333333333333333,
              "#9c179e"
             ],
             [
              0.4444444444444444,
              "#bd3786"
             ],
             [
              0.5555555555555556,
              "#d8576b"
             ],
             [
              0.6666666666666666,
              "#ed7953"
             ],
             [
              0.7777777777777778,
              "#fb9f3a"
             ],
             [
              0.8888888888888888,
              "#fdca26"
             ],
             [
              1,
              "#f0f921"
             ]
            ],
            "type": "surface"
           }
          ],
          "table": [
           {
            "cells": {
             "fill": {
              "color": "#EBF0F8"
             },
             "line": {
              "color": "white"
             }
            },
            "header": {
             "fill": {
              "color": "#C8D4E3"
             },
             "line": {
              "color": "white"
             }
            },
            "type": "table"
           }
          ]
         },
         "layout": {
          "annotationdefaults": {
           "arrowcolor": "#2a3f5f",
           "arrowhead": 0,
           "arrowwidth": 1
          },
          "autotypenumbers": "strict",
          "coloraxis": {
           "colorbar": {
            "outlinewidth": 0,
            "ticks": ""
           }
          },
          "colorscale": {
           "diverging": [
            [
             0,
             "#8e0152"
            ],
            [
             0.1,
             "#c51b7d"
            ],
            [
             0.2,
             "#de77ae"
            ],
            [
             0.3,
             "#f1b6da"
            ],
            [
             0.4,
             "#fde0ef"
            ],
            [
             0.5,
             "#f7f7f7"
            ],
            [
             0.6,
             "#e6f5d0"
            ],
            [
             0.7,
             "#b8e186"
            ],
            [
             0.8,
             "#7fbc41"
            ],
            [
             0.9,
             "#4d9221"
            ],
            [
             1,
             "#276419"
            ]
           ],
           "sequential": [
            [
             0,
             "#0d0887"
            ],
            [
             0.1111111111111111,
             "#46039f"
            ],
            [
             0.2222222222222222,
             "#7201a8"
            ],
            [
             0.3333333333333333,
             "#9c179e"
            ],
            [
             0.4444444444444444,
             "#bd3786"
            ],
            [
             0.5555555555555556,
             "#d8576b"
            ],
            [
             0.6666666666666666,
             "#ed7953"
            ],
            [
             0.7777777777777778,
             "#fb9f3a"
            ],
            [
             0.8888888888888888,
             "#fdca26"
            ],
            [
             1,
             "#f0f921"
            ]
           ],
           "sequentialminus": [
            [
             0,
             "#0d0887"
            ],
            [
             0.1111111111111111,
             "#46039f"
            ],
            [
             0.2222222222222222,
             "#7201a8"
            ],
            [
             0.3333333333333333,
             "#9c179e"
            ],
            [
             0.4444444444444444,
             "#bd3786"
            ],
            [
             0.5555555555555556,
             "#d8576b"
            ],
            [
             0.6666666666666666,
             "#ed7953"
            ],
            [
             0.7777777777777778,
             "#fb9f3a"
            ],
            [
             0.8888888888888888,
             "#fdca26"
            ],
            [
             1,
             "#f0f921"
            ]
           ]
          },
          "colorway": [
           "#636efa",
           "#EF553B",
           "#00cc96",
           "#ab63fa",
           "#FFA15A",
           "#19d3f3",
           "#FF6692",
           "#B6E880",
           "#FF97FF",
           "#FECB52"
          ],
          "font": {
           "color": "#2a3f5f"
          },
          "geo": {
           "bgcolor": "white",
           "lakecolor": "white",
           "landcolor": "#E5ECF6",
           "showlakes": true,
           "showland": true,
           "subunitcolor": "white"
          },
          "hoverlabel": {
           "align": "left"
          },
          "hovermode": "closest",
          "mapbox": {
           "style": "light"
          },
          "paper_bgcolor": "white",
          "plot_bgcolor": "#E5ECF6",
          "polar": {
           "angularaxis": {
            "gridcolor": "white",
            "linecolor": "white",
            "ticks": ""
           },
           "bgcolor": "#E5ECF6",
           "radialaxis": {
            "gridcolor": "white",
            "linecolor": "white",
            "ticks": ""
           }
          },
          "scene": {
           "xaxis": {
            "backgroundcolor": "#E5ECF6",
            "gridcolor": "white",
            "gridwidth": 2,
            "linecolor": "white",
            "showbackground": true,
            "ticks": "",
            "zerolinecolor": "white"
           },
           "yaxis": {
            "backgroundcolor": "#E5ECF6",
            "gridcolor": "white",
            "gridwidth": 2,
            "linecolor": "white",
            "showbackground": true,
            "ticks": "",
            "zerolinecolor": "white"
           },
           "zaxis": {
            "backgroundcolor": "#E5ECF6",
            "gridcolor": "white",
            "gridwidth": 2,
            "linecolor": "white",
            "showbackground": true,
            "ticks": "",
            "zerolinecolor": "white"
           }
          },
          "shapedefaults": {
           "line": {
            "color": "#2a3f5f"
           }
          },
          "ternary": {
           "aaxis": {
            "gridcolor": "white",
            "linecolor": "white",
            "ticks": ""
           },
           "baxis": {
            "gridcolor": "white",
            "linecolor": "white",
            "ticks": ""
           },
           "bgcolor": "#E5ECF6",
           "caxis": {
            "gridcolor": "white",
            "linecolor": "white",
            "ticks": ""
           }
          },
          "title": {
           "x": 0.05
          },
          "xaxis": {
           "automargin": true,
           "gridcolor": "white",
           "linecolor": "white",
           "ticks": "",
           "title": {
            "standoff": 15
           },
           "zerolinecolor": "white",
           "zerolinewidth": 2
          },
          "yaxis": {
           "automargin": true,
           "gridcolor": "white",
           "linecolor": "white",
           "ticks": "",
           "title": {
            "standoff": 15
           },
           "zerolinecolor": "white",
           "zerolinewidth": 2
          }
         }
        },
        "title": {
         "text": "Top 5 Countries Contributing Content"
        },
        "xaxis": {
         "anchor": "y",
         "domain": [
          0,
          1
         ],
         "title": {
          "text": "index"
         }
        },
        "yaxis": {
         "anchor": "x",
         "domain": [
          0,
          1
         ],
         "title": {
          "text": "y"
         }
        }
       }
      }
     },
     "metadata": {},
     "output_type": "display_data"
    }
   ],
   "source": [
    "top_countries = df['country'].value_counts().head(5)\n",
    "fig = px.bar(top_countries, x=top_countries.index, y=top_countries.values, title='Top 5 Countries Contributing Content')\n",
    "fig.show()\n"
   ]
  },
  {
   "cell_type": "markdown",
   "metadata": {},
   "source": [
    "# Content Types Ratio (Pie Chart):"
   ]
  },
  {
   "cell_type": "code",
   "execution_count": 25,
   "metadata": {},
   "outputs": [
    {
     "data": {
      "application/vnd.plotly.v1+json": {
       "config": {
        "plotlyServerURL": "https://plot.ly"
       },
       "data": [
        {
         "domain": {
          "x": [
           0,
           1
          ],
          "y": [
           0,
           1
          ]
         },
         "hovertemplate": "label=%{label}<br>value=%{value}<extra></extra>",
         "labels": [
          "Movie",
          "TV Show"
         ],
         "legendgroup": "",
         "name": "",
         "showlegend": true,
         "type": "pie",
         "values": [
          6131,
          2676
         ]
        }
       ],
       "layout": {
        "legend": {
         "tracegroupgap": 0
        },
        "template": {
         "data": {
          "bar": [
           {
            "error_x": {
             "color": "#2a3f5f"
            },
            "error_y": {
             "color": "#2a3f5f"
            },
            "marker": {
             "line": {
              "color": "#E5ECF6",
              "width": 0.5
             },
             "pattern": {
              "fillmode": "overlay",
              "size": 10,
              "solidity": 0.2
             }
            },
            "type": "bar"
           }
          ],
          "barpolar": [
           {
            "marker": {
             "line": {
              "color": "#E5ECF6",
              "width": 0.5
             },
             "pattern": {
              "fillmode": "overlay",
              "size": 10,
              "solidity": 0.2
             }
            },
            "type": "barpolar"
           }
          ],
          "carpet": [
           {
            "aaxis": {
             "endlinecolor": "#2a3f5f",
             "gridcolor": "white",
             "linecolor": "white",
             "minorgridcolor": "white",
             "startlinecolor": "#2a3f5f"
            },
            "baxis": {
             "endlinecolor": "#2a3f5f",
             "gridcolor": "white",
             "linecolor": "white",
             "minorgridcolor": "white",
             "startlinecolor": "#2a3f5f"
            },
            "type": "carpet"
           }
          ],
          "choropleth": [
           {
            "colorbar": {
             "outlinewidth": 0,
             "ticks": ""
            },
            "type": "choropleth"
           }
          ],
          "contour": [
           {
            "colorbar": {
             "outlinewidth": 0,
             "ticks": ""
            },
            "colorscale": [
             [
              0,
              "#0d0887"
             ],
             [
              0.1111111111111111,
              "#46039f"
             ],
             [
              0.2222222222222222,
              "#7201a8"
             ],
             [
              0.3333333333333333,
              "#9c179e"
             ],
             [
              0.4444444444444444,
              "#bd3786"
             ],
             [
              0.5555555555555556,
              "#d8576b"
             ],
             [
              0.6666666666666666,
              "#ed7953"
             ],
             [
              0.7777777777777778,
              "#fb9f3a"
             ],
             [
              0.8888888888888888,
              "#fdca26"
             ],
             [
              1,
              "#f0f921"
             ]
            ],
            "type": "contour"
           }
          ],
          "contourcarpet": [
           {
            "colorbar": {
             "outlinewidth": 0,
             "ticks": ""
            },
            "type": "contourcarpet"
           }
          ],
          "heatmap": [
           {
            "colorbar": {
             "outlinewidth": 0,
             "ticks": ""
            },
            "colorscale": [
             [
              0,
              "#0d0887"
             ],
             [
              0.1111111111111111,
              "#46039f"
             ],
             [
              0.2222222222222222,
              "#7201a8"
             ],
             [
              0.3333333333333333,
              "#9c179e"
             ],
             [
              0.4444444444444444,
              "#bd3786"
             ],
             [
              0.5555555555555556,
              "#d8576b"
             ],
             [
              0.6666666666666666,
              "#ed7953"
             ],
             [
              0.7777777777777778,
              "#fb9f3a"
             ],
             [
              0.8888888888888888,
              "#fdca26"
             ],
             [
              1,
              "#f0f921"
             ]
            ],
            "type": "heatmap"
           }
          ],
          "heatmapgl": [
           {
            "colorbar": {
             "outlinewidth": 0,
             "ticks": ""
            },
            "colorscale": [
             [
              0,
              "#0d0887"
             ],
             [
              0.1111111111111111,
              "#46039f"
             ],
             [
              0.2222222222222222,
              "#7201a8"
             ],
             [
              0.3333333333333333,
              "#9c179e"
             ],
             [
              0.4444444444444444,
              "#bd3786"
             ],
             [
              0.5555555555555556,
              "#d8576b"
             ],
             [
              0.6666666666666666,
              "#ed7953"
             ],
             [
              0.7777777777777778,
              "#fb9f3a"
             ],
             [
              0.8888888888888888,
              "#fdca26"
             ],
             [
              1,
              "#f0f921"
             ]
            ],
            "type": "heatmapgl"
           }
          ],
          "histogram": [
           {
            "marker": {
             "pattern": {
              "fillmode": "overlay",
              "size": 10,
              "solidity": 0.2
             }
            },
            "type": "histogram"
           }
          ],
          "histogram2d": [
           {
            "colorbar": {
             "outlinewidth": 0,
             "ticks": ""
            },
            "colorscale": [
             [
              0,
              "#0d0887"
             ],
             [
              0.1111111111111111,
              "#46039f"
             ],
             [
              0.2222222222222222,
              "#7201a8"
             ],
             [
              0.3333333333333333,
              "#9c179e"
             ],
             [
              0.4444444444444444,
              "#bd3786"
             ],
             [
              0.5555555555555556,
              "#d8576b"
             ],
             [
              0.6666666666666666,
              "#ed7953"
             ],
             [
              0.7777777777777778,
              "#fb9f3a"
             ],
             [
              0.8888888888888888,
              "#fdca26"
             ],
             [
              1,
              "#f0f921"
             ]
            ],
            "type": "histogram2d"
           }
          ],
          "histogram2dcontour": [
           {
            "colorbar": {
             "outlinewidth": 0,
             "ticks": ""
            },
            "colorscale": [
             [
              0,
              "#0d0887"
             ],
             [
              0.1111111111111111,
              "#46039f"
             ],
             [
              0.2222222222222222,
              "#7201a8"
             ],
             [
              0.3333333333333333,
              "#9c179e"
             ],
             [
              0.4444444444444444,
              "#bd3786"
             ],
             [
              0.5555555555555556,
              "#d8576b"
             ],
             [
              0.6666666666666666,
              "#ed7953"
             ],
             [
              0.7777777777777778,
              "#fb9f3a"
             ],
             [
              0.8888888888888888,
              "#fdca26"
             ],
             [
              1,
              "#f0f921"
             ]
            ],
            "type": "histogram2dcontour"
           }
          ],
          "mesh3d": [
           {
            "colorbar": {
             "outlinewidth": 0,
             "ticks": ""
            },
            "type": "mesh3d"
           }
          ],
          "parcoords": [
           {
            "line": {
             "colorbar": {
              "outlinewidth": 0,
              "ticks": ""
             }
            },
            "type": "parcoords"
           }
          ],
          "pie": [
           {
            "automargin": true,
            "type": "pie"
           }
          ],
          "scatter": [
           {
            "fillpattern": {
             "fillmode": "overlay",
             "size": 10,
             "solidity": 0.2
            },
            "type": "scatter"
           }
          ],
          "scatter3d": [
           {
            "line": {
             "colorbar": {
              "outlinewidth": 0,
              "ticks": ""
             }
            },
            "marker": {
             "colorbar": {
              "outlinewidth": 0,
              "ticks": ""
             }
            },
            "type": "scatter3d"
           }
          ],
          "scattercarpet": [
           {
            "marker": {
             "colorbar": {
              "outlinewidth": 0,
              "ticks": ""
             }
            },
            "type": "scattercarpet"
           }
          ],
          "scattergeo": [
           {
            "marker": {
             "colorbar": {
              "outlinewidth": 0,
              "ticks": ""
             }
            },
            "type": "scattergeo"
           }
          ],
          "scattergl": [
           {
            "marker": {
             "colorbar": {
              "outlinewidth": 0,
              "ticks": ""
             }
            },
            "type": "scattergl"
           }
          ],
          "scattermapbox": [
           {
            "marker": {
             "colorbar": {
              "outlinewidth": 0,
              "ticks": ""
             }
            },
            "type": "scattermapbox"
           }
          ],
          "scatterpolar": [
           {
            "marker": {
             "colorbar": {
              "outlinewidth": 0,
              "ticks": ""
             }
            },
            "type": "scatterpolar"
           }
          ],
          "scatterpolargl": [
           {
            "marker": {
             "colorbar": {
              "outlinewidth": 0,
              "ticks": ""
             }
            },
            "type": "scatterpolargl"
           }
          ],
          "scatterternary": [
           {
            "marker": {
             "colorbar": {
              "outlinewidth": 0,
              "ticks": ""
             }
            },
            "type": "scatterternary"
           }
          ],
          "surface": [
           {
            "colorbar": {
             "outlinewidth": 0,
             "ticks": ""
            },
            "colorscale": [
             [
              0,
              "#0d0887"
             ],
             [
              0.1111111111111111,
              "#46039f"
             ],
             [
              0.2222222222222222,
              "#7201a8"
             ],
             [
              0.3333333333333333,
              "#9c179e"
             ],
             [
              0.4444444444444444,
              "#bd3786"
             ],
             [
              0.5555555555555556,
              "#d8576b"
             ],
             [
              0.6666666666666666,
              "#ed7953"
             ],
             [
              0.7777777777777778,
              "#fb9f3a"
             ],
             [
              0.8888888888888888,
              "#fdca26"
             ],
             [
              1,
              "#f0f921"
             ]
            ],
            "type": "surface"
           }
          ],
          "table": [
           {
            "cells": {
             "fill": {
              "color": "#EBF0F8"
             },
             "line": {
              "color": "white"
             }
            },
            "header": {
             "fill": {
              "color": "#C8D4E3"
             },
             "line": {
              "color": "white"
             }
            },
            "type": "table"
           }
          ]
         },
         "layout": {
          "annotationdefaults": {
           "arrowcolor": "#2a3f5f",
           "arrowhead": 0,
           "arrowwidth": 1
          },
          "autotypenumbers": "strict",
          "coloraxis": {
           "colorbar": {
            "outlinewidth": 0,
            "ticks": ""
           }
          },
          "colorscale": {
           "diverging": [
            [
             0,
             "#8e0152"
            ],
            [
             0.1,
             "#c51b7d"
            ],
            [
             0.2,
             "#de77ae"
            ],
            [
             0.3,
             "#f1b6da"
            ],
            [
             0.4,
             "#fde0ef"
            ],
            [
             0.5,
             "#f7f7f7"
            ],
            [
             0.6,
             "#e6f5d0"
            ],
            [
             0.7,
             "#b8e186"
            ],
            [
             0.8,
             "#7fbc41"
            ],
            [
             0.9,
             "#4d9221"
            ],
            [
             1,
             "#276419"
            ]
           ],
           "sequential": [
            [
             0,
             "#0d0887"
            ],
            [
             0.1111111111111111,
             "#46039f"
            ],
            [
             0.2222222222222222,
             "#7201a8"
            ],
            [
             0.3333333333333333,
             "#9c179e"
            ],
            [
             0.4444444444444444,
             "#bd3786"
            ],
            [
             0.5555555555555556,
             "#d8576b"
            ],
            [
             0.6666666666666666,
             "#ed7953"
            ],
            [
             0.7777777777777778,
             "#fb9f3a"
            ],
            [
             0.8888888888888888,
             "#fdca26"
            ],
            [
             1,
             "#f0f921"
            ]
           ],
           "sequentialminus": [
            [
             0,
             "#0d0887"
            ],
            [
             0.1111111111111111,
             "#46039f"
            ],
            [
             0.2222222222222222,
             "#7201a8"
            ],
            [
             0.3333333333333333,
             "#9c179e"
            ],
            [
             0.4444444444444444,
             "#bd3786"
            ],
            [
             0.5555555555555556,
             "#d8576b"
            ],
            [
             0.6666666666666666,
             "#ed7953"
            ],
            [
             0.7777777777777778,
             "#fb9f3a"
            ],
            [
             0.8888888888888888,
             "#fdca26"
            ],
            [
             1,
             "#f0f921"
            ]
           ]
          },
          "colorway": [
           "#636efa",
           "#EF553B",
           "#00cc96",
           "#ab63fa",
           "#FFA15A",
           "#19d3f3",
           "#FF6692",
           "#B6E880",
           "#FF97FF",
           "#FECB52"
          ],
          "font": {
           "color": "#2a3f5f"
          },
          "geo": {
           "bgcolor": "white",
           "lakecolor": "white",
           "landcolor": "#E5ECF6",
           "showlakes": true,
           "showland": true,
           "subunitcolor": "white"
          },
          "hoverlabel": {
           "align": "left"
          },
          "hovermode": "closest",
          "mapbox": {
           "style": "light"
          },
          "paper_bgcolor": "white",
          "plot_bgcolor": "#E5ECF6",
          "polar": {
           "angularaxis": {
            "gridcolor": "white",
            "linecolor": "white",
            "ticks": ""
           },
           "bgcolor": "#E5ECF6",
           "radialaxis": {
            "gridcolor": "white",
            "linecolor": "white",
            "ticks": ""
           }
          },
          "scene": {
           "xaxis": {
            "backgroundcolor": "#E5ECF6",
            "gridcolor": "white",
            "gridwidth": 2,
            "linecolor": "white",
            "showbackground": true,
            "ticks": "",
            "zerolinecolor": "white"
           },
           "yaxis": {
            "backgroundcolor": "#E5ECF6",
            "gridcolor": "white",
            "gridwidth": 2,
            "linecolor": "white",
            "showbackground": true,
            "ticks": "",
            "zerolinecolor": "white"
           },
           "zaxis": {
            "backgroundcolor": "#E5ECF6",
            "gridcolor": "white",
            "gridwidth": 2,
            "linecolor": "white",
            "showbackground": true,
            "ticks": "",
            "zerolinecolor": "white"
           }
          },
          "shapedefaults": {
           "line": {
            "color": "#2a3f5f"
           }
          },
          "ternary": {
           "aaxis": {
            "gridcolor": "white",
            "linecolor": "white",
            "ticks": ""
           },
           "baxis": {
            "gridcolor": "white",
            "linecolor": "white",
            "ticks": ""
           },
           "bgcolor": "#E5ECF6",
           "caxis": {
            "gridcolor": "white",
            "linecolor": "white",
            "ticks": ""
           }
          },
          "title": {
           "x": 0.05
          },
          "xaxis": {
           "automargin": true,
           "gridcolor": "white",
           "linecolor": "white",
           "ticks": "",
           "title": {
            "standoff": 15
           },
           "zerolinecolor": "white",
           "zerolinewidth": 2
          },
          "yaxis": {
           "automargin": true,
           "gridcolor": "white",
           "linecolor": "white",
           "ticks": "",
           "title": {
            "standoff": 15
           },
           "zerolinecolor": "white",
           "zerolinewidth": 2
          }
         }
        },
        "title": {
         "text": "Content Types Ratio"
        }
       }
      }
     },
     "metadata": {},
     "output_type": "display_data"
    }
   ],
   "source": [
    "content_type_ratio = df['type'].value_counts()\n",
    "fig = px.pie(names=content_type_ratio.index, values=content_type_ratio.values, title='Content Types Ratio')\n",
    "fig.show()\n"
   ]
  },
  {
   "cell_type": "markdown",
   "metadata": {},
   "source": [
    "# Seasons vs. Episodes (Scatter Plot):"
   ]
  },
  {
   "cell_type": "code",
   "execution_count": 26,
   "metadata": {},
   "outputs": [
    {
     "data": {
      "application/vnd.plotly.v1+json": {
       "config": {
        "plotlyServerURL": "https://plot.ly"
       },
       "data": [
        {
         "hovertemplate": "duration=%{y}<extra></extra>",
         "legendgroup": "",
         "marker": {
          "color": "#636efa",
          "symbol": "circle"
         },
         "mode": "markers",
         "name": "",
         "showlegend": false,
         "type": "scattergl",
         "x": [
          "2 Seasons",
          "1 Season",
          "1 Season",
          "2 Seasons",
          "1 Season",
          "9 Seasons",
          "1 Season",
          "1 Season",
          "1 Season",
          "4 Seasons",
          "2 Seasons",
          "1 Season",
          "1 Season",
          "5 Seasons",
          "2 Seasons",
          "1 Season",
          "3 Seasons",
          "1 Season",
          "1 Season",
          "1 Season",
          "3 Seasons",
          "1 Season",
          "1 Season",
          "2 Seasons",
          "1 Season",
          "6 Seasons",
          "6 Seasons",
          "1 Season",
          "9 Seasons",
          "1 Season",
          "1 Season",
          "5 Seasons",
          "2 Seasons",
          "1 Season",
          "6 Seasons",
          "1 Season",
          "1 Season",
          "2 Seasons",
          "4 Seasons",
          "2 Seasons",
          "3 Seasons",
          "2 Seasons",
          "1 Season",
          "1 Season",
          "2 Seasons",
          "1 Season",
          "2 Seasons",
          "5 Seasons",
          "1 Season",
          "5 Seasons",
          "1 Season",
          "1 Season",
          "1 Season",
          "1 Season",
          "1 Season",
          "3 Seasons",
          "1 Season",
          "1 Season",
          "1 Season",
          "1 Season",
          "2 Seasons",
          "3 Seasons",
          "4 Seasons",
          "1 Season",
          "1 Season",
          "1 Season",
          "1 Season",
          "1 Season",
          "2 Seasons",
          "1 Season",
          "1 Season",
          "1 Season",
          "1 Season",
          "2 Seasons",
          "3 Seasons",
          "1 Season",
          "1 Season",
          "4 Seasons",
          "1 Season",
          "1 Season",
          "1 Season",
          "1 Season",
          "1 Season",
          "3 Seasons",
          "1 Season",
          "3 Seasons",
          "1 Season",
          "1 Season",
          "1 Season",
          "1 Season",
          "5 Seasons",
          "1 Season",
          "2 Seasons",
          "1 Season",
          "1 Season",
          "2 Seasons",
          "1 Season",
          "5 Seasons",
          "1 Season",
          "7 Seasons",
          "1 Season",
          "2 Seasons",
          "1 Season",
          "1 Season",
          "2 Seasons",
          "1 Season",
          "1 Season",
          "1 Season",
          "1 Season",
          "1 Season",
          "1 Season",
          "3 Seasons",
          "1 Season",
          "2 Seasons",
          "1 Season",
          "1 Season",
          "1 Season",
          "1 Season",
          "1 Season",
          "1 Season",
          "1 Season",
          "7 Seasons",
          "3 Seasons",
          "1 Season",
          "5 Seasons",
          "6 Seasons",
          "3 Seasons",
          "1 Season",
          "3 Seasons",
          "1 Season",
          "1 Season",
          "2 Seasons",
          "1 Season",
          "1 Season",
          "7 Seasons",
          "1 Season",
          "3 Seasons",
          "3 Seasons",
          "4 Seasons",
          "1 Season",
          "10 Seasons",
          "4 Seasons",
          "1 Season",
          "1 Season",
          "1 Season",
          "2 Seasons",
          "2 Seasons",
          "5 Seasons",
          "1 Season",
          "1 Season",
          "1 Season",
          "1 Season",
          "3 Seasons",
          "1 Season",
          "1 Season",
          "2 Seasons",
          "1 Season",
          "2 Seasons",
          "1 Season",
          "1 Season",
          "1 Season",
          "4 Seasons",
          "2 Seasons",
          "1 Season",
          "1 Season",
          "3 Seasons",
          "1 Season",
          "1 Season",
          "1 Season",
          "2 Seasons",
          "2 Seasons",
          "1 Season",
          "3 Seasons",
          "2 Seasons",
          "2 Seasons",
          "4 Seasons",
          "3 Seasons",
          "5 Seasons",
          "2 Seasons",
          "2 Seasons",
          "2 Seasons",
          "2 Seasons",
          "2 Seasons",
          "5 Seasons",
          "3 Seasons",
          "3 Seasons",
          "2 Seasons",
          "8 Seasons",
          "7 Seasons",
          "2 Seasons",
          "2 Seasons",
          "3 Seasons",
          "3 Seasons",
          "2 Seasons",
          "3 Seasons",
          "6 Seasons",
          "2 Seasons",
          "2 Seasons",
          "4 Seasons",
          "2 Seasons",
          "5 Seasons",
          "3 Seasons",
          "1 Season",
          "1 Season",
          "17 Seasons",
          "1 Season",
          "2 Seasons",
          "1 Season",
          "1 Season",
          "1 Season",
          "1 Season",
          "1 Season",
          "3 Seasons",
          "1 Season",
          "1 Season",
          "1 Season",
          "1 Season",
          "1 Season",
          "1 Season",
          "4 Seasons",
          "5 Seasons",
          "1 Season",
          "1 Season",
          "1 Season",
          "1 Season",
          "2 Seasons",
          "1 Season",
          "2 Seasons",
          "1 Season",
          "2 Seasons",
          "1 Season",
          "1 Season",
          "4 Seasons",
          "4 Seasons",
          "1 Season",
          "1 Season",
          "2 Seasons",
          "2 Seasons",
          "1 Season",
          "6 Seasons",
          "3 Seasons",
          "5 Seasons",
          "1 Season",
          "2 Seasons",
          "1 Season",
          "4 Seasons",
          "6 Seasons",
          "1 Season",
          "1 Season",
          "1 Season",
          "1 Season",
          "1 Season",
          "4 Seasons",
          "2 Seasons",
          "1 Season",
          "1 Season",
          "2 Seasons",
          "1 Season",
          "1 Season",
          "1 Season",
          "3 Seasons",
          "1 Season",
          "1 Season",
          "3 Seasons",
          "1 Season",
          "1 Season",
          "1 Season",
          "1 Season",
          "1 Season",
          "2 Seasons",
          "1 Season",
          "1 Season",
          "1 Season",
          "2 Seasons",
          "2 Seasons",
          "2 Seasons",
          "1 Season",
          "1 Season",
          "1 Season",
          "2 Seasons",
          "2 Seasons",
          "1 Season",
          "2 Seasons",
          "1 Season",
          "1 Season",
          "1 Season",
          "1 Season",
          "2 Seasons",
          "1 Season",
          "2 Seasons",
          "3 Seasons",
          "6 Seasons",
          "3 Seasons",
          "1 Season",
          "1 Season",
          "1 Season",
          "3 Seasons",
          "2 Seasons",
          "3 Seasons",
          "2 Seasons",
          "1 Season",
          "1 Season",
          "1 Season",
          "2 Seasons",
          "1 Season",
          "3 Seasons",
          "1 Season",
          "3 Seasons",
          "3 Seasons",
          "2 Seasons",
          "2 Seasons",
          "1 Season",
          "2 Seasons",
          "1 Season",
          "1 Season",
          "1 Season",
          "3 Seasons",
          "2 Seasons",
          "1 Season",
          "1 Season",
          "4 Seasons",
          "1 Season",
          "1 Season",
          "1 Season",
          "1 Season",
          "1 Season",
          "2 Seasons",
          "1 Season",
          "1 Season",
          "2 Seasons",
          "3 Seasons",
          "2 Seasons",
          "2 Seasons",
          "2 Seasons",
          "1 Season",
          "1 Season",
          "1 Season",
          "2 Seasons",
          "1 Season",
          "1 Season",
          "1 Season",
          "1 Season",
          "1 Season",
          "1 Season",
          "1 Season",
          "1 Season",
          "2 Seasons",
          "2 Seasons",
          "3 Seasons",
          "1 Season",
          "1 Season",
          "1 Season",
          "1 Season",
          "1 Season",
          "7 Seasons",
          "1 Season",
          "1 Season",
          "1 Season",
          "3 Seasons",
          "1 Season",
          "2 Seasons",
          "1 Season",
          "1 Season",
          "1 Season",
          "6 Seasons",
          "1 Season",
          "1 Season",
          "1 Season",
          "1 Season",
          "1 Season",
          "3 Seasons",
          "1 Season",
          "1 Season",
          "1 Season",
          "1 Season",
          "4 Seasons",
          "1 Season",
          "1 Season",
          "1 Season",
          "2 Seasons",
          "1 Season",
          "1 Season",
          "1 Season",
          "2 Seasons",
          "2 Seasons",
          "2 Seasons",
          "2 Seasons",
          "1 Season",
          "1 Season",
          "2 Seasons",
          "1 Season",
          "1 Season",
          "4 Seasons",
          "1 Season",
          "1 Season",
          "1 Season",
          "1 Season",
          "6 Seasons",
          "1 Season",
          "4 Seasons",
          "2 Seasons",
          "1 Season",
          "3 Seasons",
          "2 Seasons",
          "1 Season",
          "1 Season",
          "1 Season",
          "1 Season",
          "1 Season",
          "2 Seasons",
          "3 Seasons",
          "1 Season",
          "1 Season",
          "1 Season",
          "1 Season",
          "1 Season",
          "1 Season",
          "1 Season",
          "1 Season",
          "1 Season",
          "4 Seasons",
          "1 Season",
          "1 Season",
          "5 Seasons",
          "1 Season",
          "1 Season",
          "1 Season",
          "3 Seasons",
          "1 Season",
          "1 Season",
          "1 Season",
          "1 Season",
          "2 Seasons",
          "1 Season",
          "1 Season",
          "1 Season",
          "1 Season",
          "1 Season",
          "1 Season",
          "1 Season",
          "1 Season",
          "1 Season",
          "4 Seasons",
          "3 Seasons",
          "4 Seasons",
          "1 Season",
          "1 Season",
          "2 Seasons",
          "1 Season",
          "1 Season",
          "1 Season",
          "1 Season",
          "1 Season",
          "2 Seasons",
          "3 Seasons",
          "2 Seasons",
          "1 Season",
          "1 Season",
          "1 Season",
          "2 Seasons",
          "2 Seasons",
          "13 Seasons",
          "1 Season",
          "1 Season",
          "1 Season",
          "1 Season",
          "7 Seasons",
          "2 Seasons",
          "2 Seasons",
          "1 Season",
          "1 Season",
          "2 Seasons",
          "4 Seasons",
          "1 Season",
          "2 Seasons",
          "3 Seasons",
          "1 Season",
          "1 Season",
          "1 Season",
          "4 Seasons",
          "1 Season",
          "4 Seasons",
          "3 Seasons",
          "3 Seasons",
          "5 Seasons",
          "1 Season",
          "4 Seasons",
          "5 Seasons",
          "1 Season",
          "1 Season",
          "2 Seasons",
          "1 Season",
          "1 Season",
          "3 Seasons",
          "1 Season",
          "1 Season",
          "3 Seasons",
          "2 Seasons",
          "1 Season",
          "1 Season",
          "2 Seasons",
          "1 Season",
          "1 Season",
          "2 Seasons",
          "4 Seasons",
          "1 Season",
          "1 Season",
          "1 Season",
          "1 Season",
          "9 Seasons",
          "1 Season",
          "1 Season",
          "1 Season",
          "2 Seasons",
          "1 Season",
          "1 Season",
          "1 Season",
          "2 Seasons",
          "1 Season",
          "1 Season",
          "2 Seasons",
          "1 Season",
          "2 Seasons",
          "1 Season",
          "1 Season",
          "1 Season",
          "1 Season",
          "1 Season",
          "1 Season",
          "1 Season",
          "1 Season",
          "2 Seasons",
          "2 Seasons",
          "2 Seasons",
          "2 Seasons",
          "2 Seasons",
          "2 Seasons",
          "1 Season",
          "1 Season",
          "2 Seasons",
          "1 Season",
          "1 Season",
          "1 Season",
          "4 Seasons",
          "1 Season",
          "2 Seasons",
          "3 Seasons",
          "1 Season",
          "1 Season",
          "3 Seasons",
          "1 Season",
          "1 Season",
          "1 Season",
          "1 Season",
          "1 Season",
          "4 Seasons",
          "1 Season",
          "3 Seasons",
          "1 Season",
          "2 Seasons",
          "2 Seasons",
          "1 Season",
          "2 Seasons",
          "4 Seasons",
          "1 Season",
          "10 Seasons",
          "1 Season",
          "1 Season",
          "1 Season",
          "1 Season",
          "1 Season",
          "1 Season",
          "7 Seasons",
          "1 Season",
          "2 Seasons",
          "2 Seasons",
          "1 Season",
          "1 Season",
          "1 Season",
          "3 Seasons",
          "1 Season",
          "1 Season",
          "1 Season",
          "1 Season",
          "4 Seasons",
          "1 Season",
          "2 Seasons",
          "1 Season",
          "2 Seasons",
          "2 Seasons",
          "4 Seasons",
          "9 Seasons",
          "1 Season",
          "1 Season",
          "1 Season",
          "1 Season",
          "1 Season",
          "1 Season",
          "1 Season",
          "1 Season",
          "1 Season",
          "1 Season",
          "1 Season",
          "1 Season",
          "1 Season",
          "1 Season",
          "1 Season",
          "1 Season",
          "2 Seasons",
          "1 Season",
          "6 Seasons",
          "1 Season",
          "3 Seasons",
          "1 Season",
          "1 Season",
          "2 Seasons",
          "10 Seasons",
          "1 Season",
          "4 Seasons",
          "1 Season",
          "2 Seasons",
          "1 Season",
          "1 Season",
          "2 Seasons",
          "7 Seasons",
          "4 Seasons",
          "3 Seasons",
          "1 Season",
          "4 Seasons",
          "1 Season",
          "1 Season",
          "1 Season",
          "1 Season",
          "1 Season",
          "3 Seasons",
          "2 Seasons",
          "1 Season",
          "1 Season",
          "1 Season",
          "1 Season",
          "3 Seasons",
          "4 Seasons",
          "4 Seasons",
          "5 Seasons",
          "2 Seasons",
          "1 Season",
          "1 Season",
          "3 Seasons",
          "1 Season",
          "1 Season",
          "1 Season",
          "1 Season",
          "7 Seasons",
          "1 Season",
          "1 Season",
          "1 Season",
          "1 Season",
          "1 Season",
          "1 Season",
          "3 Seasons",
          "1 Season",
          "1 Season",
          "2 Seasons",
          "1 Season",
          "1 Season",
          "1 Season",
          "1 Season",
          "3 Seasons",
          "5 Seasons",
          "1 Season",
          "1 Season",
          "3 Seasons",
          "4 Seasons",
          "8 Seasons",
          "1 Season",
          "4 Seasons",
          "4 Seasons",
          "1 Season",
          "3 Seasons",
          "1 Season",
          "1 Season",
          "4 Seasons",
          "1 Season",
          "1 Season",
          "1 Season",
          "1 Season",
          "7 Seasons",
          "1 Season",
          "1 Season",
          "3 Seasons",
          "1 Season",
          "2 Seasons",
          "2 Seasons",
          "1 Season",
          "9 Seasons",
          "2 Seasons",
          "2 Seasons",
          "2 Seasons",
          "8 Seasons",
          "1 Season",
          "1 Season",
          "5 Seasons",
          "1 Season",
          "1 Season",
          "1 Season",
          "1 Season",
          "2 Seasons",
          "1 Season",
          "1 Season",
          "2 Seasons",
          "1 Season",
          "1 Season",
          "1 Season",
          "2 Seasons",
          "1 Season",
          "3 Seasons",
          "1 Season",
          "1 Season",
          "4 Seasons",
          "1 Season",
          "6 Seasons",
          "1 Season",
          "2 Seasons",
          "1 Season",
          "1 Season",
          "3 Seasons",
          "1 Season",
          "1 Season",
          "1 Season",
          "2 Seasons",
          "1 Season",
          "1 Season",
          "1 Season",
          "3 Seasons",
          "1 Season",
          "1 Season",
          "1 Season",
          "2 Seasons",
          "2 Seasons",
          "1 Season",
          "5 Seasons",
          "2 Seasons",
          "4 Seasons",
          "1 Season",
          "1 Season",
          "4 Seasons",
          "1 Season",
          "1 Season",
          "1 Season",
          "2 Seasons",
          "1 Season",
          "3 Seasons",
          "3 Seasons",
          "1 Season",
          "1 Season",
          "1 Season",
          "1 Season",
          "5 Seasons",
          "3 Seasons",
          "1 Season",
          "1 Season",
          "1 Season",
          "6 Seasons",
          "1 Season",
          "1 Season",
          "1 Season",
          "1 Season",
          "2 Seasons",
          "1 Season",
          "3 Seasons",
          "2 Seasons",
          "1 Season",
          "1 Season",
          "5 Seasons",
          "10 Seasons",
          "1 Season",
          "1 Season",
          "1 Season",
          "3 Seasons",
          "1 Season",
          "1 Season",
          "1 Season",
          "1 Season",
          "1 Season",
          "2 Seasons",
          "1 Season",
          "1 Season",
          "1 Season",
          "2 Seasons",
          "1 Season",
          "1 Season",
          "1 Season",
          "1 Season",
          "1 Season",
          "1 Season",
          "4 Seasons",
          "1 Season",
          "1 Season",
          "1 Season",
          "2 Seasons",
          "6 Seasons",
          "1 Season",
          "1 Season",
          "1 Season",
          "1 Season",
          "1 Season",
          "1 Season",
          "1 Season",
          "1 Season",
          "1 Season",
          "1 Season",
          "1 Season",
          "1 Season",
          "3 Seasons",
          "1 Season",
          "1 Season",
          "1 Season",
          "1 Season",
          "2 Seasons",
          "1 Season",
          "2 Seasons",
          "1 Season",
          "2 Seasons",
          "2 Seasons",
          "2 Seasons",
          "2 Seasons",
          "4 Seasons",
          "6 Seasons",
          "2 Seasons",
          "4 Seasons",
          "1 Season",
          "4 Seasons",
          "1 Season",
          "1 Season",
          "1 Season",
          "5 Seasons",
          "1 Season",
          "1 Season",
          "1 Season",
          "4 Seasons",
          "4 Seasons",
          "5 Seasons",
          "15 Seasons",
          "3 Seasons",
          "1 Season",
          "2 Seasons",
          "1 Season",
          "1 Season",
          "3 Seasons",
          "1 Season",
          "1 Season",
          "1 Season",
          "2 Seasons",
          "1 Season",
          "4 Seasons",
          "5 Seasons",
          "1 Season",
          "3 Seasons",
          "1 Season",
          "2 Seasons",
          "1 Season",
          "1 Season",
          "1 Season",
          "1 Season",
          "1 Season",
          "1 Season",
          "6 Seasons",
          "1 Season",
          "1 Season",
          "3 Seasons",
          "1 Season",
          "6 Seasons",
          "3 Seasons",
          "1 Season",
          "5 Seasons",
          "1 Season",
          "1 Season",
          "2 Seasons",
          "1 Season",
          "1 Season",
          "3 Seasons",
          "1 Season",
          "2 Seasons",
          "2 Seasons",
          "1 Season",
          "2 Seasons",
          "2 Seasons",
          "1 Season",
          "1 Season",
          "1 Season",
          "1 Season",
          "1 Season",
          "1 Season",
          "4 Seasons",
          "3 Seasons",
          "1 Season",
          "1 Season",
          "1 Season",
          "1 Season",
          "7 Seasons",
          "5 Seasons",
          "1 Season",
          "1 Season",
          "1 Season",
          "1 Season",
          "2 Seasons",
          "1 Season",
          "4 Seasons",
          "1 Season",
          "1 Season",
          "2 Seasons",
          "1 Season",
          "1 Season",
          "1 Season",
          "3 Seasons",
          "1 Season",
          "1 Season",
          "5 Seasons",
          "1 Season",
          "1 Season",
          "1 Season",
          "1 Season",
          "1 Season",
          "1 Season",
          "1 Season",
          "2 Seasons",
          "1 Season",
          "2 Seasons",
          "3 Seasons",
          "1 Season",
          "1 Season",
          "1 Season",
          "2 Seasons",
          "1 Season",
          "2 Seasons",
          "2 Seasons",
          "6 Seasons",
          "1 Season",
          "3 Seasons",
          "3 Seasons",
          "6 Seasons",
          "2 Seasons",
          "1 Season",
          "3 Seasons",
          "2 Seasons",
          "1 Season",
          "1 Season",
          "1 Season",
          "1 Season",
          "2 Seasons",
          "1 Season",
          "3 Seasons",
          "1 Season",
          "2 Seasons",
          "1 Season",
          "1 Season",
          "1 Season",
          "2 Seasons",
          "2 Seasons",
          "2 Seasons",
          "4 Seasons",
          "1 Season",
          "1 Season",
          "1 Season",
          "1 Season",
          "1 Season",
          "1 Season",
          "1 Season",
          "1 Season",
          "1 Season",
          "1 Season",
          "1 Season",
          "1 Season",
          "1 Season",
          "2 Seasons",
          "1 Season",
          "2 Seasons",
          "3 Seasons",
          "1 Season",
          "2 Seasons",
          "1 Season",
          "4 Seasons",
          "1 Season",
          "3 Seasons",
          "1 Season",
          "2 Seasons",
          "1 Season",
          "1 Season",
          "1 Season",
          "2 Seasons",
          "1 Season",
          "1 Season",
          "1 Season",
          "1 Season",
          "1 Season",
          "1 Season",
          "1 Season",
          "1 Season",
          "1 Season",
          "1 Season",
          "1 Season",
          "1 Season",
          "1 Season",
          "1 Season",
          "1 Season",
          "1 Season",
          "2 Seasons",
          "1 Season",
          "1 Season",
          "2 Seasons",
          "4 Seasons",
          "2 Seasons",
          "2 Seasons",
          "1 Season",
          "1 Season",
          "1 Season",
          "1 Season",
          "8 Seasons",
          "1 Season",
          "3 Seasons",
          "1 Season",
          "1 Season",
          "5 Seasons",
          "1 Season",
          "1 Season",
          "1 Season",
          "2 Seasons",
          "1 Season",
          "2 Seasons",
          "1 Season",
          "1 Season",
          "1 Season",
          "1 Season",
          "1 Season",
          "1 Season",
          "1 Season",
          "2 Seasons",
          "1 Season",
          "8 Seasons",
          "1 Season",
          "2 Seasons",
          "1 Season",
          "1 Season",
          "1 Season",
          "1 Season",
          "1 Season",
          "4 Seasons",
          "1 Season",
          "2 Seasons",
          "1 Season",
          "1 Season",
          "1 Season",
          "1 Season",
          "1 Season",
          "1 Season",
          "1 Season",
          "4 Seasons",
          "1 Season",
          "1 Season",
          "2 Seasons",
          "1 Season",
          "1 Season",
          "1 Season",
          "3 Seasons",
          "1 Season",
          "1 Season",
          "1 Season",
          "1 Season",
          "1 Season",
          "1 Season",
          "1 Season",
          "1 Season",
          "2 Seasons",
          "1 Season",
          "1 Season",
          "1 Season",
          "1 Season",
          "1 Season",
          "1 Season",
          "3 Seasons",
          "1 Season",
          "1 Season",
          "2 Seasons",
          "2 Seasons",
          "1 Season",
          "1 Season",
          "1 Season",
          "1 Season",
          "2 Seasons",
          "2 Seasons",
          "2 Seasons",
          "6 Seasons",
          "1 Season",
          "1 Season",
          "1 Season",
          "2 Seasons",
          "1 Season",
          "1 Season",
          "1 Season",
          "2 Seasons",
          "1 Season",
          "1 Season",
          "1 Season",
          "2 Seasons",
          "3 Seasons",
          "1 Season",
          "5 Seasons",
          "1 Season",
          "2 Seasons",
          "1 Season",
          "1 Season",
          "1 Season",
          "1 Season",
          "2 Seasons",
          "1 Season",
          "1 Season",
          "1 Season",
          "4 Seasons",
          "2 Seasons",
          "1 Season",
          "2 Seasons",
          "2 Seasons",
          "1 Season",
          "1 Season",
          "1 Season",
          "1 Season",
          "1 Season",
          "2 Seasons",
          "1 Season",
          "1 Season",
          "1 Season",
          "2 Seasons",
          "1 Season",
          "1 Season",
          "1 Season",
          "3 Seasons",
          "8 Seasons",
          "1 Season",
          "1 Season",
          "1 Season",
          "1 Season",
          "1 Season",
          "1 Season",
          "1 Season",
          "1 Season",
          "2 Seasons",
          "1 Season",
          "2 Seasons",
          "1 Season",
          "1 Season",
          "1 Season",
          "1 Season",
          "3 Seasons",
          "2 Seasons",
          "1 Season",
          "1 Season",
          "1 Season",
          "2 Seasons",
          "1 Season",
          "3 Seasons",
          "1 Season",
          "1 Season",
          "2 Seasons",
          "1 Season",
          "2 Seasons",
          "2 Seasons",
          "3 Seasons",
          "1 Season",
          "1 Season",
          "3 Seasons",
          "1 Season",
          "1 Season",
          "4 Seasons",
          "2 Seasons",
          "2 Seasons",
          "2 Seasons",
          "1 Season",
          "2 Seasons",
          "1 Season",
          "2 Seasons",
          "3 Seasons",
          "1 Season",
          "1 Season",
          "2 Seasons",
          "1 Season",
          "1 Season",
          "1 Season",
          "1 Season",
          "1 Season",
          "1 Season",
          "1 Season",
          "1 Season",
          "6 Seasons",
          "1 Season",
          "1 Season",
          "1 Season",
          "1 Season",
          "1 Season",
          "1 Season",
          "1 Season",
          "1 Season",
          "1 Season",
          "1 Season",
          "2 Seasons",
          "1 Season",
          "1 Season",
          "2 Seasons",
          "2 Seasons",
          "2 Seasons",
          "1 Season",
          "1 Season",
          "1 Season",
          "1 Season",
          "1 Season",
          "2 Seasons",
          "2 Seasons",
          "1 Season",
          "1 Season",
          "1 Season",
          "1 Season",
          "1 Season",
          "2 Seasons",
          "5 Seasons",
          "1 Season",
          "2 Seasons",
          "3 Seasons",
          "1 Season",
          "1 Season",
          "1 Season",
          "1 Season",
          "1 Season",
          "1 Season",
          "1 Season",
          "1 Season",
          "1 Season",
          "1 Season",
          "1 Season",
          "5 Seasons",
          "1 Season",
          "3 Seasons",
          "1 Season",
          "2 Seasons",
          "3 Seasons",
          "1 Season",
          "1 Season",
          "1 Season",
          "1 Season",
          "2 Seasons",
          "1 Season",
          "1 Season",
          "1 Season",
          "1 Season",
          "1 Season",
          "1 Season",
          "1 Season",
          "1 Season",
          "1 Season",
          "1 Season",
          "1 Season",
          "1 Season",
          "3 Seasons",
          "9 Seasons",
          "1 Season",
          "1 Season",
          "1 Season",
          "1 Season",
          "1 Season",
          "3 Seasons",
          "2 Seasons",
          "3 Seasons",
          "2 Seasons",
          "1 Season",
          "1 Season",
          "1 Season",
          "1 Season",
          "1 Season",
          "1 Season",
          "2 Seasons",
          "1 Season",
          "1 Season",
          "1 Season",
          "2 Seasons",
          "1 Season",
          "1 Season",
          "2 Seasons",
          "1 Season",
          "3 Seasons",
          "5 Seasons",
          "1 Season",
          "1 Season",
          "1 Season",
          "1 Season",
          "5 Seasons",
          "1 Season",
          "1 Season",
          "1 Season",
          "1 Season",
          "1 Season",
          "1 Season",
          "1 Season",
          "2 Seasons",
          "1 Season",
          "1 Season",
          "2 Seasons",
          "1 Season",
          "2 Seasons",
          "1 Season",
          "3 Seasons",
          "1 Season",
          "6 Seasons",
          "3 Seasons",
          "1 Season",
          "1 Season",
          "3 Seasons",
          "1 Season",
          "1 Season",
          "1 Season",
          "1 Season",
          "1 Season",
          "2 Seasons",
          "3 Seasons",
          "1 Season",
          "1 Season",
          "1 Season",
          "1 Season",
          "3 Seasons",
          "1 Season",
          "2 Seasons",
          "3 Seasons",
          "1 Season",
          "2 Seasons",
          "1 Season",
          "1 Season",
          "1 Season",
          "1 Season",
          "2 Seasons",
          "1 Season",
          "1 Season",
          "1 Season",
          "2 Seasons",
          "3 Seasons",
          "1 Season",
          "2 Seasons",
          "2 Seasons",
          "3 Seasons",
          "1 Season",
          "2 Seasons",
          "1 Season",
          "2 Seasons",
          "2 Seasons",
          "2 Seasons",
          "1 Season",
          "3 Seasons",
          "2 Seasons",
          "2 Seasons",
          "2 Seasons",
          "1 Season",
          "1 Season",
          "1 Season",
          "1 Season",
          "1 Season",
          "1 Season",
          "2 Seasons",
          "2 Seasons",
          "5 Seasons",
          "1 Season",
          "2 Seasons",
          "3 Seasons",
          "1 Season",
          "1 Season",
          "1 Season",
          "3 Seasons",
          "1 Season",
          "1 Season",
          "5 Seasons",
          "3 Seasons",
          "1 Season",
          "1 Season",
          "1 Season",
          "2 Seasons",
          "2 Seasons",
          "1 Season",
          "1 Season",
          "1 Season",
          "1 Season",
          "2 Seasons",
          "1 Season",
          "2 Seasons",
          "2 Seasons",
          "1 Season",
          "1 Season",
          "2 Seasons",
          "1 Season",
          "1 Season",
          "1 Season",
          "1 Season",
          "1 Season",
          "3 Seasons",
          "1 Season",
          "2 Seasons",
          "1 Season",
          "1 Season",
          "1 Season",
          "1 Season",
          "1 Season",
          "1 Season",
          "1 Season",
          "1 Season",
          "1 Season",
          "1 Season",
          "1 Season",
          "1 Season",
          "1 Season",
          "1 Season",
          "1 Season",
          "1 Season",
          "1 Season",
          "2 Seasons",
          "1 Season",
          "1 Season",
          "2 Seasons",
          "1 Season",
          "1 Season",
          "1 Season",
          "1 Season",
          "1 Season",
          "1 Season",
          "1 Season",
          "3 Seasons",
          "5 Seasons",
          "1 Season",
          "1 Season",
          "1 Season",
          "1 Season",
          "1 Season",
          "1 Season",
          "1 Season",
          "2 Seasons",
          "4 Seasons",
          "1 Season",
          "7 Seasons",
          "1 Season",
          "1 Season",
          "1 Season",
          "3 Seasons",
          "2 Seasons",
          "1 Season",
          "1 Season",
          "1 Season",
          "3 Seasons",
          "8 Seasons",
          "1 Season",
          "1 Season",
          "1 Season",
          "1 Season",
          "1 Season",
          "1 Season",
          "1 Season",
          "1 Season",
          "3 Seasons",
          "1 Season",
          "1 Season",
          "3 Seasons",
          "2 Seasons",
          "1 Season",
          "1 Season",
          "1 Season",
          "1 Season",
          "1 Season",
          "2 Seasons",
          "1 Season",
          "1 Season",
          "1 Season",
          "1 Season",
          "1 Season",
          "1 Season",
          "1 Season",
          "2 Seasons",
          "1 Season",
          "1 Season",
          "1 Season",
          "1 Season",
          "1 Season",
          "1 Season",
          "3 Seasons",
          "1 Season",
          "1 Season",
          "1 Season",
          "1 Season",
          "1 Season",
          "2 Seasons",
          "1 Season",
          "1 Season",
          "2 Seasons",
          "1 Season",
          "1 Season",
          "3 Seasons",
          "1 Season",
          "6 Seasons",
          "2 Seasons",
          "2 Seasons",
          "1 Season",
          "1 Season",
          "1 Season",
          "1 Season",
          "3 Seasons",
          "2 Seasons",
          "1 Season",
          "2 Seasons",
          "3 Seasons",
          "1 Season",
          "1 Season",
          "1 Season",
          "1 Season",
          "1 Season",
          "1 Season",
          "1 Season",
          "2 Seasons",
          "1 Season",
          "1 Season",
          "1 Season",
          "1 Season",
          "1 Season",
          "5 Seasons",
          "1 Season",
          "4 Seasons",
          "1 Season",
          "1 Season",
          "1 Season",
          "1 Season",
          "2 Seasons",
          "1 Season",
          "3 Seasons",
          "1 Season",
          "1 Season",
          "1 Season",
          "1 Season",
          "2 Seasons",
          "4 Seasons",
          "2 Seasons",
          "4 Seasons",
          "1 Season",
          "1 Season",
          "1 Season",
          "3 Seasons",
          "13 Seasons",
          "2 Seasons",
          "1 Season",
          "1 Season",
          "1 Season",
          "1 Season",
          "1 Season",
          "1 Season",
          "1 Season",
          "1 Season",
          "1 Season",
          "1 Season",
          "5 Seasons",
          "1 Season",
          "1 Season",
          "1 Season",
          "2 Seasons",
          "1 Season",
          "1 Season",
          "1 Season",
          "1 Season",
          "1 Season",
          "2 Seasons",
          "1 Season",
          "1 Season",
          "1 Season",
          "2 Seasons",
          "1 Season",
          "1 Season",
          "1 Season",
          "1 Season",
          "1 Season",
          "3 Seasons",
          "8 Seasons",
          "1 Season",
          "1 Season",
          "2 Seasons",
          "1 Season",
          "2 Seasons",
          "1 Season",
          "1 Season",
          "1 Season",
          "1 Season",
          "1 Season",
          "2 Seasons",
          "1 Season",
          "1 Season",
          "3 Seasons",
          "1 Season",
          "2 Seasons",
          "2 Seasons",
          "1 Season",
          "1 Season",
          "1 Season",
          "1 Season",
          "1 Season",
          "1 Season",
          "2 Seasons",
          "1 Season",
          "1 Season",
          "1 Season",
          "1 Season",
          "1 Season",
          "1 Season",
          "1 Season",
          "2 Seasons",
          "1 Season",
          "1 Season",
          "1 Season",
          "7 Seasons",
          "1 Season",
          "2 Seasons",
          "3 Seasons",
          "1 Season",
          "2 Seasons",
          "1 Season",
          "1 Season",
          "2 Seasons",
          "1 Season",
          "3 Seasons",
          "1 Season",
          "1 Season",
          "1 Season",
          "2 Seasons",
          "3 Seasons",
          "4 Seasons",
          "1 Season",
          "2 Seasons",
          "5 Seasons",
          "1 Season",
          "2 Seasons",
          "1 Season",
          "1 Season",
          "1 Season",
          "1 Season",
          "1 Season",
          "1 Season",
          "4 Seasons",
          "1 Season",
          "1 Season",
          "1 Season",
          "1 Season",
          "1 Season",
          "1 Season",
          "1 Season",
          "1 Season",
          "4 Seasons",
          "1 Season",
          "1 Season",
          "1 Season",
          "1 Season",
          "1 Season",
          "2 Seasons",
          "3 Seasons",
          "1 Season",
          "1 Season",
          "1 Season",
          "1 Season",
          "1 Season",
          "1 Season",
          "1 Season",
          "2 Seasons",
          "1 Season",
          "2 Seasons",
          "1 Season",
          "1 Season",
          "1 Season",
          "1 Season",
          "1 Season",
          "1 Season",
          "2 Seasons",
          "1 Season",
          "1 Season",
          "1 Season",
          "2 Seasons",
          "2 Seasons",
          "1 Season",
          "3 Seasons",
          "1 Season",
          "1 Season",
          "1 Season",
          "1 Season",
          "2 Seasons",
          "3 Seasons",
          "3 Seasons",
          "1 Season",
          "1 Season",
          "1 Season",
          "1 Season",
          "1 Season",
          "1 Season",
          "1 Season",
          "1 Season",
          "1 Season",
          "5 Seasons",
          "1 Season",
          "1 Season",
          "1 Season",
          "3 Seasons",
          "1 Season",
          "1 Season",
          "1 Season",
          "2 Seasons",
          "2 Seasons",
          "6 Seasons",
          "3 Seasons",
          "1 Season",
          "1 Season",
          "1 Season",
          "1 Season",
          "4 Seasons",
          "1 Season",
          "2 Seasons",
          "1 Season",
          "2 Seasons",
          "1 Season",
          "2 Seasons",
          "2 Seasons",
          "2 Seasons",
          "1 Season",
          "2 Seasons",
          "15 Seasons",
          "1 Season",
          "1 Season",
          "1 Season",
          "1 Season",
          "1 Season",
          "1 Season",
          "2 Seasons",
          "1 Season",
          "1 Season",
          "1 Season",
          "1 Season",
          "4 Seasons",
          "2 Seasons",
          "1 Season",
          "4 Seasons",
          "5 Seasons",
          "1 Season",
          "1 Season",
          "3 Seasons",
          "1 Season",
          "1 Season",
          "4 Seasons",
          "1 Season",
          "3 Seasons",
          "1 Season",
          "1 Season",
          "1 Season",
          "2 Seasons",
          "1 Season",
          "1 Season",
          "1 Season",
          "1 Season",
          "2 Seasons",
          "1 Season",
          "1 Season",
          "1 Season",
          "1 Season",
          "1 Season",
          "1 Season",
          "2 Seasons",
          "1 Season",
          "1 Season",
          "3 Seasons",
          "7 Seasons",
          "1 Season",
          "1 Season",
          "2 Seasons",
          "1 Season",
          "12 Seasons",
          "1 Season",
          "1 Season",
          "1 Season",
          "2 Seasons",
          "1 Season",
          "1 Season",
          "1 Season",
          "1 Season",
          "1 Season",
          "1 Season",
          "1 Season",
          "1 Season",
          "1 Season",
          "1 Season",
          "1 Season",
          "1 Season",
          "2 Seasons",
          "1 Season",
          "1 Season",
          "2 Seasons",
          "6 Seasons",
          "1 Season",
          "1 Season",
          "1 Season",
          "1 Season",
          "8 Seasons",
          "1 Season",
          "6 Seasons",
          "1 Season",
          "2 Seasons",
          "1 Season",
          "1 Season",
          "1 Season",
          "2 Seasons",
          "1 Season",
          "5 Seasons",
          "1 Season",
          "1 Season",
          "5 Seasons",
          "3 Seasons",
          "1 Season",
          "1 Season",
          "1 Season",
          "1 Season",
          "1 Season",
          "1 Season",
          "1 Season",
          "1 Season",
          "1 Season",
          "2 Seasons",
          "1 Season",
          "1 Season",
          "4 Seasons",
          "1 Season",
          "5 Seasons",
          "1 Season",
          "1 Season",
          "1 Season",
          "1 Season",
          "4 Seasons",
          "4 Seasons",
          "3 Seasons",
          "1 Season",
          "1 Season",
          "1 Season",
          "1 Season",
          "1 Season",
          "6 Seasons",
          "3 Seasons",
          "1 Season",
          "1 Season",
          "1 Season",
          "1 Season",
          "2 Seasons",
          "2 Seasons",
          "2 Seasons",
          "6 Seasons",
          "1 Season",
          "1 Season",
          "1 Season",
          "1 Season",
          "1 Season",
          "1 Season",
          "1 Season",
          "1 Season",
          "1 Season",
          "3 Seasons",
          "2 Seasons",
          "1 Season",
          "1 Season",
          "1 Season",
          "1 Season",
          "6 Seasons",
          "1 Season",
          "2 Seasons",
          "1 Season",
          "1 Season",
          "1 Season",
          "2 Seasons",
          "4 Seasons",
          "7 Seasons",
          "1 Season",
          "1 Season",
          "1 Season",
          "1 Season",
          "1 Season",
          "1 Season",
          "2 Seasons",
          "1 Season",
          "4 Seasons",
          "3 Seasons",
          "2 Seasons",
          "7 Seasons",
          "1 Season",
          "1 Season",
          "1 Season",
          "4 Seasons",
          "1 Season",
          "8 Seasons",
          "1 Season",
          "1 Season",
          "1 Season",
          "1 Season",
          "1 Season",
          "1 Season",
          "3 Seasons",
          "5 Seasons",
          "1 Season",
          "1 Season",
          "1 Season",
          "1 Season",
          "1 Season",
          "1 Season",
          "1 Season",
          "1 Season",
          "1 Season",
          "1 Season",
          "1 Season",
          "1 Season",
          "1 Season",
          "1 Season",
          "5 Seasons",
          "2 Seasons",
          "1 Season",
          "1 Season",
          "1 Season",
          "4 Seasons",
          "4 Seasons",
          "1 Season",
          "1 Season",
          "1 Season",
          "1 Season",
          "1 Season",
          "1 Season",
          "1 Season",
          "1 Season",
          "3 Seasons",
          "1 Season",
          "1 Season",
          "1 Season",
          "1 Season",
          "1 Season",
          "1 Season",
          "2 Seasons",
          "1 Season",
          "1 Season",
          "1 Season",
          "12 Seasons",
          "1 Season",
          "2 Seasons",
          "5 Seasons",
          "2 Seasons",
          "2 Seasons",
          "2 Seasons",
          "1 Season",
          "1 Season",
          "1 Season",
          "1 Season",
          "1 Season",
          "1 Season",
          "1 Season",
          "1 Season",
          "2 Seasons",
          "1 Season",
          "1 Season",
          "3 Seasons",
          "1 Season",
          "1 Season",
          "3 Seasons",
          "1 Season",
          "1 Season",
          "1 Season",
          "3 Seasons",
          "1 Season",
          "1 Season",
          "1 Season",
          "2 Seasons",
          "1 Season",
          "1 Season",
          "1 Season",
          "4 Seasons",
          "1 Season",
          "2 Seasons",
          "1 Season",
          "1 Season",
          "2 Seasons",
          "2 Seasons",
          "1 Season",
          "1 Season",
          "1 Season",
          "3 Seasons",
          "1 Season",
          "1 Season",
          "1 Season",
          "1 Season",
          "1 Season",
          "1 Season",
          "1 Season",
          "1 Season",
          "3 Seasons",
          "1 Season",
          "1 Season",
          "1 Season",
          "1 Season",
          "1 Season",
          "1 Season",
          "7 Seasons",
          "1 Season",
          "2 Seasons",
          "1 Season",
          "2 Seasons",
          "1 Season",
          "1 Season",
          "1 Season",
          "1 Season",
          "1 Season",
          "1 Season",
          "1 Season",
          "2 Seasons",
          "1 Season",
          "5 Seasons",
          "1 Season",
          "1 Season",
          "1 Season",
          "1 Season",
          "1 Season",
          "1 Season",
          "3 Seasons",
          "2 Seasons",
          "1 Season",
          "1 Season",
          "1 Season",
          "1 Season",
          "1 Season",
          "1 Season",
          "1 Season",
          "1 Season",
          "2 Seasons",
          "1 Season",
          "1 Season",
          "1 Season",
          "1 Season",
          "1 Season",
          "1 Season",
          "1 Season",
          "1 Season",
          "1 Season",
          "1 Season",
          "2 Seasons",
          "1 Season",
          "1 Season",
          "1 Season",
          "1 Season",
          "1 Season",
          "1 Season",
          "1 Season",
          "1 Season",
          "1 Season",
          "1 Season",
          "4 Seasons",
          "1 Season",
          "1 Season",
          "1 Season",
          "1 Season",
          "9 Seasons",
          "1 Season",
          "1 Season",
          "2 Seasons",
          "1 Season",
          "3 Seasons",
          "1 Season",
          "1 Season",
          "1 Season",
          "2 Seasons",
          "3 Seasons",
          "2 Seasons",
          "2 Seasons",
          "1 Season",
          "1 Season",
          "1 Season",
          "1 Season",
          "1 Season",
          "2 Seasons",
          "2 Seasons",
          "1 Season",
          "1 Season",
          "1 Season",
          "2 Seasons",
          "3 Seasons",
          "1 Season",
          "1 Season",
          "1 Season",
          "1 Season",
          "1 Season",
          "3 Seasons",
          "1 Season",
          "1 Season",
          "2 Seasons",
          "10 Seasons",
          "1 Season",
          "3 Seasons",
          "5 Seasons",
          "3 Seasons",
          "4 Seasons",
          "5 Seasons",
          "1 Season",
          "1 Season",
          "1 Season",
          "1 Season",
          "1 Season",
          "1 Season",
          "1 Season",
          "1 Season",
          "1 Season",
          "1 Season",
          "2 Seasons",
          "1 Season",
          "2 Seasons",
          "1 Season",
          "1 Season",
          "1 Season",
          "2 Seasons",
          "1 Season",
          "1 Season",
          "5 Seasons",
          "1 Season",
          "3 Seasons",
          "1 Season",
          "1 Season",
          "1 Season",
          "1 Season",
          "1 Season",
          "1 Season",
          "5 Seasons",
          "2 Seasons",
          "1 Season",
          "1 Season",
          "3 Seasons",
          "1 Season",
          "1 Season",
          "1 Season",
          "1 Season",
          "5 Seasons",
          "1 Season",
          "1 Season",
          "1 Season",
          "1 Season",
          "1 Season",
          "4 Seasons",
          "2 Seasons",
          "1 Season",
          "1 Season",
          "4 Seasons",
          "1 Season",
          "1 Season",
          "1 Season",
          "1 Season",
          "2 Seasons",
          "3 Seasons",
          "3 Seasons",
          "1 Season",
          "1 Season",
          "1 Season",
          "1 Season",
          "1 Season",
          "1 Season",
          "1 Season",
          "2 Seasons",
          "1 Season",
          "3 Seasons",
          "1 Season",
          "2 Seasons",
          "1 Season",
          "1 Season",
          "1 Season",
          "1 Season",
          "2 Seasons",
          "1 Season",
          "1 Season",
          "1 Season",
          "1 Season",
          "1 Season",
          "1 Season",
          "1 Season",
          "1 Season",
          "1 Season",
          "1 Season",
          "1 Season",
          "2 Seasons",
          "1 Season",
          "11 Seasons",
          "2 Seasons",
          "1 Season",
          "2 Seasons",
          "1 Season",
          "1 Season",
          "1 Season",
          "1 Season",
          "1 Season",
          "1 Season",
          "1 Season",
          "9 Seasons",
          "7 Seasons",
          "8 Seasons",
          "1 Season",
          "1 Season",
          "1 Season",
          "1 Season",
          "1 Season",
          "5 Seasons",
          "1 Season",
          "1 Season",
          "1 Season",
          "1 Season",
          "1 Season",
          "10 Seasons",
          "1 Season",
          "1 Season",
          "2 Seasons",
          "1 Season",
          "1 Season",
          "2 Seasons",
          "3 Seasons",
          "1 Season",
          "1 Season",
          "8 Seasons",
          "1 Season",
          "1 Season",
          "1 Season",
          "1 Season",
          "1 Season",
          "1 Season",
          "1 Season",
          "1 Season",
          "1 Season",
          "1 Season",
          "1 Season",
          "3 Seasons",
          "1 Season",
          "1 Season",
          "1 Season",
          "1 Season",
          "2 Seasons",
          "1 Season",
          "1 Season",
          "1 Season",
          "1 Season",
          "1 Season",
          "1 Season",
          "1 Season",
          "1 Season",
          "2 Seasons",
          "1 Season",
          "1 Season",
          "1 Season",
          "1 Season",
          "6 Seasons",
          "1 Season",
          "2 Seasons",
          "2 Seasons",
          "3 Seasons",
          "1 Season",
          "1 Season",
          "1 Season",
          "1 Season",
          "1 Season",
          "1 Season",
          "1 Season",
          "11 Seasons",
          "4 Seasons",
          "10 Seasons",
          "1 Season",
          "1 Season",
          "2 Seasons",
          "1 Season",
          "1 Season",
          "1 Season",
          "1 Season",
          "1 Season",
          "1 Season",
          "1 Season",
          "1 Season",
          "1 Season",
          "1 Season",
          "2 Seasons",
          "2 Seasons",
          "1 Season",
          "6 Seasons",
          "2 Seasons",
          "3 Seasons",
          "2 Seasons",
          "1 Season",
          "2 Seasons",
          "2 Seasons",
          "3 Seasons",
          "1 Season",
          "2 Seasons",
          "1 Season",
          "1 Season",
          "1 Season",
          "4 Seasons",
          "1 Season",
          "5 Seasons",
          "2 Seasons",
          "1 Season",
          "5 Seasons",
          "2 Seasons",
          "1 Season",
          "3 Seasons",
          "5 Seasons",
          "3 Seasons",
          "1 Season",
          "1 Season",
          "1 Season",
          "3 Seasons",
          "1 Season",
          "1 Season",
          "1 Season",
          "1 Season",
          "1 Season",
          "2 Seasons",
          "2 Seasons",
          "1 Season",
          "2 Seasons",
          "1 Season",
          "1 Season",
          "1 Season",
          "1 Season",
          "1 Season",
          "1 Season",
          "1 Season",
          "2 Seasons",
          "2 Seasons",
          "1 Season",
          "1 Season",
          "1 Season",
          "1 Season",
          "2 Seasons",
          "2 Seasons",
          "1 Season",
          "1 Season",
          "1 Season",
          "1 Season",
          "1 Season",
          "2 Seasons",
          "1 Season",
          "1 Season",
          "1 Season",
          "1 Season",
          "1 Season",
          "1 Season",
          "1 Season",
          "1 Season",
          "1 Season",
          "2 Seasons",
          "1 Season",
          "1 Season",
          "1 Season",
          "2 Seasons",
          "1 Season",
          "1 Season",
          "1 Season",
          "3 Seasons",
          "1 Season",
          "1 Season",
          "1 Season",
          "1 Season",
          "1 Season",
          "3 Seasons",
          "1 Season",
          "1 Season",
          "1 Season",
          "3 Seasons",
          "1 Season",
          "1 Season",
          "3 Seasons",
          "1 Season",
          "1 Season",
          "1 Season",
          "2 Seasons",
          "1 Season",
          "4 Seasons",
          "1 Season",
          "1 Season",
          "2 Seasons",
          "1 Season",
          "1 Season",
          "1 Season",
          "5 Seasons",
          "1 Season",
          "1 Season",
          "1 Season",
          "1 Season",
          "1 Season",
          "7 Seasons",
          "1 Season",
          "1 Season",
          "1 Season",
          "1 Season",
          "1 Season",
          "1 Season",
          "1 Season",
          "1 Season",
          "4 Seasons",
          "1 Season",
          "2 Seasons",
          "1 Season",
          "1 Season",
          "1 Season",
          "1 Season",
          "1 Season",
          "1 Season",
          "1 Season",
          "1 Season",
          "1 Season",
          "2 Seasons",
          "1 Season",
          "1 Season",
          "1 Season",
          "1 Season",
          "1 Season",
          "1 Season",
          "2 Seasons",
          "1 Season",
          "1 Season",
          "2 Seasons",
          "3 Seasons",
          "2 Seasons",
          "1 Season",
          "1 Season",
          "1 Season",
          "1 Season",
          "1 Season",
          "1 Season",
          "1 Season",
          "1 Season",
          "1 Season",
          "3 Seasons",
          "3 Seasons",
          "2 Seasons",
          "1 Season",
          "1 Season",
          "1 Season",
          "1 Season",
          "1 Season",
          "1 Season",
          "1 Season",
          "7 Seasons",
          "1 Season",
          "1 Season",
          "1 Season",
          "2 Seasons",
          "1 Season",
          "1 Season",
          "1 Season",
          "1 Season",
          "1 Season",
          "1 Season",
          "3 Seasons",
          "1 Season",
          "1 Season",
          "1 Season",
          "2 Seasons",
          "7 Seasons",
          "1 Season",
          "1 Season",
          "5 Seasons",
          "3 Seasons",
          "5 Seasons",
          "1 Season",
          "1 Season",
          "1 Season",
          "8 Seasons",
          "1 Season",
          "1 Season",
          "1 Season",
          "1 Season",
          "1 Season",
          "1 Season",
          "1 Season",
          "1 Season",
          "1 Season",
          "1 Season",
          "1 Season",
          "1 Season",
          "1 Season",
          "1 Season",
          "1 Season",
          "1 Season",
          "1 Season",
          "1 Season",
          "1 Season",
          "1 Season",
          "1 Season",
          "1 Season",
          "1 Season",
          "1 Season",
          "2 Seasons",
          "3 Seasons",
          "1 Season",
          "1 Season",
          "1 Season",
          "1 Season",
          "1 Season",
          "1 Season",
          "1 Season",
          "1 Season",
          "1 Season",
          "4 Seasons",
          "13 Seasons",
          "2 Seasons",
          "6 Seasons",
          "1 Season",
          "1 Season",
          "4 Seasons",
          "5 Seasons",
          "1 Season",
          "1 Season",
          "3 Seasons",
          "8 Seasons",
          "1 Season",
          "3 Seasons",
          "1 Season",
          "1 Season",
          "1 Season",
          "1 Season",
          "7 Seasons",
          "1 Season",
          "1 Season",
          "1 Season",
          "1 Season",
          "1 Season",
          "4 Seasons",
          "1 Season",
          "2 Seasons",
          "1 Season",
          "3 Seasons",
          "3 Seasons",
          "1 Season",
          "1 Season",
          "1 Season",
          "1 Season",
          "4 Seasons",
          "2 Seasons",
          "1 Season",
          "1 Season",
          "1 Season",
          "1 Season",
          "1 Season",
          "1 Season",
          "1 Season",
          "1 Season",
          "1 Season",
          "1 Season",
          "3 Seasons",
          "1 Season",
          "1 Season",
          "1 Season",
          "1 Season",
          "2 Seasons",
          "1 Season",
          "1 Season",
          "1 Season",
          "1 Season",
          "8 Seasons",
          "1 Season",
          "2 Seasons",
          "2 Seasons",
          "8 Seasons",
          "2 Seasons",
          "1 Season",
          "1 Season",
          "1 Season",
          "1 Season",
          "1 Season",
          "1 Season",
          "1 Season",
          "1 Season",
          "1 Season",
          "1 Season",
          "2 Seasons",
          "1 Season",
          "2 Seasons",
          "1 Season",
          "1 Season",
          "1 Season",
          "1 Season",
          "1 Season",
          "5 Seasons",
          "2 Seasons",
          "1 Season",
          "1 Season",
          "4 Seasons",
          "1 Season",
          "1 Season",
          "1 Season",
          "3 Seasons",
          "1 Season",
          "3 Seasons",
          "2 Seasons",
          "1 Season",
          "1 Season",
          "1 Season",
          "1 Season",
          "6 Seasons",
          "1 Season",
          "1 Season",
          "1 Season",
          "1 Season",
          "1 Season",
          "5 Seasons",
          "2 Seasons",
          "3 Seasons",
          "1 Season",
          "1 Season",
          "1 Season",
          "1 Season",
          "1 Season",
          "9 Seasons",
          "1 Season",
          "1 Season",
          "1 Season",
          "1 Season",
          "1 Season",
          "1 Season",
          "3 Seasons",
          "2 Seasons",
          "1 Season",
          "1 Season",
          "1 Season",
          "4 Seasons",
          "4 Seasons",
          "1 Season",
          "1 Season",
          "1 Season",
          "1 Season",
          "7 Seasons",
          "1 Season",
          "1 Season",
          "1 Season",
          "1 Season",
          "1 Season",
          "1 Season",
          "1 Season",
          "1 Season",
          "3 Seasons",
          "2 Seasons",
          "1 Season",
          "3 Seasons",
          "1 Season",
          "1 Season",
          "2 Seasons",
          "2 Seasons",
          "4 Seasons",
          "2 Seasons",
          "2 Seasons",
          "3 Seasons",
          "2 Seasons",
          "1 Season",
          "8 Seasons",
          "2 Seasons",
          "1 Season",
          "1 Season",
          "5 Seasons",
          "1 Season",
          "1 Season",
          "1 Season",
          "1 Season",
          "1 Season",
          "3 Seasons",
          "1 Season",
          "1 Season",
          "1 Season",
          "1 Season",
          "1 Season",
          "2 Seasons",
          "2 Seasons",
          "3 Seasons",
          "1 Season",
          "2 Seasons"
         ],
         "xaxis": "x",
         "y": [
          "2 Seasons",
          "1 Season",
          "1 Season",
          "2 Seasons",
          "1 Season",
          "9 Seasons",
          "1 Season",
          "1 Season",
          "1 Season",
          "4 Seasons",
          "2 Seasons",
          "1 Season",
          "1 Season",
          "5 Seasons",
          "2 Seasons",
          "1 Season",
          "3 Seasons",
          "1 Season",
          "1 Season",
          "1 Season",
          "3 Seasons",
          "1 Season",
          "1 Season",
          "2 Seasons",
          "1 Season",
          "6 Seasons",
          "6 Seasons",
          "1 Season",
          "9 Seasons",
          "1 Season",
          "1 Season",
          "5 Seasons",
          "2 Seasons",
          "1 Season",
          "6 Seasons",
          "1 Season",
          "1 Season",
          "2 Seasons",
          "4 Seasons",
          "2 Seasons",
          "3 Seasons",
          "2 Seasons",
          "1 Season",
          "1 Season",
          "2 Seasons",
          "1 Season",
          "2 Seasons",
          "5 Seasons",
          "1 Season",
          "5 Seasons",
          "1 Season",
          "1 Season",
          "1 Season",
          "1 Season",
          "1 Season",
          "3 Seasons",
          "1 Season",
          "1 Season",
          "1 Season",
          "1 Season",
          "2 Seasons",
          "3 Seasons",
          "4 Seasons",
          "1 Season",
          "1 Season",
          "1 Season",
          "1 Season",
          "1 Season",
          "2 Seasons",
          "1 Season",
          "1 Season",
          "1 Season",
          "1 Season",
          "2 Seasons",
          "3 Seasons",
          "1 Season",
          "1 Season",
          "4 Seasons",
          "1 Season",
          "1 Season",
          "1 Season",
          "1 Season",
          "1 Season",
          "3 Seasons",
          "1 Season",
          "3 Seasons",
          "1 Season",
          "1 Season",
          "1 Season",
          "1 Season",
          "5 Seasons",
          "1 Season",
          "2 Seasons",
          "1 Season",
          "1 Season",
          "2 Seasons",
          "1 Season",
          "5 Seasons",
          "1 Season",
          "7 Seasons",
          "1 Season",
          "2 Seasons",
          "1 Season",
          "1 Season",
          "2 Seasons",
          "1 Season",
          "1 Season",
          "1 Season",
          "1 Season",
          "1 Season",
          "1 Season",
          "3 Seasons",
          "1 Season",
          "2 Seasons",
          "1 Season",
          "1 Season",
          "1 Season",
          "1 Season",
          "1 Season",
          "1 Season",
          "1 Season",
          "7 Seasons",
          "3 Seasons",
          "1 Season",
          "5 Seasons",
          "6 Seasons",
          "3 Seasons",
          "1 Season",
          "3 Seasons",
          "1 Season",
          "1 Season",
          "2 Seasons",
          "1 Season",
          "1 Season",
          "7 Seasons",
          "1 Season",
          "3 Seasons",
          "3 Seasons",
          "4 Seasons",
          "1 Season",
          "10 Seasons",
          "4 Seasons",
          "1 Season",
          "1 Season",
          "1 Season",
          "2 Seasons",
          "2 Seasons",
          "5 Seasons",
          "1 Season",
          "1 Season",
          "1 Season",
          "1 Season",
          "3 Seasons",
          "1 Season",
          "1 Season",
          "2 Seasons",
          "1 Season",
          "2 Seasons",
          "1 Season",
          "1 Season",
          "1 Season",
          "4 Seasons",
          "2 Seasons",
          "1 Season",
          "1 Season",
          "3 Seasons",
          "1 Season",
          "1 Season",
          "1 Season",
          "2 Seasons",
          "2 Seasons",
          "1 Season",
          "3 Seasons",
          "2 Seasons",
          "2 Seasons",
          "4 Seasons",
          "3 Seasons",
          "5 Seasons",
          "2 Seasons",
          "2 Seasons",
          "2 Seasons",
          "2 Seasons",
          "2 Seasons",
          "5 Seasons",
          "3 Seasons",
          "3 Seasons",
          "2 Seasons",
          "8 Seasons",
          "7 Seasons",
          "2 Seasons",
          "2 Seasons",
          "3 Seasons",
          "3 Seasons",
          "2 Seasons",
          "3 Seasons",
          "6 Seasons",
          "2 Seasons",
          "2 Seasons",
          "4 Seasons",
          "2 Seasons",
          "5 Seasons",
          "3 Seasons",
          "1 Season",
          "1 Season",
          "17 Seasons",
          "1 Season",
          "2 Seasons",
          "1 Season",
          "1 Season",
          "1 Season",
          "1 Season",
          "1 Season",
          "3 Seasons",
          "1 Season",
          "1 Season",
          "1 Season",
          "1 Season",
          "1 Season",
          "1 Season",
          "4 Seasons",
          "5 Seasons",
          "1 Season",
          "1 Season",
          "1 Season",
          "1 Season",
          "2 Seasons",
          "1 Season",
          "2 Seasons",
          "1 Season",
          "2 Seasons",
          "1 Season",
          "1 Season",
          "4 Seasons",
          "4 Seasons",
          "1 Season",
          "1 Season",
          "2 Seasons",
          "2 Seasons",
          "1 Season",
          "6 Seasons",
          "3 Seasons",
          "5 Seasons",
          "1 Season",
          "2 Seasons",
          "1 Season",
          "4 Seasons",
          "6 Seasons",
          "1 Season",
          "1 Season",
          "1 Season",
          "1 Season",
          "1 Season",
          "4 Seasons",
          "2 Seasons",
          "1 Season",
          "1 Season",
          "2 Seasons",
          "1 Season",
          "1 Season",
          "1 Season",
          "3 Seasons",
          "1 Season",
          "1 Season",
          "3 Seasons",
          "1 Season",
          "1 Season",
          "1 Season",
          "1 Season",
          "1 Season",
          "2 Seasons",
          "1 Season",
          "1 Season",
          "1 Season",
          "2 Seasons",
          "2 Seasons",
          "2 Seasons",
          "1 Season",
          "1 Season",
          "1 Season",
          "2 Seasons",
          "2 Seasons",
          "1 Season",
          "2 Seasons",
          "1 Season",
          "1 Season",
          "1 Season",
          "1 Season",
          "2 Seasons",
          "1 Season",
          "2 Seasons",
          "3 Seasons",
          "6 Seasons",
          "3 Seasons",
          "1 Season",
          "1 Season",
          "1 Season",
          "3 Seasons",
          "2 Seasons",
          "3 Seasons",
          "2 Seasons",
          "1 Season",
          "1 Season",
          "1 Season",
          "2 Seasons",
          "1 Season",
          "3 Seasons",
          "1 Season",
          "3 Seasons",
          "3 Seasons",
          "2 Seasons",
          "2 Seasons",
          "1 Season",
          "2 Seasons",
          "1 Season",
          "1 Season",
          "1 Season",
          "3 Seasons",
          "2 Seasons",
          "1 Season",
          "1 Season",
          "4 Seasons",
          "1 Season",
          "1 Season",
          "1 Season",
          "1 Season",
          "1 Season",
          "2 Seasons",
          "1 Season",
          "1 Season",
          "2 Seasons",
          "3 Seasons",
          "2 Seasons",
          "2 Seasons",
          "2 Seasons",
          "1 Season",
          "1 Season",
          "1 Season",
          "2 Seasons",
          "1 Season",
          "1 Season",
          "1 Season",
          "1 Season",
          "1 Season",
          "1 Season",
          "1 Season",
          "1 Season",
          "2 Seasons",
          "2 Seasons",
          "3 Seasons",
          "1 Season",
          "1 Season",
          "1 Season",
          "1 Season",
          "1 Season",
          "7 Seasons",
          "1 Season",
          "1 Season",
          "1 Season",
          "3 Seasons",
          "1 Season",
          "2 Seasons",
          "1 Season",
          "1 Season",
          "1 Season",
          "6 Seasons",
          "1 Season",
          "1 Season",
          "1 Season",
          "1 Season",
          "1 Season",
          "3 Seasons",
          "1 Season",
          "1 Season",
          "1 Season",
          "1 Season",
          "4 Seasons",
          "1 Season",
          "1 Season",
          "1 Season",
          "2 Seasons",
          "1 Season",
          "1 Season",
          "1 Season",
          "2 Seasons",
          "2 Seasons",
          "2 Seasons",
          "2 Seasons",
          "1 Season",
          "1 Season",
          "2 Seasons",
          "1 Season",
          "1 Season",
          "4 Seasons",
          "1 Season",
          "1 Season",
          "1 Season",
          "1 Season",
          "6 Seasons",
          "1 Season",
          "4 Seasons",
          "2 Seasons",
          "1 Season",
          "3 Seasons",
          "2 Seasons",
          "1 Season",
          "1 Season",
          "1 Season",
          "1 Season",
          "1 Season",
          "2 Seasons",
          "3 Seasons",
          "1 Season",
          "1 Season",
          "1 Season",
          "1 Season",
          "1 Season",
          "1 Season",
          "1 Season",
          "1 Season",
          "1 Season",
          "4 Seasons",
          "1 Season",
          "1 Season",
          "5 Seasons",
          "1 Season",
          "1 Season",
          "1 Season",
          "3 Seasons",
          "1 Season",
          "1 Season",
          "1 Season",
          "1 Season",
          "2 Seasons",
          "1 Season",
          "1 Season",
          "1 Season",
          "1 Season",
          "1 Season",
          "1 Season",
          "1 Season",
          "1 Season",
          "1 Season",
          "4 Seasons",
          "3 Seasons",
          "4 Seasons",
          "1 Season",
          "1 Season",
          "2 Seasons",
          "1 Season",
          "1 Season",
          "1 Season",
          "1 Season",
          "1 Season",
          "2 Seasons",
          "3 Seasons",
          "2 Seasons",
          "1 Season",
          "1 Season",
          "1 Season",
          "2 Seasons",
          "2 Seasons",
          "13 Seasons",
          "1 Season",
          "1 Season",
          "1 Season",
          "1 Season",
          "7 Seasons",
          "2 Seasons",
          "2 Seasons",
          "1 Season",
          "1 Season",
          "2 Seasons",
          "4 Seasons",
          "1 Season",
          "2 Seasons",
          "3 Seasons",
          "1 Season",
          "1 Season",
          "1 Season",
          "4 Seasons",
          "1 Season",
          "4 Seasons",
          "3 Seasons",
          "3 Seasons",
          "5 Seasons",
          "1 Season",
          "4 Seasons",
          "5 Seasons",
          "1 Season",
          "1 Season",
          "2 Seasons",
          "1 Season",
          "1 Season",
          "3 Seasons",
          "1 Season",
          "1 Season",
          "3 Seasons",
          "2 Seasons",
          "1 Season",
          "1 Season",
          "2 Seasons",
          "1 Season",
          "1 Season",
          "2 Seasons",
          "4 Seasons",
          "1 Season",
          "1 Season",
          "1 Season",
          "1 Season",
          "9 Seasons",
          "1 Season",
          "1 Season",
          "1 Season",
          "2 Seasons",
          "1 Season",
          "1 Season",
          "1 Season",
          "2 Seasons",
          "1 Season",
          "1 Season",
          "2 Seasons",
          "1 Season",
          "2 Seasons",
          "1 Season",
          "1 Season",
          "1 Season",
          "1 Season",
          "1 Season",
          "1 Season",
          "1 Season",
          "1 Season",
          "2 Seasons",
          "2 Seasons",
          "2 Seasons",
          "2 Seasons",
          "2 Seasons",
          "2 Seasons",
          "1 Season",
          "1 Season",
          "2 Seasons",
          "1 Season",
          "1 Season",
          "1 Season",
          "4 Seasons",
          "1 Season",
          "2 Seasons",
          "3 Seasons",
          "1 Season",
          "1 Season",
          "3 Seasons",
          "1 Season",
          "1 Season",
          "1 Season",
          "1 Season",
          "1 Season",
          "4 Seasons",
          "1 Season",
          "3 Seasons",
          "1 Season",
          "2 Seasons",
          "2 Seasons",
          "1 Season",
          "2 Seasons",
          "4 Seasons",
          "1 Season",
          "10 Seasons",
          "1 Season",
          "1 Season",
          "1 Season",
          "1 Season",
          "1 Season",
          "1 Season",
          "7 Seasons",
          "1 Season",
          "2 Seasons",
          "2 Seasons",
          "1 Season",
          "1 Season",
          "1 Season",
          "3 Seasons",
          "1 Season",
          "1 Season",
          "1 Season",
          "1 Season",
          "4 Seasons",
          "1 Season",
          "2 Seasons",
          "1 Season",
          "2 Seasons",
          "2 Seasons",
          "4 Seasons",
          "9 Seasons",
          "1 Season",
          "1 Season",
          "1 Season",
          "1 Season",
          "1 Season",
          "1 Season",
          "1 Season",
          "1 Season",
          "1 Season",
          "1 Season",
          "1 Season",
          "1 Season",
          "1 Season",
          "1 Season",
          "1 Season",
          "1 Season",
          "2 Seasons",
          "1 Season",
          "6 Seasons",
          "1 Season",
          "3 Seasons",
          "1 Season",
          "1 Season",
          "2 Seasons",
          "10 Seasons",
          "1 Season",
          "4 Seasons",
          "1 Season",
          "2 Seasons",
          "1 Season",
          "1 Season",
          "2 Seasons",
          "7 Seasons",
          "4 Seasons",
          "3 Seasons",
          "1 Season",
          "4 Seasons",
          "1 Season",
          "1 Season",
          "1 Season",
          "1 Season",
          "1 Season",
          "3 Seasons",
          "2 Seasons",
          "1 Season",
          "1 Season",
          "1 Season",
          "1 Season",
          "3 Seasons",
          "4 Seasons",
          "4 Seasons",
          "5 Seasons",
          "2 Seasons",
          "1 Season",
          "1 Season",
          "3 Seasons",
          "1 Season",
          "1 Season",
          "1 Season",
          "1 Season",
          "7 Seasons",
          "1 Season",
          "1 Season",
          "1 Season",
          "1 Season",
          "1 Season",
          "1 Season",
          "3 Seasons",
          "1 Season",
          "1 Season",
          "2 Seasons",
          "1 Season",
          "1 Season",
          "1 Season",
          "1 Season",
          "3 Seasons",
          "5 Seasons",
          "1 Season",
          "1 Season",
          "3 Seasons",
          "4 Seasons",
          "8 Seasons",
          "1 Season",
          "4 Seasons",
          "4 Seasons",
          "1 Season",
          "3 Seasons",
          "1 Season",
          "1 Season",
          "4 Seasons",
          "1 Season",
          "1 Season",
          "1 Season",
          "1 Season",
          "7 Seasons",
          "1 Season",
          "1 Season",
          "3 Seasons",
          "1 Season",
          "2 Seasons",
          "2 Seasons",
          "1 Season",
          "9 Seasons",
          "2 Seasons",
          "2 Seasons",
          "2 Seasons",
          "8 Seasons",
          "1 Season",
          "1 Season",
          "5 Seasons",
          "1 Season",
          "1 Season",
          "1 Season",
          "1 Season",
          "2 Seasons",
          "1 Season",
          "1 Season",
          "2 Seasons",
          "1 Season",
          "1 Season",
          "1 Season",
          "2 Seasons",
          "1 Season",
          "3 Seasons",
          "1 Season",
          "1 Season",
          "4 Seasons",
          "1 Season",
          "6 Seasons",
          "1 Season",
          "2 Seasons",
          "1 Season",
          "1 Season",
          "3 Seasons",
          "1 Season",
          "1 Season",
          "1 Season",
          "2 Seasons",
          "1 Season",
          "1 Season",
          "1 Season",
          "3 Seasons",
          "1 Season",
          "1 Season",
          "1 Season",
          "2 Seasons",
          "2 Seasons",
          "1 Season",
          "5 Seasons",
          "2 Seasons",
          "4 Seasons",
          "1 Season",
          "1 Season",
          "4 Seasons",
          "1 Season",
          "1 Season",
          "1 Season",
          "2 Seasons",
          "1 Season",
          "3 Seasons",
          "3 Seasons",
          "1 Season",
          "1 Season",
          "1 Season",
          "1 Season",
          "5 Seasons",
          "3 Seasons",
          "1 Season",
          "1 Season",
          "1 Season",
          "6 Seasons",
          "1 Season",
          "1 Season",
          "1 Season",
          "1 Season",
          "2 Seasons",
          "1 Season",
          "3 Seasons",
          "2 Seasons",
          "1 Season",
          "1 Season",
          "5 Seasons",
          "10 Seasons",
          "1 Season",
          "1 Season",
          "1 Season",
          "3 Seasons",
          "1 Season",
          "1 Season",
          "1 Season",
          "1 Season",
          "1 Season",
          "2 Seasons",
          "1 Season",
          "1 Season",
          "1 Season",
          "2 Seasons",
          "1 Season",
          "1 Season",
          "1 Season",
          "1 Season",
          "1 Season",
          "1 Season",
          "4 Seasons",
          "1 Season",
          "1 Season",
          "1 Season",
          "2 Seasons",
          "6 Seasons",
          "1 Season",
          "1 Season",
          "1 Season",
          "1 Season",
          "1 Season",
          "1 Season",
          "1 Season",
          "1 Season",
          "1 Season",
          "1 Season",
          "1 Season",
          "1 Season",
          "3 Seasons",
          "1 Season",
          "1 Season",
          "1 Season",
          "1 Season",
          "2 Seasons",
          "1 Season",
          "2 Seasons",
          "1 Season",
          "2 Seasons",
          "2 Seasons",
          "2 Seasons",
          "2 Seasons",
          "4 Seasons",
          "6 Seasons",
          "2 Seasons",
          "4 Seasons",
          "1 Season",
          "4 Seasons",
          "1 Season",
          "1 Season",
          "1 Season",
          "5 Seasons",
          "1 Season",
          "1 Season",
          "1 Season",
          "4 Seasons",
          "4 Seasons",
          "5 Seasons",
          "15 Seasons",
          "3 Seasons",
          "1 Season",
          "2 Seasons",
          "1 Season",
          "1 Season",
          "3 Seasons",
          "1 Season",
          "1 Season",
          "1 Season",
          "2 Seasons",
          "1 Season",
          "4 Seasons",
          "5 Seasons",
          "1 Season",
          "3 Seasons",
          "1 Season",
          "2 Seasons",
          "1 Season",
          "1 Season",
          "1 Season",
          "1 Season",
          "1 Season",
          "1 Season",
          "6 Seasons",
          "1 Season",
          "1 Season",
          "3 Seasons",
          "1 Season",
          "6 Seasons",
          "3 Seasons",
          "1 Season",
          "5 Seasons",
          "1 Season",
          "1 Season",
          "2 Seasons",
          "1 Season",
          "1 Season",
          "3 Seasons",
          "1 Season",
          "2 Seasons",
          "2 Seasons",
          "1 Season",
          "2 Seasons",
          "2 Seasons",
          "1 Season",
          "1 Season",
          "1 Season",
          "1 Season",
          "1 Season",
          "1 Season",
          "4 Seasons",
          "3 Seasons",
          "1 Season",
          "1 Season",
          "1 Season",
          "1 Season",
          "7 Seasons",
          "5 Seasons",
          "1 Season",
          "1 Season",
          "1 Season",
          "1 Season",
          "2 Seasons",
          "1 Season",
          "4 Seasons",
          "1 Season",
          "1 Season",
          "2 Seasons",
          "1 Season",
          "1 Season",
          "1 Season",
          "3 Seasons",
          "1 Season",
          "1 Season",
          "5 Seasons",
          "1 Season",
          "1 Season",
          "1 Season",
          "1 Season",
          "1 Season",
          "1 Season",
          "1 Season",
          "2 Seasons",
          "1 Season",
          "2 Seasons",
          "3 Seasons",
          "1 Season",
          "1 Season",
          "1 Season",
          "2 Seasons",
          "1 Season",
          "2 Seasons",
          "2 Seasons",
          "6 Seasons",
          "1 Season",
          "3 Seasons",
          "3 Seasons",
          "6 Seasons",
          "2 Seasons",
          "1 Season",
          "3 Seasons",
          "2 Seasons",
          "1 Season",
          "1 Season",
          "1 Season",
          "1 Season",
          "2 Seasons",
          "1 Season",
          "3 Seasons",
          "1 Season",
          "2 Seasons",
          "1 Season",
          "1 Season",
          "1 Season",
          "2 Seasons",
          "2 Seasons",
          "2 Seasons",
          "4 Seasons",
          "1 Season",
          "1 Season",
          "1 Season",
          "1 Season",
          "1 Season",
          "1 Season",
          "1 Season",
          "1 Season",
          "1 Season",
          "1 Season",
          "1 Season",
          "1 Season",
          "1 Season",
          "2 Seasons",
          "1 Season",
          "2 Seasons",
          "3 Seasons",
          "1 Season",
          "2 Seasons",
          "1 Season",
          "4 Seasons",
          "1 Season",
          "3 Seasons",
          "1 Season",
          "2 Seasons",
          "1 Season",
          "1 Season",
          "1 Season",
          "2 Seasons",
          "1 Season",
          "1 Season",
          "1 Season",
          "1 Season",
          "1 Season",
          "1 Season",
          "1 Season",
          "1 Season",
          "1 Season",
          "1 Season",
          "1 Season",
          "1 Season",
          "1 Season",
          "1 Season",
          "1 Season",
          "1 Season",
          "2 Seasons",
          "1 Season",
          "1 Season",
          "2 Seasons",
          "4 Seasons",
          "2 Seasons",
          "2 Seasons",
          "1 Season",
          "1 Season",
          "1 Season",
          "1 Season",
          "8 Seasons",
          "1 Season",
          "3 Seasons",
          "1 Season",
          "1 Season",
          "5 Seasons",
          "1 Season",
          "1 Season",
          "1 Season",
          "2 Seasons",
          "1 Season",
          "2 Seasons",
          "1 Season",
          "1 Season",
          "1 Season",
          "1 Season",
          "1 Season",
          "1 Season",
          "1 Season",
          "2 Seasons",
          "1 Season",
          "8 Seasons",
          "1 Season",
          "2 Seasons",
          "1 Season",
          "1 Season",
          "1 Season",
          "1 Season",
          "1 Season",
          "4 Seasons",
          "1 Season",
          "2 Seasons",
          "1 Season",
          "1 Season",
          "1 Season",
          "1 Season",
          "1 Season",
          "1 Season",
          "1 Season",
          "4 Seasons",
          "1 Season",
          "1 Season",
          "2 Seasons",
          "1 Season",
          "1 Season",
          "1 Season",
          "3 Seasons",
          "1 Season",
          "1 Season",
          "1 Season",
          "1 Season",
          "1 Season",
          "1 Season",
          "1 Season",
          "1 Season",
          "2 Seasons",
          "1 Season",
          "1 Season",
          "1 Season",
          "1 Season",
          "1 Season",
          "1 Season",
          "3 Seasons",
          "1 Season",
          "1 Season",
          "2 Seasons",
          "2 Seasons",
          "1 Season",
          "1 Season",
          "1 Season",
          "1 Season",
          "2 Seasons",
          "2 Seasons",
          "2 Seasons",
          "6 Seasons",
          "1 Season",
          "1 Season",
          "1 Season",
          "2 Seasons",
          "1 Season",
          "1 Season",
          "1 Season",
          "2 Seasons",
          "1 Season",
          "1 Season",
          "1 Season",
          "2 Seasons",
          "3 Seasons",
          "1 Season",
          "5 Seasons",
          "1 Season",
          "2 Seasons",
          "1 Season",
          "1 Season",
          "1 Season",
          "1 Season",
          "2 Seasons",
          "1 Season",
          "1 Season",
          "1 Season",
          "4 Seasons",
          "2 Seasons",
          "1 Season",
          "2 Seasons",
          "2 Seasons",
          "1 Season",
          "1 Season",
          "1 Season",
          "1 Season",
          "1 Season",
          "2 Seasons",
          "1 Season",
          "1 Season",
          "1 Season",
          "2 Seasons",
          "1 Season",
          "1 Season",
          "1 Season",
          "3 Seasons",
          "8 Seasons",
          "1 Season",
          "1 Season",
          "1 Season",
          "1 Season",
          "1 Season",
          "1 Season",
          "1 Season",
          "1 Season",
          "2 Seasons",
          "1 Season",
          "2 Seasons",
          "1 Season",
          "1 Season",
          "1 Season",
          "1 Season",
          "3 Seasons",
          "2 Seasons",
          "1 Season",
          "1 Season",
          "1 Season",
          "2 Seasons",
          "1 Season",
          "3 Seasons",
          "1 Season",
          "1 Season",
          "2 Seasons",
          "1 Season",
          "2 Seasons",
          "2 Seasons",
          "3 Seasons",
          "1 Season",
          "1 Season",
          "3 Seasons",
          "1 Season",
          "1 Season",
          "4 Seasons",
          "2 Seasons",
          "2 Seasons",
          "2 Seasons",
          "1 Season",
          "2 Seasons",
          "1 Season",
          "2 Seasons",
          "3 Seasons",
          "1 Season",
          "1 Season",
          "2 Seasons",
          "1 Season",
          "1 Season",
          "1 Season",
          "1 Season",
          "1 Season",
          "1 Season",
          "1 Season",
          "1 Season",
          "6 Seasons",
          "1 Season",
          "1 Season",
          "1 Season",
          "1 Season",
          "1 Season",
          "1 Season",
          "1 Season",
          "1 Season",
          "1 Season",
          "1 Season",
          "2 Seasons",
          "1 Season",
          "1 Season",
          "2 Seasons",
          "2 Seasons",
          "2 Seasons",
          "1 Season",
          "1 Season",
          "1 Season",
          "1 Season",
          "1 Season",
          "2 Seasons",
          "2 Seasons",
          "1 Season",
          "1 Season",
          "1 Season",
          "1 Season",
          "1 Season",
          "2 Seasons",
          "5 Seasons",
          "1 Season",
          "2 Seasons",
          "3 Seasons",
          "1 Season",
          "1 Season",
          "1 Season",
          "1 Season",
          "1 Season",
          "1 Season",
          "1 Season",
          "1 Season",
          "1 Season",
          "1 Season",
          "1 Season",
          "5 Seasons",
          "1 Season",
          "3 Seasons",
          "1 Season",
          "2 Seasons",
          "3 Seasons",
          "1 Season",
          "1 Season",
          "1 Season",
          "1 Season",
          "2 Seasons",
          "1 Season",
          "1 Season",
          "1 Season",
          "1 Season",
          "1 Season",
          "1 Season",
          "1 Season",
          "1 Season",
          "1 Season",
          "1 Season",
          "1 Season",
          "1 Season",
          "3 Seasons",
          "9 Seasons",
          "1 Season",
          "1 Season",
          "1 Season",
          "1 Season",
          "1 Season",
          "3 Seasons",
          "2 Seasons",
          "3 Seasons",
          "2 Seasons",
          "1 Season",
          "1 Season",
          "1 Season",
          "1 Season",
          "1 Season",
          "1 Season",
          "2 Seasons",
          "1 Season",
          "1 Season",
          "1 Season",
          "2 Seasons",
          "1 Season",
          "1 Season",
          "2 Seasons",
          "1 Season",
          "3 Seasons",
          "5 Seasons",
          "1 Season",
          "1 Season",
          "1 Season",
          "1 Season",
          "5 Seasons",
          "1 Season",
          "1 Season",
          "1 Season",
          "1 Season",
          "1 Season",
          "1 Season",
          "1 Season",
          "2 Seasons",
          "1 Season",
          "1 Season",
          "2 Seasons",
          "1 Season",
          "2 Seasons",
          "1 Season",
          "3 Seasons",
          "1 Season",
          "6 Seasons",
          "3 Seasons",
          "1 Season",
          "1 Season",
          "3 Seasons",
          "1 Season",
          "1 Season",
          "1 Season",
          "1 Season",
          "1 Season",
          "2 Seasons",
          "3 Seasons",
          "1 Season",
          "1 Season",
          "1 Season",
          "1 Season",
          "3 Seasons",
          "1 Season",
          "2 Seasons",
          "3 Seasons",
          "1 Season",
          "2 Seasons",
          "1 Season",
          "1 Season",
          "1 Season",
          "1 Season",
          "2 Seasons",
          "1 Season",
          "1 Season",
          "1 Season",
          "2 Seasons",
          "3 Seasons",
          "1 Season",
          "2 Seasons",
          "2 Seasons",
          "3 Seasons",
          "1 Season",
          "2 Seasons",
          "1 Season",
          "2 Seasons",
          "2 Seasons",
          "2 Seasons",
          "1 Season",
          "3 Seasons",
          "2 Seasons",
          "2 Seasons",
          "2 Seasons",
          "1 Season",
          "1 Season",
          "1 Season",
          "1 Season",
          "1 Season",
          "1 Season",
          "2 Seasons",
          "2 Seasons",
          "5 Seasons",
          "1 Season",
          "2 Seasons",
          "3 Seasons",
          "1 Season",
          "1 Season",
          "1 Season",
          "3 Seasons",
          "1 Season",
          "1 Season",
          "5 Seasons",
          "3 Seasons",
          "1 Season",
          "1 Season",
          "1 Season",
          "2 Seasons",
          "2 Seasons",
          "1 Season",
          "1 Season",
          "1 Season",
          "1 Season",
          "2 Seasons",
          "1 Season",
          "2 Seasons",
          "2 Seasons",
          "1 Season",
          "1 Season",
          "2 Seasons",
          "1 Season",
          "1 Season",
          "1 Season",
          "1 Season",
          "1 Season",
          "3 Seasons",
          "1 Season",
          "2 Seasons",
          "1 Season",
          "1 Season",
          "1 Season",
          "1 Season",
          "1 Season",
          "1 Season",
          "1 Season",
          "1 Season",
          "1 Season",
          "1 Season",
          "1 Season",
          "1 Season",
          "1 Season",
          "1 Season",
          "1 Season",
          "1 Season",
          "1 Season",
          "2 Seasons",
          "1 Season",
          "1 Season",
          "2 Seasons",
          "1 Season",
          "1 Season",
          "1 Season",
          "1 Season",
          "1 Season",
          "1 Season",
          "1 Season",
          "3 Seasons",
          "5 Seasons",
          "1 Season",
          "1 Season",
          "1 Season",
          "1 Season",
          "1 Season",
          "1 Season",
          "1 Season",
          "2 Seasons",
          "4 Seasons",
          "1 Season",
          "7 Seasons",
          "1 Season",
          "1 Season",
          "1 Season",
          "3 Seasons",
          "2 Seasons",
          "1 Season",
          "1 Season",
          "1 Season",
          "3 Seasons",
          "8 Seasons",
          "1 Season",
          "1 Season",
          "1 Season",
          "1 Season",
          "1 Season",
          "1 Season",
          "1 Season",
          "1 Season",
          "3 Seasons",
          "1 Season",
          "1 Season",
          "3 Seasons",
          "2 Seasons",
          "1 Season",
          "1 Season",
          "1 Season",
          "1 Season",
          "1 Season",
          "2 Seasons",
          "1 Season",
          "1 Season",
          "1 Season",
          "1 Season",
          "1 Season",
          "1 Season",
          "1 Season",
          "2 Seasons",
          "1 Season",
          "1 Season",
          "1 Season",
          "1 Season",
          "1 Season",
          "1 Season",
          "3 Seasons",
          "1 Season",
          "1 Season",
          "1 Season",
          "1 Season",
          "1 Season",
          "2 Seasons",
          "1 Season",
          "1 Season",
          "2 Seasons",
          "1 Season",
          "1 Season",
          "3 Seasons",
          "1 Season",
          "6 Seasons",
          "2 Seasons",
          "2 Seasons",
          "1 Season",
          "1 Season",
          "1 Season",
          "1 Season",
          "3 Seasons",
          "2 Seasons",
          "1 Season",
          "2 Seasons",
          "3 Seasons",
          "1 Season",
          "1 Season",
          "1 Season",
          "1 Season",
          "1 Season",
          "1 Season",
          "1 Season",
          "2 Seasons",
          "1 Season",
          "1 Season",
          "1 Season",
          "1 Season",
          "1 Season",
          "5 Seasons",
          "1 Season",
          "4 Seasons",
          "1 Season",
          "1 Season",
          "1 Season",
          "1 Season",
          "2 Seasons",
          "1 Season",
          "3 Seasons",
          "1 Season",
          "1 Season",
          "1 Season",
          "1 Season",
          "2 Seasons",
          "4 Seasons",
          "2 Seasons",
          "4 Seasons",
          "1 Season",
          "1 Season",
          "1 Season",
          "3 Seasons",
          "13 Seasons",
          "2 Seasons",
          "1 Season",
          "1 Season",
          "1 Season",
          "1 Season",
          "1 Season",
          "1 Season",
          "1 Season",
          "1 Season",
          "1 Season",
          "1 Season",
          "5 Seasons",
          "1 Season",
          "1 Season",
          "1 Season",
          "2 Seasons",
          "1 Season",
          "1 Season",
          "1 Season",
          "1 Season",
          "1 Season",
          "2 Seasons",
          "1 Season",
          "1 Season",
          "1 Season",
          "2 Seasons",
          "1 Season",
          "1 Season",
          "1 Season",
          "1 Season",
          "1 Season",
          "3 Seasons",
          "8 Seasons",
          "1 Season",
          "1 Season",
          "2 Seasons",
          "1 Season",
          "2 Seasons",
          "1 Season",
          "1 Season",
          "1 Season",
          "1 Season",
          "1 Season",
          "2 Seasons",
          "1 Season",
          "1 Season",
          "3 Seasons",
          "1 Season",
          "2 Seasons",
          "2 Seasons",
          "1 Season",
          "1 Season",
          "1 Season",
          "1 Season",
          "1 Season",
          "1 Season",
          "2 Seasons",
          "1 Season",
          "1 Season",
          "1 Season",
          "1 Season",
          "1 Season",
          "1 Season",
          "1 Season",
          "2 Seasons",
          "1 Season",
          "1 Season",
          "1 Season",
          "7 Seasons",
          "1 Season",
          "2 Seasons",
          "3 Seasons",
          "1 Season",
          "2 Seasons",
          "1 Season",
          "1 Season",
          "2 Seasons",
          "1 Season",
          "3 Seasons",
          "1 Season",
          "1 Season",
          "1 Season",
          "2 Seasons",
          "3 Seasons",
          "4 Seasons",
          "1 Season",
          "2 Seasons",
          "5 Seasons",
          "1 Season",
          "2 Seasons",
          "1 Season",
          "1 Season",
          "1 Season",
          "1 Season",
          "1 Season",
          "1 Season",
          "4 Seasons",
          "1 Season",
          "1 Season",
          "1 Season",
          "1 Season",
          "1 Season",
          "1 Season",
          "1 Season",
          "1 Season",
          "4 Seasons",
          "1 Season",
          "1 Season",
          "1 Season",
          "1 Season",
          "1 Season",
          "2 Seasons",
          "3 Seasons",
          "1 Season",
          "1 Season",
          "1 Season",
          "1 Season",
          "1 Season",
          "1 Season",
          "1 Season",
          "2 Seasons",
          "1 Season",
          "2 Seasons",
          "1 Season",
          "1 Season",
          "1 Season",
          "1 Season",
          "1 Season",
          "1 Season",
          "2 Seasons",
          "1 Season",
          "1 Season",
          "1 Season",
          "2 Seasons",
          "2 Seasons",
          "1 Season",
          "3 Seasons",
          "1 Season",
          "1 Season",
          "1 Season",
          "1 Season",
          "2 Seasons",
          "3 Seasons",
          "3 Seasons",
          "1 Season",
          "1 Season",
          "1 Season",
          "1 Season",
          "1 Season",
          "1 Season",
          "1 Season",
          "1 Season",
          "1 Season",
          "5 Seasons",
          "1 Season",
          "1 Season",
          "1 Season",
          "3 Seasons",
          "1 Season",
          "1 Season",
          "1 Season",
          "2 Seasons",
          "2 Seasons",
          "6 Seasons",
          "3 Seasons",
          "1 Season",
          "1 Season",
          "1 Season",
          "1 Season",
          "4 Seasons",
          "1 Season",
          "2 Seasons",
          "1 Season",
          "2 Seasons",
          "1 Season",
          "2 Seasons",
          "2 Seasons",
          "2 Seasons",
          "1 Season",
          "2 Seasons",
          "15 Seasons",
          "1 Season",
          "1 Season",
          "1 Season",
          "1 Season",
          "1 Season",
          "1 Season",
          "2 Seasons",
          "1 Season",
          "1 Season",
          "1 Season",
          "1 Season",
          "4 Seasons",
          "2 Seasons",
          "1 Season",
          "4 Seasons",
          "5 Seasons",
          "1 Season",
          "1 Season",
          "3 Seasons",
          "1 Season",
          "1 Season",
          "4 Seasons",
          "1 Season",
          "3 Seasons",
          "1 Season",
          "1 Season",
          "1 Season",
          "2 Seasons",
          "1 Season",
          "1 Season",
          "1 Season",
          "1 Season",
          "2 Seasons",
          "1 Season",
          "1 Season",
          "1 Season",
          "1 Season",
          "1 Season",
          "1 Season",
          "2 Seasons",
          "1 Season",
          "1 Season",
          "3 Seasons",
          "7 Seasons",
          "1 Season",
          "1 Season",
          "2 Seasons",
          "1 Season",
          "12 Seasons",
          "1 Season",
          "1 Season",
          "1 Season",
          "2 Seasons",
          "1 Season",
          "1 Season",
          "1 Season",
          "1 Season",
          "1 Season",
          "1 Season",
          "1 Season",
          "1 Season",
          "1 Season",
          "1 Season",
          "1 Season",
          "1 Season",
          "2 Seasons",
          "1 Season",
          "1 Season",
          "2 Seasons",
          "6 Seasons",
          "1 Season",
          "1 Season",
          "1 Season",
          "1 Season",
          "8 Seasons",
          "1 Season",
          "6 Seasons",
          "1 Season",
          "2 Seasons",
          "1 Season",
          "1 Season",
          "1 Season",
          "2 Seasons",
          "1 Season",
          "5 Seasons",
          "1 Season",
          "1 Season",
          "5 Seasons",
          "3 Seasons",
          "1 Season",
          "1 Season",
          "1 Season",
          "1 Season",
          "1 Season",
          "1 Season",
          "1 Season",
          "1 Season",
          "1 Season",
          "2 Seasons",
          "1 Season",
          "1 Season",
          "4 Seasons",
          "1 Season",
          "5 Seasons",
          "1 Season",
          "1 Season",
          "1 Season",
          "1 Season",
          "4 Seasons",
          "4 Seasons",
          "3 Seasons",
          "1 Season",
          "1 Season",
          "1 Season",
          "1 Season",
          "1 Season",
          "6 Seasons",
          "3 Seasons",
          "1 Season",
          "1 Season",
          "1 Season",
          "1 Season",
          "2 Seasons",
          "2 Seasons",
          "2 Seasons",
          "6 Seasons",
          "1 Season",
          "1 Season",
          "1 Season",
          "1 Season",
          "1 Season",
          "1 Season",
          "1 Season",
          "1 Season",
          "1 Season",
          "3 Seasons",
          "2 Seasons",
          "1 Season",
          "1 Season",
          "1 Season",
          "1 Season",
          "6 Seasons",
          "1 Season",
          "2 Seasons",
          "1 Season",
          "1 Season",
          "1 Season",
          "2 Seasons",
          "4 Seasons",
          "7 Seasons",
          "1 Season",
          "1 Season",
          "1 Season",
          "1 Season",
          "1 Season",
          "1 Season",
          "2 Seasons",
          "1 Season",
          "4 Seasons",
          "3 Seasons",
          "2 Seasons",
          "7 Seasons",
          "1 Season",
          "1 Season",
          "1 Season",
          "4 Seasons",
          "1 Season",
          "8 Seasons",
          "1 Season",
          "1 Season",
          "1 Season",
          "1 Season",
          "1 Season",
          "1 Season",
          "3 Seasons",
          "5 Seasons",
          "1 Season",
          "1 Season",
          "1 Season",
          "1 Season",
          "1 Season",
          "1 Season",
          "1 Season",
          "1 Season",
          "1 Season",
          "1 Season",
          "1 Season",
          "1 Season",
          "1 Season",
          "1 Season",
          "5 Seasons",
          "2 Seasons",
          "1 Season",
          "1 Season",
          "1 Season",
          "4 Seasons",
          "4 Seasons",
          "1 Season",
          "1 Season",
          "1 Season",
          "1 Season",
          "1 Season",
          "1 Season",
          "1 Season",
          "1 Season",
          "3 Seasons",
          "1 Season",
          "1 Season",
          "1 Season",
          "1 Season",
          "1 Season",
          "1 Season",
          "2 Seasons",
          "1 Season",
          "1 Season",
          "1 Season",
          "12 Seasons",
          "1 Season",
          "2 Seasons",
          "5 Seasons",
          "2 Seasons",
          "2 Seasons",
          "2 Seasons",
          "1 Season",
          "1 Season",
          "1 Season",
          "1 Season",
          "1 Season",
          "1 Season",
          "1 Season",
          "1 Season",
          "2 Seasons",
          "1 Season",
          "1 Season",
          "3 Seasons",
          "1 Season",
          "1 Season",
          "3 Seasons",
          "1 Season",
          "1 Season",
          "1 Season",
          "3 Seasons",
          "1 Season",
          "1 Season",
          "1 Season",
          "2 Seasons",
          "1 Season",
          "1 Season",
          "1 Season",
          "4 Seasons",
          "1 Season",
          "2 Seasons",
          "1 Season",
          "1 Season",
          "2 Seasons",
          "2 Seasons",
          "1 Season",
          "1 Season",
          "1 Season",
          "3 Seasons",
          "1 Season",
          "1 Season",
          "1 Season",
          "1 Season",
          "1 Season",
          "1 Season",
          "1 Season",
          "1 Season",
          "3 Seasons",
          "1 Season",
          "1 Season",
          "1 Season",
          "1 Season",
          "1 Season",
          "1 Season",
          "7 Seasons",
          "1 Season",
          "2 Seasons",
          "1 Season",
          "2 Seasons",
          "1 Season",
          "1 Season",
          "1 Season",
          "1 Season",
          "1 Season",
          "1 Season",
          "1 Season",
          "2 Seasons",
          "1 Season",
          "5 Seasons",
          "1 Season",
          "1 Season",
          "1 Season",
          "1 Season",
          "1 Season",
          "1 Season",
          "3 Seasons",
          "2 Seasons",
          "1 Season",
          "1 Season",
          "1 Season",
          "1 Season",
          "1 Season",
          "1 Season",
          "1 Season",
          "1 Season",
          "2 Seasons",
          "1 Season",
          "1 Season",
          "1 Season",
          "1 Season",
          "1 Season",
          "1 Season",
          "1 Season",
          "1 Season",
          "1 Season",
          "1 Season",
          "2 Seasons",
          "1 Season",
          "1 Season",
          "1 Season",
          "1 Season",
          "1 Season",
          "1 Season",
          "1 Season",
          "1 Season",
          "1 Season",
          "1 Season",
          "4 Seasons",
          "1 Season",
          "1 Season",
          "1 Season",
          "1 Season",
          "9 Seasons",
          "1 Season",
          "1 Season",
          "2 Seasons",
          "1 Season",
          "3 Seasons",
          "1 Season",
          "1 Season",
          "1 Season",
          "2 Seasons",
          "3 Seasons",
          "2 Seasons",
          "2 Seasons",
          "1 Season",
          "1 Season",
          "1 Season",
          "1 Season",
          "1 Season",
          "2 Seasons",
          "2 Seasons",
          "1 Season",
          "1 Season",
          "1 Season",
          "2 Seasons",
          "3 Seasons",
          "1 Season",
          "1 Season",
          "1 Season",
          "1 Season",
          "1 Season",
          "3 Seasons",
          "1 Season",
          "1 Season",
          "2 Seasons",
          "10 Seasons",
          "1 Season",
          "3 Seasons",
          "5 Seasons",
          "3 Seasons",
          "4 Seasons",
          "5 Seasons",
          "1 Season",
          "1 Season",
          "1 Season",
          "1 Season",
          "1 Season",
          "1 Season",
          "1 Season",
          "1 Season",
          "1 Season",
          "1 Season",
          "2 Seasons",
          "1 Season",
          "2 Seasons",
          "1 Season",
          "1 Season",
          "1 Season",
          "2 Seasons",
          "1 Season",
          "1 Season",
          "5 Seasons",
          "1 Season",
          "3 Seasons",
          "1 Season",
          "1 Season",
          "1 Season",
          "1 Season",
          "1 Season",
          "1 Season",
          "5 Seasons",
          "2 Seasons",
          "1 Season",
          "1 Season",
          "3 Seasons",
          "1 Season",
          "1 Season",
          "1 Season",
          "1 Season",
          "5 Seasons",
          "1 Season",
          "1 Season",
          "1 Season",
          "1 Season",
          "1 Season",
          "4 Seasons",
          "2 Seasons",
          "1 Season",
          "1 Season",
          "4 Seasons",
          "1 Season",
          "1 Season",
          "1 Season",
          "1 Season",
          "2 Seasons",
          "3 Seasons",
          "3 Seasons",
          "1 Season",
          "1 Season",
          "1 Season",
          "1 Season",
          "1 Season",
          "1 Season",
          "1 Season",
          "2 Seasons",
          "1 Season",
          "3 Seasons",
          "1 Season",
          "2 Seasons",
          "1 Season",
          "1 Season",
          "1 Season",
          "1 Season",
          "2 Seasons",
          "1 Season",
          "1 Season",
          "1 Season",
          "1 Season",
          "1 Season",
          "1 Season",
          "1 Season",
          "1 Season",
          "1 Season",
          "1 Season",
          "1 Season",
          "2 Seasons",
          "1 Season",
          "11 Seasons",
          "2 Seasons",
          "1 Season",
          "2 Seasons",
          "1 Season",
          "1 Season",
          "1 Season",
          "1 Season",
          "1 Season",
          "1 Season",
          "1 Season",
          "9 Seasons",
          "7 Seasons",
          "8 Seasons",
          "1 Season",
          "1 Season",
          "1 Season",
          "1 Season",
          "1 Season",
          "5 Seasons",
          "1 Season",
          "1 Season",
          "1 Season",
          "1 Season",
          "1 Season",
          "10 Seasons",
          "1 Season",
          "1 Season",
          "2 Seasons",
          "1 Season",
          "1 Season",
          "2 Seasons",
          "3 Seasons",
          "1 Season",
          "1 Season",
          "8 Seasons",
          "1 Season",
          "1 Season",
          "1 Season",
          "1 Season",
          "1 Season",
          "1 Season",
          "1 Season",
          "1 Season",
          "1 Season",
          "1 Season",
          "1 Season",
          "3 Seasons",
          "1 Season",
          "1 Season",
          "1 Season",
          "1 Season",
          "2 Seasons",
          "1 Season",
          "1 Season",
          "1 Season",
          "1 Season",
          "1 Season",
          "1 Season",
          "1 Season",
          "1 Season",
          "2 Seasons",
          "1 Season",
          "1 Season",
          "1 Season",
          "1 Season",
          "6 Seasons",
          "1 Season",
          "2 Seasons",
          "2 Seasons",
          "3 Seasons",
          "1 Season",
          "1 Season",
          "1 Season",
          "1 Season",
          "1 Season",
          "1 Season",
          "1 Season",
          "11 Seasons",
          "4 Seasons",
          "10 Seasons",
          "1 Season",
          "1 Season",
          "2 Seasons",
          "1 Season",
          "1 Season",
          "1 Season",
          "1 Season",
          "1 Season",
          "1 Season",
          "1 Season",
          "1 Season",
          "1 Season",
          "1 Season",
          "2 Seasons",
          "2 Seasons",
          "1 Season",
          "6 Seasons",
          "2 Seasons",
          "3 Seasons",
          "2 Seasons",
          "1 Season",
          "2 Seasons",
          "2 Seasons",
          "3 Seasons",
          "1 Season",
          "2 Seasons",
          "1 Season",
          "1 Season",
          "1 Season",
          "4 Seasons",
          "1 Season",
          "5 Seasons",
          "2 Seasons",
          "1 Season",
          "5 Seasons",
          "2 Seasons",
          "1 Season",
          "3 Seasons",
          "5 Seasons",
          "3 Seasons",
          "1 Season",
          "1 Season",
          "1 Season",
          "3 Seasons",
          "1 Season",
          "1 Season",
          "1 Season",
          "1 Season",
          "1 Season",
          "2 Seasons",
          "2 Seasons",
          "1 Season",
          "2 Seasons",
          "1 Season",
          "1 Season",
          "1 Season",
          "1 Season",
          "1 Season",
          "1 Season",
          "1 Season",
          "2 Seasons",
          "2 Seasons",
          "1 Season",
          "1 Season",
          "1 Season",
          "1 Season",
          "2 Seasons",
          "2 Seasons",
          "1 Season",
          "1 Season",
          "1 Season",
          "1 Season",
          "1 Season",
          "2 Seasons",
          "1 Season",
          "1 Season",
          "1 Season",
          "1 Season",
          "1 Season",
          "1 Season",
          "1 Season",
          "1 Season",
          "1 Season",
          "2 Seasons",
          "1 Season",
          "1 Season",
          "1 Season",
          "2 Seasons",
          "1 Season",
          "1 Season",
          "1 Season",
          "3 Seasons",
          "1 Season",
          "1 Season",
          "1 Season",
          "1 Season",
          "1 Season",
          "3 Seasons",
          "1 Season",
          "1 Season",
          "1 Season",
          "3 Seasons",
          "1 Season",
          "1 Season",
          "3 Seasons",
          "1 Season",
          "1 Season",
          "1 Season",
          "2 Seasons",
          "1 Season",
          "4 Seasons",
          "1 Season",
          "1 Season",
          "2 Seasons",
          "1 Season",
          "1 Season",
          "1 Season",
          "5 Seasons",
          "1 Season",
          "1 Season",
          "1 Season",
          "1 Season",
          "1 Season",
          "7 Seasons",
          "1 Season",
          "1 Season",
          "1 Season",
          "1 Season",
          "1 Season",
          "1 Season",
          "1 Season",
          "1 Season",
          "4 Seasons",
          "1 Season",
          "2 Seasons",
          "1 Season",
          "1 Season",
          "1 Season",
          "1 Season",
          "1 Season",
          "1 Season",
          "1 Season",
          "1 Season",
          "1 Season",
          "2 Seasons",
          "1 Season",
          "1 Season",
          "1 Season",
          "1 Season",
          "1 Season",
          "1 Season",
          "2 Seasons",
          "1 Season",
          "1 Season",
          "2 Seasons",
          "3 Seasons",
          "2 Seasons",
          "1 Season",
          "1 Season",
          "1 Season",
          "1 Season",
          "1 Season",
          "1 Season",
          "1 Season",
          "1 Season",
          "1 Season",
          "3 Seasons",
          "3 Seasons",
          "2 Seasons",
          "1 Season",
          "1 Season",
          "1 Season",
          "1 Season",
          "1 Season",
          "1 Season",
          "1 Season",
          "7 Seasons",
          "1 Season",
          "1 Season",
          "1 Season",
          "2 Seasons",
          "1 Season",
          "1 Season",
          "1 Season",
          "1 Season",
          "1 Season",
          "1 Season",
          "3 Seasons",
          "1 Season",
          "1 Season",
          "1 Season",
          "2 Seasons",
          "7 Seasons",
          "1 Season",
          "1 Season",
          "5 Seasons",
          "3 Seasons",
          "5 Seasons",
          "1 Season",
          "1 Season",
          "1 Season",
          "8 Seasons",
          "1 Season",
          "1 Season",
          "1 Season",
          "1 Season",
          "1 Season",
          "1 Season",
          "1 Season",
          "1 Season",
          "1 Season",
          "1 Season",
          "1 Season",
          "1 Season",
          "1 Season",
          "1 Season",
          "1 Season",
          "1 Season",
          "1 Season",
          "1 Season",
          "1 Season",
          "1 Season",
          "1 Season",
          "1 Season",
          "1 Season",
          "1 Season",
          "2 Seasons",
          "3 Seasons",
          "1 Season",
          "1 Season",
          "1 Season",
          "1 Season",
          "1 Season",
          "1 Season",
          "1 Season",
          "1 Season",
          "1 Season",
          "4 Seasons",
          "13 Seasons",
          "2 Seasons",
          "6 Seasons",
          "1 Season",
          "1 Season",
          "4 Seasons",
          "5 Seasons",
          "1 Season",
          "1 Season",
          "3 Seasons",
          "8 Seasons",
          "1 Season",
          "3 Seasons",
          "1 Season",
          "1 Season",
          "1 Season",
          "1 Season",
          "7 Seasons",
          "1 Season",
          "1 Season",
          "1 Season",
          "1 Season",
          "1 Season",
          "4 Seasons",
          "1 Season",
          "2 Seasons",
          "1 Season",
          "3 Seasons",
          "3 Seasons",
          "1 Season",
          "1 Season",
          "1 Season",
          "1 Season",
          "4 Seasons",
          "2 Seasons",
          "1 Season",
          "1 Season",
          "1 Season",
          "1 Season",
          "1 Season",
          "1 Season",
          "1 Season",
          "1 Season",
          "1 Season",
          "1 Season",
          "3 Seasons",
          "1 Season",
          "1 Season",
          "1 Season",
          "1 Season",
          "2 Seasons",
          "1 Season",
          "1 Season",
          "1 Season",
          "1 Season",
          "8 Seasons",
          "1 Season",
          "2 Seasons",
          "2 Seasons",
          "8 Seasons",
          "2 Seasons",
          "1 Season",
          "1 Season",
          "1 Season",
          "1 Season",
          "1 Season",
          "1 Season",
          "1 Season",
          "1 Season",
          "1 Season",
          "1 Season",
          "2 Seasons",
          "1 Season",
          "2 Seasons",
          "1 Season",
          "1 Season",
          "1 Season",
          "1 Season",
          "1 Season",
          "5 Seasons",
          "2 Seasons",
          "1 Season",
          "1 Season",
          "4 Seasons",
          "1 Season",
          "1 Season",
          "1 Season",
          "3 Seasons",
          "1 Season",
          "3 Seasons",
          "2 Seasons",
          "1 Season",
          "1 Season",
          "1 Season",
          "1 Season",
          "6 Seasons",
          "1 Season",
          "1 Season",
          "1 Season",
          "1 Season",
          "1 Season",
          "5 Seasons",
          "2 Seasons",
          "3 Seasons",
          "1 Season",
          "1 Season",
          "1 Season",
          "1 Season",
          "1 Season",
          "9 Seasons",
          "1 Season",
          "1 Season",
          "1 Season",
          "1 Season",
          "1 Season",
          "1 Season",
          "3 Seasons",
          "2 Seasons",
          "1 Season",
          "1 Season",
          "1 Season",
          "4 Seasons",
          "4 Seasons",
          "1 Season",
          "1 Season",
          "1 Season",
          "1 Season",
          "7 Seasons",
          "1 Season",
          "1 Season",
          "1 Season",
          "1 Season",
          "1 Season",
          "1 Season",
          "1 Season",
          "1 Season",
          "3 Seasons",
          "2 Seasons",
          "1 Season",
          "3 Seasons",
          "1 Season",
          "1 Season",
          "2 Seasons",
          "2 Seasons",
          "4 Seasons",
          "2 Seasons",
          "2 Seasons",
          "3 Seasons",
          "2 Seasons",
          "1 Season",
          "8 Seasons",
          "2 Seasons",
          "1 Season",
          "1 Season",
          "5 Seasons",
          "1 Season",
          "1 Season",
          "1 Season",
          "1 Season",
          "1 Season",
          "3 Seasons",
          "1 Season",
          "1 Season",
          "1 Season",
          "1 Season",
          "1 Season",
          "2 Seasons",
          "2 Seasons",
          "3 Seasons",
          "1 Season",
          "2 Seasons"
         ],
         "yaxis": "y"
        }
       ],
       "layout": {
        "legend": {
         "tracegroupgap": 0
        },
        "template": {
         "data": {
          "bar": [
           {
            "error_x": {
             "color": "#2a3f5f"
            },
            "error_y": {
             "color": "#2a3f5f"
            },
            "marker": {
             "line": {
              "color": "#E5ECF6",
              "width": 0.5
             },
             "pattern": {
              "fillmode": "overlay",
              "size": 10,
              "solidity": 0.2
             }
            },
            "type": "bar"
           }
          ],
          "barpolar": [
           {
            "marker": {
             "line": {
              "color": "#E5ECF6",
              "width": 0.5
             },
             "pattern": {
              "fillmode": "overlay",
              "size": 10,
              "solidity": 0.2
             }
            },
            "type": "barpolar"
           }
          ],
          "carpet": [
           {
            "aaxis": {
             "endlinecolor": "#2a3f5f",
             "gridcolor": "white",
             "linecolor": "white",
             "minorgridcolor": "white",
             "startlinecolor": "#2a3f5f"
            },
            "baxis": {
             "endlinecolor": "#2a3f5f",
             "gridcolor": "white",
             "linecolor": "white",
             "minorgridcolor": "white",
             "startlinecolor": "#2a3f5f"
            },
            "type": "carpet"
           }
          ],
          "choropleth": [
           {
            "colorbar": {
             "outlinewidth": 0,
             "ticks": ""
            },
            "type": "choropleth"
           }
          ],
          "contour": [
           {
            "colorbar": {
             "outlinewidth": 0,
             "ticks": ""
            },
            "colorscale": [
             [
              0,
              "#0d0887"
             ],
             [
              0.1111111111111111,
              "#46039f"
             ],
             [
              0.2222222222222222,
              "#7201a8"
             ],
             [
              0.3333333333333333,
              "#9c179e"
             ],
             [
              0.4444444444444444,
              "#bd3786"
             ],
             [
              0.5555555555555556,
              "#d8576b"
             ],
             [
              0.6666666666666666,
              "#ed7953"
             ],
             [
              0.7777777777777778,
              "#fb9f3a"
             ],
             [
              0.8888888888888888,
              "#fdca26"
             ],
             [
              1,
              "#f0f921"
             ]
            ],
            "type": "contour"
           }
          ],
          "contourcarpet": [
           {
            "colorbar": {
             "outlinewidth": 0,
             "ticks": ""
            },
            "type": "contourcarpet"
           }
          ],
          "heatmap": [
           {
            "colorbar": {
             "outlinewidth": 0,
             "ticks": ""
            },
            "colorscale": [
             [
              0,
              "#0d0887"
             ],
             [
              0.1111111111111111,
              "#46039f"
             ],
             [
              0.2222222222222222,
              "#7201a8"
             ],
             [
              0.3333333333333333,
              "#9c179e"
             ],
             [
              0.4444444444444444,
              "#bd3786"
             ],
             [
              0.5555555555555556,
              "#d8576b"
             ],
             [
              0.6666666666666666,
              "#ed7953"
             ],
             [
              0.7777777777777778,
              "#fb9f3a"
             ],
             [
              0.8888888888888888,
              "#fdca26"
             ],
             [
              1,
              "#f0f921"
             ]
            ],
            "type": "heatmap"
           }
          ],
          "heatmapgl": [
           {
            "colorbar": {
             "outlinewidth": 0,
             "ticks": ""
            },
            "colorscale": [
             [
              0,
              "#0d0887"
             ],
             [
              0.1111111111111111,
              "#46039f"
             ],
             [
              0.2222222222222222,
              "#7201a8"
             ],
             [
              0.3333333333333333,
              "#9c179e"
             ],
             [
              0.4444444444444444,
              "#bd3786"
             ],
             [
              0.5555555555555556,
              "#d8576b"
             ],
             [
              0.6666666666666666,
              "#ed7953"
             ],
             [
              0.7777777777777778,
              "#fb9f3a"
             ],
             [
              0.8888888888888888,
              "#fdca26"
             ],
             [
              1,
              "#f0f921"
             ]
            ],
            "type": "heatmapgl"
           }
          ],
          "histogram": [
           {
            "marker": {
             "pattern": {
              "fillmode": "overlay",
              "size": 10,
              "solidity": 0.2
             }
            },
            "type": "histogram"
           }
          ],
          "histogram2d": [
           {
            "colorbar": {
             "outlinewidth": 0,
             "ticks": ""
            },
            "colorscale": [
             [
              0,
              "#0d0887"
             ],
             [
              0.1111111111111111,
              "#46039f"
             ],
             [
              0.2222222222222222,
              "#7201a8"
             ],
             [
              0.3333333333333333,
              "#9c179e"
             ],
             [
              0.4444444444444444,
              "#bd3786"
             ],
             [
              0.5555555555555556,
              "#d8576b"
             ],
             [
              0.6666666666666666,
              "#ed7953"
             ],
             [
              0.7777777777777778,
              "#fb9f3a"
             ],
             [
              0.8888888888888888,
              "#fdca26"
             ],
             [
              1,
              "#f0f921"
             ]
            ],
            "type": "histogram2d"
           }
          ],
          "histogram2dcontour": [
           {
            "colorbar": {
             "outlinewidth": 0,
             "ticks": ""
            },
            "colorscale": [
             [
              0,
              "#0d0887"
             ],
             [
              0.1111111111111111,
              "#46039f"
             ],
             [
              0.2222222222222222,
              "#7201a8"
             ],
             [
              0.3333333333333333,
              "#9c179e"
             ],
             [
              0.4444444444444444,
              "#bd3786"
             ],
             [
              0.5555555555555556,
              "#d8576b"
             ],
             [
              0.6666666666666666,
              "#ed7953"
             ],
             [
              0.7777777777777778,
              "#fb9f3a"
             ],
             [
              0.8888888888888888,
              "#fdca26"
             ],
             [
              1,
              "#f0f921"
             ]
            ],
            "type": "histogram2dcontour"
           }
          ],
          "mesh3d": [
           {
            "colorbar": {
             "outlinewidth": 0,
             "ticks": ""
            },
            "type": "mesh3d"
           }
          ],
          "parcoords": [
           {
            "line": {
             "colorbar": {
              "outlinewidth": 0,
              "ticks": ""
             }
            },
            "type": "parcoords"
           }
          ],
          "pie": [
           {
            "automargin": true,
            "type": "pie"
           }
          ],
          "scatter": [
           {
            "fillpattern": {
             "fillmode": "overlay",
             "size": 10,
             "solidity": 0.2
            },
            "type": "scatter"
           }
          ],
          "scatter3d": [
           {
            "line": {
             "colorbar": {
              "outlinewidth": 0,
              "ticks": ""
             }
            },
            "marker": {
             "colorbar": {
              "outlinewidth": 0,
              "ticks": ""
             }
            },
            "type": "scatter3d"
           }
          ],
          "scattercarpet": [
           {
            "marker": {
             "colorbar": {
              "outlinewidth": 0,
              "ticks": ""
             }
            },
            "type": "scattercarpet"
           }
          ],
          "scattergeo": [
           {
            "marker": {
             "colorbar": {
              "outlinewidth": 0,
              "ticks": ""
             }
            },
            "type": "scattergeo"
           }
          ],
          "scattergl": [
           {
            "marker": {
             "colorbar": {
              "outlinewidth": 0,
              "ticks": ""
             }
            },
            "type": "scattergl"
           }
          ],
          "scattermapbox": [
           {
            "marker": {
             "colorbar": {
              "outlinewidth": 0,
              "ticks": ""
             }
            },
            "type": "scattermapbox"
           }
          ],
          "scatterpolar": [
           {
            "marker": {
             "colorbar": {
              "outlinewidth": 0,
              "ticks": ""
             }
            },
            "type": "scatterpolar"
           }
          ],
          "scatterpolargl": [
           {
            "marker": {
             "colorbar": {
              "outlinewidth": 0,
              "ticks": ""
             }
            },
            "type": "scatterpolargl"
           }
          ],
          "scatterternary": [
           {
            "marker": {
             "colorbar": {
              "outlinewidth": 0,
              "ticks": ""
             }
            },
            "type": "scatterternary"
           }
          ],
          "surface": [
           {
            "colorbar": {
             "outlinewidth": 0,
             "ticks": ""
            },
            "colorscale": [
             [
              0,
              "#0d0887"
             ],
             [
              0.1111111111111111,
              "#46039f"
             ],
             [
              0.2222222222222222,
              "#7201a8"
             ],
             [
              0.3333333333333333,
              "#9c179e"
             ],
             [
              0.4444444444444444,
              "#bd3786"
             ],
             [
              0.5555555555555556,
              "#d8576b"
             ],
             [
              0.6666666666666666,
              "#ed7953"
             ],
             [
              0.7777777777777778,
              "#fb9f3a"
             ],
             [
              0.8888888888888888,
              "#fdca26"
             ],
             [
              1,
              "#f0f921"
             ]
            ],
            "type": "surface"
           }
          ],
          "table": [
           {
            "cells": {
             "fill": {
              "color": "#EBF0F8"
             },
             "line": {
              "color": "white"
             }
            },
            "header": {
             "fill": {
              "color": "#C8D4E3"
             },
             "line": {
              "color": "white"
             }
            },
            "type": "table"
           }
          ]
         },
         "layout": {
          "annotationdefaults": {
           "arrowcolor": "#2a3f5f",
           "arrowhead": 0,
           "arrowwidth": 1
          },
          "autotypenumbers": "strict",
          "coloraxis": {
           "colorbar": {
            "outlinewidth": 0,
            "ticks": ""
           }
          },
          "colorscale": {
           "diverging": [
            [
             0,
             "#8e0152"
            ],
            [
             0.1,
             "#c51b7d"
            ],
            [
             0.2,
             "#de77ae"
            ],
            [
             0.3,
             "#f1b6da"
            ],
            [
             0.4,
             "#fde0ef"
            ],
            [
             0.5,
             "#f7f7f7"
            ],
            [
             0.6,
             "#e6f5d0"
            ],
            [
             0.7,
             "#b8e186"
            ],
            [
             0.8,
             "#7fbc41"
            ],
            [
             0.9,
             "#4d9221"
            ],
            [
             1,
             "#276419"
            ]
           ],
           "sequential": [
            [
             0,
             "#0d0887"
            ],
            [
             0.1111111111111111,
             "#46039f"
            ],
            [
             0.2222222222222222,
             "#7201a8"
            ],
            [
             0.3333333333333333,
             "#9c179e"
            ],
            [
             0.4444444444444444,
             "#bd3786"
            ],
            [
             0.5555555555555556,
             "#d8576b"
            ],
            [
             0.6666666666666666,
             "#ed7953"
            ],
            [
             0.7777777777777778,
             "#fb9f3a"
            ],
            [
             0.8888888888888888,
             "#fdca26"
            ],
            [
             1,
             "#f0f921"
            ]
           ],
           "sequentialminus": [
            [
             0,
             "#0d0887"
            ],
            [
             0.1111111111111111,
             "#46039f"
            ],
            [
             0.2222222222222222,
             "#7201a8"
            ],
            [
             0.3333333333333333,
             "#9c179e"
            ],
            [
             0.4444444444444444,
             "#bd3786"
            ],
            [
             0.5555555555555556,
             "#d8576b"
            ],
            [
             0.6666666666666666,
             "#ed7953"
            ],
            [
             0.7777777777777778,
             "#fb9f3a"
            ],
            [
             0.8888888888888888,
             "#fdca26"
            ],
            [
             1,
             "#f0f921"
            ]
           ]
          },
          "colorway": [
           "#636efa",
           "#EF553B",
           "#00cc96",
           "#ab63fa",
           "#FFA15A",
           "#19d3f3",
           "#FF6692",
           "#B6E880",
           "#FF97FF",
           "#FECB52"
          ],
          "font": {
           "color": "#2a3f5f"
          },
          "geo": {
           "bgcolor": "white",
           "lakecolor": "white",
           "landcolor": "#E5ECF6",
           "showlakes": true,
           "showland": true,
           "subunitcolor": "white"
          },
          "hoverlabel": {
           "align": "left"
          },
          "hovermode": "closest",
          "mapbox": {
           "style": "light"
          },
          "paper_bgcolor": "white",
          "plot_bgcolor": "#E5ECF6",
          "polar": {
           "angularaxis": {
            "gridcolor": "white",
            "linecolor": "white",
            "ticks": ""
           },
           "bgcolor": "#E5ECF6",
           "radialaxis": {
            "gridcolor": "white",
            "linecolor": "white",
            "ticks": ""
           }
          },
          "scene": {
           "xaxis": {
            "backgroundcolor": "#E5ECF6",
            "gridcolor": "white",
            "gridwidth": 2,
            "linecolor": "white",
            "showbackground": true,
            "ticks": "",
            "zerolinecolor": "white"
           },
           "yaxis": {
            "backgroundcolor": "#E5ECF6",
            "gridcolor": "white",
            "gridwidth": 2,
            "linecolor": "white",
            "showbackground": true,
            "ticks": "",
            "zerolinecolor": "white"
           },
           "zaxis": {
            "backgroundcolor": "#E5ECF6",
            "gridcolor": "white",
            "gridwidth": 2,
            "linecolor": "white",
            "showbackground": true,
            "ticks": "",
            "zerolinecolor": "white"
           }
          },
          "shapedefaults": {
           "line": {
            "color": "#2a3f5f"
           }
          },
          "ternary": {
           "aaxis": {
            "gridcolor": "white",
            "linecolor": "white",
            "ticks": ""
           },
           "baxis": {
            "gridcolor": "white",
            "linecolor": "white",
            "ticks": ""
           },
           "bgcolor": "#E5ECF6",
           "caxis": {
            "gridcolor": "white",
            "linecolor": "white",
            "ticks": ""
           }
          },
          "title": {
           "x": 0.05
          },
          "xaxis": {
           "automargin": true,
           "gridcolor": "white",
           "linecolor": "white",
           "ticks": "",
           "title": {
            "standoff": 15
           },
           "zerolinecolor": "white",
           "zerolinewidth": 2
          },
          "yaxis": {
           "automargin": true,
           "gridcolor": "white",
           "linecolor": "white",
           "ticks": "",
           "title": {
            "standoff": 15
           },
           "zerolinecolor": "white",
           "zerolinewidth": 2
          }
         }
        },
        "title": {
         "text": "Seasons vs. Episodes"
        },
        "xaxis": {
         "anchor": "y",
         "domain": [
          0,
          1
         ],
         "title": {
          "text": "duration"
         }
        },
        "yaxis": {
         "anchor": "x",
         "domain": [
          0,
          1
         ],
         "title": {
          "text": "duration"
         }
        }
       }
      }
     },
     "metadata": {},
     "output_type": "display_data"
    }
   ],
   "source": [
    "tv_shows = df[df['type'] == 'TV Show']\n",
    "fig = px.scatter(tv_shows, x='duration', y='duration', title='Seasons vs. Episodes')\n",
    "fig.show()\n"
   ]
  },
  {
   "cell_type": "markdown",
   "metadata": {},
   "source": [
    "# Release Year Distribution: \n",
    "    Display a histogram showing the distribution of content releases over the years."
   ]
  },
  {
   "cell_type": "code",
   "execution_count": 27,
   "metadata": {},
   "outputs": [
    {
     "data": {
      "application/vnd.plotly.v1+json": {
       "config": {
        "plotlyServerURL": "https://plot.ly"
       },
       "data": [
        {
         "alignmentgroup": "True",
         "bingroup": "x",
         "hovertemplate": "release_year=%{x}<br>count=%{y}<extra></extra>",
         "legendgroup": "",
         "marker": {
          "color": "#636efa",
          "pattern": {
           "shape": ""
          }
         },
         "name": "",
         "offsetgroup": "",
         "orientation": "v",
         "showlegend": false,
         "type": "histogram",
         "x": [
          2020,
          2021,
          2021,
          2021,
          2021,
          2021,
          2021,
          1993,
          2021,
          2021,
          2021,
          2021,
          2021,
          2021,
          2021,
          2021,
          2020,
          2020,
          2021,
          2021,
          2021,
          2018,
          1996,
          2021,
          1998,
          2021,
          1997,
          2010,
          2013,
          2013,
          2021,
          2021,
          2020,
          2021,
          2020,
          2021,
          2021,
          2018,
          2017,
          2021,
          2021,
          1975,
          1978,
          1983,
          1987,
          2021,
          2012,
          2020,
          2001,
          2021,
          2014,
          2002,
          2003,
          2004,
          2001,
          2021,
          2011,
          2008,
          2009,
          2007,
          2010,
          2005,
          2006,
          2004,
          2021,
          2021,
          2014,
          1994,
          2021,
          2015,
          2021,
          2021,
          2021,
          2018,
          2021,
          2021,
          2013,
          2021,
          2020,
          2021,
          2021,
          2021,
          2021,
          2021,
          2020,
          2021,
          2021,
          2019,
          2021,
          2017,
          2019,
          2021,
          2021,
          2021,
          2018,
          2021,
          2018,
          2021,
          2021,
          2021,
          2019,
          2021,
          2021,
          2020,
          2016,
          2017,
          2021,
          2018,
          2021,
          2021,
          2021,
          2021,
          2021,
          2021,
          1994,
          2009,
          2015,
          2021,
          2017,
          2020,
          2021,
          2019,
          2003,
          2012,
          2013,
          2021,
          2020,
          2004,
          2017,
          2005,
          2021,
          1982,
          2021,
          2015,
          1994,
          1993,
          2003,
          2001,
          2010,
          1989,
          2014,
          2015,
          2007,
          2011,
          1990,
          1991,
          1994,
          2021,
          2020,
          1998,
          1999,
          2005,
          2016,
          2016,
          2015,
          1986,
          2010,
          2018,
          2003,
          2010,
          1992,
          1996,
          2017,
          2003,
          1999,
          2019,
          1984,
          2008,
          2001,
          2006,
          1997,
          2017,
          2003,
          2015,
          2003,
          1980,
          1986,
          1961,
          2014,
          1996,
          2000,
          2021,
          2008,
          1993,
          2021,
          2021,
          2021,
          2021,
          2008,
          2020,
          2021,
          2017,
          2008,
          2021,
          2002,
          2008,
          2021,
          2021,
          2021,
          2006,
          2004,
          2003,
          2005,
          2016,
          2012,
          2001,
          2010,
          2008,
          2010,
          2013,
          2011,
          2014,
          2016,
          2021,
          2021,
          2007,
          2011,
          2011,
          2021,
          2021,
          2021,
          2021,
          2021,
          2021,
          2021,
          2021,
          2021,
          2020,
          2014,
          2020,
          2021,
          2021,
          2019,
          2021,
          2021,
          2021,
          2021,
          2021,
          2021,
          2021,
          2021,
          2021,
          2021,
          2021,
          2018,
          2021,
          2021,
          2021,
          2021,
          2021,
          2020,
          2011,
          2021,
          1995,
          2021,
          2021,
          2020,
          2015,
          2020,
          2018,
          2020,
          2021,
          2021,
          2016,
          2014,
          2018,
          2020,
          1993,
          2020,
          2015,
          2021,
          2021,
          2021,
          2021,
          2021,
          2021,
          2021,
          2021,
          2021,
          2021,
          2021,
          2016,
          2020,
          2021,
          2021,
          2013,
          2021,
          2021,
          2018,
          2019,
          2021,
          2021,
          2012,
          2021,
          2020,
          2021,
          2021,
          2021,
          2020,
          2021,
          2021,
          2013,
          2013,
          1985,
          2021,
          1993,
          2016,
          2021,
          2012,
          2021,
          2021,
          2021,
          2021,
          2009,
          1995,
          2010,
          2011,
          2021,
          2021,
          2005,
          2021,
          2013,
          2008,
          2012,
          2020,
          1992,
          1993,
          2007,
          2016,
          2002,
          2009,
          2020,
          1999,
          1986,
          2019,
          2006,
          2010,
          2007,
          2014,
          2021,
          2010,
          1999,
          1995,
          1991,
          1994,
          2015,
          2008,
          2009,
          2019,
          2003,
          2000,
          2004,
          2016,
          2013,
          1991,
          2011,
          2010,
          2004,
          1995,
          2000,
          2010,
          2021,
          2018,
          2021,
          2021,
          2014,
          2021,
          2020,
          2009,
          2021,
          2021,
          2009,
          2021,
          2021,
          2013,
          2021,
          2021,
          2021,
          2019,
          2021,
          2021,
          2021,
          2021,
          2012,
          2021,
          2021,
          2021,
          2021,
          2021,
          2019,
          2019,
          2020,
          2012,
          2021,
          2021,
          2021,
          2021,
          2021,
          2021,
          2021,
          2021,
          2021,
          2021,
          2021,
          2021,
          2015,
          2013,
          2009,
          2011,
          2010,
          2013,
          2013,
          2013,
          2013,
          2012,
          2009,
          2013,
          2015,
          2019,
          2010,
          2012,
          2014,
          2011,
          2011,
          2012,
          2019,
          2021,
          2019,
          2021,
          2020,
          2021,
          2021,
          2021,
          2020,
          2020,
          2019,
          2021,
          2021,
          2020,
          2021,
          2021,
          2021,
          2021,
          1999,
          2021,
          2017,
          2017,
          2011,
          2012,
          2010,
          2009,
          2008,
          2021,
          2021,
          1983,
          2021,
          2019,
          2021,
          2021,
          2021,
          2007,
          2019,
          2019,
          2021,
          2021,
          2021,
          2021,
          2021,
          2021,
          2019,
          2021,
          2021,
          2021,
          2020,
          2015,
          2019,
          2016,
          2021,
          2021,
          2021,
          2020,
          2021,
          2021,
          2021,
          2021,
          2021,
          2016,
          2021,
          2021,
          2017,
          2021,
          2017,
          2018,
          2021,
          2015,
          2019,
          2014,
          2021,
          2020,
          2021,
          2021,
          2020,
          2010,
          2021,
          2021,
          2020,
          2021,
          2019,
          2019,
          2019,
          2016,
          2017,
          2007,
          2018,
          2019,
          2019,
          2021,
          2017,
          2020,
          2020,
          2021,
          2021,
          2015,
          2019,
          2019,
          2018,
          2019,
          2016,
          2012,
          1976,
          2015,
          2018,
          2019,
          2021,
          2019,
          2015,
          2018,
          2018,
          2021,
          2020,
          2020,
          2018,
          1959,
          2020,
          2021,
          2020,
          2021,
          2021,
          2020,
          2020,
          2021,
          2021,
          2020,
          2019,
          2020,
          2013,
          2021,
          2018,
          2012,
          1997,
          2021,
          2002,
          1997,
          1999,
          1997,
          2020,
          2000,
          1995,
          1993,
          2019,
          2021,
          2021,
          2019,
          2008,
          2011,
          2010,
          2019,
          2021,
          2005,
          1988,
          2021,
          1995,
          2016,
          2011,
          2001,
          2018,
          1992,
          2020,
          2018,
          2019,
          2016,
          2008,
          2010,
          2000,
          2009,
          1999,
          2019,
          2006,
          2010,
          2019,
          1997,
          1984,
          1986,
          1989,
          2003,
          1980,
          2006,
          2008,
          2002,
          2010,
          2003,
          2012,
          2009,
          2020,
          1998,
          1998,
          2019,
          2021,
          2021,
          2020,
          2019,
          2020,
          2019,
          2021,
          2021,
          2021,
          2021,
          2020,
          2021,
          2020,
          2012,
          2021,
          2019,
          2018,
          2019,
          2010,
          2021,
          2021,
          2021,
          2021,
          2021,
          2021,
          2021,
          2021,
          2021,
          2021,
          2021,
          2021,
          2021,
          2019,
          2016,
          2003,
          2004,
          2021,
          2014,
          2016,
          2015,
          2001,
          2021,
          2018,
          2021,
          2018,
          2018,
          2019,
          2020,
          2020,
          2020,
          2015,
          2018,
          2020,
          1981,
          1982,
          1988,
          2019,
          2019,
          2018,
          2019,
          2020,
          2018,
          2018,
          2020,
          2018,
          2021,
          2021,
          2021,
          2021,
          2021,
          2021,
          2020,
          1981,
          2021,
          2021,
          2021,
          2021,
          2019,
          2015,
          2021,
          2021,
          2020,
          2021,
          2021,
          2019,
          2012,
          2021,
          2018,
          2019,
          2021,
          2021,
          2016,
          2020,
          2021,
          2021,
          2020,
          2020,
          2021,
          2021,
          1972,
          2021,
          2013,
          2021,
          2021,
          2020,
          2005,
          2014,
          2021,
          2021,
          2014,
          2020,
          2021,
          2021,
          2021,
          2021,
          2021,
          2016,
          2021,
          2021,
          2021,
          2021,
          2021,
          2021,
          2014,
          2012,
          2021,
          2014,
          2021,
          2019,
          2021,
          2013,
          2021,
          2021,
          2021,
          2018,
          2014,
          2007,
          2018,
          2021,
          2020,
          2021,
          2021,
          2015,
          2015,
          2021,
          2021,
          2021,
          2021,
          2021,
          2021,
          2021,
          2021,
          2020,
          2021,
          2021,
          2021,
          2019,
          2020,
          2012,
          2001,
          2009,
          2013,
          2000,
          2019,
          2021,
          1997,
          2021,
          2011,
          2021,
          2013,
          2003,
          2001,
          2015,
          2015,
          2008,
          2010,
          1997,
          2019,
          2012,
          2011,
          2001,
          1997,
          2004,
          2012,
          2011,
          2009,
          2006,
          2006,
          2021,
          2017,
          2017,
          2014,
          2004,
          1984,
          2021,
          2001,
          1993,
          1981,
          2015,
          2005,
          2015,
          1996,
          1976,
          2021,
          2018,
          2019,
          2019,
          2018,
          2020,
          2021,
          2021,
          2016,
          2021,
          2021,
          2021,
          2021,
          2021,
          2021,
          2021,
          2021,
          2021,
          2021,
          2018,
          2021,
          2021,
          2021,
          2016,
          2021,
          2014,
          2015,
          2021,
          2021,
          2020,
          2021,
          2021,
          2021,
          2021,
          2021,
          2021,
          2020,
          2021,
          2009,
          2011,
          2020,
          2021,
          2021,
          2011,
          2006,
          2014,
          2017,
          1998,
          1997,
          2021,
          2021,
          2021,
          2016,
          2021,
          2021,
          2020,
          2021,
          2021,
          2021,
          2021,
          2021,
          2021,
          2021,
          2021,
          2021,
          2018,
          2020,
          2020,
          2021,
          2021,
          2021,
          2004,
          2018,
          2020,
          2021,
          2021,
          2021,
          2021,
          2020,
          2020,
          2021,
          2019,
          2021,
          2021,
          2017,
          2021,
          1999,
          2020,
          2021,
          2021,
          2021,
          2017,
          2021,
          2020,
          2017,
          2020,
          2013,
          2019,
          2021,
          2021,
          2020,
          2018,
          2018,
          2021,
          2020,
          2010,
          2006,
          2010,
          1989,
          2017,
          2010,
          2005,
          2010,
          2009,
          2018,
          2012,
          2020,
          2017,
          2019,
          2013,
          2014,
          2013,
          2003,
          2008,
          2018,
          2020,
          1994,
          2009,
          2018,
          2011,
          2009,
          2002,
          2000,
          2016,
          2018,
          1992,
          2008,
          2021,
          2019,
          2021,
          2021,
          2021,
          2018,
          2021,
          2021,
          2021,
          2021,
          2021,
          2021,
          2014,
          2011,
          2018,
          2021,
          2020,
          2019,
          2021,
          2017,
          2016,
          2014,
          2013,
          2015,
          2004,
          2015,
          2021,
          2015,
          2015,
          2016,
          2019,
          2021,
          2017,
          2015,
          2020,
          2020,
          2021,
          2020,
          2001,
          2021,
          2021,
          2021,
          2021,
          2020,
          2015,
          2021,
          2021,
          2021,
          2013,
          2018,
          2017,
          2019,
          2020,
          2019,
          2014,
          2021,
          2016,
          2019,
          1992,
          2011,
          2010,
          2008,
          2001,
          2004,
          2010,
          2007,
          2021,
          2021,
          2021,
          2021,
          2015,
          2021,
          2013,
          2020,
          2020,
          2021,
          2013,
          2020,
          2017,
          2017,
          2021,
          2016,
          2020,
          2016,
          2016,
          2019,
          2006,
          2021,
          2020,
          2019,
          2018,
          2020,
          2019,
          2021,
          2003,
          2012,
          2014,
          2020,
          1981,
          2015,
          2021,
          2021,
          2018,
          2020,
          2020,
          2021,
          2019,
          2016,
          2019,
          2021,
          2020,
          2019,
          2020,
          2021,
          2017,
          2018,
          2018,
          2019,
          2021,
          2018,
          2019,
          2017,
          2020,
          2021,
          2018,
          2021,
          2020,
          2020,
          2021,
          2016,
          2021,
          2021,
          2021,
          2020,
          2021,
          2021,
          2021,
          2021,
          2021,
          2021,
          2020,
          2021,
          2020,
          2020,
          2013,
          2006,
          2018,
          2012,
          2021,
          2019,
          2018,
          2021,
          2021,
          2021,
          2008,
          2017,
          2009,
          2009,
          2012,
          2020,
          2019,
          2010,
          2015,
          2016,
          2001,
          2020,
          2021,
          1996,
          2017,
          1964,
          2021,
          2017,
          2016,
          2017,
          2017,
          2017,
          2016,
          2017,
          2010,
          2021,
          2019,
          2002,
          2009,
          1999,
          2016,
          2017,
          2021,
          2008,
          2018,
          2021,
          2020,
          2015,
          2005,
          2021,
          2021,
          2020,
          2013,
          2012,
          2021,
          2021,
          2021,
          2013,
          2018,
          1998,
          2020,
          2020,
          2021,
          2020,
          2021,
          2021,
          2021,
          2021,
          2021,
          2021,
          2021,
          2021,
          2021,
          2021,
          2013,
          2020,
          2020,
          2020,
          2010,
          2021,
          2021,
          2021,
          2020,
          2021,
          2020,
          2021,
          2021,
          2021,
          2021,
          2020,
          2014,
          2020,
          2020,
          2017,
          2021,
          2021,
          2014,
          2021,
          2012,
          2021,
          2021,
          2021,
          2016,
          2020,
          2021,
          2021,
          2020,
          2015,
          2020,
          2021,
          2015,
          2021,
          2021,
          2020,
          2010,
          2013,
          2021,
          2021,
          2016,
          2021,
          2020,
          2020,
          2021,
          2021,
          2021,
          2021,
          2021,
          2021,
          2015,
          2021,
          2021,
          2021,
          2020,
          2021,
          2021,
          2021,
          2020,
          2021,
          2013,
          2013,
          2021,
          2021,
          2014,
          2020,
          2021,
          2019,
          2009,
          2021,
          2021,
          2021,
          1990,
          2018,
          2019,
          1988,
          2011,
          2006,
          2011,
          2021,
          2016,
          2021,
          2006,
          2021,
          2015,
          2011,
          2021,
          2008,
          2014,
          2019,
          2021,
          2018,
          2018,
          2021,
          2020,
          2021,
          2021,
          2019,
          2021,
          2021,
          2020,
          2021,
          2021,
          2020,
          2013,
          2016,
          2021,
          2020,
          2021,
          2018,
          2020,
          2021,
          2020,
          2017,
          2021,
          2021,
          2019,
          2021,
          2018,
          2021,
          2021,
          2021,
          2021,
          2021,
          2018,
          2021,
          2002,
          2020,
          2017,
          2021,
          2018,
          2021,
          2021,
          2020,
          2021,
          2005,
          2021,
          2019,
          2021,
          2021,
          2021,
          2019,
          2016,
          2018,
          2020,
          2012,
          2021,
          2021,
          2008,
          2021,
          2021,
          2019,
          1945,
          2008,
          2016,
          2020,
          2020,
          2017,
          2017,
          2021,
          2021,
          2020,
          2021,
          2021,
          2021,
          2020,
          2021,
          2020,
          2020,
          2021,
          2012,
          2018,
          2020,
          2021,
          1997,
          2019,
          2018,
          2018,
          2019,
          2010,
          2008,
          2020,
          2019,
          2015,
          2019,
          2005,
          2019,
          2020,
          2018,
          2021,
          2021,
          2021,
          2021,
          2021,
          2021,
          2021,
          2021,
          2020,
          2018,
          2021,
          2018,
          2021,
          2019,
          2019,
          2021,
          2021,
          2019,
          2020,
          2010,
          2021,
          2020,
          2020,
          2020,
          2021,
          2020,
          2021,
          2021,
          2013,
          2016,
          2020,
          2018,
          2021,
          2021,
          2021,
          2020,
          2016,
          2021,
          2014,
          2019,
          2020,
          2020,
          2021,
          2021,
          2021,
          2011,
          2020,
          2017,
          2021,
          2019,
          2021,
          2020,
          2021,
          2011,
          2005,
          2005,
          2021,
          2021,
          2003,
          2021,
          2018,
          2021,
          2021,
          2021,
          2021,
          2020,
          2016,
          2020,
          2021,
          2021,
          2020,
          2021,
          2021,
          1999,
          2020,
          2019,
          2012,
          2020,
          2014,
          2009,
          2021,
          2021,
          1987,
          2020,
          2013,
          1997,
          2009,
          2021,
          2007,
          2017,
          2017,
          2011,
          2021,
          1988,
          2020,
          2014,
          2019,
          2013,
          2021,
          2011,
          2021,
          1993,
          2017,
          2020,
          2014,
          2020,
          2020,
          2019,
          2020,
          2019,
          2020,
          2020,
          2018,
          2020,
          2020,
          2020,
          2020,
          2011,
          2020,
          2019,
          2020,
          2020,
          2020,
          2020,
          2020,
          2019,
          2020,
          2019,
          2018,
          2019,
          2012,
          2020,
          2020,
          2020,
          2020,
          2020,
          2020,
          2020,
          2016,
          2020,
          2010,
          2020,
          2018,
          2019,
          2020,
          2012,
          2019,
          2020,
          2020,
          2020,
          2020,
          2006,
          2020,
          2004,
          2009,
          2020,
          2018,
          2019,
          2017,
          2020,
          2020,
          2019,
          2020,
          2019,
          2020,
          2020,
          2012,
          2020,
          2016,
          2013,
          2011,
          2011,
          2016,
          2020,
          2020,
          2014,
          2018,
          2020,
          2020,
          2011,
          2006,
          2019,
          2020,
          2021,
          2020,
          2020,
          2020,
          2018,
          2020,
          2020,
          2020,
          2020,
          2020,
          2020,
          2020,
          2020,
          2020,
          2016,
          2013,
          2019,
          2019,
          2013,
          2019,
          2020,
          2020,
          2020,
          2020,
          2020,
          2020,
          2020,
          2019,
          2020,
          2020,
          2020,
          2016,
          2018,
          2020,
          2020,
          2020,
          2020,
          2020,
          2020,
          2020,
          2020,
          2020,
          2020,
          2020,
          2020,
          2020,
          2020,
          2019,
          2018,
          2020,
          2020,
          2013,
          2020,
          2020,
          2020,
          2020,
          2020,
          2014,
          2020,
          2009,
          2014,
          2014,
          2014,
          2018,
          2012,
          2006,
          2020,
          2015,
          2017,
          2018,
          1990,
          2006,
          2010,
          2006,
          2018,
          2018,
          2020,
          2018,
          2020,
          2020,
          2018,
          2019,
          2020,
          2020,
          2020,
          2020,
          2020,
          2020,
          1999,
          2020,
          2020,
          2020,
          2020,
          2018,
          2020,
          2020,
          2017,
          2020,
          2020,
          2020,
          2020,
          2020,
          2020,
          2015,
          2020,
          2020,
          2020,
          2020,
          2020,
          2020,
          2017,
          2018,
          2020,
          2013,
          2019,
          2020,
          2020,
          2019,
          2020,
          2020,
          2020,
          2020,
          2004,
          2011,
          2010,
          2015,
          2010,
          2016,
          2011,
          2016,
          2020,
          2018,
          2009,
          2020,
          2020,
          2020,
          2020,
          2020,
          2016,
          2017,
          2017,
          2013,
          2019,
          2013,
          2018,
          2021,
          2014,
          2020,
          1954,
          2019,
          2019,
          2020,
          2020,
          2020,
          2020,
          2020,
          2008,
          2020,
          2018,
          2013,
          2020,
          2020,
          2019,
          2008,
          2020,
          2020,
          2020,
          2020,
          1979,
          2020,
          2006,
          2020,
          2020,
          2018,
          2020,
          2020,
          2020,
          2019,
          2016,
          2018,
          2020,
          2019,
          2020,
          2020,
          2012,
          2020,
          2020,
          2018,
          2018,
          2020,
          2020,
          2020,
          2020,
          2016,
          2020,
          2020,
          2018,
          2019,
          2019,
          2002,
          2020,
          2020,
          2018,
          2019,
          2018,
          2019,
          2018,
          2020,
          2019,
          2019,
          1989,
          2018,
          2018,
          2016,
          2018,
          2020,
          2012,
          1994,
          2018,
          2020,
          2017,
          2018,
          2019,
          2019,
          2020,
          2017,
          2020,
          2020,
          2020,
          2020,
          2020,
          2020,
          2020,
          2013,
          2020,
          2016,
          2013,
          2020,
          2020,
          2020,
          2020,
          2020,
          2020,
          2020,
          2009,
          2018,
          2019,
          2019,
          2020,
          2020,
          2020,
          2018,
          2020,
          2020,
          2017,
          2020,
          2018,
          2019,
          2018,
          2018,
          2020,
          2020,
          2020,
          2020,
          2020,
          2020,
          1975,
          2005,
          2013,
          2014,
          2017,
          1991,
          2017,
          2012,
          2003,
          1982,
          2007,
          2020,
          1999,
          2018,
          1980,
          2005,
          2012,
          2020,
          2020,
          2018,
          2020,
          2016,
          2020,
          2020,
          2020,
          2020,
          2014,
          2020,
          2016,
          2018,
          2018,
          2005,
          2017,
          2020,
          2006,
          2020,
          2020,
          2020,
          2020,
          2020,
          2020,
          2004,
          2020,
          2020,
          1990,
          1982,
          2015,
          2020,
          2006,
          2002,
          2017,
          2020,
          2020,
          2018,
          2020,
          2020,
          2020,
          2020,
          2020,
          2004,
          2020,
          2020,
          2020,
          2020,
          2020,
          2019,
          2020,
          2017,
          2020,
          2020,
          2020,
          2018,
          2016,
          2017,
          2016,
          2020,
          2005,
          2020,
          2009,
          2020,
          2020,
          2020,
          2017,
          2020,
          2020,
          2020,
          2017,
          2019,
          2013,
          2019,
          2018,
          2016,
          2016,
          2020,
          2019,
          2016,
          2019,
          2018,
          2020,
          2005,
          2019,
          2018,
          2019,
          2020,
          2020,
          2003,
          2019,
          2018,
          2020,
          2020,
          2019,
          2010,
          2020,
          2018,
          2020,
          2020,
          2020,
          2012,
          2020,
          2020,
          2002,
          2013,
          2014,
          2008,
          2003,
          2009,
          2007,
          1999,
          2007,
          2007,
          2020,
          2019,
          2020,
          2015,
          2020,
          2020,
          2016,
          2020,
          2020,
          2019,
          2011,
          2020,
          2020,
          2020,
          2020,
          2020,
          2018,
          2016,
          2017,
          2017,
          2016,
          2019,
          2016,
          2019,
          2013,
          2015,
          2020,
          2013,
          2016,
          2014,
          2020,
          2020,
          2020,
          2019,
          2020,
          2014,
          2020,
          2020,
          2020,
          2014,
          2020,
          2020,
          2020,
          2020,
          2020,
          2018,
          2020,
          2020,
          2020,
          2020,
          2016,
          2020,
          2020,
          2020,
          2002,
          2020,
          2013,
          2020,
          2018,
          2020,
          2020,
          2020,
          2007,
          2014,
          2020,
          2020,
          2020,
          2014,
          2018,
          2018,
          2019,
          2019,
          2018,
          2017,
          2020,
          2020,
          2019,
          2018,
          2016,
          2016,
          2017,
          2018,
          2020,
          2020,
          2020,
          2020,
          2020,
          2020,
          2020,
          2020,
          2020,
          2020,
          2010,
          2020,
          2010,
          2017,
          2020,
          2020,
          2020,
          2019,
          2020,
          2019,
          2015,
          2020,
          2018,
          2020,
          2020,
          2020,
          2020,
          2009,
          2020,
          2020,
          2018,
          2016,
          2020,
          2017,
          2020,
          2012,
          2019,
          2016,
          2016,
          2020,
          2002,
          2020,
          2011,
          2008,
          1998,
          1998,
          2018,
          2020,
          2020,
          2019,
          2011,
          2020,
          2020,
          2020,
          2020,
          2020,
          2020,
          2020,
          2020,
          2020,
          2020,
          1998,
          2020,
          2016,
          2020,
          2019,
          2020,
          2020,
          2020,
          2020,
          2020,
          2016,
          2019,
          2013,
          2020,
          2020,
          2020,
          2020,
          2020,
          2020,
          2020,
          2019,
          2020,
          2020,
          2020,
          2020,
          2019,
          2017,
          2020,
          2020,
          2018,
          2012,
          2014,
          2020,
          2016,
          2020,
          2014,
          2009,
          2020,
          2020,
          2020,
          2018,
          2020,
          2020,
          2020,
          2020,
          2014,
          2018,
          2019,
          2016,
          2012,
          2020,
          2020,
          2014,
          2020,
          2020,
          2019,
          2020,
          2018,
          2016,
          2020,
          2020,
          2020,
          2020,
          2020,
          2018,
          2020,
          2020,
          2020,
          2020,
          2020,
          2016,
          2020,
          2020,
          2020,
          2019,
          2020,
          2020,
          2020,
          2020,
          2020,
          2020,
          2020,
          2017,
          2000,
          2020,
          2014,
          2020,
          2020,
          2018,
          2017,
          2008,
          2020,
          2020,
          2018,
          2020,
          2020,
          2020,
          2020,
          2020,
          2020,
          2020,
          2017,
          2020,
          2020,
          2020,
          2016,
          2019,
          2020,
          2020,
          2020,
          2019,
          2020,
          2020,
          2019,
          2020,
          2020,
          2016,
          2020,
          2020,
          2019,
          2020,
          2020,
          2020,
          2020,
          2015,
          2020,
          2019,
          2020,
          2020,
          2019,
          2019,
          2020,
          2020,
          2017,
          2018,
          2019,
          2018,
          2020,
          2020,
          2020,
          2020,
          2019,
          2020,
          2018,
          2019,
          2020,
          2020,
          2020,
          2016,
          2018,
          2020,
          2020,
          2020,
          2020,
          2016,
          2020,
          2020,
          2018,
          2020,
          2020,
          2020,
          2019,
          2019,
          2020,
          2020,
          2020,
          2018,
          2020,
          2020,
          2018,
          2012,
          2020,
          2019,
          2020,
          2012,
          2011,
          2012,
          2013,
          2013,
          2016,
          2013,
          2015,
          2015,
          2015,
          2014,
          2020,
          2013,
          2013,
          2014,
          2011,
          2014,
          2012,
          2014,
          2019,
          2019,
          2012,
          2015,
          2014,
          2011,
          2013,
          2011,
          2013,
          2020,
          2019,
          2020,
          2020,
          2017,
          2020,
          2020,
          2020,
          2019,
          1993,
          2020,
          2020,
          2019,
          2019,
          2016,
          2019,
          2020,
          2015,
          2019,
          1999,
          2014,
          2020,
          2007,
          2019,
          2019,
          1990,
          2004,
          2020,
          2020,
          2020,
          2020,
          2011,
          2020,
          2019,
          2019,
          2020,
          2020,
          2020,
          2020,
          2020,
          2019,
          2016,
          2019,
          2019,
          2019,
          2020,
          2020,
          2015,
          2006,
          2020,
          2020,
          2020,
          2020,
          2020,
          2020,
          2020,
          2017,
          2020,
          2017,
          2019,
          2020,
          2020,
          1997,
          2020,
          2020,
          2020,
          2020,
          2020,
          2020,
          1994,
          2020,
          2020,
          2020,
          1979,
          1989,
          1982,
          1958,
          1956,
          2020,
          2019,
          2020,
          1963,
          2010,
          1954,
          1970,
          2014,
          2020,
          2018,
          2020,
          2012,
          2016,
          2015,
          2019,
          2013,
          2019,
          2019,
          2020,
          2020,
          2020,
          2020,
          2020,
          2020,
          2020,
          2020,
          2020,
          2020,
          2018,
          2002,
          2020,
          2020,
          2014,
          2008,
          2020,
          2020,
          2020,
          2009,
          2018,
          2020,
          2018,
          2017,
          2020,
          2020,
          2018,
          2018,
          2020,
          2020,
          2016,
          2014,
          2020,
          2019,
          2020,
          2019,
          2020,
          2010,
          2020,
          2017,
          2017,
          2007,
          2017,
          2020,
          2019,
          2008,
          2006,
          2006,
          2009,
          2012,
          2008,
          2004,
          2020,
          2006,
          2011,
          2019,
          1999,
          2020,
          2017,
          2016,
          2019,
          2018,
          2014,
          2018,
          2017,
          2017,
          2017,
          2016,
          2019,
          2018,
          2020,
          2020,
          1999,
          2018,
          2020,
          2014,
          2015,
          2020,
          2016,
          2019,
          2020,
          2019,
          2019,
          2019,
          2020,
          2019,
          2020,
          2020,
          2020,
          2019,
          2018,
          2020,
          2020,
          2018,
          1981,
          1996,
          1982,
          2019,
          2020,
          1979,
          1984,
          1985,
          1981,
          1973,
          1976,
          2010,
          2020,
          2020,
          2014,
          2010,
          2020,
          2020,
          2020,
          2006,
          2009,
          2012,
          2007,
          2008,
          2009,
          2020,
          2020,
          2006,
          2004,
          2012,
          2005,
          2019,
          2020,
          2020,
          2019,
          2009,
          2009,
          2007,
          2017,
          2019,
          2020,
          2019,
          2020,
          2014,
          2020,
          2020,
          2019,
          2015,
          2020,
          2018,
          2019,
          2018,
          2020,
          2017,
          2018,
          2018,
          2018,
          2012,
          2020,
          2019,
          2020,
          2020,
          2010,
          1994,
          2019,
          2020,
          2020,
          2020,
          2020,
          2020,
          2020,
          2020,
          2020,
          2016,
          2019,
          2020,
          2018,
          2020,
          2020,
          2020,
          2019,
          2020,
          2019,
          2020,
          2019,
          2020,
          2015,
          2020,
          2019,
          2013,
          2020,
          2020,
          2015,
          2009,
          2020,
          2018,
          2019,
          2020,
          2020,
          2013,
          2008,
          2019,
          2012,
          2019,
          2014,
          2020,
          2020,
          2020,
          2019,
          2020,
          2007,
          2020,
          2020,
          2020,
          2003,
          2020,
          2020,
          2019,
          2019,
          2020,
          2020,
          2020,
          2020,
          2016,
          2020,
          2019,
          2020,
          2020,
          2019,
          2017,
          2006,
          2016,
          2008,
          2011,
          2016,
          2017,
          2016,
          2010,
          2009,
          2005,
          2019,
          2012,
          2019,
          2020,
          2020,
          2020,
          2020,
          2020,
          2010,
          2017,
          2005,
          2006,
          2011,
          2010,
          2009,
          2008,
          2009,
          2019,
          2020,
          2011,
          2019,
          2020,
          2020,
          2020,
          2016,
          2019,
          2020,
          2019,
          2020,
          2020,
          2020,
          2018,
          2019,
          2019,
          2020,
          2020,
          2006,
          2020,
          2018,
          2020,
          2020,
          2020,
          2019,
          2020,
          2020,
          2018,
          2020,
          2020,
          2020,
          2020,
          2020,
          2019,
          2019,
          2020,
          2020,
          2016,
          2015,
          2020,
          2015,
          2019,
          2018,
          2019,
          2020,
          2020,
          2020,
          2018,
          2018,
          2019,
          2019,
          2020,
          2020,
          2020,
          2019,
          2020,
          2019,
          2020,
          2019,
          2020,
          2019,
          2010,
          2017,
          2019,
          2017,
          2019,
          2017,
          2019,
          2013,
          2020,
          2019,
          2020,
          2017,
          2020,
          2019,
          1990,
          2015,
          2012,
          2015,
          2020,
          2008,
          1984,
          1998,
          1980,
          2013,
          1993,
          2014,
          2020,
          2014,
          2005,
          2006,
          2001,
          2003,
          2016,
          1998,
          2015,
          2020,
          2014,
          1987,
          2019,
          1986,
          2020,
          2020,
          2020,
          2017,
          2010,
          2020,
          2014,
          2020,
          2018,
          2020,
          2019,
          2019,
          2020,
          2016,
          2017,
          2019,
          2018,
          2019,
          2019,
          2020,
          2020,
          2019,
          2020,
          2019,
          2019,
          2020,
          2020,
          2020,
          2019,
          2020,
          2020,
          2020,
          2019,
          2020,
          2019,
          2020,
          2020,
          2019,
          2020,
          2018,
          2020,
          2020,
          2020,
          2020,
          2020,
          2020,
          2020,
          2020,
          2017,
          2020,
          2020,
          2020,
          2020,
          2020,
          2020,
          2020,
          2020,
          2019,
          2020,
          2020,
          2017,
          2020,
          2017,
          2019,
          2016,
          2020,
          2020,
          2018,
          2014,
          2019,
          2019,
          2019,
          2019,
          2019,
          2020,
          2020,
          2018,
          2020,
          2020,
          2019,
          2020,
          2020,
          2019,
          2020,
          2020,
          2020,
          2020,
          2020,
          2020,
          2020,
          2017,
          2017,
          2020,
          2019,
          2019,
          2020,
          2020,
          2020,
          2016,
          2020,
          2020,
          2019,
          2010,
          2019,
          2005,
          2016,
          2018,
          2019,
          2020,
          2019,
          2019,
          2011,
          2020,
          2014,
          2020,
          2019,
          2020,
          2019,
          2016,
          2011,
          2016,
          2017,
          2007,
          2020,
          2018,
          2019,
          2020,
          2019,
          2019,
          2020,
          2019,
          2020,
          2020,
          2020,
          2020,
          2019,
          2020,
          2016,
          2015,
          2020,
          2015,
          2016,
          2020,
          2015,
          2014,
          2020,
          2019,
          2020,
          2019,
          2018,
          2020,
          2020,
          2020,
          2020,
          2020,
          2019,
          2020,
          2020,
          2012,
          2020,
          2018,
          2008,
          2015,
          2019,
          2015,
          2017,
          2016,
          2016,
          2017,
          2017,
          2019,
          2019,
          2017,
          2020,
          2010,
          2019,
          2020,
          2018,
          2019,
          2021,
          2020,
          2019,
          2019,
          2015,
          2020,
          2018,
          2020,
          2017,
          2020,
          2019,
          2018,
          2018,
          2019,
          2019,
          2019,
          2018,
          2020,
          2018,
          2020,
          2019,
          2020,
          2020,
          2017,
          2020,
          2020,
          2014,
          2019,
          2020,
          2020,
          2020,
          2019,
          2020,
          2020,
          2019,
          2020,
          2016,
          1994,
          2015,
          2020,
          2017,
          2018,
          2019,
          2019,
          2020,
          2014,
          2018,
          2014,
          2019,
          1999,
          2020,
          2020,
          2016,
          2017,
          2020,
          2020,
          2020,
          2019,
          2009,
          2020,
          2020,
          2018,
          2020,
          2020,
          2020,
          2020,
          2019,
          2020,
          2017,
          2019,
          2015,
          2020,
          2017,
          2020,
          2020,
          2020,
          2020,
          2020,
          2020,
          2020,
          2020,
          2019,
          2004,
          2020,
          2019,
          2011,
          2019,
          2020,
          2013,
          2020,
          2020,
          2020,
          2020,
          2019,
          2019,
          2020,
          2011,
          2019,
          2015,
          2019,
          2008,
          2015,
          2018,
          2019,
          2020,
          2017,
          2019,
          2020,
          2018,
          2019,
          2020,
          2018,
          2019,
          2020,
          2019,
          2020,
          2020,
          2020,
          2014,
          2020,
          2020,
          2020,
          2020,
          2017,
          2020,
          2020,
          2020,
          2019,
          2017,
          2020,
          2019,
          2018,
          2017,
          2018,
          2014,
          2018,
          2019,
          2007,
          2008,
          2009,
          2020,
          2015,
          2001,
          2017,
          2019,
          2020,
          2017,
          2020,
          2006,
          2018,
          2017,
          2015,
          2015,
          2009,
          2017,
          2020,
          2017,
          2019,
          2019,
          2019,
          2019,
          2019,
          2019,
          2018,
          2016,
          2018,
          2019,
          2019,
          2019,
          2019,
          2013,
          2018,
          2019,
          2018,
          2019,
          2019,
          2019,
          2019,
          2017,
          2019,
          2019,
          2017,
          2019,
          2019,
          2019,
          2019,
          2019,
          2019,
          2012,
          2019,
          2017,
          2019,
          2014,
          2018,
          2015,
          2015,
          2019,
          2019,
          2019,
          2019,
          2019,
          2019,
          2019,
          2019,
          2018,
          2015,
          2015,
          2016,
          2015,
          2019,
          2018,
          2001,
          2015,
          2006,
          2011,
          2013,
          2011,
          2012,
          2019,
          2007,
          2017,
          2010,
          2004,
          2009,
          2017,
          2008,
          2012,
          2012,
          2005,
          2011,
          2019,
          2016,
          2017,
          2016,
          2018,
          2019,
          2018,
          2019,
          2019,
          2017,
          2019,
          2019,
          2017,
          2019,
          2019,
          2019,
          2017,
          2017,
          2020,
          2019,
          2017,
          2017,
          2019,
          2019,
          2019,
          2019,
          2019,
          2019,
          2016,
          2017,
          2019,
          2019,
          2019,
          2019,
          2019,
          2019,
          2019,
          2018,
          2019,
          2019,
          2014,
          2019,
          2018,
          2019,
          2019,
          2017,
          2016,
          2017,
          2018,
          2016,
          2019,
          2017,
          2019,
          2015,
          2019,
          2019,
          2019,
          2019,
          2019,
          2018,
          2019,
          2016,
          2019,
          2018,
          2018,
          2017,
          2019,
          2018,
          2019,
          2019,
          2019,
          2019,
          2019,
          2008,
          2019,
          2019,
          2019,
          2019,
          2019,
          2019,
          2015,
          2019,
          2019,
          2019,
          2019,
          2017,
          2019,
          2019,
          2019,
          2015,
          2008,
          2019,
          2019,
          2019,
          2019,
          2019,
          2019,
          2019,
          2019,
          2019,
          2019,
          2019,
          2019,
          2019,
          2019,
          2019,
          2019,
          2019,
          2019,
          2019,
          2014,
          2015,
          2013,
          2003,
          2019,
          2019,
          2019,
          2019,
          2019,
          2019,
          2013,
          2010,
          2011,
          2019,
          2004,
          2019,
          2002,
          2017,
          2018,
          2019,
          2013,
          2019,
          2019,
          2019,
          2003,
          2019,
          2019,
          2020,
          2019,
          2019,
          2009,
          2019,
          2019,
          2019,
          2019,
          2019,
          2019,
          2019,
          2019,
          2016,
          2019,
          2019,
          2018,
          2019,
          2014,
          2019,
          2019,
          2017,
          2019,
          2019,
          2016,
          2016,
          2019,
          2019,
          2014,
          2014,
          2015,
          2012,
          2017,
          2017,
          2013,
          2016,
          2015,
          2010,
          2015,
          2013,
          2019,
          2015,
          2018,
          2019,
          2016,
          2017,
          2018,
          2008,
          2019,
          2019,
          2015,
          2019,
          2018,
          2014,
          2010,
          2016,
          2019,
          2019,
          2019,
          2019,
          2019,
          2019,
          2019,
          2007,
          2019,
          2006,
          2019,
          2016,
          2019,
          2019,
          2019,
          2019,
          2016,
          2019,
          2017,
          2019,
          2019,
          2018,
          2019,
          2019,
          2018,
          2019,
          2019,
          2020,
          2019,
          2014,
          2019,
          2019,
          2019,
          2018,
          2019,
          2019,
          2019,
          2019,
          2018,
          2019,
          2019,
          2019,
          2019,
          2019,
          2019,
          2018,
          2019,
          2016,
          2019,
          2018,
          2017,
          2019,
          2019,
          2019,
          2019,
          2019,
          2019,
          2018,
          2019,
          2019,
          2017,
          2019,
          2017,
          2019,
          2019,
          2017,
          2019,
          2019,
          2017,
          2018,
          2019,
          2017,
          2019,
          2019,
          2016,
          2019,
          2019,
          2019,
          2015,
          2015,
          2018,
          2014,
          2019,
          2019,
          2019,
          2017,
          2019,
          2019,
          2019,
          2019,
          2019,
          2020,
          2019,
          2018,
          2019,
          2019,
          2019,
          2019,
          2019,
          2019,
          2019,
          2018,
          2019,
          2019,
          2019,
          2016,
          2019,
          2019,
          2019,
          2019,
          2019,
          2019,
          2019,
          2019,
          2019,
          2019,
          2019,
          2019,
          2018,
          2016,
          2017,
          2018,
          2018,
          2018,
          2018,
          2017,
          2017,
          2019,
          2018,
          2019,
          2000,
          2016,
          2017,
          1998,
          2005,
          2019,
          2019,
          2019,
          2019,
          2019,
          2018,
          2019,
          2019,
          2019,
          2019,
          2013,
          2018,
          2019,
          2019,
          2019,
          2019,
          2019,
          2019,
          2019,
          2019,
          2018,
          2009,
          2019,
          2019,
          2019,
          2019,
          2019,
          2019,
          2019,
          2019,
          2018,
          2019,
          2019,
          2019,
          2019,
          2012,
          2019,
          2006,
          2019,
          2019,
          2019,
          2019,
          2019,
          2018,
          2019,
          2019,
          2019,
          2019,
          2019,
          2019,
          2019,
          2019,
          2019,
          2019,
          2018,
          2018,
          2019,
          2019,
          2019,
          2016,
          2019,
          2012,
          2016,
          2018,
          2006,
          2014,
          2018,
          2004,
          2019,
          2018,
          2019,
          2018,
          2019,
          2019,
          2019,
          2018,
          2019,
          2018,
          2019,
          2019,
          2019,
          2019,
          2019,
          2016,
          2019,
          2019,
          2019,
          2018,
          2019,
          2019,
          2019,
          2019,
          2019,
          2019,
          2019,
          2018,
          2019,
          2019,
          2019,
          2019,
          2019,
          2019,
          2019,
          2019,
          2019,
          2015,
          2019,
          2019,
          2019,
          2019,
          2018,
          2019,
          2019,
          2019,
          2019,
          2019,
          2019,
          2019,
          2019,
          2018,
          2019,
          2019,
          2019,
          2019,
          2019,
          2018,
          2019,
          2019,
          2019,
          2014,
          2019,
          2019,
          2015,
          2013,
          2014,
          2015,
          2014,
          2012,
          2019,
          2019,
          2016,
          2015,
          2015,
          2014,
          2018,
          2016,
          2019,
          2019,
          2017,
          2017,
          2019,
          2019,
          2019,
          2019,
          2018,
          2019,
          2019,
          2019,
          2019,
          2019,
          2018,
          2019,
          2019,
          2019,
          2019,
          2019,
          2019,
          2018,
          2018,
          2018,
          2008,
          2013,
          2004,
          2007,
          2019,
          2019,
          2019,
          2019,
          2019,
          2019,
          2019,
          2018,
          2019,
          2019,
          2018,
          2019,
          2010,
          2011,
          2015,
          2017,
          2019,
          2019,
          2019,
          2018,
          2019,
          2019,
          2019,
          2019,
          2019,
          2017,
          2019,
          2019,
          2019,
          2019,
          2019,
          2019,
          2016,
          2019,
          2019,
          2019,
          2019,
          2019,
          2019,
          2019,
          2008,
          2018,
          2019,
          2015,
          2018,
          2018,
          2013,
          2019,
          2019,
          2011,
          2019,
          2019,
          2018,
          2019,
          2019,
          2017,
          2019,
          2018,
          2019,
          2019,
          2019,
          2018,
          2012,
          2019,
          2019,
          2019,
          2019,
          2019,
          2019,
          1998,
          2019,
          2019,
          2013,
          1995,
          2018,
          2019,
          2019,
          1997,
          2019,
          2019,
          2019,
          2019,
          2019,
          2015,
          2018,
          2012,
          2014,
          2019,
          2019,
          2018,
          2011,
          2019,
          2019,
          2017,
          2019,
          2019,
          2019,
          2019,
          2019,
          2019,
          2018,
          2019,
          2019,
          2019,
          2019,
          2019,
          2019,
          2019,
          2019,
          2011,
          2018,
          2019,
          2019,
          2019,
          2019,
          2019,
          2019,
          2018,
          2019,
          2019,
          2019,
          2019,
          2016,
          2019,
          2015,
          2019,
          2014,
          2019,
          2019,
          2019,
          2019,
          2019,
          2017,
          2017,
          2019,
          2019,
          2019,
          2019,
          2019,
          2019,
          2019,
          2019,
          2019,
          2019,
          2019,
          2017,
          2019,
          2019,
          2018,
          2019,
          2019,
          2019,
          2019,
          2018,
          2019,
          2019,
          2018,
          2019,
          2014,
          2016,
          2018,
          2019,
          2019,
          2019,
          2019,
          2019,
          2019,
          2019,
          2018,
          2019,
          2017,
          2018,
          2017,
          2019,
          2019,
          2018,
          2019,
          2018,
          2019,
          2018,
          2019,
          2018,
          2019,
          2011,
          2019,
          2018,
          2019,
          2019,
          2016,
          2019,
          2019,
          2018,
          2015,
          2016,
          2016,
          2015,
          2015,
          2016,
          2015,
          2016,
          2016,
          2019,
          2019,
          2019,
          2019,
          2019,
          2019,
          2019,
          2019,
          2019,
          2019,
          2019,
          2019,
          2019,
          2018,
          2019,
          2019,
          2018,
          2013,
          2008,
          2018,
          2019,
          2018,
          2019,
          2019,
          2014,
          2019,
          2018,
          2018,
          2013,
          2009,
          2012,
          2004,
          2018,
          2018,
          2018,
          2019,
          2019,
          2019,
          2018,
          2019,
          2019,
          2015,
          2018,
          2019,
          2019,
          2005,
          2019,
          2019,
          2017,
          2019,
          2019,
          2019,
          2019,
          2014,
          2019,
          2019,
          2013,
          2019,
          2001,
          2005,
          2018,
          2003,
          2003,
          2003,
          2018,
          2005,
          2016,
          2018,
          2019,
          2019,
          2014,
          2013,
          2019,
          2019,
          2019,
          2018,
          2019,
          2019,
          2019,
          2019,
          2018,
          2019,
          2017,
          2019,
          2015,
          2017,
          2019,
          2019,
          2019,
          2017,
          2019,
          2019,
          2019,
          2019,
          2019,
          2019,
          2018,
          2018,
          2019,
          2015,
          2019,
          2018,
          2016,
          2018,
          2013,
          2017,
          2019,
          2019,
          2018,
          2017,
          2019,
          2019,
          2019,
          2019,
          2019,
          2019,
          2018,
          2019,
          2018,
          2018,
          2017,
          2008,
          2019,
          2018,
          2018,
          2018,
          2017,
          2019,
          2019,
          2019,
          2018,
          2019,
          2018,
          2019,
          2019,
          2019,
          2007,
          2019,
          2014,
          2016,
          2016,
          2016,
          2016,
          2019,
          2018,
          2018,
          2019,
          2019,
          2014,
          2019,
          2018,
          2017,
          2019,
          2018,
          2018,
          2006,
          2011,
          2012,
          2008,
          2018,
          2018,
          2018,
          2018,
          2019,
          2019,
          2007,
          2016,
          2016,
          2017,
          2017,
          2018,
          2018,
          2019,
          2019,
          2018,
          2017,
          2018,
          2018,
          2018,
          2018,
          2018,
          2019,
          2019,
          2018,
          2019,
          2018,
          2012,
          2014,
          2015,
          2015,
          2016,
          2016,
          2017,
          2019,
          2015,
          2011,
          2018,
          2018,
          2018,
          2018,
          2018,
          2018,
          2019,
          2019,
          2019,
          2019,
          2014,
          2018,
          2012,
          2018,
          2019,
          2018,
          2018,
          2008,
          2018,
          2018,
          2015,
          2015,
          2014,
          2017,
          2018,
          2013,
          2013,
          2017,
          2014,
          2015,
          2012,
          2018,
          2006,
          2018,
          2018,
          2016,
          2019,
          2019,
          2019,
          2019,
          2018,
          2018,
          2018,
          2018,
          2001,
          2017,
          2018,
          2015,
          2018,
          2018,
          2017,
          2018,
          2012,
          2017,
          2004,
          2012,
          2015,
          2019,
          2018,
          2006,
          2002,
          2019,
          2018,
          2017,
          2008,
          2018,
          2018,
          2019,
          2018,
          2018,
          2018,
          2018,
          2019,
          2019,
          2019,
          2019,
          2018,
          2017,
          2018,
          2018,
          2019,
          2018,
          2018,
          2018,
          2019,
          2018,
          2017,
          2016,
          2018,
          2019,
          2014,
          2018,
          2017,
          2018,
          2019,
          2018,
          2018,
          2019,
          2019,
          2018,
          2017,
          2018,
          2010,
          2010,
          2017,
          2019,
          2018,
          2018,
          2018,
          2012,
          2018,
          2016,
          2015,
          2017,
          2018,
          2018,
          2018,
          2018,
          2018,
          2019,
          2019,
          2018,
          2019,
          2017,
          2019,
          2018,
          2017,
          2019,
          2019,
          2019,
          2019,
          2017,
          2018,
          2019,
          2018,
          2019,
          2019,
          2017,
          2016,
          2018,
          2018,
          2002,
          2017,
          2018,
          2018,
          2019,
          2016,
          2017,
          2016,
          2018,
          2017,
          2018,
          2019,
          2018,
          2019,
          2019,
          2018,
          2019,
          2017,
          2018,
          2018,
          2018,
          2018,
          1999,
          2018,
          2018,
          2018,
          2017,
          2013,
          1975,
          2019,
          2015,
          2019,
          2018,
          2012,
          2017,
          2017,
          2017,
          2018,
          2019,
          2010,
          1991,
          2015,
          1992,
          1993,
          1989,
          2013,
          2008,
          2016,
          1987,
          1991,
          1991,
          2016,
          2018,
          2018,
          2018,
          1990,
          1991,
          2011,
          2008,
          2012,
          2011,
          1925,
          2018,
          2018,
          2018,
          2015,
          2012,
          2018,
          2018,
          2018,
          2018,
          2018,
          2011,
          2018,
          2018,
          2018,
          2018,
          2018,
          2018,
          2018,
          2017,
          2018,
          2017,
          2016,
          2018,
          2018,
          2018,
          2018,
          2011,
          2018,
          2015,
          2012,
          2015,
          2014,
          2018,
          2018,
          2018,
          2018,
          2018,
          2018,
          2014,
          2011,
          2014,
          2014,
          2018,
          2014,
          2018,
          2018,
          2017,
          2018,
          2018,
          2018,
          2018,
          2017,
          2018,
          2018,
          2018,
          2018,
          2018,
          2018,
          2018,
          2018,
          2018,
          2018,
          2018,
          2018,
          2018,
          2018,
          2018,
          2018,
          2018,
          2018,
          2018,
          2018,
          2018,
          2018,
          2018,
          2018,
          2018,
          2018,
          2011,
          2009,
          2018,
          2018,
          2013,
          2014,
          2014,
          2018,
          2011,
          2014,
          2015,
          2017,
          2015,
          2016,
          2009,
          2018,
          2010,
          2017,
          2017,
          2013,
          2008,
          2018,
          2018,
          2018,
          2018,
          2018,
          2018,
          2018,
          2018,
          2018,
          2018,
          2018,
          2018,
          2018,
          2015,
          2018,
          2018,
          2018,
          2018,
          2018,
          2018,
          2018,
          2018,
          2017,
          2018,
          2018,
          2018,
          2018,
          2018,
          2007,
          2017,
          2016,
          2016,
          2018,
          2018,
          2018,
          2018,
          2018,
          2018,
          2018,
          2017,
          2017,
          2018,
          2018,
          2015,
          2018,
          2018,
          2017,
          2018,
          2018,
          2018,
          2017,
          2009,
          2017,
          2018,
          2018,
          2018,
          2018,
          2018,
          2018,
          2017,
          2017,
          2018,
          2018,
          2003,
          2018,
          2018,
          2018,
          2018,
          2018,
          2018,
          2009,
          2008,
          2015,
          2013,
          2011,
          2018,
          2012,
          2010,
          2018,
          2006,
          2015,
          2007,
          2009,
          2010,
          2018,
          2017,
          2018,
          2015,
          2013,
          2012,
          2007,
          2012,
          2013,
          2012,
          2013,
          2013,
          2012,
          2006,
          2015,
          2007,
          2013,
          2008,
          2014,
          2011,
          2008,
          2010,
          2014,
          2013,
          2013,
          2014,
          2015,
          2012,
          2017,
          2016,
          2008,
          2014,
          2011,
          2018,
          2015,
          2018,
          2006,
          2018,
          2018,
          2018,
          2018,
          2018,
          2018,
          2018,
          2009,
          2017,
          2018,
          2015,
          2018,
          2018,
          2018,
          2017,
          2018,
          2018,
          2017,
          2018,
          2018,
          2018,
          2018,
          2018,
          2018,
          2018,
          2013,
          2018,
          2017,
          2016,
          2018,
          2018,
          2018,
          2012,
          2018,
          2018,
          2017,
          2018,
          2018,
          2018,
          2018,
          2018,
          2018,
          2018,
          2018,
          2018,
          2018,
          2018,
          2018,
          2018,
          2018,
          2018,
          2018,
          2018,
          2018,
          2018,
          2018,
          2017,
          2018,
          2018,
          2018,
          2018,
          2018,
          2018,
          2018,
          2018,
          2018,
          2017,
          2017,
          2017,
          2012,
          2018,
          2014,
          2008,
          2014,
          2000,
          1998,
          1982,
          2014,
          2009,
          1972,
          1974,
          1979,
          2005,
          1989,
          2013,
          2016,
          2017,
          2009,
          2014,
          2016,
          2009,
          2009,
          2014,
          2017,
          2012,
          2018,
          2013,
          2014,
          2009,
          2018,
          2017,
          2014,
          2008,
          2015,
          2009,
          2018,
          2014,
          2009,
          2008,
          2009,
          2016,
          2012,
          2005,
          2017,
          2016,
          2012,
          2011,
          2011,
          2018,
          2018,
          2009,
          2014,
          2013,
          2013,
          2016,
          2016,
          2015,
          2014,
          2013,
          2008,
          2013,
          2015,
          2017,
          2016,
          2012,
          2018,
          2013,
          2018,
          2016,
          2010,
          2012,
          2009,
          2010,
          2015,
          2016,
          2012,
          2018,
          2018,
          2018,
          2018,
          2018,
          2018,
          2018,
          2018,
          2018,
          2018,
          2018,
          2018,
          2018,
          2018,
          2018,
          2018,
          2014,
          2016,
          2017,
          2018,
          2018,
          2018,
          2018,
          2018,
          2018,
          2018,
          2018,
          2018,
          2018,
          2018,
          2018,
          2018,
          2018,
          2004,
          2013,
          2016,
          2018,
          2018,
          2018,
          2018,
          2018,
          2018,
          2018,
          2014,
          2018,
          2018,
          2018,
          2018,
          2017,
          2018,
          2018,
          2017,
          2018,
          2018,
          2017,
          2017,
          2018,
          2018,
          2018,
          2018,
          2018,
          2017,
          2017,
          2017,
          2017,
          2018,
          2012,
          2018,
          2018,
          1998,
          2018,
          2018,
          2018,
          2017,
          2017,
          2017,
          2018,
          2017,
          2018,
          2018,
          2017,
          2018,
          2018,
          2018,
          2015,
          2018,
          2018,
          2018,
          2018,
          2018,
          2018,
          2018,
          2018,
          2018,
          2018,
          2014,
          2016,
          2018,
          2018,
          2018,
          2018,
          2018,
          2011,
          2011,
          2008,
          2016,
          2000,
          2010,
          2014,
          2014,
          2010,
          2012,
          2009,
          2016,
          2010,
          2006,
          2012,
          2015,
          2012,
          2011,
          2005,
          2018,
          2018,
          2017,
          2018,
          2018,
          2018,
          2018,
          2005,
          2012,
          2007,
          2017,
          2018,
          2018,
          2018,
          2018,
          2018,
          2018,
          2018,
          2018,
          2018,
          2018,
          2018,
          2018,
          2018,
          2018,
          2018,
          2018,
          2018,
          2018,
          2018,
          2018,
          2018,
          2018,
          2018,
          2018,
          2018,
          2018,
          2018,
          2017,
          2018,
          2018,
          2018,
          2018,
          2018,
          2018,
          2018,
          2018,
          2013,
          2012,
          2012,
          2012,
          2018,
          2006,
          2013,
          2003,
          2013,
          2018,
          2010,
          2018,
          2007,
          2017,
          2015,
          2010,
          2017,
          2018,
          2012,
          2017,
          2017,
          2018,
          2018,
          2018,
          2018,
          2018,
          2018,
          2018,
          2017,
          2018,
          2018,
          2014,
          2018,
          2018,
          2016,
          2018,
          2018,
          2018,
          2018,
          2018,
          2018,
          2018,
          2017,
          2018,
          2017,
          2017,
          2018,
          2018,
          2018,
          2018,
          2018,
          2018,
          2017,
          2008,
          2017,
          2017,
          2018,
          2018,
          2015,
          2019,
          2019,
          2018,
          2018,
          2018,
          2018,
          2018,
          2018,
          2018,
          2018,
          2018,
          2018,
          2018,
          2017,
          2007,
          2017,
          2018,
          1979,
          2009,
          2018,
          2017,
          2018,
          2018,
          2018,
          2018,
          2018,
          2018,
          2007,
          2018,
          2018,
          2018,
          2018,
          2018,
          2018,
          2018,
          2018,
          2018,
          2017,
          2017,
          2018,
          2017,
          2017,
          2017,
          2017,
          2018,
          2017,
          2018,
          2018,
          2015,
          2008,
          2015,
          2015,
          2014,
          2016,
          2016,
          2016,
          2017,
          2017,
          2017,
          2017,
          2017,
          2017,
          2018,
          2018,
          2016,
          2017,
          2016,
          2018,
          2018,
          2016,
          2016,
          2018,
          2017,
          2018,
          2018,
          2018,
          2018,
          2018,
          2018,
          2017,
          2017,
          2018,
          2018,
          2017,
          2018,
          2018,
          2018,
          2017,
          2018,
          2017,
          2018,
          2018,
          2017,
          2018,
          2018,
          2017,
          2018,
          2018,
          2017,
          2018,
          2018,
          2017,
          1993,
          2017,
          2009,
          2017,
          2012,
          2017,
          2004,
          2016,
          2007,
          2005,
          2000,
          2017,
          2017,
          2018,
          2018,
          2018,
          2018,
          2018,
          2018,
          2009,
          2006,
          2018,
          2018,
          2016,
          2018,
          2016,
          2018,
          2018,
          2018,
          2017,
          2018,
          2018,
          2018,
          2018,
          2018,
          2018,
          2016,
          2016,
          2016,
          2017,
          2017,
          2018,
          2017,
          2018,
          2018,
          2018,
          2018,
          2018,
          2018,
          2018,
          2017,
          2017,
          2018,
          2017,
          2018,
          2018,
          2018,
          2017,
          2017,
          2018,
          2018,
          1998,
          2007,
          2017,
          2016,
          2016,
          2017,
          2017,
          2004,
          2014,
          2014,
          2014,
          2008,
          2004,
          2016,
          2004,
          2017,
          2018,
          2018,
          2017,
          2016,
          2018,
          2018,
          2018,
          2017,
          2017,
          2017,
          2017,
          2018,
          2018,
          2018,
          2018,
          2017,
          2018,
          2018,
          2018,
          2018,
          2018,
          2018,
          2018,
          2017,
          2018,
          2018,
          2018,
          2017,
          2017,
          2017,
          2017,
          2016,
          2017,
          1998,
          2016,
          2017,
          2018,
          2018,
          2018,
          2018,
          2018,
          2017,
          2017,
          2018,
          2018,
          2017,
          2018,
          2017,
          2018,
          2018,
          2018,
          2017,
          2017,
          2018,
          2017,
          2018,
          1980,
          1986,
          2017,
          2018,
          2017,
          2018,
          2017,
          2018,
          2018,
          2017,
          2016,
          2017,
          2016,
          2018,
          2017,
          2017,
          2003,
          2010,
          2018,
          2000,
          2017,
          2017,
          2017,
          2016,
          2017,
          2017,
          2015,
          2017,
          2017,
          2017,
          2017,
          2017,
          2017,
          2017,
          2017,
          2017,
          2017,
          2016,
          2017,
          2017,
          2017,
          2015,
          2017,
          2017,
          2017,
          2015,
          2017,
          2017,
          2017,
          2016,
          2017,
          1986,
          1991,
          2006,
          2017,
          2017,
          2017,
          2017,
          2017,
          2017,
          2015,
          2017,
          2017,
          2017,
          2017,
          2017,
          2015,
          2016,
          2017,
          2017,
          2017,
          2017,
          2017,
          2017,
          2016,
          2017,
          2017,
          2017,
          2017,
          2017,
          2017,
          2017,
          2017,
          2017,
          2017,
          2017,
          2017,
          2017,
          2017,
          2017,
          2014,
          2015,
          2017,
          2017,
          2017,
          2017,
          2017,
          2017,
          2017,
          2017,
          2002,
          2017,
          2016,
          2017,
          2017,
          2015,
          2017,
          1978,
          2016,
          2016,
          2016,
          2017,
          2010,
          2007,
          2009,
          2008,
          2009,
          2017,
          2016,
          2017,
          2017,
          2017,
          2017,
          2016,
          2015,
          2017,
          2017,
          2017,
          2017,
          2017,
          2017,
          2017,
          2017,
          2017,
          2017,
          2017,
          2016,
          2012,
          2017,
          2015,
          2017,
          1960,
          2015,
          2016,
          2016,
          2017,
          2017,
          2017,
          2017,
          2016,
          2017,
          2017,
          2017,
          2017,
          2017,
          2017,
          2012,
          2016,
          2017,
          2017,
          2016,
          2017,
          2016,
          2012,
          2016,
          2004,
          2000,
          2013,
          2009,
          2016,
          2017,
          2017,
          2017,
          2017,
          2017,
          2015,
          2017,
          2017,
          2017,
          2017,
          2014,
          2015,
          2017,
          2017,
          2017,
          2014,
          2017,
          2017,
          2016,
          2017,
          2017,
          2017,
          2017,
          2017,
          2017,
          2017,
          2017,
          2017,
          2017,
          2016,
          2017,
          2017,
          2017,
          2016,
          2017,
          2016,
          2017,
          2016,
          2016,
          2017,
          2017,
          1988,
          2017,
          2012,
          2013,
          2006,
          1976,
          1983,
          2017,
          2007,
          1988,
          1973,
          2017,
          2017,
          1974,
          1989,
          2017,
          2016,
          2017,
          2016,
          1984,
          2016,
          2016,
          2016,
          2017,
          2016,
          2017,
          2016,
          2017,
          2017,
          2017,
          2017,
          2017,
          2011,
          2017,
          2013,
          2017,
          2015,
          2017,
          2017,
          2017,
          2015,
          2017,
          2015,
          2017,
          2017,
          2017,
          2017,
          2015,
          2015,
          2015,
          2015,
          2016,
          2017,
          2017,
          2017,
          2017,
          2017,
          2011,
          2016,
          2014,
          2015,
          2016,
          2016,
          2016,
          2016,
          2014,
          2016,
          2017,
          2016,
          2016,
          2017,
          2016,
          2011,
          2013,
          2015,
          2012,
          2009,
          2017,
          2017,
          2017,
          2016,
          2017,
          2017,
          2017,
          2017,
          2017,
          2017,
          2017,
          2014,
          2014,
          2017,
          2017,
          2015,
          2012,
          2012,
          2017,
          2008,
          2012,
          2016,
          2011,
          2014,
          1966,
          2012,
          2010,
          2018,
          2016,
          1971,
          2015,
          2013,
          2014,
          1962,
          2014,
          2016,
          2011,
          2016,
          2009,
          2012,
          2014,
          1994,
          2014,
          2012,
          2016,
          2017,
          2017,
          2017,
          2017,
          2017,
          2015,
          2017,
          2017,
          2016,
          2017,
          2014,
          2017,
          2017,
          2016,
          2017,
          2017,
          2017,
          2017,
          2017,
          2017,
          2017,
          2016,
          2016,
          2017,
          2016,
          2015,
          2016,
          2017,
          2017,
          2017,
          2016,
          2016,
          2016,
          2017,
          2017,
          1993,
          2017,
          2016,
          2017,
          2017,
          2015,
          2016,
          2017,
          1993,
          2017,
          2015,
          2016,
          2015,
          1995,
          1969,
          1998,
          2016,
          2016,
          2016,
          2017,
          2011,
          2017,
          2017,
          2017,
          2017,
          2017,
          2017,
          2016,
          2017,
          2017,
          2017,
          2017,
          2017,
          2017,
          1992,
          1994,
          2016,
          2010,
          1995,
          2016,
          2016,
          2017,
          2017,
          2017,
          2017,
          2017,
          2017,
          2017,
          2017,
          2017,
          2017,
          2016,
          1996,
          1996,
          2016,
          2016,
          2017,
          2017,
          2015,
          2016,
          2016,
          2017,
          2015,
          2010,
          2017,
          2017,
          2015,
          2017,
          2016,
          2016,
          2016,
          2017,
          2016,
          2017,
          2017,
          2017,
          2017,
          2017,
          2017,
          2014,
          2014,
          2016,
          2017,
          2016,
          2016,
          2016,
          2017,
          2016,
          2016,
          2017,
          2016,
          2017,
          2016,
          2017,
          2017,
          2005,
          2016,
          2016,
          1971,
          2015,
          2014,
          2010,
          1975,
          2017,
          2016,
          2016,
          2016,
          2017,
          2016,
          2017,
          2017,
          2017,
          2017,
          2016,
          2017,
          2017,
          2015,
          2016,
          2017,
          2017,
          2015,
          2016,
          2017,
          1992,
          2001,
          2006,
          2016,
          2001,
          2016,
          2017,
          2016,
          2017,
          2017,
          2016,
          2013,
          2017,
          2010,
          2016,
          2016,
          2017,
          2016,
          2015,
          2015,
          2017,
          2017,
          2016,
          2015,
          2017,
          2016,
          2016,
          2016,
          2013,
          2016,
          2015,
          2016,
          2010,
          2016,
          2016,
          2015,
          2017,
          2017,
          2016,
          2017,
          2016,
          2017,
          1977,
          2017,
          2017,
          2014,
          2015,
          2014,
          2015,
          2016,
          2016,
          2014,
          2017,
          2015,
          2016,
          2017,
          2016,
          2017,
          2017,
          2016,
          2017,
          2017,
          2008,
          2014,
          2014,
          2014,
          2016,
          2017,
          2015,
          2017,
          2017,
          2016,
          2017,
          2013,
          2016,
          2016,
          2017,
          2016,
          2007,
          2011,
          1999,
          2016,
          2016,
          2016,
          2016,
          2016,
          2016,
          2016,
          2018,
          2016,
          2016,
          2016,
          2016,
          2016,
          2015,
          2012,
          2015,
          2012,
          2012,
          2011,
          2016,
          2012,
          2001,
          2012,
          2012,
          2012,
          2016,
          2017,
          2016,
          2016,
          2016,
          2015,
          2016,
          2016,
          2016,
          2016,
          2015,
          2016,
          2016,
          2016,
          2016,
          2016,
          2016,
          2016,
          2016,
          2016,
          2014,
          2013,
          2015,
          2016,
          2015,
          2015,
          2016,
          2016,
          1979,
          2016,
          2016,
          2016,
          2016,
          2016,
          2012,
          2016,
          2012,
          2016,
          2016,
          2016,
          2016,
          2016,
          2012,
          2016,
          2009,
          2016,
          2015,
          2016,
          2016,
          2016,
          2015,
          2011,
          2013,
          2013,
          2013,
          2012,
          2012,
          2016,
          2016,
          2015,
          2016,
          2016,
          2016,
          2016,
          2016,
          2016,
          2016,
          2016,
          2016,
          2016,
          2016,
          2012,
          2008,
          2010,
          2015,
          2006,
          2015,
          2008,
          2016,
          2016,
          2016,
          2016,
          2016,
          2016,
          2016,
          2016,
          2015,
          2015,
          2016,
          2015,
          2014,
          2010,
          2014,
          2012,
          2016,
          2015,
          2015,
          2016,
          2015,
          2016,
          2016,
          2015,
          2015,
          2016,
          2013,
          2015,
          2016,
          2016,
          2016,
          2016,
          2016,
          2016,
          2016,
          2016,
          2016,
          2016,
          2016,
          2016,
          2010,
          2016,
          2012,
          2016,
          2016,
          2016,
          2016,
          2015,
          2008,
          2011,
          2016,
          2010,
          2015,
          2016,
          2016,
          2016,
          2016,
          2001,
          2015,
          2015,
          2010,
          2005,
          2009,
          2012,
          2014,
          2016,
          2011,
          1994,
          2005,
          2008,
          2008,
          2016,
          2008,
          2016,
          2016,
          2016,
          2016,
          2016,
          2015,
          2016,
          2016,
          2016,
          2016,
          2015,
          2016,
          2016,
          2016,
          2015,
          2016,
          2016,
          2016,
          2016,
          2016,
          2016,
          2016,
          2016,
          2016,
          2016,
          2016,
          2015,
          2007,
          2012,
          2016,
          2016,
          2015,
          2016,
          2016,
          2016,
          2016,
          2014,
          2016,
          2015,
          2016,
          2016,
          2016,
          2016,
          2012,
          2016,
          2016,
          2008,
          2010,
          2016,
          2015,
          2014,
          2015,
          2015,
          2015,
          2015,
          2015,
          2015,
          2015,
          2015,
          2015,
          2015,
          2015,
          2015,
          2015,
          2015,
          2015,
          2015,
          2015,
          2014,
          2015,
          2014,
          2015,
          2015,
          2015,
          2015,
          2015,
          2014,
          2015,
          2015,
          2015,
          2015,
          1992,
          2014,
          2015,
          2015,
          2015,
          2015,
          2011,
          2015,
          2015,
          2015,
          2015,
          2015,
          2014,
          2014,
          2014,
          1998,
          2014,
          2014,
          2014,
          2014,
          2014,
          2014,
          2014,
          2014,
          2013,
          2013,
          2014,
          2013,
          2013,
          2013,
          2013,
          2007,
          2013,
          2011,
          1988,
          1986,
          1986,
          1990,
          1988,
          1987,
          1989,
          1988,
          1991,
          1990,
          1991,
          2000,
          2010,
          2009,
          2007,
          2006,
          2009,
          2008,
          1997,
          2019,
          2008,
          2014,
          2018,
          2018,
          2019,
          2017,
          2018,
          2017,
          2017,
          2015,
          2020,
          2018,
          2016,
          2017,
          2010,
          2005,
          2013,
          2014,
          2017,
          2008,
          2018,
          2016,
          2017,
          2017,
          2014,
          2015,
          2014,
          2017,
          2010,
          2018,
          2006,
          2009,
          2019,
          2018,
          2013,
          2015,
          2018,
          2016,
          2013,
          2018,
          2016,
          2017,
          2018,
          2017,
          2000,
          2003,
          2015,
          2016,
          2018,
          2016,
          2011,
          1989,
          2017,
          2015,
          2017,
          2014,
          2004,
          2011,
          2012,
          2017,
          2014,
          2017,
          2019,
          2018,
          2016,
          2017,
          2016,
          2016,
          1977,
          1971,
          1993,
          2015,
          2016,
          2016,
          2012,
          2013,
          2017,
          2013,
          2019,
          2011,
          2016,
          2018,
          2010,
          2012,
          2014,
          2014,
          2017,
          1998,
          2015,
          2015,
          2013,
          2011,
          2011,
          2016,
          2011,
          2009,
          2015,
          2015,
          1996,
          2012,
          2002,
          2008,
          2017,
          2018,
          2013,
          2015,
          2019,
          2018,
          2011,
          2017,
          2013,
          2011,
          2010,
          2010,
          2015,
          2012,
          2016,
          2017,
          2012,
          2002,
          2015,
          2016,
          2015,
          2007,
          2012,
          2010,
          2018,
          2018,
          2014,
          2013,
          2017,
          2018,
          2013,
          2012,
          2018,
          2008,
          2012,
          2018,
          2017,
          2010,
          2015,
          2006,
          2012,
          2014,
          2015,
          2004,
          2017,
          2016,
          2018,
          1974,
          2017,
          2018,
          2016,
          2018,
          1989,
          2019,
          2016,
          2018,
          2006,
          2018,
          2016,
          2001,
          2013,
          2014,
          2014,
          2017,
          2019,
          2015,
          1977,
          2011,
          2014,
          2016,
          2017,
          1999,
          2017,
          2017,
          2017,
          2018,
          2018,
          2019,
          2014,
          1998,
          2016,
          2018,
          2015,
          2000,
          2019,
          2015,
          2013,
          1986,
          1991,
          1999,
          2000,
          2012,
          2012,
          2018,
          2014,
          2017,
          2017,
          2018,
          2015,
          2001,
          2003,
          2015,
          2018,
          2018,
          2013,
          2016,
          2016,
          2018,
          2017,
          2018,
          2018,
          2018,
          2007,
          2012,
          2017,
          2016,
          2011,
          2015,
          2015,
          2018,
          2011,
          2011,
          2011,
          2014,
          1997,
          2019,
          2016,
          2016,
          2018,
          2012,
          2016,
          2014,
          2016,
          1994,
          2016,
          2014,
          2018,
          2017,
          2016,
          2013,
          2005,
          2006,
          2016,
          2016,
          2014,
          2019,
          2015,
          1995,
          2003,
          2014,
          2017,
          2016,
          2013,
          2006,
          2019,
          2016,
          1995,
          2001,
          2004,
          2017,
          2015,
          2017,
          2015,
          2010,
          2016,
          2002,
          2009,
          2015,
          2009,
          2017,
          2013,
          2010,
          2015,
          2015,
          2016,
          2010,
          2011,
          2016,
          2012,
          2017,
          2015,
          2013,
          1995,
          1998,
          1992,
          2016,
          2017,
          2018,
          2015,
          2016,
          1972,
          1982,
          2015,
          2016,
          2018,
          2013,
          1997,
          2013,
          2010,
          2015,
          2016,
          2016,
          1996,
          1992,
          2008,
          2016,
          2007,
          2008,
          2016,
          2015,
          2017,
          2015,
          2010,
          2016,
          2015,
          2016,
          2016,
          2016,
          2019,
          2004,
          1978,
          2012,
          2019,
          2014,
          2017,
          2005,
          2010,
          2009,
          2013,
          2018,
          2013,
          2015,
          2006,
          2018,
          2007,
          2003,
          2017,
          1997,
          2017,
          1999,
          2017,
          2002,
          2018,
          2017,
          2017,
          2002,
          2010,
          2000,
          2018,
          2017,
          2015,
          2018,
          2017,
          2016,
          2016,
          2018,
          2012,
          2019,
          2001,
          2014,
          2015,
          2018,
          2017,
          2007,
          2017,
          2013,
          2015,
          2018,
          2016,
          2015,
          2017,
          2016,
          2016,
          2001,
          2013,
          2013,
          2016,
          2017,
          2013,
          1999,
          2010,
          2017,
          2018,
          1991,
          2015,
          2017,
          1973,
          2018,
          2016,
          2017,
          2008,
          2017,
          2015,
          2016,
          1967,
          2003,
          2016,
          2017,
          2017,
          2016,
          2013,
          2017,
          2013,
          2016,
          2016,
          2018,
          2007,
          2013,
          2016,
          2014,
          2015,
          2018,
          2005,
          2017,
          2015,
          2009,
          2017,
          2016,
          2016,
          2017,
          2017,
          2013,
          2018,
          2016,
          2018,
          2017,
          2010,
          2017,
          2018,
          2012,
          2017,
          1960,
          2016,
          2016,
          2017,
          2014,
          2016,
          2009,
          2018,
          2015,
          2018,
          2017,
          2017,
          2016,
          2014,
          2016,
          2017,
          2014,
          2014,
          2012,
          1998,
          1992,
          2016,
          2019,
          2017,
          2016,
          2012,
          2008,
          2015,
          1976,
          2009,
          2012,
          2015,
          2006,
          1992,
          1992,
          2015,
          1958,
          2015,
          2010,
          2018,
          2016,
          2012,
          2000,
          2014,
          2010,
          2000,
          2017,
          2010,
          2018,
          2016,
          2017,
          2005,
          2003,
          1973,
          2013,
          1997,
          2016,
          2017,
          2016,
          2015,
          2016,
          1992,
          2017,
          2012,
          1999,
          2017,
          2018,
          2018,
          2018,
          2019,
          2017,
          2005,
          2018,
          1988,
          1994,
          2017,
          2017,
          2012,
          1968,
          2009,
          2017,
          2014,
          2018,
          2012,
          2015,
          2004,
          2018,
          2006,
          2017,
          2017,
          1975,
          2009,
          2016,
          2002,
          2016,
          2018,
          2019,
          2010,
          1993,
          2018,
          2012,
          1973,
          2006,
          2017,
          2017,
          2013,
          2012,
          2014,
          2008,
          2015,
          2016,
          2017,
          2016,
          2016,
          2016,
          2005,
          2007,
          2017,
          2017,
          1999,
          2016,
          2015,
          2008,
          2016,
          2016,
          2018,
          2017,
          2002,
          2016,
          2018,
          2016,
          2013,
          2014,
          2017,
          2014,
          2008,
          2014,
          2018,
          1967,
          2017,
          2016,
          2009,
          2018,
          2017,
          2016,
          2004,
          2016,
          2017,
          2000,
          2017,
          2013,
          2015,
          2015,
          1989,
          1977,
          2003,
          2019,
          2015,
          2017,
          2015,
          2013,
          2013,
          2017,
          2016,
          2016,
          2012,
          2015,
          1997,
          2015,
          2016,
          2016,
          2015,
          2003,
          2015,
          2016,
          1991,
          2017,
          2017,
          2017,
          2018,
          2015,
          2018,
          2006,
          2018,
          2016,
          2016,
          2012,
          2011,
          2010,
          2017,
          2017,
          2017,
          2016,
          2002,
          2016,
          2018,
          2014,
          2018,
          1992,
          2018,
          2017,
          2017,
          2016,
          2019,
          2016,
          2017,
          2017,
          2004,
          2013,
          2007,
          2018,
          2017,
          2017,
          2015,
          2002,
          2002,
          2007,
          2010,
          2016,
          1985,
          2017,
          2017,
          2009,
          2017,
          1965,
          2016,
          2019,
          2014,
          2019,
          2015,
          2015,
          2010,
          2015,
          2016,
          2017,
          2016,
          2016,
          2016,
          1997,
          2005,
          2013,
          1989,
          2008,
          2017,
          2003,
          2018,
          1996,
          2015,
          2000,
          2017,
          2018,
          2016,
          2017,
          2017,
          2017,
          2018,
          2015,
          2015,
          2014,
          2003,
          2003,
          2016,
          2014,
          2014,
          2015,
          2018,
          2015,
          2010,
          2009,
          2010,
          1983,
          2018,
          2015,
          2009,
          2004,
          2012,
          2013,
          2008,
          2010,
          1979,
          2017,
          2010,
          2017,
          2017,
          2016,
          2006,
          2016,
          2019,
          2014,
          2015,
          2016,
          2015,
          2016,
          2016,
          2016,
          2017,
          2014,
          2006,
          2018,
          2002,
          2016,
          2012,
          2018,
          2013,
          2016,
          2018,
          1973,
          2015,
          2002,
          1990,
          1985,
          2016,
          2018,
          2018,
          2019,
          2007,
          1997,
          2019,
          2019,
          2014,
          2001,
          2015,
          2011,
          2008,
          1996,
          2013,
          2012,
          2001,
          2019,
          2006,
          2010,
          2011,
          2014,
          2009,
          2017,
          2017,
          2009,
          2015,
          2011,
          2019,
          1998,
          2017,
          2015,
          2019,
          2014,
          2017,
          2016,
          2017,
          1998,
          2015,
          2017,
          1971,
          2015,
          2008,
          2016,
          2015,
          2017,
          2015,
          2000,
          2003,
          2006,
          2016,
          2013,
          2018,
          2017,
          2016,
          2017,
          2015,
          2015,
          2019,
          1982,
          2014,
          2008,
          2016,
          2018,
          2016,
          1978,
          2017,
          2017,
          2011,
          2015,
          2010,
          2015,
          2012,
          2019,
          2018,
          1977,
          2017,
          2017,
          1956,
          2016,
          2018,
          2016,
          2011,
          2011,
          2008,
          2016,
          1994,
          2007,
          2012,
          2003,
          2018,
          2007,
          1993,
          2015,
          2016,
          2015,
          2019,
          2017,
          2009,
          2016,
          2003,
          2017,
          2010,
          2016,
          2011,
          2011,
          2011,
          2008,
          2015,
          2016,
          2019,
          2017,
          2009,
          2017,
          2018,
          2013,
          2016,
          2017,
          2009,
          2014,
          2002,
          2013,
          2009,
          2011,
          2016,
          2016,
          2018,
          2017,
          2015,
          2016,
          2016,
          2003,
          2011,
          2010,
          2014,
          2017,
          2008,
          2005,
          1990,
          2017,
          2013,
          2007,
          2014,
          2012,
          2013,
          1997,
          2005,
          1958,
          2012,
          2013,
          2012,
          2010,
          2018,
          2016,
          2017,
          2014,
          2018,
          2017,
          1979,
          2013,
          1995,
          2019,
          2017,
          2016,
          2006,
          2016,
          2018,
          2015,
          2016,
          2014,
          2019,
          2012,
          2005,
          2014,
          1990,
          2017,
          2011,
          2018,
          2001,
          2012,
          2003,
          2015,
          2008,
          2017,
          2013,
          2013,
          2017,
          1978,
          2016,
          2017,
          2015,
          2016,
          2016,
          2016,
          2015,
          2008,
          2015,
          2015,
          2013,
          2013,
          2016,
          2010,
          2014,
          2007,
          2009,
          2015,
          2000,
          1987,
          2017,
          2017,
          2013,
          2015,
          2017,
          2013,
          2017,
          2014,
          2016,
          2015,
          2015,
          2015,
          2005,
          2008,
          2004,
          2015,
          2014,
          2010,
          2017,
          2015,
          2016,
          2014,
          1999,
          2015,
          2017,
          2018,
          2017,
          2015,
          2016,
          2011,
          2015,
          2018,
          2018,
          1998,
          2017,
          2001,
          2017,
          2018,
          2016,
          2015,
          2015,
          2016,
          2016,
          2004,
          2013,
          2018,
          1976,
          2016,
          1997,
          2018,
          2017,
          2015,
          2010,
          2016,
          2015,
          2016,
          1988,
          2016,
          2015,
          2010,
          2015,
          2017,
          2016,
          2005,
          2016,
          2017,
          2015,
          2016,
          2006,
          2015,
          2016,
          2016,
          2008,
          2010,
          2017,
          2019,
          2011,
          2018,
          2011,
          2018,
          2018,
          2017,
          2015,
          2013,
          2016,
          2013,
          2016,
          2017,
          2017,
          2016,
          2016,
          2007,
          2017,
          1975,
          2018,
          2012,
          2016,
          2016,
          2017,
          2000,
          2017,
          1997,
          2015,
          2018,
          1995,
          2016,
          2012,
          2009,
          1999,
          2006,
          2011,
          2014,
          2010,
          2015,
          2015,
          2011,
          2016,
          2018,
          2005,
          2018,
          2016,
          2010,
          2016,
          2017,
          2018,
          2016,
          2016,
          2015,
          2018,
          2016,
          2011,
          2017,
          2014,
          2016,
          2015,
          2013,
          2019,
          2016,
          2014,
          2010,
          2014,
          2008,
          2013,
          2009,
          1974,
          2012,
          2017,
          2017,
          2014,
          2019,
          2017,
          2017,
          2015,
          2018,
          2014,
          2015,
          2008,
          1989,
          1981,
          1984,
          2016,
          2013,
          2016,
          2009,
          2008,
          2005,
          2017,
          2015,
          2017,
          2018,
          2013,
          2007,
          2016,
          2015,
          2004,
          2003,
          2002,
          2009,
          2018,
          2017,
          2006,
          2010,
          2018,
          2014,
          2011,
          2015,
          2014,
          2015,
          2013,
          1995,
          2012,
          2015,
          2017,
          2014,
          2018,
          2006,
          2013,
          2018,
          2016,
          1997,
          2015,
          2009,
          2014,
          2013,
          2012,
          2016,
          2008,
          2001,
          1973,
          2019,
          2015,
          2008,
          2014,
          2018,
          2016,
          2009,
          1973,
          2017,
          2011,
          1960,
          2017,
          2005,
          2012,
          2013,
          2017,
          2018,
          2015,
          2017,
          2015,
          2016,
          1997,
          2011,
          2017,
          2009,
          2014,
          2011,
          2005,
          2015,
          2005,
          1992,
          2011,
          2012,
          2002,
          2013,
          2017,
          2015,
          1981,
          2017,
          2016,
          2016,
          2014,
          2010,
          2016,
          2017,
          2017,
          2008,
          2001,
          1982,
          2006,
          2017,
          2005,
          1990,
          2014,
          1996,
          2011,
          2013,
          2010,
          2017,
          2017,
          1993,
          2018,
          2013,
          2006,
          2011,
          1980,
          2003,
          2018,
          2017,
          2016,
          1995,
          2015,
          2015,
          2010,
          2003,
          2004,
          2016,
          2015,
          2016,
          2011,
          1988,
          2010,
          2016,
          2014,
          2015,
          2005,
          2018,
          1996,
          2017,
          2015,
          1997,
          2016,
          2017,
          2013,
          2015,
          2015,
          1945,
          2009,
          2016,
          2014,
          2012,
          1972,
          2014,
          2009,
          2013,
          2016,
          2012,
          2017,
          2017,
          2010,
          2013,
          2015,
          2019,
          2013,
          2017,
          2017,
          2004,
          2010,
          2010,
          2017,
          2017,
          1998,
          2014,
          2012,
          2000,
          2017,
          2004,
          2016,
          2017,
          1987,
          2016,
          2012,
          2016,
          2017,
          2010,
          2016,
          2016,
          2011,
          2016,
          2006,
          2018,
          2015,
          2010,
          2011,
          2017,
          2015,
          2019,
          2015,
          2010,
          2017,
          2014,
          2010,
          2003,
          2011,
          2011,
          2011,
          2018,
          2017,
          2014,
          2010,
          2017,
          1982,
          2017,
          2010,
          2017,
          2018,
          2018,
          2016,
          2017,
          2013,
          2016,
          1946,
          2014,
          2018,
          2014,
          2014,
          2018,
          2009,
          2014,
          2018,
          1997,
          2018,
          1992,
          2015,
          2012,
          2012,
          2013,
          1990,
          1983,
          2015,
          2016,
          2016,
          2016,
          2000,
          2018,
          2019,
          2019,
          2016,
          2017,
          2014,
          2016,
          2017,
          2013,
          1998,
          2013,
          2012,
          2017,
          1976,
          2016,
          1962,
          2015,
          2017,
          1990,
          2015,
          2015,
          2015,
          2017,
          2012,
          2017,
          2015,
          2015,
          2019,
          2010,
          2017,
          1994,
          2012,
          2016,
          2018,
          2011,
          2015,
          2013,
          2014,
          2016,
          2006,
          1995,
          2016,
          2010,
          2005,
          2018,
          2015,
          2017,
          2017,
          2012,
          2014,
          1979,
          2014,
          2008,
          1987,
          2016,
          2016,
          2017,
          2016,
          2017,
          2016,
          2013,
          2018,
          2016,
          2013,
          2015,
          2014,
          2010,
          1981,
          2013,
          2005,
          1989,
          2017,
          2018,
          2013,
          2015,
          2018,
          1983,
          2017,
          2014,
          2016,
          2014,
          2017,
          1999,
          2017,
          2017,
          2017,
          2016,
          2018,
          2016,
          2016,
          2016,
          2019,
          2018,
          1986,
          2002,
          2017,
          2016,
          2014,
          2013,
          2017,
          2018,
          2016,
          1983,
          2016,
          2017,
          2006,
          2013,
          2014,
          2017,
          2016,
          2017,
          1988,
          2016,
          2016,
          1973,
          2017,
          1985,
          2017,
          2013,
          2012,
          2017,
          2016,
          2003,
          2017,
          2018,
          1997,
          2002,
          2016,
          2009,
          2018,
          2015,
          2018,
          2016,
          2009,
          2015,
          2016,
          2018,
          2016,
          1996,
          2008,
          2014,
          2017,
          2013,
          2004,
          2012,
          2016,
          2015,
          2015,
          2014,
          2017,
          2011,
          2015,
          2015,
          2016,
          2017,
          2018,
          2014,
          2015,
          2016,
          2017,
          2015,
          2019,
          2017,
          2014,
          2003,
          2016,
          2015,
          1997,
          2014,
          2016,
          2017,
          2017,
          2013,
          2015,
          2012,
          2014,
          2013,
          2011,
          2014,
          2012,
          2016,
          2015,
          2010,
          2013,
          2013,
          2012,
          2005,
          2013,
          2011,
          2009,
          2016,
          2015,
          2015,
          2016,
          2013,
          2011,
          2016,
          2017,
          2013,
          2016,
          2002,
          2015,
          1984,
          2007,
          2013,
          2012,
          2012,
          2004,
          2014,
          2014,
          2007,
          2017,
          2017,
          1962,
          2010,
          2005,
          2017,
          2013,
          2016,
          2015,
          2015,
          2017,
          2016,
          2017,
          2015,
          2014,
          2013,
          2001,
          2015,
          2009,
          2013,
          2012,
          2011,
          2014,
          1999,
          2017,
          2006,
          2016,
          2017,
          2016,
          1982,
          2016,
          2011,
          2017,
          2016,
          1993,
          2016,
          2004,
          2016,
          2016,
          2015,
          2018,
          2016,
          2016,
          2009,
          2009,
          2016,
          2015,
          1945,
          2016,
          2016,
          2018,
          2004,
          2016,
          2007,
          2017,
          2018,
          2013,
          2014,
          2016,
          2008,
          1981,
          1997,
          2005,
          2018,
          2007,
          2016,
          2020,
          2019,
          2019,
          2004,
          2017,
          2017,
          2018,
          2017,
          2017,
          2017,
          2017,
          2018,
          2017,
          2017,
          2018,
          2017,
          2017,
          2017,
          2017,
          2017,
          2018,
          2017,
          2018,
          2018,
          2012,
          2017,
          1995,
          2016,
          2009,
          2016,
          2018,
          2012,
          2015,
          2011,
          2015,
          2016,
          2013,
          2013,
          2016,
          2016,
          2014,
          2009,
          2018,
          1960,
          2007,
          2004,
          2017,
          2015,
          2016,
          2011,
          2012,
          2015,
          2014,
          2017,
          2013,
          2018,
          2012,
          1983,
          2017,
          2016,
          2018,
          2018,
          2018,
          2018,
          2019,
          1968,
          2016,
          2013,
          2017,
          2018,
          2017,
          2016,
          2018,
          2013,
          2015,
          2006,
          2016,
          2016,
          2016,
          2018,
          2012,
          2012,
          2018,
          2016,
          1984,
          2018,
          2017,
          2017,
          2014,
          2019,
          2018,
          2017,
          2018,
          2006,
          2015,
          2016,
          2007,
          2017,
          2007,
          2016,
          2007,
          2002,
          2016,
          1988,
          2011,
          2015,
          2015,
          2002,
          2000,
          2018,
          2007,
          2016,
          1997,
          2017,
          1990,
          2015,
          2003,
          1992,
          2011,
          2017,
          1992,
          2014,
          2009,
          2016,
          2010,
          2009,
          2013,
          1990,
          1988,
          2016,
          2006,
          2016,
          2016,
          2017,
          2007,
          2016,
          2016,
          2016,
          2018,
          2018,
          2015,
          1993,
          2015,
          2009,
          2012,
          2017,
          2018,
          2018,
          2017,
          1946,
          2002,
          1998,
          2018,
          2016,
          2006,
          2010,
          2016,
          1986,
          1980,
          2018,
          2018,
          1980,
          2018,
          2016,
          2018,
          2010,
          2016,
          2015,
          2016,
          2004,
          1998,
          2008,
          2000,
          1999,
          2006,
          2003,
          2007,
          2009,
          2005,
          2011,
          2011,
          2011,
          2011,
          2014,
          2014,
          2012,
          2012,
          2012,
          2001,
          1997,
          2002,
          1996,
          2013,
          2013,
          2013,
          2013,
          1942,
          2013,
          2015,
          1996,
          1984,
          2017,
          2017,
          2018,
          2011,
          2019,
          2016,
          2000,
          1994,
          2014,
          2012,
          2011,
          2014,
          2019,
          2015,
          2008,
          2009,
          2015,
          2017,
          2018,
          2008,
          2012,
          2009,
          2008,
          2013,
          2015,
          1980,
          2015,
          2015,
          2016,
          1996,
          1974,
          2018,
          1985,
          2012,
          2018,
          2005,
          2018,
          2010,
          2017,
          2016,
          2015,
          2011,
          2011,
          2015,
          1955,
          2004,
          2018,
          2016,
          2016,
          1984,
          2017,
          2017,
          2015,
          2016,
          2015,
          2017,
          2012,
          2015,
          2015,
          2010,
          2017,
          2014,
          2010,
          2017,
          2016,
          1980,
          2016,
          2017,
          2014,
          2017,
          2008,
          2012,
          2016,
          2008,
          2015,
          2017,
          2013,
          2010,
          2011,
          2010,
          2015,
          2016,
          2018,
          1985,
          1976,
          1979,
          1982,
          1985,
          1990,
          2017,
          2014,
          2018,
          2015,
          2014,
          2015,
          2017,
          2012,
          2016,
          2016,
          1968,
          1998,
          2016,
          2004,
          2017,
          2016,
          1995,
          2005,
          2004,
          1999,
          2018,
          2018,
          1998,
          2015,
          2013,
          2013,
          2016,
          2016,
          2003,
          1982,
          2013,
          2014,
          2016,
          1983,
          2014,
          2016,
          2012,
          2016,
          2016,
          2007,
          2014,
          2017,
          2017,
          2013,
          2018,
          2018,
          1945,
          2008,
          1964,
          2014,
          2010,
          2010,
          2015,
          2016,
          2005,
          2017,
          2008,
          2018,
          2014,
          2012,
          1982,
          2017,
          2017,
          2018,
          2015,
          2013,
          2019,
          2014,
          2017,
          2018,
          1955,
          2000,
          2013,
          1993,
          1988,
          1998,
          2010,
          1997,
          2000,
          2012,
          1993,
          2012,
          2011,
          2007,
          2014,
          2015,
          2013,
          2013,
          2013,
          2014,
          2013,
          2013,
          2014,
          2013,
          2014,
          2014,
          2012,
          2010,
          2016,
          2017,
          2015,
          2011,
          2010,
          2008,
          2016,
          1999,
          2019,
          2016,
          2011,
          1986,
          2002,
          2012,
          2002,
          2002,
          2011,
          2008,
          2019,
          2010,
          2017,
          2009,
          1990,
          2016,
          2018,
          2017,
          2016,
          2013,
          2009,
          2016,
          2017,
          2004,
          2017,
          2008,
          2014,
          2018,
          2012,
          2016,
          2015,
          2008,
          2018,
          2013,
          2015,
          2017,
          2017,
          2016,
          2015,
          2014,
          2016,
          2016,
          2016,
          2016,
          2014,
          2010,
          2015,
          2004,
          1996,
          1993,
          2018,
          2015,
          1998,
          2008,
          2017,
          2015,
          2016,
          2005,
          2018,
          2013,
          1991,
          2018,
          2018,
          2009,
          2017,
          2003,
          2014,
          2016,
          2016,
          2011,
          2019,
          2016,
          2014,
          1976,
          2013,
          2017,
          2019,
          2007,
          2018,
          2018,
          2018,
          2015,
          2012,
          2018,
          2001,
          2002,
          2003,
          2015,
          2018,
          2019,
          2015,
          2015,
          2017,
          2014,
          2013,
          2015,
          2006,
          2008,
          2018,
          2017,
          2010,
          2010,
          2015,
          2010,
          2017,
          2014,
          2014,
          2015,
          2017,
          2020,
          2019,
          2006,
          2015,
          1992,
          2016,
          1981,
          1996,
          2017,
          2016,
          2018,
          2002,
          2019,
          2015,
          2011,
          2018,
          2014,
          2014,
          2018,
          2019,
          2015,
          2014,
          2019,
          2018,
          2017,
          2014,
          2020,
          2007,
          1972,
          2006,
          2016,
          1999,
          2016,
          2020,
          2017,
          2017,
          2016,
          1977,
          2018,
          2007,
          2017,
          2016,
          2016,
          1980,
          2010,
          1999,
          2008,
          2011,
          2018,
          1993,
          2014,
          2015,
          1999,
          2005,
          2013,
          2016,
          2017,
          2010,
          2016,
          2007,
          1991,
          1990,
          2010,
          2016,
          2017,
          2015,
          2010,
          2003,
          2009,
          2015,
          2017,
          2016,
          2012,
          2015,
          2019,
          2005,
          2018,
          2016,
          2016,
          2018,
          2015,
          2010,
          2016,
          2015,
          2005,
          2011,
          2007,
          2016,
          1995,
          2005,
          1967,
          2019,
          2019,
          2010,
          2014,
          2015,
          2013,
          2000,
          2016,
          2016,
          2009,
          2017,
          2015,
          2016,
          1993,
          2018,
          1942,
          2012,
          2016,
          2011,
          2015,
          2018,
          2016,
          2015,
          2016,
          2001,
          2016,
          2011,
          2010,
          2015,
          2010,
          2009,
          2016,
          2008,
          2007,
          2019,
          2017,
          2006,
          2017,
          2005,
          2007,
          2013,
          1983,
          2017,
          2019,
          2017,
          2018,
          2014,
          1977,
          2017,
          2017,
          2017,
          2016,
          2016,
          2017,
          2010,
          2016,
          2015,
          2013,
          2016,
          1965,
          2011,
          2010,
          2018,
          2016,
          2013,
          2011,
          1996,
          2016,
          2013,
          1994,
          1970,
          1992,
          2016,
          2015,
          2009,
          2011,
          1982,
          2018,
          2016,
          2015,
          2017,
          2015,
          2006,
          2017,
          2017,
          2017,
          2012,
          2013,
          2018,
          2015,
          2009,
          2016,
          2011,
          2016,
          2005,
          2007,
          2015,
          2016,
          2015,
          2017,
          1981,
          2016,
          2016,
          2012,
          2015,
          2018,
          2010,
          2009,
          2009,
          2014,
          2019,
          1996,
          2016,
          1978,
          1994,
          2000,
          1975,
          2008,
          2017,
          2017,
          2014,
          2017,
          2016,
          2016,
          2013,
          2015,
          2007,
          2003,
          2018,
          2019,
          2011,
          2016,
          2018,
          2017,
          2016,
          2009,
          2014,
          2015,
          2015,
          2014,
          2018,
          2018,
          1979,
          2005,
          2013,
          2011,
          2013,
          2017,
          2008,
          2017,
          2018,
          2011,
          2017,
          2015,
          2017,
          2016,
          2005,
          2015,
          2016,
          2015,
          2013,
          2017,
          2014,
          2015,
          2018,
          2016,
          2009,
          2010,
          2014,
          2018,
          2018,
          1995,
          2009,
          2016,
          2018,
          2009,
          2018,
          2015,
          2008,
          2011,
          2015,
          2010,
          2007,
          2010,
          2013,
          2017,
          2019,
          2010,
          2009,
          2017,
          2006,
          2017,
          2016,
          1992,
          2010,
          2016,
          2018,
          2014,
          2018,
          2019,
          2017,
          2016,
          2013,
          2017,
          2018,
          2015,
          2006,
          2015,
          2015,
          2017,
          2019,
          1974,
          2008,
          2014,
          2003,
          2002,
          2008,
          2016,
          1982,
          1993,
          2017,
          2012,
          2009,
          1998,
          1999,
          2003,
          2003,
          2018,
          2017,
          1944,
          2009,
          2015,
          2016,
          2012,
          2017,
          2016,
          2016,
          2015,
          2018,
          2017,
          2011,
          2015,
          2017,
          1991,
          1988,
          1984,
          1944,
          2021,
          2018,
          2017,
          2016,
          2018,
          2012,
          2014,
          2008,
          2010,
          2001,
          2016,
          1997,
          1993,
          2018,
          2012,
          2004,
          2013,
          2006,
          2014,
          2017,
          2012,
          2012,
          2015,
          2012,
          2004,
          2017,
          2004,
          2014,
          2004,
          2009,
          2017,
          2019,
          2006,
          2018,
          2009,
          2008,
          1997,
          2016,
          2010,
          2006,
          2015,
          2016,
          2017,
          2016,
          2015,
          2015,
          2016,
          2016,
          2011,
          2002,
          2014,
          2016,
          1994,
          2017,
          2016,
          2011,
          2014,
          2011,
          2015,
          2014,
          2012,
          2001,
          2015,
          2016,
          2019,
          2014,
          2015,
          2014,
          2017,
          1955,
          2014,
          2015,
          2013,
          2017,
          2010,
          2016,
          2013,
          1978,
          2010,
          2019,
          2015,
          2017,
          2017,
          2017,
          2015,
          2017,
          1989,
          2018,
          2009,
          1999,
          1974,
          2013,
          2016,
          2017,
          2002,
          2009,
          2016,
          2017,
          1996,
          2016,
          2015,
          2016,
          2010,
          2002,
          1963,
          2009,
          2011,
          2017,
          2009,
          2016,
          2013,
          2015,
          2017,
          2015,
          2007,
          2014,
          2007,
          1998,
          2006,
          2017,
          2005,
          2015,
          2018,
          2010,
          2016,
          2016,
          2017,
          1999,
          2018,
          2017,
          2009,
          2016,
          1985,
          2016,
          2017,
          1988,
          2016,
          2014,
          2015,
          2017,
          2015,
          2015,
          2017,
          2017,
          2011,
          2010,
          2010,
          2016,
          2010,
          2017,
          1947,
          2017,
          2016,
          2017,
          2013,
          2009,
          2014,
          2014,
          2018,
          2014,
          2016,
          1995,
          2015,
          2018,
          2017,
          2001,
          1997,
          2018,
          2018,
          2016,
          2001,
          2016,
          2016,
          2015,
          2007,
          2007,
          2016,
          1996,
          2008,
          2014,
          2014,
          2016,
          2017,
          2015,
          1990,
          1995,
          2001,
          2004,
          2015,
          2018,
          2016,
          1985,
          1995,
          2014,
          2019,
          2017,
          2017,
          2017,
          1969,
          2017,
          2015,
          2010,
          2012,
          1944,
          2013,
          2014,
          2010,
          1990,
          2018,
          2018,
          2015,
          2018,
          2016,
          2015,
          2008,
          2013,
          2015,
          2016,
          2006,
          2017,
          2017,
          2013,
          2016,
          1943,
          2012,
          2017,
          2011,
          2009,
          2017,
          2018,
          2016,
          2005,
          1995,
          2008,
          2016,
          2018,
          2016,
          2017,
          2015,
          2018,
          2016,
          2016,
          2013,
          2017,
          2014,
          2004,
          2018,
          2016,
          2018,
          2013,
          2016,
          2015,
          2005,
          2017,
          2016,
          2017,
          2017,
          2007,
          2013,
          2011,
          2016,
          2014,
          2015,
          2014,
          2017,
          2018,
          2015,
          2018,
          2016,
          2018,
          2017,
          2015,
          1983,
          2012,
          2016,
          2016,
          2015,
          2016,
          2014,
          2017,
          1967,
          2019,
          2017,
          2016,
          2012,
          2000,
          2017,
          2018,
          2002,
          2017,
          2013,
          2016,
          2000,
          2017,
          2015,
          2018,
          2016,
          2017,
          1967,
          2011,
          2016,
          2016,
          1943,
          2015,
          2013,
          1999,
          2018,
          2017,
          1971,
          2017,
          2016,
          1981,
          2014,
          2010,
          2014,
          2019,
          2017,
          2016,
          2010,
          2019,
          2006,
          2017,
          2015,
          2013,
          2015,
          2016,
          1943,
          1994,
          2017,
          2002,
          2005,
          2001,
          2008,
          2001,
          2011,
          2013,
          2006,
          2018,
          2018,
          2014,
          2010,
          2012,
          2015,
          2015,
          2016,
          2016,
          2016,
          2015,
          2016,
          2017,
          2017,
          2015,
          2009,
          2008,
          2011,
          1973,
          2005,
          2016,
          2015,
          2016,
          2016,
          2014,
          2009,
          2012,
          2015,
          2007,
          2018,
          2009,
          2006,
          2015
         ],
         "xaxis": "x",
         "yaxis": "y"
        }
       ],
       "layout": {
        "barmode": "relative",
        "legend": {
         "tracegroupgap": 0
        },
        "template": {
         "data": {
          "bar": [
           {
            "error_x": {
             "color": "#2a3f5f"
            },
            "error_y": {
             "color": "#2a3f5f"
            },
            "marker": {
             "line": {
              "color": "#E5ECF6",
              "width": 0.5
             },
             "pattern": {
              "fillmode": "overlay",
              "size": 10,
              "solidity": 0.2
             }
            },
            "type": "bar"
           }
          ],
          "barpolar": [
           {
            "marker": {
             "line": {
              "color": "#E5ECF6",
              "width": 0.5
             },
             "pattern": {
              "fillmode": "overlay",
              "size": 10,
              "solidity": 0.2
             }
            },
            "type": "barpolar"
           }
          ],
          "carpet": [
           {
            "aaxis": {
             "endlinecolor": "#2a3f5f",
             "gridcolor": "white",
             "linecolor": "white",
             "minorgridcolor": "white",
             "startlinecolor": "#2a3f5f"
            },
            "baxis": {
             "endlinecolor": "#2a3f5f",
             "gridcolor": "white",
             "linecolor": "white",
             "minorgridcolor": "white",
             "startlinecolor": "#2a3f5f"
            },
            "type": "carpet"
           }
          ],
          "choropleth": [
           {
            "colorbar": {
             "outlinewidth": 0,
             "ticks": ""
            },
            "type": "choropleth"
           }
          ],
          "contour": [
           {
            "colorbar": {
             "outlinewidth": 0,
             "ticks": ""
            },
            "colorscale": [
             [
              0,
              "#0d0887"
             ],
             [
              0.1111111111111111,
              "#46039f"
             ],
             [
              0.2222222222222222,
              "#7201a8"
             ],
             [
              0.3333333333333333,
              "#9c179e"
             ],
             [
              0.4444444444444444,
              "#bd3786"
             ],
             [
              0.5555555555555556,
              "#d8576b"
             ],
             [
              0.6666666666666666,
              "#ed7953"
             ],
             [
              0.7777777777777778,
              "#fb9f3a"
             ],
             [
              0.8888888888888888,
              "#fdca26"
             ],
             [
              1,
              "#f0f921"
             ]
            ],
            "type": "contour"
           }
          ],
          "contourcarpet": [
           {
            "colorbar": {
             "outlinewidth": 0,
             "ticks": ""
            },
            "type": "contourcarpet"
           }
          ],
          "heatmap": [
           {
            "colorbar": {
             "outlinewidth": 0,
             "ticks": ""
            },
            "colorscale": [
             [
              0,
              "#0d0887"
             ],
             [
              0.1111111111111111,
              "#46039f"
             ],
             [
              0.2222222222222222,
              "#7201a8"
             ],
             [
              0.3333333333333333,
              "#9c179e"
             ],
             [
              0.4444444444444444,
              "#bd3786"
             ],
             [
              0.5555555555555556,
              "#d8576b"
             ],
             [
              0.6666666666666666,
              "#ed7953"
             ],
             [
              0.7777777777777778,
              "#fb9f3a"
             ],
             [
              0.8888888888888888,
              "#fdca26"
             ],
             [
              1,
              "#f0f921"
             ]
            ],
            "type": "heatmap"
           }
          ],
          "heatmapgl": [
           {
            "colorbar": {
             "outlinewidth": 0,
             "ticks": ""
            },
            "colorscale": [
             [
              0,
              "#0d0887"
             ],
             [
              0.1111111111111111,
              "#46039f"
             ],
             [
              0.2222222222222222,
              "#7201a8"
             ],
             [
              0.3333333333333333,
              "#9c179e"
             ],
             [
              0.4444444444444444,
              "#bd3786"
             ],
             [
              0.5555555555555556,
              "#d8576b"
             ],
             [
              0.6666666666666666,
              "#ed7953"
             ],
             [
              0.7777777777777778,
              "#fb9f3a"
             ],
             [
              0.8888888888888888,
              "#fdca26"
             ],
             [
              1,
              "#f0f921"
             ]
            ],
            "type": "heatmapgl"
           }
          ],
          "histogram": [
           {
            "marker": {
             "pattern": {
              "fillmode": "overlay",
              "size": 10,
              "solidity": 0.2
             }
            },
            "type": "histogram"
           }
          ],
          "histogram2d": [
           {
            "colorbar": {
             "outlinewidth": 0,
             "ticks": ""
            },
            "colorscale": [
             [
              0,
              "#0d0887"
             ],
             [
              0.1111111111111111,
              "#46039f"
             ],
             [
              0.2222222222222222,
              "#7201a8"
             ],
             [
              0.3333333333333333,
              "#9c179e"
             ],
             [
              0.4444444444444444,
              "#bd3786"
             ],
             [
              0.5555555555555556,
              "#d8576b"
             ],
             [
              0.6666666666666666,
              "#ed7953"
             ],
             [
              0.7777777777777778,
              "#fb9f3a"
             ],
             [
              0.8888888888888888,
              "#fdca26"
             ],
             [
              1,
              "#f0f921"
             ]
            ],
            "type": "histogram2d"
           }
          ],
          "histogram2dcontour": [
           {
            "colorbar": {
             "outlinewidth": 0,
             "ticks": ""
            },
            "colorscale": [
             [
              0,
              "#0d0887"
             ],
             [
              0.1111111111111111,
              "#46039f"
             ],
             [
              0.2222222222222222,
              "#7201a8"
             ],
             [
              0.3333333333333333,
              "#9c179e"
             ],
             [
              0.4444444444444444,
              "#bd3786"
             ],
             [
              0.5555555555555556,
              "#d8576b"
             ],
             [
              0.6666666666666666,
              "#ed7953"
             ],
             [
              0.7777777777777778,
              "#fb9f3a"
             ],
             [
              0.8888888888888888,
              "#fdca26"
             ],
             [
              1,
              "#f0f921"
             ]
            ],
            "type": "histogram2dcontour"
           }
          ],
          "mesh3d": [
           {
            "colorbar": {
             "outlinewidth": 0,
             "ticks": ""
            },
            "type": "mesh3d"
           }
          ],
          "parcoords": [
           {
            "line": {
             "colorbar": {
              "outlinewidth": 0,
              "ticks": ""
             }
            },
            "type": "parcoords"
           }
          ],
          "pie": [
           {
            "automargin": true,
            "type": "pie"
           }
          ],
          "scatter": [
           {
            "fillpattern": {
             "fillmode": "overlay",
             "size": 10,
             "solidity": 0.2
            },
            "type": "scatter"
           }
          ],
          "scatter3d": [
           {
            "line": {
             "colorbar": {
              "outlinewidth": 0,
              "ticks": ""
             }
            },
            "marker": {
             "colorbar": {
              "outlinewidth": 0,
              "ticks": ""
             }
            },
            "type": "scatter3d"
           }
          ],
          "scattercarpet": [
           {
            "marker": {
             "colorbar": {
              "outlinewidth": 0,
              "ticks": ""
             }
            },
            "type": "scattercarpet"
           }
          ],
          "scattergeo": [
           {
            "marker": {
             "colorbar": {
              "outlinewidth": 0,
              "ticks": ""
             }
            },
            "type": "scattergeo"
           }
          ],
          "scattergl": [
           {
            "marker": {
             "colorbar": {
              "outlinewidth": 0,
              "ticks": ""
             }
            },
            "type": "scattergl"
           }
          ],
          "scattermapbox": [
           {
            "marker": {
             "colorbar": {
              "outlinewidth": 0,
              "ticks": ""
             }
            },
            "type": "scattermapbox"
           }
          ],
          "scatterpolar": [
           {
            "marker": {
             "colorbar": {
              "outlinewidth": 0,
              "ticks": ""
             }
            },
            "type": "scatterpolar"
           }
          ],
          "scatterpolargl": [
           {
            "marker": {
             "colorbar": {
              "outlinewidth": 0,
              "ticks": ""
             }
            },
            "type": "scatterpolargl"
           }
          ],
          "scatterternary": [
           {
            "marker": {
             "colorbar": {
              "outlinewidth": 0,
              "ticks": ""
             }
            },
            "type": "scatterternary"
           }
          ],
          "surface": [
           {
            "colorbar": {
             "outlinewidth": 0,
             "ticks": ""
            },
            "colorscale": [
             [
              0,
              "#0d0887"
             ],
             [
              0.1111111111111111,
              "#46039f"
             ],
             [
              0.2222222222222222,
              "#7201a8"
             ],
             [
              0.3333333333333333,
              "#9c179e"
             ],
             [
              0.4444444444444444,
              "#bd3786"
             ],
             [
              0.5555555555555556,
              "#d8576b"
             ],
             [
              0.6666666666666666,
              "#ed7953"
             ],
             [
              0.7777777777777778,
              "#fb9f3a"
             ],
             [
              0.8888888888888888,
              "#fdca26"
             ],
             [
              1,
              "#f0f921"
             ]
            ],
            "type": "surface"
           }
          ],
          "table": [
           {
            "cells": {
             "fill": {
              "color": "#EBF0F8"
             },
             "line": {
              "color": "white"
             }
            },
            "header": {
             "fill": {
              "color": "#C8D4E3"
             },
             "line": {
              "color": "white"
             }
            },
            "type": "table"
           }
          ]
         },
         "layout": {
          "annotationdefaults": {
           "arrowcolor": "#2a3f5f",
           "arrowhead": 0,
           "arrowwidth": 1
          },
          "autotypenumbers": "strict",
          "coloraxis": {
           "colorbar": {
            "outlinewidth": 0,
            "ticks": ""
           }
          },
          "colorscale": {
           "diverging": [
            [
             0,
             "#8e0152"
            ],
            [
             0.1,
             "#c51b7d"
            ],
            [
             0.2,
             "#de77ae"
            ],
            [
             0.3,
             "#f1b6da"
            ],
            [
             0.4,
             "#fde0ef"
            ],
            [
             0.5,
             "#f7f7f7"
            ],
            [
             0.6,
             "#e6f5d0"
            ],
            [
             0.7,
             "#b8e186"
            ],
            [
             0.8,
             "#7fbc41"
            ],
            [
             0.9,
             "#4d9221"
            ],
            [
             1,
             "#276419"
            ]
           ],
           "sequential": [
            [
             0,
             "#0d0887"
            ],
            [
             0.1111111111111111,
             "#46039f"
            ],
            [
             0.2222222222222222,
             "#7201a8"
            ],
            [
             0.3333333333333333,
             "#9c179e"
            ],
            [
             0.4444444444444444,
             "#bd3786"
            ],
            [
             0.5555555555555556,
             "#d8576b"
            ],
            [
             0.6666666666666666,
             "#ed7953"
            ],
            [
             0.7777777777777778,
             "#fb9f3a"
            ],
            [
             0.8888888888888888,
             "#fdca26"
            ],
            [
             1,
             "#f0f921"
            ]
           ],
           "sequentialminus": [
            [
             0,
             "#0d0887"
            ],
            [
             0.1111111111111111,
             "#46039f"
            ],
            [
             0.2222222222222222,
             "#7201a8"
            ],
            [
             0.3333333333333333,
             "#9c179e"
            ],
            [
             0.4444444444444444,
             "#bd3786"
            ],
            [
             0.5555555555555556,
             "#d8576b"
            ],
            [
             0.6666666666666666,
             "#ed7953"
            ],
            [
             0.7777777777777778,
             "#fb9f3a"
            ],
            [
             0.8888888888888888,
             "#fdca26"
            ],
            [
             1,
             "#f0f921"
            ]
           ]
          },
          "colorway": [
           "#636efa",
           "#EF553B",
           "#00cc96",
           "#ab63fa",
           "#FFA15A",
           "#19d3f3",
           "#FF6692",
           "#B6E880",
           "#FF97FF",
           "#FECB52"
          ],
          "font": {
           "color": "#2a3f5f"
          },
          "geo": {
           "bgcolor": "white",
           "lakecolor": "white",
           "landcolor": "#E5ECF6",
           "showlakes": true,
           "showland": true,
           "subunitcolor": "white"
          },
          "hoverlabel": {
           "align": "left"
          },
          "hovermode": "closest",
          "mapbox": {
           "style": "light"
          },
          "paper_bgcolor": "white",
          "plot_bgcolor": "#E5ECF6",
          "polar": {
           "angularaxis": {
            "gridcolor": "white",
            "linecolor": "white",
            "ticks": ""
           },
           "bgcolor": "#E5ECF6",
           "radialaxis": {
            "gridcolor": "white",
            "linecolor": "white",
            "ticks": ""
           }
          },
          "scene": {
           "xaxis": {
            "backgroundcolor": "#E5ECF6",
            "gridcolor": "white",
            "gridwidth": 2,
            "linecolor": "white",
            "showbackground": true,
            "ticks": "",
            "zerolinecolor": "white"
           },
           "yaxis": {
            "backgroundcolor": "#E5ECF6",
            "gridcolor": "white",
            "gridwidth": 2,
            "linecolor": "white",
            "showbackground": true,
            "ticks": "",
            "zerolinecolor": "white"
           },
           "zaxis": {
            "backgroundcolor": "#E5ECF6",
            "gridcolor": "white",
            "gridwidth": 2,
            "linecolor": "white",
            "showbackground": true,
            "ticks": "",
            "zerolinecolor": "white"
           }
          },
          "shapedefaults": {
           "line": {
            "color": "#2a3f5f"
           }
          },
          "ternary": {
           "aaxis": {
            "gridcolor": "white",
            "linecolor": "white",
            "ticks": ""
           },
           "baxis": {
            "gridcolor": "white",
            "linecolor": "white",
            "ticks": ""
           },
           "bgcolor": "#E5ECF6",
           "caxis": {
            "gridcolor": "white",
            "linecolor": "white",
            "ticks": ""
           }
          },
          "title": {
           "x": 0.05
          },
          "xaxis": {
           "automargin": true,
           "gridcolor": "white",
           "linecolor": "white",
           "ticks": "",
           "title": {
            "standoff": 15
           },
           "zerolinecolor": "white",
           "zerolinewidth": 2
          },
          "yaxis": {
           "automargin": true,
           "gridcolor": "white",
           "linecolor": "white",
           "ticks": "",
           "title": {
            "standoff": 15
           },
           "zerolinecolor": "white",
           "zerolinewidth": 2
          }
         }
        },
        "title": {
         "text": "Release Year Distribution"
        },
        "xaxis": {
         "anchor": "y",
         "domain": [
          0,
          1
         ],
         "title": {
          "text": "release_year"
         }
        },
        "yaxis": {
         "anchor": "x",
         "domain": [
          0,
          1
         ],
         "title": {
          "text": "count"
         }
        }
       }
      }
     },
     "metadata": {},
     "output_type": "display_data"
    }
   ],
   "source": [
    "fig = px.histogram(df, x='release_year', title='Release Year Distribution')\n",
    "fig.show()\n"
   ]
  },
  {
   "cell_type": "markdown",
   "metadata": {},
   "source": [
    "# Country-wise Content Production: \n",
    "\n",
    "    Display a choropleth map showing the distribution of content production across different countries.\n",
    "        python"
   ]
  },
  {
   "cell_type": "code",
   "execution_count": 28,
   "metadata": {
    "scrolled": true
   },
   "outputs": [
    {
     "data": {
      "application/vnd.plotly.v1+json": {
       "config": {
        "plotlyServerURL": "https://plot.ly"
       },
       "data": [
        {
         "coloraxis": "coloraxis",
         "geo": "geo",
         "hovertemplate": "country=%{location}<br>count=%{z}<extra></extra>",
         "locationmode": "country names",
         "locations": [
          "United States",
          "India",
          "United Kingdom",
          "Japan",
          "South Korea",
          "Canada",
          "Spain",
          "France",
          "Mexico",
          "Egypt",
          "Turkey",
          "Nigeria",
          "Australia",
          "Taiwan",
          "Indonesia",
          "Brazil",
          "Philippines",
          "United Kingdom, United States",
          "United States, Canada",
          "Germany",
          "China",
          "Thailand",
          "Argentina",
          "Hong Kong",
          "United States, United Kingdom",
          "Italy",
          "Canada, United States",
          "Colombia",
          "South Africa",
          "France, Belgium",
          "Poland",
          "Singapore",
          "Malaysia",
          "Netherlands",
          "Pakistan",
          "United States, Germany",
          "United States, Japan",
          "United States, France",
          "Hong Kong, China",
          "Lebanon",
          "Russia",
          "Chile",
          "United Arab Emirates",
          "China, Hong Kong",
          "United States, Mexico",
          "Denmark",
          "Australia, United States",
          "Mexico, United States",
          "Sweden",
          "Germany, United States",
          "Israel",
          "New Zealand",
          "Japan, United States",
          "United States, Australia",
          "Norway",
          "France, United States",
          "India, United States",
          "Ireland",
          "United States, India",
          "Belgium",
          "Argentina, Spain",
          "United Kingdom, Canada, United States",
          "United States, China",
          "Saudi Arabia",
          "Vietnam",
          "United States, France, Japan",
          "United Kingdom, France",
          "Romania",
          "Kuwait",
          "South Korea, United States",
          "United States, Czech Republic",
          "Italy, France",
          "United States, New Zealand",
          "Spain, France",
          "Austria",
          "United States, Italy",
          "India, France",
          "Israel, United States",
          "Iceland",
          "South Africa, United States",
          "United Kingdom, France, United States",
          "United States, Russia",
          "Italy, United States",
          "United Kingdom, United States, Spain, Germany, Greece, Canada",
          "United States, United Kingdom, France",
          "Peru",
          "United States, Spain",
          "Poland, United States",
          "United States, Bulgaria",
          "Canada, United States, United Kingdom",
          "Hungary",
          "Mexico, Spain",
          "Hong Kong, United States",
          "United States, United Kingdom, Australia",
          "United Kingdom, Canada",
          "United Kingdom, Germany",
          "Spain, Germany",
          "United States, Sweden",
          "Sweden, United States",
          "United Kingdom, Japan, United States",
          "United States, Chile",
          "Denmark, United States",
          "France, Egypt",
          "China, United Kingdom",
          "Uruguay",
          "United States, South Africa",
          "United States, Hong Kong",
          "United Kingdom, Ireland",
          "Ghana",
          "Kenya",
          "Spain, Argentina",
          "Belgium, France",
          "United States, Colombia",
          "United Kingdom, United States, Australia",
          "Bangladesh",
          "France, Canada",
          "China, Canada, United States",
          "Bulgaria, United States",
          "United States, United Arab Emirates",
          "United States, Ireland",
          "United States, Germany, Canada",
          "Ireland, United Kingdom, United States",
          "New Zealand, United States",
          "United States, Greece",
          "United States, Nigeria",
          "Singapore, United States",
          "Canada, United Kingdom, United States",
          "Ukraine",
          "Argentina, Chile",
          "Turkey, United States",
          "United States, South Korea",
          "Netherlands, Belgium",
          "United States, Thailand",
          "Portugal, Spain",
          "Brazil, France",
          "Canada, United States, France",
          "United Kingdom, Belgium",
          "France, Japan, United States",
          "Belgium, Netherlands",
          "Czech Republic, United States",
          "United States, Argentina",
          "Australia, United Arab Emirates",
          "Canada, United Kingdom",
          "Switzerland",
          "China, United States",
          "Australia, Canada",
          "United States, Japan, Canada",
          "Serbia, United States",
          "Canada, India",
          "United States, United Kingdom, Germany",
          "Canada, Australia",
          "Lebanon, Canada, France",
          "Pakistan, United States",
          "Thailand, United States",
          "Ireland, United Kingdom",
          "Spain, United Kingdom",
          "Spain, Italy",
          "United Kingdom, Italy",
          "France, United Kingdom, United States",
          "Indonesia, Singapore",
          "India, Soviet Union",
          "Hong Kong, China, United States",
          "Jordan",
          "United States, China, Hong Kong",
          "United Kingdom, India",
          "Egypt, France",
          "India, United Kingdom",
          "Germany, United Kingdom",
          "United Kingdom, Germany, United States",
          "Germany, Czech Republic",
          "China, Taiwan",
          "United Arab Emirates, United States",
          "United Kingdom, Nigeria",
          "Colombia, Mexico, United States",
          "United States, South Korea, China",
          "Canada, South Africa",
          "Australia, United Kingdom",
          "Spain, Mexico",
          "Norway, Iceland, United States",
          "United Kingdom,",
          "United Kingdom, United States, France",
          "United Kingdom, France, Germany, United States",
          "India, Germany",
          "United Kingdom, India, United States",
          "United States, United Kingdom, Canada",
          "Pakistan, Norway, United States",
          "France, Germany, Switzerland",
          "United States, United Kingdom, Denmark, Sweden",
          "United States, Canada, Belgium, United Kingdom",
          "Germany, United States, Hong Kong, Singapore",
          "Germany, Australia",
          "Spain, France, Italy",
          "Germany, France, Luxembourg, United Kingdom, United States",
          "Venezuela",
          "Taiwan, Hong Kong, United States, China",
          "Germany, Belgium",
          "Canada, Spain, France",
          "United States, Indonesia",
          "Czech Republic, France",
          "United Kingdom, Canada, Italy",
          "United States, France, Mexico",
          "France, China, Japan, United States",
          "United Kingdom, Czech Republic, Germany, United States",
          "United States, Nicaragua",
          "United States, Italy, United Kingdom, Liechtenstein",
          "Denmark, France, Belgium, Italy, Netherlands, United States, United Kingdom",
          "United States, Australia, Mexico",
          "Canada, France, Italy, Morocco, United States",
          "Italy, Canada, France",
          "United Kingdom, Denmark, Canada, Croatia",
          "South Africa, United States, New Zealand, Canada",
          "Italy, Germany",
          "Finland, Sweden, Norway, Latvia, Germany",
          "Turkey, France, Germany, Poland",
          "United States, Brazil",
          "United States, France, United Kingdom, Japan",
          "Brazil, France, Germany",
          "Spain, Cuba",
          "United Kingdom, South Africa",
          "Denmark, Zimbabwe",
          "United Kingdom, Israel, Russia",
          "United Arab Emirates, United States, United Kingdom",
          "Greece, United States",
          "United Kingdom, Poland, United States",
          "Singapore, France",
          "United States, Canada, France",
          "Argentina, Uruguay, Spain, France",
          "United States, Hungary",
          "United Kingdom, Italy, Israel, Peru, United States",
          "France, Germany",
          "France, Qatar",
          "United Kingdom, Germany, Canada",
          "Ireland, South Africa",
          "United States, Colombia, Mexico",
          "Chile, United States, France",
          "Belgium, France, Netherlands",
          "United Kingdom, Ukraine, United States",
          "Germany, Australia, France, China",
          "United States, Denmark",
          "Norway, United States",
          "United States, Bermuda, Ecuador",
          "United States, Hungary, Ireland, Canada",
          "Canada, Japan, Netherlands",
          "United Kingdom, France, United States, Belgium",
          "United States, France, United Kingdom",
          "France, Canada, China, Cambodia",
          "France, United Kingdom, India",
          "Netherlands, United States",
          "Spain, Switzerland",
          "United States, Australia, China",
          "South Africa, United States, Germany",
          "Spain, Italy, Argentina",
          "Chile, Spain, Argentina, Germany",
          "Chile, France",
          "West Germany",
          "Austria, Czech Republic",
          "Lebanon, Qatar",
          "United Kingdom, France, Belgium, United States",
          "United Kingdom, Jordan, Qatar, Iran",
          "France, South Korea, Japan",
          "Israel, Germany, France",
          "United Kingdom, Egypt, United States",
          "Spain, Mexico, France",
          "United States, India, Bangladesh",
          "France, United States, Mexico",
          "Australia, Armenia, Japan, Jordan, Mexico, Mongolia, New Zealand, Philippines, South Africa, Sweden, United States, Uruguay",
          "India, Iran",
          "Norway, Germany",
          "France, Belgium, Spain",
          "Denmark, Sweden, Israel, United States",
          "United States, Iceland",
          "United Kingdom, Russia",
          "United States, Israel, Italy, South Africa",
          "Netherlands, Denmark, France, Germany",
          "South Korea, Japan",
          "United Kingdom, Pakistan",
          "France, New Zealand",
          "United Kingdom, Czech Republic, United States, Germany, Bahamas",
          "China, Germany, India, United States",
          "Germany, Sri Lanka",
          "Australia, United Kingdom, United Arab Emirates, Canada",
          "Sweden, Netherlands",
          "Hong Kong, China, Singapore",
          "France, Morocco",
          "United States, United Kingdom, Italy",
          "Denmark, France, Poland",
          "New Zealand, United Kingdom",
          "Netherlands, Denmark, South Africa",
          "Iran, France",
          "United Kingdom, United States, France, Germany",
          "Australia, France",
          "United Kingdom, France, Germany",
          "Canada, Luxembourg",
          "Brazil, Netherlands, United States, Colombia, Austria, Germany",
          "France, Canada, Belgium",
          "Cambodia, United States",
          "Canada, France",
          "Bulgaria, United States, Spain, Canada",
          "Czech Republic, Slovakia",
          "South Africa, China, United States",
          "Brazil, India, China, United States",
          "United States, France, Canada, Spain",
          "Israel, Germany, Poland, Luxembourg, Belgium, France, United States",
          "Spain, France, Uruguay",
          "France, Canada, United States",
          "United States, Canada, China",
          "Ireland, Canada, Luxembourg, United States, United Kingdom, Philippines, India",
          "United States, Czech Republic, United Kingdom",
          "Israel, Germany",
          "Mexico, France",
          "Austria, United States",
          "United States, New Zealand, United Kingdom",
          "United Kingdom, Lithuania",
          "United States, Greece, United Kingdom",
          "United Kingdom, China, United States, India",
          "United States, Sweden, Norway",
          "United Kingdom, United States, Morocco",
          "United States, United Kingdom, Morocco",
          "Spain, Canada, United States",
          "Finland, United States",
          "United States, Germany, United Kingdom, Italy",
          "Guatemala",
          "Czech Republic, United Kingdom, France",
          "United States, Germany, United Kingdom, Australia",
          "Italy, France, Switzerland",
          "Canada, France, United States",
          "Switzerland, United States",
          "Thailand, Canada, United States",
          "China, Hong Kong, United States",
          "United Kingdom, New Zealand",
          "Australia, United Kingdom, Canada",
          "United States, Germany, United Kingdom",
          "Jamaica, United States",
          "Australia, United Kingdom, United States, New Zealand, Italy, France",
          "France, United States, Canada",
          "United Kingdom, France, Canada, Belgium, United States",
          "Denmark, United Kingdom, Sweden",
          "United States, Kazakhstan",
          "Argentina, France, United States, Germany, Qatar",
          "United States, India, United Arab Emirates",
          "United Kingdom, Canada, France, United States",
          "India, Germany, France",
          "Germany, United States, United Kingdom, Canada",
          "United Kingdom, Brazil, Germany",
          "United Kingdom, Namibia, South Africa, Zimbabwe, United States",
          "Canada, United States, India, United Kingdom",
          "Switzerland, United Kingdom, United States",
          "United Kingdom, India, Sweden",
          "United States, Brazil, India, Uganda, China",
          "Peru, United States, United Kingdom",
          "Canada, India, Thailand, United States, United Arab Emirates",
          "Belgium, Ireland, Netherlands, Germany, Afghanistan",
          "United States, East Germany, West Germany",
          "France, Netherlands, South Africa, Finland",
          "Egypt, Austria, United States",
          "Russia, Spain",
          "Croatia, Slovenia, Serbia, Montenegro",
          "Japan, Canada",
          "United States, France, South Korea, Indonesia",
          "United Kingdom, China, United States",
          "United Kingdom, United States, Czech Republic",
          "United Kingdom, Canada, Japan",
          "United States, Venezuela",
          "France, Canada, Italy, United States, China",
          "Ireland, United Kingdom, Greece, France, Netherlands",
          "Denmark, Indonesia, Finland, Norway, United Kingdom, Israel, France, United States, Germany, Netherlands",
          "United States, Australia, South Africa, United Kingdom",
          "United States, Germany, Mexico",
          "Somalia, Kenya, Sudan, South Africa, United States",
          "United States, Canada, Japan, Panama",
          "United Kingdom, Spain, Belgium",
          "Serbia, South Korea, Slovenia",
          "Denmark, United Kingdom, South Africa, Sweden, Belgium",
          "Germany, Canada, United States",
          "Ireland, Canada, United States, United Kingdom",
          "New Zealand, United Kingdom, Australia",
          "United Kingdom, Australia, Canada, United States",
          "Germany, United States, Italy",
          "Italy, South Africa, West Germany, Australia, United States",
          "United States, United Kingdom, Spain, South Korea",
          "Russia, United States, China",
          "Denmark, China",
          "Netherlands, Belgium, United Kingdom, United States",
          "France, Belgium, China, United States",
          "United States, Chile, Israel",
          "United Kingdom, Norway, Denmark, Germany, Sweden",
          "Norway, Denmark, Sweden",
          "China, India, Nepal",
          "United Kingdom, South Korea",
          "United States, Greece, Brazil",
          "United Kingdom, Germany, Canada, United States",
          "South Korea, France",
          "United States, Australia, Samoa, United Kingdom",
          "Argentina, Chile, Peru",
          "Turkey, Azerbaijan",
          "Poland, West Germany",
          "Germany, United States, Sweden",
          "Canada, Spain",
          "United States, France, Canada, Lebanon, Qatar",
          "Germany, United States, Canada",
          "Hong Kong, Taiwan",
          "India, Japan",
          "United States, Canada, Germany",
          "Ireland, United States",
          "Ireland, United Kingdom, Italy, United States",
          "Poland,",
          "Slovenia, Croatia, Germany, Czech Republic, Qatar",
          "Canada, United Kingdom, Netherlands",
          "United States, Spain, Germany",
          "China, South Korea, United States",
          "Ireland, United States, France",
          "United Kingdom, France, Belgium",
          "Canada, Ireland, United States",
          "United Kingdom, United States, Dominican Republic",
          "United States, Senegal",
          "Germany, United Kingdom, United States",
          "South Africa, Germany, Netherlands, France",
          "Canada, United States, United Kingdom, France, Luxembourg",
          "United States, Cambodia",
          "Norway, United Kingdom, France, Ireland",
          "United Kingdom, Poland",
          "Germany, France, United States, Canada, United Kingdom",
          "United States, New Zealand, Japan",
          "United States, Netherlands, Japan, France",
          "India, Switzerland",
          "United States, Morocco",
          "Singapore, Japan, France",
          "Canada, Mexico, Germany, South Africa",
          "United Kingdom, United States, Canada",
          "United States, Uruguay",
          "Israel, Sweden, Germany, Netherlands",
          "India, Canada",
          "Ireland, Canada, United Kingdom, United States",
          "United States, Germany, Australia",
          "Australia, France, Ireland",
          "Australia, India",
          "United States, United Kingdom, Canada, Japan",
          "Sweden, United Kingdom, Finland",
          "Portugal, France, Poland, United States",
          "Switzerland, Vatican City, Italy, Germany, France",
          "France, Germany, Czech Republic, Belgium",
          "Colombia, United States",
          "Switzerland, France",
          "Italy, India",
          "United States, Botswana",
          "Chile, Argentina, France, Spain, United States",
          "United States, India, South Korea, China",
          "Denmark, Germany, Belgium, United Kingdom, France",
          "Denmark, Germany, Belgium, United Kingdom, France, Sweden",
          "France, Switzerland, Spain, United States, United Arab Emirates",
          "India, Malaysia",
          "Denmark, France, United States, Sweden",
          "Australia, Iraq",
          "China, Morocco, Hong Kong",
          "Canada, United States, Germany",
          "United Kingdom, Thailand",
          "Venezuela, Colombia",
          "Germany, Jordan, Netherlands",
          "United Kingdom, Belgium, Sweden",
          "United Arab Emirates, Romania",
          "Saudi Arabia, United Arab Emirates",
          "Canada, United States, Ireland",
          "Japan, Canada, United States",
          "Spain, France, Canada",
          "Denmark, Singapore, Canada, United States",
          "United States, France, Denmark",
          "United States, China, Colombia",
          "Spain, Thailand, United States",
          "Ireland, Luxembourg, Belgium",
          "Canada, Belgium",
          "Lebanon, United Arab Emirates, France, Switzerland, Germany",
          "France, Belgium, Italy",
          "Lebanon, United States, United Arab Emirates",
          "Lebanon, France",
          "France, Lebanon",
          "France, Lebanon, United Kingdom",
          "United States, China, Canada",
          "United States, Malta, France, United Kingdom",
          "United Kingdom, Singapore",
          "Canada, Hungary, United States",
          "United States, Cambodia, Romania",
          "Spain, Belgium, United States",
          "Portugal, United States",
          "United Kingdom, Spain, United States",
          "Hungary, United States",
          "Canada, United States, Cayman Islands",
          "United Kingdom, Germany, France, United States",
          "United States, Ireland, United Kingdom, India",
          "Senegal",
          "France, Algeria",
          "United Kingdom, Finland, Germany, United States, Australia, Japan, France, Ireland",
          "Philippines, Canada, United Kingdom, United States",
          "Ireland, France, Iceland, United States, Mexico, Belgium, United Kingdom, Hong Kong",
          "United States, France, Serbia",
          "France, Norway, Lebanon, Belgium",
          "Sweden, Czech Republic, United Kingdom, Denmark, Netherlands",
          "United States, United Kingdom, India",
          "Spain, France, Canada, United States",
          "China, Spain, South Korea, United States",
          "France, Belgium, Luxembourg, Cambodia,",
          "United Kingdom, Australia",
          "Belarus",
          "Indonesia, United Kingdom",
          "Switzerland, France, Belgium, United States",
          "Chile, Italy",
          "Peru, Germany, Norway",
          "France, Brazil, Spain, Belgium",
          "Egypt, Algeria",
          "Canada, South Korea, United States",
          "Nigeria, United Kingdom",
          "United States, France, Canada",
          "United Arab Emirates, Jordan, Lebanon, Saudi Arabia",
          "Mozambique",
          "United States, Canada, United Kingdom",
          "Indonesia, Netherlands",
          "United Kingdom, China",
          "Turkey, South Korea",
          "Namibia",
          "United Kingdom, Kenya",
          "United Kingdom, France, Germany, Spain",
          "United Kingdom, France, United States, Belgium, Luxembourg, China, Germany",
          "United States, France, Canada, Belgium",
          "Germany, China, United Kingdom",
          "United States, United Kingdom, Canada, China",
          "Australia, New Zealand, United States",
          "Hong Kong, Iceland, United States",
          "France, Australia, Germany",
          "United States, Belgium, Canada, France",
          "South Africa, Angola",
          "United States, Philippines",
          "Luxembourg",
          "Chile, Brazil",
          "India, United Kingdom, France, Qatar",
          "Kuwait, United States",
          "Spain, France, United Kingdom, United States",
          ", France, Algeria",
          "France, Israel, Germany, United States, United Kingdom",
          "Egypt, Denmark, Germany",
          "United States, Switzerland",
          "Hong Kong, Canada, United States",
          "France, Canada, United States, Spain",
          "Switzerland, United Kingdom, Australia",
          "France, Netherlands, Singapore",
          "Ireland, United States, United Kingdom",
          "Australia, New Zealand",
          "South Korea, Czech Republic",
          "Australia, Germany",
          "United Kingdom, Australia, United States",
          "Spain, United Kingdom, United States",
          "Belgium, United Kingdom",
          "United Kingdom, United States, France, Italy",
          "United Kingdom, Australia, France",
          "United States, Ghana, Burkina Faso, United Kingdom, Germany, Ethiopia",
          "United States, India, France",
          "Finland",
          "South Africa, United States, Japan",
          "Spain, United States",
          "United States, Singapore",
          "United Kingdom, Australia, France, United States",
          "Italy, Brazil, Greece",
          "United States, Italy, France, Japan",
          "United States, Italy, Romania, United Kingdom",
          "Argentina, Venezuela",
          ", South Korea",
          "India, Nepal",
          "New Zealand, Australia, France, United States",
          "United Kingdom, Germany, Spain, United States",
          "United States, France, Italy, United Kingdom",
          "United States, India, United Kingdom",
          "Lebanon, Palestine, Denmark, Qatar",
          "Canada, United States, Mexico",
          "Czech Republic, United Kingdom, United States",
          "Italy, United Kingdom",
          "United States, Brazil, Japan, Spain, India",
          "United States, China, United Kingdom",
          "Cameroon",
          "Uruguay, Germany",
          "France, United States, United Kingdom, Canada",
          "Egypt, Saudi Arabia",
          "United Kingdom, France, Poland, Germany, United States",
          "Ireland, Switzerland, United Kingdom, France, United States",
          "United Kingdom, South Africa, France",
          "Ireland, United Kingdom, France, Germany",
          "Russia, United States",
          "France, United Kingdom",
          "Canada, Nigeria, United States",
          "United States, United Kingdom, Germany, Hungary",
          "Mexico, France, Colombia",
          "Finland, Germany",
          "Lebanon, Syria",
          "Philippines, Singapore, Indonesia",
          "China, United States, Canada",
          "Lebanon, United Arab Emirates",
          "Canada, United States, Denmark",
          "Germany, United States, France",
          "United States, United Kingdom, New Zealand",
          "Norway, Denmark",
          "Syria, France, Lebanon, Qatar",
          "Mauritius",
          "Mexico, Brazil",
          "Germany, France",
          "United Kingdom, France, Spain, United States",
          "United States, Mexico, Spain, Malta",
          "Zimbabwe",
          "Georgia, Germany, France",
          "United Kingdom, Germany, United Arab Emirates, New Zealand",
          "United Kingdom, Ireland, United States",
          "Canada, Germany, France, United States",
          "United Kingdom, Japan",
          "Norway, Denmark, Netherlands, Sweden",
          "Ireland, Canada",
          "Italy, Switzerland, France, Germany",
          "Mexico, Netherlands",
          "Germany, France, Russia",
          "France, Iran, United States",
          "Russia, Poland, Serbia",
          "Spain, Portugal",
          "Mexico, Argentina",
          "United Kingdom, Canada, United States, Cayman Islands",
          "Indonesia, United States",
          "United States, Israel, United Kingdom, Canada",
          "Uruguay, Argentina, Spain",
          "Croatia",
          "Iceland, Sweden, Belgium",
          "Mexico, Finland",
          "Denmark, Spain",
          "Chile, Argentina",
          "Canada, Brazil",
          "Canada, Germany",
          "Pakistan, United Arab Emirates",
          "Ghana, United States",
          "United Arab Emirates, United Kingdom, India",
          "Spain, Belgium",
          "United States, Taiwan",
          "Austria, Iraq, United States",
          "United Kingdom, Malawi",
          "Paraguay, Argentina",
          "United Kingdom, Russia, United States",
          "India, Pakistan",
          "United Kingdom, West Germany",
          "India, Australia",
          "United States,",
          "Netherlands, Belgium, Germany, Jordan",
          "Spain, Colombia",
          "United Kingdom, South Africa, Australia, United States",
          "Bulgaria",
          "Argentina, Brazil, France, Poland, Germany, Denmark",
          "United Kingdom, Spain, United States, Germany",
          "Philippines, Qatar",
          "Norway, Germany, Sweden",
          "Saudi Arabia, Syria, Egypt, Lebanon, Kuwait",
          "South Korea, China",
          "Georgia",
          "Soviet Union, India",
          "Canada, Germany, South Africa",
          "South Korea, China, United States",
          "India, Mexico",
          "United States, Canada, Indonesia, United Kingdom, China, Singapore",
          "Italy, United States, Argentina",
          "Belgium, United Kingdom, United States",
          "China, United States, Australia",
          "India, Germany, Austria",
          "United States, Brazil, South Korea, Mexico, Japan, Germany",
          "China, Japan",
          "Argentina, France",
          "China, United States, United Kingdom",
          "France, Luxembourg, United States",
          "Colombia, Mexico",
          "Cambodia",
          "United States, Canada, Ireland",
          "Chile, Peru",
          "Argentina, Italy",
          "Canada, Japan, United States",
          "United Kingdom, Canada, United States, Germany",
          "Italy, Switzerland, Albania, Poland",
          "France, Luxembourg, Canada",
          "Uruguay, Spain, Mexico",
          "Argentina, United States",
          "France, Malta, United States",
          "Austria, Germany",
          "Taiwan, China",
          "United Kingdom, United States, Ireland",
          "Brazil, United Kingdom",
          "Romania, France, Switzerland, Germany",
          "Romania, United Kingdom",
          "Cyprus",
          "United Kingdom, France, Belgium, Canada, United States",
          "United Kingdom, France, Belgium, Ireland, United States",
          "United States, Norway, Canada",
          "Kenya, United States",
          "France, South Korea, Japan, United States",
          "Taiwan, Malaysia",
          "Uruguay, Argentina, Germany, Spain",
          "Netherlands, Germany, Denmark, United Kingdom",
          "United States, United Kingdom, Japan",
          "Spain, France, United States",
          "India, United Kingdom, China, Canada, Japan, South Korea, United States",
          "Romania, United States",
          "Canada, Nigeria",
          "Saudi Arabia, Netherlands, Germany, Jordan, United Arab Emirates, United States",
          "United Kingdom, Spain",
          "Finland, France",
          "United Kingdom, Germany, United States, France",
          "Italy, United Kingdom, France",
          "Uruguay, Argentina",
          "United States, Mexico, Colombia",
          "Turkey, India",
          "Italy, Turkey",
          "United Kingdom, United States, Japan",
          "France, Belgium, United States",
          "Puerto Rico, United States, Colombia",
          "United States, United Kingdom, France, Germany, Japan",
          "Indonesia, South Korea, Singapore",
          "Thailand, China, United States",
          "Brazil, United States",
          "United Kingdom, Hungary, Australia",
          "Italy, Belgium",
          "Singapore, Malaysia",
          "France, Belgium, Luxembourg, Romania, Canada, United States",
          "South Africa, Nigeria",
          "United Kingdom, Hong Kong",
          "Denmark, Brazil, France, Portugal, Sweden",
          "Argentina, United States, Mexico",
          "India, Turkey",
          "Malaysia, Singapore, Hong Kong",
          "Philippines, Singapore",
          "Taiwan, China, France, United States",
          "Germany, Italy",
          "Colombia, Peru, United Kingdom",
          "United States, South Korea, Japan",
          "Finland, Germany, Belgium",
          "Netherlands, Germany, Italy, Canada",
          "United States, Poland",
          "Spain, Germany, Denmark, United States",
          "Norway, Sweden",
          "South Korea, Canada, United States, China",
          "Argentina, Uruguay, Serbia",
          "France, Japan",
          "Mauritius, South Africa",
          "United Kingdom, United States, Germany, Denmark, Belgium, Japan",
          "Canada, Norway",
          "India, United Kingdom, Canada, United States",
          "Philippines, United States",
          "Romania, Bulgaria, Hungary",
          "Uruguay, Guatemala",
          "France, Senegal, Belgium",
          "Mexico, United States, Spain, Colombia",
          "United Arab Emirates, Jordan"
         ],
         "name": "",
         "type": "choropleth",
         "z": [
          2818,
          972,
          419,
          245,
          199,
          181,
          145,
          124,
          110,
          106,
          105,
          95,
          87,
          81,
          79,
          77,
          75,
          75,
          73,
          67,
          66,
          61,
          56,
          53,
          47,
          45,
          45,
          35,
          30,
          27,
          24,
          23,
          22,
          19,
          18,
          17,
          16,
          16,
          16,
          15,
          15,
          14,
          14,
          14,
          14,
          13,
          13,
          13,
          13,
          13,
          13,
          12,
          12,
          11,
          11,
          10,
          10,
          10,
          9,
          9,
          8,
          8,
          8,
          8,
          7,
          7,
          6,
          6,
          6,
          6,
          5,
          5,
          5,
          5,
          5,
          5,
          5,
          5,
          5,
          4,
          4,
          4,
          4,
          4,
          4,
          4,
          4,
          4,
          4,
          4,
          4,
          4,
          4,
          4,
          4,
          4,
          3,
          3,
          3,
          3,
          3,
          3,
          3,
          3,
          3,
          3,
          3,
          3,
          3,
          3,
          3,
          3,
          3,
          3,
          3,
          3,
          3,
          3,
          3,
          3,
          3,
          2,
          2,
          2,
          2,
          2,
          2,
          2,
          2,
          2,
          2,
          2,
          2,
          2,
          2,
          2,
          2,
          2,
          2,
          2,
          2,
          2,
          2,
          2,
          2,
          2,
          2,
          2,
          2,
          2,
          2,
          2,
          2,
          2,
          2,
          2,
          2,
          2,
          2,
          2,
          2,
          2,
          2,
          2,
          2,
          2,
          2,
          2,
          2,
          2,
          2,
          2,
          2,
          2,
          2,
          2,
          2,
          2,
          2,
          2,
          2,
          2,
          2,
          2,
          2,
          1,
          1,
          1,
          1,
          1,
          1,
          1,
          1,
          1,
          1,
          1,
          1,
          1,
          1,
          1,
          1,
          1,
          1,
          1,
          1,
          1,
          1,
          1,
          1,
          1,
          1,
          1,
          1,
          1,
          1,
          1,
          1,
          1,
          1,
          1,
          1,
          1,
          1,
          1,
          1,
          1,
          1,
          1,
          1,
          1,
          1,
          1,
          1,
          1,
          1,
          1,
          1,
          1,
          1,
          1,
          1,
          1,
          1,
          1,
          1,
          1,
          1,
          1,
          1,
          1,
          1,
          1,
          1,
          1,
          1,
          1,
          1,
          1,
          1,
          1,
          1,
          1,
          1,
          1,
          1,
          1,
          1,
          1,
          1,
          1,
          1,
          1,
          1,
          1,
          1,
          1,
          1,
          1,
          1,
          1,
          1,
          1,
          1,
          1,
          1,
          1,
          1,
          1,
          1,
          1,
          1,
          1,
          1,
          1,
          1,
          1,
          1,
          1,
          1,
          1,
          1,
          1,
          1,
          1,
          1,
          1,
          1,
          1,
          1,
          1,
          1,
          1,
          1,
          1,
          1,
          1,
          1,
          1,
          1,
          1,
          1,
          1,
          1,
          1,
          1,
          1,
          1,
          1,
          1,
          1,
          1,
          1,
          1,
          1,
          1,
          1,
          1,
          1,
          1,
          1,
          1,
          1,
          1,
          1,
          1,
          1,
          1,
          1,
          1,
          1,
          1,
          1,
          1,
          1,
          1,
          1,
          1,
          1,
          1,
          1,
          1,
          1,
          1,
          1,
          1,
          1,
          1,
          1,
          1,
          1,
          1,
          1,
          1,
          1,
          1,
          1,
          1,
          1,
          1,
          1,
          1,
          1,
          1,
          1,
          1,
          1,
          1,
          1,
          1,
          1,
          1,
          1,
          1,
          1,
          1,
          1,
          1,
          1,
          1,
          1,
          1,
          1,
          1,
          1,
          1,
          1,
          1,
          1,
          1,
          1,
          1,
          1,
          1,
          1,
          1,
          1,
          1,
          1,
          1,
          1,
          1,
          1,
          1,
          1,
          1,
          1,
          1,
          1,
          1,
          1,
          1,
          1,
          1,
          1,
          1,
          1,
          1,
          1,
          1,
          1,
          1,
          1,
          1,
          1,
          1,
          1,
          1,
          1,
          1,
          1,
          1,
          1,
          1,
          1,
          1,
          1,
          1,
          1,
          1,
          1,
          1,
          1,
          1,
          1,
          1,
          1,
          1,
          1,
          1,
          1,
          1,
          1,
          1,
          1,
          1,
          1,
          1,
          1,
          1,
          1,
          1,
          1,
          1,
          1,
          1,
          1,
          1,
          1,
          1,
          1,
          1,
          1,
          1,
          1,
          1,
          1,
          1,
          1,
          1,
          1,
          1,
          1,
          1,
          1,
          1,
          1,
          1,
          1,
          1,
          1,
          1,
          1,
          1,
          1,
          1,
          1,
          1,
          1,
          1,
          1,
          1,
          1,
          1,
          1,
          1,
          1,
          1,
          1,
          1,
          1,
          1,
          1,
          1,
          1,
          1,
          1,
          1,
          1,
          1,
          1,
          1,
          1,
          1,
          1,
          1,
          1,
          1,
          1,
          1,
          1,
          1,
          1,
          1,
          1,
          1,
          1,
          1,
          1,
          1,
          1,
          1,
          1,
          1,
          1,
          1,
          1,
          1,
          1,
          1,
          1,
          1,
          1,
          1,
          1,
          1,
          1,
          1,
          1,
          1,
          1,
          1,
          1,
          1,
          1,
          1,
          1,
          1,
          1,
          1,
          1,
          1,
          1,
          1,
          1,
          1,
          1,
          1,
          1,
          1,
          1,
          1,
          1,
          1,
          1,
          1,
          1,
          1,
          1,
          1,
          1,
          1,
          1,
          1,
          1,
          1,
          1,
          1,
          1,
          1,
          1,
          1,
          1,
          1,
          1,
          1,
          1,
          1,
          1,
          1,
          1,
          1,
          1,
          1,
          1,
          1,
          1,
          1,
          1,
          1,
          1,
          1,
          1,
          1,
          1,
          1,
          1,
          1,
          1,
          1,
          1,
          1,
          1,
          1,
          1,
          1,
          1,
          1,
          1,
          1,
          1,
          1,
          1,
          1,
          1,
          1,
          1,
          1,
          1,
          1,
          1,
          1,
          1,
          1,
          1,
          1,
          1,
          1,
          1,
          1,
          1,
          1,
          1,
          1,
          1,
          1,
          1,
          1,
          1,
          1,
          1,
          1,
          1,
          1,
          1,
          1,
          1,
          1,
          1,
          1,
          1,
          1,
          1,
          1,
          1,
          1,
          1,
          1,
          1,
          1,
          1,
          1,
          1,
          1,
          1,
          1,
          1,
          1,
          1,
          1,
          1,
          1,
          1,
          1,
          1,
          1,
          1,
          1,
          1,
          1,
          1,
          1,
          1,
          1,
          1,
          1,
          1,
          1,
          1,
          1,
          1,
          1,
          1,
          1,
          1,
          1,
          1,
          1,
          1
         ]
        }
       ],
       "layout": {
        "coloraxis": {
         "colorbar": {
          "title": {
           "text": "count"
          }
         },
         "colorscale": [
          [
           0,
           "#0d0887"
          ],
          [
           0.1111111111111111,
           "#46039f"
          ],
          [
           0.2222222222222222,
           "#7201a8"
          ],
          [
           0.3333333333333333,
           "#9c179e"
          ],
          [
           0.4444444444444444,
           "#bd3786"
          ],
          [
           0.5555555555555556,
           "#d8576b"
          ],
          [
           0.6666666666666666,
           "#ed7953"
          ],
          [
           0.7777777777777778,
           "#fb9f3a"
          ],
          [
           0.8888888888888888,
           "#fdca26"
          ],
          [
           1,
           "#f0f921"
          ]
         ]
        },
        "geo": {
         "center": {},
         "domain": {
          "x": [
           0,
           1
          ],
          "y": [
           0,
           1
          ]
         }
        },
        "legend": {
         "tracegroupgap": 0
        },
        "template": {
         "data": {
          "bar": [
           {
            "error_x": {
             "color": "#2a3f5f"
            },
            "error_y": {
             "color": "#2a3f5f"
            },
            "marker": {
             "line": {
              "color": "#E5ECF6",
              "width": 0.5
             },
             "pattern": {
              "fillmode": "overlay",
              "size": 10,
              "solidity": 0.2
             }
            },
            "type": "bar"
           }
          ],
          "barpolar": [
           {
            "marker": {
             "line": {
              "color": "#E5ECF6",
              "width": 0.5
             },
             "pattern": {
              "fillmode": "overlay",
              "size": 10,
              "solidity": 0.2
             }
            },
            "type": "barpolar"
           }
          ],
          "carpet": [
           {
            "aaxis": {
             "endlinecolor": "#2a3f5f",
             "gridcolor": "white",
             "linecolor": "white",
             "minorgridcolor": "white",
             "startlinecolor": "#2a3f5f"
            },
            "baxis": {
             "endlinecolor": "#2a3f5f",
             "gridcolor": "white",
             "linecolor": "white",
             "minorgridcolor": "white",
             "startlinecolor": "#2a3f5f"
            },
            "type": "carpet"
           }
          ],
          "choropleth": [
           {
            "colorbar": {
             "outlinewidth": 0,
             "ticks": ""
            },
            "type": "choropleth"
           }
          ],
          "contour": [
           {
            "colorbar": {
             "outlinewidth": 0,
             "ticks": ""
            },
            "colorscale": [
             [
              0,
              "#0d0887"
             ],
             [
              0.1111111111111111,
              "#46039f"
             ],
             [
              0.2222222222222222,
              "#7201a8"
             ],
             [
              0.3333333333333333,
              "#9c179e"
             ],
             [
              0.4444444444444444,
              "#bd3786"
             ],
             [
              0.5555555555555556,
              "#d8576b"
             ],
             [
              0.6666666666666666,
              "#ed7953"
             ],
             [
              0.7777777777777778,
              "#fb9f3a"
             ],
             [
              0.8888888888888888,
              "#fdca26"
             ],
             [
              1,
              "#f0f921"
             ]
            ],
            "type": "contour"
           }
          ],
          "contourcarpet": [
           {
            "colorbar": {
             "outlinewidth": 0,
             "ticks": ""
            },
            "type": "contourcarpet"
           }
          ],
          "heatmap": [
           {
            "colorbar": {
             "outlinewidth": 0,
             "ticks": ""
            },
            "colorscale": [
             [
              0,
              "#0d0887"
             ],
             [
              0.1111111111111111,
              "#46039f"
             ],
             [
              0.2222222222222222,
              "#7201a8"
             ],
             [
              0.3333333333333333,
              "#9c179e"
             ],
             [
              0.4444444444444444,
              "#bd3786"
             ],
             [
              0.5555555555555556,
              "#d8576b"
             ],
             [
              0.6666666666666666,
              "#ed7953"
             ],
             [
              0.7777777777777778,
              "#fb9f3a"
             ],
             [
              0.8888888888888888,
              "#fdca26"
             ],
             [
              1,
              "#f0f921"
             ]
            ],
            "type": "heatmap"
           }
          ],
          "heatmapgl": [
           {
            "colorbar": {
             "outlinewidth": 0,
             "ticks": ""
            },
            "colorscale": [
             [
              0,
              "#0d0887"
             ],
             [
              0.1111111111111111,
              "#46039f"
             ],
             [
              0.2222222222222222,
              "#7201a8"
             ],
             [
              0.3333333333333333,
              "#9c179e"
             ],
             [
              0.4444444444444444,
              "#bd3786"
             ],
             [
              0.5555555555555556,
              "#d8576b"
             ],
             [
              0.6666666666666666,
              "#ed7953"
             ],
             [
              0.7777777777777778,
              "#fb9f3a"
             ],
             [
              0.8888888888888888,
              "#fdca26"
             ],
             [
              1,
              "#f0f921"
             ]
            ],
            "type": "heatmapgl"
           }
          ],
          "histogram": [
           {
            "marker": {
             "pattern": {
              "fillmode": "overlay",
              "size": 10,
              "solidity": 0.2
             }
            },
            "type": "histogram"
           }
          ],
          "histogram2d": [
           {
            "colorbar": {
             "outlinewidth": 0,
             "ticks": ""
            },
            "colorscale": [
             [
              0,
              "#0d0887"
             ],
             [
              0.1111111111111111,
              "#46039f"
             ],
             [
              0.2222222222222222,
              "#7201a8"
             ],
             [
              0.3333333333333333,
              "#9c179e"
             ],
             [
              0.4444444444444444,
              "#bd3786"
             ],
             [
              0.5555555555555556,
              "#d8576b"
             ],
             [
              0.6666666666666666,
              "#ed7953"
             ],
             [
              0.7777777777777778,
              "#fb9f3a"
             ],
             [
              0.8888888888888888,
              "#fdca26"
             ],
             [
              1,
              "#f0f921"
             ]
            ],
            "type": "histogram2d"
           }
          ],
          "histogram2dcontour": [
           {
            "colorbar": {
             "outlinewidth": 0,
             "ticks": ""
            },
            "colorscale": [
             [
              0,
              "#0d0887"
             ],
             [
              0.1111111111111111,
              "#46039f"
             ],
             [
              0.2222222222222222,
              "#7201a8"
             ],
             [
              0.3333333333333333,
              "#9c179e"
             ],
             [
              0.4444444444444444,
              "#bd3786"
             ],
             [
              0.5555555555555556,
              "#d8576b"
             ],
             [
              0.6666666666666666,
              "#ed7953"
             ],
             [
              0.7777777777777778,
              "#fb9f3a"
             ],
             [
              0.8888888888888888,
              "#fdca26"
             ],
             [
              1,
              "#f0f921"
             ]
            ],
            "type": "histogram2dcontour"
           }
          ],
          "mesh3d": [
           {
            "colorbar": {
             "outlinewidth": 0,
             "ticks": ""
            },
            "type": "mesh3d"
           }
          ],
          "parcoords": [
           {
            "line": {
             "colorbar": {
              "outlinewidth": 0,
              "ticks": ""
             }
            },
            "type": "parcoords"
           }
          ],
          "pie": [
           {
            "automargin": true,
            "type": "pie"
           }
          ],
          "scatter": [
           {
            "fillpattern": {
             "fillmode": "overlay",
             "size": 10,
             "solidity": 0.2
            },
            "type": "scatter"
           }
          ],
          "scatter3d": [
           {
            "line": {
             "colorbar": {
              "outlinewidth": 0,
              "ticks": ""
             }
            },
            "marker": {
             "colorbar": {
              "outlinewidth": 0,
              "ticks": ""
             }
            },
            "type": "scatter3d"
           }
          ],
          "scattercarpet": [
           {
            "marker": {
             "colorbar": {
              "outlinewidth": 0,
              "ticks": ""
             }
            },
            "type": "scattercarpet"
           }
          ],
          "scattergeo": [
           {
            "marker": {
             "colorbar": {
              "outlinewidth": 0,
              "ticks": ""
             }
            },
            "type": "scattergeo"
           }
          ],
          "scattergl": [
           {
            "marker": {
             "colorbar": {
              "outlinewidth": 0,
              "ticks": ""
             }
            },
            "type": "scattergl"
           }
          ],
          "scattermapbox": [
           {
            "marker": {
             "colorbar": {
              "outlinewidth": 0,
              "ticks": ""
             }
            },
            "type": "scattermapbox"
           }
          ],
          "scatterpolar": [
           {
            "marker": {
             "colorbar": {
              "outlinewidth": 0,
              "ticks": ""
             }
            },
            "type": "scatterpolar"
           }
          ],
          "scatterpolargl": [
           {
            "marker": {
             "colorbar": {
              "outlinewidth": 0,
              "ticks": ""
             }
            },
            "type": "scatterpolargl"
           }
          ],
          "scatterternary": [
           {
            "marker": {
             "colorbar": {
              "outlinewidth": 0,
              "ticks": ""
             }
            },
            "type": "scatterternary"
           }
          ],
          "surface": [
           {
            "colorbar": {
             "outlinewidth": 0,
             "ticks": ""
            },
            "colorscale": [
             [
              0,
              "#0d0887"
             ],
             [
              0.1111111111111111,
              "#46039f"
             ],
             [
              0.2222222222222222,
              "#7201a8"
             ],
             [
              0.3333333333333333,
              "#9c179e"
             ],
             [
              0.4444444444444444,
              "#bd3786"
             ],
             [
              0.5555555555555556,
              "#d8576b"
             ],
             [
              0.6666666666666666,
              "#ed7953"
             ],
             [
              0.7777777777777778,
              "#fb9f3a"
             ],
             [
              0.8888888888888888,
              "#fdca26"
             ],
             [
              1,
              "#f0f921"
             ]
            ],
            "type": "surface"
           }
          ],
          "table": [
           {
            "cells": {
             "fill": {
              "color": "#EBF0F8"
             },
             "line": {
              "color": "white"
             }
            },
            "header": {
             "fill": {
              "color": "#C8D4E3"
             },
             "line": {
              "color": "white"
             }
            },
            "type": "table"
           }
          ]
         },
         "layout": {
          "annotationdefaults": {
           "arrowcolor": "#2a3f5f",
           "arrowhead": 0,
           "arrowwidth": 1
          },
          "autotypenumbers": "strict",
          "coloraxis": {
           "colorbar": {
            "outlinewidth": 0,
            "ticks": ""
           }
          },
          "colorscale": {
           "diverging": [
            [
             0,
             "#8e0152"
            ],
            [
             0.1,
             "#c51b7d"
            ],
            [
             0.2,
             "#de77ae"
            ],
            [
             0.3,
             "#f1b6da"
            ],
            [
             0.4,
             "#fde0ef"
            ],
            [
             0.5,
             "#f7f7f7"
            ],
            [
             0.6,
             "#e6f5d0"
            ],
            [
             0.7,
             "#b8e186"
            ],
            [
             0.8,
             "#7fbc41"
            ],
            [
             0.9,
             "#4d9221"
            ],
            [
             1,
             "#276419"
            ]
           ],
           "sequential": [
            [
             0,
             "#0d0887"
            ],
            [
             0.1111111111111111,
             "#46039f"
            ],
            [
             0.2222222222222222,
             "#7201a8"
            ],
            [
             0.3333333333333333,
             "#9c179e"
            ],
            [
             0.4444444444444444,
             "#bd3786"
            ],
            [
             0.5555555555555556,
             "#d8576b"
            ],
            [
             0.6666666666666666,
             "#ed7953"
            ],
            [
             0.7777777777777778,
             "#fb9f3a"
            ],
            [
             0.8888888888888888,
             "#fdca26"
            ],
            [
             1,
             "#f0f921"
            ]
           ],
           "sequentialminus": [
            [
             0,
             "#0d0887"
            ],
            [
             0.1111111111111111,
             "#46039f"
            ],
            [
             0.2222222222222222,
             "#7201a8"
            ],
            [
             0.3333333333333333,
             "#9c179e"
            ],
            [
             0.4444444444444444,
             "#bd3786"
            ],
            [
             0.5555555555555556,
             "#d8576b"
            ],
            [
             0.6666666666666666,
             "#ed7953"
            ],
            [
             0.7777777777777778,
             "#fb9f3a"
            ],
            [
             0.8888888888888888,
             "#fdca26"
            ],
            [
             1,
             "#f0f921"
            ]
           ]
          },
          "colorway": [
           "#636efa",
           "#EF553B",
           "#00cc96",
           "#ab63fa",
           "#FFA15A",
           "#19d3f3",
           "#FF6692",
           "#B6E880",
           "#FF97FF",
           "#FECB52"
          ],
          "font": {
           "color": "#2a3f5f"
          },
          "geo": {
           "bgcolor": "white",
           "lakecolor": "white",
           "landcolor": "#E5ECF6",
           "showlakes": true,
           "showland": true,
           "subunitcolor": "white"
          },
          "hoverlabel": {
           "align": "left"
          },
          "hovermode": "closest",
          "mapbox": {
           "style": "light"
          },
          "paper_bgcolor": "white",
          "plot_bgcolor": "#E5ECF6",
          "polar": {
           "angularaxis": {
            "gridcolor": "white",
            "linecolor": "white",
            "ticks": ""
           },
           "bgcolor": "#E5ECF6",
           "radialaxis": {
            "gridcolor": "white",
            "linecolor": "white",
            "ticks": ""
           }
          },
          "scene": {
           "xaxis": {
            "backgroundcolor": "#E5ECF6",
            "gridcolor": "white",
            "gridwidth": 2,
            "linecolor": "white",
            "showbackground": true,
            "ticks": "",
            "zerolinecolor": "white"
           },
           "yaxis": {
            "backgroundcolor": "#E5ECF6",
            "gridcolor": "white",
            "gridwidth": 2,
            "linecolor": "white",
            "showbackground": true,
            "ticks": "",
            "zerolinecolor": "white"
           },
           "zaxis": {
            "backgroundcolor": "#E5ECF6",
            "gridcolor": "white",
            "gridwidth": 2,
            "linecolor": "white",
            "showbackground": true,
            "ticks": "",
            "zerolinecolor": "white"
           }
          },
          "shapedefaults": {
           "line": {
            "color": "#2a3f5f"
           }
          },
          "ternary": {
           "aaxis": {
            "gridcolor": "white",
            "linecolor": "white",
            "ticks": ""
           },
           "baxis": {
            "gridcolor": "white",
            "linecolor": "white",
            "ticks": ""
           },
           "bgcolor": "#E5ECF6",
           "caxis": {
            "gridcolor": "white",
            "linecolor": "white",
            "ticks": ""
           }
          },
          "title": {
           "x": 0.05
          },
          "xaxis": {
           "automargin": true,
           "gridcolor": "white",
           "linecolor": "white",
           "ticks": "",
           "title": {
            "standoff": 15
           },
           "zerolinecolor": "white",
           "zerolinewidth": 2
          },
          "yaxis": {
           "automargin": true,
           "gridcolor": "white",
           "linecolor": "white",
           "ticks": "",
           "title": {
            "standoff": 15
           },
           "zerolinecolor": "white",
           "zerolinewidth": 2
          }
         }
        },
        "title": {
         "text": "Country-wise Content Production"
        }
       }
      }
     },
     "metadata": {},
     "output_type": "display_data"
    }
   ],
   "source": [
    "country_counts = df['country'].value_counts().reset_index()\n",
    "country_counts.columns = ['country', 'count']\n",
    "fig = px.choropleth(country_counts, locations='country', locationmode='country names', color='count',\n",
    "                    title='Country-wise Content Production')\n",
    "fig.show()\n"
   ]
  },
  {
   "cell_type": "markdown",
   "metadata": {},
   "source": [
    "# Word Cloud of Titles: \n",
    "    \n",
    "    Create a word cloud visualization of the titles of the content available on Netflix."
   ]
  },
  {
   "cell_type": "code",
   "execution_count": 29,
   "metadata": {},
   "outputs": [
    {
     "ename": "ModuleNotFoundError",
     "evalue": "No module named 'wordcloud'",
     "output_type": "error",
     "traceback": [
      "\u001b[1;31m---------------------------------------------------------------------------\u001b[0m",
      "\u001b[1;31mModuleNotFoundError\u001b[0m                       Traceback (most recent call last)",
      "Cell \u001b[1;32mIn[29], line 1\u001b[0m\n\u001b[1;32m----> 1\u001b[0m \u001b[38;5;28;01mfrom\u001b[39;00m \u001b[38;5;21;01mwordcloud\u001b[39;00m \u001b[38;5;28;01mimport\u001b[39;00m WordCloud\n\u001b[0;32m      2\u001b[0m \u001b[38;5;28;01mimport\u001b[39;00m \u001b[38;5;21;01mmatplotlib\u001b[39;00m\u001b[38;5;21;01m.\u001b[39;00m\u001b[38;5;21;01mpyplot\u001b[39;00m \u001b[38;5;28;01mas\u001b[39;00m \u001b[38;5;21;01mplt\u001b[39;00m\n\u001b[0;32m      4\u001b[0m wordcloud \u001b[38;5;241m=\u001b[39m WordCloud(background_color\u001b[38;5;241m=\u001b[39m\u001b[38;5;124m'\u001b[39m\u001b[38;5;124mwhite\u001b[39m\u001b[38;5;124m'\u001b[39m)\u001b[38;5;241m.\u001b[39mgenerate(\u001b[38;5;124m'\u001b[39m\u001b[38;5;124m \u001b[39m\u001b[38;5;124m'\u001b[39m\u001b[38;5;241m.\u001b[39mjoin(df[\u001b[38;5;124m'\u001b[39m\u001b[38;5;124mtitle\u001b[39m\u001b[38;5;124m'\u001b[39m]))\n",
      "\u001b[1;31mModuleNotFoundError\u001b[0m: No module named 'wordcloud'"
     ]
    }
   ],
   "source": [
    "from wordcloud import WordCloud\n",
    "import matplotlib.pyplot as plt\n",
    "\n",
    "wordcloud = WordCloud(background_color='white').generate(' '.join(df['title']))\n",
    "plt.figure(figsize=(10, 6))\n",
    "plt.imshow(wordcloud, interpolation='bilinear')\n",
    "plt.title('Word Cloud of Titles')\n",
    "plt.axis('off')\n",
    "plt.show()\n"
   ]
  }
 ],
 "metadata": {
  "colab": {
   "provenance": []
  },
  "kernelspec": {
   "display_name": "Python 3 (ipykernel)",
   "language": "python",
   "name": "python3"
  },
  "language_info": {
   "codemirror_mode": {
    "name": "ipython",
    "version": 3
   },
   "file_extension": ".py",
   "mimetype": "text/x-python",
   "name": "python",
   "nbconvert_exporter": "python",
   "pygments_lexer": "ipython3",
   "version": "3.11.2"
  }
 },
 "nbformat": 4,
 "nbformat_minor": 1
}
